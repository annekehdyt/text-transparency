{
 "cells": [
  {
   "cell_type": "code",
   "execution_count": 39,
   "metadata": {},
   "outputs": [],
   "source": [
    "# Reference : \n",
    "# https://richliao.github.io/supervised/classification/2016/11/26/textclassifier-convolutional/\n",
    "\n",
    "import sys\n",
    "import os\n",
    "\n",
    "# os.environ['THEANO_FLAGS'] = \"device=cuda*\"\n",
    "os.environ['KERAS_BACKEND']='tensorflow'\n",
    "os.environ['MKL_THREADING_LAYER']='GNU'\n",
    "\n",
    "import numpy as np\n",
    "import pandas as pd\n",
    "from collections import defaultdict\n",
    "import re"
   ]
  },
  {
   "cell_type": "code",
   "execution_count": 40,
   "metadata": {
    "scrolled": true
   },
   "outputs": [
    {
     "ename": "HTTPError",
     "evalue": "HTTP Error 404: Not Found",
     "output_type": "error",
     "traceback": [
      "\u001b[1;31m---------------------------------------------------------------------------\u001b[0m",
      "\u001b[1;31mHTTPError\u001b[0m                                 Traceback (most recent call last)",
      "\u001b[1;32m<ipython-input-40-c0e24314c8ad>\u001b[0m in \u001b[0;36m<module>\u001b[1;34m()\u001b[0m\n\u001b[0;32m      6\u001b[0m \u001b[0mparams\u001b[0m \u001b[1;33m=\u001b[0m \u001b[0murllib\u001b[0m\u001b[1;33m.\u001b[0m\u001b[0mparse\u001b[0m\u001b[1;33m.\u001b[0m\u001b[0murlencode\u001b[0m\u001b[1;33m(\u001b[0m\u001b[0mdata\u001b[0m\u001b[1;33m)\u001b[0m\u001b[1;33m\u001b[0m\u001b[0m\n\u001b[0;32m      7\u001b[0m \u001b[0murl\u001b[0m \u001b[1;33m=\u001b[0m \u001b[1;34m\"http://138.197.118.157:8000/segbot/api/?%s\"\u001b[0m \u001b[1;33m%\u001b[0m \u001b[0mparams\u001b[0m\u001b[1;33m\u001b[0m\u001b[0m\n\u001b[1;32m----> 8\u001b[1;33m \u001b[0mresponse\u001b[0m \u001b[1;33m=\u001b[0m \u001b[0murllib\u001b[0m\u001b[1;33m.\u001b[0m\u001b[0mrequest\u001b[0m\u001b[1;33m.\u001b[0m\u001b[0murlopen\u001b[0m\u001b[1;33m(\u001b[0m\u001b[0murl\u001b[0m\u001b[1;33m)\u001b[0m\u001b[1;33m.\u001b[0m\u001b[0mread\u001b[0m\u001b[1;33m(\u001b[0m\u001b[1;33m)\u001b[0m\u001b[1;33m\u001b[0m\u001b[0m\n\u001b[0m\u001b[0;32m      9\u001b[0m \u001b[0mprint\u001b[0m\u001b[1;33m(\u001b[0m\u001b[0mresponse\u001b[0m\u001b[1;33m)\u001b[0m\u001b[1;33m\u001b[0m\u001b[0m\n",
      "\u001b[1;32m~\\Anaconda3\\lib\\urllib\\request.py\u001b[0m in \u001b[0;36murlopen\u001b[1;34m(url, data, timeout, cafile, capath, cadefault, context)\u001b[0m\n\u001b[0;32m    221\u001b[0m     \u001b[1;32melse\u001b[0m\u001b[1;33m:\u001b[0m\u001b[1;33m\u001b[0m\u001b[0m\n\u001b[0;32m    222\u001b[0m         \u001b[0mopener\u001b[0m \u001b[1;33m=\u001b[0m \u001b[0m_opener\u001b[0m\u001b[1;33m\u001b[0m\u001b[0m\n\u001b[1;32m--> 223\u001b[1;33m     \u001b[1;32mreturn\u001b[0m \u001b[0mopener\u001b[0m\u001b[1;33m.\u001b[0m\u001b[0mopen\u001b[0m\u001b[1;33m(\u001b[0m\u001b[0murl\u001b[0m\u001b[1;33m,\u001b[0m \u001b[0mdata\u001b[0m\u001b[1;33m,\u001b[0m \u001b[0mtimeout\u001b[0m\u001b[1;33m)\u001b[0m\u001b[1;33m\u001b[0m\u001b[0m\n\u001b[0m\u001b[0;32m    224\u001b[0m \u001b[1;33m\u001b[0m\u001b[0m\n\u001b[0;32m    225\u001b[0m \u001b[1;32mdef\u001b[0m \u001b[0minstall_opener\u001b[0m\u001b[1;33m(\u001b[0m\u001b[0mopener\u001b[0m\u001b[1;33m)\u001b[0m\u001b[1;33m:\u001b[0m\u001b[1;33m\u001b[0m\u001b[0m\n",
      "\u001b[1;32m~\\Anaconda3\\lib\\urllib\\request.py\u001b[0m in \u001b[0;36mopen\u001b[1;34m(self, fullurl, data, timeout)\u001b[0m\n\u001b[0;32m    530\u001b[0m         \u001b[1;32mfor\u001b[0m \u001b[0mprocessor\u001b[0m \u001b[1;32min\u001b[0m \u001b[0mself\u001b[0m\u001b[1;33m.\u001b[0m\u001b[0mprocess_response\u001b[0m\u001b[1;33m.\u001b[0m\u001b[0mget\u001b[0m\u001b[1;33m(\u001b[0m\u001b[0mprotocol\u001b[0m\u001b[1;33m,\u001b[0m \u001b[1;33m[\u001b[0m\u001b[1;33m]\u001b[0m\u001b[1;33m)\u001b[0m\u001b[1;33m:\u001b[0m\u001b[1;33m\u001b[0m\u001b[0m\n\u001b[0;32m    531\u001b[0m             \u001b[0mmeth\u001b[0m \u001b[1;33m=\u001b[0m \u001b[0mgetattr\u001b[0m\u001b[1;33m(\u001b[0m\u001b[0mprocessor\u001b[0m\u001b[1;33m,\u001b[0m \u001b[0mmeth_name\u001b[0m\u001b[1;33m)\u001b[0m\u001b[1;33m\u001b[0m\u001b[0m\n\u001b[1;32m--> 532\u001b[1;33m             \u001b[0mresponse\u001b[0m \u001b[1;33m=\u001b[0m \u001b[0mmeth\u001b[0m\u001b[1;33m(\u001b[0m\u001b[0mreq\u001b[0m\u001b[1;33m,\u001b[0m \u001b[0mresponse\u001b[0m\u001b[1;33m)\u001b[0m\u001b[1;33m\u001b[0m\u001b[0m\n\u001b[0m\u001b[0;32m    533\u001b[0m \u001b[1;33m\u001b[0m\u001b[0m\n\u001b[0;32m    534\u001b[0m         \u001b[1;32mreturn\u001b[0m \u001b[0mresponse\u001b[0m\u001b[1;33m\u001b[0m\u001b[0m\n",
      "\u001b[1;32m~\\Anaconda3\\lib\\urllib\\request.py\u001b[0m in \u001b[0;36mhttp_response\u001b[1;34m(self, request, response)\u001b[0m\n\u001b[0;32m    640\u001b[0m         \u001b[1;32mif\u001b[0m \u001b[1;32mnot\u001b[0m \u001b[1;33m(\u001b[0m\u001b[1;36m200\u001b[0m \u001b[1;33m<=\u001b[0m \u001b[0mcode\u001b[0m \u001b[1;33m<\u001b[0m \u001b[1;36m300\u001b[0m\u001b[1;33m)\u001b[0m\u001b[1;33m:\u001b[0m\u001b[1;33m\u001b[0m\u001b[0m\n\u001b[0;32m    641\u001b[0m             response = self.parent.error(\n\u001b[1;32m--> 642\u001b[1;33m                 'http', request, response, code, msg, hdrs)\n\u001b[0m\u001b[0;32m    643\u001b[0m \u001b[1;33m\u001b[0m\u001b[0m\n\u001b[0;32m    644\u001b[0m         \u001b[1;32mreturn\u001b[0m \u001b[0mresponse\u001b[0m\u001b[1;33m\u001b[0m\u001b[0m\n",
      "\u001b[1;32m~\\Anaconda3\\lib\\urllib\\request.py\u001b[0m in \u001b[0;36merror\u001b[1;34m(self, proto, *args)\u001b[0m\n\u001b[0;32m    568\u001b[0m         \u001b[1;32mif\u001b[0m \u001b[0mhttp_err\u001b[0m\u001b[1;33m:\u001b[0m\u001b[1;33m\u001b[0m\u001b[0m\n\u001b[0;32m    569\u001b[0m             \u001b[0margs\u001b[0m \u001b[1;33m=\u001b[0m \u001b[1;33m(\u001b[0m\u001b[0mdict\u001b[0m\u001b[1;33m,\u001b[0m \u001b[1;34m'default'\u001b[0m\u001b[1;33m,\u001b[0m \u001b[1;34m'http_error_default'\u001b[0m\u001b[1;33m)\u001b[0m \u001b[1;33m+\u001b[0m \u001b[0morig_args\u001b[0m\u001b[1;33m\u001b[0m\u001b[0m\n\u001b[1;32m--> 570\u001b[1;33m             \u001b[1;32mreturn\u001b[0m \u001b[0mself\u001b[0m\u001b[1;33m.\u001b[0m\u001b[0m_call_chain\u001b[0m\u001b[1;33m(\u001b[0m\u001b[1;33m*\u001b[0m\u001b[0margs\u001b[0m\u001b[1;33m)\u001b[0m\u001b[1;33m\u001b[0m\u001b[0m\n\u001b[0m\u001b[0;32m    571\u001b[0m \u001b[1;33m\u001b[0m\u001b[0m\n\u001b[0;32m    572\u001b[0m \u001b[1;31m# XXX probably also want an abstract factory that knows when it makes\u001b[0m\u001b[1;33m\u001b[0m\u001b[1;33m\u001b[0m\u001b[0m\n",
      "\u001b[1;32m~\\Anaconda3\\lib\\urllib\\request.py\u001b[0m in \u001b[0;36m_call_chain\u001b[1;34m(self, chain, kind, meth_name, *args)\u001b[0m\n\u001b[0;32m    502\u001b[0m         \u001b[1;32mfor\u001b[0m \u001b[0mhandler\u001b[0m \u001b[1;32min\u001b[0m \u001b[0mhandlers\u001b[0m\u001b[1;33m:\u001b[0m\u001b[1;33m\u001b[0m\u001b[0m\n\u001b[0;32m    503\u001b[0m             \u001b[0mfunc\u001b[0m \u001b[1;33m=\u001b[0m \u001b[0mgetattr\u001b[0m\u001b[1;33m(\u001b[0m\u001b[0mhandler\u001b[0m\u001b[1;33m,\u001b[0m \u001b[0mmeth_name\u001b[0m\u001b[1;33m)\u001b[0m\u001b[1;33m\u001b[0m\u001b[0m\n\u001b[1;32m--> 504\u001b[1;33m             \u001b[0mresult\u001b[0m \u001b[1;33m=\u001b[0m \u001b[0mfunc\u001b[0m\u001b[1;33m(\u001b[0m\u001b[1;33m*\u001b[0m\u001b[0margs\u001b[0m\u001b[1;33m)\u001b[0m\u001b[1;33m\u001b[0m\u001b[0m\n\u001b[0m\u001b[0;32m    505\u001b[0m             \u001b[1;32mif\u001b[0m \u001b[0mresult\u001b[0m \u001b[1;32mis\u001b[0m \u001b[1;32mnot\u001b[0m \u001b[1;32mNone\u001b[0m\u001b[1;33m:\u001b[0m\u001b[1;33m\u001b[0m\u001b[0m\n\u001b[0;32m    506\u001b[0m                 \u001b[1;32mreturn\u001b[0m \u001b[0mresult\u001b[0m\u001b[1;33m\u001b[0m\u001b[0m\n",
      "\u001b[1;32m~\\Anaconda3\\lib\\urllib\\request.py\u001b[0m in \u001b[0;36mhttp_error_default\u001b[1;34m(self, req, fp, code, msg, hdrs)\u001b[0m\n\u001b[0;32m    648\u001b[0m \u001b[1;32mclass\u001b[0m \u001b[0mHTTPDefaultErrorHandler\u001b[0m\u001b[1;33m(\u001b[0m\u001b[0mBaseHandler\u001b[0m\u001b[1;33m)\u001b[0m\u001b[1;33m:\u001b[0m\u001b[1;33m\u001b[0m\u001b[0m\n\u001b[0;32m    649\u001b[0m     \u001b[1;32mdef\u001b[0m \u001b[0mhttp_error_default\u001b[0m\u001b[1;33m(\u001b[0m\u001b[0mself\u001b[0m\u001b[1;33m,\u001b[0m \u001b[0mreq\u001b[0m\u001b[1;33m,\u001b[0m \u001b[0mfp\u001b[0m\u001b[1;33m,\u001b[0m \u001b[0mcode\u001b[0m\u001b[1;33m,\u001b[0m \u001b[0mmsg\u001b[0m\u001b[1;33m,\u001b[0m \u001b[0mhdrs\u001b[0m\u001b[1;33m)\u001b[0m\u001b[1;33m:\u001b[0m\u001b[1;33m\u001b[0m\u001b[0m\n\u001b[1;32m--> 650\u001b[1;33m         \u001b[1;32mraise\u001b[0m \u001b[0mHTTPError\u001b[0m\u001b[1;33m(\u001b[0m\u001b[0mreq\u001b[0m\u001b[1;33m.\u001b[0m\u001b[0mfull_url\u001b[0m\u001b[1;33m,\u001b[0m \u001b[0mcode\u001b[0m\u001b[1;33m,\u001b[0m \u001b[0mmsg\u001b[0m\u001b[1;33m,\u001b[0m \u001b[0mhdrs\u001b[0m\u001b[1;33m,\u001b[0m \u001b[0mfp\u001b[0m\u001b[1;33m)\u001b[0m\u001b[1;33m\u001b[0m\u001b[0m\n\u001b[0m\u001b[0;32m    651\u001b[0m \u001b[1;33m\u001b[0m\u001b[0m\n\u001b[0;32m    652\u001b[0m \u001b[1;32mclass\u001b[0m \u001b[0mHTTPRedirectHandler\u001b[0m\u001b[1;33m(\u001b[0m\u001b[0mBaseHandler\u001b[0m\u001b[1;33m)\u001b[0m\u001b[1;33m:\u001b[0m\u001b[1;33m\u001b[0m\u001b[0m\n",
      "\u001b[1;31mHTTPError\u001b[0m: HTTP Error 404: Not Found"
     ]
    }
   ],
   "source": [
    "import urllib\n",
    "import urllib.parse\n",
    "import urllib.request\n",
    "\n",
    "data = {'q': 'Sheraton and Pan Am said they are assured under the Soviet joint-venture law that they can repatriate profits from their hotel venture.'}\n",
    "params = urllib.parse.urlencode(data)\n",
    "url = \"http://138.197.118.157:8000/segbot/api/?%s\" % params\n",
    "response = urllib.request.urlopen(url).read()\n",
    "print(response)"
   ]
  },
  {
   "cell_type": "code",
   "execution_count": 3,
   "metadata": {},
   "outputs": [],
   "source": [
    "import numpy as np"
   ]
  },
  {
   "cell_type": "code",
   "execution_count": 8,
   "metadata": {},
   "outputs": [],
   "source": [
    "response = np.asarray(response)"
   ]
  },
  {
   "cell_type": "code",
   "execution_count": 9,
   "metadata": {},
   "outputs": [
    {
     "data": {
      "text/plain": [
       "()"
      ]
     },
     "execution_count": 9,
     "metadata": {},
     "output_type": "execute_result"
    }
   ],
   "source": [
    "response.shape"
   ]
  },
  {
   "cell_type": "code",
   "execution_count": 10,
   "metadata": {},
   "outputs": [
    {
     "data": {
      "text/plain": [
       "array(b'\"[\\\\\"Sheraton and Pan Am said\\\\\", \\\\\"they are assured under the Soviet joint-venture law\\\\\", \\\\\"that they can repatriate profits from their hotel venture .\\\\\"]\"',\n",
       "      dtype='|S154')"
      ]
     },
     "execution_count": 10,
     "metadata": {},
     "output_type": "execute_result"
    }
   ],
   "source": [
    "response"
   ]
  },
  {
   "cell_type": "code",
   "execution_count": 4,
   "metadata": {},
   "outputs": [],
   "source": [
    "import pickle\n",
    "\n",
    "def save_pickle(path, X):\n",
    "    with open(path, 'wb') as f:\n",
    "        pickle.dump(X, f)\n",
    "\n",
    "def open_pickle(path):\n",
    "    with open(path, 'rb') as f:\n",
    "        X = pickle.load(f)\n",
    "    return X\n",
    "\n",
    "X_train = open_pickle(\"../../data/imdb/imdb_original_preprocessed_xtrain.pickle\")\n",
    "X_test = open_pickle(\"../../data/imdb/imdb_original_preprocessed_xtest.pickle\")\n",
    "y_train = open_pickle(\"../../data/imdb/imdb_original_preprocessed_ytrain.pickle\")\n",
    "y_test = open_pickle(\"../../data/imdb/imdb_original_preprocessed_ytest.pickle\")"
   ]
  },
  {
   "cell_type": "code",
   "execution_count": 5,
   "metadata": {},
   "outputs": [],
   "source": [
    "# data = {'q': 'Sheraton and Pan Am said they are assured under the Soviet joint-venture law that they can repatriate profits from their hotel venture.'}\n",
    "data = {'q' : X_train[0]}\n",
    "params = urllib.parse.urlencode(data)\n",
    "url = \"http://138.197.118.157:8000/segbot/api/?%s\" % params\n",
    "response = urllib.request.urlopen(url).read()"
   ]
  },
  {
   "cell_type": "code",
   "execution_count": 13,
   "metadata": {},
   "outputs": [
    {
     "data": {
      "text/plain": [
       "'silent night, deadly night 5 is the very last of the series, and like part 4, it is unrelated to the first three except by title and the fact that it is a christmas-themed horror flick.except to the oblivious, there is some obvious thing going on here...mickey rooney plays a toymaker named joe petto and his creepy son\\'s name is pino. ring a bell, anyone? now, a little boy named derek heard a knock at the door one evening, and opened it to find a present on the doorstep for him. even though it said \"do not open till christmas\", he begins to open it anyway but is stopped by his dad, who scolds him and sends him to bed, and opens the gift himself. inside is a little red ball that sprouts santa arm and a head, and proceed to kill dad. oop, maybe he should have left well-enough alone. of course derek is then traumatized by the incident since he watched it from the stair, but he does not grow up to be some killer santa, he just stops talking.there is a mysterious stranger lurking around, who seems very interested in the toy that joe petto makes. we even see him buying a bunch when derek\\'s mom takes him to the store to find a gift for him to ing him out of his trauma. and what exactly is this guy doing? well, we are not sure but he does seem to be taking these toy apart to see what makes them tick. he does keep his landlord from evicting him by promising him to pay him in cash the next day and present him with a \"larry the larvae\" toy for his kid, but of course \"larry\" is not a good toy and gets out of the box in the car and of course, well, thing are not pretty.anyway, eventually what is going on with joe petto and pino is of course revealed, and as with the old story, pino is not a \"real boy\". pino is probably even more agitated and naughty because he suffers from \"kenitalium\" (a smooth plastic crotch) so that could account for his evil way. and the identity of the lurking stranger is revealed too, and there is even kind of a happy ending of sort. whee.a step up from part 4, but not much of one. again, brian yuzna is involved, and screaming mad george, so some decent special effect, but not enough to make this great. a few leftover from part 4 are hanging around too, like clint howard and neith hunter, but that does not really make any difference. anyway, i now have seeing the whole series out of my system. now if i could get some of it out of my ain. 4 out of 5.'"
      ]
     },
     "execution_count": 13,
     "metadata": {},
     "output_type": "execute_result"
    }
   ],
   "source": [
    "X_train[0]"
   ]
  },
  {
   "cell_type": "code",
   "execution_count": 14,
   "metadata": {},
   "outputs": [
    {
     "data": {
      "text/plain": [
       "b'\"[\\\\\"silent night , deadly night 5 is the very last of the series ,\\\\\", \\\\\"and like part 4 , it is unrelated to the first three except by title\\\\\", \\\\\"and the fact\\\\\", \\\\\"that it is a christmas-themed horror flick.except to the oblivious ,\\\\\", \\\\\"there is some obvious thing\\\\\", \\\\\"going on here ...\\\\\", \\\\\"mickey rooney plays a toymaker\\\\\", \\\\\"named joe petto\\\\\", \\\\\"and his creepy son \\'s name is pino .\\\\\", \\\\\"ring a bell , anyone ?\\\\\", \\\\\"now , a little boy named derek heard a knock at the door one evening ,\\\\\", \\\\\"and opened it to find a present on the doorstep for him .\\\\\", \\\\\"even though it said\\\\\", \\\\\"`` do not open till christmas \\'\\' ,\\\\\", \\\\\"he begins to open it anyway\\\\\", \\\\\"but is stopped by his dad ,\\\\\", \\\\\"who scolds him and sends him to bed ,\\\\\", \\\\\"and opens the gift himself .\\\\\", \\\\\"inside is a little red ball\\\\\", \\\\\"that sprouts santa arm and a head ,\\\\\", \\\\\"and proceed to kill dad .\\\\\", \\\\\"oop , maybe he should have left well-enough alone .\\\\\", \\\\\"of course derek is then traumatized by the incident\\\\\", \\\\\"since he watched it from the stair ,\\\\\", \\\\\"but he does not grow up to be some killer santa ,\\\\\", \\\\\"he just stops talking.there is a mysterious stranger lurking around ,\\\\\", \\\\\"who seems very interested in the toy\\\\\", \\\\\"that joe petto makes .\\\\\", \\\\\"we even see him buying a bunch\\\\\", \\\\\"when derek \\'s mom takes him to the store\\\\\", \\\\\"to find a gift for him\\\\\", \\\\\"to ing him out of his trauma .\\\\\", \\\\\"and what exactly is this guy doing ?\\\\\", \\\\\"well , we are not sure\\\\\", \\\\\"but he does seem to be taking these toy apart to see what makes them tick .\\\\\", \\\\\"he does keep his landlord from evicting him by promising him\\\\\", \\\\\"to pay him in cash the next day\\\\\", \\\\\"and present him with a `` larry the larvae \\'\\' toy for his kid ,\\\\\", \\\\\"but of course `` larry \\'\\' is not a good toy\\\\\", \\\\\"and gets out of the box in the car and of course , well , thing are not pretty.anyway ,\\\\\", \\\\\"eventually what is going on with joe petto and pino is of course revealed ,\\\\\", \\\\\"and as with the old story , pino is not a `` real boy \\'\\' .\\\\\", \\\\\"pino is probably even more agitated and naughty\\\\\", \\\\\"because he suffers from `` kenitalium \\'\\'\\\\\", \\\\\"( a smooth plastic crotch )\\\\\", \\\\\"so that could account for his evil way .\\\\\", \\\\\"and the identity of the lurking stranger is revealed too ,\\\\\", \\\\\"and there is even kind of a happy\\\\\", \\\\\"ending of sort .\\\\\", \\\\\"whee.a step up from part 4 , but not much of one .\\\\\", \\\\\"again , brian yuzna is involved ,\\\\\", \\\\\"and screaming mad george ,\\\\\", \\\\\"so some decent special effect ,\\\\\", \\\\\"but not enough to make this great .\\\\\", \\\\\"a few leftover from part 4 are hanging around too , like clint howard and neith hunter ,\\\\\", \\\\\"but that does not really make any difference .\\\\\", \\\\\"anyway , i now have seeing the whole series out of my system .\\\\\", \\\\\"now if i could get some of it out of my ain .\\\\\", \\\\\"4 out of 5 .\\\\\"]\"'"
      ]
     },
     "execution_count": 14,
     "metadata": {},
     "output_type": "execute_result"
    }
   ],
   "source": [
    "response"
   ]
  },
  {
   "cell_type": "code",
   "execution_count": 88,
   "metadata": {},
   "outputs": [],
   "source": [
    "import json"
   ]
  },
  {
   "cell_type": "code",
   "execution_count": 89,
   "metadata": {},
   "outputs": [],
   "source": [
    "output = json.loads(response)"
   ]
  },
  {
   "cell_type": "code",
   "execution_count": 90,
   "metadata": {},
   "outputs": [
    {
     "data": {
      "text/plain": [
       "'[\"Sheraton and Pan Am said\", \"they are assured under the Soviet joint-venture law\", \"that they can repatriate profits from their hotel venture .\"]'"
      ]
     },
     "execution_count": 90,
     "metadata": {},
     "output_type": "execute_result"
    }
   ],
   "source": [
    "output"
   ]
  },
  {
   "cell_type": "code",
   "execution_count": 91,
   "metadata": {},
   "outputs": [
    {
     "data": {
      "text/plain": [
       "'['"
      ]
     },
     "execution_count": 91,
     "metadata": {},
     "output_type": "execute_result"
    }
   ],
   "source": [
    "output[0]"
   ]
  },
  {
   "cell_type": "code",
   "execution_count": 94,
   "metadata": {},
   "outputs": [
    {
     "data": {
      "text/plain": [
       "'\"'"
      ]
     },
     "execution_count": 94,
     "metadata": {},
     "output_type": "execute_result"
    }
   ],
   "source": [
    "output[1]"
   ]
  },
  {
   "cell_type": "code",
   "execution_count": 92,
   "metadata": {},
   "outputs": [],
   "source": [
    "from textblob import TextBlob"
   ]
  },
  {
   "cell_type": "code",
   "execution_count": 93,
   "metadata": {},
   "outputs": [],
   "source": [
    "text = TextBlob(output)"
   ]
  },
  {
   "cell_type": "code",
   "execution_count": 95,
   "metadata": {},
   "outputs": [],
   "source": [
    "output = output[1:len(output)-1]"
   ]
  },
  {
   "cell_type": "code",
   "execution_count": 96,
   "metadata": {},
   "outputs": [
    {
     "data": {
      "text/plain": [
       "'\"Sheraton and Pan Am said\", \"they are assured under the Soviet joint-venture law\", \"that they can repatriate profits from their hotel venture .\"'"
      ]
     },
     "execution_count": 96,
     "metadata": {},
     "output_type": "execute_result"
    }
   ],
   "source": [
    "output"
   ]
  },
  {
   "cell_type": "code",
   "execution_count": 71,
   "metadata": {},
   "outputs": [],
   "source": [
    "output = output[:len(output)-1]"
   ]
  },
  {
   "cell_type": "code",
   "execution_count": 72,
   "metadata": {},
   "outputs": [
    {
     "data": {
      "text/plain": [
       "'\"Sheraton and Pan Am said\", \"they are assured under the Soviet joint-venture law\", \"that they can repatriate profits from their hotel venture .\"'"
      ]
     },
     "execution_count": 72,
     "metadata": {},
     "output_type": "execute_result"
    }
   ],
   "source": [
    "output"
   ]
  },
  {
   "cell_type": "code",
   "execution_count": 80,
   "metadata": {},
   "outputs": [],
   "source": [
    "test = output.split(\", \")"
   ]
  },
  {
   "cell_type": "code",
   "execution_count": 81,
   "metadata": {},
   "outputs": [
    {
     "data": {
      "text/plain": [
       "['\"Sheraton and Pan Am said\"',\n",
       " '\"they are assured under the Soviet joint-venture law\"',\n",
       " '\"that they can repatriate profits from their hotel venture .\"']"
      ]
     },
     "execution_count": 81,
     "metadata": {},
     "output_type": "execute_result"
    }
   ],
   "source": [
    "test"
   ]
  },
  {
   "cell_type": "code",
   "execution_count": 82,
   "metadata": {},
   "outputs": [
    {
     "data": {
      "text/plain": [
       "3"
      ]
     },
     "execution_count": 82,
     "metadata": {},
     "output_type": "execute_result"
    }
   ],
   "source": [
    "len(test)"
   ]
  },
  {
   "cell_type": "code",
   "execution_count": 83,
   "metadata": {},
   "outputs": [
    {
     "data": {
      "text/plain": [
       "'\"Sheraton and Pan Am said\"'"
      ]
     },
     "execution_count": 83,
     "metadata": {},
     "output_type": "execute_result"
    }
   ],
   "source": [
    "test[0]"
   ]
  },
  {
   "cell_type": "code",
   "execution_count": 84,
   "metadata": {},
   "outputs": [
    {
     "data": {
      "text/plain": [
       "'\"they are assured under the Soviet joint-venture law\"'"
      ]
     },
     "execution_count": 84,
     "metadata": {},
     "output_type": "execute_result"
    }
   ],
   "source": [
    "test[1]"
   ]
  },
  {
   "cell_type": "code",
   "execution_count": 109,
   "metadata": {},
   "outputs": [
    {
     "data": {
      "text/plain": [
       "'Sheraton and Pan Am said'"
      ]
     },
     "execution_count": 109,
     "metadata": {},
     "output_type": "execute_result"
    }
   ],
   "source": [
    "test[0].replace(\"\\\"\", \"\")"
   ]
  },
  {
   "cell_type": "code",
   "execution_count": 16,
   "metadata": {},
   "outputs": [],
   "source": [
    "def load_imdb(path, shuffle=True, random_state=42):\n",
    "    import glob \n",
    "    print(\"Loading the imdb data\")\n",
    "    \n",
    "    train_neg_files = glob.glob(path+\"/train/neg/*.txt\")\n",
    "    train_pos_files = glob.glob(path+\"/train/pos/*.txt\")\n",
    "    \n",
    "#     X_train_corpus = []\n",
    "    X_train_pos = []\n",
    "    X_train_neg = []\n",
    "#     y_train = []\n",
    "    \n",
    "    for tnf in train_neg_files:\n",
    "        f = open(tnf, 'r', encoding=\"utf8\")\n",
    "        line = f.read()\n",
    "        X_train_neg.append(line)\n",
    "#         y_train.append(0)\n",
    "        f.close()\n",
    "    \n",
    "    for tpf in train_pos_files:\n",
    "        f = open(tpf, 'r', encoding=\"utf8\")\n",
    "        line = f.read()\n",
    "        X_train_pos.append(line)\n",
    "#         y_train.append(1)\n",
    "        f.close()\n",
    "    \n",
    "    print(\"Train Data loaded.\")\n",
    "    \n",
    "    test_neg_files = glob.glob(path+\"/test/neg/*.txt\")\n",
    "    test_pos_files = glob.glob(path+\"/test/pos/*.txt\")\n",
    "    \n",
    "#     X_test_corpus = []\n",
    "#     y_test = []\n",
    "    X_test_pos = []\n",
    "    X_test_neg = []\n",
    "    \n",
    "    for tnf in test_neg_files:\n",
    "        f = open(tnf, 'r', encoding=\"utf8\")\n",
    "        X_test_neg.append(f.read())\n",
    "#         y_test.append(0)\n",
    "        f.close()\n",
    "    \n",
    "    for tpf in test_pos_files:\n",
    "        f = open(tpf, 'r', encoding=\"utf8\")\n",
    "        X_test_pos.append(f.read())\n",
    "#         y_test.append(1)\n",
    "        f.close()\n",
    "    \n",
    "    print(\"Test Data loaded.\")\n",
    "    \n",
    "#     y_train = np.array(y_train)\n",
    "#     y_test = np.array(y_test)\n",
    "    \n",
    "    return X_train_pos, X_train_neg, X_test_pos, X_test_neg"
   ]
  },
  {
   "cell_type": "code",
   "execution_count": 17,
   "metadata": {},
   "outputs": [
    {
     "name": "stdout",
     "output_type": "stream",
     "text": [
      "Loading the imdb data\n",
      "Train Data loaded.\n",
      "Test Data loaded.\n"
     ]
    }
   ],
   "source": [
    "path = r\"C:\\Users\\Anneke\\Documents\\GitHub\\data\\aclImdb\"\n",
    "X_train_pos, X_train_neg, X_test_pos, X_test_neg = load_imdb(path)"
   ]
  },
  {
   "cell_type": "code",
   "execution_count": 18,
   "metadata": {},
   "outputs": [
    {
     "data": {
      "text/plain": [
       "12500"
      ]
     },
     "execution_count": 18,
     "metadata": {},
     "output_type": "execute_result"
    }
   ],
   "source": [
    "len(X_train_pos)"
   ]
  },
  {
   "cell_type": "code",
   "execution_count": 7,
   "metadata": {},
   "outputs": [],
   "source": [
    "def clean_edu(edus):\n",
    "    import json\n",
    "    output = json.loads(edus)\n",
    "    \n",
    "    # eliminate bracket\n",
    "    output = output[1:len(output)-1]\n",
    "    \n",
    "    # split edu with delimiter\n",
    "    edu = output.split(\", \")\n",
    "    del output\n",
    "    \n",
    "    for i in range(len(edu)):\n",
    "        edu[i] = edu[i].replace(\"\\\"\", \"\")\n",
    "#         print(item)\n",
    "    \n",
    "    return edu"
   ]
  },
  {
   "cell_type": "code",
   "execution_count": 36,
   "metadata": {
    "scrolled": true
   },
   "outputs": [],
   "source": [
    "edu_path = \"./train/\"\n",
    "import time\n",
    "start = 15017\n",
    "# 49 error\n",
    "# 69 error\n",
    "# 71 error\n",
    "# 73\n",
    "# 77 \n",
    "# 87\n",
    "# 94 95\n",
    "error_indices = []\n",
    "for i,corpus in enumerate(X_train[start:20000]):\n",
    "    i = i + start\n",
    "    data = {'q' : corpus}\n",
    "    params = urllib.parse.urlencode(data)\n",
    "    url = \"http://138.197.118.157:8000/segbot/api/?%s\" % params\n",
    "#     response = urllib.request.urlopen(url).read()\n",
    "    try:\n",
    "        response = urllib.request.urlopen(url).read()\n",
    "    except urllib.error.HTTPError:\n",
    "        error_indices.append(i)\n",
    "        continue\n",
    "        \n",
    "    edu = clean_edu(response)\n",
    "    \n",
    "    f = open(edu_path + str(i) + \"_\" + str(len(edu)) + \".txt\", \"w\")\n",
    "    \n",
    "    for j in range(len(edu)):\n",
    "        if i == (len(edu)-1):\n",
    "            f.write(edu[j])\n",
    "            break\n",
    "        f.write(edu[j]+\"\\n\")\n",
    "    f.close()\n",
    "    \n",
    "    print(i)\n",
    "    if i%100 == 0:\n",
    "        time.sleep(100)\n",
    "    elif i%10 == 0:\n",
    "        time.sleep(60)"
   ]
  },
  {
   "cell_type": "code",
   "execution_count": 37,
   "metadata": {},
   "outputs": [],
   "source": [
    "len(error_indices)\n",
    "\n",
    "f = open(\"./error_indices.txt\", \"a\")\n",
    "for i in error_indices:\n",
    "    f.write(str(i) + \"\\n\")\n",
    "f.close()"
   ]
  },
  {
   "cell_type": "code",
   "execution_count": 38,
   "metadata": {},
   "outputs": [
    {
     "data": {
      "text/plain": [
       "[15017,\n",
       " 15018,\n",
       " 15019,\n",
       " 15020,\n",
       " 15021,\n",
       " 15022,\n",
       " 15023,\n",
       " 15024,\n",
       " 15025,\n",
       " 15026,\n",
       " 15027,\n",
       " 15028,\n",
       " 15029,\n",
       " 15030,\n",
       " 15031,\n",
       " 15032,\n",
       " 15033,\n",
       " 15034,\n",
       " 15035,\n",
       " 15036,\n",
       " 15037,\n",
       " 15038,\n",
       " 15039,\n",
       " 15040,\n",
       " 15041,\n",
       " 15042,\n",
       " 15043,\n",
       " 15044,\n",
       " 15045,\n",
       " 15046,\n",
       " 15047,\n",
       " 15048,\n",
       " 15049,\n",
       " 15050,\n",
       " 15051,\n",
       " 15052,\n",
       " 15053,\n",
       " 15054,\n",
       " 15055,\n",
       " 15056,\n",
       " 15057,\n",
       " 15058,\n",
       " 15059,\n",
       " 15060,\n",
       " 15061,\n",
       " 15062,\n",
       " 15063,\n",
       " 15064,\n",
       " 15065,\n",
       " 15066,\n",
       " 15067,\n",
       " 15068,\n",
       " 15069,\n",
       " 15070,\n",
       " 15071,\n",
       " 15072,\n",
       " 15073,\n",
       " 15074,\n",
       " 15075,\n",
       " 15076,\n",
       " 15077,\n",
       " 15078,\n",
       " 15079,\n",
       " 15080,\n",
       " 15081,\n",
       " 15082,\n",
       " 15083,\n",
       " 15084,\n",
       " 15085,\n",
       " 15086,\n",
       " 15087,\n",
       " 15088,\n",
       " 15089,\n",
       " 15090,\n",
       " 15091,\n",
       " 15092,\n",
       " 15093,\n",
       " 15094,\n",
       " 15095,\n",
       " 15096,\n",
       " 15097,\n",
       " 15098,\n",
       " 15099,\n",
       " 15100,\n",
       " 15101,\n",
       " 15102,\n",
       " 15103,\n",
       " 15104,\n",
       " 15105,\n",
       " 15106,\n",
       " 15107,\n",
       " 15108,\n",
       " 15109,\n",
       " 15110,\n",
       " 15111,\n",
       " 15112,\n",
       " 15113,\n",
       " 15114,\n",
       " 15115,\n",
       " 15116,\n",
       " 15117,\n",
       " 15118,\n",
       " 15119,\n",
       " 15120,\n",
       " 15121,\n",
       " 15122,\n",
       " 15123,\n",
       " 15124,\n",
       " 15125,\n",
       " 15126,\n",
       " 15127,\n",
       " 15128,\n",
       " 15129,\n",
       " 15130,\n",
       " 15131,\n",
       " 15132,\n",
       " 15133,\n",
       " 15134,\n",
       " 15135,\n",
       " 15136,\n",
       " 15137,\n",
       " 15138,\n",
       " 15139,\n",
       " 15140,\n",
       " 15141,\n",
       " 15142,\n",
       " 15143,\n",
       " 15144,\n",
       " 15145,\n",
       " 15146,\n",
       " 15147,\n",
       " 15148,\n",
       " 15149,\n",
       " 15150,\n",
       " 15151,\n",
       " 15152,\n",
       " 15153,\n",
       " 15154,\n",
       " 15155,\n",
       " 15156,\n",
       " 15157,\n",
       " 15158,\n",
       " 15159,\n",
       " 15160,\n",
       " 15161,\n",
       " 15162,\n",
       " 15163,\n",
       " 15164,\n",
       " 15165,\n",
       " 15166,\n",
       " 15167,\n",
       " 15168,\n",
       " 15169,\n",
       " 15170,\n",
       " 15171,\n",
       " 15172,\n",
       " 15173,\n",
       " 15174,\n",
       " 15175,\n",
       " 15176,\n",
       " 15177,\n",
       " 15178,\n",
       " 15179,\n",
       " 15180,\n",
       " 15181,\n",
       " 15182,\n",
       " 15183,\n",
       " 15184,\n",
       " 15185,\n",
       " 15186,\n",
       " 15187,\n",
       " 15188,\n",
       " 15189,\n",
       " 15190,\n",
       " 15191,\n",
       " 15192,\n",
       " 15193,\n",
       " 15194,\n",
       " 15195,\n",
       " 15196,\n",
       " 15197,\n",
       " 15198,\n",
       " 15199,\n",
       " 15200,\n",
       " 15201,\n",
       " 15202,\n",
       " 15203,\n",
       " 15204,\n",
       " 15205,\n",
       " 15206,\n",
       " 15207,\n",
       " 15208,\n",
       " 15209,\n",
       " 15210,\n",
       " 15211,\n",
       " 15212,\n",
       " 15213,\n",
       " 15214,\n",
       " 15215,\n",
       " 15216,\n",
       " 15217,\n",
       " 15218,\n",
       " 15219,\n",
       " 15220,\n",
       " 15221,\n",
       " 15222,\n",
       " 15223,\n",
       " 15224,\n",
       " 15225,\n",
       " 15226,\n",
       " 15227,\n",
       " 15228,\n",
       " 15229,\n",
       " 15230,\n",
       " 15231,\n",
       " 15232,\n",
       " 15233,\n",
       " 15234,\n",
       " 15235,\n",
       " 15236,\n",
       " 15237,\n",
       " 15238,\n",
       " 15239,\n",
       " 15240,\n",
       " 15241,\n",
       " 15242,\n",
       " 15243,\n",
       " 15244,\n",
       " 15245,\n",
       " 15246,\n",
       " 15247,\n",
       " 15248,\n",
       " 15249,\n",
       " 15250,\n",
       " 15251,\n",
       " 15252,\n",
       " 15253,\n",
       " 15254,\n",
       " 15255,\n",
       " 15256,\n",
       " 15257,\n",
       " 15258,\n",
       " 15259,\n",
       " 15260,\n",
       " 15261,\n",
       " 15262,\n",
       " 15263,\n",
       " 15264,\n",
       " 15265,\n",
       " 15266,\n",
       " 15267,\n",
       " 15268,\n",
       " 15269,\n",
       " 15270,\n",
       " 15271,\n",
       " 15272,\n",
       " 15273,\n",
       " 15274,\n",
       " 15275,\n",
       " 15276,\n",
       " 15277,\n",
       " 15278,\n",
       " 15279,\n",
       " 15280,\n",
       " 15281,\n",
       " 15282,\n",
       " 15283,\n",
       " 15284,\n",
       " 15285,\n",
       " 15286,\n",
       " 15287,\n",
       " 15288,\n",
       " 15289,\n",
       " 15290,\n",
       " 15291,\n",
       " 15292,\n",
       " 15293,\n",
       " 15294,\n",
       " 15295,\n",
       " 15296,\n",
       " 15297,\n",
       " 15298,\n",
       " 15299,\n",
       " 15300,\n",
       " 15301,\n",
       " 15302,\n",
       " 15303,\n",
       " 15304,\n",
       " 15305,\n",
       " 15306,\n",
       " 15307,\n",
       " 15308,\n",
       " 15309,\n",
       " 15310,\n",
       " 15311,\n",
       " 15312,\n",
       " 15313,\n",
       " 15314,\n",
       " 15315,\n",
       " 15316,\n",
       " 15317,\n",
       " 15318,\n",
       " 15319,\n",
       " 15320,\n",
       " 15321,\n",
       " 15322,\n",
       " 15323,\n",
       " 15324,\n",
       " 15325,\n",
       " 15326,\n",
       " 15327,\n",
       " 15328,\n",
       " 15329,\n",
       " 15330,\n",
       " 15331,\n",
       " 15332,\n",
       " 15333,\n",
       " 15334,\n",
       " 15335,\n",
       " 15336,\n",
       " 15337,\n",
       " 15338,\n",
       " 15339,\n",
       " 15340,\n",
       " 15341,\n",
       " 15342,\n",
       " 15343,\n",
       " 15344,\n",
       " 15345,\n",
       " 15346,\n",
       " 15347,\n",
       " 15348,\n",
       " 15349,\n",
       " 15350,\n",
       " 15351,\n",
       " 15352,\n",
       " 15353,\n",
       " 15354,\n",
       " 15355,\n",
       " 15356,\n",
       " 15357,\n",
       " 15358,\n",
       " 15359,\n",
       " 15360,\n",
       " 15361,\n",
       " 15362,\n",
       " 15363,\n",
       " 15364,\n",
       " 15365,\n",
       " 15366,\n",
       " 15367,\n",
       " 15368,\n",
       " 15369,\n",
       " 15370,\n",
       " 15371,\n",
       " 15372,\n",
       " 15373,\n",
       " 15374,\n",
       " 15375,\n",
       " 15376,\n",
       " 15377,\n",
       " 15378,\n",
       " 15379,\n",
       " 15380,\n",
       " 15381,\n",
       " 15382,\n",
       " 15383,\n",
       " 15384,\n",
       " 15385,\n",
       " 15386,\n",
       " 15387,\n",
       " 15388,\n",
       " 15389,\n",
       " 15390,\n",
       " 15391,\n",
       " 15392,\n",
       " 15393,\n",
       " 15394,\n",
       " 15395,\n",
       " 15396,\n",
       " 15397,\n",
       " 15398,\n",
       " 15399,\n",
       " 15400,\n",
       " 15401,\n",
       " 15402,\n",
       " 15403,\n",
       " 15404,\n",
       " 15405,\n",
       " 15406,\n",
       " 15407,\n",
       " 15408,\n",
       " 15409,\n",
       " 15410,\n",
       " 15411,\n",
       " 15412,\n",
       " 15413,\n",
       " 15414,\n",
       " 15415,\n",
       " 15416,\n",
       " 15417,\n",
       " 15418,\n",
       " 15419,\n",
       " 15420,\n",
       " 15421,\n",
       " 15422,\n",
       " 15423,\n",
       " 15424,\n",
       " 15425,\n",
       " 15426,\n",
       " 15427,\n",
       " 15428,\n",
       " 15429,\n",
       " 15430,\n",
       " 15431,\n",
       " 15432,\n",
       " 15433,\n",
       " 15434,\n",
       " 15435,\n",
       " 15436,\n",
       " 15437,\n",
       " 15438,\n",
       " 15439,\n",
       " 15440,\n",
       " 15441,\n",
       " 15442,\n",
       " 15443,\n",
       " 15444,\n",
       " 15445,\n",
       " 15446,\n",
       " 15447,\n",
       " 15448,\n",
       " 15449,\n",
       " 15450,\n",
       " 15451,\n",
       " 15452,\n",
       " 15453,\n",
       " 15454,\n",
       " 15455,\n",
       " 15456,\n",
       " 15457,\n",
       " 15458,\n",
       " 15459,\n",
       " 15460,\n",
       " 15461,\n",
       " 15462,\n",
       " 15463,\n",
       " 15464,\n",
       " 15465,\n",
       " 15466,\n",
       " 15467,\n",
       " 15468,\n",
       " 15469,\n",
       " 15470,\n",
       " 15471,\n",
       " 15472,\n",
       " 15473,\n",
       " 15474,\n",
       " 15475,\n",
       " 15476,\n",
       " 15477,\n",
       " 15478,\n",
       " 15479,\n",
       " 15480,\n",
       " 15481,\n",
       " 15482,\n",
       " 15483,\n",
       " 15484,\n",
       " 15485,\n",
       " 15486,\n",
       " 15487,\n",
       " 15488,\n",
       " 15489,\n",
       " 15490,\n",
       " 15491,\n",
       " 15492,\n",
       " 15493,\n",
       " 15494,\n",
       " 15495,\n",
       " 15496,\n",
       " 15497,\n",
       " 15498,\n",
       " 15499,\n",
       " 15500,\n",
       " 15501,\n",
       " 15502,\n",
       " 15503,\n",
       " 15504,\n",
       " 15505,\n",
       " 15506,\n",
       " 15507,\n",
       " 15508,\n",
       " 15509,\n",
       " 15510,\n",
       " 15511,\n",
       " 15512,\n",
       " 15513,\n",
       " 15514,\n",
       " 15515,\n",
       " 15516,\n",
       " 15517,\n",
       " 15518,\n",
       " 15519,\n",
       " 15520,\n",
       " 15521,\n",
       " 15522,\n",
       " 15523,\n",
       " 15524,\n",
       " 15525,\n",
       " 15526,\n",
       " 15527,\n",
       " 15528,\n",
       " 15529,\n",
       " 15530,\n",
       " 15531,\n",
       " 15532,\n",
       " 15533,\n",
       " 15534,\n",
       " 15535,\n",
       " 15536,\n",
       " 15537,\n",
       " 15538,\n",
       " 15539,\n",
       " 15540,\n",
       " 15541,\n",
       " 15542,\n",
       " 15543,\n",
       " 15544,\n",
       " 15545,\n",
       " 15546,\n",
       " 15547,\n",
       " 15548,\n",
       " 15549,\n",
       " 15550,\n",
       " 15551,\n",
       " 15552,\n",
       " 15553,\n",
       " 15554,\n",
       " 15555,\n",
       " 15556,\n",
       " 15557,\n",
       " 15558,\n",
       " 15559,\n",
       " 15560,\n",
       " 15561,\n",
       " 15562,\n",
       " 15563,\n",
       " 15564,\n",
       " 15565,\n",
       " 15566,\n",
       " 15567,\n",
       " 15568,\n",
       " 15569,\n",
       " 15570,\n",
       " 15571,\n",
       " 15572,\n",
       " 15573,\n",
       " 15574,\n",
       " 15575,\n",
       " 15576,\n",
       " 15577,\n",
       " 15578,\n",
       " 15579,\n",
       " 15580,\n",
       " 15581,\n",
       " 15582,\n",
       " 15583,\n",
       " 15584,\n",
       " 15585,\n",
       " 15586,\n",
       " 15587,\n",
       " 15588,\n",
       " 15589,\n",
       " 15590,\n",
       " 15591,\n",
       " 15592,\n",
       " 15593,\n",
       " 15594,\n",
       " 15595,\n",
       " 15596,\n",
       " 15597,\n",
       " 15598,\n",
       " 15599,\n",
       " 15600,\n",
       " 15601,\n",
       " 15602,\n",
       " 15603,\n",
       " 15604,\n",
       " 15605,\n",
       " 15606,\n",
       " 15607,\n",
       " 15608,\n",
       " 15609,\n",
       " 15610,\n",
       " 15611,\n",
       " 15612,\n",
       " 15613,\n",
       " 15614,\n",
       " 15615,\n",
       " 15616,\n",
       " 15617,\n",
       " 15618,\n",
       " 15619,\n",
       " 15620,\n",
       " 15621,\n",
       " 15622,\n",
       " 15623,\n",
       " 15624,\n",
       " 15625,\n",
       " 15626,\n",
       " 15627,\n",
       " 15628,\n",
       " 15629,\n",
       " 15630,\n",
       " 15631,\n",
       " 15632,\n",
       " 15633,\n",
       " 15634,\n",
       " 15635,\n",
       " 15636,\n",
       " 15637,\n",
       " 15638,\n",
       " 15639,\n",
       " 15640,\n",
       " 15641,\n",
       " 15642,\n",
       " 15643,\n",
       " 15644,\n",
       " 15645,\n",
       " 15646,\n",
       " 15647,\n",
       " 15648,\n",
       " 15649,\n",
       " 15650,\n",
       " 15651,\n",
       " 15652,\n",
       " 15653,\n",
       " 15654,\n",
       " 15655,\n",
       " 15656,\n",
       " 15657,\n",
       " 15658,\n",
       " 15659,\n",
       " 15660,\n",
       " 15661,\n",
       " 15662,\n",
       " 15663,\n",
       " 15664,\n",
       " 15665,\n",
       " 15666,\n",
       " 15667,\n",
       " 15668,\n",
       " 15669,\n",
       " 15670,\n",
       " 15671,\n",
       " 15672,\n",
       " 15673,\n",
       " 15674,\n",
       " 15675,\n",
       " 15676,\n",
       " 15677,\n",
       " 15678,\n",
       " 15679,\n",
       " 15680,\n",
       " 15681,\n",
       " 15682,\n",
       " 15683,\n",
       " 15684,\n",
       " 15685,\n",
       " 15686,\n",
       " 15687,\n",
       " 15688,\n",
       " 15689,\n",
       " 15690,\n",
       " 15691,\n",
       " 15692,\n",
       " 15693,\n",
       " 15694,\n",
       " 15695,\n",
       " 15696,\n",
       " 15697,\n",
       " 15698,\n",
       " 15699,\n",
       " 15700,\n",
       " 15701,\n",
       " 15702,\n",
       " 15703,\n",
       " 15704,\n",
       " 15705,\n",
       " 15706,\n",
       " 15707,\n",
       " 15708,\n",
       " 15709,\n",
       " 15710,\n",
       " 15711,\n",
       " 15712,\n",
       " 15713,\n",
       " 15714,\n",
       " 15715,\n",
       " 15716,\n",
       " 15717,\n",
       " 15718,\n",
       " 15719,\n",
       " 15720,\n",
       " 15721,\n",
       " 15722,\n",
       " 15723,\n",
       " 15724,\n",
       " 15725,\n",
       " 15726,\n",
       " 15727,\n",
       " 15728,\n",
       " 15729,\n",
       " 15730,\n",
       " 15731,\n",
       " 15732,\n",
       " 15733,\n",
       " 15734,\n",
       " 15735,\n",
       " 15736,\n",
       " 15737,\n",
       " 15738,\n",
       " 15739,\n",
       " 15740,\n",
       " 15741,\n",
       " 15742,\n",
       " 15743,\n",
       " 15744,\n",
       " 15745,\n",
       " 15746,\n",
       " 15747,\n",
       " 15748,\n",
       " 15749,\n",
       " 15750,\n",
       " 15751,\n",
       " 15752,\n",
       " 15753,\n",
       " 15754,\n",
       " 15755,\n",
       " 15756,\n",
       " 15757,\n",
       " 15758,\n",
       " 15759,\n",
       " 15760,\n",
       " 15761,\n",
       " 15762,\n",
       " 15763,\n",
       " 15764,\n",
       " 15765,\n",
       " 15766,\n",
       " 15767,\n",
       " 15768,\n",
       " 15769,\n",
       " 15770,\n",
       " 15771,\n",
       " 15772,\n",
       " 15773,\n",
       " 15774,\n",
       " 15775,\n",
       " 15776,\n",
       " 15777,\n",
       " 15778,\n",
       " 15779,\n",
       " 15780,\n",
       " 15781,\n",
       " 15782,\n",
       " 15783,\n",
       " 15784,\n",
       " 15785,\n",
       " 15786,\n",
       " 15787,\n",
       " 15788,\n",
       " 15789,\n",
       " 15790,\n",
       " 15791,\n",
       " 15792,\n",
       " 15793,\n",
       " 15794,\n",
       " 15795,\n",
       " 15796,\n",
       " 15797,\n",
       " 15798,\n",
       " 15799,\n",
       " 15800,\n",
       " 15801,\n",
       " 15802,\n",
       " 15803,\n",
       " 15804,\n",
       " 15805,\n",
       " 15806,\n",
       " 15807,\n",
       " 15808,\n",
       " 15809,\n",
       " 15810,\n",
       " 15811,\n",
       " 15812,\n",
       " 15813,\n",
       " 15814,\n",
       " 15815,\n",
       " 15816,\n",
       " 15817,\n",
       " 15818,\n",
       " 15819,\n",
       " 15820,\n",
       " 15821,\n",
       " 15822,\n",
       " 15823,\n",
       " 15824,\n",
       " 15825,\n",
       " 15826,\n",
       " 15827,\n",
       " 15828,\n",
       " 15829,\n",
       " 15830,\n",
       " 15831,\n",
       " 15832,\n",
       " 15833,\n",
       " 15834,\n",
       " 15835,\n",
       " 15836,\n",
       " 15837,\n",
       " 15838,\n",
       " 15839,\n",
       " 15840,\n",
       " 15841,\n",
       " 15842,\n",
       " 15843,\n",
       " 15844,\n",
       " 15845,\n",
       " 15846,\n",
       " 15847,\n",
       " 15848,\n",
       " 15849,\n",
       " 15850,\n",
       " 15851,\n",
       " 15852,\n",
       " 15853,\n",
       " 15854,\n",
       " 15855,\n",
       " 15856,\n",
       " 15857,\n",
       " 15858,\n",
       " 15859,\n",
       " 15860,\n",
       " 15861,\n",
       " 15862,\n",
       " 15863,\n",
       " 15864,\n",
       " 15865,\n",
       " 15866,\n",
       " 15867,\n",
       " 15868,\n",
       " 15869,\n",
       " 15870,\n",
       " 15871,\n",
       " 15872,\n",
       " 15873,\n",
       " 15874,\n",
       " 15875,\n",
       " 15876,\n",
       " 15877,\n",
       " 15878,\n",
       " 15879,\n",
       " 15880,\n",
       " 15881,\n",
       " 15882,\n",
       " 15883,\n",
       " 15884,\n",
       " 15885,\n",
       " 15886,\n",
       " 15887,\n",
       " 15888,\n",
       " 15889,\n",
       " 15890,\n",
       " 15891,\n",
       " 15892,\n",
       " 15893,\n",
       " 15894,\n",
       " 15895,\n",
       " 15896,\n",
       " 15897,\n",
       " 15898,\n",
       " 15899,\n",
       " 15900,\n",
       " 15901,\n",
       " 15902,\n",
       " 15903,\n",
       " 15904,\n",
       " 15905,\n",
       " 15906,\n",
       " 15907,\n",
       " 15908,\n",
       " 15909,\n",
       " 15910,\n",
       " 15911,\n",
       " 15912,\n",
       " 15913,\n",
       " 15914,\n",
       " 15915,\n",
       " 15916,\n",
       " 15917,\n",
       " 15918,\n",
       " 15919,\n",
       " 15920,\n",
       " 15921,\n",
       " 15922,\n",
       " 15923,\n",
       " 15924,\n",
       " 15925,\n",
       " 15926,\n",
       " 15927,\n",
       " 15928,\n",
       " 15929,\n",
       " 15930,\n",
       " 15931,\n",
       " 15932,\n",
       " 15933,\n",
       " 15934,\n",
       " 15935,\n",
       " 15936,\n",
       " 15937,\n",
       " 15938,\n",
       " 15939,\n",
       " 15940,\n",
       " 15941,\n",
       " 15942,\n",
       " 15943,\n",
       " 15944,\n",
       " 15945,\n",
       " 15946,\n",
       " 15947,\n",
       " 15948,\n",
       " 15949,\n",
       " 15950,\n",
       " 15951,\n",
       " 15952,\n",
       " 15953,\n",
       " 15954,\n",
       " 15955,\n",
       " 15956,\n",
       " 15957,\n",
       " 15958,\n",
       " 15959,\n",
       " 15960,\n",
       " 15961,\n",
       " 15962,\n",
       " 15963,\n",
       " 15964,\n",
       " 15965,\n",
       " 15966,\n",
       " 15967,\n",
       " 15968,\n",
       " 15969,\n",
       " 15970,\n",
       " 15971,\n",
       " 15972,\n",
       " 15973,\n",
       " 15974,\n",
       " 15975,\n",
       " 15976,\n",
       " 15977,\n",
       " 15978,\n",
       " 15979,\n",
       " 15980,\n",
       " 15981,\n",
       " 15982,\n",
       " 15983,\n",
       " 15984,\n",
       " 15985,\n",
       " 15986,\n",
       " 15987,\n",
       " 15988,\n",
       " 15989,\n",
       " 15990,\n",
       " 15991,\n",
       " 15992,\n",
       " 15993,\n",
       " 15994,\n",
       " 15995,\n",
       " 15996,\n",
       " 15997,\n",
       " 15998,\n",
       " 15999,\n",
       " 16000,\n",
       " 16001,\n",
       " 16002,\n",
       " 16003,\n",
       " 16004,\n",
       " 16005,\n",
       " 16006,\n",
       " 16007,\n",
       " 16008,\n",
       " 16009,\n",
       " 16010,\n",
       " 16011,\n",
       " 16012,\n",
       " 16013,\n",
       " 16014,\n",
       " 16015,\n",
       " 16016,\n",
       " ...]"
      ]
     },
     "execution_count": 38,
     "metadata": {},
     "output_type": "execute_result"
    }
   ],
   "source": [
    "error_indices"
   ]
  },
  {
   "cell_type": "code",
   "execution_count": null,
   "metadata": {},
   "outputs": [],
   "source": []
  },
  {
   "cell_type": "code",
   "execution_count": 24,
   "metadata": {},
   "outputs": [
    {
     "data": {
      "text/plain": [
       "'sista in da hood. looking for revenge and bling bling. except da hood is a wild west town in the late 1800. i do not remember any western like this when i was growing up. what would randolph scott say? if he saw lil kim, he might say, \"alright! i have to admit that i tuned into this just to see her. bare midriff and low cut blouse are not the staple of the usual cowboy flick, but these are the cowgirls, and they are fine.now, do not go looking for any major story here, and the usual stuff of ghetto crime drama are here in a different setting. and, whens the last time you heard john wayne call someone, \"dawg\"? and, i do not remember the earp other hugging and kissing before they marched to the ok corral.i watch this on bet, so i missed the action that got it an r rating, but i doubt if i will buy the dvd to see it unless i can be assured it was lil kim in that action.'"
      ]
     },
     "execution_count": 24,
     "metadata": {},
     "output_type": "execute_result"
    }
   ],
   "source": [
    "X_train[69].replace(\"\\'\",\"\")"
   ]
  },
  {
   "cell_type": "code",
   "execution_count": 14,
   "metadata": {},
   "outputs": [
    {
     "data": {
      "text/plain": [
       "\"i pity person calling kamal hassan 'ulaganaayakan' maybe for them ulagam is tollywood ! comeon guys..this movie is a thriller without thrill..come out of your ulagam and just watch some high class thriller like the usual suspects or even the silence of the lambs.technically good but style over substance kamal does not look like a police officer, there is no thrill whatsoever dragging and boring till end you might be saving 3 valuable hrs of your life if u skip watching this movie.kamal at his best is the best in tollywood\""
      ]
     },
     "execution_count": 14,
     "metadata": {},
     "output_type": "execute_result"
    }
   ],
   "source": [
    "X_train[48]"
   ]
  },
  {
   "cell_type": "code",
   "execution_count": 26,
   "metadata": {},
   "outputs": [
    {
     "data": {
      "text/plain": [
       "'it has been about 50 year since a movie has been made about romance and mysticism. the only two movie i can think of is \"enchanted april\" (1992) and \"the enchanted cottage\" (1945). both movie used wonderful actor not star. in both movie, all the actor gave their best romantic performance.\"enchanted april\" is about four english woman after wwi who are unhappy with their life and find happiness in italy while on vacation. it is amazing \"enchanted april\" was made in 1992. it stands out as an enjoyable classic.'"
      ]
     },
     "execution_count": 26,
     "metadata": {},
     "output_type": "execute_result"
    }
   ],
   "source": [
    "X_train[71]"
   ]
  },
  {
   "cell_type": "code",
   "execution_count": 29,
   "metadata": {},
   "outputs": [
    {
     "data": {
      "text/plain": [
       "'spoiler... if such a thing is possible... . . . . . . . as a rabid robin william fan, i felt it necessary to buy this film as first on-screen appearance. wow... i could not imagine a more mind-numbing movie. essentially, the movie takes one bad joke after another that your uncle artie would tell you after dinner and dramatizes them. robin william plays a lawyer in a 30 sec skit.i am all for bawdy humor, but this humor was not pleasantly vulgar, or ribald... it was just mind-numbing. there are no redeeming quality to this film, other than robin william fanatic, like me, who simply have to own every piece of film.'"
      ]
     },
     "execution_count": 29,
     "metadata": {},
     "output_type": "execute_result"
    }
   ],
   "source": [
    "X_train[73]"
   ]
  },
  {
   "cell_type": "code",
   "execution_count": 44,
   "metadata": {},
   "outputs": [
    {
     "data": {
      "text/plain": [
       "\"when i was a kid we always used to be babysat, and we always used to rent a film or see a film at the cinema. this is one of the film we watched. this is one of the stupidest film i have ever seen, i think it might even be a walt disney picture film! a martian is dropped on earth, turns into a human, befriends a human, and is trying everything he can to get back home. but he is distracted by the wonder of the earth. the only good comment i can give is the choice of actor, back to the future's christopher lloyd as the martian, uncle martin, dumb and dumber's jeff daniel as tim o'hara, elizabeth hurley as brace channing and daryl hannah as lizzie. but apart from that it is complete crap. poor!\""
      ]
     },
     "execution_count": 44,
     "metadata": {},
     "output_type": "execute_result"
    }
   ],
   "source": [
    "X_train[5]"
   ]
  },
  {
   "cell_type": "code",
   "execution_count": 47,
   "metadata": {},
   "outputs": [
    {
     "data": {
      "text/plain": [
       "0"
      ]
     },
     "execution_count": 47,
     "metadata": {},
     "output_type": "execute_result"
    }
   ],
   "source": [
    "y_train[5]"
   ]
  },
  {
   "cell_type": "code",
   "execution_count": 45,
   "metadata": {},
   "outputs": [
    {
     "data": {
      "text/plain": [
       "\"1st watched 12/7/2002 - 3/10(dir-steve purcell): typical mary kate and ashley fare with a few more kiss. it looks to me like the girl are getting pretty tired of this stuff and it will be interesting what happens to them if they ever decide to split up and go there own way. in this episode of their adventure they are intern in rome for a `fashion' designer who puts them right into the mailroom to learn what working hard is all about(i guess..). besides the typical flirtation with boy there is nothing much else except the rome scenario until about ¾ way into the movie when it is finally revealed why they are getting fired, then re-hired, then fired again, then re-hired again. this is definetly made by person who do not understand the corporate world and it shows in their interpretation of it. maybe the real world will be their next adventure(if there is one.). even my kid did not seem to care for this boring `adventure' in the make-believe. let's see they probably only have a couple of year till their legal adult. we will see what happens then.\""
      ]
     },
     "execution_count": 45,
     "metadata": {},
     "output_type": "execute_result"
    }
   ],
   "source": [
    "X_train[6]"
   ]
  },
  {
   "cell_type": "code",
   "execution_count": 48,
   "metadata": {},
   "outputs": [
    {
     "data": {
      "text/plain": [
       "0"
      ]
     },
     "execution_count": 48,
     "metadata": {},
     "output_type": "execute_result"
    }
   ],
   "source": [
    "y_train[6]"
   ]
  },
  {
   "cell_type": "code",
   "execution_count": 46,
   "metadata": {},
   "outputs": [
    {
     "data": {
      "text/plain": [
       "'\"a cry in the dark\" is a masterful piece of cinema, haunting, and incredibly though provoking. the true story of lindy chamberland, who, in 1980, witnessed a horrific sight, seeing her 3-month-old baby being utally taken from their family\\'s tent, while camping on the austrailian outback. azaria (the baby) was never seen again, and the result of her horrendous disappearance caused a true life frenzy all around the world. meryl streep does immaculate justice to the role of lindy, as she always does. but the one thing that helps \"a cry in the dark\" never fall flat is the illiant direction. a truly inspired and accurate outlook on this baffeling case, tear are ought to the eye. the concept is nothing less then terrifying, and afterward you are left haunted, but also inspired.'"
      ]
     },
     "execution_count": 46,
     "metadata": {},
     "output_type": "execute_result"
    }
   ],
   "source": [
    "X_train[7]"
   ]
  },
  {
   "cell_type": "code",
   "execution_count": 50,
   "metadata": {},
   "outputs": [
    {
     "data": {
      "text/plain": [
       "1"
      ]
     },
     "execution_count": 50,
     "metadata": {},
     "output_type": "execute_result"
    }
   ],
   "source": [
    "y_train[7]"
   ]
  },
  {
   "cell_type": "code",
   "execution_count": 51,
   "metadata": {},
   "outputs": [
    {
     "data": {
      "text/plain": [
       "0"
      ]
     },
     "execution_count": 51,
     "metadata": {},
     "output_type": "execute_result"
    }
   ],
   "source": [
    "y_train[9]"
   ]
  },
  {
   "cell_type": "code",
   "execution_count": null,
   "metadata": {},
   "outputs": [],
   "source": []
  }
 ],
 "metadata": {
  "kernelspec": {
   "display_name": "Python 3",
   "language": "python",
   "name": "python3"
  },
  "language_info": {
   "codemirror_mode": {
    "name": "ipython",
    "version": 3
   },
   "file_extension": ".py",
   "mimetype": "text/x-python",
   "name": "python",
   "nbconvert_exporter": "python",
   "pygments_lexer": "ipython3",
   "version": "3.6.4"
  }
 },
 "nbformat": 4,
 "nbformat_minor": 2
}

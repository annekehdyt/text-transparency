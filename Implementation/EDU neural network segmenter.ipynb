{
 "cells": [
  {
   "cell_type": "code",
   "execution_count": 1,
   "metadata": {},
   "outputs": [],
   "source": [
    "# Reference : \n",
    "# https://richliao.github.io/supervised/classification/2016/11/26/textclassifier-convolutional/\n",
    "\n",
    "import sys\n",
    "import os\n",
    "\n",
    "# os.environ['THEANO_FLAGS'] = \"device=cuda*\"\n",
    "os.environ['KERAS_BACKEND']='tensorflow'\n",
    "os.environ['MKL_THREADING_LAYER']='GNU'\n",
    "\n",
    "import numpy as np\n",
    "import pandas as pd\n",
    "from collections import defaultdict\n",
    "import re"
   ]
  },
  {
   "cell_type": "code",
   "execution_count": 9,
   "metadata": {
    "scrolled": true
   },
   "outputs": [
    {
     "name": "stdout",
     "output_type": "stream",
     "text": [
      "b'\"[\\\\\"Sheraton and Pan Am said\\\\\", \\\\\"they are assured under the Soviet joint-venture law\\\\\", \\\\\"that they can repatriate profits from their hotel venture .\\\\\"]\"'\n"
     ]
    }
   ],
   "source": [
    "import urllib\n",
    "import urllib.parse\n",
    "import urllib.request\n",
    "\n",
    "data = {'q': 'Sheraton and Pan Am said they are assured under the Soviet joint-venture law that they can repatriate profits from their hotel venture.'}\n",
    "params = urllib.parse.urlencode(data)\n",
    "url = \"http://138.197.118.157:8000/segbot/api/?%s\" % params\n",
    "response = urllib.request.urlopen(url).read()\n",
    "print(response)"
   ]
  },
  {
   "cell_type": "code",
   "execution_count": 3,
   "metadata": {},
   "outputs": [],
   "source": [
    "import numpy as np"
   ]
  },
  {
   "cell_type": "code",
   "execution_count": 8,
   "metadata": {},
   "outputs": [],
   "source": [
    "response = np.asarray(response)"
   ]
  },
  {
   "cell_type": "code",
   "execution_count": 9,
   "metadata": {},
   "outputs": [
    {
     "data": {
      "text/plain": [
       "()"
      ]
     },
     "execution_count": 9,
     "metadata": {},
     "output_type": "execute_result"
    }
   ],
   "source": [
    "response.shape"
   ]
  },
  {
   "cell_type": "code",
   "execution_count": 10,
   "metadata": {},
   "outputs": [
    {
     "data": {
      "text/plain": [
       "array(b'\"[\\\\\"Sheraton and Pan Am said\\\\\", \\\\\"they are assured under the Soviet joint-venture law\\\\\", \\\\\"that they can repatriate profits from their hotel venture .\\\\\"]\"',\n",
       "      dtype='|S154')"
      ]
     },
     "execution_count": 10,
     "metadata": {},
     "output_type": "execute_result"
    }
   ],
   "source": [
    "response"
   ]
  },
  {
   "cell_type": "code",
   "execution_count": 4,
   "metadata": {},
   "outputs": [],
   "source": [
    "import pickle\n",
    "\n",
    "def save_pickle(path, X):\n",
    "    with open(path, 'wb') as f:\n",
    "        pickle.dump(X, f)\n",
    "\n",
    "def open_pickle(path):\n",
    "    with open(path, 'rb') as f:\n",
    "        X = pickle.load(f)\n",
    "    return X\n",
    "\n",
    "X_train = open_pickle(\"../../data/imdb/imdb_original_preprocessed_xtrain.pickle\")\n",
    "X_test = open_pickle(\"../../data/imdb/imdb_original_preprocessed_xtest.pickle\")\n",
    "y_train = open_pickle(\"../../data/imdb/imdb_original_preprocessed_ytrain.pickle\")\n",
    "y_test = open_pickle(\"../../data/imdb/imdb_original_preprocessed_ytest.pickle\")"
   ]
  },
  {
   "cell_type": "code",
   "execution_count": 12,
   "metadata": {},
   "outputs": [],
   "source": [
    "# data = {'q': 'Sheraton and Pan Am said they are assured under the Soviet joint-venture law that they can repatriate profits from their hotel venture.'}\n",
    "data = {'q' : X_train[0]}\n",
    "params = urllib.parse.urlencode(data)\n",
    "url = \"http://138.197.118.157:8000/segbot/api/?%s\" % params\n",
    "response = urllib.request.urlopen(url).read()"
   ]
  },
  {
   "cell_type": "code",
   "execution_count": 13,
   "metadata": {},
   "outputs": [
    {
     "data": {
      "text/plain": [
       "'silent night, deadly night 5 is the very last of the series, and like part 4, it is unrelated to the first three except by title and the fact that it is a christmas-themed horror flick.except to the oblivious, there is some obvious thing going on here...mickey rooney plays a toymaker named joe petto and his creepy son\\'s name is pino. ring a bell, anyone? now, a little boy named derek heard a knock at the door one evening, and opened it to find a present on the doorstep for him. even though it said \"do not open till christmas\", he begins to open it anyway but is stopped by his dad, who scolds him and sends him to bed, and opens the gift himself. inside is a little red ball that sprouts santa arm and a head, and proceed to kill dad. oop, maybe he should have left well-enough alone. of course derek is then traumatized by the incident since he watched it from the stair, but he does not grow up to be some killer santa, he just stops talking.there is a mysterious stranger lurking around, who seems very interested in the toy that joe petto makes. we even see him buying a bunch when derek\\'s mom takes him to the store to find a gift for him to ing him out of his trauma. and what exactly is this guy doing? well, we are not sure but he does seem to be taking these toy apart to see what makes them tick. he does keep his landlord from evicting him by promising him to pay him in cash the next day and present him with a \"larry the larvae\" toy for his kid, but of course \"larry\" is not a good toy and gets out of the box in the car and of course, well, thing are not pretty.anyway, eventually what is going on with joe petto and pino is of course revealed, and as with the old story, pino is not a \"real boy\". pino is probably even more agitated and naughty because he suffers from \"kenitalium\" (a smooth plastic crotch) so that could account for his evil way. and the identity of the lurking stranger is revealed too, and there is even kind of a happy ending of sort. whee.a step up from part 4, but not much of one. again, brian yuzna is involved, and screaming mad george, so some decent special effect, but not enough to make this great. a few leftover from part 4 are hanging around too, like clint howard and neith hunter, but that does not really make any difference. anyway, i now have seeing the whole series out of my system. now if i could get some of it out of my ain. 4 out of 5.'"
      ]
     },
     "execution_count": 13,
     "metadata": {},
     "output_type": "execute_result"
    }
   ],
   "source": [
    "X_train[0]"
   ]
  },
  {
   "cell_type": "code",
   "execution_count": 14,
   "metadata": {},
   "outputs": [
    {
     "data": {
      "text/plain": [
       "b'\"[\\\\\"silent night , deadly night 5 is the very last of the series ,\\\\\", \\\\\"and like part 4 , it is unrelated to the first three except by title\\\\\", \\\\\"and the fact\\\\\", \\\\\"that it is a christmas-themed horror flick.except to the oblivious ,\\\\\", \\\\\"there is some obvious thing\\\\\", \\\\\"going on here ...\\\\\", \\\\\"mickey rooney plays a toymaker\\\\\", \\\\\"named joe petto\\\\\", \\\\\"and his creepy son \\'s name is pino .\\\\\", \\\\\"ring a bell , anyone ?\\\\\", \\\\\"now , a little boy named derek heard a knock at the door one evening ,\\\\\", \\\\\"and opened it to find a present on the doorstep for him .\\\\\", \\\\\"even though it said\\\\\", \\\\\"`` do not open till christmas \\'\\' ,\\\\\", \\\\\"he begins to open it anyway\\\\\", \\\\\"but is stopped by his dad ,\\\\\", \\\\\"who scolds him and sends him to bed ,\\\\\", \\\\\"and opens the gift himself .\\\\\", \\\\\"inside is a little red ball\\\\\", \\\\\"that sprouts santa arm and a head ,\\\\\", \\\\\"and proceed to kill dad .\\\\\", \\\\\"oop , maybe he should have left well-enough alone .\\\\\", \\\\\"of course derek is then traumatized by the incident\\\\\", \\\\\"since he watched it from the stair ,\\\\\", \\\\\"but he does not grow up to be some killer santa ,\\\\\", \\\\\"he just stops talking.there is a mysterious stranger lurking around ,\\\\\", \\\\\"who seems very interested in the toy\\\\\", \\\\\"that joe petto makes .\\\\\", \\\\\"we even see him buying a bunch\\\\\", \\\\\"when derek \\'s mom takes him to the store\\\\\", \\\\\"to find a gift for him\\\\\", \\\\\"to ing him out of his trauma .\\\\\", \\\\\"and what exactly is this guy doing ?\\\\\", \\\\\"well , we are not sure\\\\\", \\\\\"but he does seem to be taking these toy apart to see what makes them tick .\\\\\", \\\\\"he does keep his landlord from evicting him by promising him\\\\\", \\\\\"to pay him in cash the next day\\\\\", \\\\\"and present him with a `` larry the larvae \\'\\' toy for his kid ,\\\\\", \\\\\"but of course `` larry \\'\\' is not a good toy\\\\\", \\\\\"and gets out of the box in the car and of course , well , thing are not pretty.anyway ,\\\\\", \\\\\"eventually what is going on with joe petto and pino is of course revealed ,\\\\\", \\\\\"and as with the old story , pino is not a `` real boy \\'\\' .\\\\\", \\\\\"pino is probably even more agitated and naughty\\\\\", \\\\\"because he suffers from `` kenitalium \\'\\'\\\\\", \\\\\"( a smooth plastic crotch )\\\\\", \\\\\"so that could account for his evil way .\\\\\", \\\\\"and the identity of the lurking stranger is revealed too ,\\\\\", \\\\\"and there is even kind of a happy\\\\\", \\\\\"ending of sort .\\\\\", \\\\\"whee.a step up from part 4 , but not much of one .\\\\\", \\\\\"again , brian yuzna is involved ,\\\\\", \\\\\"and screaming mad george ,\\\\\", \\\\\"so some decent special effect ,\\\\\", \\\\\"but not enough to make this great .\\\\\", \\\\\"a few leftover from part 4 are hanging around too , like clint howard and neith hunter ,\\\\\", \\\\\"but that does not really make any difference .\\\\\", \\\\\"anyway , i now have seeing the whole series out of my system .\\\\\", \\\\\"now if i could get some of it out of my ain .\\\\\", \\\\\"4 out of 5 .\\\\\"]\"'"
      ]
     },
     "execution_count": 14,
     "metadata": {},
     "output_type": "execute_result"
    }
   ],
   "source": [
    "response"
   ]
  },
  {
   "cell_type": "code",
   "execution_count": 88,
   "metadata": {},
   "outputs": [],
   "source": [
    "import json"
   ]
  },
  {
   "cell_type": "code",
   "execution_count": 89,
   "metadata": {},
   "outputs": [],
   "source": [
    "output = json.loads(response)"
   ]
  },
  {
   "cell_type": "code",
   "execution_count": 90,
   "metadata": {},
   "outputs": [
    {
     "data": {
      "text/plain": [
       "'[\"Sheraton and Pan Am said\", \"they are assured under the Soviet joint-venture law\", \"that they can repatriate profits from their hotel venture .\"]'"
      ]
     },
     "execution_count": 90,
     "metadata": {},
     "output_type": "execute_result"
    }
   ],
   "source": [
    "output"
   ]
  },
  {
   "cell_type": "code",
   "execution_count": 91,
   "metadata": {},
   "outputs": [
    {
     "data": {
      "text/plain": [
       "'['"
      ]
     },
     "execution_count": 91,
     "metadata": {},
     "output_type": "execute_result"
    }
   ],
   "source": [
    "output[0]"
   ]
  },
  {
   "cell_type": "code",
   "execution_count": 94,
   "metadata": {},
   "outputs": [
    {
     "data": {
      "text/plain": [
       "'\"'"
      ]
     },
     "execution_count": 94,
     "metadata": {},
     "output_type": "execute_result"
    }
   ],
   "source": [
    "output[1]"
   ]
  },
  {
   "cell_type": "code",
   "execution_count": 92,
   "metadata": {},
   "outputs": [],
   "source": [
    "from textblob import TextBlob"
   ]
  },
  {
   "cell_type": "code",
   "execution_count": 93,
   "metadata": {},
   "outputs": [],
   "source": [
    "text = TextBlob(output)"
   ]
  },
  {
   "cell_type": "code",
   "execution_count": 95,
   "metadata": {},
   "outputs": [],
   "source": [
    "output = output[1:len(output)-1]"
   ]
  },
  {
   "cell_type": "code",
   "execution_count": 96,
   "metadata": {},
   "outputs": [
    {
     "data": {
      "text/plain": [
       "'\"Sheraton and Pan Am said\", \"they are assured under the Soviet joint-venture law\", \"that they can repatriate profits from their hotel venture .\"'"
      ]
     },
     "execution_count": 96,
     "metadata": {},
     "output_type": "execute_result"
    }
   ],
   "source": [
    "output"
   ]
  },
  {
   "cell_type": "code",
   "execution_count": 71,
   "metadata": {},
   "outputs": [],
   "source": [
    "output = output[:len(output)-1]"
   ]
  },
  {
   "cell_type": "code",
   "execution_count": 72,
   "metadata": {},
   "outputs": [
    {
     "data": {
      "text/plain": [
       "'\"Sheraton and Pan Am said\", \"they are assured under the Soviet joint-venture law\", \"that they can repatriate profits from their hotel venture .\"'"
      ]
     },
     "execution_count": 72,
     "metadata": {},
     "output_type": "execute_result"
    }
   ],
   "source": [
    "output"
   ]
  },
  {
   "cell_type": "code",
   "execution_count": 80,
   "metadata": {},
   "outputs": [],
   "source": [
    "test = output.split(\", \")"
   ]
  },
  {
   "cell_type": "code",
   "execution_count": 81,
   "metadata": {},
   "outputs": [
    {
     "data": {
      "text/plain": [
       "['\"Sheraton and Pan Am said\"',\n",
       " '\"they are assured under the Soviet joint-venture law\"',\n",
       " '\"that they can repatriate profits from their hotel venture .\"']"
      ]
     },
     "execution_count": 81,
     "metadata": {},
     "output_type": "execute_result"
    }
   ],
   "source": [
    "test"
   ]
  },
  {
   "cell_type": "code",
   "execution_count": 82,
   "metadata": {},
   "outputs": [
    {
     "data": {
      "text/plain": [
       "3"
      ]
     },
     "execution_count": 82,
     "metadata": {},
     "output_type": "execute_result"
    }
   ],
   "source": [
    "len(test)"
   ]
  },
  {
   "cell_type": "code",
   "execution_count": 83,
   "metadata": {},
   "outputs": [
    {
     "data": {
      "text/plain": [
       "'\"Sheraton and Pan Am said\"'"
      ]
     },
     "execution_count": 83,
     "metadata": {},
     "output_type": "execute_result"
    }
   ],
   "source": [
    "test[0]"
   ]
  },
  {
   "cell_type": "code",
   "execution_count": 84,
   "metadata": {},
   "outputs": [
    {
     "data": {
      "text/plain": [
       "'\"they are assured under the Soviet joint-venture law\"'"
      ]
     },
     "execution_count": 84,
     "metadata": {},
     "output_type": "execute_result"
    }
   ],
   "source": [
    "test[1]"
   ]
  },
  {
   "cell_type": "code",
   "execution_count": 109,
   "metadata": {},
   "outputs": [
    {
     "data": {
      "text/plain": [
       "'Sheraton and Pan Am said'"
      ]
     },
     "execution_count": 109,
     "metadata": {},
     "output_type": "execute_result"
    }
   ],
   "source": [
    "test[0].replace(\"\\\"\", \"\")"
   ]
  },
  {
   "cell_type": "code",
   "execution_count": 16,
   "metadata": {},
   "outputs": [],
   "source": [
    "def load_imdb(path, shuffle=True, random_state=42):\n",
    "    import glob \n",
    "    print(\"Loading the imdb data\")\n",
    "    \n",
    "    train_neg_files = glob.glob(path+\"/train/neg/*.txt\")\n",
    "    train_pos_files = glob.glob(path+\"/train/pos/*.txt\")\n",
    "    \n",
    "#     X_train_corpus = []\n",
    "    X_train_pos = []\n",
    "    X_train_neg = []\n",
    "#     y_train = []\n",
    "    \n",
    "    for tnf in train_neg_files:\n",
    "        f = open(tnf, 'r', encoding=\"utf8\")\n",
    "        line = f.read()\n",
    "        X_train_neg.append(line)\n",
    "#         y_train.append(0)\n",
    "        f.close()\n",
    "    \n",
    "    for tpf in train_pos_files:\n",
    "        f = open(tpf, 'r', encoding=\"utf8\")\n",
    "        line = f.read()\n",
    "        X_train_pos.append(line)\n",
    "#         y_train.append(1)\n",
    "        f.close()\n",
    "    \n",
    "    print(\"Train Data loaded.\")\n",
    "    \n",
    "    test_neg_files = glob.glob(path+\"/test/neg/*.txt\")\n",
    "    test_pos_files = glob.glob(path+\"/test/pos/*.txt\")\n",
    "    \n",
    "#     X_test_corpus = []\n",
    "#     y_test = []\n",
    "    X_test_pos = []\n",
    "    X_test_neg = []\n",
    "    \n",
    "    for tnf in test_neg_files:\n",
    "        f = open(tnf, 'r', encoding=\"utf8\")\n",
    "        X_test_neg.append(f.read())\n",
    "#         y_test.append(0)\n",
    "        f.close()\n",
    "    \n",
    "    for tpf in test_pos_files:\n",
    "        f = open(tpf, 'r', encoding=\"utf8\")\n",
    "        X_test_pos.append(f.read())\n",
    "#         y_test.append(1)\n",
    "        f.close()\n",
    "    \n",
    "    print(\"Test Data loaded.\")\n",
    "    \n",
    "#     y_train = np.array(y_train)\n",
    "#     y_test = np.array(y_test)\n",
    "    \n",
    "    return X_train_pos, X_train_neg, X_test_pos, X_test_neg"
   ]
  },
  {
   "cell_type": "code",
   "execution_count": 17,
   "metadata": {},
   "outputs": [
    {
     "name": "stdout",
     "output_type": "stream",
     "text": [
      "Loading the imdb data\n",
      "Train Data loaded.\n",
      "Test Data loaded.\n"
     ]
    }
   ],
   "source": [
    "path = r\"C:\\Users\\Anneke\\Documents\\GitHub\\data\\aclImdb\"\n",
    "X_train_pos, X_train_neg, X_test_pos, X_test_neg = load_imdb(path)"
   ]
  },
  {
   "cell_type": "code",
   "execution_count": 18,
   "metadata": {},
   "outputs": [
    {
     "data": {
      "text/plain": [
       "12500"
      ]
     },
     "execution_count": 18,
     "metadata": {},
     "output_type": "execute_result"
    }
   ],
   "source": [
    "len(X_train_pos)"
   ]
  },
  {
   "cell_type": "code",
   "execution_count": 6,
   "metadata": {},
   "outputs": [],
   "source": [
    "def clean_edu(edus):\n",
    "    import json\n",
    "    output = json.loads(edus)\n",
    "    \n",
    "    # eliminate bracket\n",
    "    output = output[1:len(output)-1]\n",
    "    \n",
    "    # split edu with delimiter\n",
    "    edu = output.split(\", \")\n",
    "    del output\n",
    "    \n",
    "    for i in range(len(edu)):\n",
    "        edu[i] = edu[i].replace(\"\\\"\", \"\")\n",
    "#         print(item)\n",
    "    \n",
    "    return edu"
   ]
  },
  {
   "cell_type": "code",
   "execution_count": 20,
   "metadata": {
    "scrolled": false
   },
   "outputs": [
    {
     "name": "stdout",
     "output_type": "stream",
     "text": [
      "1100\n",
      "1101\n",
      "1102\n",
      "1103\n",
      "1104\n",
      "1105\n",
      "1107\n",
      "1108\n",
      "1109\n",
      "1110\n",
      "1111\n",
      "1112\n",
      "1113\n",
      "1115\n",
      "1116\n",
      "1117\n",
      "1118\n",
      "1119\n",
      "1120\n",
      "1121\n",
      "1122\n",
      "1123\n",
      "1124\n",
      "1125\n",
      "1126\n",
      "1127\n",
      "1128\n",
      "1129\n",
      "1130\n",
      "1131\n",
      "1132\n",
      "1133\n",
      "1134\n",
      "1136\n",
      "1137\n",
      "1138\n",
      "1139\n",
      "1140\n",
      "1141\n",
      "1142\n",
      "1143\n",
      "1144\n",
      "1145\n",
      "1146\n",
      "1147\n",
      "1148\n",
      "1149\n",
      "1150\n",
      "1151\n",
      "1152\n",
      "1153\n",
      "1154\n",
      "1155\n",
      "1156\n",
      "1157\n",
      "1158\n",
      "1159\n",
      "1160\n",
      "1161\n",
      "1163\n",
      "1164\n",
      "1165\n",
      "1166\n",
      "1167\n",
      "1168\n",
      "1169\n",
      "1170\n",
      "1172\n",
      "1173\n",
      "1176\n",
      "1177\n",
      "1178\n",
      "1179\n",
      "1180\n",
      "1181\n",
      "1182\n",
      "1183\n",
      "1184\n",
      "1185\n",
      "1186\n",
      "1187\n",
      "1188\n",
      "1189\n",
      "1190\n",
      "1191\n",
      "1192\n",
      "1193\n",
      "1194\n",
      "1195\n",
      "1196\n",
      "1197\n",
      "1198\n"
     ]
    }
   ],
   "source": [
    "edu_path = \"./train/\"\n",
    "import time\n",
    "start = 1100\n",
    "# 49 error\n",
    "# 69 error\n",
    "# 71 error\n",
    "# 73\n",
    "# 77 \n",
    "# 87\n",
    "# 94 95\n",
    "error_indices = []\n",
    "for i,corpus in enumerate(X_train[start:1200]):\n",
    "    i = i + start\n",
    "    data = {'q' : corpus}\n",
    "    params = urllib.parse.urlencode(data)\n",
    "    url = \"http://138.197.118.157:8000/segbot/api/?%s\" % params\n",
    "#     response = urllib.request.urlopen(url).read()\n",
    "    try:\n",
    "        response = urllib.request.urlopen(url).read()\n",
    "    except urllib.error.HTTPError:\n",
    "        error_indices.append(i)\n",
    "        continue\n",
    "        \n",
    "    edu = clean_edu(response)\n",
    "    \n",
    "    f = open(edu_path + str(i) + \"_\" + str(len(edu)) + \".txt\", \"w\")\n",
    "    \n",
    "    for j in range(len(edu)):\n",
    "        if i == (len(edu)-1):\n",
    "            f.write(edu[j])\n",
    "            break\n",
    "        f.write(edu[j]+\"\\n\")\n",
    "    f.close()\n",
    "    \n",
    "    print(i)\n",
    "    if i%10 == 0:\n",
    "        time.sleep(60)\n",
    "    elif i%101 == 0:\n",
    "        time.sleep(60)"
   ]
  },
  {
   "cell_type": "code",
   "execution_count": 21,
   "metadata": {},
   "outputs": [],
   "source": [
    "len(error_indices)\n",
    "\n",
    "f = open(\"./error_indices.txt\", \"a\")\n",
    "for i in error_indices:\n",
    "    f.write(str(i) + \"\\n\")\n",
    "f.close()"
   ]
  },
  {
   "cell_type": "code",
   "execution_count": 22,
   "metadata": {},
   "outputs": [
    {
     "data": {
      "text/plain": [
       "[1106, 1114, 1135, 1162, 1171, 1174, 1175, 1199]"
      ]
     },
     "execution_count": 22,
     "metadata": {},
     "output_type": "execute_result"
    }
   ],
   "source": [
    "error_indices"
   ]
  },
  {
   "cell_type": "code",
   "execution_count": 15,
   "metadata": {},
   "outputs": [],
   "source": [
    "data = {'q' : X_train[50]}\n",
    "params = urllib.parse.urlencode(data)\n",
    "url = \"http://138.197.118.157:8000/segbot/api/?%s\" % params\n",
    "response = urllib.request.urlopen(url).read()\n",
    "# X_train[49]"
   ]
  },
  {
   "cell_type": "code",
   "execution_count": null,
   "metadata": {},
   "outputs": [],
   "source": []
  },
  {
   "cell_type": "code",
   "execution_count": 24,
   "metadata": {},
   "outputs": [
    {
     "data": {
      "text/plain": [
       "'sista in da hood. looking for revenge and bling bling. except da hood is a wild west town in the late 1800. i do not remember any western like this when i was growing up. what would randolph scott say? if he saw lil kim, he might say, \"alright! i have to admit that i tuned into this just to see her. bare midriff and low cut blouse are not the staple of the usual cowboy flick, but these are the cowgirls, and they are fine.now, do not go looking for any major story here, and the usual stuff of ghetto crime drama are here in a different setting. and, whens the last time you heard john wayne call someone, \"dawg\"? and, i do not remember the earp other hugging and kissing before they marched to the ok corral.i watch this on bet, so i missed the action that got it an r rating, but i doubt if i will buy the dvd to see it unless i can be assured it was lil kim in that action.'"
      ]
     },
     "execution_count": 24,
     "metadata": {},
     "output_type": "execute_result"
    }
   ],
   "source": [
    "X_train[69].replace(\"\\'\",\"\")"
   ]
  },
  {
   "cell_type": "code",
   "execution_count": 14,
   "metadata": {},
   "outputs": [
    {
     "data": {
      "text/plain": [
       "\"i pity person calling kamal hassan 'ulaganaayakan' maybe for them ulagam is tollywood ! comeon guys..this movie is a thriller without thrill..come out of your ulagam and just watch some high class thriller like the usual suspects or even the silence of the lambs.technically good but style over substance kamal does not look like a police officer, there is no thrill whatsoever dragging and boring till end you might be saving 3 valuable hrs of your life if u skip watching this movie.kamal at his best is the best in tollywood\""
      ]
     },
     "execution_count": 14,
     "metadata": {},
     "output_type": "execute_result"
    }
   ],
   "source": [
    "X_train[48]"
   ]
  },
  {
   "cell_type": "code",
   "execution_count": 26,
   "metadata": {},
   "outputs": [
    {
     "data": {
      "text/plain": [
       "'it has been about 50 year since a movie has been made about romance and mysticism. the only two movie i can think of is \"enchanted april\" (1992) and \"the enchanted cottage\" (1945). both movie used wonderful actor not star. in both movie, all the actor gave their best romantic performance.\"enchanted april\" is about four english woman after wwi who are unhappy with their life and find happiness in italy while on vacation. it is amazing \"enchanted april\" was made in 1992. it stands out as an enjoyable classic.'"
      ]
     },
     "execution_count": 26,
     "metadata": {},
     "output_type": "execute_result"
    }
   ],
   "source": [
    "X_train[71]"
   ]
  },
  {
   "cell_type": "code",
   "execution_count": 29,
   "metadata": {},
   "outputs": [
    {
     "data": {
      "text/plain": [
       "'spoiler... if such a thing is possible... . . . . . . . as a rabid robin william fan, i felt it necessary to buy this film as first on-screen appearance. wow... i could not imagine a more mind-numbing movie. essentially, the movie takes one bad joke after another that your uncle artie would tell you after dinner and dramatizes them. robin william plays a lawyer in a 30 sec skit.i am all for bawdy humor, but this humor was not pleasantly vulgar, or ribald... it was just mind-numbing. there are no redeeming quality to this film, other than robin william fanatic, like me, who simply have to own every piece of film.'"
      ]
     },
     "execution_count": 29,
     "metadata": {},
     "output_type": "execute_result"
    }
   ],
   "source": [
    "X_train[73]"
   ]
  },
  {
   "cell_type": "code",
   "execution_count": 44,
   "metadata": {},
   "outputs": [
    {
     "data": {
      "text/plain": [
       "\"when i was a kid we always used to be babysat, and we always used to rent a film or see a film at the cinema. this is one of the film we watched. this is one of the stupidest film i have ever seen, i think it might even be a walt disney picture film! a martian is dropped on earth, turns into a human, befriends a human, and is trying everything he can to get back home. but he is distracted by the wonder of the earth. the only good comment i can give is the choice of actor, back to the future's christopher lloyd as the martian, uncle martin, dumb and dumber's jeff daniel as tim o'hara, elizabeth hurley as brace channing and daryl hannah as lizzie. but apart from that it is complete crap. poor!\""
      ]
     },
     "execution_count": 44,
     "metadata": {},
     "output_type": "execute_result"
    }
   ],
   "source": [
    "X_train[5]"
   ]
  },
  {
   "cell_type": "code",
   "execution_count": 47,
   "metadata": {},
   "outputs": [
    {
     "data": {
      "text/plain": [
       "0"
      ]
     },
     "execution_count": 47,
     "metadata": {},
     "output_type": "execute_result"
    }
   ],
   "source": [
    "y_train[5]"
   ]
  },
  {
   "cell_type": "code",
   "execution_count": 45,
   "metadata": {},
   "outputs": [
    {
     "data": {
      "text/plain": [
       "\"1st watched 12/7/2002 - 3/10(dir-steve purcell): typical mary kate and ashley fare with a few more kiss. it looks to me like the girl are getting pretty tired of this stuff and it will be interesting what happens to them if they ever decide to split up and go there own way. in this episode of their adventure they are intern in rome for a `fashion' designer who puts them right into the mailroom to learn what working hard is all about(i guess..). besides the typical flirtation with boy there is nothing much else except the rome scenario until about ¾ way into the movie when it is finally revealed why they are getting fired, then re-hired, then fired again, then re-hired again. this is definetly made by person who do not understand the corporate world and it shows in their interpretation of it. maybe the real world will be their next adventure(if there is one.). even my kid did not seem to care for this boring `adventure' in the make-believe. let's see they probably only have a couple of year till their legal adult. we will see what happens then.\""
      ]
     },
     "execution_count": 45,
     "metadata": {},
     "output_type": "execute_result"
    }
   ],
   "source": [
    "X_train[6]"
   ]
  },
  {
   "cell_type": "code",
   "execution_count": 48,
   "metadata": {},
   "outputs": [
    {
     "data": {
      "text/plain": [
       "0"
      ]
     },
     "execution_count": 48,
     "metadata": {},
     "output_type": "execute_result"
    }
   ],
   "source": [
    "y_train[6]"
   ]
  },
  {
   "cell_type": "code",
   "execution_count": 46,
   "metadata": {},
   "outputs": [
    {
     "data": {
      "text/plain": [
       "'\"a cry in the dark\" is a masterful piece of cinema, haunting, and incredibly though provoking. the true story of lindy chamberland, who, in 1980, witnessed a horrific sight, seeing her 3-month-old baby being utally taken from their family\\'s tent, while camping on the austrailian outback. azaria (the baby) was never seen again, and the result of her horrendous disappearance caused a true life frenzy all around the world. meryl streep does immaculate justice to the role of lindy, as she always does. but the one thing that helps \"a cry in the dark\" never fall flat is the illiant direction. a truly inspired and accurate outlook on this baffeling case, tear are ought to the eye. the concept is nothing less then terrifying, and afterward you are left haunted, but also inspired.'"
      ]
     },
     "execution_count": 46,
     "metadata": {},
     "output_type": "execute_result"
    }
   ],
   "source": [
    "X_train[7]"
   ]
  },
  {
   "cell_type": "code",
   "execution_count": 50,
   "metadata": {},
   "outputs": [
    {
     "data": {
      "text/plain": [
       "1"
      ]
     },
     "execution_count": 50,
     "metadata": {},
     "output_type": "execute_result"
    }
   ],
   "source": [
    "y_train[7]"
   ]
  },
  {
   "cell_type": "code",
   "execution_count": 51,
   "metadata": {},
   "outputs": [
    {
     "data": {
      "text/plain": [
       "0"
      ]
     },
     "execution_count": 51,
     "metadata": {},
     "output_type": "execute_result"
    }
   ],
   "source": [
    "y_train[9]"
   ]
  },
  {
   "cell_type": "code",
   "execution_count": null,
   "metadata": {},
   "outputs": [],
   "source": []
  }
 ],
 "metadata": {
  "kernelspec": {
   "display_name": "Python 3",
   "language": "python",
   "name": "python3"
  },
  "language_info": {
   "codemirror_mode": {
    "name": "ipython",
    "version": 3
   },
   "file_extension": ".py",
   "mimetype": "text/x-python",
   "name": "python",
   "nbconvert_exporter": "python",
   "pygments_lexer": "ipython3",
   "version": "3.6.4"
  }
 },
 "nbformat": 4,
 "nbformat_minor": 2
}

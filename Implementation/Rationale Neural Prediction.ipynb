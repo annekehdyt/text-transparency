{
 "cells": [
  {
   "cell_type": "code",
   "execution_count": 40,
   "metadata": {},
   "outputs": [],
   "source": [
    "# Reference : \n",
    "# https://github.com/RiaanZoetmulder/Master-Thesis/tree/master/rationale\n",
    "# https://github.com/taolei87/rcnn/tree/master/code/rationale\n",
    "\n",
    "import sys\n",
    "import os\n",
    "\n",
    "# os.environ['THEANO_FLAGS'] = \"device=cuda*\"\n",
    "os.environ['KERAS_BACKEND']='tensorflow'\n",
    "os.environ['MKL_THREADING_LAYER']='GNU'\n",
    "\n",
    "import numpy as np\n",
    "import pandas as pd\n",
    "from collections import defaultdict\n",
    "import re\n",
    "import tensorflow as tf"
   ]
  },
  {
   "cell_type": "code",
   "execution_count": 30,
   "metadata": {},
   "outputs": [],
   "source": [
    "from keras.preprocessing.text import Tokenizer, text_to_word_sequence\n",
    "from keras.preprocessing.sequence import pad_sequences\n",
    "from keras.utils.np_utils import to_categorical\n",
    "from keras.layers import Embedding\n",
    "from keras.layers import Dense, Input, Flatten, Lambda\n",
    "from keras.layers import Conv1D, MaxPooling1D, Embedding, Dropout, LSTM, GRU, Bidirectional, TimeDistributed, concatenate, multiply, add, Add\n",
    "# Merge\n",
    "from keras.models import Model\n",
    "\n",
    "from keras import backend as K\n",
    "from keras.engine.topology import Layer, InputSpec\n",
    "# from keras import initializations\n",
    "from keras import initializers\n",
    "from keras import regularizers\n",
    "from keras import optimizers\n",
    "from keras import constraints"
   ]
  },
  {
   "cell_type": "code",
   "execution_count": 3,
   "metadata": {},
   "outputs": [],
   "source": [
    "MAX_SENT_LENGTH = 100\n",
    "MAX_SENTS = 15\n",
    "MAX_NB_WORDS = 20000\n",
    "EMBEDDING_DIM = 100\n",
    "VALIDATION_SPLIT = 0.2\n",
    "\n",
    "MAX_SEQUENCE = 100"
   ]
  },
  {
   "cell_type": "code",
   "execution_count": 4,
   "metadata": {},
   "outputs": [],
   "source": [
    "import pickle\n",
    "\n",
    "def save_pickle(path, X):\n",
    "    with open(path, 'wb') as f:\n",
    "        pickle.dump(X, f)\n",
    "\n",
    "def open_pickle(path):\n",
    "    with open(path, 'rb') as f:\n",
    "        X = pickle.load(f)\n",
    "    return X\n",
    "\n",
    "X_train = open_pickle(\"../../data/imdb/imdb_original_preprocessed_xtrain.pickle\")\n",
    "X_test = open_pickle(\"../../data/imdb/imdb_original_preprocessed_xtest.pickle\")\n",
    "y_tr = open_pickle(\"../../data/imdb/imdb_original_preprocessed_ytrain.pickle\")\n",
    "y_test = open_pickle(\"../../data/imdb/imdb_original_preprocessed_ytest.pickle\")"
   ]
  },
  {
   "cell_type": "code",
   "execution_count": 5,
   "metadata": {},
   "outputs": [],
   "source": [
    "tokenizer = Tokenizer(num_words=MAX_NB_WORDS)\n",
    "tokenizer.fit_on_texts(X_train)"
   ]
  },
  {
   "cell_type": "code",
   "execution_count": 6,
   "metadata": {},
   "outputs": [],
   "source": [
    "# create a placeholder\n",
    "\n",
    "data = np.zeros((len(X_train), MAX_SEQUENCE),dtype='int32')"
   ]
  },
  {
   "cell_type": "code",
   "execution_count": 7,
   "metadata": {},
   "outputs": [
    {
     "data": {
      "text/plain": [
       "(25000, 100)"
      ]
     },
     "execution_count": 7,
     "metadata": {},
     "output_type": "execute_result"
    }
   ],
   "source": [
    "data.shape"
   ]
  },
  {
   "cell_type": "code",
   "execution_count": 8,
   "metadata": {},
   "outputs": [],
   "source": [
    "wordTokens = text_to_word_sequence(X_train[0])"
   ]
  },
  {
   "cell_type": "code",
   "execution_count": 11,
   "metadata": {},
   "outputs": [],
   "source": [
    "for i, doc in enumerate(X_train):\n",
    "    wordTokens = text_to_word_sequence(doc)\n",
    "    for j, word in enumerate(wordTokens):\n",
    "        if j<MAX_SEQUENCE and tokenizer.word_index[word]<MAX_NB_WORDS:\n",
    "            data[i,j] = tokenizer.word_index[word]"
   ]
  },
  {
   "cell_type": "code",
   "execution_count": 12,
   "metadata": {},
   "outputs": [],
   "source": [
    "labels = to_categorical(np.asarray(y_tr))\n",
    "labels = np.asarray(y_tr)"
   ]
  },
  {
   "cell_type": "code",
   "execution_count": 13,
   "metadata": {},
   "outputs": [],
   "source": [
    "word_index = tokenizer.word_index"
   ]
  },
  {
   "cell_type": "code",
   "execution_count": 14,
   "metadata": {},
   "outputs": [
    {
     "name": "stdout",
     "output_type": "stream",
     "text": [
      "Total 85439 unique tokens.\n",
      "Shape of data tensor: (25000, 100)\n",
      "Shape of label tensor: (25000,)\n"
     ]
    }
   ],
   "source": [
    "print('Total %s unique tokens.' % len(word_index))\n",
    "print('Shape of data tensor:', data.shape)\n",
    "print('Shape of label tensor:', labels.shape)"
   ]
  },
  {
   "cell_type": "code",
   "execution_count": 15,
   "metadata": {},
   "outputs": [],
   "source": [
    "indices = np.arange(data.shape[0])\n",
    "np.random.seed(1234)\n",
    "np.random.shuffle(indices)\n",
    "data = data[indices]\n",
    "labels = labels[indices]\n",
    "nb_validation_samples = int(VALIDATION_SPLIT * data.shape[0])"
   ]
  },
  {
   "cell_type": "code",
   "execution_count": 16,
   "metadata": {},
   "outputs": [],
   "source": [
    "x_train = data[:-nb_validation_samples]\n",
    "y_train = labels[:-nb_validation_samples]\n",
    "x_val = data[-nb_validation_samples:]\n",
    "y_val = labels[-nb_validation_samples:]"
   ]
  },
  {
   "cell_type": "code",
   "execution_count": 17,
   "metadata": {},
   "outputs": [
    {
     "name": "stdout",
     "output_type": "stream",
     "text": [
      "Number of positive and negative reviews in training and validation set\n",
      "9964\n",
      "2536\n"
     ]
    }
   ],
   "source": [
    "print('Number of positive and negative reviews in training and validation set')\n",
    "print(y_train.sum(axis=0))\n",
    "print(y_val.sum(axis=0))"
   ]
  },
  {
   "cell_type": "markdown",
   "metadata": {},
   "source": [
    "### GloVe"
   ]
  },
  {
   "cell_type": "code",
   "execution_count": 18,
   "metadata": {},
   "outputs": [],
   "source": [
    "GLOVE_DIR = \"../../data/glove.6B\"\n",
    "embeddings_index = {}\n",
    "f = open(os.path.join(GLOVE_DIR, 'glove.6B.100d.txt'), 'rb')\n",
    "for line in f:\n",
    "    values = line.split()\n",
    "    word = values[0]\n",
    "    coefs = np.asarray(values[1:], dtype='float32')\n",
    "    embeddings_index[word] = coefs\n",
    "f.close()"
   ]
  },
  {
   "cell_type": "code",
   "execution_count": 19,
   "metadata": {},
   "outputs": [
    {
     "name": "stdout",
     "output_type": "stream",
     "text": [
      "Total 400000 word vectors.\n"
     ]
    }
   ],
   "source": [
    "print('Total %s word vectors.' % len(embeddings_index))"
   ]
  },
  {
   "cell_type": "code",
   "execution_count": 20,
   "metadata": {},
   "outputs": [],
   "source": [
    "embedding_matrix = np.random.random((len(word_index) + 1, EMBEDDING_DIM))\n",
    "\n",
    "for word, i in word_index.items():\n",
    "    embedding_vector = embeddings_index.get(word)\n",
    "    if embedding_vector is not None:\n",
    "        embedding_matrix[i] = embedding_vector\n",
    "    \n",
    "embedding_layer = Embedding(len(word_index)+1,\n",
    "                               EMBEDDING_DIM,\n",
    "                               weights=[embedding_matrix],\n",
    "                               input_length=MAX_SEQUENCE,\n",
    "                               trainable=False)\n",
    "\n"
   ]
  },
  {
   "cell_type": "code",
   "execution_count": 21,
   "metadata": {},
   "outputs": [
    {
     "data": {
      "text/plain": [
       "85439"
      ]
     },
     "execution_count": 21,
     "metadata": {},
     "output_type": "execute_result"
    }
   ],
   "source": [
    "len(word_index)"
   ]
  },
  {
   "cell_type": "code",
   "execution_count": 22,
   "metadata": {},
   "outputs": [],
   "source": [
    "# Test the embedding layer output\n",
    "\n",
    "doc_input = Input(shape=(MAX_SEQUENCE,), dtype='int32')\n",
    "embedded_sequences = embedding_layer(doc_input)\n",
    "\n",
    "model = Model(doc_input, embedded_sequences)"
   ]
  },
  {
   "cell_type": "code",
   "execution_count": 23,
   "metadata": {},
   "outputs": [
    {
     "name": "stdout",
     "output_type": "stream",
     "text": [
      "_________________________________________________________________\n",
      "Layer (type)                 Output Shape              Param #   \n",
      "=================================================================\n",
      "input_1 (InputLayer)         (None, 100)               0         \n",
      "_________________________________________________________________\n",
      "embedding_1 (Embedding)      (None, 100, 100)          8544000   \n",
      "=================================================================\n",
      "Total params: 8,544,000\n",
      "Trainable params: 0\n",
      "Non-trainable params: 8,544,000\n",
      "_________________________________________________________________\n"
     ]
    }
   ],
   "source": [
    "model.summary()"
   ]
  },
  {
   "cell_type": "code",
   "execution_count": 24,
   "metadata": {},
   "outputs": [
    {
     "data": {
      "text/plain": [
       "8543900"
      ]
     },
     "execution_count": 24,
     "metadata": {},
     "output_type": "execute_result"
    }
   ],
   "source": [
    "len(word_index)*100"
   ]
  },
  {
   "cell_type": "code",
   "execution_count": 25,
   "metadata": {},
   "outputs": [],
   "source": [
    "model.compile(optimizer='adam', loss='binary_crossentropy', metrics=['acc'])"
   ]
  },
  {
   "cell_type": "code",
   "execution_count": 26,
   "metadata": {},
   "outputs": [],
   "source": [
    "output = model.predict(x_train[:2,:])"
   ]
  },
  {
   "cell_type": "code",
   "execution_count": 27,
   "metadata": {},
   "outputs": [
    {
     "data": {
      "text/plain": [
       "(2, 100, 100)"
      ]
     },
     "execution_count": 27,
     "metadata": {},
     "output_type": "execute_result"
    }
   ],
   "source": [
    "output.shape"
   ]
  },
  {
   "cell_type": "markdown",
   "metadata": {},
   "source": [
    "### Advanced Layer\n",
    "\n",
    "Supposed you have two inputs x1 and x2 at each step of the RNN/LSTM. Your RNN function looks like:\n",
    "h(t) = (Wh * h(t-1) + W1 * x1 + W2 *x2),\n",
    "\n",
    "then you can have a\n",
    "\n",
    "Dense layer to perform (W1 * x1 +b1) --->Dense1 <br>\n",
    "Dense layer to perform (W2 * x2 +b2) --->Dense2 <br>\n",
    "Merge Layer to sum Dense1 and Dense2, so you get: $(W_1 * x_1 + W_2 *x_2)$<br>"
   ]
  },
  {
   "cell_type": "code",
   "execution_count": 31,
   "metadata": {},
   "outputs": [
    {
     "name": "stderr",
     "output_type": "stream",
     "text": [
      "C:\\Users\\Anneke Hidayat\\Anaconda3\\lib\\site-packages\\ipykernel_launcher.py:9: UserWarning: Update your `Dense` call to the Keras 2 API: `Dense(1, activation=\"linear\", use_bias=True)`\n",
      "  if __name__ == '__main__':\n",
      "C:\\Users\\Anneke Hidayat\\Anaconda3\\lib\\site-packages\\ipykernel_launcher.py:10: UserWarning: Update your `Dense` call to the Keras 2 API: `Dense(1, activation=\"linear\", use_bias=True)`\n",
      "  # Remove the CWD from sys.path while we load stuff.\n"
     ]
    }
   ],
   "source": [
    "\n",
    "document_input = Input(shape=(MAX_SEQUENCE,), dtype='int32', name='document_input')\n",
    "embedding = embedding_layer(document_input)\n",
    "\n",
    "# Generator\n",
    "gen_GRU = Bidirectional(GRU(50), merge_mode='concat', name='gen_GRU')(embedding)\n",
    "\n",
    "# linear equation inside sigmoid should be multiplied using two weights. (trainable)\n",
    "# dense_1 = Dense(1, activation='linear', bias=True)(embedding)\n",
    "# dense_2 = Dense(1, activation='linear', bias=True)(gen_GRU)\n",
    "# merge_dense = add([dense_1, dense_2])\n",
    "# flat = Flatten()(merge_dense)\n",
    "# GRU_sigmoid = Dense(MAX_SEQUENCE, activation='sigmoid', kernel_initializer='uniform')(flat)\n",
    "\n",
    "zLayer = Zlayer()()\n",
    "\n",
    "# cast_layer = CastLayer()(GRU_sigmoid)\n",
    "# cast_layer = Lambda(lambda x : K.cast(K.greater(x, 0.5), dtype='int32'))(GRU_sigmoid)\n",
    "# x = Lambda(lambda a: K.stop_gradient(a))(cast_layer)\n",
    "# We need to implement the sampling on z layer\n",
    "# and stop gradient\n",
    "\n",
    "# Encoder\n",
    "concat_layer = multiply([cast_layer, document_input])\n",
    "embedding_2 = embedding_layer(concat_layer)\n",
    "encoder_RNN = GRU(100)(embedding_2)\n",
    "output_layer = Dense(1, activation='sigmoid')(encoder_RNN)\n",
    "\n",
    "generator = Model(document_input, output_layer)"
   ]
  },
  {
   "cell_type": "code",
   "execution_count": 44,
   "metadata": {},
   "outputs": [],
   "source": [
    "document_input = Input(shape=(MAX_SEQUENCE,), dtype='int32', name='document_input')\n",
    "embedding = embedding_layer(document_input)\n",
    "\n",
    "# Generator\n",
    "gen_GRU = Bidirectional(GRU(50), merge_mode='concat', name='gen_GRU')(embedding)\n",
    "# concat_layer = concatenate([gen_GRU, document_input])\n",
    "output_gen = Dense(1, activation='sigmoid')(gen_GRU)\n",
    "\n",
    "generator = Model(document_input, output_gen)"
   ]
  },
  {
   "cell_type": "code",
   "execution_count": 61,
   "metadata": {},
   "outputs": [],
   "source": [
    "def mse(y_true, y_pred):\n",
    "    return K.mean(K.square(y_pred - y_true), axis=-1)\n",
    "\n",
    "def l1_sparse_coherent(weight_matrix):\n",
    "    print(weight_matrix.shape)\n",
    "    sparse = 1 * K.sum(K.abs(weight_matrix))\n",
    "    coherent = weight_matrix[0]\n",
    "    for i, z in enumerate(weight_matrix):\n",
    "        coherent += K.abs(weight_matrix[i]-weight_matrix[i-1])\n",
    "    coherent *= 0.01\n",
    "    return sparse"
   ]
  },
  {
   "cell_type": "code",
   "execution_count": 62,
   "metadata": {},
   "outputs": [
    {
     "name": "stdout",
     "output_type": "stream",
     "text": [
      "(32,)\n",
      "Tensor(\"mul_5:0\", shape=(), dtype=float64)\n"
     ]
    }
   ],
   "source": [
    "matrix = np.ones((32))\n",
    "l1_sparse_coherent(matrix)"
   ]
  },
  {
   "cell_type": "code",
   "execution_count": 45,
   "metadata": {},
   "outputs": [
    {
     "name": "stdout",
     "output_type": "stream",
     "text": [
      "_________________________________________________________________\n",
      "Layer (type)                 Output Shape              Param #   \n",
      "=================================================================\n",
      "document_input (InputLayer)  (None, 100)               0         \n",
      "_________________________________________________________________\n",
      "embedding_1 (Embedding)      (None, 100, 100)          8544000   \n",
      "_________________________________________________________________\n",
      "gen_GRU (Bidirectional)      (None, 100)               45300     \n",
      "_________________________________________________________________\n",
      "dense_11 (Dense)             (None, 1)                 101       \n",
      "=================================================================\n",
      "Total params: 8,589,401\n",
      "Trainable params: 45,401\n",
      "Non-trainable params: 8,544,000\n",
      "_________________________________________________________________\n"
     ]
    }
   ],
   "source": [
    "generator.summary()"
   ]
  },
  {
   "cell_type": "code",
   "execution_count": 34,
   "metadata": {},
   "outputs": [],
   "source": [
    "x = generator.predict(x_val[:2])"
   ]
  },
  {
   "cell_type": "code",
   "execution_count": 35,
   "metadata": {},
   "outputs": [
    {
     "data": {
      "text/plain": [
       "(2, 100)"
      ]
     },
     "execution_count": 35,
     "metadata": {},
     "output_type": "execute_result"
    }
   ],
   "source": [
    "x.shape"
   ]
  },
  {
   "cell_type": "code",
   "execution_count": null,
   "metadata": {},
   "outputs": [],
   "source": [
    "y_dummy = np.random.randint(0, high=2, size=(x_val.shape[0], MAX_SEQUENCE))"
   ]
  },
  {
   "cell_type": "code",
   "execution_count": null,
   "metadata": {},
   "outputs": [],
   "source": [
    "y_dummy.shape"
   ]
  },
  {
   "cell_type": "code",
   "execution_count": null,
   "metadata": {},
   "outputs": [],
   "source": [
    "# generator.compile(optimizer='adam', loss='binary_crossentropy', metrics=['acc'])\n",
    "\n",
    "generator.compile(optimizer='adam', loss='mse', metrics=['acc'])"
   ]
  },
  {
   "cell_type": "code",
   "execution_count": null,
   "metadata": {},
   "outputs": [],
   "source": [
    "generator.summary()"
   ]
  },
  {
   "cell_type": "code",
   "execution_count": null,
   "metadata": {},
   "outputs": [],
   "source": [
    "# generator.fit(x_train,y_train, validation_data=(x_val,y_val), \n",
    "#           epochs=2, batch_size=50, verbose=1)\n",
    "\n",
    "# generator.fit(x_val, y_val, epochs=2, batch_size=50, verbose=1)"
   ]
  },
  {
   "cell_type": "code",
   "execution_count": null,
   "metadata": {},
   "outputs": [],
   "source": [
    "y = generator.evaluate(x_train, y_train)"
   ]
  },
  {
   "cell_type": "code",
   "execution_count": null,
   "metadata": {},
   "outputs": [],
   "source": [
    "y = generator.predict(x_val)"
   ]
  },
  {
   "cell_type": "code",
   "execution_count": null,
   "metadata": {},
   "outputs": [],
   "source": [
    "y.shape"
   ]
  },
  {
   "cell_type": "code",
   "execution_count": null,
   "metadata": {},
   "outputs": [],
   "source": [
    "y[0]"
   ]
  },
  {
   "cell_type": "code",
   "execution_count": null,
   "metadata": {},
   "outputs": [],
   "source": [
    "# y[0]"
   ]
  },
  {
   "cell_type": "code",
   "execution_count": null,
   "metadata": {},
   "outputs": [],
   "source": [
    "generator.layers[0]"
   ]
  },
  {
   "cell_type": "code",
   "execution_count": null,
   "metadata": {},
   "outputs": [],
   "source": [
    "# Get an intermediate layer output \n",
    "\n",
    "from keras import backend as K\n",
    "\n",
    "# with a Sequential model\n",
    "get_bidirectional_output = K.function([generator.layers[0].input],\n",
    "                                  [generator.layers[3].output])\n",
    "layer_output = get_bidirectional_output([x_val])[0]"
   ]
  },
  {
   "cell_type": "code",
   "execution_count": null,
   "metadata": {},
   "outputs": [],
   "source": [
    "layer_output.shape"
   ]
  },
  {
   "cell_type": "code",
   "execution_count": null,
   "metadata": {},
   "outputs": [],
   "source": [
    "x[0]"
   ]
  },
  {
   "cell_type": "code",
   "execution_count": null,
   "metadata": {},
   "outputs": [],
   "source": [
    "class CastLayer(Layer):\n",
    "\n",
    "    def __init__(self,\n",
    "                 **kwargs):\n",
    "        super(CastLayer, self).__init__(**kwargs)\n",
    "\n",
    "    def build(self, input_shape):\n",
    "#         Create a trainable weight variable for this layer.\n",
    "        self.z = self.add_weight(name='zpred', \n",
    "                                      shape=(input_shape[0], input_shape[1]),\n",
    "                                      initializer='uniform',\n",
    "                                      trainable=False)\n",
    "        super(CastLayer, self).build(input_shape)  # Be sure to call this at the end\n",
    "\n",
    "    def call(self, inputs):\n",
    "        # inputs[0] to be the last layer of bidirectional RNN\n",
    "        # inputs[1] to be the document_input\n",
    "#         tf.cast(tf.less_equal(tf.random_uniform(pz_t.get_shape(),\n",
    "#                                                       dtype=tf.float32, seed=seed),\n",
    "#                                                         pz_t),\n",
    "#                                                       tf.float32)\n",
    "\n",
    "\n",
    "        self.z = K.cast(K.greater(x, 0.5), dtype='int32')\n",
    "        \n",
    "#         return tf.multiply(doc_input, tf.reshape(z, (-1, 1)))\n",
    "        return self.z\n",
    "        \n",
    "    def compute_output_shape(self, input_shape):\n",
    "#         return input_shape[0], MAX_SEQUENCE, EMBEDDING_DIM\n",
    "        return input_shape[0], input_shape[-1]"
   ]
  },
  {
   "cell_type": "code",
   "execution_count": 41,
   "metadata": {},
   "outputs": [],
   "source": [
    "# https://gist.github.com/cbaziotis/7ef97ccf71cbc14366835198c09809d2\n",
    "# other reference : \n",
    "# https://gist.github.com/cbaziotis/6428df359af27d58078ca5ed9792bd6d\n",
    "\n",
    "def dot_product(x, kernel):\n",
    "    if K.backend() == 'tensorflow':\n",
    "        return K.squeeze(K.dot(x, K.expand_dims(kernel)), axis=-1)\n",
    "    else:\n",
    "        return K.dot(x, kernel)\n",
    "    \n",
    "class Zlayer(Layer):\n",
    "    def __init__(self,\n",
    "        w1_regularizer=None, w2_regularizer=None,\n",
    "        w1_constraint=None, w2_constraint=None,\n",
    "        bias=True, **kwargs):\n",
    "            \n",
    "        self.supports_masking = False\n",
    "        self.init = initializers.get('uniform')\n",
    "        \n",
    "        self.w1_regularizer = regularizers.get(w1_regularizer)\n",
    "        self.w2_regularizer = regularizers.get(w2_regularizer)\n",
    "        \n",
    "        self.w1_constraint = constraints.get(w1_constraint)\n",
    "        self.w2_constraint = constraints.get(w2_constraint)\n",
    "    \n",
    "        self.bias = bias\n",
    "        \n",
    "        super(Zlayer, self).__init__(**kwargs)\n",
    "\n",
    "    def build(self, input_shape):\n",
    "        assert len(input_shape) == 3\n",
    "    \n",
    "        self.w1 = self.add_weight((input_shape[-1], 1,),\n",
    "                                  initializer=self.init,\n",
    "                                  name='{}_w1'.format(self.name),\n",
    "                                  regularizer=self.w1_regularizer,\n",
    "                                  constraint=self.w1_constraint,\n",
    "                                  trainable=True\n",
    "                                )\n",
    "            \n",
    "#         self.w2 = self.add_weight((input_shape[-1],),\n",
    "#                                 initializer=self.init,\n",
    "#                                 name='{}_w2'.format(self.name),\n",
    "#                                 regularizer=self.w2_regularizer,\n",
    "#                                 constraint=self.w2_constraint,\n",
    "#                                 trainable=True)\n",
    "        \n",
    "        if self.bias:\n",
    "            self.b = self.add_weight((input_shape[-1],),\n",
    "                                    initializer='zero',\n",
    "                                    name='{}_b'.format(self.name),\n",
    "                                    regularizer=self.b_regularizer,\n",
    "                                    constraint=self.b_constraint,\n",
    "                                    trainable=True)\n",
    "            \n",
    "        self.z = self.add_weight(shape=(input_shape[1], input_shape[-1]),\n",
    "                                initializer=self.init,\n",
    "                                trainable=False)\n",
    "      \n",
    "        \n",
    "    \n",
    "        super(Zlayer, self).build(input_shape)\n",
    "    \n",
    "    def compute_mask(self, input, input_mask=None):\n",
    "        return None\n",
    "        \n",
    "    def call(self, inputs, mask=None):\n",
    "        # inputs[0] to be the last layer of bidirectional RNN\n",
    "        # inputs[1] to be the document_input\n",
    "        # sampling first\n",
    "        # we got x. Apply \n",
    "        # x\n",
    "        w1_w2_dot = dot_product(inputs[0], self.w1) + dot_product(inputs[1], self.w2)\n",
    "        \n",
    "        if self.bias:\n",
    "            w1_w2_dot += self.b\n",
    "        \n",
    "        self.z_sampling = K.sigmoid(w1_w2_dot)\n",
    "        \n",
    "        \n",
    "        return K.cast(K.greater(self.z_sampling, 0.5), dtype='int32')\n",
    "        \n",
    "    def compute_output_shape(self, input_shape):\n",
    "        return input_shape[0], input_shape[-1]\n",
    "    \n",
    "    def sample_all(self, x):\n",
    "        # x is already the hidden unit\n",
    "        return x\n",
    "        "
   ]
  },
  {
   "cell_type": "code",
   "execution_count": null,
   "metadata": {},
   "outputs": [],
   "source": [
    "# z-layer"
   ]
  },
  {
   "cell_type": "code",
   "execution_count": null,
   "metadata": {},
   "outputs": [],
   "source": []
  },
  {
   "cell_type": "code",
   "execution_count": null,
   "metadata": {},
   "outputs": [],
   "source": []
  },
  {
   "cell_type": "code",
   "execution_count": null,
   "metadata": {},
   "outputs": [],
   "source": []
  }
 ],
 "metadata": {
  "kernelspec": {
   "display_name": "Python 3",
   "language": "python",
   "name": "python3"
  },
  "language_info": {
   "codemirror_mode": {
    "name": "ipython",
    "version": 3
   },
   "file_extension": ".py",
   "mimetype": "text/x-python",
   "name": "python",
   "nbconvert_exporter": "python",
   "pygments_lexer": "ipython3",
   "version": "3.6.4"
  }
 },
 "nbformat": 4,
 "nbformat_minor": 2
}

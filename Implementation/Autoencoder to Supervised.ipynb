{
 "cells": [
  {
   "cell_type": "code",
   "execution_count": 1,
   "metadata": {},
   "outputs": [
    {
     "name": "stderr",
     "output_type": "stream",
     "text": [
      "/home/ckomurlu/anaconda3/envs/keras/lib/python3.6/site-packages/h5py/__init__.py:36: FutureWarning: Conversion of the second argument of issubdtype from `float` to `np.floating` is deprecated. In future, it will be treated as `np.float64 == np.dtype(float).type`.\n",
      "  from ._conv import register_converters as _register_converters\n",
      "Using TensorFlow backend.\n"
     ]
    }
   ],
   "source": [
    "from keras.models import Sequential\n",
    "from keras.layers import Activation, Dense"
   ]
  },
  {
   "cell_type": "code",
   "execution_count": 2,
   "metadata": {},
   "outputs": [],
   "source": [
    "import numpy as np"
   ]
  },
  {
   "cell_type": "code",
   "execution_count": 3,
   "metadata": {},
   "outputs": [],
   "source": [
    "dataset = np.loadtxt(r'/home/ckomurlu/workbench/data/intelResearch/5days_refactored_temp.csv',\n",
    "                    delimiter=',')\n",
    "x_train = dataset[:143]\n",
    "y_train = dataset[1:144]\n",
    "x_valid = dataset[143:191]\n",
    "y_valid = dataset[144:192]\n",
    "x_test = dataset[191:-1]\n",
    "y_test = dataset[192:]"
   ]
  },
  {
   "cell_type": "code",
   "execution_count": 51,
   "metadata": {},
   "outputs": [],
   "source": [
    "#First model initialized and fit.\n",
    "n_hunits = [30, 15, 30]\n",
    "activation = 'relu'\n",
    "epochs = 400\n",
    "batch_size = 16\n",
    "\n",
    "model = Sequential()\n",
    "model.add(Dense(n_hunits[0], input_dim=x_train.shape[1], activation=activation))\n",
    "model.add(Dense(n_hunits[1], activation=activation))\n",
    "model.add(Dense(n_hunits[2], activation=activation))\n",
    "model.add(Dense(x_train.shape[1]))\n",
    "model.compile(loss='mean_squared_error', optimizer='adadelta', metrics=['mean_absolute_error'])\n",
    "hist = model.fit(x_train, x_train, epochs=epochs, verbose=0, batch_size=batch_size, validation_data=(x_valid, x_valid))"
   ]
  },
  {
   "cell_type": "code",
   "execution_count": 52,
   "metadata": {},
   "outputs": [],
   "source": [
    "#Create the second model but do not fit it, yet.\n",
    "model2 = Sequential()\n",
    "model2.add(Dense(n_hunits[0], input_dim=x_train.shape[1], activation=activation))\n",
    "model2.add(Dense(n_hunits[1], activation=activation))\n",
    "model2.add(Dense(y_train.shape[1]))\n",
    "model2.compile(loss='mean_squared_error', optimizer='adadelta', metrics=['mean_absolute_error'])"
   ]
  },
  {
   "cell_type": "code",
   "execution_count": 53,
   "metadata": {},
   "outputs": [],
   "source": [
    "#Copy weights and biases from the autoencoder for all layers in the latter network except its output layer.\n",
    "for i in range(len(model2.layers)-1):\n",
    "    model2.layers[i].set_weights((model.get_weights()[2*i], model.get_weights()[2*i+1]))"
   ]
  },
  {
   "cell_type": "code",
   "execution_count": 54,
   "metadata": {},
   "outputs": [],
   "source": [
    "#Now, it is time to train the second model.\n",
    "hist = model2.fit(x_train, y_train, epochs=epochs, verbose=0, batch_size=batch_size, validation_data=(x_valid, y_valid))"
   ]
  },
  {
   "cell_type": "code",
   "execution_count": 55,
   "metadata": {},
   "outputs": [
    {
     "data": {
      "text/plain": [
       "array([[20.089506, 20.190876, 20.276272, ..., 18.908703, 18.384605,\n",
       "        17.72198 ],\n",
       "       [19.960596, 20.068161, 20.152224, ..., 18.781944, 18.25359 ,\n",
       "        17.592976],\n",
       "       [19.862545, 19.991436, 20.065622, ..., 18.700642, 18.148222,\n",
       "        17.473392],\n",
       "       ...,\n",
       "       [20.628742, 20.816055, 20.849749, ..., 19.548346, 18.916466,\n",
       "        18.137674],\n",
       "       [20.52351 , 20.727158, 20.752054, ..., 19.461605, 18.804604,\n",
       "        18.019981],\n",
       "       [20.43799 , 20.630957, 20.660759, ..., 19.367338, 18.732655,\n",
       "        17.955566]], dtype=float32)"
      ]
     },
     "execution_count": 55,
     "metadata": {},
     "output_type": "execute_result"
    }
   ],
   "source": [
    "model2.predict(x_test)"
   ]
  }
 ],
 "metadata": {
  "kernelspec": {
   "display_name": "Python 3",
   "language": "python",
   "name": "python3"
  },
  "language_info": {
   "codemirror_mode": {
    "name": "ipython",
    "version": 3
   },
   "file_extension": ".py",
   "mimetype": "text/x-python",
   "name": "python",
   "nbconvert_exporter": "python",
   "pygments_lexer": "ipython3",
   "version": "3.6.4"
  }
 },
 "nbformat": 4,
 "nbformat_minor": 2
}

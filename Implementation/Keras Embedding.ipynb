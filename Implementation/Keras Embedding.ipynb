{
 "cells": [
  {
   "cell_type": "code",
   "execution_count": 1,
   "metadata": {},
   "outputs": [
    {
     "name": "stderr",
     "output_type": "stream",
     "text": [
      "C:\\Users\\Anneke Hidayat\\Anaconda3\\lib\\site-packages\\h5py\\__init__.py:36: FutureWarning: Conversion of the second argument of issubdtype from `float` to `np.floating` is deprecated. In future, it will be treated as `np.float64 == np.dtype(float).type`.\n",
      "  from ._conv import register_converters as _register_converters\n",
      "Using TensorFlow backend.\n"
     ]
    },
    {
     "name": "stdout",
     "output_type": "stream",
     "text": [
      "[[1, 7], [4, 8, 7], [3, 8], [6], [8], [7, 7], [6, 4], [7, 8], [4, 4, 7, 5]]\n",
      "[[1 7 0 0]\n",
      " [4 8 7 0]\n",
      " [3 8 0 0]\n",
      " [6 0 0 0]\n",
      " [8 0 0 0]\n",
      " [7 7 0 0]\n",
      " [6 4 0 0]\n",
      " [7 8 0 0]\n",
      " [4 4 7 5]]\n",
      "_________________________________________________________________\n",
      "Layer (type)                 Output Shape              Param #   \n",
      "=================================================================\n",
      "embedding_1 (Embedding)      (None, 4, 2)              20        \n",
      "=================================================================\n",
      "Total params: 20\n",
      "Trainable params: 20\n",
      "Non-trainable params: 0\n",
      "_________________________________________________________________\n",
      "None\n"
     ]
    }
   ],
   "source": [
    "from numpy import array\n",
    "from keras.preprocessing.text import one_hot\n",
    "from keras.preprocessing.sequence import pad_sequences\n",
    "from keras.models import Sequential\n",
    "from keras.layers import Dense\n",
    "from keras.layers import Flatten\n",
    "from keras.layers.embeddings import Embedding\n",
    "\n",
    "# define documents\n",
    "docs = ['Well done!',\n",
    "        'Good work'\n",
    "        'Great effort',\n",
    "        'nice work',\n",
    "        'Excellent!',\n",
    "        'Weak',\n",
    "        'Poor effort!',\n",
    "        'not good',\n",
    "        'poor work',\n",
    "        'Could have done better.']\n",
    "# define class labels\n",
    "labels = array([1,1,1,1,1,0,0,0,0,0])\n",
    "\n",
    "# integer encode the documents\n",
    "vocab_size = 10\n",
    "encoded_docs = [one_hot(d, vocab_size) for d in docs]\n",
    "print(encoded_docs)\n",
    "\n",
    "# pad documents to a max length of 4 words\n",
    "max_length = 4\n",
    "padded_docs = pad_sequences(encoded_docs, maxlen=None, padding='post')\n",
    "print(padded_docs)\n",
    "\n",
    "# define the model\n",
    "model = Sequential()\n",
    "model.add(Embedding(vocab_size, 2, input_length=max_length))\n",
    "# model.add(Flatten())\n",
    "# model.add(Dense(1, activation='sigmoid'))\n",
    "\n",
    "# compile the model\n",
    "model.compile(optimizer='adam', loss='binary_crossentropy', metrics=['acc'])\n",
    "\n",
    "# summarize the model\n",
    "print(model.summary())"
   ]
  },
  {
   "cell_type": "code",
   "execution_count": 2,
   "metadata": {},
   "outputs": [],
   "source": [
    "import numpy as np\n",
    "\n",
    "# model = Sequential()\n",
    "# model.add(Embedding(1000, 64, input_length=10))\n",
    "# the model will take as input an integer matrix of size (batch, input_length).\n",
    "# the largest integer (i.e. word index) in the input should be no larger than 999 (vocabulary size).\n",
    "# now model.output_shape == (None, 10, 64), where None is the batch dimension.\n",
    "\n",
    "# input_array = np.random.randint(1000, size=(32, 10))\n",
    "\n",
    "# model.compile('rmsprop', 'mse')\n",
    "output_array = model.predict(padded_docs)\n",
    "# assert output_array.shape == (32, 10, 64)"
   ]
  },
  {
   "cell_type": "code",
   "execution_count": 3,
   "metadata": {},
   "outputs": [
    {
     "data": {
      "text/plain": [
       "[array([[-0.02619196,  0.03194037],\n",
       "        [-0.00765017,  0.02035532],\n",
       "        [-0.03479217, -0.01723608],\n",
       "        [ 0.00864689,  0.02570535],\n",
       "        [ 0.03251817, -0.01616557],\n",
       "        [-0.04700295, -0.02093154],\n",
       "        [-0.04162155,  0.0295226 ],\n",
       "        [-0.0463048 , -0.01977211],\n",
       "        [-0.03724138, -0.03286988],\n",
       "        [-0.00580846, -0.02814339]], dtype=float32)]"
      ]
     },
     "execution_count": 3,
     "metadata": {},
     "output_type": "execute_result"
    }
   ],
   "source": [
    "model.get_weights()"
   ]
  },
  {
   "cell_type": "code",
   "execution_count": 4,
   "metadata": {},
   "outputs": [
    {
     "data": {
      "text/plain": [
       "[{'class_name': 'Embedding',\n",
       "  'config': {'activity_regularizer': None,\n",
       "   'batch_input_shape': (None, 4),\n",
       "   'dtype': 'float32',\n",
       "   'embeddings_constraint': None,\n",
       "   'embeddings_initializer': {'class_name': 'RandomUniform',\n",
       "    'config': {'maxval': 0.05, 'minval': -0.05, 'seed': None}},\n",
       "   'embeddings_regularizer': None,\n",
       "   'input_dim': 10,\n",
       "   'input_length': 4,\n",
       "   'mask_zero': False,\n",
       "   'name': 'embedding_1',\n",
       "   'output_dim': 2,\n",
       "   'trainable': True}}]"
      ]
     },
     "execution_count": 4,
     "metadata": {},
     "output_type": "execute_result"
    }
   ],
   "source": [
    "# cos sim\n",
    "\n",
    "model.get_config()"
   ]
  },
  {
   "cell_type": "code",
   "execution_count": 13,
   "metadata": {},
   "outputs": [
    {
     "data": {
      "text/plain": [
       "array([[[ 0.03349861,  0.02965721],\n",
       "        [ 0.01325924, -0.00041144],\n",
       "        [-0.02595081, -0.0126145 ],\n",
       "        [-0.02595081, -0.0126145 ]],\n",
       "\n",
       "       [[ 0.00664603, -0.01895301],\n",
       "        [ 0.00664603, -0.01895301],\n",
       "        [-0.02595081, -0.0126145 ],\n",
       "        [-0.02595081, -0.0126145 ]],\n",
       "\n",
       "       [[ 0.00664603, -0.01895301],\n",
       "        [ 0.03606855, -0.03669266],\n",
       "        [-0.02595081, -0.0126145 ],\n",
       "        [-0.02595081, -0.0126145 ]],\n",
       "\n",
       "       [[ 0.03606855, -0.03669266],\n",
       "        [ 0.00664603, -0.01895301],\n",
       "        [-0.02595081, -0.0126145 ],\n",
       "        [-0.02595081, -0.0126145 ]],\n",
       "\n",
       "       [[ 0.01927965, -0.04948307],\n",
       "        [-0.02595081, -0.0126145 ],\n",
       "        [-0.02595081, -0.0126145 ],\n",
       "        [-0.02595081, -0.0126145 ]],\n",
       "\n",
       "       [[ 0.03349861,  0.02965721],\n",
       "        [-0.02595081, -0.0126145 ],\n",
       "        [-0.02595081, -0.0126145 ],\n",
       "        [-0.02595081, -0.0126145 ]],\n",
       "\n",
       "       [[ 0.01325924, -0.00041144],\n",
       "        [ 0.03606855, -0.03669266],\n",
       "        [-0.02595081, -0.0126145 ],\n",
       "        [-0.02595081, -0.0126145 ]],\n",
       "\n",
       "       [[ 0.01325924, -0.00041144],\n",
       "        [ 0.00664603, -0.01895301],\n",
       "        [-0.02595081, -0.0126145 ],\n",
       "        [-0.02595081, -0.0126145 ]],\n",
       "\n",
       "       [[ 0.01325924, -0.00041144],\n",
       "        [ 0.00664603, -0.01895301],\n",
       "        [-0.02595081, -0.0126145 ],\n",
       "        [-0.02595081, -0.0126145 ]],\n",
       "\n",
       "       [[ 0.02394744, -0.00938845],\n",
       "        [ 0.01325924, -0.00041144],\n",
       "        [ 0.01325924, -0.00041144],\n",
       "        [ 0.03606855, -0.03669266]]], dtype=float32)"
      ]
     },
     "execution_count": 13,
     "metadata": {},
     "output_type": "execute_result"
    }
   ],
   "source": [
    "output_array"
   ]
  },
  {
   "cell_type": "code",
   "execution_count": 3,
   "metadata": {},
   "outputs": [
    {
     "data": {
      "text/plain": [
       "(10, 4, 2)"
      ]
     },
     "execution_count": 3,
     "metadata": {},
     "output_type": "execute_result"
    }
   ],
   "source": [
    "output_array.shape"
   ]
  },
  {
   "cell_type": "code",
   "execution_count": 4,
   "metadata": {},
   "outputs": [
    {
     "data": {
      "text/plain": [
       "array([[ 0.01410856,  0.03978047],\n",
       "       [-0.00944977,  0.01914482],\n",
       "       [ 0.01024829,  0.04668455],\n",
       "       [ 0.01024829,  0.04668455]], dtype=float32)"
      ]
     },
     "execution_count": 4,
     "metadata": {},
     "output_type": "execute_result"
    }
   ],
   "source": [
    "output_array[0]"
   ]
  },
  {
   "cell_type": "code",
   "execution_count": 5,
   "metadata": {},
   "outputs": [
    {
     "data": {
      "text/plain": [
       "array([[-0.03778828, -0.04946722],\n",
       "       [-0.03778828, -0.04946722],\n",
       "       [ 0.01024829,  0.04668455],\n",
       "       [ 0.01024829,  0.04668455]], dtype=float32)"
      ]
     },
     "execution_count": 5,
     "metadata": {},
     "output_type": "execute_result"
    }
   ],
   "source": [
    "output_array[1]"
   ]
  },
  {
   "cell_type": "code",
   "execution_count": 8,
   "metadata": {},
   "outputs": [],
   "source": [
    "model = Sequential()\n",
    "model.add(Embedding(25000, 100, input_length=100))\n",
    "model.add(Flatten()) \n",
    "model.add(Dense(1))"
   ]
  },
  {
   "cell_type": "code",
   "execution_count": 9,
   "metadata": {},
   "outputs": [
    {
     "name": "stdout",
     "output_type": "stream",
     "text": [
      "_________________________________________________________________\n",
      "Layer (type)                 Output Shape              Param #   \n",
      "=================================================================\n",
      "embedding_4 (Embedding)      (None, 100, 100)          2500000   \n",
      "_________________________________________________________________\n",
      "flatten_2 (Flatten)          (None, 10000)             0         \n",
      "_________________________________________________________________\n",
      "dense_1 (Dense)              (None, 1)                 10001     \n",
      "=================================================================\n",
      "Total params: 2,510,001\n",
      "Trainable params: 2,510,001\n",
      "Non-trainable params: 0\n",
      "_________________________________________________________________\n"
     ]
    }
   ],
   "source": [
    "model.summary()"
   ]
  },
  {
   "cell_type": "code",
   "execution_count": null,
   "metadata": {},
   "outputs": [],
   "source": []
  }
 ],
 "metadata": {
  "kernelspec": {
   "display_name": "Python 3",
   "language": "python",
   "name": "python3"
  },
  "language_info": {
   "codemirror_mode": {
    "name": "ipython",
    "version": 3
   },
   "file_extension": ".py",
   "mimetype": "text/x-python",
   "name": "python",
   "nbconvert_exporter": "python",
   "pygments_lexer": "ipython3",
   "version": "3.6.4"
  }
 },
 "nbformat": 4,
 "nbformat_minor": 2
}

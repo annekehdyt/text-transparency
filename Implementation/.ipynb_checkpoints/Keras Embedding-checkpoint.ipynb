{
 "cells": [
  {
   "cell_type": "code",
   "execution_count": 14,
   "metadata": {},
   "outputs": [
    {
     "name": "stdout",
     "output_type": "stream",
     "text": [
      "[[7, 1], [8, 8], [8, 3], [3, 8], [2], [7], [1, 3], [1, 8], [1, 8], [4, 1, 1, 3]]\n",
      "[[7 1 0 0]\n",
      " [8 8 0 0]\n",
      " [8 3 0 0]\n",
      " [3 8 0 0]\n",
      " [2 0 0 0]\n",
      " [7 0 0 0]\n",
      " [1 3 0 0]\n",
      " [1 8 0 0]\n",
      " [1 8 0 0]\n",
      " [4 1 1 3]]\n",
      "_________________________________________________________________\n",
      "Layer (type)                 Output Shape              Param #   \n",
      "=================================================================\n",
      "embedding_6 (Embedding)      (None, 4, 2)              20        \n",
      "=================================================================\n",
      "Total params: 20\n",
      "Trainable params: 20\n",
      "Non-trainable params: 0\n",
      "_________________________________________________________________\n",
      "None\n"
     ]
    }
   ],
   "source": [
    "from numpy import array\n",
    "from keras.preprocessing.text import one_hot\n",
    "from keras.preprocessing.sequence import pad_sequences\n",
    "from keras.models import Sequential\n",
    "from keras.layers import Dense\n",
    "from keras.layers import Flatten\n",
    "from keras.layers.embeddings import Embedding\n",
    "\n",
    "# define documents\n",
    "docs = ['Well done!',\n",
    "        'Good work',\n",
    "        'Great effort',\n",
    "        'nice work',\n",
    "        'Excellent!',\n",
    "        'Weak',\n",
    "        'Poor effort!',\n",
    "        'not good',\n",
    "        'poor work',\n",
    "        'Could have done better.']\n",
    "# define class labels\n",
    "labels = array([1,1,1,1,1,0,0,0,0,0])\n",
    "\n",
    "# integer encode the documents\n",
    "vocab_size = 10\n",
    "encoded_docs = [one_hot(d, vocab_size) for d in docs]\n",
    "print(encoded_docs)\n",
    "\n",
    "# pad documents to a max length of 4 words\n",
    "max_length = 4\n",
    "padded_docs = pad_sequences(encoded_docs, maxlen=None, padding='post')\n",
    "print(padded_docs)\n",
    "\n",
    "# define the model\n",
    "model = Sequential()\n",
    "model.add(Embedding(vocab_size, 2, input_length=max_length))\n",
    "# model.add(Flatten())\n",
    "# model.add(Dense(1, activation='sigmoid'))\n",
    "\n",
    "# compile the model\n",
    "model.compile(optimizer='adam', loss='binary_crossentropy', metrics=['acc'])\n",
    "\n",
    "# summarize the model\n",
    "print(model.summary())"
   ]
  },
  {
   "cell_type": "code",
   "execution_count": 15,
   "metadata": {},
   "outputs": [],
   "source": [
    "import numpy as np\n",
    "\n",
    "# model = Sequential()\n",
    "# model.add(Embedding(1000, 64, input_length=10))\n",
    "# the model will take as input an integer matrix of size (batch, input_length).\n",
    "# the largest integer (i.e. word index) in the input should be no larger than 999 (vocabulary size).\n",
    "# now model.output_shape == (None, 10, 64), where None is the batch dimension.\n",
    "\n",
    "# input_array = np.random.randint(1000, size=(32, 10))\n",
    "\n",
    "# model.compile('rmsprop', 'mse')\n",
    "output_array = model.predict(padded_docs)\n",
    "# assert output_array.shape == (32, 10, 64)"
   ]
  },
  {
   "cell_type": "code",
   "execution_count": 16,
   "metadata": {},
   "outputs": [
    {
     "data": {
      "text/plain": [
       "[array([[-0.03484057, -0.01597542],\n",
       "        [ 0.0329538 , -0.00887235],\n",
       "        [-0.00430238,  0.00550919],\n",
       "        [-0.01313932, -0.00599859],\n",
       "        [ 0.03059996, -0.03510527],\n",
       "        [ 0.01053718,  0.02200766],\n",
       "        [-0.04382678, -0.03060942],\n",
       "        [-0.02378197, -0.00750079],\n",
       "        [ 0.01203734,  0.01285026],\n",
       "        [ 0.01599833, -0.02348535]], dtype=float32)]"
      ]
     },
     "execution_count": 16,
     "metadata": {},
     "output_type": "execute_result"
    }
   ],
   "source": [
    "model.get_weights()"
   ]
  },
  {
   "cell_type": "code",
   "execution_count": null,
   "metadata": {},
   "outputs": [],
   "source": [
    "# cos sim"
   ]
  },
  {
   "cell_type": "code",
   "execution_count": 13,
   "metadata": {},
   "outputs": [
    {
     "data": {
      "text/plain": [
       "array([[[ 0.03349861,  0.02965721],\n",
       "        [ 0.01325924, -0.00041144],\n",
       "        [-0.02595081, -0.0126145 ],\n",
       "        [-0.02595081, -0.0126145 ]],\n",
       "\n",
       "       [[ 0.00664603, -0.01895301],\n",
       "        [ 0.00664603, -0.01895301],\n",
       "        [-0.02595081, -0.0126145 ],\n",
       "        [-0.02595081, -0.0126145 ]],\n",
       "\n",
       "       [[ 0.00664603, -0.01895301],\n",
       "        [ 0.03606855, -0.03669266],\n",
       "        [-0.02595081, -0.0126145 ],\n",
       "        [-0.02595081, -0.0126145 ]],\n",
       "\n",
       "       [[ 0.03606855, -0.03669266],\n",
       "        [ 0.00664603, -0.01895301],\n",
       "        [-0.02595081, -0.0126145 ],\n",
       "        [-0.02595081, -0.0126145 ]],\n",
       "\n",
       "       [[ 0.01927965, -0.04948307],\n",
       "        [-0.02595081, -0.0126145 ],\n",
       "        [-0.02595081, -0.0126145 ],\n",
       "        [-0.02595081, -0.0126145 ]],\n",
       "\n",
       "       [[ 0.03349861,  0.02965721],\n",
       "        [-0.02595081, -0.0126145 ],\n",
       "        [-0.02595081, -0.0126145 ],\n",
       "        [-0.02595081, -0.0126145 ]],\n",
       "\n",
       "       [[ 0.01325924, -0.00041144],\n",
       "        [ 0.03606855, -0.03669266],\n",
       "        [-0.02595081, -0.0126145 ],\n",
       "        [-0.02595081, -0.0126145 ]],\n",
       "\n",
       "       [[ 0.01325924, -0.00041144],\n",
       "        [ 0.00664603, -0.01895301],\n",
       "        [-0.02595081, -0.0126145 ],\n",
       "        [-0.02595081, -0.0126145 ]],\n",
       "\n",
       "       [[ 0.01325924, -0.00041144],\n",
       "        [ 0.00664603, -0.01895301],\n",
       "        [-0.02595081, -0.0126145 ],\n",
       "        [-0.02595081, -0.0126145 ]],\n",
       "\n",
       "       [[ 0.02394744, -0.00938845],\n",
       "        [ 0.01325924, -0.00041144],\n",
       "        [ 0.01325924, -0.00041144],\n",
       "        [ 0.03606855, -0.03669266]]], dtype=float32)"
      ]
     },
     "execution_count": 13,
     "metadata": {},
     "output_type": "execute_result"
    }
   ],
   "source": [
    "output_array"
   ]
  },
  {
   "cell_type": "code",
   "execution_count": 3,
   "metadata": {},
   "outputs": [
    {
     "data": {
      "text/plain": [
       "(10, 4, 2)"
      ]
     },
     "execution_count": 3,
     "metadata": {},
     "output_type": "execute_result"
    }
   ],
   "source": [
    "output_array.shape"
   ]
  },
  {
   "cell_type": "code",
   "execution_count": 4,
   "metadata": {},
   "outputs": [
    {
     "data": {
      "text/plain": [
       "array([[ 0.01410856,  0.03978047],\n",
       "       [-0.00944977,  0.01914482],\n",
       "       [ 0.01024829,  0.04668455],\n",
       "       [ 0.01024829,  0.04668455]], dtype=float32)"
      ]
     },
     "execution_count": 4,
     "metadata": {},
     "output_type": "execute_result"
    }
   ],
   "source": [
    "output_array[0]"
   ]
  },
  {
   "cell_type": "code",
   "execution_count": 5,
   "metadata": {},
   "outputs": [
    {
     "data": {
      "text/plain": [
       "array([[-0.03778828, -0.04946722],\n",
       "       [-0.03778828, -0.04946722],\n",
       "       [ 0.01024829,  0.04668455],\n",
       "       [ 0.01024829,  0.04668455]], dtype=float32)"
      ]
     },
     "execution_count": 5,
     "metadata": {},
     "output_type": "execute_result"
    }
   ],
   "source": [
    "output_array[1]"
   ]
  },
  {
   "cell_type": "code",
   "execution_count": 8,
   "metadata": {},
   "outputs": [],
   "source": [
    "model = Sequential()\n",
    "model.add(Embedding(25000, 100, input_length=100))\n",
    "model.add(Flatten()) \n",
    "model.add(Dense(1))"
   ]
  },
  {
   "cell_type": "code",
   "execution_count": 9,
   "metadata": {},
   "outputs": [
    {
     "name": "stdout",
     "output_type": "stream",
     "text": [
      "_________________________________________________________________\n",
      "Layer (type)                 Output Shape              Param #   \n",
      "=================================================================\n",
      "embedding_4 (Embedding)      (None, 100, 100)          2500000   \n",
      "_________________________________________________________________\n",
      "flatten_2 (Flatten)          (None, 10000)             0         \n",
      "_________________________________________________________________\n",
      "dense_1 (Dense)              (None, 1)                 10001     \n",
      "=================================================================\n",
      "Total params: 2,510,001\n",
      "Trainable params: 2,510,001\n",
      "Non-trainable params: 0\n",
      "_________________________________________________________________\n"
     ]
    }
   ],
   "source": [
    "model.summary()"
   ]
  },
  {
   "cell_type": "code",
   "execution_count": null,
   "metadata": {},
   "outputs": [],
   "source": []
  }
 ],
 "metadata": {
  "kernelspec": {
   "display_name": "Python 3",
   "language": "python",
   "name": "python3"
  },
  "language_info": {
   "codemirror_mode": {
    "name": "ipython",
    "version": 3
   },
   "file_extension": ".py",
   "mimetype": "text/x-python",
   "name": "python",
   "nbconvert_exporter": "python",
   "pygments_lexer": "ipython3",
   "version": "3.6.4"
  }
 },
 "nbformat": 4,
 "nbformat_minor": 2
}

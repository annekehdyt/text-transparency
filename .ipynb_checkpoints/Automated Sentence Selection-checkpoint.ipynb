{
 "cells": [
  {
   "cell_type": "code",
   "execution_count": 276,
   "metadata": {
    "colab": {
     "autoexec": {
      "startup": false,
      "wait_interval": 0
     }
    },
    "colab_type": "code",
    "id": "Y_dNVIAmHyXd"
   },
   "outputs": [],
   "source": [
    "import glob\n",
    "import numpy as np\n",
    "import pickle\n",
    "import os, os.path\n",
    "from sklearn.feature_extraction.text import CountVectorizer, TfidfVectorizer\n",
    "from sklearn.linear_model import LogisticRegression\n",
    "from sklearn.model_selection import KFold\n",
    "from textblob import TextBlob"
   ]
  },
  {
   "cell_type": "code",
   "execution_count": 28,
   "metadata": {
    "colab": {
     "autoexec": {
      "startup": false,
      "wait_interval": 0
     }
    },
    "colab_type": "code",
    "id": "TeiV-_4XHyXi"
   },
   "outputs": [],
   "source": [
    "def load_pickle_object(path):    \n",
    "    with open(path, 'rb') as f:\n",
    "        x = pickle.load(f)\n",
    "    return x"
   ]
  },
  {
   "cell_type": "code",
   "execution_count": 29,
   "metadata": {
    "colab": {
     "autoexec": {
      "startup": false,
      "wait_interval": 0
     },
     "base_uri": "https://localhost:8080/",
     "height": 326
    },
    "colab_type": "code",
    "executionInfo": {
     "elapsed": 250,
     "status": "error",
     "timestamp": 1526310678626,
     "user": {
      "displayName": "Mustafa Bilgic",
      "photoUrl": "//lh5.googleusercontent.com/-E1dO5f8mnBg/AAAAAAAAAAI/AAAAAAAAABQ/Tgv_IZbfXvU/s50-c-k-no/photo.jpg",
      "userId": "117698815112890567193"
     },
     "user_tz": 300
    },
    "id": "0bL0hJvgHyXl",
    "outputId": "ddaab12c-06c4-4e74-915b-ec75fcc09377"
   },
   "outputs": [],
   "source": [
    "X_train_corp = load_pickle_object('../data/imdb_original_preprocessed_xtrain.pickle')\n",
    "X_test_corp = load_pickle_object('../data/imdb_original_preprocessed_xtest.pickle')\n",
    "y_train = load_pickle_object('../data/imdb_original_preprocessed_ytrain.pickle')\n",
    "y_test = load_pickle_object('../data/imdb_original_preprocessed_ytest.pickle')"
   ]
  },
  {
   "cell_type": "code",
   "execution_count": 30,
   "metadata": {
    "colab": {
     "autoexec": {
      "startup": false,
      "wait_interval": 0
     }
    },
    "colab_type": "code",
    "id": "JCtu1REuHyXo",
    "outputId": "01d5ac70-407d-4333-df58-e1618e03b6fd"
   },
   "outputs": [
    {
     "data": {
      "text/plain": [
       "25000"
      ]
     },
     "execution_count": 30,
     "metadata": {},
     "output_type": "execute_result"
    }
   ],
   "source": [
    "len(X_train_corp)"
   ]
  },
  {
   "cell_type": "code",
   "execution_count": 31,
   "metadata": {
    "colab": {
     "autoexec": {
      "startup": false,
      "wait_interval": 0
     }
    },
    "colab_type": "code",
    "id": "OCPEMAShHyXt",
    "outputId": "e1423707-b8c6-4c45-ba8b-b385adaba57b"
   },
   "outputs": [
    {
     "data": {
      "text/plain": [
       "25000"
      ]
     },
     "execution_count": 31,
     "metadata": {},
     "output_type": "execute_result"
    }
   ],
   "source": [
    "len(X_test_corp)"
   ]
  },
  {
   "cell_type": "code",
   "execution_count": 32,
   "metadata": {},
   "outputs": [],
   "source": [
    "tp = r\"(?u)\\b[\\w\\'/]+\\b\""
   ]
  },
  {
   "cell_type": "code",
   "execution_count": 131,
   "metadata": {
    "colab": {
     "autoexec": {
      "startup": false,
      "wait_interval": 0
     }
    },
    "colab_type": "code",
    "id": "v7sVLJsMHyX4"
   },
   "outputs": [],
   "source": [
    "#vectorizer = CountVectorizer(lowercase=True, min_df=5, ngram_range=(1,1), binary=True, stop_words='english', token_pattern=tp)\n",
    "vectorizer = TfidfVectorizer(lowercase=True, min_df=5, ngram_range=(1,1), stop_words='english', token_pattern=tp, norm='l2')"
   ]
  },
  {
   "cell_type": "code",
   "execution_count": 132,
   "metadata": {
    "colab": {
     "autoexec": {
      "startup": false,
      "wait_interval": 0
     }
    },
    "colab_type": "code",
    "id": "arN_e64BHyX9"
   },
   "outputs": [],
   "source": [
    "X_train = vectorizer.fit_transform(X_train_corp)\n",
    "X_test = vectorizer.transform(X_test_corp)"
   ]
  },
  {
   "cell_type": "code",
   "execution_count": 133,
   "metadata": {
    "colab": {
     "autoexec": {
      "startup": false,
      "wait_interval": 0
     }
    },
    "colab_type": "code",
    "id": "mKIqOeQ3HyYA"
   },
   "outputs": [],
   "source": [
    "terms = vectorizer.get_feature_names()\n",
    "terms = np.array(terms)"
   ]
  },
  {
   "cell_type": "code",
   "execution_count": 134,
   "metadata": {
    "colab": {
     "autoexec": {
      "startup": false,
      "wait_interval": 0
     }
    },
    "colab_type": "code",
    "id": "Q-fywOX6HyYD",
    "outputId": "297ad8df-978f-4c6e-fb67-5401f5b5adef"
   },
   "outputs": [
    {
     "data": {
      "text/plain": [
       "(25000, 25962)"
      ]
     },
     "execution_count": 134,
     "metadata": {},
     "output_type": "execute_result"
    }
   ],
   "source": [
    "X_train.shape"
   ]
  },
  {
   "cell_type": "code",
   "execution_count": 135,
   "metadata": {
    "colab": {
     "autoexec": {
      "startup": false,
      "wait_interval": 0
     }
    },
    "colab_type": "code",
    "id": "O2ghshpfHyYI",
    "outputId": "dcd81cf0-9639-49cd-ed54-407e651d302b"
   },
   "outputs": [
    {
     "data": {
      "text/plain": [
       "(25000, 25962)"
      ]
     },
     "execution_count": 135,
     "metadata": {},
     "output_type": "execute_result"
    }
   ],
   "source": [
    "X_test.shape"
   ]
  },
  {
   "cell_type": "markdown",
   "metadata": {
    "colab_type": "text",
    "id": "nW03m5nSHyYP"
   },
   "source": [
    "Let's test it on a few examples."
   ]
  },
  {
   "cell_type": "code",
   "execution_count": 170,
   "metadata": {
    "colab": {
     "autoexec": {
      "startup": false,
      "wait_interval": 0
     }
    },
    "colab_type": "code",
    "id": "40KcUuibHyYQ",
    "outputId": "884bfe07-812e-45fc-f404-7bc6924d432c"
   },
   "outputs": [
    {
     "data": {
      "text/plain": [
       "0.8798"
      ]
     },
     "execution_count": 170,
     "metadata": {},
     "output_type": "execute_result"
    }
   ],
   "source": [
    "# Let's test it on a few test examples\n",
    "clf = LogisticRegression(penalty='l1', C=1)\n",
    "clf.fit(X_train, y_train)\n",
    "weights = clf.coef_[0]\n",
    "clf.score(X_test, y_test)"
   ]
  },
  {
   "cell_type": "code",
   "execution_count": 171,
   "metadata": {
    "colab": {
     "autoexec": {
      "startup": false,
      "wait_interval": 0
     }
    },
    "colab_type": "code",
    "id": "vPK_RObOHyYV",
    "outputId": "69ab267c-1ecc-4787-e7f0-f3a1bcae27b4"
   },
   "outputs": [
    {
     "data": {
      "text/plain": [
       "['i have yet to watch the first entry in this series, however, fortunately, i was still able to follow the complex and intricate plot, with all its unexpected twist and turn, and i applaud them for the utter originality of the concept herein.',\n",
       " 'in case there is any confusion, let me leave no doubt as to the fact that everything i have just said is coated in pure, carefully nurtured sarcasm, the kind that flourish and grow exponentially when exposed to crap like this flick.',\n",
       " 'a clear sign that this is unimpressive is that it was directed by a visual effect creator, whose only other credit in that field is a henry rooker film that was not well received.',\n",
       " 'the acting is average at best, and i defy anyone to not find... scottish computer-woman(come on, seriously, what is with that last name?',\n",
       " \")'s russian accent laughable and/or irritating.\",\n",
       " 'there is an attempt or two at stylization in this, and they are reasonable.',\n",
       " 'the action is not terrible.',\n",
       " 'cinematography and editing are fine.',\n",
       " 'the music is cool enough.',\n",
       " 'language is infrequent, if even that.',\n",
       " 'violence is fairly bloody.',\n",
       " 'i recommend this solely to fan of b-movie, and i will say that you can do worse than this.',\n",
       " '1/10']"
      ]
     },
     "execution_count": 171,
     "metadata": {},
     "output_type": "execute_result"
    }
   ],
   "source": [
    "i=3\n",
    "sentences = TextBlob(X_test_corp[i]).raw_sentences\n",
    "sentences"
   ]
  },
  {
   "cell_type": "code",
   "execution_count": 172,
   "metadata": {
    "colab": {
     "autoexec": {
      "startup": false,
      "wait_interval": 0
     }
    },
    "colab_type": "code",
    "id": "qyf82fbkHyYa",
    "outputId": "5f7cdb09-f295-4f69-b014-a871d49b950b"
   },
   "outputs": [
    {
     "data": {
      "text/plain": [
       "0"
      ]
     },
     "execution_count": 172,
     "metadata": {},
     "output_type": "execute_result"
    }
   ],
   "source": [
    "y_test[i]"
   ]
  },
  {
   "cell_type": "code",
   "execution_count": 173,
   "metadata": {
    "colab": {
     "autoexec": {
      "startup": false,
      "wait_interval": 0
     }
    },
    "colab_type": "code",
    "id": "4dVDaATdHyYf"
   },
   "outputs": [],
   "source": [
    "x=vectorizer.transform(sentences)"
   ]
  },
  {
   "cell_type": "code",
   "execution_count": 176,
   "metadata": {},
   "outputs": [],
   "source": [
    "#terms[x[11].indices]"
   ]
  },
  {
   "cell_type": "code",
   "execution_count": 177,
   "metadata": {},
   "outputs": [],
   "source": [
    "#np.sum(np.power(x[11].data,2))\n",
    "#np.sum(x[11].data)"
   ]
  },
  {
   "cell_type": "code",
   "execution_count": 180,
   "metadata": {
    "colab": {
     "autoexec": {
      "startup": false,
      "wait_interval": 0
     }
    },
    "colab_type": "code",
    "id": "ehxXGg5THyYh"
   },
   "outputs": [
    {
     "data": {
      "text/plain": [
       "array([[2.16112984e-01, 7.83887016e-01],\n",
       "       [8.10963197e-01, 1.89036803e-01],\n",
       "       [4.36866785e-01, 5.63133215e-01],\n",
       "       [4.10479521e-01, 5.89520479e-01],\n",
       "       [9.96556729e-01, 3.44327121e-03],\n",
       "       [7.89693079e-01, 2.10306921e-01],\n",
       "       [9.92969314e-01, 7.03068600e-03],\n",
       "       [5.47470488e-01, 4.52529512e-01],\n",
       "       [1.71173435e-01, 8.28826565e-01],\n",
       "       [4.28057938e-01, 5.71942062e-01],\n",
       "       [4.86023380e-01, 5.13976620e-01],\n",
       "       [9.76287088e-01, 2.37129125e-02],\n",
       "       [9.99994411e-01, 5.58944172e-06]])"
      ]
     },
     "execution_count": 180,
     "metadata": {},
     "output_type": "execute_result"
    }
   ],
   "source": [
    "probs=clf.predict_proba(x)\n",
    "probs"
   ]
  },
  {
   "cell_type": "code",
   "execution_count": 181,
   "metadata": {
    "colab": {
     "autoexec": {
      "startup": false,
      "wait_interval": 0
     }
    },
    "colab_type": "code",
    "id": "iGlcFfUjHyYp"
   },
   "outputs": [],
   "source": [
    "chosen_sentence_index = np.argmax(probs, axis=0)[y_test[i]]"
   ]
  },
  {
   "cell_type": "code",
   "execution_count": 182,
   "metadata": {
    "colab": {
     "autoexec": {
      "startup": false,
      "wait_interval": 0
     }
    },
    "colab_type": "code",
    "id": "J6e1VQtdHyYr",
    "outputId": "a813afdf-514e-4e0b-ce60-7aa6cdec7344"
   },
   "outputs": [
    {
     "data": {
      "text/plain": [
       "'1/10'"
      ]
     },
     "execution_count": 182,
     "metadata": {},
     "output_type": "execute_result"
    }
   ],
   "source": [
    "sentences[chosen_sentence_index]"
   ]
  },
  {
   "cell_type": "code",
   "execution_count": 183,
   "metadata": {
    "colab": {
     "autoexec": {
      "startup": false,
      "wait_interval": 0
     }
    },
    "colab_type": "code",
    "id": "kE5-n7AJHyYu",
    "outputId": "b7b9c919-82c0-4f76-c21b-d71d091e907e"
   },
   "outputs": [
    {
     "name": "stdout",
     "output_type": "stream",
     "text": [
      "1/10\t-12.151\n"
     ]
    }
   ],
   "source": [
    "for j in x[chosen_sentence_index].indices:\n",
    "    print(\"%s\\t%0.3f\" %(terms[j], weights[j]))"
   ]
  },
  {
   "cell_type": "markdown",
   "metadata": {
    "colab_type": "text",
    "id": "vk2KIb90HyYw"
   },
   "source": [
    "The real deal"
   ]
  },
  {
   "cell_type": "code",
   "execution_count": 184,
   "metadata": {
    "colab": {
     "autoexec": {
      "startup": false,
      "wait_interval": 0
     }
    },
    "colab_type": "code",
    "id": "5DH-2YwgHyYx"
   },
   "outputs": [],
   "source": [
    "kf = KFold(n_splits=3, shuffle=True, random_state=42)"
   ]
  },
  {
   "cell_type": "code",
   "execution_count": 187,
   "metadata": {
    "colab": {
     "autoexec": {
      "startup": false,
      "wait_interval": 0
     }
    },
    "colab_type": "code",
    "id": "yPXxfF3CHyY0"
   },
   "outputs": [],
   "source": [
    "chosen_sentences = {}"
   ]
  },
  {
   "cell_type": "code",
   "execution_count": 188,
   "metadata": {
    "colab": {
     "autoexec": {
      "startup": false,
      "wait_interval": 0
     }
    },
    "colab_type": "code",
    "id": "8MipCnYKHyY1",
    "outputId": "668daa84-a22c-4422-f91d-4c596fc94566"
   },
   "outputs": [
    {
     "name": "stdout",
     "output_type": "stream",
     "text": [
      "0.8752099832013439\n",
      "0.8658346333853354\n",
      "0.8693147725909036\n"
     ]
    }
   ],
   "source": [
    "for tr_i, te_i in kf.split(X_train):\n",
    "    clf = LogisticRegression(penalty='l1', C=1)\n",
    "    clf.fit(X_train[tr_i], y_train[tr_i])\n",
    "    print(clf.score(X_train[te_i], y_train[te_i]))\n",
    "    for i in te_i:\n",
    "        sentences = TextBlob(X_train_corp[i]).raw_sentences\n",
    "        x=vectorizer.transform(sentences)\n",
    "        probs=clf.predict_proba(x)\n",
    "        chosen_sentence_index = np.argmax(probs, axis=0)[y_train[i]]\n",
    "        chosen_sentences[i] = sentences[chosen_sentence_index]\n",
    "    #    sentences = X_train[i]\n",
    "    #    for sent in sentences:\n",
    "    #        v = vect.transform()\n",
    "    "
   ]
  },
  {
   "cell_type": "code",
   "execution_count": 189,
   "metadata": {
    "colab": {
     "autoexec": {
      "startup": false,
      "wait_interval": 0
     }
    },
    "colab_type": "code",
    "id": "dcVcRTasHyY5",
    "outputId": "1e8eb8b5-550b-429b-a540-9e41e1a44b22"
   },
   "outputs": [
    {
     "data": {
      "text/plain": [
       "25000"
      ]
     },
     "execution_count": 189,
     "metadata": {},
     "output_type": "execute_result"
    }
   ],
   "source": [
    "len(chosen_sentences)"
   ]
  },
  {
   "cell_type": "code",
   "execution_count": 190,
   "metadata": {
    "colab": {
     "autoexec": {
      "startup": false,
      "wait_interval": 0
     }
    },
    "colab_type": "code",
    "id": "7cHoo453HyY8",
    "outputId": "69756c2d-0533-4ee6-84ad-bc4d4ab5fed2"
   },
   "outputs": [
    {
     "name": "stdout",
     "output_type": "stream",
     "text": [
      "silent night, deadly night 5 is the very last of the series, and like part 4, it is unrelated to the first three except by title and the fact that it is a christmas-themed horror flick.except to the oblivious, there is some obvious thing going on here...mickey rooney plays a toymaker named joe petto and his creepy son's name is pino. ring a bell, anyone? now, a little boy named derek heard a knock at the door one evening, and opened it to find a present on the doorstep for him. even though it said \"do not open till christmas\", he begins to open it anyway but is stopped by his dad, who scolds him and sends him to bed, and opens the gift himself. inside is a little red ball that sprouts santa arm and a head, and proceed to kill dad. oop, maybe he should have left well-enough alone. of course derek is then traumatized by the incident since he watched it from the stair, but he does not grow up to be some killer santa, he just stops talking.there is a mysterious stranger lurking around, who seems very interested in the toy that joe petto makes. we even see him buying a bunch when derek's mom takes him to the store to find a gift for him to ing him out of his trauma. and what exactly is this guy doing? well, we are not sure but he does seem to be taking these toy apart to see what makes them tick. he does keep his landlord from evicting him by promising him to pay him in cash the next day and present him with a \"larry the larvae\" toy for his kid, but of course \"larry\" is not a good toy and gets out of the box in the car and of course, well, thing are not pretty.anyway, eventually what is going on with joe petto and pino is of course revealed, and as with the old story, pino is not a \"real boy\". pino is probably even more agitated and naughty because he suffers from \"kenitalium\" (a smooth plastic crotch) so that could account for his evil way. and the identity of the lurking stranger is revealed too, and there is even kind of a happy ending of sort. whee.a step up from part 4, but not much of one. again, brian yuzna is involved, and screaming mad george, so some decent special effect, but not enough to make this great. a few leftover from part 4 are hanging around too, like clint howard and neith hunter, but that does not really make any difference. anyway, i now have seeing the whole series out of my system. now if i could get some of it out of my ain. 4 out of 5.\n",
      "\n",
      "4 out of 5.\n",
      "\n",
      "\n",
      "\n",
      "the idea ia a very short film with a lot of information. interesting, entertaining and leaves the viewer wanting more. the producer has produced a short film of excellent quality that cannot be compared to any other short film that i have seen. i have rated this film at the highest possible rating. i also recommend that it is shown to office manager and business person in any establishment. what comes out of it is the fact that person with idea are never listened to, their voice is never heard. it is a lesson to be learned by any office that wants to go forward. i hope that the produced will produce a second part to this 'idea'. i look forward to viewing the sequence. once again congrat to halaqah medium in producing a film of excellence and quality with a lesson in mind.\n",
      "\n",
      "the producer has produced a short film of excellent quality that cannot be compared to any other short film that i have seen.\n",
      "\n",
      "\n",
      "\n",
      "for me, this movie just seemed to fall on its face. the main problem for me was the casting of glover as a serial killer. i do not know whether this grows out of type-casting or simply his demeanor, but i doubt glover could ever portray a convincing villain. he is a good guy, and that is always obvious in his performance. other than that the film is your run of the mill serial killer story. nothing very innovative .\n",
      "\n",
      "for me, this movie just seemed to fall on its face.\n",
      "\n",
      "\n",
      "\n"
     ]
    }
   ],
   "source": [
    "for i in range(3):\n",
    "    print(X_train_corp[i])\n",
    "    print()\n",
    "    print(chosen_sentences[i])\n",
    "    print(\"\\n\\n\")"
   ]
  },
  {
   "cell_type": "code",
   "execution_count": 191,
   "metadata": {
    "colab": {
     "autoexec": {
      "startup": false,
      "wait_interval": 0
     }
    },
    "colab_type": "code",
    "id": "lJu4309vHyZA"
   },
   "outputs": [],
   "source": [
    "chosen_corpus=list(chosen_sentences.values())"
   ]
  },
  {
   "cell_type": "code",
   "execution_count": 192,
   "metadata": {
    "colab": {
     "autoexec": {
      "startup": false,
      "wait_interval": 0
     }
    },
    "colab_type": "code",
    "id": "8t24AvG1HyZE"
   },
   "outputs": [],
   "source": [
    "chosen_X = vectorizer.transform(chosen_corpus)"
   ]
  },
  {
   "cell_type": "code",
   "execution_count": 193,
   "metadata": {
    "colab": {
     "autoexec": {
      "startup": false,
      "wait_interval": 0
     }
    },
    "colab_type": "code",
    "id": "EmENcIB5HyZI",
    "outputId": "b0373faf-655c-4448-dadc-33ef90c7b696"
   },
   "outputs": [
    {
     "data": {
      "text/plain": [
       "<25000x25962 sparse matrix of type '<class 'numpy.float64'>'\n",
       "\twith 253818 stored elements in Compressed Sparse Row format>"
      ]
     },
     "execution_count": 193,
     "metadata": {},
     "output_type": "execute_result"
    }
   ],
   "source": [
    "chosen_X"
   ]
  },
  {
   "cell_type": "code",
   "execution_count": 194,
   "metadata": {
    "colab": {
     "autoexec": {
      "startup": false,
      "wait_interval": 0
     }
    },
    "colab_type": "code",
    "id": "VPFWCAnfHyZU"
   },
   "outputs": [],
   "source": [
    "from sklearn.svm import OneClassSVM"
   ]
  },
  {
   "cell_type": "code",
   "execution_count": 233,
   "metadata": {},
   "outputs": [],
   "source": [
    "from sklearn.metrics.pairwise import cosine_similarity"
   ]
  },
  {
   "cell_type": "code",
   "execution_count": 251,
   "metadata": {
    "colab": {
     "autoexec": {
      "startup": false,
      "wait_interval": 0
     }
    },
    "colab_type": "code",
    "id": "gLNvBNoEHyZW"
   },
   "outputs": [],
   "source": [
    "svm = OneClassSVM(kernel='linear')# we should be using cosine similarity, but for now, let's use linear to see what the weights look like\n",
    "#svm = OneClassSVM(kernel=cosine_similarity)"
   ]
  },
  {
   "cell_type": "code",
   "execution_count": 252,
   "metadata": {
    "colab": {
     "autoexec": {
      "startup": false,
      "wait_interval": 0
     }
    },
    "colab_type": "code",
    "id": "SgV4AMRBHyZZ",
    "outputId": "c33d2323-36dd-4c3d-a3bd-35f5fb587d4d"
   },
   "outputs": [
    {
     "data": {
      "text/plain": [
       "OneClassSVM(cache_size=200, coef0=0.0, degree=3, gamma='auto',\n",
       "      kernel='linear', max_iter=-1, nu=0.5, random_state=None,\n",
       "      shrinking=True, tol=0.001, verbose=False)"
      ]
     },
     "execution_count": 252,
     "metadata": {},
     "output_type": "execute_result"
    }
   ],
   "source": [
    "svm.fit(chosen_X)"
   ]
  },
  {
   "cell_type": "code",
   "execution_count": 253,
   "metadata": {
    "colab": {
     "autoexec": {
      "startup": false,
      "wait_interval": 0
     }
    },
    "colab_type": "code",
    "id": "F48GijauHyZc"
   },
   "outputs": [],
   "source": [
    "svm_weights = svm.coef_.todense().A1"
   ]
  },
  {
   "cell_type": "code",
   "execution_count": 254,
   "metadata": {
    "colab": {
     "autoexec": {
      "startup": false,
      "wait_interval": 0
     }
    },
    "colab_type": "code",
    "id": "KCm7vO5VHyZg"
   },
   "outputs": [],
   "source": [
    "top_weights = np.argsort(np.abs(svm_weights))"
   ]
  },
  {
   "cell_type": "code",
   "execution_count": 255,
   "metadata": {
    "colab": {
     "autoexec": {
      "startup": false,
      "wait_interval": 0
     }
    },
    "colab_type": "code",
    "id": "QYBa_cumHyZi",
    "outputId": "5b6fcc60-abad-484c-c6c5-f35713a46d67"
   },
   "outputs": [
    {
     "name": "stdout",
     "output_type": "stream",
     "text": [
      "avoid\t55.16\n",
      "did\t55.16\n",
      "like\t55.92\n",
      "perfect\t58.16\n",
      "good\t59.15\n",
      "wonderful\t59.37\n",
      "love\t59.60\n",
      "awful\t59.95\n",
      "character\t60.27\n",
      "story\t60.75\n",
      "performance\t60.90\n",
      "time\t71.79\n",
      "excellent\t72.04\n",
      "just\t72.64\n",
      "worst\t74.12\n",
      "bad\t76.30\n",
      "best\t79.40\n",
      "great\t92.41\n",
      "movie\t127.81\n",
      "film\t132.93\n"
     ]
    }
   ],
   "source": [
    "for i in top_weights[-20:]:\n",
    "    print(\"%s\\t%0.2f\" %(terms[i], svm_weights[i]))"
   ]
  },
  {
   "cell_type": "code",
   "execution_count": 256,
   "metadata": {
    "colab": {
     "autoexec": {
      "startup": false,
      "wait_interval": 0
     }
    },
    "colab_type": "code",
    "id": "tDMXaz0oHyZn",
    "outputId": "66e94033-da5d-42db-9c59-15cccc4b26b7"
   },
   "outputs": [
    {
     "data": {
      "text/plain": [
       "array([[-32.58501325],\n",
       "       [ -7.47050665],\n",
       "       [ 41.08405962],\n",
       "       [  9.05894138],\n",
       "       [ -4.25182756],\n",
       "       [-29.51801648],\n",
       "       [-46.83369572],\n",
       "       [ 31.04644405],\n",
       "       [-13.42723929]])"
      ]
     },
     "execution_count": 256,
     "metadata": {},
     "output_type": "execute_result"
    }
   ],
   "source": [
    "i=9\n",
    "sentences = TextBlob(X_test_corp[i]).raw_sentences\n",
    "x=vectorizer.transform(sentences)\n",
    "svm.decision_function(x)"
   ]
  },
  {
   "cell_type": "code",
   "execution_count": 257,
   "metadata": {
    "colab": {
     "autoexec": {
      "startup": false,
      "wait_interval": 0
     }
    },
    "colab_type": "code",
    "id": "ySiOyyZrHyZq",
    "outputId": "0cee26ea-a8cd-4cb4-ec82-1c2b4f98c0ba"
   },
   "outputs": [
    {
     "data": {
      "text/plain": [
       "2"
      ]
     },
     "execution_count": 257,
     "metadata": {},
     "output_type": "execute_result"
    }
   ],
   "source": [
    "j=np.argmax(svm.decision_function(x))\n",
    "j"
   ]
  },
  {
   "cell_type": "code",
   "execution_count": 258,
   "metadata": {
    "colab": {
     "autoexec": {
      "startup": false,
      "wait_interval": 0
     }
    },
    "colab_type": "code",
    "id": "gWYFoEz7HyZs",
    "outputId": "0eacafa8-a386-40f5-cbbd-adec4d737c05"
   },
   "outputs": [
    {
     "data": {
      "text/plain": [
       "'this is my all-time, number one favorite movie.'"
      ]
     },
     "execution_count": 258,
     "metadata": {},
     "output_type": "execute_result"
    }
   ],
   "source": [
    "sentences[j]"
   ]
  },
  {
   "cell_type": "code",
   "execution_count": 259,
   "metadata": {
    "colab": {
     "autoexec": {
      "startup": false,
      "wait_interval": 0
     }
    },
    "colab_type": "code",
    "id": "yLc2G0rWHyZv"
   },
   "outputs": [],
   "source": [
    "# Let's see what the accuracy on the test data is"
   ]
  },
  {
   "cell_type": "code",
   "execution_count": 260,
   "metadata": {},
   "outputs": [
    {
     "data": {
      "text/plain": [
       "0.8732"
      ]
     },
     "execution_count": 260,
     "metadata": {},
     "output_type": "execute_result"
    }
   ],
   "source": [
    "clf.score(X_test, y_test)"
   ]
  },
  {
   "cell_type": "code",
   "execution_count": 261,
   "metadata": {},
   "outputs": [],
   "source": [
    "chosen_test_sentences = []\n",
    "for i in range(len(X_test_corp)):\n",
    "    sentences = TextBlob(X_test_corp[i]).raw_sentences\n",
    "    x=vectorizer.transform(sentences)\n",
    "    df=svm.decision_function(x)\n",
    "    j=np.argmax(df)\n",
    "    chosen_test_sentences.append(sentences[j])"
   ]
  },
  {
   "cell_type": "code",
   "execution_count": 262,
   "metadata": {},
   "outputs": [
    {
     "data": {
      "text/plain": [
       "'this was a great show.'"
      ]
     },
     "execution_count": 262,
     "metadata": {},
     "output_type": "execute_result"
    }
   ],
   "source": [
    "chosen_test_sentences[0]"
   ]
  },
  {
   "cell_type": "code",
   "execution_count": 263,
   "metadata": {},
   "outputs": [],
   "source": [
    "x=vectorizer.transform(chosen_test_sentences)"
   ]
  },
  {
   "cell_type": "code",
   "execution_count": 264,
   "metadata": {},
   "outputs": [
    {
     "data": {
      "text/plain": [
       "(25000, 25962)"
      ]
     },
     "execution_count": 264,
     "metadata": {},
     "output_type": "execute_result"
    }
   ],
   "source": [
    "x.shape"
   ]
  },
  {
   "cell_type": "code",
   "execution_count": 265,
   "metadata": {},
   "outputs": [
    {
     "data": {
      "text/plain": [
       "0.76352"
      ]
     },
     "execution_count": 265,
     "metadata": {},
     "output_type": "execute_result"
    }
   ],
   "source": [
    "clf.score(x, y_test)"
   ]
  },
  {
   "cell_type": "markdown",
   "metadata": {},
   "source": [
    "This is pretty low. Let's see what kind of mistakes this model is making."
   ]
  },
  {
   "cell_type": "code",
   "execution_count": 266,
   "metadata": {},
   "outputs": [],
   "source": [
    "y_pred = clf.predict(x)"
   ]
  },
  {
   "cell_type": "code",
   "execution_count": 267,
   "metadata": {},
   "outputs": [],
   "source": [
    "incorrect = np.arange(x.shape[0])[y_pred != y_test]"
   ]
  },
  {
   "cell_type": "code",
   "execution_count": 268,
   "metadata": {},
   "outputs": [
    {
     "data": {
      "text/plain": [
       "5912"
      ]
     },
     "execution_count": 268,
     "metadata": {},
     "output_type": "execute_result"
    }
   ],
   "source": [
    "len(incorrect)"
   ]
  },
  {
   "cell_type": "code",
   "execution_count": 269,
   "metadata": {},
   "outputs": [
    {
     "name": "stdout",
     "output_type": "stream",
     "text": [
      "i could not even...i mean...look....okay...wow.not even a bunch of my drunk friends trying to make fun of the movie could enjoy themselves in the least bit.i can only think...how.\n",
      "[22.47570404]\n",
      "[0.44601375 0.55398625]\n",
      "\n",
      "how do independent film maker everywhere go year without getting noticed (or even their life) and con-artist like the guy who made this get a dvd on a shelf?\n",
      "[4.86495874]\n",
      "[0.28944889 0.71055111]\n",
      "\n",
      "it seriously looks as if some guy with a home movie camera went out with some guy he met at subway and made the worst thing he could think of.\n",
      "[17.82602473]\n",
      "[0.99646738 0.00353262]\n",
      "\n",
      "\"hey guy, give me some idea.\n",
      "[-27.95370138]\n",
      "[0.79834739 0.20165261]\n",
      "\n",
      "stumrt with a corn-field and work backward.\"\n",
      "[-43.34152951]\n",
      "[0.4746959 0.5253041]\n",
      "\n",
      "\"well, you have gottum have actor straight out of high school, and some oken corn stumlks with shred of clothing attumched.\n",
      "[-37.16101617]\n",
      "[0.54276178 0.45723822]\n",
      "\n",
      "and boobs.\"\n",
      "[-54.09431169]\n",
      "[0.4746959 0.5253041]\n",
      "\n",
      "thank, guy, i am sure that you and windows movie maker will be side by side on your next anxiously awaited project.\n",
      "[-23.68839886]\n",
      "[0.55222589 0.44777411]\n",
      "\n"
     ]
    }
   ],
   "source": [
    "i = incorrect[4]\n",
    "sentences = TextBlob(X_test_corp[i]).raw_sentences\n",
    "x=vectorizer.transform(sentences)\n",
    "df = svm.decision_function(x)\n",
    "probs = clf.predict_proba(x)\n",
    "for j in range(x.shape[0]):\n",
    "    print(sentences[j])\n",
    "    print(df[j])\n",
    "    print(probs[j])\n",
    "    print()\n",
    "#print(X_test_corp[i])\n",
    "#print()\n",
    "#print(chosen_test_sentences[i])\n",
    "#print()"
   ]
  },
  {
   "cell_type": "markdown",
   "metadata": {},
   "source": [
    "Let's see if things improve when we use human-provided phrases"
   ]
  },
  {
   "cell_type": "code",
   "execution_count": 281,
   "metadata": {},
   "outputs": [],
   "source": [
    "human_vocab = []\n",
    "filelist = glob.glob(os.path.join(\"../data/human-provided-phrases\", \"*.txt\"))\n",
    "for file in filelist:\n",
    "    with open(file) as f:\n",
    "        for line in f:\n",
    "            human_vocab.append(line.split('\\t')[0])"
   ]
  },
  {
   "cell_type": "code",
   "execution_count": 282,
   "metadata": {},
   "outputs": [
    {
     "data": {
      "text/plain": [
       "['2/10',\n",
       " '3/10',\n",
       " '7/10',\n",
       " '4/10',\n",
       " '8/10',\n",
       " '1/10',\n",
       " 'unwatchable',\n",
       " 'incoherent',\n",
       " 'stinker',\n",
       " 'mst3k',\n",
       " 'unfunny',\n",
       " 'waste',\n",
       " '9/10',\n",
       " 'flawless',\n",
       " 'atrocious',\n",
       " 'pointless',\n",
       " 'horrid',\n",
       " 'superbly',\n",
       " 'redeeming',\n",
       " '10/10',\n",
       " 'laughable',\n",
       " 'drivel',\n",
       " 'worst',\n",
       " 'perfection',\n",
       " 'lousy',\n",
       " 'awful',\n",
       " 'wasting',\n",
       " 'remotely',\n",
       " 'poorly',\n",
       " 'sucks',\n",
       " 'captures',\n",
       " 'wonderfully',\n",
       " 'existent',\n",
       " 'lame',\n",
       " 'boredom',\n",
       " 'uninspired',\n",
       " 'miserably',\n",
       " 'refreshing',\n",
       " 'amateurish',\n",
       " 'unintentional',\n",
       " 'pathetic',\n",
       " 'eathtaking',\n",
       " 'appalling',\n",
       " 'uninteresting',\n",
       " 'unconvincing',\n",
       " 'suck',\n",
       " 'delightful',\n",
       " 'idiotic',\n",
       " 'wasted',\n",
       " 'beautifully',\n",
       " 'underrated',\n",
       " 'crap',\n",
       " 'stupidity',\n",
       " 'dreadful',\n",
       " 'tedious',\n",
       " 'sadness',\n",
       " 'horrible',\n",
       " 'insulting',\n",
       " 'dire',\n",
       " 'mess',\n",
       " 'superb',\n",
       " 'gripping',\n",
       " 'garbage',\n",
       " 'timeless',\n",
       " 'embarrassing',\n",
       " 'badly',\n",
       " 'insult',\n",
       " 'terrible',\n",
       " 'wooden',\n",
       " 'touching',\n",
       " 'worse',\n",
       " 'cardboard',\n",
       " 'unforgettable',\n",
       " 'extraordinary',\n",
       " 'inept',\n",
       " 'stupid',\n",
       " 'pile',\n",
       " 'worthless',\n",
       " 'ashamed',\n",
       " 'junk',\n",
       " 'illiantly',\n",
       " 'forgettable',\n",
       " 'dull',\n",
       " 'marvelous',\n",
       " 'rubbish',\n",
       " 'terrific',\n",
       " 'finest',\n",
       " 'turkey',\n",
       " 'magnificent',\n",
       " 'pleasantly',\n",
       " 'splendid',\n",
       " 'whatsoever',\n",
       " 'avoid',\n",
       " 'ralph',\n",
       " 'moron',\n",
       " 'tremendous',\n",
       " 'ridiculous',\n",
       " 'outstanding',\n",
       " 'delight',\n",
       " 'wonderful',\n",
       " 'this crap',\n",
       " 'worst film',\n",
       " 'save this',\n",
       " 'worst movie',\n",
       " 'this mess',\n",
       " 'waste your',\n",
       " 'awful the',\n",
       " 'well worth',\n",
       " 'highly recommended',\n",
       " 'save your',\n",
       " 'waste of',\n",
       " 'avoid this',\n",
       " 'is awful',\n",
       " 'not waste',\n",
       " 'was awful',\n",
       " 'is worse',\n",
       " 'definitely worth',\n",
       " 'awful i',\n",
       " 'skip this',\n",
       " 'was terrible',\n",
       " 'how bad',\n",
       " 'your money',\n",
       " 'not funny',\n",
       " 'awful and',\n",
       " 'poorly written',\n",
       " 'captures the',\n",
       " 'all cost',\n",
       " 'terrible the',\n",
       " 'a waste',\n",
       " 'first rate',\n",
       " 'is perfect',\n",
       " 'is terrible',\n",
       " 'bad acting',\n",
       " 'only good',\n",
       " 'even worse',\n",
       " 'of crap',\n",
       " 'loved this',\n",
       " 'no plot',\n",
       " 'the worst',\n",
       " 'not worth',\n",
       " 'this piece',\n",
       " 'an insult',\n",
       " 'excellent as',\n",
       " 'redeeming quality',\n",
       " 'insult to',\n",
       " 'is wonderful',\n",
       " 'a must',\n",
       " 'my money',\n",
       " 'money on',\n",
       " 'a 1',\n",
       " 'is horrible',\n",
       " 'so bad',\n",
       " 'walked out',\n",
       " 'bad this',\n",
       " 'worse than',\n",
       " 'bad movie',\n",
       " 'fast forward',\n",
       " 'not scary',\n",
       " 'favorite movie',\n",
       " 'is illiant',\n",
       " 'a 2',\n",
       " 'highly recommend',\n",
       " 'really bad',\n",
       " 'this thing',\n",
       " 'your time',\n",
       " 'non existent',\n",
       " 'minute into',\n",
       " 'a disappointment',\n",
       " 'pile of',\n",
       " 'to waste',\n",
       " 'is superb',\n",
       " 'loved it',\n",
       " 'absolutely no',\n",
       " 'worst of',\n",
       " 'bad film',\n",
       " 'was bad',\n",
       " 'is excellent',\n",
       " 'great job',\n",
       " 'bad i',\n",
       " 'pleasantly surprised',\n",
       " 'is fantastic',\n",
       " 'very bad',\n",
       " 'excellent and',\n",
       " 'ridiculous and',\n",
       " 'must see',\n",
       " 'a superb',\n",
       " 'excuse for',\n",
       " 'bad it',\n",
       " 'is bad',\n",
       " 'stupid and',\n",
       " 'not recommend',\n",
       " 'pretty bad',\n",
       " 'and boring',\n",
       " 'bad the',\n",
       " 'be funny',\n",
       " 'at best',\n",
       " 'no sense',\n",
       " 'my time',\n",
       " 'annoying and',\n",
       " 'sit through',\n",
       " 'worst movie i',\n",
       " 'worst film i',\n",
       " 'the worst film',\n",
       " 'the worst movie',\n",
       " 'excuse for a',\n",
       " 'piece of crap',\n",
       " 'not waste your',\n",
       " 'i love this',\n",
       " 'do not waste',\n",
       " 'of the worst',\n",
       " 'waste your time',\n",
       " 'waste of time',\n",
       " 'worst movie ever',\n",
       " 'i loved this',\n",
       " 'was so bad',\n",
       " 'the only good',\n",
       " 'this piece of',\n",
       " 'a waste of',\n",
       " 'must see for',\n",
       " 'highly recommend this',\n",
       " 'is so bad',\n",
       " 'is the worst',\n",
       " 'at all cost',\n",
       " 'is not worth',\n",
       " 'is not funny',\n",
       " 'would not recommend',\n",
       " 'i loved it',\n",
       " 'so bad that',\n",
       " 'is a must',\n",
       " 'a must see',\n",
       " 'so bad it',\n",
       " 'is not even',\n",
       " 'of my life',\n",
       " 'i highly recommend',\n",
       " 'not the worst',\n",
       " 'not recommend this',\n",
       " 'unless you are',\n",
       " 'the best movie',\n",
       " 'do not bother',\n",
       " 'to sit through',\n",
       " 'bad it is',\n",
       " 'to be funny',\n",
       " 'is an excellent',\n",
       " 'not watch this',\n",
       " 'it is great',\n",
       " 'the worst of',\n",
       " 'of the best',\n",
       " 'a great job',\n",
       " 'do not even',\n",
       " 'is just plain',\n",
       " 'there is absolutely',\n",
       " 'first saw this',\n",
       " 'the best film',\n",
       " 'do not miss',\n",
       " 'not a good',\n",
       " 'with a great',\n",
       " 'not enough to',\n",
       " 'very well done',\n",
       " 'that is it',\n",
       " 'better than this',\n",
       " 'love this movie',\n",
       " 'that is about',\n",
       " 'is very good',\n",
       " 'i am sorry',\n",
       " 'makes no sense',\n",
       " 'are supposed to',\n",
       " 'is a wonderful',\n",
       " 'adds to the',\n",
       " 'does not even',\n",
       " 'going for it',\n",
       " 'can not wait',\n",
       " 'you will love',\n",
       " 'as bad as',\n",
       " 'at all and',\n",
       " 'a bad movie',\n",
       " 'i really enjoyed',\n",
       " 'is a great',\n",
       " 'does not work',\n",
       " 'make a movie',\n",
       " 'is beyond me',\n",
       " 'a good idea',\n",
       " 'this could have',\n",
       " 'i recommend this',\n",
       " 'see it again',\n",
       " 'my all time',\n",
       " 'would love to',\n",
       " 'can not even',\n",
       " 'i first saw',\n",
       " 'is supposed to',\n",
       " 'supposed to be',\n",
       " 'please do not',\n",
       " 'trying to be',\n",
       " 'of my favorite',\n",
       " 'lot of fun',\n",
       " 'a great film',\n",
       " 'what the hell',\n",
       " 'one of my',\n",
       " 'problem with this',\n",
       " 'is not for',\n",
       " 'the only reason',\n",
       " 'worst film i have',\n",
       " 'worst movie i have',\n",
       " 'the worst film i',\n",
       " 'the worst movie i',\n",
       " 'of the worst movie',\n",
       " 'do not waste your',\n",
       " 'one of the worst',\n",
       " 'not waste your time',\n",
       " 'the worst movie ever',\n",
       " 'a waste of time',\n",
       " 'it is not even',\n",
       " 'a must see for',\n",
       " 'this is a great',\n",
       " 'is a must see',\n",
       " 'so bad it is',\n",
       " 'do not watch this',\n",
       " 'one of the best',\n",
       " 'it is a great',\n",
       " 'supposed to be a',\n",
       " 'i first saw this',\n",
       " 'are supposed to be',\n",
       " 'is one of my',\n",
       " 'some of the best',\n",
       " 'is supposed to be',\n",
       " 'one of my favorite',\n",
       " 'one of the greatest',\n",
       " 'is the story of',\n",
       " 'to make a movie',\n",
       " 'want to see a',\n",
       " 'have not seen it',\n",
       " 'the best of the',\n",
       " 'the only reason i',\n",
       " 'a lot of fun',\n",
       " 'hour and a half',\n",
       " 'movie i have ever',\n",
       " 'it is supposed to',\n",
       " 'i can not believe',\n",
       " 'this movie was a',\n",
       " 'was supposed to be',\n",
       " 'for the first time',\n",
       " 'but it is a',\n",
       " 'it is not that',\n",
       " 'nothing to do with',\n",
       " 'film i have ever',\n",
       " 'do not get me',\n",
       " 'all in all a',\n",
       " 'this is a very',\n",
       " 'rest of the movie',\n",
       " 'you want to see',\n",
       " 'could have been a',\n",
       " 'i think it is',\n",
       " 'it is a very',\n",
       " 'in the first place',\n",
       " 'this is a good',\n",
       " 'not get me wrong',\n",
       " 'the only thing that',\n",
       " 'i have seen this',\n",
       " 'if you want to',\n",
       " 'you will not be',\n",
       " 'at the same time',\n",
       " 'if you want a',\n",
       " 'to do with the',\n",
       " 'it is one of',\n",
       " 'have ever seen i',\n",
       " 'the first time i',\n",
       " 'for what it is',\n",
       " 'as well as the',\n",
       " 'have ever seen the',\n",
       " 'i have seen it',\n",
       " 'have ever seen and',\n",
       " 'i do not like',\n",
       " 'is a film that',\n",
       " 'it is a good',\n",
       " 'if you have not',\n",
       " 'would have been a',\n",
       " 'you have not seen',\n",
       " 'the story of the',\n",
       " 'is not one of',\n",
       " 'one of the few',\n",
       " 'you are going to',\n",
       " 'the story of a',\n",
       " 'it would be a',\n",
       " 'when i was a',\n",
       " 'this movie does not',\n",
       " 'is one of the',\n",
       " 'if you are not',\n",
       " 'it could have been',\n",
       " 'as one of the',\n",
       " 'then there is the',\n",
       " 'for the sake of',\n",
       " 'thing about this movie',\n",
       " 'was going to be',\n",
       " 'as good as the',\n",
       " 'with the exception of',\n",
       " 'but i can not',\n",
       " 'and it is a',\n",
       " 'about this movie is',\n",
       " 'i have seen the',\n",
       " 'i have seen a',\n",
       " 'i am a big',\n",
       " 'the worst film i have',\n",
       " 'the worst movie i have',\n",
       " 'worst movie i have ever',\n",
       " 'one of the worst movie',\n",
       " 'is one of the worst',\n",
       " 'do not waste your time',\n",
       " 'is one of the best',\n",
       " 'is supposed to be a',\n",
       " 'movie i have ever seen',\n",
       " 'if you want to see',\n",
       " 'the rest of the movie',\n",
       " 'film i have ever seen',\n",
       " 'i have ever seen the',\n",
       " 'do not get me wrong',\n",
       " 'if you have not seen',\n",
       " 'i have ever seen and',\n",
       " 'it is one of the',\n",
       " 'i do not know what',\n",
       " 'i have ever seen i',\n",
       " 'is one of the most',\n",
       " 'i have ever seen in',\n",
       " 'this is one of the',\n",
       " 'in the middle of the',\n",
       " 'if you are looking for',\n",
       " 'to be one of the',\n",
       " 'the end of the movie',\n",
       " 'the rest of the film',\n",
       " 'i have seen in a',\n",
       " 'i do not want to',\n",
       " 'there is a lot of',\n",
       " 'at the end of the',\n",
       " 'at the beginning of the',\n",
       " 'the end of the film',\n",
       " 'i do not know if',\n",
       " 'the rest of the cast',\n",
       " 'by the end of the',\n",
       " 'and the rest of the',\n",
       " 'if you are a fan',\n",
       " 'is one of those movie',\n",
       " 'you are a fan of',\n",
       " 'this is one of those']"
      ]
     },
     "execution_count": 282,
     "metadata": {},
     "output_type": "execute_result"
    }
   ],
   "source": [
    "human_vocab"
   ]
  },
  {
   "cell_type": "code",
   "execution_count": 307,
   "metadata": {},
   "outputs": [],
   "source": [
    "vectorizer = TfidfVectorizer(lowercase=True, min_df=5, ngram_range=(1,5), vocabulary=human_vocab, token_pattern=tp, norm='l2')"
   ]
  },
  {
   "cell_type": "code",
   "execution_count": 308,
   "metadata": {},
   "outputs": [],
   "source": [
    "X_train = vectorizer.fit_transform(X_train_corp)\n",
    "X_test = vectorizer.transform(X_test_corp)"
   ]
  },
  {
   "cell_type": "code",
   "execution_count": 309,
   "metadata": {},
   "outputs": [
    {
     "data": {
      "text/plain": [
       "(25000, 441)"
      ]
     },
     "execution_count": 309,
     "metadata": {},
     "output_type": "execute_result"
    }
   ],
   "source": [
    "X_train.shape"
   ]
  },
  {
   "cell_type": "code",
   "execution_count": 318,
   "metadata": {},
   "outputs": [
    {
     "data": {
      "text/plain": [
       "0.84532"
      ]
     },
     "execution_count": 318,
     "metadata": {},
     "output_type": "execute_result"
    }
   ],
   "source": [
    "clf = LogisticRegression(penalty='l1', C=1)\n",
    "clf.fit(X_train, y_train)\n",
    "weights = clf.coef_[0]\n",
    "clf.score(X_train, y_train)"
   ]
  },
  {
   "cell_type": "code",
   "execution_count": 319,
   "metadata": {},
   "outputs": [
    {
     "data": {
      "text/plain": [
       "0.83624"
      ]
     },
     "execution_count": 319,
     "metadata": {},
     "output_type": "execute_result"
    }
   ],
   "source": [
    "clf.score(X_test, y_test)"
   ]
  },
  {
   "cell_type": "code",
   "execution_count": null,
   "metadata": {},
   "outputs": [],
   "source": []
  }
 ],
 "metadata": {
  "colab": {
   "default_view": {},
   "name": "Automated Sentence Selection.ipynb",
   "provenance": [],
   "version": "0.3.2",
   "views": {}
  },
  "kernelspec": {
   "display_name": "Python 3",
   "language": "python",
   "name": "python3"
  },
  "language_info": {
   "codemirror_mode": {
    "name": "ipython",
    "version": 3
   },
   "file_extension": ".py",
   "mimetype": "text/x-python",
   "name": "python",
   "nbconvert_exporter": "python",
   "pygments_lexer": "ipython3",
   "version": "3.6.4"
  }
 },
 "nbformat": 4,
 "nbformat_minor": 1
}

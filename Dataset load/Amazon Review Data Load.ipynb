{
 "cells": [
  {
   "cell_type": "markdown",
   "metadata": {},
   "source": [
    "# Amazon review\n",
    "\n",
    "Reference : http://jmcauley.ucsd.edu/data/amazon/\n",
    "\n",
    "Data : <br>\n",
    "Per-category files -> download 'review' on category that you wished to load.\n",
    "\n",
    "Sample review : \"key\"\n",
    "\n",
    "{ <br>\n",
    "  \"reviewerID\": \"A2SUAM1J3GNN3B\", <br>\n",
    "  \"asin\": \"0000013714\", <br>\n",
    "  \"reviewerName\": \"J. McDonald\",  <br>\n",
    "  \"helpful\": [2, 3],  <br>\n",
    "  \"reviewText\": \"I bought this for my husband who plays the piano.  He is having a wonderful time playing these old hymns.  The music  is at times hard to read because we think the book was published for singing from more than playing from.  Great purchase though!\",  <br>\n",
    "  \"overall\": 5.0,  <br>\n",
    "  \"summary\": \"Heavenly Highway Hymns\",  <br>\n",
    "  \"unixReviewTime\": 1252800000, <br>\n",
    "  \"reviewTime\": \"09 13, 2009\" <br>\n",
    "} "
   ]
  },
  {
   "cell_type": "code",
   "execution_count": 1,
   "metadata": {},
   "outputs": [],
   "source": [
    "import numpy as np\n",
    "import gzip"
   ]
  },
  {
   "cell_type": "code",
   "execution_count": 2,
   "metadata": {},
   "outputs": [],
   "source": [
    "def parse(path):\n",
    "    g = gzip.open(path, 'r')\n",
    "    for l in g:\n",
    "        yield eval(l)\n",
    "        \n",
    "def extract(path, key):\n",
    "    corpus = []\n",
    "    y = []\n",
    "    text = parse(path)\n",
    "    for l in text:\n",
    "        corpus.append(l[key])\n",
    "        y.append(l['overall'])\n",
    "    return corpus, y\n",
    "\n",
    "def extract_yelp(path):\n",
    "    corpus = []\n",
    "    text = parse(path)\n",
    "    for l in text:\n",
    "        corpus.append(l[key])\n",
    "        y.append(l['overall'])\n",
    "    return corpus, y"
   ]
  },
  {
   "cell_type": "code",
   "execution_count": 3,
   "metadata": {},
   "outputs": [],
   "source": [
    "path = r\"C:\\Users\\Anneke\\Documents\\GitHub\\data\\reviews_Amazon_Instant_Video_5.json.gz\""
   ]
  },
  {
   "cell_type": "code",
   "execution_count": 4,
   "metadata": {},
   "outputs": [],
   "source": [
    "X, y = extract(path, 'reviewText')"
   ]
  },
  {
   "cell_type": "code",
   "execution_count": 5,
   "metadata": {},
   "outputs": [
    {
     "data": {
      "text/plain": [
       "37126"
      ]
     },
     "execution_count": 5,
     "metadata": {},
     "output_type": "execute_result"
    }
   ],
   "source": [
    "len(X)"
   ]
  },
  {
   "cell_type": "code",
   "execution_count": 6,
   "metadata": {},
   "outputs": [
    {
     "data": {
      "text/plain": [
       "[\"I had big expectations because I love English TV, in particular Investigative and detective stuff but this guy is really boring. It didn't appeal to me at all.\",\n",
       " 'I highly recommend this series. It is a must for anyone who is yearning to watch \"grown up\" television. Complex characters and plots to keep one totally involved. Thank you Amazin Prime.']"
      ]
     },
     "execution_count": 6,
     "metadata": {},
     "output_type": "execute_result"
    }
   ],
   "source": [
    "X[:2]"
   ]
  },
  {
   "cell_type": "code",
   "execution_count": 7,
   "metadata": {},
   "outputs": [
    {
     "data": {
      "text/plain": [
       "[2.0, 5.0, 1.0, 4.0, 5.0, 5.0, 3.0, 3.0, 5.0, 3.0]"
      ]
     },
     "execution_count": 7,
     "metadata": {},
     "output_type": "execute_result"
    }
   ],
   "source": [
    "y[:10]"
   ]
  },
  {
   "cell_type": "markdown",
   "metadata": {},
   "source": [
    "### Playground"
   ]
  },
  {
   "cell_type": "code",
   "execution_count": 8,
   "metadata": {},
   "outputs": [
    {
     "name": "stderr",
     "output_type": "stream",
     "text": [
      "C:\\Users\\Anneke\\Anaconda3\\lib\\site-packages\\sklearn\\cross_validation.py:41: DeprecationWarning: This module was deprecated in version 0.18 in favor of the model_selection module into which all the refactored classes and functions are moved. Also note that the interface of the new CV iterators are different from that of this module. This module will be removed in 0.20.\n",
      "  \"This module will be removed in 0.20.\", DeprecationWarning)\n"
     ]
    }
   ],
   "source": [
    "import numpy as np\n",
    "from sklearn.feature_extraction.text import CountVectorizer\n",
    "from sklearn.model_selection import train_test_split, ShuffleSplit\n",
    "from sklearn.linear_model import LogisticRegression\n",
    "from sklearn.cross_validation import train_test_split"
   ]
  },
  {
   "cell_type": "code",
   "execution_count": 9,
   "metadata": {},
   "outputs": [
    {
     "data": {
      "text/plain": [
       "CountVectorizer(analyzer='word', binary=True, decode_error='strict',\n",
       "        dtype=<class 'numpy.int64'>, encoding='utf-8', input='content',\n",
       "        lowercase=True, max_df=1.0, max_features=None, min_df=5,\n",
       "        ngram_range=(1, 1), preprocessor=None, stop_words=None,\n",
       "        strip_accents=None, token_pattern=\"(?u)\\\\b[\\\\w\\\\'/]+\\\\b\",\n",
       "        tokenizer=None, vocabulary=None)"
      ]
     },
     "execution_count": 9,
     "metadata": {},
     "output_type": "execute_result"
    }
   ],
   "source": [
    "token = r\"(?u)\\b[\\w\\'/]+\\b\"\n",
    "tf_vectorizer = CountVectorizer(lowercase=True, max_df=1.0, min_df=5, binary=True, token_pattern=token)\n",
    "tf_vectorizer.set_params(ngram_range=(1,1))"
   ]
  },
  {
   "cell_type": "code",
   "execution_count": 10,
   "metadata": {},
   "outputs": [],
   "source": [
    "X_train_split, X_test_split, y_train, y_test = train_test_split(X, y, test_size=0.33, random_state=42)"
   ]
  },
  {
   "cell_type": "code",
   "execution_count": 11,
   "metadata": {},
   "outputs": [],
   "source": [
    "X_train = tf_vectorizer.fit_transform(X_train_split)"
   ]
  },
  {
   "cell_type": "code",
   "execution_count": 12,
   "metadata": {},
   "outputs": [],
   "source": [
    "X_test = tf_vectorizer.transform(X_test_split)"
   ]
  },
  {
   "cell_type": "code",
   "execution_count": 13,
   "metadata": {},
   "outputs": [
    {
     "data": {
      "text/plain": [
       "(24874, 15149)"
      ]
     },
     "execution_count": 13,
     "metadata": {},
     "output_type": "execute_result"
    }
   ],
   "source": [
    "X_train.shape"
   ]
  },
  {
   "cell_type": "code",
   "execution_count": 14,
   "metadata": {},
   "outputs": [
    {
     "data": {
      "text/plain": [
       "(12252, 15149)"
      ]
     },
     "execution_count": 14,
     "metadata": {},
     "output_type": "execute_result"
    }
   ],
   "source": [
    "X_test.shape"
   ]
  },
  {
   "cell_type": "code",
   "execution_count": 15,
   "metadata": {},
   "outputs": [],
   "source": [
    "clf = LogisticRegression(random_state=42, penalty='l1')"
   ]
  },
  {
   "cell_type": "code",
   "execution_count": 16,
   "metadata": {},
   "outputs": [
    {
     "data": {
      "text/plain": [
       "LogisticRegression(C=1.0, class_weight=None, dual=False, fit_intercept=True,\n",
       "          intercept_scaling=1, max_iter=100, multi_class='ovr', n_jobs=1,\n",
       "          penalty='l1', random_state=42, solver='liblinear', tol=0.0001,\n",
       "          verbose=0, warm_start=False)"
      ]
     },
     "execution_count": 16,
     "metadata": {},
     "output_type": "execute_result"
    }
   ],
   "source": [
    "clf.fit(X_train, y_train)"
   ]
  },
  {
   "cell_type": "code",
   "execution_count": 17,
   "metadata": {},
   "outputs": [
    {
     "data": {
      "text/plain": [
       "0.6145935357492655"
      ]
     },
     "execution_count": 17,
     "metadata": {},
     "output_type": "execute_result"
    }
   ],
   "source": [
    "clf.score(X_test,y_test)"
   ]
  },
  {
   "cell_type": "code",
   "execution_count": 18,
   "metadata": {},
   "outputs": [
    {
     "data": {
      "text/plain": [
       "0.8239527217174559"
      ]
     },
     "execution_count": 18,
     "metadata": {},
     "output_type": "execute_result"
    }
   ],
   "source": [
    "clf.score(X_train, y_train)"
   ]
  },
  {
   "cell_type": "markdown",
   "metadata": {},
   "source": [
    "### Statistics"
   ]
  },
  {
   "cell_type": "code",
   "execution_count": 41,
   "metadata": {},
   "outputs": [],
   "source": [
    "import spacy\n",
    "import en_core_web_sm as en"
   ]
  },
  {
   "cell_type": "code",
   "execution_count": 42,
   "metadata": {},
   "outputs": [],
   "source": [
    "nlp = en.load()"
   ]
  },
  {
   "cell_type": "code",
   "execution_count": 43,
   "metadata": {},
   "outputs": [],
   "source": [
    "doc = nlp(u'This is a sentence.')"
   ]
  },
  {
   "cell_type": "code",
   "execution_count": 44,
   "metadata": {},
   "outputs": [],
   "source": [
    "from spacy.lang.en import English\n",
    "tokenizer = English().Defaults.create_tokenizer(nlp)"
   ]
  },
  {
   "cell_type": "code",
   "execution_count": 55,
   "metadata": {},
   "outputs": [],
   "source": [
    "tokens = tokenizer(u'This is a sentence')"
   ]
  },
  {
   "cell_type": "code",
   "execution_count": 61,
   "metadata": {},
   "outputs": [],
   "source": [
    "tokens_len = []\n",
    "\n",
    "for doc in X:\n",
    "    tokens_len.append(len(tokenizer(doc)))"
   ]
  },
  {
   "cell_type": "code",
   "execution_count": 63,
   "metadata": {},
   "outputs": [],
   "source": [
    "tokens_len = np.asarray(tokens_len)"
   ]
  },
  {
   "cell_type": "code",
   "execution_count": 64,
   "metadata": {},
   "outputs": [
    {
     "data": {
      "text/plain": [
       "3564"
      ]
     },
     "execution_count": 64,
     "metadata": {},
     "output_type": "execute_result"
    }
   ],
   "source": [
    "np.max(tokens_len)"
   ]
  },
  {
   "cell_type": "code",
   "execution_count": 69,
   "metadata": {},
   "outputs": [
    {
     "data": {
      "text/plain": [
       "1"
      ]
     },
     "execution_count": 69,
     "metadata": {},
     "output_type": "execute_result"
    }
   ],
   "source": [
    "np.min(tokens_len)"
   ]
  },
  {
   "cell_type": "code",
   "execution_count": 71,
   "metadata": {},
   "outputs": [],
   "source": [
    "sent_len = []\n",
    "\n",
    "for doc in X:\n",
    "    x = nlp(doc)\n",
    "    sent_len.append(len(list(x.sents)))"
   ]
  },
  {
   "cell_type": "code",
   "execution_count": 72,
   "metadata": {},
   "outputs": [],
   "source": [
    "sent_len = np.asarray(sent_len)"
   ]
  },
  {
   "cell_type": "code",
   "execution_count": 73,
   "metadata": {},
   "outputs": [
    {
     "data": {
      "text/plain": [
       "185"
      ]
     },
     "execution_count": 73,
     "metadata": {},
     "output_type": "execute_result"
    }
   ],
   "source": [
    "np.max(sent_len)"
   ]
  },
  {
   "cell_type": "code",
   "execution_count": 74,
   "metadata": {},
   "outputs": [
    {
     "data": {
      "text/plain": [
       "1"
      ]
     },
     "execution_count": 74,
     "metadata": {},
     "output_type": "execute_result"
    }
   ],
   "source": [
    "np.min(sent_len)"
   ]
  },
  {
   "cell_type": "code",
   "execution_count": 75,
   "metadata": {},
   "outputs": [
    {
     "data": {
      "text/plain": [
       "'Ok, so I have to admit, when I saw the advertisements for this show, all I could think of was that it looked cheesy and very tween centered.  Then I saw an episode on TV, intrigued I took a look at Hulu and caught some of the second season episodes they had there.  Now, its a guilty pleasure and I just had to get the first season to see how it all started.Glee is a great show in that its positive.  Sure there\\'s some mature themes in it, but really, its about life and that just makes it more realistic.  It shows overcoming obstacles and reaching for your dreams.  But most importantly, it has great music.  Glee is about the New Directions, a glee club who isn\\'t very popular at school but enjoys each other\\'s company and can put on quite the show.  They have several struggles and triumphs through the series and in order to stay as a club at the school, have the ultimate goal of placing in regionals to keep their funding.Characters:Artie Abrams (Kevin Mchale) is a paraplegic and a guitar player.  He has dreams of being a dancer and also is a love interest for Tina.Rachel Berry (Lea Michele) is annoying yet determined.  She wants to be a star and will let nothing stand in her way.  She grows through the series and has to learn that it isn\\'t all about her, despite her talent.Tina Cohen-Chang (Jenna Ushkowitz) is a goth wonderful singer with a stutter.  She spends most of her time with Mercedes and Artie and learns to accept herself for who she is and not drive people away.Quinn Fabray (Dianna Agron) is head cheerleader and cruelly vicious.  After spying for Sue Sylvester on the glee club and then ending up pregnant, she instead finds solace and friendship in the group.Finn Hudson (Cory Monteith) is a little unintelligent but has a lot of heart.  Quarterback of the football team he is blackmailed into joining the glee club because of his outstanding voice, but later learns that its where he wants to be.Kurt Hummel (Chris Colfer) is an out of the closet gay student.  He has a wonderful singing voice, and is a bit diva-ish but really appreciates his friends.  He is often bullied for his unique nature.Mercedes Jones (Amber Riley) is a main diva.  She isn\\'t afraid to express who she is and competes with Rachel for solos in the club.  She is a Cheerio at one point, but returns to Glee because its where her heart is.Santana Lopez (Naya Rivera) is another of Sue\\'s spies but admits that Glee is the best part of her day.  She gives the other members a hard time and is sometimes vicious.Brittany Pierce (Heather Morris) is another of Sue\\'s spies but cannot perform the task adequately as she is a complete airhead.  She\\'s a great dancer and often unintentionally provides comic relief for the group.Emma Pillsbury (Jayma Mays) is the school\\'s guidance counselor.  She has extreme OCD and during most of the season has a crush on Will that in some parts is returned.  She is also engaged to the coach Ken Tanaka during the series.Noah Puckerman (Mark Salling) is the bad boy of the group.  Known for his trademark mohawk and being great with the ladies, he joins the glee club after being in the Acafellas with Will.  He is a love interest for several of the group\\'s girls.Will Schuester (Mark Morrison) is the glee club director and Spanish teacher.  He has a good heart but doesn\\'t always listen to the kid\\'s on what they want.  But he learns quickly and always tries to do his best for them.  A former Glee club member himself, he is a great singer and dancer.  He has a lot of love interests and has trouble with relationships.Terry Schuester (Jessalyn Gilsig) is Will\\'s neurotic wife.  Originally seen as controlling and bossy, she mellows out when trying to hide a secret from Will.  She cannot overcome her jealousy and suspicion however and does not add to the relationship very much.Sue Sylvester (Jane Lynch) is definitely the nemesis of the Glee Club.  Head of the vastly awarded Cheerio\\'s she is upset that Will\\'s club is cutting into her budget.  She\\'ll stop at nothing to destroy the New Directions.  She does have moments where her inner goodness shines out however, and it keeps the audience guessing.Mike Chang (Harry Shum Jr) is a football player who is also a great dancer.  He plays a minor role in the series but is great at backup.Burt Hummel (Mike O\\'Malley) is Kurt\\'s father.  He\\'s a bit confused about how to do right for his gay son, but ultimately loves him and wants the best for him.Jacob Ben Israel (Josh Sussman) is the head of the school paper and has an extreme crush on Rachel.  She is often seen trying to avoid him.Becky Jackson (Lauren Potter) is a member of the Cheerio\\'s that has Down Syndrome.  She becomes Sue\\'s special sidekick.Matt Rutherford (Dijon Talton) is a football member that has joined glee club.  He plays a very minor part often doing backup.Principal Figgins (Iqbal Theba) is a nice guy but easily mislead.  He cowtows to Sue and often doesn\\'t rule favorably for the glee club.  He tries to do what is right however and does save them once in awhile.Sandy Ryerson (Stephen Tobolowsky) is the former glee club director.  He was removed for inappropriate conduct and is later used for comic relief and the selling of illegal drugs.Ken Tanaka (Patrick Gallagher) is the coach of the school teams.  He is in love with Emma and jealous of Will.  He causes problems at times but ultimately is just a guy who wants to be loved.Shelby Corcoran (Idina Menzel) is the coal of the rival glee club Vocal Adrenaline.  She is also Rachel\\'s biological mother.Jesse St. James (Jonathan Groff) is the lead singer of Vocal Adrenaline.  For a time he is a love interest of Rachel\\'s before becoming a rival again.April Rhodes (Kristin Chenowenth) is a washed up former glee club member who never finished high school.  After a stroke of good luck and some help from Will she ends up rich and helps out the glee club.There are many other characters, but most play minor roles.As a whole I think they did a great job of casting the characters.  They also included some cameos such as Josh Groban and Olivia Newton John and also Neil Patrick Harris.  There were some characters that I just didn\\'t care for however.  I\\'m not a big fan of the Emma Pillsbury character.  I realize she\\'s a love interest for Will but I think her arc in the story takes a lot away from the show\\'s true purpose; the glee club.  She also, despite her eccentricities, just isn\\'t that interesting and I can\\'t see why Will would be interested in her.  The same would go for her boyfriend in the series, Ken Tanaka.  He makes things hard for Will and the football players, but aside from that, doesn\\'t add too much.Most of the characters I love though.  Artie is fantastic and you really feel compassion for him especially in the episode on dancing.  Sue Sylvester is great.  She plays the perfect villain and I can never tell what she\\'s going to do next.  All of the Glee club members really know how to put on a show.Episodes:The First Season has 22 episodes and they are all jam-packed with music, dancing, and your soap opera-ish type plot lines that seem to be popular.**Warning, some of these episode descriptions could be considered spoilers for plot lines.Pilot:This introduces us to the gang and also to the formidable Will Scheuster, a Spanish teacher, former glee club member, and the new director of the Glee club.  The group largely consists of outcasts and starts only five members strong.  But they\\'ve got talent, it just needs to be explored.  We are also introduced to Will\\'s formidable wife Terry and the guidance counselor who has a crush on him, Emma Pillsbury.Shomance:In order to try to get some new members (and not be slushied in the face) the group puts together a number to sing in front of the whole school.  Will takes on some new responsibility since he has learned Terri is pregnant, but she isn\\'t telling him the whole truth. Glee Club\\'s Arch Nemesis Sue Sylvester (coach of the award winning Cheerio\\'s cheer squad) sends some cheerleaders as spies into the glee club.Acafellas:Will forms an all male vocal group and in doing so gives up some responsibility to the glee club.  They hire a dance instructor, but realize that they just need to accept each other for who they are.  Especially Kurt as he struggles with his sexuality.Preggers:In this episode, Kurt comes out of the closet, but also joins the football team. Quinn tells Finn that he is the father of her baby and they have to decide what they are going to do with their future despite the fact that she knows Puck is actually the father.  The Glee club also helps the football team win a game.The Rhodes Not Taken:With Rachel quitting to perform in the school play, Will enlists former glee member April Rhodes to be in the glee club.  As she never graduated high school, she is still able to do this.  While struggling to overcome April\\'s bad influence on the group and competing at sectionals, the glee clubbers have a lot on their plate.Vitamin D:After their success at Invitationals, the team feels too confident to perform adequately so Will has the girls compete against the boys.  However, Terri, newly appointed as the school nurse gives the kids over the counter drugs to help them pep up and ultimately gets them in even more trouble.Throwdown:With Sue as co-director of the Glee club, things couldn\\'t be more tense.  She tries to pit the group against each other and then the group becomes even more disheveled when its revealed to the rest of the school that Quinn is pregnant.Mash-Up:When asked to come up with a way to mash two very unlikely song together for Emma and Ken\\'s wedding, Will has to struggle with his feelings for Emma.  These aren\\'t the only relationship problems in this episode as Finn, Quinn, Rachel, and Puck all have to deal with their feelings as well.Wheels:When its revealed how hurt Artie is that he can\\'t travel with the rest of the group they try to raise money to rent a wheelchair accessible school bus for him to take to regionals.  Artie learns something unexpected about Tina, and Sue shows her softer side.Ballad:Will assigns the group a task to sing ballads to each other about how they feel.  This results in a lot of secrets being exposed and Finn telling Quinn\\'s parents about her pregnancy.Hairography:When they see their competition for regionals (and Will is subsequently impressed by their use of hair in dance) they all don the wings and have a rockin time using \"Hairography\" in their routines.  Quinn considers putting the baby up for adoption.Mattress:After a big uproar about the team not appearing in the yearbook Rachel finds a way to try to make them popular again by starring in a local Mattress company commercial.  This compromises them however, as they are paid in mattresses and this could disqualify them from competition.  Will discovers Terri has been lying to him about her pregnancy and spends the night at the school.Sectionals:With Will stepping down from coaching the club, Emma postpones her wedding to take the team to sectionals where they learn that their set-list as been leaked to the opposing teams.  With not a lot of hope in sight, and Finn not showing up as he learns the truth about Quinn\\'s baby, they have to find a way to win in spite of the troubles.Hell-O:This ones all about relationships.  Will and Emma struggle to accept each other the way they are.  Finn is undecided about Rachel and Sue has Santana and Brittany try to ruin that relationship.  Rachel also meets the lead singer of a rival glee club and makes a connection.The Power of Madonna:Just like it sounds, this episode pays homage to Madonna.  With the girls feeling inferior, Will assigns them Madonna songs hoping it will make them feel empowered.Home:When Finn finds out that his mother and Kurt\\'s father are dating he\\'s not sure how to take it. April comes back and helps the team with their auditorium problems and Mercedes learns to feel good about herself.Bad Reputation:After a list ranking the glee club members by hotness circulates, they try to figure out ways to make themselves \"badder\" in order to rise on the list.  This results in relationships being broken, feelings being hurt, and quite a bit of slushie facials.Laryngitis:When Rachel loses her voice she thinks its the end of the world.  Kurt struggles with his identity and begins dating Brittany.Dream On:When Will\\'s old rival in glee club Bryan Ryan wants to cut Glee from the school budget, he has to give up some of his dreams in order to keep it going.  Artie also has to come to term with his dreams of being a dancer.Theatricality:This episode pays homage to Lady Gaga and all her craziness.  Rachel meets her mother and Kurt and Finn\\'s families move in together creating tension.Funk:After feeling a bit defeated by Vocal Adrenaline, a competing team, Will teaches the glee club that they have funk and soul.  Rachel is also devastated when Jesse returns to Vocal Adrenaline.Journey:The team\\'s performance at Regionals will determine their future in the school.  However, they\\'ve just learned that Sue is one of the judges and are feeling depressed.  Quinn goes into labor.As a whole the episodes are great and I enjoy the music.  I should note however that some of the plot lines tend to get stale and drawn out.  They also focus more on some characters than others and while the tension between Rachel and Finn is interesting, it just gets boring after awhile.  Some of the more minor characters have great back stories and I\\'d love to see it expanded.Some of the story lines were quite touching though.  Quite a few timse there were moments in the show that I could feel tears coming to my eyes.  Now that\\'s good writing!Music:Since this is Glee I have to talk about the music.  The show uses a mix of modern tunes and old classics and of course show tunes.  They use Madonna, Lady Gaga, Journey, and other popular artists in their works.  The actors do their own singing but it is slightly noticeable that it is prerecorded.I did enjoy most of the music but thought they got a little heavy handed with the show tunes and broadway hits once in awhile.  Its not that they\\'re not good songs, I just thought the performances and singing for the modern hits were much better done and also better coreographed.~~~This is a great family friendly tv series.  While it explores some mature themes (teen pregnancy, virginity, drugs, etc.) it does so in an approachable way and a parent can easily sit and explain right choices to their kids while watching.  But its also entertaining for adults.  There are plot lines that keep it interesting and music to keep you entertained.  While I would love to see more music there\\'s only so much they can fit into an hour long episode.  Fantastic series and I highly recommend watching it.Review by M. Reynard 2010'"
      ]
     },
     "execution_count": 75,
     "metadata": {},
     "output_type": "execute_result"
    }
   ],
   "source": [
    "X[np.argmax(sent_len)]"
   ]
  },
  {
   "cell_type": "code",
   "execution_count": null,
   "metadata": {},
   "outputs": [],
   "source": []
  }
 ],
 "metadata": {
  "kernelspec": {
   "display_name": "Python 3",
   "language": "python",
   "name": "python3"
  },
  "language_info": {
   "codemirror_mode": {
    "name": "ipython",
    "version": 3
   },
   "file_extension": ".py",
   "mimetype": "text/x-python",
   "name": "python",
   "nbconvert_exporter": "python",
   "pygments_lexer": "ipython3",
   "version": "3.6.4"
  }
 },
 "nbformat": 4,
 "nbformat_minor": 2
}

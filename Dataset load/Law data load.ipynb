{
 "cells": [
  {
   "cell_type": "code",
   "execution_count": 1,
   "metadata": {},
   "outputs": [],
   "source": [
    "import numpy as np"
   ]
  },
  {
   "cell_type": "code",
   "execution_count": 2,
   "metadata": {},
   "outputs": [],
   "source": [
    "path = r\"C:\\Users\\Anneke Hidayat\\Documents\\GitHub\\data\\supreme_court_dialogs_corpus_v1.01\\supreme_court_dialogs_corpus_v1.01\\supreme.conversations.txt\"\n",
    "line_conv = []\n",
    "with open(path, 'r', encoding='utf8') as f:\n",
    "        for line in f:\n",
    "            line_conv.append(line.strip())"
   ]
  },
  {
   "cell_type": "code",
   "execution_count": 4,
   "metadata": {},
   "outputs": [
    {
     "data": {
      "text/plain": [
       "51498"
      ]
     },
     "execution_count": 4,
     "metadata": {},
     "output_type": "execute_result"
    }
   ],
   "source": [
    "len(line_conv)"
   ]
  },
  {
   "cell_type": "code",
   "execution_count": 16,
   "metadata": {},
   "outputs": [],
   "source": [
    "arg = []\n",
    "for l in line_conv[:10]:\n",
    "    arg.append(l[l.rfind('+')+1:])"
   ]
  },
  {
   "cell_type": "code",
   "execution_count": 11,
   "metadata": {},
   "outputs": [
    {
     "data": {
      "text/plain": [
       "' We will now hear argument in the Cherokee Nation against Thompson and Thompson against the Cherokee Nation. Mr. Miller.'"
      ]
     },
     "execution_count": 11,
     "metadata": {},
     "output_type": "execute_result"
    }
   ],
   "source": [
    "line_conv[0][line_conv[0].rfind('+')+1:]"
   ]
  },
  {
   "cell_type": "code",
   "execution_count": 13,
   "metadata": {},
   "outputs": [
    {
     "data": {
      "text/plain": [
       "' Justice Stevens, and may it please the Court: These two contract cases concern whether the Government is liable in money damages under the Contract Disputes Act and section 110 of the Indian Self-Determination Act when the Secretary fails to fully pay a contract price for the --'"
      ]
     },
     "execution_count": 13,
     "metadata": {},
     "output_type": "execute_result"
    }
   ],
   "source": [
    "line_conv[1][line_conv[1].rfind('+')+1:]"
   ]
  },
  {
   "cell_type": "code",
   "execution_count": 17,
   "metadata": {},
   "outputs": [
    {
     "data": {
      "text/plain": [
       "[' We will now hear argument in the Cherokee Nation against Thompson and Thompson against the Cherokee Nation. Mr. Miller.',\n",
       " ' Justice Stevens, and may it please the Court: These two contract cases concern whether the Government is liable in money damages under the Contract Disputes Act and section 110 of the Indian Self-Determination Act when the Secretary fails to fully pay a contract price for the --',\n",
       " ' Would you mind explaining to us how these two cases relate? The Court of Appeals for the Federal Circuit decision went one way and the Tenth Circuit went another. And are the claims at all overlapping? How are they differentiated?',\n",
       " \" No, Justice O'Connor. They're -- they're not overlapping. The claims in the Federal Circuit case involved three contracts covering fiscal years 1994, 1995, and 1996. And the Cherokee contract at issue in the case that went through the Tenth Circuit is fiscal year 1997 contract and funding agreement. The section -- remedial section of the act, section 110 --\",\n",
       " \" But they're certainly at odds on the legal theory.\",\n",
       " \" Yes, they are, Your Honor. The Federal Circuit applied standard, bedrock Government contracting law, primarily the rule that when a contract payment is conditioned on there being an appropriation, the payment right vests in full once the appropriation is enacted by Congress. And secondly, the court ruled that the Indian Self-Determination Act does not bar the payment of the contracts in this case under the circumstances presented. And to the contrary. We submit that the Secretary's construction of that clause would undo the act, would undo section 106(b) of the act --\",\n",
       " ' Are the circumstances any different in the two situations, the Cherokee Nation case and the one in the Federal Circuit? Are -- are the circumstances, giving rise to the claim, different in any respect that could account for a difference in outcome?',\n",
       " \" No, Justice O'Connor. There -- there is no difference in that respect, and there is an overlap in -- in this sense. The Shoshone-Paiute contract that arose through the Tenth Circuit case did involve fiscal year 1996, the same fiscal year as the Cherokee contract that covered fiscal year 1996. So in that sense, both cases involved the -- the same relevant issues. The -- the key, we think, to the resolution of the act is found in the act on page 12a of the appendix to our opening blue brief. The act was amended in this section twice, in 1988 and in 1994, for three reasons: to secure contract funding, to reduce the Federal bureaucracy, and to eliminate secretarial funding discretion over contract funding issues. In section 12a, 450j-1(a), the bottom half of the page, it is stated in subparagraph (1) that the amount of funds provided under the terms of self-determination contracts entered into pursuant to this subchapter shall not be less than the appropriate Secretary would have otherwise provided. And then directly pertinent to this case is subparagraph (2), which directs -- which addresses contract support costs. There shall be added to the amount required by paragraph (1) contract support costs which shall consist of certain items. Incidentally, these items typically cover the cost of insurance, audit costs, procurement costs that might otherwise be administered for the Government by the Office of Personnel Management or personnel costs that might otherwise be administered by the Office of Personnel Management.\",\n",
       " \" Does the -- do the actual contracts reduce the -- the CSC's to a dollar amount or --\",\n",
       " ' Yes, they do.']"
      ]
     },
     "execution_count": 17,
     "metadata": {},
     "output_type": "execute_result"
    }
   ],
   "source": [
    "arg"
   ]
  },
  {
   "cell_type": "code",
   "execution_count": 18,
   "metadata": {},
   "outputs": [],
   "source": [
    "path = r\"C:\\Users\\Anneke Hidayat\\Documents\\GitHub\\data\\supreme_court_dialogs_corpus_v1.01\\supreme_court_dialogs_corpus_v1.01\\supreme.conversations.txt\"\n",
    "\n",
    "\n",
    "with open(path, 'r', encoding='utf8') as f:\n",
    "        for line in f:\n",
    "            line_conv.append(line.strip())"
   ]
  },
  {
   "cell_type": "code",
   "execution_count": 20,
   "metadata": {},
   "outputs": [
    {
     "data": {
      "text/plain": [
       "['02-1472 ',\n",
       " ' 2 ',\n",
       " ' FALSE ',\n",
       " ' JUSTICE STEVENS ',\n",
       " ' JUSTICE ',\n",
       " ' PETITIONER ',\n",
       " '  ',\n",
       " ' We will now hear argument in the Cherokee Nation against Thompson and Thompson against the Cherokee Nation. Mr. Miller.']"
      ]
     },
     "execution_count": 20,
     "metadata": {},
     "output_type": "execute_result"
    }
   ],
   "source": [
    "line_conv[0].split('+++$+++')"
   ]
  },
  {
   "cell_type": "code",
   "execution_count": 21,
   "metadata": {},
   "outputs": [],
   "source": [
    "all_list = []\n",
    "for i in line_conv:\n",
    "    breakdown = i.split('+++$+++')\n",
    "    all_list.append(breakdown)"
   ]
  },
  {
   "cell_type": "code",
   "execution_count": 28,
   "metadata": {},
   "outputs": [],
   "source": [
    "set_id = set()\n",
    "for i in all_list:\n",
    "    set_id.add(i[0])"
   ]
  },
  {
   "cell_type": "code",
   "execution_count": 30,
   "metadata": {},
   "outputs": [
    {
     "data": {
      "text/plain": [
       "204"
      ]
     },
     "execution_count": 30,
     "metadata": {},
     "output_type": "execute_result"
    }
   ],
   "source": [
    "len(set_id)"
   ]
  },
  {
   "cell_type": "code",
   "execution_count": null,
   "metadata": {},
   "outputs": [],
   "source": [
    "for i in all_list:\n",
    "    if i[0] == set_id[0]"
   ]
  }
 ],
 "metadata": {
  "kernelspec": {
   "display_name": "Python 3",
   "language": "python",
   "name": "python3"
  },
  "language_info": {
   "codemirror_mode": {
    "name": "ipython",
    "version": 3
   },
   "file_extension": ".py",
   "mimetype": "text/x-python",
   "name": "python",
   "nbconvert_exporter": "python",
   "pygments_lexer": "ipython3",
   "version": "3.6.6"
  }
 },
 "nbformat": 4,
 "nbformat_minor": 2
}

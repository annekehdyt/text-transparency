{
 "cells": [
  {
   "cell_type": "code",
   "execution_count": 1,
   "metadata": {},
   "outputs": [],
   "source": [
    "import numpy as np\n",
    "import matplotlib.pyplot as plt\n",
    "import pickle"
   ]
  },
  {
   "cell_type": "code",
   "execution_count": 7,
   "metadata": {},
   "outputs": [],
   "source": [
    "def open_pickle(path):\n",
    "    with open(path, 'rb') as f:\n",
    "        X = pickle.load(f)\n",
    "    return X\n",
    "\n",
    "def print_word_stat(title, X):\n",
    "    print()\n",
    "    print('--', title, 'Statistics --')\n",
    "\n",
    "    print('Total sentences ', len(X))\n",
    "    print('Max \\t: ', int(np.max(X)))\n",
    "    print('Min \\t: ', int(np.min(X)))\n",
    "    print('Mean \\t: ', int(np.mean(X)))\n",
    "    print('Median \\t: ', int(np.median(X)))\n",
    "    print()"
   ]
  },
  {
   "cell_type": "code",
   "execution_count": 16,
   "metadata": {},
   "outputs": [],
   "source": [
    "X_train_original = open_pickle('../data/imdb/imdb_original_preprocessed_xtrain.pickle')\n",
    "X_test_original = open_pickle('../data/imdb/imdb_original_preprocessed_xtest.pickle')\n",
    "y_train_original = open_pickle('../data/imdb/imdb_original_preprocessed_ytrain.pickle')\n",
    "y_test_original = open_pickle('../data/imdb/imdb_original_preprocessed_ytest.pickle')"
   ]
  },
  {
   "cell_type": "code",
   "execution_count": 17,
   "metadata": {},
   "outputs": [],
   "source": [
    "X = np.hstack((X_train_original, X_test_original))\n",
    "y = np.hstack((y_train_original, y_test_original))\n",
    "\n",
    "X_pos_org = X[y==1]\n",
    "X_neg_org = X[y==0]\n",
    "\n",
    "X_pos = np.zeros(len(X_pos_org))\n",
    "X_neg = np.zeros(len(X_neg_org))\n",
    "\n",
    "for i,x in enumerate(X_pos_org):\n",
    "    X_pos[i] = len(x.split())\n",
    "\n",
    "for i,x in enumerate(X_neg_org):\n",
    "    X_neg[i] = len(x.split())"
   ]
  },
  {
   "cell_type": "code",
   "execution_count": 18,
   "metadata": {},
   "outputs": [
    {
     "name": "stdout",
     "output_type": "stream",
     "text": [
      "\n",
      "-- Pos document Statistics --\n",
      "Total sentences  25000\n",
      "Max \t:  2463\n",
      "Min \t:  10\n",
      "Mean \t:  231\n",
      "Median \t:  172\n",
      "\n",
      "\n",
      "-- Neg document Statistics --\n",
      "Total sentences  25000\n",
      "Max \t:  1484\n",
      "Min \t:  4\n",
      "Mean \t:  228\n",
      "Median \t:  174\n",
      "\n"
     ]
    }
   ],
   "source": [
    "print_word_stat('Pos document', X_pos)\n",
    "print_word_stat('Neg document', X_neg)"
   ]
  },
  {
   "cell_type": "code",
   "execution_count": 8,
   "metadata": {},
   "outputs": [],
   "source": [
    "X_train_sentence = open_pickle('../data/imdb-sentence/imdb_sentence_xtrain.pickle')\n",
    "X_test_sentence = open_pickle('../data/imdb-sentence/imdb_sentence_xtest.pickle')\n",
    "y_train_sentence = open_pickle('../data/imdb-sentence/imdb_sentence_ytrain.pickle')\n",
    "y_test_sentence = open_pickle('../data/imdb-sentence/imdb_sentence_ytest.pickle')"
   ]
  },
  {
   "cell_type": "code",
   "execution_count": 10,
   "metadata": {},
   "outputs": [],
   "source": [
    "X = np.hstack((X_train_sentence, X_test_sentence))\n",
    "y = np.hstack((y_train_sentence, y_test_sentence))\n",
    "\n",
    "X_rel = X[y==1]\n",
    "X_unrel = X[y==0]\n",
    "\n",
    "X_rel_sent = np.zeros(len(X_rel))\n",
    "X_unrel_sent = np.zeros(len(X_unrel))\n",
    "\n",
    "for i,x in enumerate(X_rel):\n",
    "    X_rel_sent[i] = len(x.split())\n",
    "\n",
    "for i,x in enumerate(X_unrel):\n",
    "    X_unrel_sent[i] = len(x.split())"
   ]
  },
  {
   "cell_type": "code",
   "execution_count": 11,
   "metadata": {},
   "outputs": [
    {
     "name": "stdout",
     "output_type": "stream",
     "text": [
      "\n",
      "-- Related Sentence Statistics --\n",
      "Total sentences  1000\n",
      "Max \t:  84\n",
      "Min \t:  1\n",
      "Mean \t:  15\n",
      "Median \t:  13\n",
      "\n",
      "\n",
      "-- Unrelated Sentence Statistics --\n",
      "Total sentences  1000\n",
      "Max \t:  109\n",
      "Min \t:  1\n",
      "Mean \t:  17\n",
      "Median \t:  15\n",
      "\n"
     ]
    }
   ],
   "source": [
    "print_word_stat('Related Sentence', X_rel_sent)\n",
    "print_word_stat('Unrelated Sentence', X_unrel_sent)"
   ]
  },
  {
   "cell_type": "code",
   "execution_count": 12,
   "metadata": {},
   "outputs": [],
   "source": [
    "X_train_np_sentence = open_pickle('../data/imdb-sentence/imdb_sentence_np_xtrain.pickle')\n",
    "X_test_np_sentence = open_pickle('../data/imdb-sentence/imdb_sentence_np_xtest.pickle')\n",
    "y_train_np_sentence = open_pickle('../data/imdb-sentence/imdb_sentence_np_ytrain.pickle')\n",
    "y_test_np_sentence = open_pickle('../data/imdb-sentence/imdb_sentence_np_ytest.pickle')"
   ]
  },
  {
   "cell_type": "code",
   "execution_count": 14,
   "metadata": {},
   "outputs": [],
   "source": [
    "X = np.hstack((X_train_np_sentence, X_test_np_sentence))\n",
    "y = np.hstack((y_train_np_sentence, y_test_np_sentence))\n",
    "\n",
    "X_pos = X[y==1]\n",
    "X_neg = X[y==0]\n",
    "\n",
    "X_pos_sent = np.zeros(len(X_pos))\n",
    "X_neg_sent = np.zeros(len(X_neg))\n",
    "\n",
    "for i,x in enumerate(X_pos):\n",
    "    X_pos_sent[i] = len(x.split())\n",
    "\n",
    "for i,x in enumerate(X_neg):\n",
    "    X_neg_sent[i] = len(x.split())"
   ]
  },
  {
   "cell_type": "code",
   "execution_count": 15,
   "metadata": {},
   "outputs": [
    {
     "name": "stdout",
     "output_type": "stream",
     "text": [
      "\n",
      "-- Positive Sentence Statistics --\n",
      "Total sentences  500\n",
      "Max \t:  84\n",
      "Min \t:  1\n",
      "Mean \t:  15\n",
      "Median \t:  13\n",
      "\n",
      "\n",
      "-- Negative Sentence Statistics --\n",
      "Total sentences  500\n",
      "Max \t:  69\n",
      "Min \t:  2\n",
      "Mean \t:  15\n",
      "Median \t:  13\n",
      "\n"
     ]
    }
   ],
   "source": [
    "print_word_stat('Positive Sentence', X_pos_sent)\n",
    "print_word_stat('Negative Sentence', X_neg_sent)"
   ]
  }
 ],
 "metadata": {
  "kernelspec": {
   "display_name": "Python 3",
   "language": "python",
   "name": "python3"
  },
  "language_info": {
   "codemirror_mode": {
    "name": "ipython",
    "version": 3
   },
   "file_extension": ".py",
   "mimetype": "text/x-python",
   "name": "python",
   "nbconvert_exporter": "python",
   "pygments_lexer": "ipython3",
   "version": "3.6.4"
  }
 },
 "nbformat": 4,
 "nbformat_minor": 2
}

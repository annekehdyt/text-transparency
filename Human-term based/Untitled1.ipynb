{
 "cells": [
  {
   "cell_type": "code",
   "execution_count": 1,
   "metadata": {},
   "outputs": [
    {
     "name": "stderr",
     "output_type": "stream",
     "text": [
      "Using TensorFlow backend.\n"
     ]
    }
   ],
   "source": [
    "from keras.layers import Input, Dense, TimeDistributed, Embedding\n",
    "from keras.layers import Concatenate, Reshape, Lambda, Multiply, multiply, concatenate\n",
    "from keras.models import Model\n",
    "from keras import backend as K\n",
    "\n",
    "import os\n",
    "\n",
    "import tensorflow as tf\n",
    "import numpy as np\n",
    "\n",
    "# load data\n",
    "# make sure that the first shape is the IMDB training data. \n",
    "\n",
    "def open_pickle(path):\n",
    "    import pickle\n",
    "    with open(path, 'rb') as f:\n",
    "        X = pickle.load(f)\n",
    "    return X\n",
    "\n",
    "X_train_original = open_pickle('../../data/imdb/imdb_original_preprocessed_xtrain.pickle')\n",
    "X_test_original = open_pickle('../../data/imdb/imdb_original_preprocessed_xtest.pickle')\n",
    "y_train_original = open_pickle('../../data/imdb/imdb_original_preprocessed_ytrain.pickle')\n",
    "y_test_original = open_pickle('../../data/imdb/imdb_original_preprocessed_ytest.pickle')\n",
    "\n",
    "def load_unigrams(path, X, y):\n",
    "    word_list = []\n",
    "    connotation = {}\n",
    "    \n",
    "    with open(path, 'r', encoding='utf8') as f:\n",
    "        for line in f:\n",
    "            word_list.append(line.strip())\n",
    "            \n",
    "    for word in word_list:\n",
    "        pos_count = 0\n",
    "        neg_count = 0\n",
    "        for i, doc in enumerate(X):\n",
    "            if word in doc.lower():\n",
    "                if (y[i] == 1):\n",
    "                    pos_count += 1\n",
    "                else:\n",
    "                    neg_count += 1\n",
    "                    \n",
    "        if pos_count > neg_count:\n",
    "            connotation[word] = 1\n",
    "        else:\n",
    "            connotation[word] = 0\n",
    "    \n",
    "    return word_list, connotation\n",
    "\n",
    "def generate_appearance(X_train_corpus, X_test_corpus, word_list, connotation):\n",
    "    y_train_agreement = []\n",
    "    for i in range(len(X_train_corpus)):\n",
    "        doc_agreement = []\n",
    "        for word in word_list:\n",
    "            if word in X_train_corpus[i]:\n",
    "                if connotation[word] == 1:\n",
    "                    doc_agreement.append(1)\n",
    "                else:\n",
    "                    doc_agreement.append(-1)\n",
    "            else:\n",
    "                doc_agreement.append(0)\n",
    "        y_train_agreement.append(doc_agreement)\n",
    "        \n",
    "    y_test_agreement = []\n",
    "    for i in range(len(X_test_corpus)):\n",
    "        doc_agreement = []\n",
    "        for word in word_list:\n",
    "            if word in X_test_corpus[i]:\n",
    "                if connotation[word] == 1:\n",
    "                    doc_agreement.append(1)\n",
    "                else:\n",
    "                    doc_agreement.append(-1)\n",
    "            else:\n",
    "                doc_agreement.append(0)\n",
    "        y_test_agreement.append(doc_agreement)\n",
    "        \n",
    "    return np.array(y_train_agreement), np.array(y_test_agreement)\n",
    "\n",
    "# 'imdb-unigrams.txt'\n",
    "\n",
    "####################################################################\n",
    "\n",
    "# Count vectorizer \n",
    "\n",
    "from sklearn.feature_extraction.text import CountVectorizer\n",
    "\n",
    "token = r\"(?u)\\b[\\w\\'/]+\\b\"\n",
    "cv = CountVectorizer(min_df = 100, token_pattern=token, lowercase=True, binary=True)\n",
    "X_train = cv.fit_transform(X_train_original)\n",
    "X_test = cv.transform(X_test_original)\n",
    "\n",
    "######################################################################\n",
    "\n"
   ]
  },
  {
   "cell_type": "code",
   "execution_count": 2,
   "metadata": {},
   "outputs": [],
   "source": [
    "word_list, connotation = load_unigrams('./imdb-unigrams.txt', X_train_original, y_train_original)"
   ]
  },
  {
   "cell_type": "code",
   "execution_count": 3,
   "metadata": {},
   "outputs": [],
   "source": [
    "words = cv.get_feature_names()"
   ]
  },
  {
   "cell_type": "code",
   "execution_count": 9,
   "metadata": {},
   "outputs": [
    {
     "ename": "AttributeError",
     "evalue": "'tuple' object has no attribute 'shape'",
     "output_type": "error",
     "traceback": [
      "\u001b[1;31m---------------------------------------------------------------------------\u001b[0m",
      "\u001b[1;31mAttributeError\u001b[0m                            Traceback (most recent call last)",
      "\u001b[1;32m<ipython-input-9-973bb9542f2b>\u001b[0m in \u001b[0;36m<module>\u001b[1;34m()\u001b[0m\n\u001b[1;32m----> 1\u001b[1;33m \u001b[0mnp\u001b[0m\u001b[1;33m.\u001b[0m\u001b[0mwhere\u001b[0m\u001b[1;33m(\u001b[0m\u001b[0mwords\u001b[0m \u001b[1;33m==\u001b[0m \u001b[0mword_list\u001b[0m\u001b[1;33m[\u001b[0m\u001b[1;36m0\u001b[0m\u001b[1;33m]\u001b[0m\u001b[1;33m)\u001b[0m\u001b[1;33m.\u001b[0m\u001b[0mshape\u001b[0m\u001b[1;33m\u001b[0m\u001b[0m\n\u001b[0m",
      "\u001b[1;31mAttributeError\u001b[0m: 'tuple' object has no attribute 'shape'"
     ]
    }
   ],
   "source": [
    "np.where(words == word_list[0])"
   ]
  },
  {
   "cell_type": "code",
   "execution_count": 8,
   "metadata": {},
   "outputs": [
    {
     "name": "stdout",
     "output_type": "stream",
     "text": [
      "1/10\n"
     ]
    }
   ],
   "source": [
    "for word in words:\n",
    "    if word == word_list[0]:\n",
    "        print(word)"
   ]
  },
  {
   "cell_type": "code",
   "execution_count": 12,
   "metadata": {},
   "outputs": [],
   "source": [
    "words = np.asarray(words)"
   ]
  },
  {
   "cell_type": "code",
   "execution_count": 13,
   "metadata": {},
   "outputs": [
    {
     "data": {
      "text/plain": [
       "(3686,)"
      ]
     },
     "execution_count": 13,
     "metadata": {},
     "output_type": "execute_result"
    }
   ],
   "source": [
    "words.shape"
   ]
  },
  {
   "cell_type": "code",
   "execution_count": 14,
   "metadata": {},
   "outputs": [],
   "source": [
    "word_list = np.asarray(word_list)"
   ]
  },
  {
   "cell_type": "code",
   "execution_count": 15,
   "metadata": {},
   "outputs": [
    {
     "data": {
      "text/plain": [
       "(83,)"
      ]
     },
     "execution_count": 15,
     "metadata": {},
     "output_type": "execute_result"
    }
   ],
   "source": [
    "word_list.shape"
   ]
  },
  {
   "cell_type": "code",
   "execution_count": 17,
   "metadata": {},
   "outputs": [
    {
     "data": {
      "text/plain": [
       "(array([3], dtype=int64),)"
      ]
     },
     "execution_count": 17,
     "metadata": {},
     "output_type": "execute_result"
    }
   ],
   "source": [
    "np.where((words == word_list[0]) == True)"
   ]
  },
  {
   "cell_type": "code",
   "execution_count": 73,
   "metadata": {},
   "outputs": [],
   "source": [
    "term_list = dict()"
   ]
  },
  {
   "cell_type": "code",
   "execution_count": 74,
   "metadata": {},
   "outputs": [],
   "source": [
    "for word in word_list:\n",
    "    if len(np.where((words==word)==True)[0]) == 1:\n",
    "        term_list[word] = np.where((words==word)==True)[0][0]\n",
    "    else:\n",
    "        term_list[word] = None"
   ]
  },
  {
   "cell_type": "code",
   "execution_count": 88,
   "metadata": {},
   "outputs": [
    {
     "data": {
      "text/plain": [
       "<25000x1 sparse matrix of type '<class 'numpy.int64'>'\n",
       "\twith 242 stored elements in Compressed Sparse Row format>"
      ]
     },
     "execution_count": 88,
     "metadata": {},
     "output_type": "execute_result"
    }
   ],
   "source": [
    "X_train[:,term_list['1/10']]"
   ]
  },
  {
   "cell_type": "code",
   "execution_count": 108,
   "metadata": {},
   "outputs": [],
   "source": [
    "def load_unigrams(path, X, y, cv):\n",
    "    human_term_list = []\n",
    "    connotation = {}\n",
    "    term_index = dict()\n",
    "    vocab = np.asarray(cv.get_feature_names())\n",
    "    \n",
    "    with open(path, 'r', encoding='utf8') as f:\n",
    "        for line in f:\n",
    "            human_term_list.append(line.strip())\n",
    "    \n",
    "    human_term_list = np.asarray(human_term_list)\n",
    "    \n",
    "    for word in human_term_list:\n",
    "        if len(np.where((vocab==word)==True)[0]) == 1:\n",
    "            term_index[word] = np.where((words==word)==True)[0][0]\n",
    "        else:\n",
    "            term_index[word] = None\n",
    "            connotation[word] = None\n",
    "            continue\n",
    "            \n",
    "        pos_count = 0\n",
    "        neg_count = 0\n",
    "        \n",
    "        for i,doc in enumerate(X):\n",
    "            if doc[0,term_index[word]] == 1:\n",
    "                if y[i] == 1:\n",
    "                    pos_count += 1\n",
    "                else:\n",
    "                    neg_count += 1\n",
    "        \n",
    "        if pos_count > neg_count:\n",
    "            connotation[word] = 1\n",
    "        else:\n",
    "            connotation[word] = 0\n",
    "    \n",
    "    return human_term_list, connotation"
   ]
  },
  {
   "cell_type": "code",
   "execution_count": 109,
   "metadata": {},
   "outputs": [],
   "source": [
    "word_list, connotation = load_unigrams('./imdb-unigrams.txt', X_train, y_train_original, cv)"
   ]
  },
  {
   "cell_type": "code",
   "execution_count": 110,
   "metadata": {},
   "outputs": [
    {
     "data": {
      "text/plain": [
       "{'1/10': 0,\n",
       " '2/10': 0,\n",
       " '3/10': 0,\n",
       " '4/10': 0,\n",
       " '5/10': 1,\n",
       " '6/10': None,\n",
       " '7/10': 1,\n",
       " '8/10': 1,\n",
       " '9/10': 1,\n",
       " '10/10': 1,\n",
       " 'amazing': 1,\n",
       " 'annoying': 0,\n",
       " 'avoid': 0,\n",
       " 'awful': 0,\n",
       " 'bad': 0,\n",
       " 'badly': 0,\n",
       " 'beautiful': 1,\n",
       " 'beautifully': 1,\n",
       " 'best': 1,\n",
       " 'bland': 0,\n",
       " 'boring': 0,\n",
       " 'brilliant': None,\n",
       " 'cheap': 0,\n",
       " 'disappointed': 0,\n",
       " 'disappointing': 0,\n",
       " 'disappointment': 0,\n",
       " 'dreadful': 0,\n",
       " 'dull': 0,\n",
       " 'enjoyable': 1,\n",
       " 'enjoyed': 1,\n",
       " 'excellent': 1,\n",
       " 'fails': 0,\n",
       " 'fantastic': 1,\n",
       " 'fascinating': 1,\n",
       " 'favorite': 1,\n",
       " 'forgettable': 0,\n",
       " 'fun': 1,\n",
       " 'funny': 0,\n",
       " 'funniest': 1,\n",
       " 'gem': 1,\n",
       " 'great': 1,\n",
       " 'horrible': 0,\n",
       " 'incredible': 1,\n",
       " 'insult': 0,\n",
       " 'lacks': 0,\n",
       " 'lame': 0,\n",
       " 'laughable': 0,\n",
       " 'lousy': 0,\n",
       " 'loved': 1,\n",
       " 'mediocre': 0,\n",
       " 'mess': 0,\n",
       " 'mst3k': 0,\n",
       " 'noir': 1,\n",
       " 'obnoxious': 0,\n",
       " 'pathetic': 0,\n",
       " 'perfect': 1,\n",
       " 'perfectly': 1,\n",
       " 'pointless': 0,\n",
       " 'poor': 0,\n",
       " 'poorly': 0,\n",
       " 'predictable': 0,\n",
       " 'rare': 1,\n",
       " 'recommended': 1,\n",
       " 'redeeming': 0,\n",
       " 'refreshing': 1,\n",
       " 'ridiculous': 0,\n",
       " 'sadly': 0,\n",
       " 'solid': 1,\n",
       " 'stupid': 0,\n",
       " 'subtle': 1,\n",
       " 'superb': 1,\n",
       " 'surprisingly': 1,\n",
       " 'tedious': 0,\n",
       " 'terrible': 0,\n",
       " 'unfortunately': 0,\n",
       " 'unfunny': 0,\n",
       " 'waste': 0,\n",
       " 'wasted': 0,\n",
       " 'weak': 0,\n",
       " 'wonderful': 1,\n",
       " 'wonderfully': 1,\n",
       " 'worse': 0,\n",
       " 'worst': 0}"
      ]
     },
     "execution_count": 110,
     "metadata": {},
     "output_type": "execute_result"
    }
   ],
   "source": [
    "connotation"
   ]
  },
  {
   "cell_type": "code",
   "execution_count": null,
   "metadata": {},
   "outputs": [],
   "source": []
  }
 ],
 "metadata": {
  "kernelspec": {
   "display_name": "Python 3",
   "language": "python",
   "name": "python3"
  },
  "language_info": {
   "codemirror_mode": {
    "name": "ipython",
    "version": 3
   },
   "file_extension": ".py",
   "mimetype": "text/x-python",
   "name": "python",
   "nbconvert_exporter": "python",
   "pygments_lexer": "ipython3",
   "version": "3.6.6"
  }
 },
 "nbformat": 4,
 "nbformat_minor": 2
}

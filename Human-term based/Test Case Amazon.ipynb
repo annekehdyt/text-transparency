{
 "cells": [
  {
   "cell_type": "code",
   "execution_count": 1,
   "metadata": {},
   "outputs": [
    {
     "name": "stderr",
     "output_type": "stream",
     "text": [
      "Using TensorFlow backend.\n"
     ]
    }
   ],
   "source": [
    "import numpy as np\n",
    "\n",
    "from human_terms_network import Human_Terms_Network\n",
    "from dataset_load import *\n",
    "from lr_baseline import LRBaseline"
   ]
  },
  {
   "cell_type": "code",
   "execution_count": 2,
   "metadata": {},
   "outputs": [
    {
     "name": "stdout",
     "output_type": "stream",
     "text": [
      "(75, 2)\n",
      "corpus update start\n",
      "corpus update end\n",
      "\n",
      "(75, 2)\n",
      "corpus update start\n",
      "corpus update end\n",
      "\n"
     ]
    }
   ],
   "source": [
    "path = r\"..\\..\\data\\reviews_Amazon_Instant_Video_5.json.gz\"\n",
    "\n",
    "X, y = extract_review_amazon(path, 'reviewText')\n",
    "\n",
    "y_label = y\n",
    "# discard the review with 3. [1,2] = 0, [4,5] = 0\n",
    "neutral_indices = np.where(y_label == 3)[0]\n",
    "y_label[y_label<3] = 0\n",
    "y_label[y_label>3] = 1\n",
    "\n",
    "X_discarded = np.delete(X,neutral_indices)\n",
    "y_discarded = np.delete(y_label, neutral_indices)\n",
    "\n",
    "from sklearn.model_selection import train_test_split\n",
    "\n",
    "X_train_split, X_test_split, y_train_amazon, y_test_amazon = train_test_split(\n",
    "    X_discarded, y_discarded)\n",
    "\n",
    "X_train_corpus_update = update_corpus_contraction(X_train_split)\n",
    "X_test_corpus_update = update_corpus_contraction(X_test_split)\n",
    "\n"
   ]
  },
  {
   "cell_type": "code",
   "execution_count": 3,
   "metadata": {},
   "outputs": [],
   "source": [
    "word_list, connotation = load_unigrams('./amazon-video-unigrams-more.txt', X_train_corpus_update, y_train_amazon)"
   ]
  },
  {
   "cell_type": "code",
   "execution_count": 4,
   "metadata": {},
   "outputs": [],
   "source": [
    "# y_train_agreement, y_test_agreement = generate_appearance(X_train_corpus_update, X_test_corpus_update, \n",
    "#                                                           word_list, connotation)"
   ]
  },
  {
   "cell_type": "code",
   "execution_count": 5,
   "metadata": {},
   "outputs": [],
   "source": [
    "av_baseline = LRBaseline(X_train_corpus_update, X_test_corpus_update, y_train_amazon, y_test_amazon, \n",
    "                           human_terms=word_list)"
   ]
  },
  {
   "cell_type": "code",
   "execution_count": 6,
   "metadata": {},
   "outputs": [
    {
     "name": "stdout",
     "output_type": "stream",
     "text": [
      "(0.9539750647668394, 0.9243472981177899, 0.21583650560500464)\n",
      "(0.9530440414507773, 0.926047358834244, 0.20783634000144277)\n",
      "(0.9113503886010362, 0.9208911850177591, 0.22113137904816477, 0.24784456587735276)\n",
      "(0.9125647668393783, 0.9223442040684533, 0.22126883816914306, 0.24784456587735276)\n"
     ]
    }
   ],
   "source": [
    "# (train, test)\n",
    "\n",
    "print(av_baseline.baseline())\n",
    "print(av_baseline.baseline(penalty='l1'))\n",
    "print(av_baseline.human_terms_baseline())\n",
    "print(av_baseline.human_terms_baseline(penalty='l1'))"
   ]
  },
  {
   "cell_type": "code",
   "execution_count": 7,
   "metadata": {},
   "outputs": [
    {
     "data": {
      "text/plain": [
       "78"
      ]
     },
     "execution_count": 7,
     "metadata": {},
     "output_type": "execute_result"
    }
   ],
   "source": [
    "len(word_list)"
   ]
  },
  {
   "cell_type": "code",
   "execution_count": 8,
   "metadata": {},
   "outputs": [],
   "source": [
    "from sklearn.linear_model import LogisticRegression"
   ]
  },
  {
   "cell_type": "code",
   "execution_count": 9,
   "metadata": {},
   "outputs": [
    {
     "data": {
      "text/plain": [
       "LogisticRegression(C=1.0, class_weight=None, dual=False, fit_intercept=True,\n",
       "          intercept_scaling=1, max_iter=100, multi_class='ovr', n_jobs=1,\n",
       "          penalty='l1', random_state=None, solver='liblinear', tol=0.0001,\n",
       "          verbose=0, warm_start=False)"
      ]
     },
     "execution_count": 9,
     "metadata": {},
     "output_type": "execute_result"
    }
   ],
   "source": [
    "clf = LogisticRegression(penalty='l1')\n",
    "X_train = av_baseline.baseline_cv.transform(X_train_corpus_update)\n",
    "X_test = av_baseline.baseline_cv.transform(X_test_corpus_update)\n",
    "\n",
    "clf.fit(X_train, y_train_amazon)"
   ]
  },
  {
   "cell_type": "code",
   "execution_count": 10,
   "metadata": {},
   "outputs": [],
   "source": [
    "weight = clf.coef_.flatten()"
   ]
  },
  {
   "cell_type": "code",
   "execution_count": 11,
   "metadata": {},
   "outputs": [],
   "source": [
    "word = av_baseline.baseline_cv.get_feature_names()"
   ]
  },
  {
   "cell_type": "code",
   "execution_count": 12,
   "metadata": {},
   "outputs": [
    {
     "name": "stdout",
     "output_type": "stream",
     "text": [
      "fourth\n",
      "violence\n",
      "complex\n",
      "create\n",
      "dynamic\n",
      "pick\n",
      "supernatural\n",
      "enjoy\n",
      "gritty\n",
      "standard\n",
      "miss\n",
      "actresses\n",
      "crime\n",
      "ought\n",
      "mixed\n",
      "direction\n",
      "afraid\n",
      "light\n",
      "biggest\n",
      "documentary\n",
      "week\n",
      "networks\n",
      "plan\n",
      "still\n",
      "seeing\n",
      "cases\n",
      "surprising\n",
      "stars\n",
      "prime\n",
      "almost\n",
      "budget\n",
      "compared\n",
      "places\n",
      "since\n",
      "teen\n",
      "truly\n",
      "currently\n",
      "bosch\n",
      "place\n",
      "robert\n",
      "keep\n",
      "starting\n",
      "satisfying\n",
      "killing\n",
      "each\n",
      "element\n",
      "top\n",
      "explain\n",
      "husband\n",
      "spy\n",
      "times\n",
      "cable\n",
      "intrigue\n",
      "during\n",
      "notice\n",
      "process\n",
      "apart\n",
      "witty\n",
      "peter\n",
      "regular\n",
      "government\n",
      "end\n",
      "plays\n",
      "series\n",
      "little\n",
      "role\n",
      "loving\n",
      "plenty\n",
      "everyone\n",
      "detective\n",
      "actions\n",
      "happens\n",
      "quite\n",
      "period\n",
      "using\n",
      "you\n",
      "forward\n",
      "strange\n",
      "clean\n",
      "caught\n",
      "number\n",
      "company\n",
      "sometimes\n",
      "wish\n",
      "working\n",
      "although\n",
      "dr\n",
      "seasons\n",
      "every\n",
      "see\n",
      "side\n",
      "romantic\n",
      "happen\n",
      "age\n",
      "experience\n",
      "daughter\n",
      "olyphant\n",
      "help\n",
      "aspects\n",
      "strong\n"
     ]
    }
   ],
   "source": [
    "indices = np.argsort(weight)[::-1]\n",
    "\n",
    "for i in indices[200:300]:\n",
    "    print(word[i])"
   ]
  },
  {
   "cell_type": "code",
   "execution_count": 13,
   "metadata": {},
   "outputs": [],
   "source": [
    "X_train = av_baseline.baseline_cv.transform(X_train_corpus_update)\n",
    "X_test = av_baseline.baseline_cv.transform(X_test_corpus_update)\n",
    "y_train = y_train_amazon\n",
    "y_test = y_test_amazon"
   ]
  },
  {
   "cell_type": "code",
   "execution_count": 14,
   "metadata": {},
   "outputs": [],
   "source": [
    "amazon_htm = Human_Terms_Network(input_shape=X_train.shape[1],\n",
    "                               human_terms_shape=len(word_list),\n",
    "                                domain='amazon', optimizer='adam')"
   ]
  },
  {
   "cell_type": "code",
   "execution_count": 15,
   "metadata": {},
   "outputs": [
    {
     "ename": "NameError",
     "evalue": "name 'y_train_agreement' is not defined",
     "output_type": "error",
     "traceback": [
      "\u001b[1;31m---------------------------------------------------------------------------\u001b[0m",
      "\u001b[1;31mNameError\u001b[0m                                 Traceback (most recent call last)",
      "\u001b[1;32m<ipython-input-15-ae0230d3516f>\u001b[0m in \u001b[0;36m<module>\u001b[1;34m()\u001b[0m\n\u001b[1;32m----> 1\u001b[1;33m \u001b[0mamazon_htm\u001b[0m\u001b[1;33m.\u001b[0m\u001b[0mset_data\u001b[0m\u001b[1;33m(\u001b[0m\u001b[0mX_train\u001b[0m\u001b[1;33m,\u001b[0m \u001b[0mX_test\u001b[0m\u001b[1;33m,\u001b[0m \u001b[0my_train_agreement\u001b[0m\u001b[1;33m,\u001b[0m \u001b[0my_test_agreement\u001b[0m\u001b[1;33m,\u001b[0m \u001b[0my_train\u001b[0m\u001b[1;33m,\u001b[0m \u001b[0my_test\u001b[0m\u001b[1;33m)\u001b[0m\u001b[1;33m\u001b[0m\u001b[0m\n\u001b[0m",
      "\u001b[1;31mNameError\u001b[0m: name 'y_train_agreement' is not defined"
     ]
    }
   ],
   "source": [
    "amazon_htm.set_data(X_train, X_test, y_train_agreement, y_test_agreement, y_train, y_test)"
   ]
  },
  {
   "cell_type": "code",
   "execution_count": null,
   "metadata": {},
   "outputs": [],
   "source": [
    "amazon_htm.train(epochs=10)"
   ]
  },
  {
   "cell_type": "code",
   "execution_count": null,
   "metadata": {},
   "outputs": [],
   "source": [
    "amazon_htm.test(reject=True)\n",
    "\n",
    "## has not been synchronized"
   ]
  },
  {
   "cell_type": "code",
   "execution_count": null,
   "metadata": {},
   "outputs": [],
   "source": [
    "amazon_htm.test(reject=False)"
   ]
  },
  {
   "cell_type": "code",
   "execution_count": null,
   "metadata": {},
   "outputs": [],
   "source": [
    "concat_after_relu = Model(inputs=combined_model.input,\n",
    "                          outputs=combined_model.get_layer(layer_name).output)\n",
    "concat_output = concat_after_relu.predict([X_test[idx], np.reshape(y_test_agreement[idx], (1,y_test_agreement.shape[1]))])\n",
    "\n",
    "indices = np.where(np.sum(concat_all, axis=1)!=0)\n",
    "indices = indices[0]\n",
    "len(indices)\n",
    "\n"
   ]
  }
 ],
 "metadata": {
  "kernelspec": {
   "display_name": "Python 3",
   "language": "python",
   "name": "python3"
  },
  "language_info": {
   "codemirror_mode": {
    "name": "ipython",
    "version": 3
   },
   "file_extension": ".py",
   "mimetype": "text/x-python",
   "name": "python",
   "nbconvert_exporter": "python",
   "pygments_lexer": "ipython3",
   "version": "3.6.6"
  }
 },
 "nbformat": 4,
 "nbformat_minor": 2
}

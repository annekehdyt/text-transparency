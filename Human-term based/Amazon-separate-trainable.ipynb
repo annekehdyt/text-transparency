{
 "cells": [
  {
   "cell_type": "code",
   "execution_count": 1,
   "metadata": {},
   "outputs": [
    {
     "name": "stderr",
     "output_type": "stream",
     "text": [
      "Using TensorFlow backend.\n"
     ]
    },
    {
     "name": "stdout",
     "output_type": "stream",
     "text": [
      "(75, 2)\n",
      "corpus update start\n",
      "corpus update end\n",
      "\n",
      "(75, 2)\n",
      "corpus update start\n",
      "corpus update end\n",
      "\n"
     ]
    }
   ],
   "source": [
    "import numpy as np\n",
    "from numpy.random import seed\n",
    "import tensorflow as tf\n",
    "\n",
    "from tensorflow import set_random_seed\n",
    "seed(42)\n",
    "set_random_seed(42)\n",
    "\n",
    "from keras.layers import Input, Dense, TimeDistributed, Embedding\n",
    "from keras.layers import Concatenate, Reshape, Lambda, Multiply, multiply, concatenate\n",
    "from keras.models import Model\n",
    "from keras import backend as K\n",
    "\n",
    "import matplotlib.pyplot as plt\n",
    "from matplotlib import style\n",
    "\n",
    "from dataset_load import *\n",
    "\n",
    "style.use('seaborn-whitegrid')\n",
    "\n",
    "def open_pickle(path):\n",
    "    import pickle\n",
    "    with open(path, 'rb') as f:\n",
    "        X = pickle.load(f)\n",
    "    return X\n",
    "\n",
    "def load_unigrams(path, X, y):\n",
    "    word_list = []\n",
    "    connotation = {}\n",
    "    \n",
    "    with open(path, 'r', encoding='utf8') as f:\n",
    "        for line in f:\n",
    "            word_list.append(line.strip())\n",
    "            \n",
    "    for word in word_list:\n",
    "        pos_count = 0\n",
    "        neg_count = 0\n",
    "        for i, doc in enumerate(X):\n",
    "            if word in doc.lower():\n",
    "                \n",
    "                if (y[i] == 1):\n",
    "                    pos_count += 1\n",
    "                else:\n",
    "                    neg_count += 1\n",
    "                    \n",
    "        if pos_count > neg_count:\n",
    "            connotation[word] = 1\n",
    "        else:\n",
    "            connotation[word] = 0\n",
    "    \n",
    "    return word_list, connotation\n",
    "\n",
    "def generate_appearance(X_train_corpus, X_test_corpus, word_list, connotation):\n",
    "    y_train_agreement = []\n",
    "    for i in range(len(X_train_corpus)):\n",
    "        doc_agreement = []\n",
    "        for word in word_list:\n",
    "            if word in X_train_corpus[i]:\n",
    "                if connotation[word] == 1:\n",
    "                    doc_agreement.append(1)\n",
    "                else:\n",
    "                    doc_agreement.append(-1)\n",
    "            else:\n",
    "                doc_agreement.append(0)\n",
    "        y_train_agreement.append(doc_agreement)\n",
    "        \n",
    "    y_test_agreement = []\n",
    "    for i in range(len(X_test_corpus)):\n",
    "        doc_agreement = []\n",
    "        for word in word_list:\n",
    "            if word in X_test_corpus[i]:\n",
    "                if connotation[word] == 1:\n",
    "                    doc_agreement.append(1)\n",
    "                else:\n",
    "                    doc_agreement.append(-1)\n",
    "            else:\n",
    "                doc_agreement.append(0)\n",
    "        y_test_agreement.append(doc_agreement)\n",
    "        \n",
    "    return np.array(y_train_agreement), np.array(y_test_agreement)\n",
    "\n",
    "# 'imdb-unigrams.txt'\n",
    "path = r\"..\\..\\data\\reviews_Amazon_Instant_Video_5.json.gz\"\n",
    "\n",
    "X, y = extract_review_amazon(path, 'reviewText')\n",
    "y_label = np.asarray(y)\n",
    "\n",
    "neutral_indices = np.where(y_label == 3)[0]\n",
    "y_label[y_label<3] = 0\n",
    "y_label[y_label>3] = 1\n",
    "\n",
    "X_discarded = np.delete(X,neutral_indices)\n",
    "y_discarded = np.delete(y_label, neutral_indices)\n",
    "\n",
    "from sklearn.feature_extraction.text import CountVectorizer\n",
    "from sklearn.model_selection import train_test_split, ShuffleSplit\n",
    "\n",
    "# split\n",
    "X_train_split, X_test_split, y_train, y_test = train_test_split(X_discarded, y_discarded, test_size=0.33, random_state=42)\n",
    "\n",
    "# preprocessing\n",
    "X_train_corpus_update = update_corpus_contraction(X_train_split)\n",
    "X_test_corpus_update = update_corpus_contraction(X_test_split)\n",
    "\n",
    "# Count vectorizer \n",
    "\n",
    "# count vectorizer\n",
    "token = r\"(?u)\\b[\\w\\'/]+\\b\"\n",
    "cv = CountVectorizer(lowercase=True, max_df=1.0, min_df=100, binary=True, token_pattern=token)\n",
    "cv.set_params(ngram_range=(1,1))\n",
    "\n",
    "cv.fit(X_train_split)\n",
    "\n",
    "X_train = cv.transform(X_train_corpus_update)\n",
    "X_test = cv.transform(X_test_corpus_update)\n",
    "\n",
    "words = cv.get_feature_names()\n",
    "\n",
    "\n",
    "word_list, connotation = load_unigrams('./amazon-video-unigrams.txt', X_train_corpus_update, y_train)\n",
    "y_train_agreement, y_test_agreement = generate_appearance(X_train_corpus_update, X_test_corpus_update, \n",
    "                                                          word_list, connotation)\n",
    "\n",
    "def history_plot(history, model_name):\n",
    "    plt.plot(history.history['acc'])\n",
    "    plt.plot(history.history['val_acc'])\n",
    "        \n",
    "    title = model_name + 'accuracy'\n",
    "    plt.title(title)\n",
    "    plt.xlabel('epoch')\n",
    "    plt.legend(['tr_acc', 'val_acc'], loc='upper left')\n",
    "    plt.show()\n",
    "    plt.clf()\n",
    "\n",
    "    plt.plot(history.history['loss'], 'm--')\n",
    "    plt.plot(history.history['val_loss'], 'y--')\n",
    "\n",
    "    title = model_name + 'loss'\n",
    "    plt.title(title)\n",
    "    plt.xlabel('epoch')\n",
    "    plt.legend(['tr_loss', 'val_loss'], loc='upper left')\n",
    "    plt.show()\n",
    "    plt.clf()"
   ]
  },
  {
   "cell_type": "code",
   "execution_count": null,
   "metadata": {},
   "outputs": [],
   "source": []
  },
  {
   "cell_type": "markdown",
   "metadata": {},
   "source": [
    "### Test the custom loss"
   ]
  },
  {
   "cell_type": "code",
   "execution_count": 2,
   "metadata": {},
   "outputs": [],
   "source": [
    "# # https://stackoverflow.com/questions/48951109/keras-custom-binary-cross-entropy-loss-function-get-nan-as-output-for-loss\n",
    "\n",
    "# def custom_cross_entropy(y_true, y_pred):\n",
    "#     t_loss = K.max(y_pred,0)-y_pred * y_true + K.log(1+K.exp((-1)*K.abs(y_pred)))\n",
    "#     return K.mean(t_loss)\n",
    "\n",
    "# from keras.initializers import Constant, glorot_uniform\n",
    "\n",
    "# input_layer = Input(shape=(X_train.shape[1],))\n",
    "# tanh_output = Dense(1, activation='sigmoid', kernel_initializer=glorot_uniform(seed=42))(input_layer)\n",
    "# model = Model(inputs=input_layer, outputs=tanh_output)\n",
    "\n",
    "# model.compile(loss=custom_cross_entropy,\n",
    "#              metrics=['acc'],\n",
    "#              optimizer='adam')\n",
    "\n",
    "# model.fit(X_train[:16667], y_train_original[:16667], \n",
    "#          validation_data=([X_train[16667:], y_train_original[16667:]]),\n",
    "#          batch_size=1, epochs=1)"
   ]
  },
  {
   "cell_type": "code",
   "execution_count": 3,
   "metadata": {},
   "outputs": [],
   "source": [
    "# model.evaluate(X_test, y_test_original)"
   ]
  },
  {
   "cell_type": "code",
   "execution_count": 4,
   "metadata": {},
   "outputs": [],
   "source": [
    "# model.evaluate(X_train, y_train_original)"
   ]
  },
  {
   "cell_type": "markdown",
   "metadata": {},
   "source": [
    "### 1st model"
   ]
  },
  {
   "cell_type": "code",
   "execution_count": 5,
   "metadata": {},
   "outputs": [
    {
     "name": "stdout",
     "output_type": "stream",
     "text": [
      "Train on 14786 samples, validate on 7283 samples\n",
      "Epoch 1/1\n",
      "14786/14786 [==============================] - 36s 2ms/step - loss: 0.2538 - acc: 0.9057 - val_loss: 0.2038 - val_acc: 0.9241\n"
     ]
    }
   ],
   "source": [
    "from keras.initializers import Constant, glorot_uniform\n",
    "\n",
    "input_layer = Input(shape=(X_train.shape[1],))\n",
    "tanh_output = Dense(1, activation='sigmoid', kernel_initializer=glorot_uniform(seed=42))(input_layer)\n",
    "model = Model(inputs=input_layer, outputs=tanh_output)\n",
    "\n",
    "model.compile(loss='binary_crossentropy',\n",
    "             metrics=['acc'],\n",
    "             optimizer='adam')\n",
    "\n",
    "base_history = model.fit(X_train, y_train, \n",
    "                 validation_split=0.33, shuffle=False,\n",
    "                 batch_size=1, epochs=1)"
   ]
  },
  {
   "cell_type": "code",
   "execution_count": 6,
   "metadata": {},
   "outputs": [],
   "source": [
    "# model.evaluate(X_test, y_test_original)"
   ]
  },
  {
   "cell_type": "code",
   "execution_count": 7,
   "metadata": {},
   "outputs": [],
   "source": [
    "# model.evaluate(X_train, y_train_original)"
   ]
  },
  {
   "cell_type": "code",
   "execution_count": 8,
   "metadata": {},
   "outputs": [],
   "source": [
    "model.trainable=True"
   ]
  },
  {
   "cell_type": "markdown",
   "metadata": {},
   "source": [
    "### 2nd model"
   ]
  },
  {
   "cell_type": "code",
   "execution_count": 9,
   "metadata": {},
   "outputs": [
    {
     "name": "stdout",
     "output_type": "stream",
     "text": [
      "Train on 14786 samples, validate on 7283 samples\n",
      "Epoch 1/50\n",
      "14786/14786 [==============================] - 76s 5ms/step - loss: 0.3377 - acc: 0.8889 - val_loss: 0.2960 - val_acc: 0.8985\n",
      "Epoch 2/50\n",
      "14786/14786 [==============================] - 73s 5ms/step - loss: 0.2855 - acc: 0.9034 - val_loss: 0.2995 - val_acc: 0.9040\n",
      "Epoch 3/50\n",
      "14786/14786 [==============================] - 75s 5ms/step - loss: 0.2764 - acc: 0.9095 - val_loss: 0.3061 - val_acc: 0.9048\n",
      "Epoch 4/50\n",
      "14786/14786 [==============================] - 76s 5ms/step - loss: 0.2706 - acc: 0.9109 - val_loss: 0.3155 - val_acc: 0.9040\n",
      "Epoch 5/50\n",
      "14786/14786 [==============================] - 74s 5ms/step - loss: 0.2662 - acc: 0.9127 - val_loss: 0.3189 - val_acc: 0.9043\n",
      "Epoch 6/50\n",
      "14786/14786 [==============================] - 73s 5ms/step - loss: 0.2625 - acc: 0.9149 - val_loss: 0.3286 - val_acc: 0.9044\n",
      "Epoch 7/50\n",
      "14786/14786 [==============================] - 73s 5ms/step - loss: 0.2603 - acc: 0.9154 - val_loss: 0.3323 - val_acc: 0.9040\n",
      "Epoch 8/50\n",
      "14786/14786 [==============================] - 73s 5ms/step - loss: 0.2576 - acc: 0.9160 - val_loss: 0.3446 - val_acc: 0.9032\n",
      "Epoch 9/50\n",
      "14786/14786 [==============================] - 73s 5ms/step - loss: 0.2573 - acc: 0.9161 - val_loss: 0.3461 - val_acc: 0.9039\n",
      "Epoch 10/50\n",
      "14786/14786 [==============================] - 73s 5ms/step - loss: 0.2556 - acc: 0.9166 - val_loss: 0.3530 - val_acc: 0.9025\n",
      "Epoch 11/50\n",
      "14786/14786 [==============================] - 73s 5ms/step - loss: 0.2561 - acc: 0.9170 - val_loss: 0.3705 - val_acc: 0.9039\n",
      "Epoch 12/50\n",
      "14786/14786 [==============================] - 73s 5ms/step - loss: 0.2537 - acc: 0.9180 - val_loss: 0.3622 - val_acc: 0.9029\n",
      "Epoch 13/50\n",
      "14786/14786 [==============================] - 73s 5ms/step - loss: 0.2534 - acc: 0.9188 - val_loss: 0.3752 - val_acc: 0.9033\n",
      "Epoch 14/50\n",
      "14786/14786 [==============================] - 73s 5ms/step - loss: 0.2525 - acc: 0.9190 - val_loss: 0.4013 - val_acc: 0.9042\n",
      "Epoch 15/50\n",
      "14786/14786 [==============================] - 73s 5ms/step - loss: 0.2555 - acc: 0.9188 - val_loss: 0.3811 - val_acc: 0.9025\n",
      "Epoch 16/50\n",
      "14786/14786 [==============================] - 73s 5ms/step - loss: 0.2532 - acc: 0.9189 - val_loss: 0.3844 - val_acc: 0.9025\n",
      "Epoch 17/50\n",
      "14786/14786 [==============================] - 73s 5ms/step - loss: 0.2520 - acc: 0.9193 - val_loss: 0.3853 - val_acc: 0.9021\n",
      "Epoch 18/50\n",
      "14786/14786 [==============================] - 73s 5ms/step - loss: 0.2507 - acc: 0.9194 - val_loss: 0.3929 - val_acc: 0.9014\n",
      "Epoch 19/50\n",
      "14786/14786 [==============================] - 73s 5ms/step - loss: 0.2535 - acc: 0.9197 - val_loss: 0.4086 - val_acc: 0.9032\n",
      "Epoch 20/50\n",
      "14786/14786 [==============================] - 73s 5ms/step - loss: 0.2523 - acc: 0.9195 - val_loss: 0.3964 - val_acc: 0.9009\n",
      "Epoch 21/50\n",
      "14786/14786 [==============================] - 73s 5ms/step - loss: 0.2529 - acc: 0.9201 - val_loss: 0.4247 - val_acc: 0.9028\n",
      "Epoch 22/50\n",
      "14786/14786 [==============================] - 73s 5ms/step - loss: 0.2526 - acc: 0.9199 - val_loss: 0.4033 - val_acc: 0.9014\n",
      "Epoch 23/50\n",
      "14786/14786 [==============================] - 73s 5ms/step - loss: 0.2519 - acc: 0.9199 - val_loss: 0.4112 - val_acc: 0.9016\n",
      "Epoch 24/50\n",
      "14786/14786 [==============================] - 73s 5ms/step - loss: 0.2515 - acc: 0.9203 - val_loss: 0.4295 - val_acc: 0.9014\n",
      "Epoch 25/50\n",
      "14786/14786 [==============================] - 73s 5ms/step - loss: 0.2534 - acc: 0.9198 - val_loss: 0.4145 - val_acc: 0.9009\n",
      "Epoch 26/50\n",
      "14786/14786 [==============================] - 73s 5ms/step - loss: 0.2519 - acc: 0.9205 - val_loss: 0.4137 - val_acc: 0.9003\n",
      "Epoch 27/50\n",
      "14786/14786 [==============================] - 73s 5ms/step - loss: 0.2543 - acc: 0.9203 - val_loss: 0.4229 - val_acc: 0.9006\n",
      "Epoch 28/50\n",
      "14786/14786 [==============================] - 73s 5ms/step - loss: 0.2533 - acc: 0.9199 - val_loss: 0.4349 - val_acc: 0.9011\n",
      "Epoch 29/50\n",
      "14786/14786 [==============================] - 73s 5ms/step - loss: 0.2504 - acc: 0.9205 - val_loss: 0.4238 - val_acc: 0.8988\n",
      "Epoch 30/50\n",
      "14786/14786 [==============================] - 73s 5ms/step - loss: 0.2507 - acc: 0.9203 - val_loss: 0.4337 - val_acc: 0.9003\n",
      "Epoch 31/50\n",
      "14786/14786 [==============================] - 73s 5ms/step - loss: 0.2511 - acc: 0.9204 - val_loss: 0.4369 - val_acc: 0.9006\n",
      "Epoch 32/50\n",
      "14786/14786 [==============================] - 73s 5ms/step - loss: 0.2521 - acc: 0.9203 - val_loss: 0.4390 - val_acc: 0.9002\n",
      "Epoch 33/50\n",
      "14786/14786 [==============================] - 73s 5ms/step - loss: 0.2528 - acc: 0.9205 - val_loss: 0.4400 - val_acc: 0.8999\n",
      "Epoch 34/50\n",
      "14786/14786 [==============================] - 73s 5ms/step - loss: 0.2511 - acc: 0.9206 - val_loss: 0.4489 - val_acc: 0.9006\n",
      "Epoch 35/50\n",
      "14786/14786 [==============================] - 73s 5ms/step - loss: 0.2509 - acc: 0.9205 - val_loss: 0.4433 - val_acc: 0.8995\n",
      "Epoch 36/50\n",
      "14786/14786 [==============================] - 73s 5ms/step - loss: 0.2529 - acc: 0.9203 - val_loss: 0.4438 - val_acc: 0.8998\n",
      "Epoch 37/50\n",
      "14786/14786 [==============================] - 73s 5ms/step - loss: 0.2524 - acc: 0.9205 - val_loss: 0.4623 - val_acc: 0.9002\n",
      "Epoch 38/50\n",
      "14786/14786 [==============================] - 73s 5ms/step - loss: 0.2510 - acc: 0.9203 - val_loss: 0.4589 - val_acc: 0.8996\n",
      "Epoch 39/50\n",
      "14786/14786 [==============================] - 73s 5ms/step - loss: 0.2508 - acc: 0.9208 - val_loss: 0.4612 - val_acc: 0.8987\n",
      "Epoch 40/50\n",
      "14786/14786 [==============================] - 73s 5ms/step - loss: 0.2519 - acc: 0.9203 - val_loss: 0.4675 - val_acc: 0.8998\n",
      "Epoch 41/50\n",
      "14786/14786 [==============================] - 73s 5ms/step - loss: 0.2517 - acc: 0.9205 - val_loss: 0.4728 - val_acc: 0.9003\n",
      "Epoch 42/50\n",
      "14786/14786 [==============================] - 73s 5ms/step - loss: 0.2509 - acc: 0.9205 - val_loss: 0.4715 - val_acc: 0.8976\n",
      "Epoch 43/50\n",
      "14786/14786 [==============================] - 73s 5ms/step - loss: 0.2521 - acc: 0.9203 - val_loss: 0.4726 - val_acc: 0.9005\n",
      "Epoch 44/50\n",
      "14786/14786 [==============================] - 73s 5ms/step - loss: 0.2532 - acc: 0.9207 - val_loss: 0.4691 - val_acc: 0.8987\n",
      "Epoch 45/50\n",
      "14786/14786 [==============================] - 73s 5ms/step - loss: 0.2510 - acc: 0.9205 - val_loss: 0.4705 - val_acc: 0.8980\n",
      "Epoch 46/50\n",
      "14786/14786 [==============================] - 74s 5ms/step - loss: 0.2542 - acc: 0.9202 - val_loss: 0.4718 - val_acc: 0.8983\n",
      "Epoch 47/50\n",
      "14786/14786 [==============================] - 71s 5ms/step - loss: 0.2538 - acc: 0.9205 - val_loss: 0.4739 - val_acc: 0.8994\n",
      "Epoch 48/50\n",
      "14786/14786 [==============================] - 70s 5ms/step - loss: 0.2531 - acc: 0.9202 - val_loss: 0.4800 - val_acc: 0.8984\n",
      "Epoch 49/50\n",
      "14786/14786 [==============================] - 71s 5ms/step - loss: 0.2526 - acc: 0.9207 - val_loss: 0.4819 - val_acc: 0.8987\n",
      "Epoch 50/50\n",
      "14786/14786 [==============================] - 72s 5ms/step - loss: 0.2562 - acc: 0.9203 - val_loss: 0.4839 - val_acc: 0.8978\n"
     ]
    }
   ],
   "source": [
    "def layer_split(x):\n",
    "    return tf.split(x,num_or_size_splits=human_terms_len,axis=1)\n",
    "\n",
    "def layer_concat(x):\n",
    "    return tf.concat(x, axis=1)\n",
    "\n",
    "# build the combined model\n",
    "# Combined model\n",
    "human_terms_len = len(word_list)\n",
    "\n",
    "# base_model = build_base_model(X_train.shape[1])\n",
    "\n",
    "combined_input_layer = Input(shape=(X_train.shape[1],))\n",
    "\n",
    "# build the hard coded weight for human terms\n",
    "ht_input_layer = Input(shape=(human_terms_len,))\n",
    "\n",
    "# split = Lambda( lambda x: tf.split(x,num_or_size_splits=human_terms_len,axis=1))(ht_input_layer)\n",
    "split = Lambda(layer_split)(ht_input_layer)\n",
    "\n",
    "# get the document prediction\n",
    "label_layer = model(combined_input_layer)\n",
    "tanh_norm = Lambda(lambda x: (x*2)-1)(label_layer)\n",
    "# tanh_norm = Lambda(lambda x: tf.scalar_mul(2,x)-1)(label_layer)\n",
    "\n",
    "# do normalize of bipolar sigmoid\n",
    "\n",
    "\n",
    "# stack the multiply layer\n",
    "dense_layer = []\n",
    "for i in range(human_terms_len):\n",
    "    dense_layer.append(Dense(1, activation='relu', use_bias=False)(Multiply()([split[i], tanh_norm])))\n",
    "\n",
    "# concat all the result   \n",
    "# concat = Lambda( lambda x: tf.concat(x, axis=1), name='concatenate')(dense_layer)\n",
    "concat = Lambda(layer_concat, name='concatenate')(dense_layer)\n",
    "\n",
    "\n",
    "# pass it to sigmoid layer\n",
    "output_layer = Dense(1, activation='sigmoid')(concat)\n",
    "\n",
    "combined_model = Model(inputs=[combined_input_layer, ht_input_layer], outputs=output_layer)\n",
    "# combined_model.summary()\n",
    "\n",
    "\n",
    "combined_model.compile(loss='binary_crossentropy',\n",
    "                      optimizer='adam',\n",
    "                      metrics=['acc'])\n",
    "\n",
    "# y_train_tanh = y_train_original\n",
    "# y_train_tanh[y_train_tanh == 0] = -1\n",
    "\n",
    "# y_test_tanh = y_test_original\n",
    "# y_test_tanh[y_test_tanh == 0] = -1\n",
    "\n",
    "# base_model_history = base_model.fit(X_train[:16667], y_train_original[:16667], \n",
    "#                                     validation_data=(X_train[16667:], y_train_original[16667:]),\n",
    "#                                     batch_size=1, epochs=1)\n",
    "\n",
    "combined_model_history = combined_model.fit([X_train,y_train_agreement], y_train, \n",
    "                                            validation_split=0.33, shuffle=False,\n",
    "                                            batch_size=1, epochs=50)"
   ]
  },
  {
   "cell_type": "code",
   "execution_count": 10,
   "metadata": {},
   "outputs": [],
   "source": [
    "def accuracy_reject(combined_model, X, y_agreement, y):\n",
    "    human_terms_relu_model = Model(inputs=combined_model.input,\n",
    "                                    outputs=combined_model.get_layer('concatenate').output)\n",
    "    predict_relu = human_terms_relu_model.predict([X, y_agreement])\n",
    "    accept_indices = np.where(np.sum(predict_relu, axis=1)!=0)\n",
    "    accept_indices = accept_indices[0]\n",
    "    total_reject = X.shape[0] - len(accept_indices)\n",
    "    rejection_rate = total_reject/X.shape[0]\n",
    "\n",
    "    test_eval = combined_model.evaluate([X[accept_indices], y_agreement[accept_indices]], y[accept_indices])\n",
    "    \n",
    "    return test_eval, rejection_rate, total_reject"
   ]
  },
  {
   "cell_type": "code",
   "execution_count": 11,
   "metadata": {},
   "outputs": [
    {
     "name": "stdout",
     "output_type": "stream",
     "text": [
      "10870/10870 [==============================] - 1s 69us/step\n",
      "22069/22069 [==============================] - 2s 78us/step\n",
      "3590/3590 [==============================] - 0s 80us/step\n",
      "7330/7330 [==============================] - 1s 80us/step\n"
     ]
    }
   ],
   "source": [
    "test_ev = combined_model.evaluate([X_test, y_test_agreement], y_test)\n",
    "train_ev = combined_model.evaluate([X_train, y_train_agreement], y_train)\n",
    "\n",
    "def accuracy_reject(combined_model, X, y_agreement, y):\n",
    "    human_terms_relu_model = Model(inputs=combined_model.input,\n",
    "                                    outputs=combined_model.get_layer('concatenate').output)\n",
    "    predict_relu = human_terms_relu_model.predict([X, y_agreement])\n",
    "    accept_indices = np.where(np.sum(predict_relu, axis=1)!=0)\n",
    "    accept_indices = accept_indices[0]\n",
    "    total_reject = X.shape[0] - len(accept_indices)\n",
    "    rejection_rate = total_reject/X.shape[0]\n",
    "\n",
    "    test_eval = combined_model.evaluate([X[accept_indices], y_agreement[accept_indices]], y[accept_indices])\n",
    "    \n",
    "    return test_eval, rejection_rate, total_reject\n",
    "\n",
    "test_ev_reject = accuracy_reject(combined_model, X_test, y_test_agreement, y_test)\n",
    "train_ev_reject = accuracy_reject(combined_model, X_train, y_train_agreement, y_train)"
   ]
  },
  {
   "cell_type": "code",
   "execution_count": 12,
   "metadata": {},
   "outputs": [
    {
     "name": "stdout",
     "output_type": "stream",
     "text": [
      "0.327670 \t 0.913091\n",
      "0.497141 \t 0.901656\n",
      "0.269275 \t 0.969441 \t 0.667860 \t 14739\n",
      "0.818548 \t 0.917270 \t 0.669733 \t 7280\n"
     ]
    }
   ],
   "source": [
    "print('%f \\t %f' %(train_ev[0], train_ev[1]))\n",
    "print('%f \\t %f' %(test_ev[0], test_ev[1]))\n",
    "print('%f \\t %f \\t %f \\t %d' %(train_ev_reject[0][0], train_ev_reject[0][1], train_ev_reject[1], train_ev_reject[2]))\n",
    "print('%f \\t %f \\t %f \\t %d' %(test_ev_reject[0][0], test_ev_reject[0][1], test_ev_reject[1], test_ev_reject[2]))"
   ]
  },
  {
   "cell_type": "code",
   "execution_count": 13,
   "metadata": {},
   "outputs": [
    {
     "data": {
      "image/png": "[encoded data removed]",
      "text/plain": [
       "<Figure size 432x288 with 1 Axes>"
      ]
     },
     "metadata": {},
     "output_type": "display_data"
    },
    {
     "data": {
      "image/png": "[encoded data removed]",
      "text/plain": [
       "<Figure size 432x288 with 1 Axes>"
      ]
     },
     "metadata": {},
     "output_type": "display_data"
    },
    {
     "data": {
      "text/plain": [
       "<Figure size 432x288 with 0 Axes>"
      ]
     },
     "metadata": {},
     "output_type": "display_data"
    }
   ],
   "source": [
    "history_plot(base_history,'RDclf')"
   ]
  },
  {
   "cell_type": "code",
   "execution_count": 14,
   "metadata": {},
   "outputs": [
    {
     "data": {
      "image/png": "[encoded data removed]",
      "text/plain": [
       "<Figure size 432x288 with 1 Axes>"
      ]
     },
     "metadata": {},
     "output_type": "display_data"
    },
    {
     "data": {
      "image/png": "[encoded data removed]",
      "text/plain": [
       "<Figure size 432x288 with 1 Axes>"
      ]
     },
     "metadata": {},
     "output_type": "display_data"
    },
    {
     "data": {
      "text/plain": [
       "<Figure size 432x288 with 0 Axes>"
      ]
     },
     "metadata": {},
     "output_type": "display_data"
    }
   ],
   "source": [
    "history_plot(combined_model_history,'TTclf')"
   ]
  },
  {
   "cell_type": "code",
   "execution_count": 15,
   "metadata": {},
   "outputs": [],
   "source": [
    "combined_model.save('./figure/amazon-trainable-1-50.h5')"
   ]
  }
 ],
 "metadata": {
  "kernelspec": {
   "display_name": "Python 3",
   "language": "python",
   "name": "python3"
  },
  "language_info": {
   "codemirror_mode": {
    "name": "ipython",
    "version": 3
   },
   "file_extension": ".py",
   "mimetype": "text/x-python",
   "name": "python",
   "nbconvert_exporter": "python",
   "pygments_lexer": "ipython3",
   "version": "3.6.6"
  }
 },
 "nbformat": 4,
 "nbformat_minor": 2
}

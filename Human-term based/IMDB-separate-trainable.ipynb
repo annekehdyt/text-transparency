{
 "cells": [
  {
   "cell_type": "code",
   "execution_count": 1,
   "metadata": {},
   "outputs": [
    {
     "name": "stderr",
     "output_type": "stream",
     "text": [
      "Using TensorFlow backend.\n"
     ]
    }
   ],
   "source": [
    "import numpy as np\n",
    "from numpy.random import seed\n",
    "import tensorflow as tf\n",
    "\n",
    "from tensorflow import set_random_seed\n",
    "seed(42)\n",
    "set_random_seed(42)\n",
    "\n",
    "from keras.layers import Input, Dense, TimeDistributed, Embedding\n",
    "from keras.layers import Concatenate, Reshape, Lambda, Multiply, multiply, concatenate\n",
    "from keras.models import Model\n",
    "from keras import backend as K\n",
    "\n",
    "import matplotlib.pyplot as plt\n",
    "from matplotlib import style\n",
    "from dataset_load import * \n",
    "\n",
    "style.use('seaborn-whitegrid')\n",
    "\n",
    "\n",
    "\n",
    "# 'imdb-unigrams.txt'\n",
    "\n",
    "X_train_original = open_pickle('../../data/imdb/imdb_original_preprocessed_xtrain.pickle')\n",
    "X_test_original = open_pickle('../../data/imdb/imdb_original_preprocessed_xtest.pickle')\n",
    "y_train_original = open_pickle('../../data/imdb/imdb_original_preprocessed_ytrain.pickle')\n",
    "y_test_original = open_pickle('../../data/imdb/imdb_original_preprocessed_ytest.pickle')\n",
    "\n",
    "# Count vectorizer \n",
    "\n",
    "from sklearn.feature_extraction.text import CountVectorizer\n",
    "\n",
    "token = r\"(?u)\\b[\\w\\'/]+\\b\"\n",
    "cv = CountVectorizer(min_df = 100, token_pattern=token, lowercase=True, binary=True)\n",
    "X_train = cv.fit_transform(X_train_original)\n",
    "X_test = cv.transform(X_test_original)\n",
    "\n",
    "word_list, connotation = load_unigrams('./imdb-unigrams.txt', X_train_original, y_train_original)\n",
    "# word_list, connotation = load_unigrams('./amazon-video-unigrams-more.txt', X_train_original, y_train_original)\n",
    "# word_list, connotation = load_unigrams('./ecom-unigrams.txt', X_train_original, y_train_original)\n",
    "\n",
    "y_train_agreement, y_test_agreement = generate_appearance(X_train_original, X_test_original, \n",
    "                                                          word_list, connotation)\n",
    "\n",
    "\n",
    "def history_plot(history, model_name):\n",
    "    plt.plot(history.history['acc'])\n",
    "    plt.plot(history.history['val_acc'])\n",
    "        \n",
    "    title = model_name + 'accuracy'\n",
    "    plt.title(title)\n",
    "    plt.xlabel('epoch')\n",
    "    plt.legend(['tr_acc', 'val_acc'], loc='upper left')\n",
    "    plt.show()\n",
    "    plt.clf()\n",
    "\n",
    "    plt.plot(history.history['loss'], 'm--')\n",
    "    plt.plot(history.history['val_loss'], 'y--')\n",
    "\n",
    "    title = model_name + 'loss'\n",
    "    plt.title(title)\n",
    "    plt.xlabel('epoch')\n",
    "    plt.legend(['tr_loss', 'val_loss'], loc='upper left')\n",
    "    plt.show()\n",
    "    plt.clf()"
   ]
  },
  {
   "cell_type": "markdown",
   "metadata": {},
   "source": [
    "### Test the custom loss"
   ]
  },
  {
   "cell_type": "code",
   "execution_count": 2,
   "metadata": {},
   "outputs": [],
   "source": [
    "# # https://stackoverflow.com/questions/48951109/keras-custom-binary-cross-entropy-loss-function-get-nan-as-output-for-loss\n",
    "\n",
    "# def custom_cross_entropy(y_true, y_pred):\n",
    "#     t_loss = K.max(y_pred,0)-y_pred * y_true + K.log(1+K.exp((-1)*K.abs(y_pred)))\n",
    "#     return K.mean(t_loss)\n",
    "\n",
    "# from keras.initializers import Constant, glorot_uniform\n",
    "\n",
    "# input_layer = Input(shape=(X_train.shape[1],))\n",
    "# tanh_output = Dense(1, activation='sigmoid', kernel_initializer=glorot_uniform(seed=42))(input_layer)\n",
    "# model = Model(inputs=input_layer, outputs=tanh_output)\n",
    "\n",
    "# model.compile(loss=custom_cross_entropy,\n",
    "#              metrics=['acc'],\n",
    "#              optimizer='adam')\n",
    "\n",
    "# model.fit(X_train[:16667], y_train_original[:16667], \n",
    "#          validation_data=([X_train[16667:], y_train_original[16667:]]),\n",
    "#          batch_size=1, epochs=1)"
   ]
  },
  {
   "cell_type": "code",
   "execution_count": 3,
   "metadata": {},
   "outputs": [],
   "source": [
    "# model.evaluate(X_test, y_test_original)"
   ]
  },
  {
   "cell_type": "code",
   "execution_count": 4,
   "metadata": {},
   "outputs": [],
   "source": [
    "# model.evaluate(X_train, y_train_original)"
   ]
  },
  {
   "cell_type": "markdown",
   "metadata": {},
   "source": [
    "### 1st model"
   ]
  },
  {
   "cell_type": "code",
   "execution_count": 5,
   "metadata": {},
   "outputs": [
    {
     "name": "stdout",
     "output_type": "stream",
     "text": [
      "Train on 16667 samples, validate on 8333 samples\n",
      "Epoch 1/1\n",
      "16667/16667 [==============================] - 43s 3ms/step - loss: 0.3437 - acc: 0.8615 - val_loss: 0.3015 - val_acc: 0.8766\n"
     ]
    }
   ],
   "source": [
    "from keras.initializers import Constant, glorot_uniform\n",
    "\n",
    "input_layer = Input(shape=(X_train.shape[1],))\n",
    "tanh_output = Dense(1, activation='sigmoid', kernel_initializer=glorot_uniform(seed=42))(input_layer)\n",
    "model = Model(inputs=input_layer, outputs=tanh_output)\n",
    "\n",
    "model.compile(loss='binary_crossentropy',\n",
    "             metrics=['acc'],\n",
    "             optimizer='adam')\n",
    "\n",
    "base_history = model.fit(X_train[:16667], y_train_original[:16667], \n",
    "                 validation_data=([X_train[16667:], y_train_original[16667:]]),\n",
    "                 batch_size=1, epochs=1)"
   ]
  },
  {
   "cell_type": "code",
   "execution_count": 6,
   "metadata": {},
   "outputs": [
    {
     "name": "stdout",
     "output_type": "stream",
     "text": [
      "25000/25000 [==============================] - 1s 60us/step\n"
     ]
    },
    {
     "data": {
      "text/plain": [
       "[0.28974985403060916, 0.88192]"
      ]
     },
     "execution_count": 6,
     "metadata": {},
     "output_type": "execute_result"
    }
   ],
   "source": [
    "model.evaluate(X_test, y_test_original)"
   ]
  },
  {
   "cell_type": "code",
   "execution_count": 7,
   "metadata": {},
   "outputs": [
    {
     "name": "stdout",
     "output_type": "stream",
     "text": [
      "25000/25000 [==============================] - 1s 59us/step\n"
     ]
    },
    {
     "data": {
      "text/plain": [
       "[0.24866909434318543, 0.90656]"
      ]
     },
     "execution_count": 7,
     "metadata": {},
     "output_type": "execute_result"
    }
   ],
   "source": [
    "model.evaluate(X_train, y_train_original)"
   ]
  },
  {
   "cell_type": "code",
   "execution_count": 8,
   "metadata": {},
   "outputs": [],
   "source": [
    "model.trainable=True"
   ]
  },
  {
   "cell_type": "markdown",
   "metadata": {},
   "source": [
    "### 2nd model"
   ]
  },
  {
   "cell_type": "code",
   "execution_count": 10,
   "metadata": {},
   "outputs": [
    {
     "name": "stdout",
     "output_type": "stream",
     "text": [
      "Train on 16667 samples, validate on 8333 samples\n",
      "Epoch 1/1\n",
      "16667/16667 [==============================] - 62s 4ms/step - loss: 0.3544 - acc: 0.8704 - val_loss: 0.3636 - val_acc: 0.8532\n"
     ]
    }
   ],
   "source": [
    "def layer_split(x):\n",
    "    return tf.split(x,num_or_size_splits=human_terms_len,axis=1)\n",
    "\n",
    "def layer_concat(x):\n",
    "    return tf.concat(x, axis=1)\n",
    "\n",
    "# build the combined model\n",
    "# Combined model\n",
    "human_terms_len = len(word_list)\n",
    "\n",
    "# base_model = build_base_model(X_train.shape[1])\n",
    "\n",
    "combined_input_layer = Input(shape=(X_train.shape[1],))\n",
    "\n",
    "# build the hard coded weight for human terms\n",
    "ht_input_layer = Input(shape=(human_terms_len,))\n",
    "\n",
    "# split = Lambda( lambda x: tf.split(x,num_or_size_splits=human_terms_len,axis=1))(ht_input_layer)\n",
    "split = Lambda(layer_split)(ht_input_layer)\n",
    "\n",
    "# get the document prediction\n",
    "label_layer = model(combined_input_layer)\n",
    "# tanh_norm = Lambda(lambda x: (x*2)-1)(label_layer)\n",
    "tanh_norm = Lambda(lambda x: tf.scalar_mul(2,x)-1)(label_layer)\n",
    "\n",
    "# do normalize of bipolar sigmoid\n",
    "\n",
    "\n",
    "# stack the multiply layer\n",
    "dense_layer = []\n",
    "for i in range(human_terms_len):\n",
    "#     dense_layer.append(Dense(1, activation='relu', use_bias=False, kernel_initializer=='ones')(Multiply()([split[i], tanh_norm])))\n",
    "    dense_layer.append(Lambda(lambda x: tf.nn.relu(x))(Multiply()([split[i], tanh_norm])))\n",
    "\n",
    "# concat all the result   \n",
    "# concat = Lambda( lambda x: tf.concat(x, axis=1), name='concatenate')(dense_layer)\n",
    "concat = Lambda(layer_concat, name='concatenate')(dense_layer)\n",
    "\n",
    "\n",
    "# pass it to sigmoid layer\n",
    "output_layer = Dense(1, activation='sigmoid')(concat)\n",
    "\n",
    "combined_model = Model(inputs=[combined_input_layer, ht_input_layer], outputs=output_layer)\n",
    "# combined_model.summary()\n",
    "\n",
    "\n",
    "combined_model.compile(loss='binary_crossentropy',\n",
    "                      optimizer='adam',\n",
    "                      metrics=['acc'])\n",
    "\n",
    "# y_train_tanh = y_train_original\n",
    "# y_train_tanh[y_train_tanh == 0] = -1\n",
    "\n",
    "# y_test_tanh = y_test_original\n",
    "# y_test_tanh[y_test_tanh == 0] = -1\n",
    "\n",
    "# base_model_history = base_model.fit(X_train[:16667], y_train_original[:16667], \n",
    "#                                     validation_data=(X_train[16667:], y_train_original[16667:]),\n",
    "#                                     batch_size=1, epochs=1)\n",
    "\n",
    "combined_model_history = combined_model.fit([X_train[:16667],y_train_agreement[:16667]], y_train_original[:16667], \n",
    "                                            validation_data=([X_train[16667:], y_train_agreement[16667:]], y_train_original[16667:]),\n",
    "                                            batch_size=1, epochs=1)"
   ]
  },
  {
   "cell_type": "code",
   "execution_count": 11,
   "metadata": {},
   "outputs": [
    {
     "name": "stdout",
     "output_type": "stream",
     "text": [
      "25000/25000 [==============================] - 2s 76us/step\n"
     ]
    },
    {
     "data": {
      "text/plain": [
       "[0.35138445318222045, 0.85716]"
      ]
     },
     "execution_count": 11,
     "metadata": {},
     "output_type": "execute_result"
    }
   ],
   "source": [
    "combined_model.evaluate([X_test, y_test_agreement], y_test_original)"
   ]
  },
  {
   "cell_type": "code",
   "execution_count": 12,
   "metadata": {},
   "outputs": [
    {
     "name": "stdout",
     "output_type": "stream",
     "text": [
      "25000/25000 [==============================] - 2s 74us/step\n"
     ]
    },
    {
     "data": {
      "text/plain": [
       "[0.3023484233570099, 0.88084]"
      ]
     },
     "execution_count": 12,
     "metadata": {},
     "output_type": "execute_result"
    }
   ],
   "source": [
    "combined_model.evaluate([X_train, y_train_agreement], y_train_original)"
   ]
  },
  {
   "cell_type": "code",
   "execution_count": 13,
   "metadata": {},
   "outputs": [
    {
     "name": "stdout",
     "output_type": "stream",
     "text": [
      "25000/25000 [==============================] - 2s 75us/step\n",
      "25000/25000 [==============================] - 2s 77us/step\n",
      "22049/22049 [==============================] - 2s 76us/step\n",
      "22128/22128 [==============================] - 2s 75us/step\n"
     ]
    }
   ],
   "source": [
    "test_ev = combined_model.evaluate([X_test, y_test_agreement], y_test_original)\n",
    "train_ev = combined_model.evaluate([X_train, y_train_agreement], y_train_original)\n",
    "\n",
    "def accuracy_reject(combined_model, X, y_agreement, y):\n",
    "    human_terms_relu_model = Model(inputs=combined_model.input,\n",
    "                                    outputs=combined_model.get_layer('concatenate').output)\n",
    "    predict_relu = human_terms_relu_model.predict([X, y_agreement])\n",
    "    accept_indices = np.where(np.sum(predict_relu, axis=1)!=0)\n",
    "    accept_indices = accept_indices[0]\n",
    "    total_reject = X.shape[0] - len(accept_indices)\n",
    "    rejection_rate = total_reject/X.shape[0]\n",
    "\n",
    "    test_eval = combined_model.evaluate([X[accept_indices], y_agreement[accept_indices]], y[accept_indices])\n",
    "    \n",
    "    return test_eval, rejection_rate, total_reject\n",
    "\n",
    "test_ev_reject = accuracy_reject(combined_model, X_test, y_test_agreement, y_test_original)\n",
    "train_ev_reject = accuracy_reject(combined_model, X_train, y_train_agreement, y_train_original)"
   ]
  },
  {
   "cell_type": "code",
   "execution_count": 14,
   "metadata": {},
   "outputs": [
    {
     "name": "stdout",
     "output_type": "stream",
     "text": [
      "0.302348 \t 0.880840\n",
      "0.351384 \t 0.857160\n",
      "0.252240 \t 0.922587 \t 0.114880 \t 2872\n",
      "0.306193 \t 0.897864 \t 0.118040 \t 2951\n"
     ]
    }
   ],
   "source": [
    "print('%f \\t %f' %(train_ev[0], train_ev[1]))\n",
    "print('%f \\t %f' %(test_ev[0], test_ev[1]))\n",
    "print('%f \\t %f \\t %f \\t %d' %(train_ev_reject[0][0], train_ev_reject[0][1], train_ev_reject[1], train_ev_reject[2]))\n",
    "print('%f \\t %f \\t %f \\t %d' %(test_ev_reject[0][0], test_ev_reject[0][1], test_ev_reject[1], test_ev_reject[2]))"
   ]
  },
  {
   "cell_type": "code",
   "execution_count": 15,
   "metadata": {},
   "outputs": [
    {
     "data": {
      "image/png": "[encoded data removed]",
      "text/plain": [
       "<Figure size 432x288 with 1 Axes>"
      ]
     },
     "metadata": {},
     "output_type": "display_data"
    },
    {
     "data": {
      "image/png": "[encoded data removed]",
      "text/plain": [
       "<Figure size 432x288 with 1 Axes>"
      ]
     },
     "metadata": {},
     "output_type": "display_data"
    },
    {
     "data": {
      "text/plain": [
       "<Figure size 432x288 with 0 Axes>"
      ]
     },
     "metadata": {},
     "output_type": "display_data"
    }
   ],
   "source": [
    "history_plot(base_history,'RDclf')"
   ]
  },
  {
   "cell_type": "code",
   "execution_count": 16,
   "metadata": {},
   "outputs": [
    {
     "data": {
      "image/png": "[encoded data removed]",
      "text/plain": [
       "<Figure size 432x288 with 1 Axes>"
      ]
     },
     "metadata": {},
     "output_type": "display_data"
    },
    {
     "data": {
      "image/png": "[encoded data removed]",
      "text/plain": [
       "<Figure size 432x288 with 1 Axes>"
      ]
     },
     "metadata": {},
     "output_type": "display_data"
    },
    {
     "data": {
      "text/plain": [
       "<Figure size 432x288 with 0 Axes>"
      ]
     },
     "metadata": {},
     "output_type": "display_data"
    }
   ],
   "source": [
    "history_plot(combined_model_history,'TTclf')"
   ]
  },
  {
   "cell_type": "code",
   "execution_count": 17,
   "metadata": {},
   "outputs": [],
   "source": [
    "# model.save('./figure/stable-imdb-trainable-1-50/stable-imdb-trainable-1-50-base.h5')\n",
    "# combined_model.save('./figure/stable-imdb-trainable-1-50/stable-imdb-trainable-1-50-combined.h5')"
   ]
  },
  {
   "cell_type": "markdown",
   "metadata": {},
   "source": [
    "### Display"
   ]
  },
  {
   "cell_type": "code",
   "execution_count": 18,
   "metadata": {},
   "outputs": [],
   "source": [
    "import re\n",
    "\n",
    "class ColoredWeightedDoc(object):\n",
    "    def __init__(self, doc, human_terms, ht_weights, token_pattern=r\"(?u)\\b\\w\\w+\\b\", binary = False):\n",
    "        self.doc = doc\n",
    "        self.human_terms = human_terms\n",
    "        self.ht_weights = ht_weights\n",
    "        self.binary = binary\n",
    "        self.tokenizer = re.compile(token_pattern)\n",
    "#         self.abs_ranges = np.linspace(0, max([abs(coefs.min()), abs(coefs.max())]), 8)\n",
    "    def _repr_html_(self):\n",
    "        html_rep = \"\"\n",
    "        tokens = self.doc.split(\" \") \n",
    "        if self.binary:\n",
    "            seen_tokens = set()       \n",
    "        for token in tokens:\n",
    "            vocab_tokens = self.tokenizer.findall(token.lower())\n",
    "            if len(vocab_tokens) > 0:\n",
    "                vocab_token = vocab_tokens[0]\n",
    "                try:\n",
    "                    vocab_index = self.human_terms.index(vocab_token)\n",
    "                    \n",
    "                    if not self.binary or vocab_index not in seen_tokens:\n",
    "                        \n",
    "                        if self.ht_weights[vocab_index] == 0: # human-terms which has been washed out (opposing)\n",
    "                            html_rep = html_rep + \"<font size = 2, color=lightgreen> \" + token + \" </font>\"\n",
    "                        \n",
    "                        elif self.ht_weights[vocab_index] != 0: # human-terms transparency\n",
    "                            html_rep = html_rep + \"<font size = 3, color=blue> \" + token + \" </font>\"\n",
    "                        \n",
    "                        else: # neutral word\n",
    "                            html_rep = html_rep + \"<font size = 1, color=gainsboro> \" + token + \" </font>\"\n",
    "                        \n",
    "                        if self.binary:    \n",
    "                            seen_tokens.add(vocab_index)\n",
    "                    \n",
    "                    else: # if binary and this is a token we have seen before\n",
    "                        html_rep = html_rep + \"<font size = 1, color=gainsboro> \" + token + \" </font>\"\n",
    "                except: # this token does not exist in the vocabulary\n",
    "                    html_rep = html_rep + \"<font size = 1, color=gainsboro> \" + token + \" </font>\"\n",
    "            else:\n",
    "                html_rep = html_rep + \"<font size = 1, color=gainsboro> \" + token + \" </font>\"\n",
    "        return html_rep"
   ]
  },
  {
   "cell_type": "code",
   "execution_count": 19,
   "metadata": {},
   "outputs": [],
   "source": [
    "review = list(['I was in Chicago last week. And I wanted to see a movie so bad. I am surprised that the movie itself is just amazing.  The plot was kinda weak, but it was great.  Christopher Nolan is just brilliant. Never fails to amaze. Even though the weather was terrible, but I enjoyed it. No regret! Overall, 10/10. Recommended.'])\n",
    "\n",
    "review_cv = cv.transform(review)"
   ]
  },
  {
   "cell_type": "code",
   "execution_count": 20,
   "metadata": {},
   "outputs": [],
   "source": [
    "y_t_review, _ = generate_appearance(review, review, word_list, connotation)"
   ]
  },
  {
   "cell_type": "code",
   "execution_count": 21,
   "metadata": {},
   "outputs": [
    {
     "data": {
      "text/plain": [
       "array([[0.7587285]], dtype=float32)"
      ]
     },
     "execution_count": 21,
     "metadata": {},
     "output_type": "execute_result"
    }
   ],
   "source": [
    "model.predict(review_cv)"
   ]
  },
  {
   "cell_type": "code",
   "execution_count": 22,
   "metadata": {},
   "outputs": [
    {
     "data": {
      "text/plain": [
       "array([[0.94382703]], dtype=float32)"
      ]
     },
     "execution_count": 22,
     "metadata": {},
     "output_type": "execute_result"
    }
   ],
   "source": [
    "combined_model.predict([review_cv, y_t_review])"
   ]
  },
  {
   "cell_type": "code",
   "execution_count": 55,
   "metadata": {},
   "outputs": [
    {
     "name": "stdout",
     "output_type": "stream",
     "text": [
      "actual label :  1 \n",
      "predict from base model :  [0.7587285] \n",
      "predict label :  [0.9647191]\n",
      "\n",
      "10/10 0.517457 [1.146918]\n",
      "amazing 0.517457 [1.1516336]\n",
      "brilliant 0.517457 [0.3140431]\n",
      "enjoyed 0.517457 [0.8944956]\n",
      "great 0.517457 [1.7488922]\n",
      "recommended 0.517457 [0.94111884]\n"
     ]
    },
    {
     "data": {
      "text/html": [
       "<font size = 1, color=gainsboro> I </font><font size = 1, color=gainsboro> was </font><font size = 1, color=gainsboro> in </font><font size = 1, color=gainsboro> Chicago </font><font size = 1, color=gainsboro> last </font><font size = 1, color=gainsboro> week. </font><font size = 1, color=gainsboro> And </font><font size = 1, color=gainsboro> I </font><font size = 1, color=gainsboro> wanted </font><font size = 1, color=gainsboro> to </font><font size = 1, color=gainsboro> see </font><font size = 1, color=gainsboro> a </font><font size = 1, color=gainsboro> movie </font><font size = 1, color=gainsboro> so </font><font size = 2, color=lightgreen> bad. </font><font size = 1, color=gainsboro> I </font><font size = 1, color=gainsboro> am </font><font size = 1, color=gainsboro> surprised </font><font size = 1, color=gainsboro> that </font><font size = 1, color=gainsboro> the </font><font size = 1, color=gainsboro> movie </font><font size = 1, color=gainsboro> itself </font><font size = 1, color=gainsboro> is </font><font size = 1, color=gainsboro> just </font><font size = 3, color=blue> amazing. </font><font size = 1, color=gainsboro>  </font><font size = 1, color=gainsboro> The </font><font size = 1, color=gainsboro> plot </font><font size = 1, color=gainsboro> was </font><font size = 1, color=gainsboro> kinda </font><font size = 2, color=lightgreen> weak, </font><font size = 1, color=gainsboro> but </font><font size = 1, color=gainsboro> it </font><font size = 1, color=gainsboro> was </font><font size = 3, color=blue> great. </font><font size = 1, color=gainsboro>  </font><font size = 1, color=gainsboro> Christopher </font><font size = 1, color=gainsboro> Nolan </font><font size = 1, color=gainsboro> is </font><font size = 1, color=gainsboro> just </font><font size = 3, color=blue> brilliant. </font><font size = 1, color=gainsboro> Never </font><font size = 2, color=lightgreen> fails </font><font size = 1, color=gainsboro> to </font><font size = 1, color=gainsboro> amaze. </font><font size = 1, color=gainsboro> Even </font><font size = 1, color=gainsboro> though </font><font size = 1, color=gainsboro> the </font><font size = 1, color=gainsboro> weather </font><font size = 1, color=gainsboro> was </font><font size = 2, color=lightgreen> terrible, </font><font size = 1, color=gainsboro> but </font><font size = 1, color=gainsboro> I </font><font size = 3, color=blue> enjoyed </font><font size = 1, color=gainsboro> it. </font><font size = 1, color=gainsboro> No </font><font size = 1, color=gainsboro> regret! </font><font size = 1, color=gainsboro> Overall, </font><font size = 1, color=gainsboro> 10/10. </font><font size = 3, color=blue> Recommended. </font>"
      ],
      "text/plain": [
       "<__main__.ColoredWeightedDoc at 0x27c18959080>"
      ]
     },
     "metadata": {},
     "output_type": "display_data"
    }
   ],
   "source": [
    "from IPython import display\n",
    "\n",
    "\n",
    "bm = model.predict(review_cv)\n",
    "        \n",
    "cm = combined_model.predict([review_cv, y_t_review])\n",
    "        \n",
    "layer_name = 'concatenate'\n",
    "concat_after_relu = Model(inputs=combined_model.input,\n",
    "                          outputs=combined_model.get_layer(layer_name).output)\n",
    "concat_output = concat_after_relu.predict([review_cv, y_t_review])\n",
    "        \n",
    "print('actual label : ', 1, '\\npredict from base model : ', bm.flatten(), '\\npredict label : ', cm.flatten())\n",
    "print()\n",
    "for i,output in enumerate(concat_output.flatten()):\n",
    "    if output != 0:\n",
    "        print(word_list[i], output, w[2][i])\n",
    "\n",
    "\n",
    "ht_weight = concat_output.flatten()\n",
    "display.display(ColoredWeightedDoc(review[0], word_list, ht_weight, binary = False))"
   ]
  },
  {
   "cell_type": "code",
   "execution_count": 30,
   "metadata": {},
   "outputs": [
    {
     "data": {
      "text/plain": [
       "1"
      ]
     },
     "execution_count": 30,
     "metadata": {},
     "output_type": "execute_result"
    }
   ],
   "source": [
    "connotation['recommended']"
   ]
  },
  {
   "cell_type": "code",
   "execution_count": 60,
   "metadata": {},
   "outputs": [
    {
     "data": {
      "text/plain": [
       "array([0.      , 0.      , 0.      , 0.      , 0.      , 0.      ,\n",
       "       0.      , 0.      , 0.      , 0.517457, 0.517457, 0.      ,\n",
       "       0.      , 0.      , 0.      , 0.      , 0.      , 0.      ,\n",
       "       0.      , 0.      , 0.      , 0.517457, 0.      , 0.      ,\n",
       "       0.      , 0.      , 0.      , 0.      , 0.      , 0.517457,\n",
       "       0.      , 0.      , 0.      , 0.      , 0.      , 0.      ,\n",
       "       0.      , 0.      , 0.      , 0.      , 0.517457, 0.      ,\n",
       "       0.      , 0.      , 0.      , 0.      , 0.      , 0.      ,\n",
       "       0.      , 0.      , 0.      , 0.      , 0.      , 0.      ,\n",
       "       0.      , 0.      , 0.      , 0.      , 0.      , 0.      ,\n",
       "       0.      , 0.      , 0.517457, 0.      , 0.      , 0.      ,\n",
       "       0.      , 0.      , 0.      , 0.      , 0.      , 0.      ,\n",
       "       0.      , 0.      , 0.      , 0.      , 0.      , 0.      ,\n",
       "       0.      , 0.      , 0.      , 0.      , 0.      ], dtype=float32)"
      ]
     },
     "execution_count": 60,
     "metadata": {},
     "output_type": "execute_result"
    }
   ],
   "source": [
    "ht_weight"
   ]
  },
  {
   "cell_type": "code",
   "execution_count": 35,
   "metadata": {},
   "outputs": [
    {
     "name": "stdout",
     "output_type": "stream",
     "text": [
      "62\n"
     ]
    }
   ],
   "source": [
    "for i in range(len(word_list)):\n",
    "    if word_list[i] == 'recommended':\n",
    "        print(i)"
   ]
  },
  {
   "cell_type": "code",
   "execution_count": 37,
   "metadata": {},
   "outputs": [],
   "source": [
    "y_t_review[0][62] = 1"
   ]
  },
  {
   "cell_type": "code",
   "execution_count": 53,
   "metadata": {},
   "outputs": [],
   "source": [
    "w = combined_model.get_weights()"
   ]
  },
  {
   "cell_type": "code",
   "execution_count": null,
   "metadata": {},
   "outputs": [],
   "source": []
  },
  {
   "cell_type": "code",
   "execution_count": 57,
   "metadata": {},
   "outputs": [
    {
     "name": "stdout",
     "output_type": "stream",
     "text": [
      "1/10 [-1.0807041]\n",
      "2/10 [-0.85171443]\n",
      "3/10 [-1.1229753]\n",
      "4/10 [-1.0276376]\n",
      "5/10 [0.47842273]\n",
      "6/10 [0.06289372]\n",
      "7/10 [1.1779239]\n",
      "8/10 [0.9416599]\n",
      "9/10 [0.6991757]\n",
      "10/10 [1.146918]\n",
      "amazing [1.1516336]\n",
      "annoying [-0.7779559]\n",
      "avoid [-0.97310996]\n",
      "awful [-1.2838832]\n",
      "bad [-1.7431507]\n",
      "badly [-0.7795434]\n",
      "beautiful [1.3726269]\n",
      "beautifully [0.7501648]\n",
      "best [1.4943271]\n",
      "bland [-0.37973142]\n",
      "boring [-1.365022]\n",
      "brilliant [0.3140431]\n",
      "cheap [-0.9712395]\n",
      "disappointed [-0.71921706]\n",
      "disappointing [-0.9985404]\n",
      "disappointment [-0.9322827]\n",
      "dreadful [-0.87605643]\n",
      "dull [-0.89009094]\n",
      "enjoyable [1.066103]\n",
      "enjoyed [0.8944956]\n",
      "excellent [1.5395813]\n",
      "fails [-1.0614314]\n",
      "fantastic [1.0914899]\n",
      "fascinating [0.7456618]\n",
      "favorite [1.0477363]\n",
      "forgettable [-0.80262095]\n",
      "fun [1.4407254]\n",
      "funny [-1.0508761]\n",
      "funniest [0.5873962]\n",
      "gem [1.0194337]\n",
      "great [1.7488922]\n",
      "horrible [-1.0194359]\n",
      "incredible [0.77599794]\n",
      "insult [-0.9055235]\n",
      "lacks [-0.74529386]\n",
      "lame [-0.94240034]\n",
      "laughable [-1.2936505]\n",
      "lousy [-0.6958273]\n",
      "loved [1.2099093]\n",
      "mediocre [-0.43224716]\n",
      "mess [-0.93890727]\n",
      "mst3k [-0.3451995]\n",
      "noir [0.881093]\n",
      "obnoxious [-0.50369775]\n",
      "pathetic [-0.79154855]\n",
      "perfect [1.2930322]\n",
      "perfectly [0.69755983]\n",
      "pointless [-1.1112883]\n",
      "poor [-1.4377048]\n",
      "poorly [-0.8863052]\n",
      "predictable [-0.8943434]\n",
      "rare [0.7117224]\n",
      "recommended [0.94111884]\n",
      "redeeming [-0.6363956]\n",
      "refreshing [0.8540823]\n",
      "ridiculous [-0.75629956]\n",
      "sadly [-0.5438022]\n",
      "solid [1.1711193]\n",
      "stupid [-1.0648628]\n",
      "subtle [0.65858805]\n",
      "superb [1.2179916]\n",
      "surprisingly [0.92047495]\n",
      "tedious [-0.65586454]\n",
      "terrible [-1.1813389]\n",
      "unfortunately [-0.7798136]\n",
      "unfunny [-0.44947824]\n",
      "waste [-1.5454257]\n",
      "wasted [-0.36184347]\n",
      "weak [-0.8868701]\n",
      "wonderful [1.4399325]\n",
      "wonderfully [0.76901764]\n",
      "worse [-0.93891615]\n",
      "worst [-1.6737487]\n"
     ]
    }
   ],
   "source": [
    "for i,ww in enumerate(w[2]):\n",
    "    print(word_list[i], ww)"
   ]
  },
  {
   "cell_type": "code",
   "execution_count": 59,
   "metadata": {},
   "outputs": [
    {
     "data": {
      "text/plain": [
       "3686"
      ]
     },
     "execution_count": 59,
     "metadata": {},
     "output_type": "execute_result"
    }
   ],
   "source": [
    "len(w[0])"
   ]
  },
  {
   "cell_type": "code",
   "execution_count": null,
   "metadata": {},
   "outputs": [],
   "source": []
  }
 ],
 "metadata": {
  "kernelspec": {
   "display_name": "Python 3",
   "language": "python",
   "name": "python3"
  },
  "language_info": {
   "codemirror_mode": {
    "name": "ipython",
    "version": 3
   },
   "file_extension": ".py",
   "mimetype": "text/x-python",
   "name": "python",
   "nbconvert_exporter": "python",
   "pygments_lexer": "ipython3",
   "version": "3.6.6"
  }
 },
 "nbformat": 4,
 "nbformat_minor": 2
}

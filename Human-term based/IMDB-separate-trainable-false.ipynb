{
 "cells": [
  {
   "cell_type": "code",
   "execution_count": 1,
   "metadata": {},
   "outputs": [
    {
     "name": "stderr",
     "output_type": "stream",
     "text": [
      "Using TensorFlow backend.\n"
     ]
    }
   ],
   "source": [
    "import numpy as np\n",
    "from numpy.random import seed\n",
    "import tensorflow as tf\n",
    "\n",
    "from tensorflow import set_random_seed\n",
    "seed(42)\n",
    "set_random_seed(42)\n",
    "\n",
    "from keras.layers import Input, Dense, TimeDistributed, Embedding\n",
    "from keras.layers import Concatenate, Reshape, Lambda, Multiply, multiply, concatenate\n",
    "from keras.models import Model\n",
    "from keras import backend as K\n",
    "\n",
    "import matplotlib.pyplot as plt\n",
    "from matplotlib import style\n",
    "\n",
    "style.use('seaborn-whitegrid')\n",
    "\n",
    "def open_pickle(path):\n",
    "    import pickle\n",
    "    with open(path, 'rb') as f:\n",
    "        X = pickle.load(f)\n",
    "    return X\n",
    "\n",
    "def load_unigrams(path, X, y):\n",
    "    word_list = []\n",
    "    connotation = {}\n",
    "    \n",
    "    with open(path, 'r', encoding='utf8') as f:\n",
    "        for line in f:\n",
    "            word_list.append(line.strip())\n",
    "            \n",
    "    for word in word_list:\n",
    "        pos_count = 0\n",
    "        neg_count = 0\n",
    "        for i, doc in enumerate(X):\n",
    "            if word in doc.lower():\n",
    "                \n",
    "                if (y[i] == 1):\n",
    "                    pos_count += 1\n",
    "                else:\n",
    "                    neg_count += 1\n",
    "                    \n",
    "        if pos_count > neg_count:\n",
    "            connotation[word] = 1\n",
    "        else:\n",
    "            connotation[word] = 0\n",
    "    \n",
    "    return word_list, connotation\n",
    "\n",
    "def generate_appearance(X_train_corpus, X_test_corpus, word_list, connotation):\n",
    "    y_train_agreement = []\n",
    "    for i in range(len(X_train_corpus)):\n",
    "        doc_agreement = []\n",
    "        for word in word_list:\n",
    "            if word in X_train_corpus[i]:\n",
    "                if connotation[word] == 1:\n",
    "                    doc_agreement.append(1)\n",
    "                else:\n",
    "                    doc_agreement.append(-1)\n",
    "            else:\n",
    "                doc_agreement.append(0)\n",
    "        y_train_agreement.append(doc_agreement)\n",
    "        \n",
    "    y_test_agreement = []\n",
    "    for i in range(len(X_test_corpus)):\n",
    "        doc_agreement = []\n",
    "        for word in word_list:\n",
    "            if word in X_test_corpus[i]:\n",
    "                if connotation[word] == 1:\n",
    "                    doc_agreement.append(1)\n",
    "                else:\n",
    "                    doc_agreement.append(-1)\n",
    "            else:\n",
    "                doc_agreement.append(0)\n",
    "        y_test_agreement.append(doc_agreement)\n",
    "        \n",
    "    return np.array(y_train_agreement), np.array(y_test_agreement)\n",
    "\n",
    "# 'imdb-unigrams.txt'\n",
    "\n",
    "X_train_original = open_pickle('../../data/imdb/imdb_original_preprocessed_xtrain.pickle')\n",
    "X_test_original = open_pickle('../../data/imdb/imdb_original_preprocessed_xtest.pickle')\n",
    "y_train_original = open_pickle('../../data/imdb/imdb_original_preprocessed_ytrain.pickle')\n",
    "y_test_original = open_pickle('../../data/imdb/imdb_original_preprocessed_ytest.pickle')\n",
    "\n",
    "# Count vectorizer \n",
    "\n",
    "from sklearn.feature_extraction.text import CountVectorizer\n",
    "\n",
    "token = r\"(?u)\\b[\\w\\'/]+\\b\"\n",
    "cv = CountVectorizer(min_df = 100, token_pattern=token, lowercase=True, binary=True)\n",
    "X_train = cv.fit_transform(X_train_original)\n",
    "X_test = cv.transform(X_test_original)\n",
    "\n",
    "word_list, connotation = load_unigrams('./imdb-unigrams.txt', X_train_original, y_train_original)\n",
    "\n",
    "y_train_agreement, y_test_agreement = generate_appearance(X_train_original, X_test_original, \n",
    "                                                          word_list, connotation)\n",
    "\n",
    "\n",
    "def history_plot(history, model_name):\n",
    "    plt.plot(history.history['acc'])\n",
    "    plt.plot(history.history['val_acc'])\n",
    "        \n",
    "    title = model_name + 'accuracy'\n",
    "    plt.title(title)\n",
    "    plt.xlabel('epoch')\n",
    "    plt.legend(['tr_acc', 'val_acc'], loc='upper left')\n",
    "    plt.show()\n",
    "    plt.clf()\n",
    "\n",
    "    plt.plot(history.history['loss'], 'm--')\n",
    "    plt.plot(history.history['val_loss'], 'y--')\n",
    "\n",
    "    title = model_name + 'loss'\n",
    "    plt.title(title)\n",
    "    plt.xlabel('epoch')\n",
    "    plt.legend(['tr_loss', 'val_loss'], loc='upper left')\n",
    "    plt.show()\n",
    "    plt.clf()"
   ]
  },
  {
   "cell_type": "markdown",
   "metadata": {},
   "source": [
    "### Test the custom loss"
   ]
  },
  {
   "cell_type": "code",
   "execution_count": 2,
   "metadata": {},
   "outputs": [],
   "source": [
    "# # https://stackoverflow.com/questions/48951109/keras-custom-binary-cross-entropy-loss-function-get-nan-as-output-for-loss\n",
    "\n",
    "# def custom_cross_entropy(y_true, y_pred):\n",
    "#     t_loss = K.max(y_pred,0)-y_pred * y_true + K.log(1+K.exp((-1)*K.abs(y_pred)))\n",
    "#     return K.mean(t_loss)\n",
    "\n",
    "# from keras.initializers import Constant, glorot_uniform\n",
    "\n",
    "# input_layer = Input(shape=(X_train.shape[1],))\n",
    "# tanh_output = Dense(1, activation='sigmoid', kernel_initializer=glorot_uniform(seed=42))(input_layer)\n",
    "# model = Model(inputs=input_layer, outputs=tanh_output)\n",
    "\n",
    "# model.compile(loss=custom_cross_entropy,\n",
    "#              metrics=['acc'],\n",
    "#              optimizer='adam')\n",
    "\n",
    "# model.fit(X_train[:16667], y_train_original[:16667], \n",
    "#          validation_data=([X_train[16667:], y_train_original[16667:]]),\n",
    "#          batch_size=1, epochs=1)"
   ]
  },
  {
   "cell_type": "code",
   "execution_count": 3,
   "metadata": {},
   "outputs": [],
   "source": [
    "# model.evaluate(X_test, y_test_original)"
   ]
  },
  {
   "cell_type": "code",
   "execution_count": 4,
   "metadata": {},
   "outputs": [],
   "source": [
    "# model.evaluate(X_train, y_train_original)"
   ]
  },
  {
   "cell_type": "markdown",
   "metadata": {},
   "source": [
    "### 1st model"
   ]
  },
  {
   "cell_type": "code",
   "execution_count": 5,
   "metadata": {},
   "outputs": [
    {
     "name": "stdout",
     "output_type": "stream",
     "text": [
      "Train on 16667 samples, validate on 8333 samples\n",
      "Epoch 1/1\n",
      "16667/16667 [==============================] - 41s 2ms/step - loss: 0.3437 - acc: 0.8615 - val_loss: 0.3015 - val_acc: 0.8766\n"
     ]
    }
   ],
   "source": [
    "from keras.initializers import Constant, glorot_uniform\n",
    "\n",
    "input_layer = Input(shape=(X_train.shape[1],))\n",
    "tanh_output = Dense(1, activation='sigmoid', kernel_initializer=glorot_uniform(seed=42))(input_layer)\n",
    "model = Model(inputs=input_layer, outputs=tanh_output)\n",
    "\n",
    "model.compile(loss='binary_crossentropy',\n",
    "             metrics=['acc'],\n",
    "             optimizer='adam')\n",
    "\n",
    "base_history = model.fit(X_train[:16667], y_train_original[:16667], \n",
    "                 validation_data=([X_train[16667:], y_train_original[16667:]]),\n",
    "                 batch_size=1, epochs=1)"
   ]
  },
  {
   "cell_type": "code",
   "execution_count": 6,
   "metadata": {},
   "outputs": [
    {
     "name": "stdout",
     "output_type": "stream",
     "text": [
      "25000/25000 [==============================] - 1s 54us/step\n"
     ]
    },
    {
     "data": {
      "text/plain": [
       "[0.2897497012519836, 0.88192]"
      ]
     },
     "execution_count": 6,
     "metadata": {},
     "output_type": "execute_result"
    }
   ],
   "source": [
    "model.evaluate(X_test, y_test_original)"
   ]
  },
  {
   "cell_type": "code",
   "execution_count": 7,
   "metadata": {},
   "outputs": [
    {
     "name": "stdout",
     "output_type": "stream",
     "text": [
      "25000/25000 [==============================] - 1s 53us/step\n"
     ]
    },
    {
     "data": {
      "text/plain": [
       "[0.2486690408039093, 0.90652]"
      ]
     },
     "execution_count": 7,
     "metadata": {},
     "output_type": "execute_result"
    }
   ],
   "source": [
    "model.evaluate(X_train, y_train_original)"
   ]
  },
  {
   "cell_type": "code",
   "execution_count": 8,
   "metadata": {},
   "outputs": [],
   "source": [
    "model.trainable=False"
   ]
  },
  {
   "cell_type": "markdown",
   "metadata": {},
   "source": [
    "### 2nd model"
   ]
  },
  {
   "cell_type": "code",
   "execution_count": 9,
   "metadata": {},
   "outputs": [
    {
     "name": "stdout",
     "output_type": "stream",
     "text": [
      "Train on 16667 samples, validate on 8333 samples\n",
      "Epoch 1/50\n",
      "16667/16667 [==============================] - 133s 8ms/step - loss: 0.3648 - acc: 0.8387 - val_loss: 0.3917 - val_acc: 0.8219\n",
      "Epoch 2/50\n",
      "16667/16667 [==============================] - 137s 8ms/step - loss: 0.3075 - acc: 0.8502 - val_loss: 0.4003 - val_acc: 0.8219\n",
      "Epoch 3/50\n",
      "16667/16667 [==============================] - 138s 8ms/step - loss: 0.3054 - acc: 0.8520 - val_loss: 0.4084 - val_acc: 0.8220\n",
      "Epoch 4/50\n",
      "16667/16667 [==============================] - 138s 8ms/step - loss: 0.3060 - acc: 0.8525 - val_loss: 0.4141 - val_acc: 0.8201\n",
      "Epoch 5/50\n",
      "16667/16667 [==============================] - 138s 8ms/step - loss: 0.3062 - acc: 0.8543 - val_loss: 0.4183 - val_acc: 0.8200\n",
      "Epoch 6/50\n",
      "16667/16667 [==============================] - 138s 8ms/step - loss: 0.3066 - acc: 0.8552 - val_loss: 0.4209 - val_acc: 0.8220\n",
      "Epoch 7/50\n",
      "16667/16667 [==============================] - 140s 8ms/step - loss: 0.3075 - acc: 0.8522 - val_loss: 0.4254 - val_acc: 0.8226\n",
      "Epoch 8/50\n",
      "16667/16667 [==============================] - 139s 8ms/step - loss: 0.3078 - acc: 0.8526 - val_loss: 0.4253 - val_acc: 0.8225\n",
      "Epoch 9/50\n",
      "16667/16667 [==============================] - 141s 8ms/step - loss: 0.3082 - acc: 0.8542 - val_loss: 0.4270 - val_acc: 0.8210\n",
      "Epoch 10/50\n",
      "16667/16667 [==============================] - 149s 9ms/step - loss: 0.3087 - acc: 0.8537 - val_loss: 0.4305 - val_acc: 0.8206\n",
      "Epoch 11/50\n",
      "16667/16667 [==============================] - 139s 8ms/step - loss: 0.3089 - acc: 0.8553 - val_loss: 0.4339 - val_acc: 0.8205\n",
      "Epoch 12/50\n",
      "16667/16667 [==============================] - 145s 9ms/step - loss: 0.3095 - acc: 0.8539 - val_loss: 0.4338 - val_acc: 0.8211\n",
      "Epoch 13/50\n",
      "16667/16667 [==============================] - 141s 8ms/step - loss: 0.3097 - acc: 0.8556 - val_loss: 0.4317 - val_acc: 0.8213\n",
      "Epoch 14/50\n",
      "16667/16667 [==============================] - 138s 8ms/step - loss: 0.3098 - acc: 0.8543 - val_loss: 0.4359 - val_acc: 0.8230\n",
      "Epoch 15/50\n",
      "16667/16667 [==============================] - 138s 8ms/step - loss: 0.3097 - acc: 0.8522 - val_loss: 0.4383 - val_acc: 0.8211\n",
      "Epoch 16/50\n",
      "16667/16667 [==============================] - 138s 8ms/step - loss: 0.3109 - acc: 0.8571 - val_loss: 0.4412 - val_acc: 0.8232\n",
      "Epoch 17/50\n",
      "16667/16667 [==============================] - 139s 8ms/step - loss: 0.3111 - acc: 0.8525 - val_loss: 0.4428 - val_acc: 0.8214\n",
      "Epoch 18/50\n",
      "16667/16667 [==============================] - 138s 8ms/step - loss: 0.3112 - acc: 0.8550 - val_loss: 0.4425 - val_acc: 0.8229\n",
      "Epoch 19/50\n",
      "16667/16667 [==============================] - 138s 8ms/step - loss: 0.3112 - acc: 0.8538 - val_loss: 0.4438 - val_acc: 0.8229\n",
      "Epoch 20/50\n",
      "16667/16667 [==============================] - 139s 8ms/step - loss: 0.3111 - acc: 0.8556 - val_loss: 0.4431 - val_acc: 0.8214\n",
      "Epoch 21/50\n",
      "16667/16667 [==============================] - 143s 9ms/step - loss: 0.3110 - acc: 0.8546 - val_loss: 0.4432 - val_acc: 0.8232\n",
      "Epoch 22/50\n",
      "16667/16667 [==============================] - 139s 8ms/step - loss: 0.3112 - acc: 0.8545 - val_loss: 0.4427 - val_acc: 0.8210\n",
      "Epoch 23/50\n",
      "16667/16667 [==============================] - 141s 8ms/step - loss: 0.3118 - acc: 0.8544 - val_loss: 0.4458 - val_acc: 0.8213\n",
      "Epoch 24/50\n",
      "16667/16667 [==============================] - 136s 8ms/step - loss: 0.3119 - acc: 0.8537 - val_loss: 0.4473 - val_acc: 0.8214\n",
      "Epoch 25/50\n",
      "16667/16667 [==============================] - 135s 8ms/step - loss: 0.3114 - acc: 0.8546 - val_loss: 0.4478 - val_acc: 0.8213\n",
      "Epoch 26/50\n",
      "16667/16667 [==============================] - 136s 8ms/step - loss: 0.3129 - acc: 0.8559 - val_loss: 0.4475 - val_acc: 0.8231\n",
      "Epoch 27/50\n",
      "16667/16667 [==============================] - 135s 8ms/step - loss: 0.3125 - acc: 0.8567 - val_loss: 0.4514 - val_acc: 0.8237\n",
      "Epoch 28/50\n",
      "16667/16667 [==============================] - 138s 8ms/step - loss: 0.3129 - acc: 0.8547 - val_loss: 0.4493 - val_acc: 0.8212\n",
      "Epoch 29/50\n",
      "16667/16667 [==============================] - 140s 8ms/step - loss: 0.3126 - acc: 0.8532 - val_loss: 0.4492 - val_acc: 0.8217\n",
      "Epoch 30/50\n",
      "16667/16667 [==============================] - 144s 9ms/step - loss: 0.3117 - acc: 0.8529 - val_loss: 0.4528 - val_acc: 0.8214\n",
      "Epoch 31/50\n",
      "16667/16667 [==============================] - 150s 9ms/step - loss: 0.3129 - acc: 0.8557 - val_loss: 0.4524 - val_acc: 0.8235\n",
      "Epoch 32/50\n",
      "16667/16667 [==============================] - 148s 9ms/step - loss: 0.3126 - acc: 0.8547 - val_loss: 0.4506 - val_acc: 0.8235\n",
      "Epoch 33/50\n",
      "16667/16667 [==============================] - 153s 9ms/step - loss: 0.3125 - acc: 0.8533 - val_loss: 0.4514 - val_acc: 0.8213 - loss: 0.3126 - ac\n",
      "Epoch 34/50\n",
      "16667/16667 [==============================] - 149s 9ms/step - loss: 0.3128 - acc: 0.8553 - val_loss: 0.4516 - val_acc: 0.8237\n",
      "Epoch 35/50\n",
      "16667/16667 [==============================] - 154s 9ms/step - loss: 0.3123 - acc: 0.8546 - val_loss: 0.4536 - val_acc: 0.8214\n",
      "Epoch 36/50\n",
      "16667/16667 [==============================] - 150s 9ms/step - loss: 0.3126 - acc: 0.8532 - val_loss: 0.4558 - val_acc: 0.8211\n",
      "Epoch 37/50\n",
      "16667/16667 [==============================] - 135s 8ms/step - loss: 0.3133 - acc: 0.8540 - val_loss: 0.4540 - val_acc: 0.8211\n",
      "Epoch 38/50\n",
      "16667/16667 [==============================] - 138s 8ms/step - loss: 0.3125 - acc: 0.8551 - val_loss: 0.4571 - val_acc: 0.8212\n",
      "Epoch 39/50\n",
      "16667/16667 [==============================] - 139s 8ms/step - loss: 0.3135 - acc: 0.8562 - val_loss: 0.4546 - val_acc: 0.8210\n",
      "Epoch 40/50\n",
      "16667/16667 [==============================] - 149s 9ms/step - loss: 0.3132 - acc: 0.8549 - val_loss: 0.4530 - val_acc: 0.8210\n",
      "Epoch 41/50\n",
      "16667/16667 [==============================] - 149s 9ms/step - loss: 0.3125 - acc: 0.8547 - val_loss: 0.4539 - val_acc: 0.8230\n",
      "Epoch 42/50\n",
      "16667/16667 [==============================] - 164s 10ms/step - loss: 0.3130 - acc: 0.8538 - val_loss: 0.4543 - val_acc: 0.8210\n",
      "Epoch 43/50\n",
      "16667/16667 [==============================] - 168s 10ms/step - loss: 0.3129 - acc: 0.8550 - val_loss: 0.4533 - val_acc: 0.8216\n",
      "Epoch 44/50\n",
      "16667/16667 [==============================] - 167s 10ms/step - loss: 0.3124 - acc: 0.8568 - val_loss: 0.4556 - val_acc: 0.8216\n",
      "Epoch 45/50\n",
      "16667/16667 [==============================] - 174s 10ms/step - loss: 0.3128 - acc: 0.8531 - val_loss: 0.4551 - val_acc: 0.8216\n",
      "Epoch 46/50\n",
      "16667/16667 [==============================] - 173s 10ms/step - loss: 0.3118 - acc: 0.8549 - val_loss: 0.4529 - val_acc: 0.8296\n",
      "Epoch 47/50\n",
      "16667/16667 [==============================] - 164s 10ms/step - loss: 0.3090 - acc: 0.8574 - val_loss: 0.4525 - val_acc: 0.8300\n",
      "Epoch 48/50\n",
      "16667/16667 [==============================] - 153s 9ms/step - loss: 0.3075 - acc: 0.8571 - val_loss: 0.4532 - val_acc: 0.8307\n",
      "Epoch 49/50\n",
      "16667/16667 [==============================] - 151s 9ms/step - loss: 0.3080 - acc: 0.8608 - val_loss: 0.4513 - val_acc: 0.8307\n",
      "Epoch 50/50\n",
      "16667/16667 [==============================] - 134s 8ms/step - loss: 0.3071 - acc: 0.8607 - val_loss: 0.4519 - val_acc: 0.8310\n"
     ]
    }
   ],
   "source": [
    "def layer_split(x):\n",
    "    return tf.split(x,num_or_size_splits=human_terms_len,axis=1)\n",
    "\n",
    "def layer_concat(x):\n",
    "    return tf.concat(x, axis=1)\n",
    "\n",
    "# build the combined model\n",
    "# Combined model\n",
    "human_terms_len = len(word_list)\n",
    "\n",
    "# base_model = build_base_model(X_train.shape[1])\n",
    "\n",
    "combined_input_layer = Input(shape=(X_train.shape[1],))\n",
    "\n",
    "# build the hard coded weight for human terms\n",
    "ht_input_layer = Input(shape=(human_terms_len,))\n",
    "\n",
    "# split = Lambda( lambda x: tf.split(x,num_or_size_splits=human_terms_len,axis=1))(ht_input_layer)\n",
    "split = Lambda(layer_split)(ht_input_layer)\n",
    "\n",
    "# get the document prediction\n",
    "label_layer = model(combined_input_layer)\n",
    "tanh_norm = Lambda(lambda x: (x*2)-1)(label_layer)\n",
    "# tanh_norm = Lambda(lambda x: tf.scalar_mul(2,x)-1)(label_layer)\n",
    "\n",
    "# do normalize of bipolar sigmoid\n",
    "\n",
    "\n",
    "# stack the multiply layer\n",
    "dense_layer = []\n",
    "for i in range(human_terms_len):\n",
    "    dense_layer.append(Dense(1, activation='relu', use_bias=False)(Multiply()([split[i], tanh_norm])))\n",
    "\n",
    "# concat all the result   \n",
    "# concat = Lambda( lambda x: tf.concat(x, axis=1), name='concatenate')(dense_layer)\n",
    "concat = Lambda(layer_concat, name='concatenate')(dense_layer)\n",
    "\n",
    "\n",
    "# pass it to sigmoid layer\n",
    "output_layer = Dense(1, activation='sigmoid')(concat)\n",
    "\n",
    "combined_model = Model(inputs=[combined_input_layer, ht_input_layer], outputs=output_layer)\n",
    "# combined_model.summary()\n",
    "\n",
    "\n",
    "combined_model.compile(loss='binary_crossentropy',\n",
    "                      optimizer='adam',\n",
    "                      metrics=['acc'])\n",
    "\n",
    "# y_train_tanh = y_train_original\n",
    "# y_train_tanh[y_train_tanh == 0] = -1\n",
    "\n",
    "# y_test_tanh = y_test_original\n",
    "# y_test_tanh[y_test_tanh == 0] = -1\n",
    "\n",
    "# base_model_history = base_model.fit(X_train[:16667], y_train_original[:16667], \n",
    "#                                     validation_data=(X_train[16667:], y_train_original[16667:]),\n",
    "#                                     batch_size=1, epochs=1)\n",
    "\n",
    "combined_model_history = combined_model.fit([X_train[:16667],y_train_agreement[:16667]], y_train_original[:16667], \n",
    "                                            validation_data=([X_train[16667:], y_train_agreement[16667:]], y_train_original[16667:]),\n",
    "                                            batch_size=1, epochs=50)"
   ]
  },
  {
   "cell_type": "code",
   "execution_count": 10,
   "metadata": {},
   "outputs": [
    {
     "name": "stdout",
     "output_type": "stream",
     "text": [
      "25000/25000 [==============================] - 3s 100us/step\n",
      "25000/25000 [==============================] - 2s 99us/step\n",
      "20661/20661 [==============================] - 2s 93us/step\n",
      "20679/20679 [==============================] - 2s 92us/step\n"
     ]
    }
   ],
   "source": [
    "test_ev = combined_model.evaluate([X_test, y_test_agreement], y_test_original)\n",
    "train_ev = combined_model.evaluate([X_train, y_train_agreement], y_train_original)\n",
    "\n",
    "def accuracy_reject(combined_model, X, y_agreement, y):\n",
    "    human_terms_relu_model = Model(inputs=combined_model.input,\n",
    "                                    outputs=combined_model.get_layer('concatenate').output)\n",
    "    predict_relu = human_terms_relu_model.predict([X, y_agreement])\n",
    "    accept_indices = np.where(np.sum(predict_relu, axis=1)!=0)\n",
    "    accept_indices = accept_indices[0]\n",
    "    total_reject = X.shape[0] - len(accept_indices)\n",
    "    rejection_rate = total_reject/X.shape[0]\n",
    "\n",
    "    test_eval = combined_model.evaluate([X[accept_indices], y_agreement[accept_indices]], y[accept_indices])\n",
    "    \n",
    "    return test_eval, rejection_rate, total_reject\n",
    "\n",
    "test_ev_reject = accuracy_reject(combined_model, X_test, y_test_agreement, y_test_original)\n",
    "train_ev_reject = accuracy_reject(combined_model, X_train, y_train_agreement, y_train_original)"
   ]
  },
  {
   "cell_type": "code",
   "execution_count": 11,
   "metadata": {},
   "outputs": [
    {
     "name": "stdout",
     "output_type": "stream",
     "text": [
      "0.354120 \t 0.850440\n",
      "0.423307 \t 0.836680\n",
      "0.283360 \t 0.920402 \t 0.172840 \t 4321\n",
      "0.366779 \t 0.902376 \t 0.173560 \t 4339\n"
     ]
    }
   ],
   "source": [
    "print('%f \\t %f' %(train_ev[0], train_ev[1]))\n",
    "print('%f \\t %f' %(test_ev[0], test_ev[1]))\n",
    "print('%f \\t %f \\t %f \\t %d' %(train_ev_reject[0][0], train_ev_reject[0][1], train_ev_reject[1], train_ev_reject[2]))\n",
    "print('%f \\t %f \\t %f \\t %d' %(test_ev_reject[0][0], test_ev_reject[0][1], test_ev_reject[1], test_ev_reject[2]))"
   ]
  },
  {
   "cell_type": "code",
   "execution_count": 12,
   "metadata": {},
   "outputs": [
    {
     "data": {
      "image/png": "[encoded data removed]",
      "text/plain": [
       "<Figure size 432x288 with 1 Axes>"
      ]
     },
     "metadata": {},
     "output_type": "display_data"
    },
    {
     "data": {
      "image/png": "[encoded data removed]",
      "text/plain": [
       "<Figure size 432x288 with 1 Axes>"
      ]
     },
     "metadata": {},
     "output_type": "display_data"
    },
    {
     "data": {
      "text/plain": [
       "<Figure size 432x288 with 0 Axes>"
      ]
     },
     "metadata": {},
     "output_type": "display_data"
    }
   ],
   "source": [
    "history_plot(base_history,'RDclf')"
   ]
  },
  {
   "cell_type": "code",
   "execution_count": 13,
   "metadata": {},
   "outputs": [
    {
     "data": {
      "image/png": "[encoded data removed]",
      "text/plain": [
       "<Figure size 432x288 with 1 Axes>"
      ]
     },
     "metadata": {},
     "output_type": "display_data"
    },
    {
     "data": {
      "image/png": "[encoded data removed]",
      "text/plain": [
       "<Figure size 432x288 with 1 Axes>"
      ]
     },
     "metadata": {},
     "output_type": "display_data"
    },
    {
     "data": {
      "text/plain": [
       "<Figure size 432x288 with 0 Axes>"
      ]
     },
     "metadata": {},
     "output_type": "display_data"
    }
   ],
   "source": [
    "history_plot(combined_model_history,'TTclf')"
   ]
  },
  {
   "cell_type": "code",
   "execution_count": 14,
   "metadata": {},
   "outputs": [],
   "source": [
    "model.save('./figure/stable-imdb-trainable-false-1-50/stable-imdb-trainable-false-1-50-base.h5')\n",
    "combined_model.save('./figure/stable-imdb-trainable-false-1-50/stable-imdb-trainable-false-1-50-combined.h5')"
   ]
  },
  {
   "cell_type": "code",
   "execution_count": null,
   "metadata": {},
   "outputs": [],
   "source": []
  }
 ],
 "metadata": {
  "kernelspec": {
   "display_name": "Python 3",
   "language": "python",
   "name": "python3"
  },
  "language_info": {
   "codemirror_mode": {
    "name": "ipython",
    "version": 3
   },
   "file_extension": ".py",
   "mimetype": "text/x-python",
   "name": "python",
   "nbconvert_exporter": "python",
   "pygments_lexer": "ipython3",
   "version": "3.6.6"
  }
 },
 "nbformat": 4,
 "nbformat_minor": 2
}

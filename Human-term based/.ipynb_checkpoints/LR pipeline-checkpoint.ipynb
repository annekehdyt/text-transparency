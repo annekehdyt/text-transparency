{
 "cells": [
  {
   "cell_type": "code",
   "execution_count": 1,
   "metadata": {},
   "outputs": [
    {
     "name": "stderr",
     "output_type": "stream",
     "text": [
      "Using TensorFlow backend.\n"
     ]
    }
   ],
   "source": [
    "import numpy as np\n",
    "from numpy.random import seed\n",
    "import tensorflow as tf\n",
    "\n",
    "from tensorflow import set_random_seed\n",
    "seed(42)\n",
    "set_random_seed(42)\n",
    "\n",
    "from keras.layers import Input, Dense, TimeDistributed, Embedding\n",
    "from keras.layers import Concatenate, Reshape, Lambda, Multiply, multiply, concatenate\n",
    "from keras.models import Model\n",
    "from keras import backend as K\n",
    "\n",
    "import matplotlib.pyplot as plt\n",
    "from matplotlib import style\n",
    "\n",
    "style.use('seaborn-whitegrid')\n",
    "\n",
    "def open_pickle(path):\n",
    "    import pickle\n",
    "    with open(path, 'rb') as f:\n",
    "        X = pickle.load(f)\n",
    "    return X\n",
    "\n",
    "def load_unigrams(path, X, y):\n",
    "    word_list = []\n",
    "    connotation = {}\n",
    "    \n",
    "    with open(path, 'r', encoding='utf8') as f:\n",
    "        for line in f:\n",
    "            word_list.append(line.strip())\n",
    "            \n",
    "    for word in word_list:\n",
    "        pos_count = 0\n",
    "        neg_count = 0\n",
    "        for i, doc in enumerate(X):\n",
    "            if word in doc.lower():\n",
    "                \n",
    "                if (y[i] == 1):\n",
    "                    pos_count += 1\n",
    "                else:\n",
    "                    neg_count += 1\n",
    "                    \n",
    "        if pos_count > neg_count:\n",
    "            connotation[word] = 1\n",
    "        else:\n",
    "            connotation[word] = 0\n",
    "    \n",
    "    return word_list, connotation\n",
    "\n",
    "def generate_appearance(X_train_corpus, X_test_corpus, word_list, connotation):\n",
    "    y_train_agreement = []\n",
    "    for i in range(len(X_train_corpus)):\n",
    "        doc_agreement = []\n",
    "        for word in word_list:\n",
    "            if word in X_train_corpus[i]:\n",
    "                if connotation[word] == 1:\n",
    "                    doc_agreement.append(1)\n",
    "                else:\n",
    "                    doc_agreement.append(-1)\n",
    "            else:\n",
    "                doc_agreement.append(0)\n",
    "        y_train_agreement.append(doc_agreement)\n",
    "        \n",
    "    y_test_agreement = []\n",
    "    for i in range(len(X_test_corpus)):\n",
    "        doc_agreement = []\n",
    "        for word in word_list:\n",
    "            if word in X_test_corpus[i]:\n",
    "                if connotation[word] == 1:\n",
    "                    doc_agreement.append(1)\n",
    "                else:\n",
    "                    doc_agreement.append(-1)\n",
    "            else:\n",
    "                doc_agreement.append(0)\n",
    "        y_test_agreement.append(doc_agreement)\n",
    "        \n",
    "    return np.array(y_train_agreement), np.array(y_test_agreement)\n",
    "\n",
    "# 'imdb-unigrams.txt'\n",
    "\n",
    "X_train_original = open_pickle('../../data/imdb/imdb_original_preprocessed_xtrain.pickle')\n",
    "X_test_original = open_pickle('../../data/imdb/imdb_original_preprocessed_xtest.pickle')\n",
    "y_train_original = open_pickle('../../data/imdb/imdb_original_preprocessed_ytrain.pickle')\n",
    "y_test_original = open_pickle('../../data/imdb/imdb_original_preprocessed_ytest.pickle')\n",
    "\n",
    "# Count vectorizer \n",
    "\n",
    "from sklearn.feature_extraction.text import CountVectorizer\n",
    "\n",
    "token = r\"(?u)\\b[\\w\\'/]+\\b\"\n",
    "cv = CountVectorizer(min_df = 100, token_pattern=token, lowercase=True, binary=True)\n",
    "X_train = cv.fit_transform(X_train_original)\n",
    "X_test = cv.transform(X_test_original)\n",
    "\n",
    "word_list, connotation = load_unigrams('./imdb-unigrams.txt', X_train_original, y_train_original)\n",
    "\n",
    "y_train_agreement, y_test_agreement = generate_appearance(X_train_original, X_test_original, \n",
    "                                                          word_list, connotation)\n",
    "\n",
    "\n",
    "def history_plot(history, model_name):\n",
    "    plt.plot(history.history['acc'])\n",
    "    plt.plot(history.history['val_acc'])\n",
    "        \n",
    "    title = model_name + 'accuracy'\n",
    "    plt.title(title)\n",
    "    plt.xlabel('epoch')\n",
    "    plt.legend(['tr_acc', 'val_acc'], loc='upper left')\n",
    "    plt.show()\n",
    "    plt.clf()\n",
    "\n",
    "    plt.plot(history.history['loss'], 'm--')\n",
    "    plt.plot(history.history['val_loss'], 'y--')\n",
    "\n",
    "    title = model_name + 'loss'\n",
    "    plt.title(title)\n",
    "    plt.xlabel('epoch')\n",
    "    plt.legend(['tr_loss', 'val_loss'], loc='upper left')\n",
    "    plt.show()\n",
    "    plt.clf()"
   ]
  },
  {
   "cell_type": "markdown",
   "metadata": {},
   "source": [
    "### Test the custom loss"
   ]
  },
  {
   "cell_type": "code",
   "execution_count": 2,
   "metadata": {},
   "outputs": [],
   "source": [
    "# # https://stackoverflow.com/questions/48951109/keras-custom-binary-cross-entropy-loss-function-get-nan-as-output-for-loss\n",
    "\n",
    "# def custom_cross_entropy(y_true, y_pred):\n",
    "#     t_loss = K.max(y_pred,0)-y_pred * y_true + K.log(1+K.exp((-1)*K.abs(y_pred)))\n",
    "#     return K.mean(t_loss)\n",
    "\n",
    "# from keras.initializers import Constant, glorot_uniform\n",
    "\n",
    "# input_layer = Input(shape=(X_train.shape[1],))\n",
    "# tanh_output = Dense(1, activation='sigmoid', kernel_initializer=glorot_uniform(seed=42))(input_layer)\n",
    "# model = Model(inputs=input_layer, outputs=tanh_output)\n",
    "\n",
    "# model.compile(loss=custom_cross_entropy,\n",
    "#              metrics=['acc'],\n",
    "#              optimizer='adam')\n",
    "\n",
    "# model.fit(X_train[:16667], y_train_original[:16667], \n",
    "#          validation_data=([X_train[16667:], y_train_original[16667:]]),\n",
    "#          batch_size=1, epochs=1)"
   ]
  },
  {
   "cell_type": "code",
   "execution_count": 3,
   "metadata": {},
   "outputs": [],
   "source": [
    "# model.evaluate(X_test, y_test_original)"
   ]
  },
  {
   "cell_type": "code",
   "execution_count": 4,
   "metadata": {},
   "outputs": [],
   "source": [
    "# model.evaluate(X_train, y_train_original)"
   ]
  },
  {
   "cell_type": "markdown",
   "metadata": {},
   "source": [
    "### 1st model"
   ]
  },
  {
   "cell_type": "code",
   "execution_count": 5,
   "metadata": {},
   "outputs": [
    {
     "name": "stdout",
     "output_type": "stream",
     "text": [
      "Train on 16667 samples, validate on 8333 samples\n",
      "Epoch 1/1\n",
      "16667/16667 [==============================] - 42s 3ms/step - loss: 0.3437 - acc: 0.8615 - val_loss: 0.3015 - val_acc: 0.8766\n"
     ]
    }
   ],
   "source": [
    "from keras.initializers import Constant, glorot_uniform\n",
    "\n",
    "input_layer = Input(shape=(X_train.shape[1],))\n",
    "tanh_output = Dense(1, activation='sigmoid', kernel_initializer=glorot_uniform(seed=42))(input_layer)\n",
    "model = Model(inputs=input_layer, outputs=tanh_output)\n",
    "\n",
    "model.compile(loss='binary_crossentropy',\n",
    "             metrics=['acc'],\n",
    "             optimizer='adam')\n",
    "\n",
    "base_history = model.fit(X_train[:16667], y_train_original[:16667], \n",
    "                 validation_data=([X_train[16667:], y_train_original[16667:]]),\n",
    "                 batch_size=1, epochs=1)"
   ]
  },
  {
   "cell_type": "code",
   "execution_count": 6,
   "metadata": {},
   "outputs": [
    {
     "name": "stdout",
     "output_type": "stream",
     "text": [
      "25000/25000 [==============================] - 1s 50us/step\n"
     ]
    },
    {
     "data": {
      "text/plain": [
       "[0.2897496792602539, 0.88192]"
      ]
     },
     "execution_count": 6,
     "metadata": {},
     "output_type": "execute_result"
    }
   ],
   "source": [
    "model.evaluate(X_test, y_test_original)"
   ]
  },
  {
   "cell_type": "code",
   "execution_count": 7,
   "metadata": {},
   "outputs": [
    {
     "name": "stdout",
     "output_type": "stream",
     "text": [
      "25000/25000 [==============================] - 1s 50us/step\n"
     ]
    },
    {
     "data": {
      "text/plain": [
       "[0.24866878578186036, 0.90652]"
      ]
     },
     "execution_count": 7,
     "metadata": {},
     "output_type": "execute_result"
    }
   ],
   "source": [
    "model.evaluate(X_train, y_train_original)"
   ]
  },
  {
   "cell_type": "code",
   "execution_count": 8,
   "metadata": {},
   "outputs": [],
   "source": [
    "model.trainable=True"
   ]
  },
  {
   "cell_type": "markdown",
   "metadata": {},
   "source": [
    "### 2nd model"
   ]
  },
  {
   "cell_type": "code",
   "execution_count": 9,
   "metadata": {},
   "outputs": [
    {
     "name": "stdout",
     "output_type": "stream",
     "text": [
      "Train on 16667 samples, validate on 8333 samples\n",
      "Epoch 1/50\n",
      "16667/16667 [==============================] - 218s 13ms/step - loss: 0.3859 - acc: 0.8372 - val_loss: 0.3911 - val_acc: 0.8286\n",
      "Epoch 2/50\n",
      "16667/16667 [==============================] - 214s 13ms/step - loss: 0.3009 - acc: 0.8707 - val_loss: 0.4028 - val_acc: 0.8442\n",
      "Epoch 3/50\n",
      "16667/16667 [==============================] - 228s 14ms/step - loss: 0.2747 - acc: 0.8861 - val_loss: 0.4321 - val_acc: 0.8307\n",
      "Epoch 4/50\n",
      "16667/16667 [==============================] - 251s 15ms/step - loss: 0.2601 - acc: 0.8917 - val_loss: 0.4489 - val_acc: 0.8397\n",
      "Epoch 5/50\n",
      "16667/16667 [==============================] - 261s 16ms/step - loss: 0.2456 - acc: 0.8989 - val_loss: 0.4730 - val_acc: 0.8288\n",
      "Epoch 6/50\n",
      "16667/16667 [==============================] - 244s 15ms/step - loss: 0.2358 - acc: 0.9039 - val_loss: 0.5051 - val_acc: 0.8339\n",
      "Epoch 7/50\n",
      "16667/16667 [==============================] - 241s 14ms/step - loss: 0.2285 - acc: 0.9050 - val_loss: 0.5142 - val_acc: 0.8301\n",
      "Epoch 8/50\n",
      "16667/16667 [==============================] - 239s 14ms/step - loss: 0.2248 - acc: 0.9128 - val_loss: 0.5290 - val_acc: 0.8405\n",
      "Epoch 9/50\n",
      "16667/16667 [==============================] - 270s 16ms/step - loss: 0.2162 - acc: 0.9126 - val_loss: 0.5389 - val_acc: 0.8337\n",
      "Epoch 10/50\n",
      "16667/16667 [==============================] - 288s 17ms/step - loss: 0.2134 - acc: 0.9154 - val_loss: 0.5997 - val_acc: 0.8342\n",
      "Epoch 11/50\n",
      "16667/16667 [==============================] - 286s 17ms/step - loss: 0.2018 - acc: 0.9177 - val_loss: 0.6029 - val_acc: 0.8367\n",
      "Epoch 12/50\n",
      "16667/16667 [==============================] - 295s 18ms/step - loss: 0.2011 - acc: 0.9198 - val_loss: 0.6070 - val_acc: 0.8232\n",
      "Epoch 13/50\n",
      "16667/16667 [==============================] - 298s 18ms/step - loss: 0.1968 - acc: 0.9212 - val_loss: 0.6137 - val_acc: 0.8346\n",
      "Epoch 14/50\n",
      "16667/16667 [==============================] - 295s 18ms/step - loss: 0.1917 - acc: 0.9231 - val_loss: 0.6454 - val_acc: 0.8355\n",
      "Epoch 15/50\n",
      "16667/16667 [==============================] - 299s 18ms/step - loss: 0.1923 - acc: 0.9222 - val_loss: 0.6900 - val_acc: 0.8096\n",
      "Epoch 16/50\n",
      "16667/16667 [==============================] - 301s 18ms/step - loss: 0.1857 - acc: 0.9233 - val_loss: 0.6815 - val_acc: 0.8324\n",
      "Epoch 17/50\n",
      "16667/16667 [==============================] - 303s 18ms/step - loss: 0.1876 - acc: 0.9236 - val_loss: 0.6957 - val_acc: 0.8135\n",
      "Epoch 18/50\n",
      "16667/16667 [==============================] - 285s 17ms/step - loss: 0.1829 - acc: 0.9258 - val_loss: 0.6944 - val_acc: 0.8289\n",
      "Epoch 19/50\n",
      "16667/16667 [==============================] - 206s 12ms/step - loss: 0.1840 - acc: 0.9267 - val_loss: 0.7163 - val_acc: 0.8169\n",
      "Epoch 20/50\n",
      "16667/16667 [==============================] - 204s 12ms/step - loss: 0.1774 - acc: 0.9282 - val_loss: 0.7099 - val_acc: 0.8344\n",
      "Epoch 21/50\n",
      "16667/16667 [==============================] - 192s 12ms/step - loss: 0.1771 - acc: 0.9286 - val_loss: 0.7630 - val_acc: 0.8247\n",
      "Epoch 22/50\n",
      "16667/16667 [==============================] - 200s 12ms/step - loss: 0.1751 - acc: 0.9277 - val_loss: 0.7539 - val_acc: 0.8315\n",
      "Epoch 23/50\n",
      "16667/16667 [==============================] - 195s 12ms/step - loss: 0.1789 - acc: 0.9278 - val_loss: 0.7709 - val_acc: 0.8105\n",
      "Epoch 24/50\n",
      "16667/16667 [==============================] - 211s 13ms/step - loss: 0.1712 - acc: 0.9284 - val_loss: 0.7745 - val_acc: 0.8162\n",
      "Epoch 25/50\n",
      "16667/16667 [==============================] - 204s 12ms/step - loss: 0.1712 - acc: 0.9309 - val_loss: 0.8037 - val_acc: 0.8150\n",
      "Epoch 26/50\n",
      "16667/16667 [==============================] - 180s 11ms/step - loss: 0.1736 - acc: 0.9297 - val_loss: 0.7893 - val_acc: 0.8302\n",
      "Epoch 27/50\n",
      "16667/16667 [==============================] - 192s 12ms/step - loss: 0.1704 - acc: 0.9300 - val_loss: 0.8152 - val_acc: 0.8290\n",
      "Epoch 28/50\n",
      "16667/16667 [==============================] - 186s 11ms/step - loss: 0.1674 - acc: 0.9308 - val_loss: 0.8177 - val_acc: 0.8168\n",
      "Epoch 29/50\n",
      "16667/16667 [==============================] - 192s 12ms/step - loss: 0.1709 - acc: 0.9282 - val_loss: 0.8160 - val_acc: 0.8292\n",
      "Epoch 30/50\n",
      "16667/16667 [==============================] - 188s 11ms/step - loss: 0.1679 - acc: 0.9324 - val_loss: 0.8476 - val_acc: 0.8302\n",
      "Epoch 31/50\n",
      "16667/16667 [==============================] - 190s 11ms/step - loss: 0.1644 - acc: 0.9338 - val_loss: 0.8750 - val_acc: 0.8117\n",
      "Epoch 32/50\n",
      "16667/16667 [==============================] - 198s 12ms/step - loss: 0.1644 - acc: 0.9321 - val_loss: 0.8789 - val_acc: 0.8295\n",
      "Epoch 33/50\n",
      "16667/16667 [==============================] - 189s 11ms/step - loss: 0.1617 - acc: 0.9352 - val_loss: 0.8844 - val_acc: 0.8146\n",
      "Epoch 34/50\n",
      "16667/16667 [==============================] - 193s 12ms/step - loss: 0.1633 - acc: 0.9350 - val_loss: 0.9136 - val_acc: 0.8280\n",
      "Epoch 35/50\n",
      "16667/16667 [==============================] - 189s 11ms/step - loss: 0.1595 - acc: 0.9368 - val_loss: 0.8950 - val_acc: 0.8300\n",
      "Epoch 36/50\n",
      "16667/16667 [==============================] - 194s 12ms/step - loss: 0.1650 - acc: 0.9327 - val_loss: 0.8900 - val_acc: 0.8279\n",
      "Epoch 37/50\n",
      "16667/16667 [==============================] - 188s 11ms/step - loss: 0.1680 - acc: 0.9327 - val_loss: 0.9151 - val_acc: 0.8300\n",
      "Epoch 38/50\n",
      "16667/16667 [==============================] - 191s 11ms/step - loss: 0.1630 - acc: 0.9350 - val_loss: 0.9565 - val_acc: 0.8129\n",
      "Epoch 39/50\n",
      "16667/16667 [==============================] - 189s 11ms/step - loss: 0.1574 - acc: 0.9379 - val_loss: 0.9730 - val_acc: 0.8072\n",
      "Epoch 40/50\n",
      "16667/16667 [==============================] - 186s 11ms/step - loss: 0.1574 - acc: 0.9355 - val_loss: 0.9700 - val_acc: 0.8285\n",
      "Epoch 41/50\n",
      "16667/16667 [==============================] - 194s 12ms/step - loss: 0.1607 - acc: 0.9352 - val_loss: 0.9717 - val_acc: 0.8292\n",
      "Epoch 42/50\n",
      "16667/16667 [==============================] - 186s 11ms/step - loss: 0.1558 - acc: 0.9362 - val_loss: 0.9963 - val_acc: 0.8277\n",
      "Epoch 43/50\n",
      "16667/16667 [==============================] - 185s 11ms/step - loss: 0.1565 - acc: 0.9382 - val_loss: 0.9969 - val_acc: 0.8296\n",
      "Epoch 44/50\n",
      "16667/16667 [==============================] - 195s 12ms/step - loss: 0.1536 - acc: 0.9396 - val_loss: 1.0134 - val_acc: 0.8135\n",
      "Epoch 45/50\n",
      "16667/16667 [==============================] - 188s 11ms/step - loss: 0.1563 - acc: 0.9370 - val_loss: 1.0281 - val_acc: 0.8273\n",
      "Epoch 46/50\n",
      "16667/16667 [==============================] - 187s 11ms/step - loss: 0.1554 - acc: 0.9362 - val_loss: 1.0128 - val_acc: 0.8285\n",
      "Epoch 47/50\n",
      "16667/16667 [==============================] - 179s 11ms/step - loss: 0.1559 - acc: 0.9372 - val_loss: 1.0384 - val_acc: 0.8290\n",
      "Epoch 48/50\n",
      "16667/16667 [==============================] - 182s 11ms/step - loss: 0.1555 - acc: 0.9362 - val_loss: 1.0222 - val_acc: 0.8260\n",
      "Epoch 49/50\n",
      "16667/16667 [==============================] - 166s 10ms/step - loss: 0.1531 - acc: 0.9395 - val_loss: 1.0309 - val_acc: 0.8283\n",
      "Epoch 50/50\n",
      "16667/16667 [==============================] - 108s 6ms/step - loss: 0.1579 - acc: 0.9351 - val_loss: 1.0535 - val_acc: 0.8273\n"
     ]
    }
   ],
   "source": [
    "def layer_split(x):\n",
    "    return tf.split(x,num_or_size_splits=human_terms_len,axis=1)\n",
    "\n",
    "def layer_concat(x):\n",
    "    return tf.concat(x, axis=1)\n",
    "\n",
    "# build the combined model\n",
    "# Combined model\n",
    "human_terms_len = len(word_list)\n",
    "\n",
    "# base_model = build_base_model(X_train.shape[1])\n",
    "\n",
    "combined_input_layer = Input(shape=(X_train.shape[1],))\n",
    "\n",
    "# build the hard coded weight for human terms\n",
    "ht_input_layer = Input(shape=(human_terms_len,))\n",
    "\n",
    "# split = Lambda( lambda x: tf.split(x,num_or_size_splits=human_terms_len,axis=1))(ht_input_layer)\n",
    "split = Lambda(layer_split)(ht_input_layer)\n",
    "\n",
    "# get the document prediction\n",
    "label_layer = model(combined_input_layer)\n",
    "tanh_norm = Lambda(lambda x: (x*2)-1)(label_layer)\n",
    "# tanh_norm = Lambda(lambda x: tf.scalar_mul(2,x)-1)(label_layer)\n",
    "\n",
    "# do normalize of bipolar sigmoid\n",
    "\n",
    "\n",
    "# stack the multiply layer\n",
    "dense_layer = []\n",
    "for i in range(human_terms_len):\n",
    "    dense_layer.append(Dense(1, activation='relu')(Multiply()([split[i], tanh_norm])))\n",
    "\n",
    "# concat all the result   \n",
    "# concat = Lambda( lambda x: tf.concat(x, axis=1), name='concatenate')(dense_layer)\n",
    "concat = Lambda(layer_concat, name='concatenate')(dense_layer)\n",
    "\n",
    "\n",
    "# pass it to sigmoid layer\n",
    "output_layer = Dense(1, activation='sigmoid')(concat)\n",
    "\n",
    "combined_model = Model(inputs=[combined_input_layer, ht_input_layer], outputs=output_layer)\n",
    "# combined_model.summary()\n",
    "\n",
    "\n",
    "combined_model.compile(loss='binary_crossentropy',\n",
    "                      optimizer='adam',\n",
    "                      metrics=['acc'])\n",
    "\n",
    "# y_train_tanh = y_train_original\n",
    "# y_train_tanh[y_train_tanh == 0] = -1\n",
    "\n",
    "# y_test_tanh = y_test_original\n",
    "# y_test_tanh[y_test_tanh == 0] = -1\n",
    "\n",
    "# base_model_history = base_model.fit(X_train[:16667], y_train_original[:16667], \n",
    "#                                     validation_data=(X_train[16667:], y_train_original[16667:]),\n",
    "#                                     batch_size=1, epochs=1)\n",
    "\n",
    "combined_model_history = combined_model.fit([X_train[:16667],y_train_agreement[:16667]], y_train_original[:16667], \n",
    "                                            validation_data=([X_train[16667:], y_train_agreement[16667:]], y_train_original[16667:]),\n",
    "                                            batch_size=1, epochs=50)"
   ]
  },
  {
   "cell_type": "code",
   "execution_count": 10,
   "metadata": {},
   "outputs": [
    {
     "name": "stdout",
     "output_type": "stream",
     "text": [
      "25000/25000 [==============================] - 2s 73us/step\n"
     ]
    },
    {
     "data": {
      "text/plain": [
       "[1.041541219329834, 0.82504]"
      ]
     },
     "execution_count": 10,
     "metadata": {},
     "output_type": "execute_result"
    }
   ],
   "source": [
    "combined_model.evaluate([X_test, y_test_agreement], y_test_original)"
   ]
  },
  {
   "cell_type": "code",
   "execution_count": 11,
   "metadata": {},
   "outputs": [
    {
     "name": "stdout",
     "output_type": "stream",
     "text": [
      "25000/25000 [==============================] - 2s 73us/step\n"
     ]
    },
    {
     "data": {
      "text/plain": [
       "[0.4458063873142004, 0.90748]"
      ]
     },
     "execution_count": 11,
     "metadata": {},
     "output_type": "execute_result"
    }
   ],
   "source": [
    "combined_model.evaluate([X_train, y_train_agreement], y_train_original)"
   ]
  },
  {
   "cell_type": "code",
   "execution_count": 12,
   "metadata": {},
   "outputs": [
    {
     "data": {
      "image/png": "[encoded data removed]",
      "text/plain": [
       "<Figure size 432x288 with 1 Axes>"
      ]
     },
     "metadata": {},
     "output_type": "display_data"
    },
    {
     "data": {
      "image/png": "[encoded data removed]",
      "text/plain": [
       "<Figure size 432x288 with 1 Axes>"
      ]
     },
     "metadata": {},
     "output_type": "display_data"
    },
    {
     "data": {
      "text/plain": [
       "<Figure size 432x288 with 0 Axes>"
      ]
     },
     "metadata": {},
     "output_type": "display_data"
    }
   ],
   "source": [
    "history_plot(base_history,'RDclf')"
   ]
  },
  {
   "cell_type": "code",
   "execution_count": 13,
   "metadata": {},
   "outputs": [
    {
     "data": {
      "image/png": "[encoded data removed]",
      "text/plain": [
       "<Figure size 432x288 with 1 Axes>"
      ]
     },
     "metadata": {},
     "output_type": "display_data"
    },
    {
     "data": {
      "image/png": "[encoded data removed]",
      "text/plain": [
       "<Figure size 432x288 with 1 Axes>"
      ]
     },
     "metadata": {},
     "output_type": "display_data"
    },
    {
     "data": {
      "text/plain": [
       "<Figure size 432x288 with 0 Axes>"
      ]
     },
     "metadata": {},
     "output_type": "display_data"
    }
   ],
   "source": [
    "history_plot(combined_model_history,'TTclf')"
   ]
  }
 ],
 "metadata": {
  "kernelspec": {
   "display_name": "Python 3",
   "language": "python",
   "name": "python3"
  },
  "language_info": {
   "codemirror_mode": {
    "name": "ipython",
    "version": 3
   },
   "file_extension": ".py",
   "mimetype": "text/x-python",
   "name": "python",
   "nbconvert_exporter": "python",
   "pygments_lexer": "ipython3",
   "version": "3.6.6"
  }
 },
 "nbformat": 4,
 "nbformat_minor": 2
}

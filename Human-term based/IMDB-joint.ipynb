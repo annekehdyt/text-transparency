{
 "cells": [
  {
   "cell_type": "code",
   "execution_count": 1,
   "metadata": {},
   "outputs": [
    {
     "name": "stderr",
     "output_type": "stream",
     "text": [
      "Using TensorFlow backend.\n"
     ]
    }
   ],
   "source": [
    "import numpy as np\n",
    "from numpy.random import seed\n",
    "import tensorflow as tf\n",
    "\n",
    "from tensorflow import set_random_seed\n",
    "seed(42)\n",
    "set_random_seed(42)\n",
    "\n",
    "from keras.layers import Input, Dense, TimeDistributed, Embedding\n",
    "from keras.layers import Concatenate, Reshape, Lambda, Multiply, multiply, concatenate\n",
    "from keras.models import Model\n",
    "from keras import backend as K\n",
    "\n",
    "import matplotlib.pyplot as plt\n",
    "from matplotlib import style\n",
    "\n",
    "style.use('seaborn-whitegrid')\n",
    "\n",
    "def open_pickle(path):\n",
    "    import pickle\n",
    "    with open(path, 'rb') as f:\n",
    "        X = pickle.load(f)\n",
    "    return X\n",
    "\n",
    "def load_unigrams(path, X, y):\n",
    "    word_list = []\n",
    "    connotation = {}\n",
    "    \n",
    "    with open(path, 'r', encoding='utf8') as f:\n",
    "        for line in f:\n",
    "            word_list.append(line.strip())\n",
    "            \n",
    "    for word in word_list:\n",
    "        pos_count = 0\n",
    "        neg_count = 0\n",
    "        for i, doc in enumerate(X):\n",
    "            if word in doc.lower():\n",
    "                \n",
    "                if (y[i] == 1):\n",
    "                    pos_count += 1\n",
    "                else:\n",
    "                    neg_count += 1\n",
    "                    \n",
    "        if pos_count > neg_count:\n",
    "            connotation[word] = 1\n",
    "        else:\n",
    "            connotation[word] = 0\n",
    "    \n",
    "    return word_list, connotation\n",
    "\n",
    "def generate_appearance(X_train_corpus, X_test_corpus, word_list, connotation):\n",
    "    y_train_agreement = []\n",
    "    for i in range(len(X_train_corpus)):\n",
    "        doc_agreement = []\n",
    "        for word in word_list:\n",
    "            if word in X_train_corpus[i]:\n",
    "                if connotation[word] == 1:\n",
    "                    doc_agreement.append(1)\n",
    "                else:\n",
    "                    doc_agreement.append(-1)\n",
    "            else:\n",
    "                doc_agreement.append(0)\n",
    "        y_train_agreement.append(doc_agreement)\n",
    "        \n",
    "    y_test_agreement = []\n",
    "    for i in range(len(X_test_corpus)):\n",
    "        doc_agreement = []\n",
    "        for word in word_list:\n",
    "            if word in X_test_corpus[i]:\n",
    "                if connotation[word] == 1:\n",
    "                    doc_agreement.append(1)\n",
    "                else:\n",
    "                    doc_agreement.append(-1)\n",
    "            else:\n",
    "                doc_agreement.append(0)\n",
    "        y_test_agreement.append(doc_agreement)\n",
    "        \n",
    "    return np.array(y_train_agreement), np.array(y_test_agreement)\n",
    "\n",
    "# 'imdb-unigrams.txt'\n",
    "\n",
    "X_train_original = open_pickle('../../data/imdb/imdb_original_preprocessed_xtrain.pickle')\n",
    "X_test_original = open_pickle('../../data/imdb/imdb_original_preprocessed_xtest.pickle')\n",
    "y_train_original = open_pickle('../../data/imdb/imdb_original_preprocessed_ytrain.pickle')\n",
    "y_test_original = open_pickle('../../data/imdb/imdb_original_preprocessed_ytest.pickle')\n",
    "\n",
    "# Count vectorizer \n",
    "\n",
    "from sklearn.feature_extraction.text import CountVectorizer\n",
    "\n",
    "token = r\"(?u)\\b[\\w\\'/]+\\b\"\n",
    "cv = CountVectorizer(min_df = 100, token_pattern=token, lowercase=True, binary=True)\n",
    "X_train = cv.fit_transform(X_train_original)\n",
    "X_test = cv.transform(X_test_original)\n",
    "\n",
    "# word_list, connotation = load_unigrams('./imdb-unigrams.txt', X_train_original, y_train_original)\n",
    "word_list, connotation = load_unigrams('./amazon-video-unigrams.txt', X_train_original, y_train_original)\n",
    "\n",
    "y_train_agreement, y_test_agreement = generate_appearance(X_train_original, X_test_original, \n",
    "                                                          word_list, connotation)\n",
    "\n",
    "\n",
    "def history_plot(history, model_name):\n",
    "    plt.plot(history.history['acc'])\n",
    "    plt.plot(history.history['val_acc'])\n",
    "        \n",
    "    title = model_name + 'accuracy'\n",
    "    plt.title(title)\n",
    "    plt.xlabel('epoch')\n",
    "    plt.legend(['tr_acc', 'val_acc'], loc='upper left')\n",
    "    plt.show()\n",
    "    plt.clf()\n",
    "\n",
    "    plt.plot(history.history['loss'], 'm--')\n",
    "    plt.plot(history.history['val_loss'], 'y--')\n",
    "\n",
    "    title = model_name + 'loss'\n",
    "    plt.title(title)\n",
    "    plt.xlabel('epoch')\n",
    "    plt.legend(['tr_loss', 'val_loss'], loc='upper left')\n",
    "    plt.show()\n",
    "    plt.clf()"
   ]
  },
  {
   "cell_type": "markdown",
   "metadata": {},
   "source": [
    "### Test the custom loss"
   ]
  },
  {
   "cell_type": "code",
   "execution_count": 2,
   "metadata": {},
   "outputs": [],
   "source": [
    "# # https://stackoverflow.com/questions/48951109/keras-custom-binary-cross-entropy-loss-function-get-nan-as-output-for-loss\n",
    "\n",
    "# def custom_cross_entropy(y_true, y_pred):\n",
    "#     t_loss = K.max(y_pred,0)-y_pred * y_true + K.log(1+K.exp((-1)*K.abs(y_pred)))\n",
    "#     return K.mean(t_loss)\n",
    "\n",
    "# from keras.initializers import Constant, glorot_uniform\n",
    "\n",
    "# input_layer = Input(shape=(X_train.shape[1],))\n",
    "# tanh_output = Dense(1, activation='sigmoid', kernel_initializer=glorot_uniform(seed=42))(input_layer)\n",
    "# model = Model(inputs=input_layer, outputs=tanh_output)\n",
    "\n",
    "# model.compile(loss=custom_cross_entropy,\n",
    "#              metrics=['acc'],\n",
    "#              optimizer='adam')\n",
    "\n",
    "# model.fit(X_train[:16667], y_train_original[:16667], \n",
    "#          validation_data=([X_train[16667:], y_train_original[16667:]]),\n",
    "#          batch_size=1, epochs=1)"
   ]
  },
  {
   "cell_type": "code",
   "execution_count": 3,
   "metadata": {},
   "outputs": [],
   "source": [
    "# model.evaluate(X_test, y_test_original)"
   ]
  },
  {
   "cell_type": "code",
   "execution_count": 4,
   "metadata": {},
   "outputs": [],
   "source": [
    "# model.evaluate(X_train, y_train_original)"
   ]
  },
  {
   "cell_type": "markdown",
   "metadata": {},
   "source": [
    "### 1st model"
   ]
  },
  {
   "cell_type": "code",
   "execution_count": 5,
   "metadata": {},
   "outputs": [],
   "source": [
    "from keras.initializers import Constant, glorot_uniform\n",
    "\n",
    "input_layer = Input(shape=(X_train.shape[1],))\n",
    "tanh_output = Dense(1, activation='sigmoid', kernel_initializer=glorot_uniform(seed=42))(input_layer)\n",
    "model = Model(inputs=input_layer, outputs=tanh_output)\n",
    "\n",
    "model.compile(loss='binary_crossentropy',\n",
    "             metrics=['acc'],\n",
    "             optimizer='adam')\n",
    "\n",
    "# base_history = model.fit(X_train[:16667], y_train_original[:16667], \n",
    "#                  validation_data=([X_train[16667:], y_train_original[16667:]]),\n",
    "#                  batch_size=1, epochs=1)"
   ]
  },
  {
   "cell_type": "code",
   "execution_count": 6,
   "metadata": {},
   "outputs": [],
   "source": [
    "# model.evaluate(X_test, y_test_original)"
   ]
  },
  {
   "cell_type": "code",
   "execution_count": 7,
   "metadata": {},
   "outputs": [],
   "source": [
    "# model.evaluate(X_train, y_train_original)"
   ]
  },
  {
   "cell_type": "code",
   "execution_count": 8,
   "metadata": {},
   "outputs": [],
   "source": [
    "# model.trainable=True"
   ]
  },
  {
   "cell_type": "markdown",
   "metadata": {},
   "source": [
    "### 2nd model"
   ]
  },
  {
   "cell_type": "code",
   "execution_count": 9,
   "metadata": {},
   "outputs": [
    {
     "name": "stdout",
     "output_type": "stream",
     "text": [
      "Train on 16667 samples, validate on 8333 samples\n",
      "Epoch 1/50\n",
      "16667/16667 [==============================] - 132s 8ms/step - loss: 0.5926 - acc: 0.6597 - val_loss: 0.5782 - val_acc: 0.6683\n",
      "Epoch 2/50\n",
      "16667/16667 [==============================] - 130s 8ms/step - loss: 0.5763 - acc: 0.6708 - val_loss: 0.5780 - val_acc: 0.6681\n",
      "Epoch 3/50\n",
      "16667/16667 [==============================] - 128s 8ms/step - loss: 0.5762 - acc: 0.6710 - val_loss: 0.5781 - val_acc: 0.6683\n",
      "Epoch 4/50\n",
      "16667/16667 [==============================] - 124s 7ms/step - loss: 0.5762 - acc: 0.6716 - val_loss: 0.5788 - val_acc: 0.6687\n",
      "Epoch 5/50\n",
      "16667/16667 [==============================] - 95s 6ms/step - loss: 0.5762 - acc: 0.6717 - val_loss: 0.5786 - val_acc: 0.6683\n",
      "Epoch 6/50\n",
      "16667/16667 [==============================] - 77s 5ms/step - loss: 0.5763 - acc: 0.6720 - val_loss: 0.5782 - val_acc: 0.6683\n",
      "Epoch 7/50\n",
      "16667/16667 [==============================] - 78s 5ms/step - loss: 0.5759 - acc: 0.6712 - val_loss: 0.5786 - val_acc: 0.6685\n",
      "Epoch 8/50\n",
      "16667/16667 [==============================] - 78s 5ms/step - loss: 0.5752 - acc: 0.6723 - val_loss: 0.5758 - val_acc: 0.6757\n",
      "Epoch 9/50\n",
      "16667/16667 [==============================] - 79s 5ms/step - loss: 0.5703 - acc: 0.6809 - val_loss: 0.5726 - val_acc: 0.6775\n",
      "Epoch 10/50\n",
      "16667/16667 [==============================] - 78s 5ms/step - loss: 0.5694 - acc: 0.6809 - val_loss: 0.5731 - val_acc: 0.6773\n",
      "Epoch 11/50\n",
      "16667/16667 [==============================] - 78s 5ms/step - loss: 0.5689 - acc: 0.6809 - val_loss: 0.5733 - val_acc: 0.6772\n",
      "Epoch 12/50\n",
      "16667/16667 [==============================] - 78s 5ms/step - loss: 0.5686 - acc: 0.6810 - val_loss: 0.5747 - val_acc: 0.6772\n",
      "Epoch 13/50\n",
      "16667/16667 [==============================] - 78s 5ms/step - loss: 0.5684 - acc: 0.6823 - val_loss: 0.5746 - val_acc: 0.6777\n",
      "Epoch 14/50\n",
      "16667/16667 [==============================] - 78s 5ms/step - loss: 0.5677 - acc: 0.6830 - val_loss: 0.5745 - val_acc: 0.6768\n",
      "Epoch 15/50\n",
      "16667/16667 [==============================] - 78s 5ms/step - loss: 0.5669 - acc: 0.6832 - val_loss: 0.5748 - val_acc: 0.6768\n",
      "Epoch 16/50\n",
      "16667/16667 [==============================] - 78s 5ms/step - loss: 0.5656 - acc: 0.6852 - val_loss: 0.5758 - val_acc: 0.6772\n",
      "Epoch 17/50\n",
      "16667/16667 [==============================] - 78s 5ms/step - loss: 0.5642 - acc: 0.6866 - val_loss: 0.5747 - val_acc: 0.6783\n",
      "Epoch 18/50\n",
      "16667/16667 [==============================] - 78s 5ms/step - loss: 0.5617 - acc: 0.6881 - val_loss: 0.5742 - val_acc: 0.6784\n",
      "Epoch 19/50\n",
      "16667/16667 [==============================] - 78s 5ms/step - loss: 0.5604 - acc: 0.6902 - val_loss: 0.5740 - val_acc: 0.6796\n",
      "Epoch 20/50\n",
      "16667/16667 [==============================] - 78s 5ms/step - loss: 0.5584 - acc: 0.6907 - val_loss: 0.5731 - val_acc: 0.6798\n",
      "Epoch 21/50\n",
      "16667/16667 [==============================] - 78s 5ms/step - loss: 0.5568 - acc: 0.6918 - val_loss: 0.5746 - val_acc: 0.6802\n",
      "Epoch 22/50\n",
      "16667/16667 [==============================] - 78s 5ms/step - loss: 0.5557 - acc: 0.6931 - val_loss: 0.5749 - val_acc: 0.6805\n",
      "Epoch 23/50\n",
      "16667/16667 [==============================] - 78s 5ms/step - loss: 0.5557 - acc: 0.6935 - val_loss: 0.5748 - val_acc: 0.6805\n",
      "Epoch 24/50\n",
      "16667/16667 [==============================] - 78s 5ms/step - loss: 0.5539 - acc: 0.6936 - val_loss: 0.5737 - val_acc: 0.6798\n",
      "Epoch 25/50\n",
      "16667/16667 [==============================] - 78s 5ms/step - loss: 0.5537 - acc: 0.6944 - val_loss: 0.5758 - val_acc: 0.6797\n",
      "Epoch 26/50\n",
      "16667/16667 [==============================] - 78s 5ms/step - loss: 0.5528 - acc: 0.6944 - val_loss: 0.5757 - val_acc: 0.6809\n",
      "Epoch 27/50\n",
      "16667/16667 [==============================] - 78s 5ms/step - loss: 0.5528 - acc: 0.6953 - val_loss: 0.5766 - val_acc: 0.6805\n",
      "Epoch 28/50\n",
      "16667/16667 [==============================] - 78s 5ms/step - loss: 0.5516 - acc: 0.6956 - val_loss: 0.5776 - val_acc: 0.6807\n",
      "Epoch 29/50\n",
      "16667/16667 [==============================] - 78s 5ms/step - loss: 0.5511 - acc: 0.6959 - val_loss: 0.5786 - val_acc: 0.6801\n",
      "Epoch 30/50\n",
      "16667/16667 [==============================] - 78s 5ms/step - loss: 0.5508 - acc: 0.6966 - val_loss: 0.5813 - val_acc: 0.6801\n",
      "Epoch 31/50\n",
      "16667/16667 [==============================] - 78s 5ms/step - loss: 0.5497 - acc: 0.6969 - val_loss: 0.5792 - val_acc: 0.6795\n",
      "Epoch 32/50\n",
      "16667/16667 [==============================] - 78s 5ms/step - loss: 0.5493 - acc: 0.6966 - val_loss: 0.5789 - val_acc: 0.6799\n",
      "Epoch 33/50\n",
      "16667/16667 [==============================] - 78s 5ms/step - loss: 0.5490 - acc: 0.6963 - val_loss: 0.5814 - val_acc: 0.6804\n",
      "Epoch 34/50\n",
      "16667/16667 [==============================] - 78s 5ms/step - loss: 0.5491 - acc: 0.6981 - val_loss: 0.5833 - val_acc: 0.6805\n",
      "Epoch 35/50\n",
      "16667/16667 [==============================] - 78s 5ms/step - loss: 0.5481 - acc: 0.6980 - val_loss: 0.5845 - val_acc: 0.6803\n",
      "Epoch 36/50\n",
      "16667/16667 [==============================] - 78s 5ms/step - loss: 0.5489 - acc: 0.6983 - val_loss: 0.5817 - val_acc: 0.6797\n",
      "Epoch 37/50\n",
      "16667/16667 [==============================] - 78s 5ms/step - loss: 0.5462 - acc: 0.6986 - val_loss: 0.5855 - val_acc: 0.6792\n",
      "Epoch 38/50\n",
      "16667/16667 [==============================] - 78s 5ms/step - loss: 0.5474 - acc: 0.6990 - val_loss: 0.5847 - val_acc: 0.6797\n",
      "Epoch 39/50\n",
      "16667/16667 [==============================] - 78s 5ms/step - loss: 0.5465 - acc: 0.6989 - val_loss: 0.5825 - val_acc: 0.6801\n",
      "Epoch 40/50\n",
      "16667/16667 [==============================] - 78s 5ms/step - loss: 0.5456 - acc: 0.6998 - val_loss: 0.5851 - val_acc: 0.6799\n",
      "Epoch 41/50\n",
      "16667/16667 [==============================] - 78s 5ms/step - loss: 0.5473 - acc: 0.6995 - val_loss: 0.5857 - val_acc: 0.6802\n",
      "Epoch 42/50\n",
      "16667/16667 [==============================] - 78s 5ms/step - loss: 0.5454 - acc: 0.7001 - val_loss: 0.5855 - val_acc: 0.6801\n",
      "Epoch 43/50\n",
      "16667/16667 [==============================] - 78s 5ms/step - loss: 0.5463 - acc: 0.6991 - val_loss: 0.5841 - val_acc: 0.6810\n",
      "Epoch 44/50\n",
      "16667/16667 [==============================] - 78s 5ms/step - loss: 0.5446 - acc: 0.7001 - val_loss: 0.5845 - val_acc: 0.6805\n",
      "Epoch 45/50\n",
      "16667/16667 [==============================] - 78s 5ms/step - loss: 0.5454 - acc: 0.7003 - val_loss: 0.5868 - val_acc: 0.6811\n",
      "Epoch 46/50\n",
      "16667/16667 [==============================] - 78s 5ms/step - loss: 0.5449 - acc: 0.7002 - val_loss: 0.5853 - val_acc: 0.6811\n",
      "Epoch 47/50\n",
      "16667/16667 [==============================] - 78s 5ms/step - loss: 0.5444 - acc: 0.7005 - val_loss: 0.5848 - val_acc: 0.6807\n",
      "Epoch 48/50\n",
      "16667/16667 [==============================] - 78s 5ms/step - loss: 0.5452 - acc: 0.7013 - val_loss: 0.5889 - val_acc: 0.6813\n",
      "Epoch 49/50\n",
      "16667/16667 [==============================] - 78s 5ms/step - loss: 0.5453 - acc: 0.7022 - val_loss: 0.5869 - val_acc: 0.6811\n",
      "Epoch 50/50\n",
      "16667/16667 [==============================] - 78s 5ms/step - loss: 0.5448 - acc: 0.7014 - val_loss: 0.5933 - val_acc: 0.6807\n"
     ]
    }
   ],
   "source": [
    "def layer_split(x):\n",
    "    return tf.split(x,num_or_size_splits=human_terms_len,axis=1)\n",
    "\n",
    "def layer_concat(x):\n",
    "    return tf.concat(x, axis=1)\n",
    "\n",
    "# build the combined model\n",
    "# Combined model\n",
    "human_terms_len = len(word_list)\n",
    "\n",
    "# base_model = build_base_model(X_train.shape[1])\n",
    "\n",
    "combined_input_layer = Input(shape=(X_train.shape[1],))\n",
    "\n",
    "# build the hard coded weight for human terms\n",
    "ht_input_layer = Input(shape=(human_terms_len,))\n",
    "\n",
    "# split = Lambda( lambda x: tf.split(x,num_or_size_splits=human_terms_len,axis=1))(ht_input_layer)\n",
    "split = Lambda(layer_split)(ht_input_layer)\n",
    "\n",
    "# get the document prediction\n",
    "label_layer = model(combined_input_layer)\n",
    "tanh_norm = Lambda(lambda x: (x*2)-1)(label_layer)\n",
    "# tanh_norm = Lambda(lambda x: tf.scalar_mul(2,x)-1)(label_layer)\n",
    "\n",
    "# do normalize of bipolar sigmoid\n",
    "\n",
    "\n",
    "# stack the multiply layer\n",
    "dense_layer = []\n",
    "for i in range(human_terms_len):\n",
    "    dense_layer.append(Dense(1, activation='relu', use_bias=False)(Multiply()([split[i], tanh_norm])))\n",
    "\n",
    "# concat all the result   \n",
    "# concat = Lambda( lambda x: tf.concat(x, axis=1), name='concatenate')(dense_layer)\n",
    "concat = Lambda(layer_concat, name='concatenate')(dense_layer)\n",
    "\n",
    "\n",
    "# pass it to sigmoid layer\n",
    "output_layer = Dense(1, activation='sigmoid')(concat)\n",
    "\n",
    "combined_model = Model(inputs=[combined_input_layer, ht_input_layer], outputs=output_layer)\n",
    "# combined_model.summary()\n",
    "\n",
    "\n",
    "combined_model.compile(loss='binary_crossentropy',\n",
    "                      optimizer='adam',\n",
    "                      metrics=['acc'])\n",
    "\n",
    "# y_train_tanh = y_train_original\n",
    "# y_train_tanh[y_train_tanh == 0] = -1\n",
    "\n",
    "# y_test_tanh = y_test_original\n",
    "# y_test_tanh[y_test_tanh == 0] = -1\n",
    "\n",
    "# base_model_history = base_model.fit(X_train[:16667], y_train_original[:16667], \n",
    "#                                     validation_data=(X_train[16667:], y_train_original[16667:]),\n",
    "#                                     batch_size=1, epochs=1)\n",
    "\n",
    "combined_model_history = combined_model.fit([X_train[:16667],y_train_agreement[:16667]], y_train_original[:16667], \n",
    "                                            validation_data=([X_train[16667:], y_train_agreement[16667:]], y_train_original[16667:]),\n",
    "                                            batch_size=1, epochs=50)"
   ]
  },
  {
   "cell_type": "code",
   "execution_count": 10,
   "metadata": {},
   "outputs": [
    {
     "name": "stdout",
     "output_type": "stream",
     "text": [
      "25000/25000 [==============================] - 2s 66us/step\n"
     ]
    },
    {
     "data": {
      "text/plain": [
       "[0.5846143264770508, 0.68484]"
      ]
     },
     "execution_count": 10,
     "metadata": {},
     "output_type": "execute_result"
    }
   ],
   "source": [
    "combined_model.evaluate([X_test, y_test_agreement], y_test_original)"
   ]
  },
  {
   "cell_type": "code",
   "execution_count": 11,
   "metadata": {},
   "outputs": [
    {
     "name": "stdout",
     "output_type": "stream",
     "text": [
      "25000/25000 [==============================] - 2s 66us/step\n"
     ]
    },
    {
     "data": {
      "text/plain": [
       "[0.560328256034851, 0.69552]"
      ]
     },
     "execution_count": 11,
     "metadata": {},
     "output_type": "execute_result"
    }
   ],
   "source": [
    "combined_model.evaluate([X_train, y_train_agreement], y_train_original)"
   ]
  },
  {
   "cell_type": "code",
   "execution_count": 12,
   "metadata": {},
   "outputs": [],
   "source": [
    "def accuracy_reject(combined_model, X, y_agreement, y):\n",
    "    human_terms_relu_model = Model(inputs=combined_model.input,\n",
    "                                    outputs=combined_model.get_layer('concatenate').output)\n",
    "    predict_relu = human_terms_relu_model.predict([X, y_agreement])\n",
    "    accept_indices = np.where(np.sum(predict_relu, axis=1)!=0)\n",
    "    accept_indices = accept_indices[0]\n",
    "    total_reject = X.shape[0] - len(accept_indices)\n",
    "    rejection_rate = total_reject/X.shape[0]\n",
    "\n",
    "    test_eval = combined_model.evaluate([X[accept_indices], y_agreement[accept_indices]], y[accept_indices])\n",
    "    \n",
    "    return test_eval, rejection_rate, total_reject"
   ]
  },
  {
   "cell_type": "code",
   "execution_count": 13,
   "metadata": {},
   "outputs": [
    {
     "name": "stdout",
     "output_type": "stream",
     "text": [
      "13898/13898 [==============================] - 1s 66us/step\n"
     ]
    },
    {
     "data": {
      "text/plain": [
       "([0.500415791811952, 0.7999712188975693], 0.44408, 11102)"
      ]
     },
     "execution_count": 13,
     "metadata": {},
     "output_type": "execute_result"
    }
   ],
   "source": [
    "accuracy_reject(combined_model, X_test, y_test_agreement, y_test_original)"
   ]
  },
  {
   "cell_type": "code",
   "execution_count": 14,
   "metadata": {},
   "outputs": [
    {
     "name": "stdout",
     "output_type": "stream",
     "text": [
      "13938/13938 [==============================] - 1s 66us/step\n"
     ]
    },
    {
     "data": {
      "text/plain": [
       "([0.45804684110224236, 0.8151815181689208], 0.44248, 11062)"
      ]
     },
     "execution_count": 14,
     "metadata": {},
     "output_type": "execute_result"
    }
   ],
   "source": [
    "accuracy_reject(combined_model, X_train, y_train_agreement, y_train_original)"
   ]
  },
  {
   "cell_type": "code",
   "execution_count": 15,
   "metadata": {},
   "outputs": [
    {
     "name": "stdout",
     "output_type": "stream",
     "text": [
      "25000/25000 [==============================] - 2s 66us/step\n",
      "25000/25000 [==============================] - 2s 66us/step\n",
      "13898/13898 [==============================] - 1s 67us/step\n",
      "13938/13938 [==============================] - 1s 66us/step\n"
     ]
    }
   ],
   "source": [
    "test_ev = combined_model.evaluate([X_test, y_test_agreement], y_test_original)\n",
    "train_ev = combined_model.evaluate([X_train, y_train_agreement], y_train_original)\n",
    "\n",
    "def accuracy_reject(combined_model, X, y_agreement, y):\n",
    "    human_terms_relu_model = Model(inputs=combined_model.input,\n",
    "                                    outputs=combined_model.get_layer('concatenate').output)\n",
    "    predict_relu = human_terms_relu_model.predict([X, y_agreement])\n",
    "    accept_indices = np.where(np.sum(predict_relu, axis=1)!=0)\n",
    "    accept_indices = accept_indices[0]\n",
    "    total_reject = X.shape[0] - len(accept_indices)\n",
    "    rejection_rate = total_reject/X.shape[0]\n",
    "\n",
    "    test_eval = combined_model.evaluate([X[accept_indices], y_agreement[accept_indices]], y[accept_indices])\n",
    "    \n",
    "    return test_eval, rejection_rate, total_reject\n",
    "\n",
    "test_ev_reject = accuracy_reject(combined_model, X_test, y_test_agreement, y_test_original)\n",
    "train_ev_reject = accuracy_reject(combined_model, X_train, y_train_agreement, y_train_original)"
   ]
  },
  {
   "cell_type": "code",
   "execution_count": 16,
   "metadata": {},
   "outputs": [
    {
     "name": "stdout",
     "output_type": "stream",
     "text": [
      "0.560328 \t 0.695520\n",
      "0.584614 \t 0.684840\n",
      "0.458047 \t 0.815182 \t 0.442480 \t 11062\n",
      "0.500416 \t 0.799971 \t 0.444080 \t 11102\n"
     ]
    }
   ],
   "source": [
    "print('%f \\t %f' %(train_ev[0], train_ev[1]))\n",
    "print('%f \\t %f' %(test_ev[0], test_ev[1]))\n",
    "print('%f \\t %f \\t %f \\t %d' %(train_ev_reject[0][0], train_ev_reject[0][1], train_ev_reject[1], train_ev_reject[2]))\n",
    "print('%f \\t %f \\t %f \\t %d' %(test_ev_reject[0][0], test_ev_reject[0][1], test_ev_reject[1], test_ev_reject[2]))"
   ]
  },
  {
   "cell_type": "code",
   "execution_count": 17,
   "metadata": {},
   "outputs": [],
   "source": [
    "# history_plot(base_history,'RDclf')"
   ]
  },
  {
   "cell_type": "code",
   "execution_count": 18,
   "metadata": {},
   "outputs": [
    {
     "data": {
      "image/png": "[encoded data removed]",
      "text/plain": [
       "<Figure size 432x288 with 1 Axes>"
      ]
     },
     "metadata": {},
     "output_type": "display_data"
    },
    {
     "data": {
      "image/png": "[encoded data removed]",
      "text/plain": [
       "<Figure size 432x288 with 1 Axes>"
      ]
     },
     "metadata": {},
     "output_type": "display_data"
    },
    {
     "data": {
      "text/plain": [
       "<Figure size 432x288 with 0 Axes>"
      ]
     },
     "metadata": {},
     "output_type": "display_data"
    }
   ],
   "source": [
    "history_plot(combined_model_history,'TTclf')"
   ]
  },
  {
   "cell_type": "code",
   "execution_count": 19,
   "metadata": {},
   "outputs": [],
   "source": [
    "# combined_model.save('./figure/stable-imdb-50-50-joint.h5')"
   ]
  },
  {
   "cell_type": "code",
   "execution_count": null,
   "metadata": {},
   "outputs": [],
   "source": []
  }
 ],
 "metadata": {
  "kernelspec": {
   "display_name": "Python 3",
   "language": "python",
   "name": "python3"
  },
  "language_info": {
   "codemirror_mode": {
    "name": "ipython",
    "version": 3
   },
   "file_extension": ".py",
   "mimetype": "text/x-python",
   "name": "python",
   "nbconvert_exporter": "python",
   "pygments_lexer": "ipython3",
   "version": "3.6.6"
  }
 },
 "nbformat": 4,
 "nbformat_minor": 2
}

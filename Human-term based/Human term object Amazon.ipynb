{
 "cells": [
  {
   "cell_type": "code",
   "execution_count": 11,
   "metadata": {},
   "outputs": [],
   "source": [
    "import numpy as np\n",
    "\n",
    "from human_terms_network import Human_Terms_Network\n",
    "from dataset_load import *\n",
    "from lr_baseline import LRBaseline"
   ]
  },
  {
   "cell_type": "code",
   "execution_count": 2,
   "metadata": {},
   "outputs": [
    {
     "name": "stdout",
     "output_type": "stream",
     "text": [
      "(75, 2)\n",
      "corpus update start\n",
      "corpus update end\n",
      "\n",
      "(75, 2)\n",
      "corpus update start\n",
      "corpus update end\n",
      "\n"
     ]
    }
   ],
   "source": [
    "path = r\"..\\..\\data\\reviews_Amazon_Instant_Video_5.json.gz\"\n",
    "\n",
    "X, y = extract_review_amazon(path, 'reviewText')\n",
    "\n",
    "y_label = y\n",
    "# discard the review with 3. [1,2] = 0, [4,5] = 0\n",
    "neutral_indices = np.where(y_label == 3)[0]\n",
    "y_label[y_label<3] = 0\n",
    "y_label[y_label>3] = 1\n",
    "\n",
    "X_discarded = np.delete(X,neutral_indices)\n",
    "y_discarded = np.delete(y_label, neutral_indices)\n",
    "\n",
    "from sklearn.model_selection import train_test_split\n",
    "\n",
    "X_train_split, X_test_split, y_train_amazon, y_test_amazon = train_test_split(\n",
    "    X_discarded, y_discarded)\n",
    "\n",
    "X_train_corpus_update = update_corpus_contraction(X_train_split)\n",
    "X_test_corpus_update = update_corpus_contraction(X_test_split)\n",
    "\n"
   ]
  },
  {
   "cell_type": "code",
   "execution_count": 3,
   "metadata": {},
   "outputs": [],
   "source": [
    "word_list, connotation = load_unigrams('./amazon-video-unigrams.txt', X_train_corpus_update, y_train_amazon)"
   ]
  },
  {
   "cell_type": "code",
   "execution_count": 4,
   "metadata": {},
   "outputs": [],
   "source": [
    "y_train_agreement, y_test_agreement = generate_appearance(X_train_corpus_update, X_test_corpus_update, \n",
    "                                                          word_list, connotation)"
   ]
  },
  {
   "cell_type": "code",
   "execution_count": 5,
   "metadata": {},
   "outputs": [],
   "source": [
    "av_baseline = LRBaseline(X_train_corpus_update, X_test_corpus_update, y_train_amazon, y_test_amazon, \n",
    "                           human_terms=word_list)"
   ]
  },
  {
   "cell_type": "code",
   "execution_count": 6,
   "metadata": {},
   "outputs": [
    {
     "name": "stdout",
     "output_type": "stream",
     "text": [
      "(0.9545012953367875, 0.9287188828172435)\n",
      "(0.9542179404145078, 0.929204614450516)\n",
      "(0.9021615932642487, 0.9061323618700667)\n",
      "(0.9021615932642487, 0.9061323618700667)\n"
     ]
    }
   ],
   "source": [
    "# (train, test)\n",
    "\n",
    "print(av_baseline.baseline())\n",
    "print(av_baseline.baseline(penalty='l1'))\n",
    "print(av_baseline.human_terms_baseline())\n",
    "print(av_baseline.human_terms_baseline(penalty='l2'))"
   ]
  },
  {
   "cell_type": "code",
   "execution_count": 7,
   "metadata": {},
   "outputs": [],
   "source": [
    "X_train = av_baseline.baseline_cv.transform(X_train_corpus_update)\n",
    "X_test = av_baseline.baseline_cv.transform(X_test_corpus_update)\n",
    "y_train = y_train_amazon\n",
    "y_test = y_test_amazon"
   ]
  },
  {
   "cell_type": "code",
   "execution_count": 12,
   "metadata": {},
   "outputs": [
    {
     "name": "stdout",
     "output_type": "stream",
     "text": [
      "_________________________________________________________________\n",
      "Layer (type)                 Output Shape              Param #   \n",
      "=================================================================\n",
      "input_4 (InputLayer)         (None, 1645)              0         \n",
      "_________________________________________________________________\n",
      "tanh_output (Dense)          (None, 1)                 1646      \n",
      "=================================================================\n",
      "Total params: 1,646\n",
      "Trainable params: 1,646\n",
      "Non-trainable params: 0\n",
      "_________________________________________________________________\n",
      "__________________________________________________________________________________________________\n",
      "Layer (type)                    Output Shape         Param #     Connected to                     \n",
      "==================================================================================================\n",
      "input_6 (InputLayer)            (None, 30)           0                                            \n",
      "__________________________________________________________________________________________________\n",
      "input_5 (InputLayer)            (None, 1645)         0                                            \n",
      "__________________________________________________________________________________________________\n",
      "lambda_2 (Lambda)               [(None, 1), (None, 1 0           input_6[0][0]                    \n",
      "__________________________________________________________________________________________________\n",
      "model_3 (Model)                 (None, 1)            1646        input_5[0][0]                    \n",
      "__________________________________________________________________________________________________\n",
      "multiply_31 (Multiply)          (None, 1)            0           lambda_2[0][0]                   \n",
      "                                                                 model_3[1][0]                    \n",
      "__________________________________________________________________________________________________\n",
      "multiply_32 (Multiply)          (None, 1)            0           lambda_2[0][1]                   \n",
      "                                                                 model_3[1][0]                    \n",
      "__________________________________________________________________________________________________\n",
      "multiply_33 (Multiply)          (None, 1)            0           lambda_2[0][2]                   \n",
      "                                                                 model_3[1][0]                    \n",
      "__________________________________________________________________________________________________\n",
      "multiply_34 (Multiply)          (None, 1)            0           lambda_2[0][3]                   \n",
      "                                                                 model_3[1][0]                    \n",
      "__________________________________________________________________________________________________\n",
      "multiply_35 (Multiply)          (None, 1)            0           lambda_2[0][4]                   \n",
      "                                                                 model_3[1][0]                    \n",
      "__________________________________________________________________________________________________\n",
      "multiply_36 (Multiply)          (None, 1)            0           lambda_2[0][5]                   \n",
      "                                                                 model_3[1][0]                    \n",
      "__________________________________________________________________________________________________\n",
      "multiply_37 (Multiply)          (None, 1)            0           lambda_2[0][6]                   \n",
      "                                                                 model_3[1][0]                    \n",
      "__________________________________________________________________________________________________\n",
      "multiply_38 (Multiply)          (None, 1)            0           lambda_2[0][7]                   \n",
      "                                                                 model_3[1][0]                    \n",
      "__________________________________________________________________________________________________\n",
      "multiply_39 (Multiply)          (None, 1)            0           lambda_2[0][8]                   \n",
      "                                                                 model_3[1][0]                    \n",
      "__________________________________________________________________________________________________\n",
      "multiply_40 (Multiply)          (None, 1)            0           lambda_2[0][9]                   \n",
      "                                                                 model_3[1][0]                    \n",
      "__________________________________________________________________________________________________\n",
      "multiply_41 (Multiply)          (None, 1)            0           lambda_2[0][10]                  \n",
      "                                                                 model_3[1][0]                    \n",
      "__________________________________________________________________________________________________\n",
      "multiply_42 (Multiply)          (None, 1)            0           lambda_2[0][11]                  \n",
      "                                                                 model_3[1][0]                    \n",
      "__________________________________________________________________________________________________\n",
      "multiply_43 (Multiply)          (None, 1)            0           lambda_2[0][12]                  \n",
      "                                                                 model_3[1][0]                    \n",
      "__________________________________________________________________________________________________\n",
      "multiply_44 (Multiply)          (None, 1)            0           lambda_2[0][13]                  \n",
      "                                                                 model_3[1][0]                    \n",
      "__________________________________________________________________________________________________\n",
      "multiply_45 (Multiply)          (None, 1)            0           lambda_2[0][14]                  \n",
      "                                                                 model_3[1][0]                    \n",
      "__________________________________________________________________________________________________\n",
      "multiply_46 (Multiply)          (None, 1)            0           lambda_2[0][15]                  \n",
      "                                                                 model_3[1][0]                    \n",
      "__________________________________________________________________________________________________\n",
      "multiply_47 (Multiply)          (None, 1)            0           lambda_2[0][16]                  \n",
      "                                                                 model_3[1][0]                    \n",
      "__________________________________________________________________________________________________\n",
      "multiply_48 (Multiply)          (None, 1)            0           lambda_2[0][17]                  \n",
      "                                                                 model_3[1][0]                    \n",
      "__________________________________________________________________________________________________\n",
      "multiply_49 (Multiply)          (None, 1)            0           lambda_2[0][18]                  \n",
      "                                                                 model_3[1][0]                    \n",
      "__________________________________________________________________________________________________\n",
      "multiply_50 (Multiply)          (None, 1)            0           lambda_2[0][19]                  \n",
      "                                                                 model_3[1][0]                    \n",
      "__________________________________________________________________________________________________\n",
      "multiply_51 (Multiply)          (None, 1)            0           lambda_2[0][20]                  \n",
      "                                                                 model_3[1][0]                    \n",
      "__________________________________________________________________________________________________\n",
      "multiply_52 (Multiply)          (None, 1)            0           lambda_2[0][21]                  \n",
      "                                                                 model_3[1][0]                    \n",
      "__________________________________________________________________________________________________\n",
      "multiply_53 (Multiply)          (None, 1)            0           lambda_2[0][22]                  \n",
      "                                                                 model_3[1][0]                    \n",
      "__________________________________________________________________________________________________\n",
      "multiply_54 (Multiply)          (None, 1)            0           lambda_2[0][23]                  \n",
      "                                                                 model_3[1][0]                    \n",
      "__________________________________________________________________________________________________\n",
      "multiply_55 (Multiply)          (None, 1)            0           lambda_2[0][24]                  \n",
      "                                                                 model_3[1][0]                    \n",
      "__________________________________________________________________________________________________\n",
      "multiply_56 (Multiply)          (None, 1)            0           lambda_2[0][25]                  \n",
      "                                                                 model_3[1][0]                    \n",
      "__________________________________________________________________________________________________\n",
      "multiply_57 (Multiply)          (None, 1)            0           lambda_2[0][26]                  \n",
      "                                                                 model_3[1][0]                    \n",
      "__________________________________________________________________________________________________\n",
      "multiply_58 (Multiply)          (None, 1)            0           lambda_2[0][27]                  \n",
      "                                                                 model_3[1][0]                    \n",
      "__________________________________________________________________________________________________\n",
      "multiply_59 (Multiply)          (None, 1)            0           lambda_2[0][28]                  \n",
      "                                                                 model_3[1][0]                    \n",
      "__________________________________________________________________________________________________\n",
      "multiply_60 (Multiply)          (None, 1)            0           lambda_2[0][29]                  \n",
      "                                                                 model_3[1][0]                    \n",
      "__________________________________________________________________________________________________\n",
      "dense_32 (Dense)                (None, 1)            1           multiply_31[0][0]                \n",
      "__________________________________________________________________________________________________\n",
      "dense_33 (Dense)                (None, 1)            1           multiply_32[0][0]                \n",
      "__________________________________________________________________________________________________\n",
      "dense_34 (Dense)                (None, 1)            1           multiply_33[0][0]                \n",
      "__________________________________________________________________________________________________\n",
      "dense_35 (Dense)                (None, 1)            1           multiply_34[0][0]                \n",
      "__________________________________________________________________________________________________\n",
      "dense_36 (Dense)                (None, 1)            1           multiply_35[0][0]                \n",
      "__________________________________________________________________________________________________\n",
      "dense_37 (Dense)                (None, 1)            1           multiply_36[0][0]                \n",
      "__________________________________________________________________________________________________\n",
      "dense_38 (Dense)                (None, 1)            1           multiply_37[0][0]                \n",
      "__________________________________________________________________________________________________\n",
      "dense_39 (Dense)                (None, 1)            1           multiply_38[0][0]                \n",
      "__________________________________________________________________________________________________\n",
      "dense_40 (Dense)                (None, 1)            1           multiply_39[0][0]                \n",
      "__________________________________________________________________________________________________\n",
      "dense_41 (Dense)                (None, 1)            1           multiply_40[0][0]                \n",
      "__________________________________________________________________________________________________\n",
      "dense_42 (Dense)                (None, 1)            1           multiply_41[0][0]                \n",
      "__________________________________________________________________________________________________\n",
      "dense_43 (Dense)                (None, 1)            1           multiply_42[0][0]                \n",
      "__________________________________________________________________________________________________\n",
      "dense_44 (Dense)                (None, 1)            1           multiply_43[0][0]                \n",
      "__________________________________________________________________________________________________\n",
      "dense_45 (Dense)                (None, 1)            1           multiply_44[0][0]                \n",
      "__________________________________________________________________________________________________\n",
      "dense_46 (Dense)                (None, 1)            1           multiply_45[0][0]                \n",
      "__________________________________________________________________________________________________\n",
      "dense_47 (Dense)                (None, 1)            1           multiply_46[0][0]                \n",
      "__________________________________________________________________________________________________\n",
      "dense_48 (Dense)                (None, 1)            1           multiply_47[0][0]                \n",
      "__________________________________________________________________________________________________\n",
      "dense_49 (Dense)                (None, 1)            1           multiply_48[0][0]                \n",
      "__________________________________________________________________________________________________\n",
      "dense_50 (Dense)                (None, 1)            1           multiply_49[0][0]                \n",
      "__________________________________________________________________________________________________\n",
      "dense_51 (Dense)                (None, 1)            1           multiply_50[0][0]                \n",
      "__________________________________________________________________________________________________\n",
      "dense_52 (Dense)                (None, 1)            1           multiply_51[0][0]                \n",
      "__________________________________________________________________________________________________\n",
      "dense_53 (Dense)                (None, 1)            1           multiply_52[0][0]                \n",
      "__________________________________________________________________________________________________\n",
      "dense_54 (Dense)                (None, 1)            1           multiply_53[0][0]                \n",
      "__________________________________________________________________________________________________\n",
      "dense_55 (Dense)                (None, 1)            1           multiply_54[0][0]                \n",
      "__________________________________________________________________________________________________\n",
      "dense_56 (Dense)                (None, 1)            1           multiply_55[0][0]                \n",
      "__________________________________________________________________________________________________\n",
      "dense_57 (Dense)                (None, 1)            1           multiply_56[0][0]                \n",
      "__________________________________________________________________________________________________\n",
      "dense_58 (Dense)                (None, 1)            1           multiply_57[0][0]                \n",
      "__________________________________________________________________________________________________\n",
      "dense_59 (Dense)                (None, 1)            1           multiply_58[0][0]                \n",
      "__________________________________________________________________________________________________\n",
      "dense_60 (Dense)                (None, 1)            1           multiply_59[0][0]                \n",
      "__________________________________________________________________________________________________\n",
      "dense_61 (Dense)                (None, 1)            1           multiply_60[0][0]                \n",
      "__________________________________________________________________________________________________\n",
      "concatenate (Lambda)            (None, 30)           0           dense_32[0][0]                   \n",
      "                                                                 dense_33[0][0]                   \n",
      "                                                                 dense_34[0][0]                   \n",
      "                                                                 dense_35[0][0]                   \n",
      "                                                                 dense_36[0][0]                   \n",
      "                                                                 dense_37[0][0]                   \n",
      "                                                                 dense_38[0][0]                   \n",
      "                                                                 dense_39[0][0]                   \n",
      "                                                                 dense_40[0][0]                   \n",
      "                                                                 dense_41[0][0]                   \n",
      "                                                                 dense_42[0][0]                   \n",
      "                                                                 dense_43[0][0]                   \n",
      "                                                                 dense_44[0][0]                   \n",
      "                                                                 dense_45[0][0]                   \n",
      "                                                                 dense_46[0][0]                   \n",
      "                                                                 dense_47[0][0]                   \n",
      "                                                                 dense_48[0][0]                   \n",
      "                                                                 dense_49[0][0]                   \n",
      "                                                                 dense_50[0][0]                   \n",
      "                                                                 dense_51[0][0]                   \n",
      "                                                                 dense_52[0][0]                   \n",
      "                                                                 dense_53[0][0]                   \n",
      "                                                                 dense_54[0][0]                   \n",
      "                                                                 dense_55[0][0]                   \n",
      "                                                                 dense_56[0][0]                   \n",
      "                                                                 dense_57[0][0]                   \n",
      "                                                                 dense_58[0][0]                   \n",
      "                                                                 dense_59[0][0]                   \n",
      "                                                                 dense_60[0][0]                   \n",
      "                                                                 dense_61[0][0]                   \n",
      "__________________________________________________________________________________________________\n",
      "dense_62 (Dense)                (None, 1)            31          concatenate[0][0]                \n",
      "==================================================================================================\n",
      "Total params: 1,707\n",
      "Trainable params: 1,707\n",
      "Non-trainable params: 0\n",
      "__________________________________________________________________________________________________\n"
     ]
    }
   ],
   "source": [
    "amazon_htm = Human_Terms_Network(input_shape=X_train.shape[1],\n",
    "                               human_terms_shape=len(word_list),\n",
    "                                domain='amazon')"
   ]
  },
  {
   "cell_type": "code",
   "execution_count": 13,
   "metadata": {},
   "outputs": [],
   "source": [
    "amazon_htm.set_data(X_train, X_test, y_train_agreement, y_test_agreement, y_train, y_test)"
   ]
  },
  {
   "cell_type": "code",
   "execution_count": 10,
   "metadata": {},
   "outputs": [
    {
     "name": "stdout",
     "output_type": "stream",
     "text": [
      "Train on 16551 samples, validate on 8153 samples\n",
      "Epoch 1/10\n",
      "16551/16551 [==============================] - 44s 3ms/step - loss: 0.3508 - mean_absolute_error: 0.3600 - acc: 0.8124 - val_loss: 0.2815 - val_mean_absolute_error: 0.3365 - val_acc: 0.8122\n",
      "Epoch 2/10\n",
      "16551/16551 [==============================] - 43s 3ms/step - loss: 0.2528 - mean_absolute_error: 0.3161 - acc: 0.8250 - val_loss: 0.2561 - val_mean_absolute_error: 0.3072 - val_acc: 0.8332\n",
      "Epoch 3/10\n",
      "15867/16551 [===========================>..] - ETA: 1s - loss: 0.2282 - mean_absolute_error: 0.2923 - acc: 0.8401"
     ]
    },
    {
     "ename": "KeyboardInterrupt",
     "evalue": "",
     "output_type": "error",
     "traceback": [
      "\u001b[1;31m---------------------------------------------------------------------------\u001b[0m",
      "\u001b[1;31mKeyboardInterrupt\u001b[0m                         Traceback (most recent call last)",
      "\u001b[1;32m<ipython-input-10-78b3f993bd06>\u001b[0m in \u001b[0;36m<module>\u001b[1;34m()\u001b[0m\n\u001b[1;32m----> 1\u001b[1;33m \u001b[0mamazon_htm\u001b[0m\u001b[1;33m.\u001b[0m\u001b[0mtrain\u001b[0m\u001b[1;33m(\u001b[0m\u001b[0mepochs\u001b[0m\u001b[1;33m=\u001b[0m\u001b[1;36m10\u001b[0m\u001b[1;33m)\u001b[0m\u001b[1;33m\u001b[0m\u001b[0m\n\u001b[0m",
      "\u001b[1;32m~\\Documents\\GitHub\\text-transparency\\Human-term based\\human_terms_network.py\u001b[0m in \u001b[0;36mtrain\u001b[1;34m(self, epochs, verbose, batch_size, show_graph, save_model)\u001b[0m\n\u001b[0;32m    105\u001b[0m         self.base_history = self.base_combined.fit(self.X_train, self.y_tanh_train,\n\u001b[0;32m    106\u001b[0m                                                     \u001b[0mvalidation_split\u001b[0m\u001b[1;33m=\u001b[0m\u001b[1;36m0.33\u001b[0m\u001b[1;33m,\u001b[0m \u001b[0mshuffle\u001b[0m\u001b[1;33m=\u001b[0m\u001b[1;32mFalse\u001b[0m\u001b[1;33m,\u001b[0m\u001b[1;33m\u001b[0m\u001b[0m\n\u001b[1;32m--> 107\u001b[1;33m                                                     epochs=epochs, verbose=verbose, batch_size=batch_size)\n\u001b[0m\u001b[0;32m    108\u001b[0m \u001b[1;33m\u001b[0m\u001b[0m\n\u001b[0;32m    109\u001b[0m         \u001b[1;31m# Set check point for\u001b[0m\u001b[1;33m\u001b[0m\u001b[1;33m\u001b[0m\u001b[0m\n",
      "\u001b[1;32mc:\\program files\\python\\lib\\site-packages\\keras\\engine\\training.py\u001b[0m in \u001b[0;36mfit\u001b[1;34m(self, x, y, batch_size, epochs, verbose, callbacks, validation_split, validation_data, shuffle, class_weight, sample_weight, initial_epoch, steps_per_epoch, validation_steps, **kwargs)\u001b[0m\n\u001b[0;32m   1035\u001b[0m                                         \u001b[0minitial_epoch\u001b[0m\u001b[1;33m=\u001b[0m\u001b[0minitial_epoch\u001b[0m\u001b[1;33m,\u001b[0m\u001b[1;33m\u001b[0m\u001b[0m\n\u001b[0;32m   1036\u001b[0m                                         \u001b[0msteps_per_epoch\u001b[0m\u001b[1;33m=\u001b[0m\u001b[0msteps_per_epoch\u001b[0m\u001b[1;33m,\u001b[0m\u001b[1;33m\u001b[0m\u001b[0m\n\u001b[1;32m-> 1037\u001b[1;33m                                         validation_steps=validation_steps)\n\u001b[0m\u001b[0;32m   1038\u001b[0m \u001b[1;33m\u001b[0m\u001b[0m\n\u001b[0;32m   1039\u001b[0m     def evaluate(self, x=None, y=None,\n",
      "\u001b[1;32mc:\\program files\\python\\lib\\site-packages\\keras\\engine\\training_arrays.py\u001b[0m in \u001b[0;36mfit_loop\u001b[1;34m(model, f, ins, out_labels, batch_size, epochs, verbose, callbacks, val_f, val_ins, shuffle, callback_metrics, initial_epoch, steps_per_epoch, validation_steps)\u001b[0m\n\u001b[0;32m    197\u001b[0m                     \u001b[0mins_batch\u001b[0m\u001b[1;33m[\u001b[0m\u001b[0mi\u001b[0m\u001b[1;33m]\u001b[0m \u001b[1;33m=\u001b[0m \u001b[0mins_batch\u001b[0m\u001b[1;33m[\u001b[0m\u001b[0mi\u001b[0m\u001b[1;33m]\u001b[0m\u001b[1;33m.\u001b[0m\u001b[0mtoarray\u001b[0m\u001b[1;33m(\u001b[0m\u001b[1;33m)\u001b[0m\u001b[1;33m\u001b[0m\u001b[0m\n\u001b[0;32m    198\u001b[0m \u001b[1;33m\u001b[0m\u001b[0m\n\u001b[1;32m--> 199\u001b[1;33m                 \u001b[0mouts\u001b[0m \u001b[1;33m=\u001b[0m \u001b[0mf\u001b[0m\u001b[1;33m(\u001b[0m\u001b[0mins_batch\u001b[0m\u001b[1;33m)\u001b[0m\u001b[1;33m\u001b[0m\u001b[0m\n\u001b[0m\u001b[0;32m    200\u001b[0m                 \u001b[0mouts\u001b[0m \u001b[1;33m=\u001b[0m \u001b[0mto_list\u001b[0m\u001b[1;33m(\u001b[0m\u001b[0mouts\u001b[0m\u001b[1;33m)\u001b[0m\u001b[1;33m\u001b[0m\u001b[0m\n\u001b[0;32m    201\u001b[0m                 \u001b[1;32mfor\u001b[0m \u001b[0ml\u001b[0m\u001b[1;33m,\u001b[0m \u001b[0mo\u001b[0m \u001b[1;32min\u001b[0m \u001b[0mzip\u001b[0m\u001b[1;33m(\u001b[0m\u001b[0mout_labels\u001b[0m\u001b[1;33m,\u001b[0m \u001b[0mouts\u001b[0m\u001b[1;33m)\u001b[0m\u001b[1;33m:\u001b[0m\u001b[1;33m\u001b[0m\u001b[0m\n",
      "\u001b[1;32mc:\\program files\\python\\lib\\site-packages\\keras\\backend\\tensorflow_backend.py\u001b[0m in \u001b[0;36m__call__\u001b[1;34m(self, inputs)\u001b[0m\n\u001b[0;32m   2670\u001b[0m                     \u001b[1;34m'In order to feed symbolic tensors to a Keras model '\u001b[0m\u001b[1;33m\u001b[0m\u001b[0m\n\u001b[0;32m   2671\u001b[0m                     'in TensorFlow, you need tensorflow 1.8 or higher.')\n\u001b[1;32m-> 2672\u001b[1;33m             \u001b[1;32mreturn\u001b[0m \u001b[0mself\u001b[0m\u001b[1;33m.\u001b[0m\u001b[0m_legacy_call\u001b[0m\u001b[1;33m(\u001b[0m\u001b[0minputs\u001b[0m\u001b[1;33m)\u001b[0m\u001b[1;33m\u001b[0m\u001b[0m\n\u001b[0m\u001b[0;32m   2673\u001b[0m \u001b[1;33m\u001b[0m\u001b[0m\n\u001b[0;32m   2674\u001b[0m \u001b[1;33m\u001b[0m\u001b[0m\n",
      "\u001b[1;32mc:\\program files\\python\\lib\\site-packages\\keras\\backend\\tensorflow_backend.py\u001b[0m in \u001b[0;36m_legacy_call\u001b[1;34m(self, inputs)\u001b[0m\n\u001b[0;32m   2652\u001b[0m         \u001b[0msession\u001b[0m \u001b[1;33m=\u001b[0m \u001b[0mget_session\u001b[0m\u001b[1;33m(\u001b[0m\u001b[1;33m)\u001b[0m\u001b[1;33m\u001b[0m\u001b[0m\n\u001b[0;32m   2653\u001b[0m         updated = session.run(fetches=fetches, feed_dict=feed_dict,\n\u001b[1;32m-> 2654\u001b[1;33m                               **self.session_kwargs)\n\u001b[0m\u001b[0;32m   2655\u001b[0m         \u001b[1;32mreturn\u001b[0m \u001b[0mupdated\u001b[0m\u001b[1;33m[\u001b[0m\u001b[1;33m:\u001b[0m\u001b[0mlen\u001b[0m\u001b[1;33m(\u001b[0m\u001b[0mself\u001b[0m\u001b[1;33m.\u001b[0m\u001b[0moutputs\u001b[0m\u001b[1;33m)\u001b[0m\u001b[1;33m]\u001b[0m\u001b[1;33m\u001b[0m\u001b[0m\n\u001b[0;32m   2656\u001b[0m \u001b[1;33m\u001b[0m\u001b[0m\n",
      "\u001b[1;32mc:\\program files\\python\\lib\\site-packages\\tensorflow\\python\\client\\session.py\u001b[0m in \u001b[0;36mrun\u001b[1;34m(self, fetches, feed_dict, options, run_metadata)\u001b[0m\n\u001b[0;32m    893\u001b[0m     \u001b[1;32mtry\u001b[0m\u001b[1;33m:\u001b[0m\u001b[1;33m\u001b[0m\u001b[0m\n\u001b[0;32m    894\u001b[0m       result = self._run(None, fetches, feed_dict, options_ptr,\n\u001b[1;32m--> 895\u001b[1;33m                          run_metadata_ptr)\n\u001b[0m\u001b[0;32m    896\u001b[0m       \u001b[1;32mif\u001b[0m \u001b[0mrun_metadata\u001b[0m\u001b[1;33m:\u001b[0m\u001b[1;33m\u001b[0m\u001b[0m\n\u001b[0;32m    897\u001b[0m         \u001b[0mproto_data\u001b[0m \u001b[1;33m=\u001b[0m \u001b[0mtf_session\u001b[0m\u001b[1;33m.\u001b[0m\u001b[0mTF_GetBuffer\u001b[0m\u001b[1;33m(\u001b[0m\u001b[0mrun_metadata_ptr\u001b[0m\u001b[1;33m)\u001b[0m\u001b[1;33m\u001b[0m\u001b[0m\n",
      "\u001b[1;32mc:\\program files\\python\\lib\\site-packages\\tensorflow\\python\\client\\session.py\u001b[0m in \u001b[0;36m_run\u001b[1;34m(self, handle, fetches, feed_dict, options, run_metadata)\u001b[0m\n\u001b[0;32m   1126\u001b[0m     \u001b[1;32mif\u001b[0m \u001b[0mfinal_fetches\u001b[0m \u001b[1;32mor\u001b[0m \u001b[0mfinal_targets\u001b[0m \u001b[1;32mor\u001b[0m \u001b[1;33m(\u001b[0m\u001b[0mhandle\u001b[0m \u001b[1;32mand\u001b[0m \u001b[0mfeed_dict_tensor\u001b[0m\u001b[1;33m)\u001b[0m\u001b[1;33m:\u001b[0m\u001b[1;33m\u001b[0m\u001b[0m\n\u001b[0;32m   1127\u001b[0m       results = self._do_run(handle, final_targets, final_fetches,\n\u001b[1;32m-> 1128\u001b[1;33m                              feed_dict_tensor, options, run_metadata)\n\u001b[0m\u001b[0;32m   1129\u001b[0m     \u001b[1;32melse\u001b[0m\u001b[1;33m:\u001b[0m\u001b[1;33m\u001b[0m\u001b[0m\n\u001b[0;32m   1130\u001b[0m       \u001b[0mresults\u001b[0m \u001b[1;33m=\u001b[0m \u001b[1;33m[\u001b[0m\u001b[1;33m]\u001b[0m\u001b[1;33m\u001b[0m\u001b[0m\n",
      "\u001b[1;32mc:\\program files\\python\\lib\\site-packages\\tensorflow\\python\\client\\session.py\u001b[0m in \u001b[0;36m_do_run\u001b[1;34m(self, handle, target_list, fetch_list, feed_dict, options, run_metadata)\u001b[0m\n\u001b[0;32m   1342\u001b[0m     \u001b[1;32mif\u001b[0m \u001b[0mhandle\u001b[0m \u001b[1;32mis\u001b[0m \u001b[1;32mNone\u001b[0m\u001b[1;33m:\u001b[0m\u001b[1;33m\u001b[0m\u001b[0m\n\u001b[0;32m   1343\u001b[0m       return self._do_call(_run_fn, self._session, feeds, fetches, targets,\n\u001b[1;32m-> 1344\u001b[1;33m                            options, run_metadata)\n\u001b[0m\u001b[0;32m   1345\u001b[0m     \u001b[1;32melse\u001b[0m\u001b[1;33m:\u001b[0m\u001b[1;33m\u001b[0m\u001b[0m\n\u001b[0;32m   1346\u001b[0m       \u001b[1;32mreturn\u001b[0m \u001b[0mself\u001b[0m\u001b[1;33m.\u001b[0m\u001b[0m_do_call\u001b[0m\u001b[1;33m(\u001b[0m\u001b[0m_prun_fn\u001b[0m\u001b[1;33m,\u001b[0m \u001b[0mself\u001b[0m\u001b[1;33m.\u001b[0m\u001b[0m_session\u001b[0m\u001b[1;33m,\u001b[0m \u001b[0mhandle\u001b[0m\u001b[1;33m,\u001b[0m \u001b[0mfeeds\u001b[0m\u001b[1;33m,\u001b[0m \u001b[0mfetches\u001b[0m\u001b[1;33m)\u001b[0m\u001b[1;33m\u001b[0m\u001b[0m\n",
      "\u001b[1;32mc:\\program files\\python\\lib\\site-packages\\tensorflow\\python\\client\\session.py\u001b[0m in \u001b[0;36m_do_call\u001b[1;34m(self, fn, *args)\u001b[0m\n\u001b[0;32m   1348\u001b[0m   \u001b[1;32mdef\u001b[0m \u001b[0m_do_call\u001b[0m\u001b[1;33m(\u001b[0m\u001b[0mself\u001b[0m\u001b[1;33m,\u001b[0m \u001b[0mfn\u001b[0m\u001b[1;33m,\u001b[0m \u001b[1;33m*\u001b[0m\u001b[0margs\u001b[0m\u001b[1;33m)\u001b[0m\u001b[1;33m:\u001b[0m\u001b[1;33m\u001b[0m\u001b[0m\n\u001b[0;32m   1349\u001b[0m     \u001b[1;32mtry\u001b[0m\u001b[1;33m:\u001b[0m\u001b[1;33m\u001b[0m\u001b[0m\n\u001b[1;32m-> 1350\u001b[1;33m       \u001b[1;32mreturn\u001b[0m \u001b[0mfn\u001b[0m\u001b[1;33m(\u001b[0m\u001b[1;33m*\u001b[0m\u001b[0margs\u001b[0m\u001b[1;33m)\u001b[0m\u001b[1;33m\u001b[0m\u001b[0m\n\u001b[0m\u001b[0;32m   1351\u001b[0m     \u001b[1;32mexcept\u001b[0m \u001b[0merrors\u001b[0m\u001b[1;33m.\u001b[0m\u001b[0mOpError\u001b[0m \u001b[1;32mas\u001b[0m \u001b[0me\u001b[0m\u001b[1;33m:\u001b[0m\u001b[1;33m\u001b[0m\u001b[0m\n\u001b[0;32m   1352\u001b[0m       \u001b[0mmessage\u001b[0m \u001b[1;33m=\u001b[0m \u001b[0mcompat\u001b[0m\u001b[1;33m.\u001b[0m\u001b[0mas_text\u001b[0m\u001b[1;33m(\u001b[0m\u001b[0me\u001b[0m\u001b[1;33m.\u001b[0m\u001b[0mmessage\u001b[0m\u001b[1;33m)\u001b[0m\u001b[1;33m\u001b[0m\u001b[0m\n",
      "\u001b[1;32mc:\\program files\\python\\lib\\site-packages\\tensorflow\\python\\client\\session.py\u001b[0m in \u001b[0;36m_run_fn\u001b[1;34m(session, feed_dict, fetch_list, target_list, options, run_metadata)\u001b[0m\n\u001b[0;32m   1327\u001b[0m           return tf_session.TF_Run(session, options,\n\u001b[0;32m   1328\u001b[0m                                    \u001b[0mfeed_dict\u001b[0m\u001b[1;33m,\u001b[0m \u001b[0mfetch_list\u001b[0m\u001b[1;33m,\u001b[0m \u001b[0mtarget_list\u001b[0m\u001b[1;33m,\u001b[0m\u001b[1;33m\u001b[0m\u001b[0m\n\u001b[1;32m-> 1329\u001b[1;33m                                    status, run_metadata)\n\u001b[0m\u001b[0;32m   1330\u001b[0m \u001b[1;33m\u001b[0m\u001b[0m\n\u001b[0;32m   1331\u001b[0m     \u001b[1;32mdef\u001b[0m \u001b[0m_prun_fn\u001b[0m\u001b[1;33m(\u001b[0m\u001b[0msession\u001b[0m\u001b[1;33m,\u001b[0m \u001b[0mhandle\u001b[0m\u001b[1;33m,\u001b[0m \u001b[0mfeed_dict\u001b[0m\u001b[1;33m,\u001b[0m \u001b[0mfetch_list\u001b[0m\u001b[1;33m)\u001b[0m\u001b[1;33m:\u001b[0m\u001b[1;33m\u001b[0m\u001b[0m\n",
      "\u001b[1;31mKeyboardInterrupt\u001b[0m: "
     ]
    }
   ],
   "source": [
    "amazon_htm.train(epochs=10)"
   ]
  },
  {
   "cell_type": "code",
   "execution_count": null,
   "metadata": {},
   "outputs": [],
   "source": [
    "amazon_htm.combined.evaluate([X_test, amazon_htm.y_test_agreement], amazon_htm.y_test)"
   ]
  },
  {
   "cell_type": "code",
   "execution_count": null,
   "metadata": {},
   "outputs": [],
   "source": [
    "amazon_htm.test(reject=True)"
   ]
  },
  {
   "cell_type": "code",
   "execution_count": null,
   "metadata": {},
   "outputs": [],
   "source": [
    "amazon_htm.X_test.shape"
   ]
  },
  {
   "cell_type": "code",
   "execution_count": null,
   "metadata": {},
   "outputs": [],
   "source": [
    "amazon_htm.y_train_agreement.shape"
   ]
  },
  {
   "cell_type": "code",
   "execution_count": null,
   "metadata": {},
   "outputs": [],
   "source": []
  }
 ],
 "metadata": {
  "kernelspec": {
   "display_name": "Python 3",
   "language": "python",
   "name": "python3"
  },
  "language_info": {
   "codemirror_mode": {
    "name": "ipython",
    "version": 3
   },
   "file_extension": ".py",
   "mimetype": "text/x-python",
   "name": "python",
   "nbconvert_exporter": "python",
   "pygments_lexer": "ipython3",
   "version": "3.6.6"
  }
 },
 "nbformat": 4,
 "nbformat_minor": 2
}

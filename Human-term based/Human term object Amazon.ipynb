{
 "cells": [
  {
   "cell_type": "code",
   "execution_count": 1,
   "metadata": {},
   "outputs": [
    {
     "name": "stderr",
     "output_type": "stream",
     "text": [
      "Using TensorFlow backend.\n"
     ]
    }
   ],
   "source": [
    "import numpy as np\n",
    "\n",
    "from human_terms_network import Human_Terms_Network\n",
    "from dataset_load import *\n",
    "from lr_baseline import LRBaseline"
   ]
  },
  {
   "cell_type": "code",
   "execution_count": 2,
   "metadata": {},
   "outputs": [
    {
     "name": "stdout",
     "output_type": "stream",
     "text": [
      "(75, 2)\n",
      "corpus update start\n",
      "corpus update end\n",
      "\n",
      "(75, 2)\n",
      "corpus update start\n",
      "corpus update end\n",
      "\n"
     ]
    }
   ],
   "source": [
    "path = r\"..\\..\\data\\reviews_Amazon_Instant_Video_5.json.gz\"\n",
    "\n",
    "X, y = extract_review_amazon(path, 'reviewText')\n",
    "\n",
    "y_label = y\n",
    "# discard the review with 3. [1,2] = 0, [4,5] = 0\n",
    "neutral_indices = np.where(y_label == 3)[0]\n",
    "y_label[y_label<3] = 0\n",
    "y_label[y_label>3] = 1\n",
    "\n",
    "X_discarded = np.delete(X,neutral_indices)\n",
    "y_discarded = np.delete(y_label, neutral_indices)\n",
    "\n",
    "from sklearn.model_selection import train_test_split\n",
    "\n",
    "X_train_split, X_test_split, y_train_amazon, y_test_amazon = train_test_split(\n",
    "    X_discarded, y_discarded)\n",
    "\n",
    "X_train_corpus_update = update_corpus_contraction(X_train_split)\n",
    "X_test_corpus_update = update_corpus_contraction(X_test_split)\n",
    "\n"
   ]
  },
  {
   "cell_type": "code",
   "execution_count": 3,
   "metadata": {},
   "outputs": [],
   "source": [
    "word_list, connotation = load_unigrams('./amazon-video-unigrams.txt', X_train_corpus_update, y_train_amazon)"
   ]
  },
  {
   "cell_type": "code",
   "execution_count": 4,
   "metadata": {},
   "outputs": [],
   "source": [
    "y_train_agreement, y_test_agreement = generate_appearance(X_train_corpus_update, X_test_corpus_update, \n",
    "                                                          word_list, connotation)"
   ]
  },
  {
   "cell_type": "code",
   "execution_count": 5,
   "metadata": {},
   "outputs": [],
   "source": [
    "av_baseline = LRBaseline(X_train_corpus_update, X_test_corpus_update, y_train_amazon, y_test_amazon, \n",
    "                           human_terms=word_list)"
   ]
  },
  {
   "cell_type": "code",
   "execution_count": 6,
   "metadata": {},
   "outputs": [
    {
     "name": "stdout",
     "output_type": "stream",
     "text": [
      "(0.9559585492227979, 0.9259259259259259)\n",
      "(0.9554323186528497, 0.9284760170006071)\n",
      "(0.9022425518134715, 0.9060109289617486)\n",
      "(0.9022425518134715, 0.9060109289617486)\n"
     ]
    }
   ],
   "source": [
    "# (train, test)\n",
    "\n",
    "print(av_baseline.baseline())\n",
    "print(av_baseline.baseline(penalty='l1'))\n",
    "print(av_baseline.human_terms_baseline())\n",
    "print(av_baseline.human_terms_baseline(penalty='l2'))"
   ]
  },
  {
   "cell_type": "code",
   "execution_count": 7,
   "metadata": {},
   "outputs": [],
   "source": [
    "X_train = av_baseline.baseline_cv.transform(X_train_corpus_update)\n",
    "X_test = av_baseline.baseline_cv.transform(X_test_corpus_update)\n",
    "y_train = y_train_amazon\n",
    "y_test = y_test_amazon"
   ]
  },
  {
   "cell_type": "code",
   "execution_count": 8,
   "metadata": {},
   "outputs": [
    {
     "name": "stdout",
     "output_type": "stream",
     "text": [
      "_________________________________________________________________\n",
      "Layer (type)                 Output Shape              Param #   \n",
      "=================================================================\n",
      "input_1 (InputLayer)         (None, 1620)              0         \n",
      "_________________________________________________________________\n",
      "tanh_output (Dense)          (None, 1)                 1621      \n",
      "=================================================================\n",
      "Total params: 1,621\n",
      "Trainable params: 1,621\n",
      "Non-trainable params: 0\n",
      "_________________________________________________________________\n",
      "__________________________________________________________________________________________________\n",
      "Layer (type)                    Output Shape         Param #     Connected to                     \n",
      "==================================================================================================\n",
      "input_3 (InputLayer)            (None, 30)           0                                            \n",
      "__________________________________________________________________________________________________\n",
      "input_2 (InputLayer)            (None, 1620)         0                                            \n",
      "__________________________________________________________________________________________________\n",
      "lambda_1 (Lambda)               [(None, 1), (None, 1 0           input_3[0][0]                    \n",
      "__________________________________________________________________________________________________\n",
      "model_1 (Model)                 (None, 1)            1621        input_2[0][0]                    \n",
      "__________________________________________________________________________________________________\n",
      "multiply_1 (Multiply)           (None, 1)            0           lambda_1[0][0]                   \n",
      "                                                                 model_1[1][0]                    \n",
      "__________________________________________________________________________________________________\n",
      "multiply_2 (Multiply)           (None, 1)            0           lambda_1[0][1]                   \n",
      "                                                                 model_1[1][0]                    \n",
      "__________________________________________________________________________________________________\n",
      "multiply_3 (Multiply)           (None, 1)            0           lambda_1[0][2]                   \n",
      "                                                                 model_1[1][0]                    \n",
      "__________________________________________________________________________________________________\n",
      "multiply_4 (Multiply)           (None, 1)            0           lambda_1[0][3]                   \n",
      "                                                                 model_1[1][0]                    \n",
      "__________________________________________________________________________________________________\n",
      "multiply_5 (Multiply)           (None, 1)            0           lambda_1[0][4]                   \n",
      "                                                                 model_1[1][0]                    \n",
      "__________________________________________________________________________________________________\n",
      "multiply_6 (Multiply)           (None, 1)            0           lambda_1[0][5]                   \n",
      "                                                                 model_1[1][0]                    \n",
      "__________________________________________________________________________________________________\n",
      "multiply_7 (Multiply)           (None, 1)            0           lambda_1[0][6]                   \n",
      "                                                                 model_1[1][0]                    \n",
      "__________________________________________________________________________________________________\n",
      "multiply_8 (Multiply)           (None, 1)            0           lambda_1[0][7]                   \n",
      "                                                                 model_1[1][0]                    \n",
      "__________________________________________________________________________________________________\n",
      "multiply_9 (Multiply)           (None, 1)            0           lambda_1[0][8]                   \n",
      "                                                                 model_1[1][0]                    \n",
      "__________________________________________________________________________________________________\n",
      "multiply_10 (Multiply)          (None, 1)            0           lambda_1[0][9]                   \n",
      "                                                                 model_1[1][0]                    \n",
      "__________________________________________________________________________________________________\n",
      "multiply_11 (Multiply)          (None, 1)            0           lambda_1[0][10]                  \n",
      "                                                                 model_1[1][0]                    \n",
      "__________________________________________________________________________________________________\n",
      "multiply_12 (Multiply)          (None, 1)            0           lambda_1[0][11]                  \n",
      "                                                                 model_1[1][0]                    \n",
      "__________________________________________________________________________________________________\n",
      "multiply_13 (Multiply)          (None, 1)            0           lambda_1[0][12]                  \n",
      "                                                                 model_1[1][0]                    \n",
      "__________________________________________________________________________________________________\n",
      "multiply_14 (Multiply)          (None, 1)            0           lambda_1[0][13]                  \n",
      "                                                                 model_1[1][0]                    \n",
      "__________________________________________________________________________________________________\n",
      "multiply_15 (Multiply)          (None, 1)            0           lambda_1[0][14]                  \n",
      "                                                                 model_1[1][0]                    \n",
      "__________________________________________________________________________________________________\n",
      "multiply_16 (Multiply)          (None, 1)            0           lambda_1[0][15]                  \n",
      "                                                                 model_1[1][0]                    \n",
      "__________________________________________________________________________________________________\n",
      "multiply_17 (Multiply)          (None, 1)            0           lambda_1[0][16]                  \n",
      "                                                                 model_1[1][0]                    \n",
      "__________________________________________________________________________________________________\n",
      "multiply_18 (Multiply)          (None, 1)            0           lambda_1[0][17]                  \n",
      "                                                                 model_1[1][0]                    \n",
      "__________________________________________________________________________________________________\n",
      "multiply_19 (Multiply)          (None, 1)            0           lambda_1[0][18]                  \n",
      "                                                                 model_1[1][0]                    \n",
      "__________________________________________________________________________________________________\n",
      "multiply_20 (Multiply)          (None, 1)            0           lambda_1[0][19]                  \n",
      "                                                                 model_1[1][0]                    \n",
      "__________________________________________________________________________________________________\n",
      "multiply_21 (Multiply)          (None, 1)            0           lambda_1[0][20]                  \n",
      "                                                                 model_1[1][0]                    \n",
      "__________________________________________________________________________________________________\n",
      "multiply_22 (Multiply)          (None, 1)            0           lambda_1[0][21]                  \n",
      "                                                                 model_1[1][0]                    \n",
      "__________________________________________________________________________________________________\n",
      "multiply_23 (Multiply)          (None, 1)            0           lambda_1[0][22]                  \n",
      "                                                                 model_1[1][0]                    \n",
      "__________________________________________________________________________________________________\n",
      "multiply_24 (Multiply)          (None, 1)            0           lambda_1[0][23]                  \n",
      "                                                                 model_1[1][0]                    \n",
      "__________________________________________________________________________________________________\n",
      "multiply_25 (Multiply)          (None, 1)            0           lambda_1[0][24]                  \n",
      "                                                                 model_1[1][0]                    \n",
      "__________________________________________________________________________________________________\n",
      "multiply_26 (Multiply)          (None, 1)            0           lambda_1[0][25]                  \n",
      "                                                                 model_1[1][0]                    \n",
      "__________________________________________________________________________________________________\n",
      "multiply_27 (Multiply)          (None, 1)            0           lambda_1[0][26]                  \n",
      "                                                                 model_1[1][0]                    \n",
      "__________________________________________________________________________________________________\n",
      "multiply_28 (Multiply)          (None, 1)            0           lambda_1[0][27]                  \n",
      "                                                                 model_1[1][0]                    \n",
      "__________________________________________________________________________________________________\n",
      "multiply_29 (Multiply)          (None, 1)            0           lambda_1[0][28]                  \n",
      "                                                                 model_1[1][0]                    \n",
      "__________________________________________________________________________________________________\n",
      "multiply_30 (Multiply)          (None, 1)            0           lambda_1[0][29]                  \n",
      "                                                                 model_1[1][0]                    \n",
      "__________________________________________________________________________________________________\n",
      "dense_1 (Dense)                 (None, 1)            1           multiply_1[0][0]                 \n",
      "__________________________________________________________________________________________________\n",
      "dense_2 (Dense)                 (None, 1)            1           multiply_2[0][0]                 \n",
      "__________________________________________________________________________________________________\n",
      "dense_3 (Dense)                 (None, 1)            1           multiply_3[0][0]                 \n",
      "__________________________________________________________________________________________________\n",
      "dense_4 (Dense)                 (None, 1)            1           multiply_4[0][0]                 \n",
      "__________________________________________________________________________________________________\n",
      "dense_5 (Dense)                 (None, 1)            1           multiply_5[0][0]                 \n",
      "__________________________________________________________________________________________________\n",
      "dense_6 (Dense)                 (None, 1)            1           multiply_6[0][0]                 \n",
      "__________________________________________________________________________________________________\n",
      "dense_7 (Dense)                 (None, 1)            1           multiply_7[0][0]                 \n",
      "__________________________________________________________________________________________________\n",
      "dense_8 (Dense)                 (None, 1)            1           multiply_8[0][0]                 \n",
      "__________________________________________________________________________________________________\n",
      "dense_9 (Dense)                 (None, 1)            1           multiply_9[0][0]                 \n",
      "__________________________________________________________________________________________________\n",
      "dense_10 (Dense)                (None, 1)            1           multiply_10[0][0]                \n",
      "__________________________________________________________________________________________________\n",
      "dense_11 (Dense)                (None, 1)            1           multiply_11[0][0]                \n",
      "__________________________________________________________________________________________________\n",
      "dense_12 (Dense)                (None, 1)            1           multiply_12[0][0]                \n",
      "__________________________________________________________________________________________________\n",
      "dense_13 (Dense)                (None, 1)            1           multiply_13[0][0]                \n",
      "__________________________________________________________________________________________________\n",
      "dense_14 (Dense)                (None, 1)            1           multiply_14[0][0]                \n",
      "__________________________________________________________________________________________________\n",
      "dense_15 (Dense)                (None, 1)            1           multiply_15[0][0]                \n",
      "__________________________________________________________________________________________________\n",
      "dense_16 (Dense)                (None, 1)            1           multiply_16[0][0]                \n",
      "__________________________________________________________________________________________________\n",
      "dense_17 (Dense)                (None, 1)            1           multiply_17[0][0]                \n",
      "__________________________________________________________________________________________________\n",
      "dense_18 (Dense)                (None, 1)            1           multiply_18[0][0]                \n",
      "__________________________________________________________________________________________________\n",
      "dense_19 (Dense)                (None, 1)            1           multiply_19[0][0]                \n",
      "__________________________________________________________________________________________________\n",
      "dense_20 (Dense)                (None, 1)            1           multiply_20[0][0]                \n",
      "__________________________________________________________________________________________________\n",
      "dense_21 (Dense)                (None, 1)            1           multiply_21[0][0]                \n",
      "__________________________________________________________________________________________________\n",
      "dense_22 (Dense)                (None, 1)            1           multiply_22[0][0]                \n",
      "__________________________________________________________________________________________________\n",
      "dense_23 (Dense)                (None, 1)            1           multiply_23[0][0]                \n",
      "__________________________________________________________________________________________________\n",
      "dense_24 (Dense)                (None, 1)            1           multiply_24[0][0]                \n",
      "__________________________________________________________________________________________________\n",
      "dense_25 (Dense)                (None, 1)            1           multiply_25[0][0]                \n",
      "__________________________________________________________________________________________________\n",
      "dense_26 (Dense)                (None, 1)            1           multiply_26[0][0]                \n",
      "__________________________________________________________________________________________________\n",
      "dense_27 (Dense)                (None, 1)            1           multiply_27[0][0]                \n",
      "__________________________________________________________________________________________________\n",
      "dense_28 (Dense)                (None, 1)            1           multiply_28[0][0]                \n",
      "__________________________________________________________________________________________________\n",
      "dense_29 (Dense)                (None, 1)            1           multiply_29[0][0]                \n",
      "__________________________________________________________________________________________________\n",
      "dense_30 (Dense)                (None, 1)            1           multiply_30[0][0]                \n",
      "__________________________________________________________________________________________________\n",
      "concatenate (Lambda)            (None, 30)           0           dense_1[0][0]                    \n",
      "                                                                 dense_2[0][0]                    \n",
      "                                                                 dense_3[0][0]                    \n",
      "                                                                 dense_4[0][0]                    \n",
      "                                                                 dense_5[0][0]                    \n",
      "                                                                 dense_6[0][0]                    \n",
      "                                                                 dense_7[0][0]                    \n",
      "                                                                 dense_8[0][0]                    \n",
      "                                                                 dense_9[0][0]                    \n",
      "                                                                 dense_10[0][0]                   \n",
      "                                                                 dense_11[0][0]                   \n",
      "                                                                 dense_12[0][0]                   \n",
      "                                                                 dense_13[0][0]                   \n",
      "                                                                 dense_14[0][0]                   \n",
      "                                                                 dense_15[0][0]                   \n",
      "                                                                 dense_16[0][0]                   \n",
      "                                                                 dense_17[0][0]                   \n",
      "                                                                 dense_18[0][0]                   \n",
      "                                                                 dense_19[0][0]                   \n",
      "                                                                 dense_20[0][0]                   \n",
      "                                                                 dense_21[0][0]                   \n",
      "                                                                 dense_22[0][0]                   \n",
      "                                                                 dense_23[0][0]                   \n",
      "                                                                 dense_24[0][0]                   \n",
      "                                                                 dense_25[0][0]                   \n",
      "                                                                 dense_26[0][0]                   \n",
      "                                                                 dense_27[0][0]                   \n",
      "                                                                 dense_28[0][0]                   \n",
      "                                                                 dense_29[0][0]                   \n",
      "                                                                 dense_30[0][0]                   \n",
      "__________________________________________________________________________________________________\n",
      "dense_31 (Dense)                (None, 1)            31          concatenate[0][0]                \n",
      "==================================================================================================\n",
      "Total params: 1,682\n",
      "Trainable params: 1,682\n",
      "Non-trainable params: 0\n",
      "__________________________________________________________________________________________________\n"
     ]
    }
   ],
   "source": [
    "amazon_htm = Human_Terms_Network(input_shape=X_train.shape[1],\n",
    "                               human_terms_shape=len(word_list),\n",
    "                                domain='amazon')"
   ]
  },
  {
   "cell_type": "code",
   "execution_count": 9,
   "metadata": {},
   "outputs": [],
   "source": [
    "amazon_htm.set_data(X_train, X_test, y_train_agreement, y_test_agreement, y_train, y_test)"
   ]
  },
  {
   "cell_type": "code",
   "execution_count": null,
   "metadata": {},
   "outputs": [
    {
     "name": "stdout",
     "output_type": "stream",
     "text": [
      "Train on 16551 samples, validate on 8153 samples\n",
      "Epoch 1/10\n",
      "16551/16551 [==============================] - 44s 3ms/step - loss: 0.3577 - mean_absolute_error: 0.3716 - acc: 0.8076 - val_loss: 0.2741 - val_mean_absolute_error: 0.3502 - val_acc: 0.8008\n",
      "Epoch 2/10\n",
      "16551/16551 [==============================] - 43s 3ms/step - loss: 0.2568 - mean_absolute_error: 0.3220 - acc: 0.8221 - val_loss: 0.2515 - val_mean_absolute_error: 0.3248 - val_acc: 0.8177\n",
      "Epoch 3/10\n",
      "16551/16551 [==============================] - 43s 3ms/step - loss: 0.2322 - mean_absolute_error: 0.2994 - acc: 0.8379 - val_loss: 0.2406 - val_mean_absolute_error: 0.3072 - val_acc: 0.8320\n",
      "Epoch 4/10\n",
      "16551/16551 [==============================] - 43s 3ms/step - loss: 0.2186 - mean_absolute_error: 0.2853 - acc: 0.8461 - val_loss: 0.2341 - val_mean_absolute_error: 0.2963 - val_acc: 0.8401\n",
      "Epoch 5/10\n",
      "16551/16551 [==============================] - 43s 3ms/step - loss: 0.2098 - mean_absolute_error: 0.2760 - acc: 0.8518 - val_loss: 0.2296 - val_mean_absolute_error: 0.2834 - val_acc: 0.8491\n",
      "Epoch 6/10\n",
      "16551/16551 [==============================] - 43s 3ms/step - loss: 0.2037 - mean_absolute_error: 0.2696 - acc: 0.8549 - val_loss: 0.2276 - val_mean_absolute_error: 0.2872 - val_acc: 0.8442\n",
      "Epoch 7/10\n",
      "16551/16551 [==============================] - 43s 3ms/step - loss: 0.1985 - mean_absolute_error: 0.2645 - acc: 0.8581 - val_loss: 0.2250 - val_mean_absolute_error: 0.2807 - val_acc: 0.8479\n",
      "Epoch 8/10\n",
      "16551/16551 [==============================] - 42s 3ms/step - loss: 0.1944 - mean_absolute_error: 0.2594 - acc: 0.8609 - val_loss: 0.2230 - val_mean_absolute_error: 0.2758 - val_acc: 0.8516\n",
      "Epoch 9/10\n",
      "16551/16551 [==============================] - 41s 3ms/step - loss: 0.1909 - mean_absolute_error: 0.2551 - acc: 0.8625 - val_loss: 0.2230 - val_mean_absolute_error: 0.2797 - val_acc: 0.8477\n",
      "Epoch 10/10\n",
      "16551/16551 [==============================] - 37s 2ms/step - loss: 0.1877 - mean_absolute_error: 0.2518 - acc: 0.8646 - val_loss: 0.2207 - val_mean_absolute_error: 0.2725 - val_acc: 0.8545\n",
      "Train on 16551 samples, validate on 8153 samples\n",
      "Epoch 1/10\n",
      " 2166/16551 [==>...........................] - ETA: 51s - loss: 0.4280 - mean_absolute_error: 0.5359 - acc: 0.8712"
     ]
    }
   ],
   "source": [
    "amazon_htm.train(epochs=10)"
   ]
  },
  {
   "cell_type": "code",
   "execution_count": null,
   "metadata": {},
   "outputs": [],
   "source": [
    "amazon_htm.combined.evaluate([X_test, amazon_htm.y_test_agreement], amazon_htm.y_test)"
   ]
  },
  {
   "cell_type": "code",
   "execution_count": null,
   "metadata": {},
   "outputs": [],
   "source": [
    "amazon_htm.test(reject=True)"
   ]
  },
  {
   "cell_type": "code",
   "execution_count": null,
   "metadata": {},
   "outputs": [],
   "source": [
    "amazon_htm.X_test.shape"
   ]
  },
  {
   "cell_type": "code",
   "execution_count": null,
   "metadata": {},
   "outputs": [],
   "source": [
    "amazon_htm.y_train_agreement.shape"
   ]
  },
  {
   "cell_type": "code",
   "execution_count": null,
   "metadata": {},
   "outputs": [],
   "source": []
  }
 ],
 "metadata": {
  "kernelspec": {
   "display_name": "Python 3",
   "language": "python",
   "name": "python3"
  },
  "language_info": {
   "codemirror_mode": {
    "name": "ipython",
    "version": 3
   },
   "file_extension": ".py",
   "mimetype": "text/x-python",
   "name": "python",
   "nbconvert_exporter": "python",
   "pygments_lexer": "ipython3",
   "version": "3.6.6"
  }
 },
 "nbformat": 4,
 "nbformat_minor": 2
}

{
 "cells": [
  {
   "cell_type": "code",
   "execution_count": 1,
   "metadata": {},
   "outputs": [],
   "source": [
    "import numpy as np\n",
    "\n",
    "from dataset_load import *\n",
    "\n",
    "X_train_original = open_pickle('../../data/imdb/imdb_original_preprocessed_xtrain.pickle')\n",
    "X_test_original = open_pickle('../../data/imdb/imdb_original_preprocessed_xtest.pickle')\n",
    "y_train_original = open_pickle('../../data/imdb/imdb_original_preprocessed_ytrain.pickle')\n",
    "y_test_original = open_pickle('../../data/imdb/imdb_original_preprocessed_ytest.pickle')"
   ]
  },
  {
   "cell_type": "code",
   "execution_count": 2,
   "metadata": {},
   "outputs": [],
   "source": [
    "####################################################################\n",
    "\n",
    "# Count vectorizer \n",
    "\n",
    "from sklearn.feature_extraction.text import CountVectorizer\n",
    "\n",
    "token = r\"(?u)\\b[\\w\\'/]+\\b\"\n",
    "cv = CountVectorizer(min_df = 100, token_pattern=token, lowercase=True, binary=True)\n",
    "X_train = cv.fit_transform(X_train_original)\n",
    "X_test = cv.transform(X_test_original)\n",
    "\n",
    "######################################################################"
   ]
  },
  {
   "cell_type": "code",
   "execution_count": 3,
   "metadata": {},
   "outputs": [
    {
     "data": {
      "text/plain": [
       "3686"
      ]
     },
     "execution_count": 3,
     "metadata": {},
     "output_type": "execute_result"
    }
   ],
   "source": [
    "len(cv.get_feature_names())"
   ]
  },
  {
   "cell_type": "markdown",
   "metadata": {},
   "source": [
    "### LR1"
   ]
  },
  {
   "cell_type": "code",
   "execution_count": 4,
   "metadata": {},
   "outputs": [
    {
     "name": "stderr",
     "output_type": "stream",
     "text": [
      "/usr/local/lib/python3.6/dist-packages/sklearn/linear_model/logistic.py:432: FutureWarning: Default solver will be changed to 'lbfgs' in 0.22. Specify a solver to silence this warning.\n",
      "  FutureWarning)\n"
     ]
    },
    {
     "data": {
      "text/plain": [
       "LogisticRegression(C=1.0, class_weight=None, dual=False, fit_intercept=True,\n",
       "                   intercept_scaling=1, l1_ratio=None, max_iter=100,\n",
       "                   multi_class='warn', n_jobs=None, penalty='l1',\n",
       "                   random_state=42, solver='warn', tol=0.0001, verbose=0,\n",
       "                   warm_start=False)"
      ]
     },
     "execution_count": 4,
     "metadata": {},
     "output_type": "execute_result"
    }
   ],
   "source": [
    "from sklearn.linear_model import LogisticRegression\n",
    "\n",
    "lr1 = LogisticRegression(penalty='l1', random_state=42)\n",
    "lr1.fit(X_train, y_train_original)"
   ]
  },
  {
   "cell_type": "markdown",
   "metadata": {},
   "source": [
    "## LR2"
   ]
  },
  {
   "cell_type": "code",
   "execution_count": 5,
   "metadata": {},
   "outputs": [],
   "source": [
    "word_list, connotation = load_unigrams('./imdb-unigrams.txt', X_train_original, y_train_original)"
   ]
  },
  {
   "cell_type": "code",
   "execution_count": 6,
   "metadata": {},
   "outputs": [],
   "source": [
    "y_train_agreement, y_test_agreement = generate_appearance(X_train_original, X_test_original, \n",
    "                                                          word_list, connotation)"
   ]
  },
  {
   "cell_type": "code",
   "execution_count": 7,
   "metadata": {},
   "outputs": [],
   "source": [
    "htcv = CountVectorizer(min_df = 100, token_pattern=token, lowercase=True, binary=True, vocabulary=word_list)"
   ]
  },
  {
   "cell_type": "code",
   "execution_count": 8,
   "metadata": {},
   "outputs": [],
   "source": [
    "ht_train = htcv.transform(X_train_original)\n",
    "ht_test = htcv.transform(X_test_original)"
   ]
  },
  {
   "cell_type": "code",
   "execution_count": 9,
   "metadata": {},
   "outputs": [],
   "source": [
    "y_train_agreement_pos = np.copy(y_train_agreement)\n",
    "y_train_agreement_neg = np.copy(y_train_agreement)\n",
    "y_test_agreement_pos = np.copy(y_test_agreement)\n",
    "y_test_agreement_neg = np.copy(y_test_agreement)\n",
    "\n",
    "y_train_agreement_pos[y_train_agreement_pos == -1] = 0\n",
    "y_train_agreement_neg[y_train_agreement_neg == 1] = 0\n",
    "y_test_agreement_pos[y_test_agreement_pos == -1] = 0\n",
    "y_test_agreement_neg[y_test_agreement_neg == 1] = 0"
   ]
  },
  {
   "cell_type": "markdown",
   "metadata": {},
   "source": [
    "#### From actual label"
   ]
  },
  {
   "cell_type": "code",
   "execution_count": 10,
   "metadata": {},
   "outputs": [],
   "source": [
    "lr2_train = list()\n",
    "for i,y in enumerate(y_train_original):\n",
    "    if y == 1:\n",
    "        lr2_train.append(y_train_agreement_pos[i] * y)\n",
    "    else:\n",
    "        lr2_train.append(y_train_agreement_neg[i] * y)\n",
    "        \n",
    "lr2_train = np.asarray(lr2_train)"
   ]
  },
  {
   "cell_type": "code",
   "execution_count": 11,
   "metadata": {},
   "outputs": [
    {
     "data": {
      "text/plain": [
       "LogisticRegression(C=1.0, class_weight=None, dual=False, fit_intercept=True,\n",
       "                   intercept_scaling=1, l1_ratio=None, max_iter=100,\n",
       "                   multi_class='warn', n_jobs=None, penalty='l1',\n",
       "                   random_state=42, solver='warn', tol=0.0001, verbose=0,\n",
       "                   warm_start=False)"
      ]
     },
     "execution_count": 11,
     "metadata": {},
     "output_type": "execute_result"
    }
   ],
   "source": [
    "lr2 = LogisticRegression(penalty='l1', random_state=42)\n",
    "lr2.fit(lr2_train, y_train_original)"
   ]
  },
  {
   "cell_type": "code",
   "execution_count": 12,
   "metadata": {},
   "outputs": [
    {
     "name": "stdout",
     "output_type": "stream",
     "text": [
      "0.84176\n",
      "0.84176\n"
     ]
    }
   ],
   "source": [
    "# Test with predict {0,1}\n",
    "\n",
    "lr1_predict = lr1.predict(X_test)\n",
    "\n",
    "lr2_test_bin = list()\n",
    "for i,y in enumerate(lr1_predict):\n",
    "    if y==1:\n",
    "        lr2_test_bin.append(y_test_agreement_pos[i] * y)\n",
    "    else:\n",
    "        lr2_test_bin.append(y_test_agreement_neg[i] * y)\n",
    "    \n",
    "lr2_test_bin = np.asarray(lr2_test_bin)\n",
    "\n",
    "print(lr2.score(lr2_test_bin, y_test_original))\n",
    "\n",
    "# Test with predict [0,1]\n",
    "\n",
    "lr1_predict = lr1.predict_proba(X_test)[:,1]\n",
    "\n",
    "lr2_test_proba = list()\n",
    "for i,y in enumerate(lr1_predict):\n",
    "    if y>=0.5:\n",
    "        lr2_test_proba.append(y_test_agreement_pos[i] * y)\n",
    "    else:\n",
    "        lr2_test_proba.append(y_test_agreement_neg[i] * y)\n",
    "    \n",
    "lr2_test_proba = np.asarray(lr2_test_proba)\n",
    "\n",
    "print(lr2.score(lr2_test_proba, y_test_original))"
   ]
  },
  {
   "cell_type": "code",
   "execution_count": 13,
   "metadata": {},
   "outputs": [
    {
     "data": {
      "text/plain": [
       "array([0.        , 0.        , 0.        , 0.        , 3.60807977,\n",
       "       2.00065885, 5.57719273, 5.42575667, 4.4799257 , 5.48751428,\n",
       "       6.49268325, 0.        , 0.        , 0.        , 0.        ,\n",
       "       0.        , 7.14574196, 0.        , 8.05024534, 0.        ,\n",
       "       0.        , 4.29807921, 0.        , 0.        , 0.        ,\n",
       "       0.        , 0.        , 0.        , 5.78208606, 6.57940866,\n",
       "       7.16514804, 0.        , 5.52189856, 5.79841191, 6.56802781,\n",
       "       0.        , 8.11054374, 0.        , 0.        , 5.73070348,\n",
       "       8.53974843, 0.        , 5.48924186, 0.        , 0.        ,\n",
       "       0.        , 0.        , 0.        , 6.49440925, 0.        ,\n",
       "       0.        , 0.        , 5.5493446 , 0.        , 0.        ,\n",
       "       6.75690602, 0.        , 0.        , 0.        , 0.        ,\n",
       "       0.        , 5.7077356 , 5.21556887, 0.        , 4.56289999,\n",
       "       0.        , 0.        , 5.29323725, 0.        , 5.63209228,\n",
       "       5.92664306, 5.25290756, 0.        , 0.        , 0.        ,\n",
       "       0.        , 0.        , 0.        , 0.        , 6.94071281,\n",
       "       0.        , 0.        , 0.        ])"
      ]
     },
     "execution_count": 13,
     "metadata": {},
     "output_type": "execute_result"
    }
   ],
   "source": [
    "weight = lr2.coef_.flatten()\n",
    "weight"
   ]
  },
  {
   "cell_type": "code",
   "execution_count": 14,
   "metadata": {},
   "outputs": [],
   "source": [
    "def print_weight(clf1, clf2=None):\n",
    "    w = clf1.coef_.flatten()\n",
    "    indices = np.argsort(w)[::-1]\n",
    "    con = list(connotation.values())\n",
    "\n",
    "    if clf2 is not None:\n",
    "        w2 = clf2.coef_.flatten()\n",
    "        for i in indices:\n",
    "            print('%s \\t %.3f \\t %.3f \\t %d' %(word_list[i], w[i], w2[i], con[i]))\n",
    "    else:  \n",
    "        for i in indices:\n",
    "            print('%s \\t %.3f \\t %d' %(word_list[i], w[i],con[i]))"
   ]
  },
  {
   "cell_type": "markdown",
   "metadata": {},
   "source": [
    "#### Train with predicted label"
   ]
  },
  {
   "cell_type": "code",
   "execution_count": 15,
   "metadata": {},
   "outputs": [],
   "source": [
    "predicted_y = lr1.predict(X_train)\n",
    "proba_y = lr1.predict_proba(X_train)[:,1]"
   ]
  },
  {
   "cell_type": "code",
   "execution_count": 16,
   "metadata": {},
   "outputs": [],
   "source": [
    "lr2_train_bin = list()\n",
    "for i,y in enumerate(predicted_y):\n",
    "    if y == 1:\n",
    "        lr2_train_bin.append(y_train_agreement_pos[i] * y)\n",
    "    else:\n",
    "        lr2_train_bin.append(y_train_agreement_neg[i] * y)\n",
    "        \n",
    "lr2_train_bin = np.asarray(lr2_train_bin)\n",
    "\n",
    "lr2_train_proba = list()\n",
    "for i,y in enumerate(proba_y):\n",
    "    if y >= 0.5:\n",
    "        lr2_train_proba.append(y_train_agreement_pos[i] * y)\n",
    "    else:\n",
    "        lr2_train_proba.append(y_train_agreement_neg[i] * y)\n",
    "        \n",
    "lr2_train_proba = np.asarray(lr2_train_proba)"
   ]
  },
  {
   "cell_type": "code",
   "execution_count": 17,
   "metadata": {},
   "outputs": [
    {
     "name": "stderr",
     "output_type": "stream",
     "text": [
      "/usr/local/lib/python3.6/dist-packages/sklearn/linear_model/logistic.py:432: FutureWarning: Default solver will be changed to 'lbfgs' in 0.22. Specify a solver to silence this warning.\n",
      "  FutureWarning)\n",
      "/usr/local/lib/python3.6/dist-packages/sklearn/linear_model/logistic.py:432: FutureWarning: Default solver will be changed to 'lbfgs' in 0.22. Specify a solver to silence this warning.\n",
      "  FutureWarning)\n"
     ]
    },
    {
     "data": {
      "text/plain": [
       "LogisticRegression(C=1.0, class_weight=None, dual=False, fit_intercept=True,\n",
       "                   intercept_scaling=1, l1_ratio=None, max_iter=100,\n",
       "                   multi_class='warn', n_jobs=None, penalty='l1',\n",
       "                   random_state=42, solver='warn', tol=0.0001, verbose=0,\n",
       "                   warm_start=False)"
      ]
     },
     "execution_count": 17,
     "metadata": {},
     "output_type": "execute_result"
    }
   ],
   "source": [
    "# Train with {0,1} label\n",
    "# Train with [0,1] proba\n",
    "\n",
    "lr2_y_hat_bin = LogisticRegression(penalty='l1', random_state=42)\n",
    "lr2_y_hat_proba = LogisticRegression(penalty='l1', random_state=42)\n",
    "\n",
    "lr2_y_hat_bin.fit(lr2_train_bin, y_train_original)\n",
    "lr2_y_hat_proba.fit(lr2_train_proba, y_train_original)"
   ]
  },
  {
   "cell_type": "code",
   "execution_count": 18,
   "metadata": {},
   "outputs": [],
   "source": [
    "y_test_pred_bin = lr2_y_hat_bin.predict(lr2_test_bin)\n",
    "y_test_pred_proba = lr2_y_hat_proba.predict(lr2_test_proba)"
   ]
  },
  {
   "cell_type": "code",
   "execution_count": 19,
   "metadata": {},
   "outputs": [
    {
     "name": "stdout",
     "output_type": "stream",
     "text": [
      "0.84172\n",
      "0.84176\n",
      "\n",
      "0.89284\n",
      "0.89316\n"
     ]
    }
   ],
   "source": [
    "print(lr2_y_hat_bin.score(lr2_test_bin,y_test_original))\n",
    "print(lr2_y_hat_proba.score(lr2_test_proba,y_test_original))\n",
    "print()\n",
    "print(lr2_y_hat_bin.score(lr2_train_bin,y_train_original))\n",
    "print(lr2_y_hat_proba.score(lr2_train_proba,y_train_original))"
   ]
  },
  {
   "cell_type": "code",
   "execution_count": 20,
   "metadata": {},
   "outputs": [
    {
     "name": "stdout",
     "output_type": "stream",
     "text": [
      "[-1.51896895]\n",
      "[-1.60487157]\n"
     ]
    }
   ],
   "source": [
    "print(lr2_y_hat_bin.intercept_)\n",
    "print(lr2_y_hat_proba.intercept_)"
   ]
  },
  {
   "cell_type": "code",
   "execution_count": 21,
   "metadata": {},
   "outputs": [],
   "source": [
    "# print_weight(lr2_y_hat_bin, lr2_y_hat_proba)"
   ]
  },
  {
   "cell_type": "code",
   "execution_count": 22,
   "metadata": {},
   "outputs": [],
   "source": [
    "# print_weight(lr2_y_hat_proba)"
   ]
  },
  {
   "cell_type": "markdown",
   "metadata": {},
   "source": [
    "### What if... we put scale and ReLU manually\n",
    "\n",
    "If we do not scale. Then, the negative weights would be closer to zero. The magnitude would be lesser."
   ]
  },
  {
   "cell_type": "code",
   "execution_count": 23,
   "metadata": {},
   "outputs": [],
   "source": [
    "predicted_y = lr1.predict(X_train)\n",
    "proba_y = lr1.predict_proba(X_train)[:,1]\n",
    "\n",
    "# Scale\n",
    "\n",
    "predicted_y = predicted_y * 2 - 1\n",
    "proba_y = proba_y * 2 - 1"
   ]
  },
  {
   "cell_type": "code",
   "execution_count": 24,
   "metadata": {},
   "outputs": [],
   "source": [
    "lr2_train_bin = list()\n",
    "for i,y in enumerate(predicted_y):\n",
    "    if y == 1:\n",
    "        lr2_train_bin.append(y_train_agreement_pos[i] * y)\n",
    "    else:\n",
    "        lr2_train_bin.append(y_train_agreement_neg[i] * y)\n",
    "        \n",
    "lr2_train_bin = np.asarray(lr2_train_bin)\n",
    "\n",
    "lr2_train_proba = list()\n",
    "for i,y in enumerate(proba_y):\n",
    "    if y >= 0.5:\n",
    "        lr2_train_proba.append(y_train_agreement_pos[i] * y)\n",
    "    else:\n",
    "        lr2_train_proba.append(y_train_agreement_neg[i] * y)\n",
    "        \n",
    "lr2_train_proba = np.asarray(lr2_train_proba)"
   ]
  },
  {
   "cell_type": "code",
   "execution_count": 25,
   "metadata": {},
   "outputs": [
    {
     "name": "stderr",
     "output_type": "stream",
     "text": [
      "/usr/local/lib/python3.6/dist-packages/sklearn/linear_model/logistic.py:432: FutureWarning: Default solver will be changed to 'lbfgs' in 0.22. Specify a solver to silence this warning.\n",
      "  FutureWarning)\n",
      "/usr/local/lib/python3.6/dist-packages/sklearn/linear_model/logistic.py:432: FutureWarning: Default solver will be changed to 'lbfgs' in 0.22. Specify a solver to silence this warning.\n",
      "  FutureWarning)\n"
     ]
    },
    {
     "data": {
      "text/plain": [
       "LogisticRegression(C=1.0, class_weight=None, dual=False, fit_intercept=True,\n",
       "                   intercept_scaling=1, l1_ratio=None, max_iter=100,\n",
       "                   multi_class='warn', n_jobs=None, penalty='l1',\n",
       "                   random_state=42, solver='warn', tol=0.0001, verbose=0,\n",
       "                   warm_start=False)"
      ]
     },
     "execution_count": 25,
     "metadata": {},
     "output_type": "execute_result"
    }
   ],
   "source": [
    "# Train with {0,1} label\n",
    "# Train with [0,1] proba\n",
    "\n",
    "lr2_y_hat_bin = LogisticRegression(penalty='l1', random_state=42)\n",
    "lr2_y_hat_proba = LogisticRegression(penalty='l1', random_state=42)\n",
    "\n",
    "lr2_y_hat_bin.fit(lr2_train_bin, y_train_original)\n",
    "lr2_y_hat_proba.fit(lr2_train_proba, y_train_original)"
   ]
  },
  {
   "cell_type": "code",
   "execution_count": 26,
   "metadata": {},
   "outputs": [],
   "source": [
    "# Test with predict {0,1}\n",
    "\n",
    "predicted_y_test = lr1.predict(X_test)\n",
    "predicted_y_test = predicted_y_test * 2 - 1\n",
    "\n",
    "lr2_test_bin = list()\n",
    "for i,y in enumerate(predicted_y_test):\n",
    "    if y==1:\n",
    "        lr2_test_bin.append(y_test_agreement_pos[i] * y)\n",
    "    else:\n",
    "        lr2_test_bin.append(y_test_agreement_neg[i] * y)\n",
    "    \n",
    "lr2_test_bin = np.asarray(lr2_test_bin)\n",
    "\n",
    "\n",
    "# Test with predict [0,1]\n",
    "\n",
    "predicted_y_test_proba = lr1.predict_proba(X_test)[:,1]\n",
    "predicted_y_test_proba = predicted_y_test_proba * 2 - 1\n",
    "\n",
    "lr2_test_proba = list()\n",
    "for i,y in enumerate(predicted_y_test_proba):\n",
    "    if y>=0:\n",
    "        lr2_test_proba.append(y_test_agreement_pos[i] * y)\n",
    "    else:\n",
    "        lr2_test_proba.append(y_test_agreement_neg[i] * y)\n",
    "    \n",
    "lr2_test_proba = np.asarray(lr2_test_proba)"
   ]
  },
  {
   "cell_type": "code",
   "execution_count": 27,
   "metadata": {},
   "outputs": [
    {
     "name": "stdout",
     "output_type": "stream",
     "text": [
      "0.856\n",
      "0.85648\n",
      "\n",
      "0.90536\n",
      "0.90496\n"
     ]
    }
   ],
   "source": [
    "print(lr2_y_hat_bin.score(lr2_test_bin,y_test_original))\n",
    "print(lr2_y_hat_proba.score(lr2_test_proba,y_test_original))\n",
    "print()\n",
    "print(lr2_y_hat_bin.score(lr2_train_bin,y_train_original))\n",
    "print(lr2_y_hat_proba.score(lr2_train_proba,y_train_original))"
   ]
  },
  {
   "cell_type": "code",
   "execution_count": 28,
   "metadata": {},
   "outputs": [],
   "source": [
    "accept_indices = np.where(np.sum(lr2_test_proba,axis=1)!=0)[0]"
   ]
  },
  {
   "cell_type": "code",
   "execution_count": 29,
   "metadata": {},
   "outputs": [
    {
     "name": "stdout",
     "output_type": "stream",
     "text": [
      "0.8965626989178866\n",
      "0.8971083022642539\n"
     ]
    }
   ],
   "source": [
    "print(lr2_y_hat_bin.score(lr2_test_bin[accept_indices], y_test_original[accept_indices]))\n",
    "print(lr2_y_hat_proba.score(lr2_test_proba[accept_indices], y_test_original[accept_indices]))"
   ]
  },
  {
   "cell_type": "code",
   "execution_count": 30,
   "metadata": {},
   "outputs": [
    {
     "data": {
      "text/plain": [
       "0.3502183449411724"
      ]
     },
     "execution_count": 30,
     "metadata": {},
     "output_type": "execute_result"
    }
   ],
   "source": [
    "from sklearn.metrics import log_loss\n",
    "\n",
    "p = lr2_y_hat_proba.predict_proba(lr2_test_proba[accept_indices])[:,1]\n",
    "\n",
    "log_loss(y_test_original[accept_indices], p)"
   ]
  },
  {
   "cell_type": "code",
   "execution_count": 31,
   "metadata": {},
   "outputs": [
    {
     "data": {
      "text/plain": [
       "array([    8,    12,    36, ..., 24992, 24997, 24998])"
      ]
     },
     "execution_count": 31,
     "metadata": {},
     "output_type": "execute_result"
    }
   ],
   "source": [
    "np.where(np.sum(lr2_test_bin,axis=1)==0)[0]"
   ]
  },
  {
   "cell_type": "code",
   "execution_count": 32,
   "metadata": {},
   "outputs": [
    {
     "data": {
      "text/plain": [
       "0.12024"
      ]
     },
     "execution_count": 32,
     "metadata": {},
     "output_type": "execute_result"
    }
   ],
   "source": [
    "np.sum(np.sum(lr2_test_proba,axis=1)==0)/lr2_test_proba.shape[0]"
   ]
  },
  {
   "cell_type": "code",
   "execution_count": 33,
   "metadata": {},
   "outputs": [
    {
     "data": {
      "text/plain": [
       "3006"
      ]
     },
     "execution_count": 33,
     "metadata": {},
     "output_type": "execute_result"
    }
   ],
   "source": [
    "np.sum(np.sum(lr2_test_proba,axis=1)==0)"
   ]
  },
  {
   "cell_type": "code",
   "execution_count": 34,
   "metadata": {},
   "outputs": [
    {
     "data": {
      "text/plain": [
       "array([0., 0., 0., 0., 0., 0., 0., 0., 0., 0., 0., 0., 0., 0., 0., 0., 0.,\n",
       "       0., 0., 0., 0., 0., 0., 0., 0., 0., 0., 0., 0., 0., 0., 0., 0., 0.,\n",
       "       0., 0., 0., 0., 0., 0., 0., 0., 0., 0., 0., 0., 0., 0., 0., 0., 0.,\n",
       "       0., 0., 0., 0., 0., 0., 0., 0., 0., 0., 0., 0., 0., 0., 0., 0., 0.,\n",
       "       0., 0., 0., 0., 0., 0., 0., 0., 0., 0., 0., 0., 0., 0., 0.])"
      ]
     },
     "execution_count": 34,
     "metadata": {},
     "output_type": "execute_result"
    }
   ],
   "source": [
    "lr2_test_proba[8]"
   ]
  },
  {
   "cell_type": "code",
   "execution_count": 35,
   "metadata": {},
   "outputs": [
    {
     "data": {
      "text/plain": [
       "array([0, 0, 0, 0, 0, 0, 0, 0, 0, 0, 0, 0, 0, 0, 0, 0, 0, 0, 0, 0, 0, 0,\n",
       "       0, 0, 0, 0, 0, 0, 0, 0, 0, 0, 0, 0, 0, 0, 0, 0, 0, 0, 0, 0, 0, 0,\n",
       "       0, 0, 0, 0, 0, 0, 0, 0, 0, 0, 0, 0, 0, 0, 0, 0, 0, 0, 0, 0, 0, 0,\n",
       "       0, 0, 0, 0, 0, 0, 0, 0, 0, 0, 0, 0, 0, 0, 0, 0, 0])"
      ]
     },
     "execution_count": 35,
     "metadata": {},
     "output_type": "execute_result"
    }
   ],
   "source": [
    "lr2_test_bin[8]"
   ]
  },
  {
   "cell_type": "code",
   "execution_count": 36,
   "metadata": {},
   "outputs": [
    {
     "data": {
      "text/plain": [
       "0.31825049869445077"
      ]
     },
     "execution_count": 36,
     "metadata": {},
     "output_type": "execute_result"
    }
   ],
   "source": [
    "predicted_y_test_proba[8]"
   ]
  },
  {
   "cell_type": "code",
   "execution_count": 37,
   "metadata": {},
   "outputs": [
    {
     "data": {
      "text/plain": [
       "1"
      ]
     },
     "execution_count": 37,
     "metadata": {},
     "output_type": "execute_result"
    }
   ],
   "source": [
    "predicted_y_test[8]"
   ]
  },
  {
   "cell_type": "code",
   "execution_count": 38,
   "metadata": {},
   "outputs": [
    {
     "name": "stdout",
     "output_type": "stream",
     "text": [
      "8/10 \t 2.783 \t 2.919 \t 1\n",
      "7/10 \t 2.606 \t 2.803 \t 1\n",
      "noir \t 2.014 \t 3.068 \t 1\n",
      "superb \t 2.003 \t 3.072 \t 1\n",
      "brilliant \t 1.895 \t 2.570 \t 1\n",
      "10/10 \t 1.754 \t 1.916 \t 1\n",
      "9/10 \t 1.714 \t 1.455 \t 1\n",
      "refreshing \t 1.638 \t 1.461 \t 1\n",
      "incredible \t 1.631 \t 2.308 \t 1\n",
      "surprisingly \t 1.421 \t 1.940 \t 1\n",
      "amazing \t 1.416 \t 2.183 \t 1\n",
      "excellent \t 1.409 \t 1.957 \t 1\n",
      "great \t 1.380 \t 2.360 \t 1\n",
      "fascinating \t 1.369 \t 2.367 \t 1\n",
      "beautiful \t 1.365 \t 2.408 \t 1\n",
      "gem \t 1.360 \t 2.425 \t 1\n",
      "enjoyed \t 1.346 \t 1.694 \t 1\n",
      "wonderful \t 1.326 \t 2.334 \t 1\n",
      "perfect \t 1.324 \t 2.369 \t 1\n",
      "fantastic \t 1.297 \t 1.652 \t 1\n",
      "best \t 1.293 \t 2.355 \t 1\n",
      "favorite \t 1.290 \t 1.963 \t 1\n",
      "rare \t 1.251 \t 2.202 \t 1\n",
      "subtle \t 1.188 \t 2.220 \t 1\n",
      "solid \t 1.139 \t 1.981 \t 1\n",
      "fun \t 1.094 \t 2.267 \t 1\n",
      "recommended \t 1.069 \t 2.035 \t 1\n",
      "loved \t 1.023 \t 2.030 \t 1\n",
      "enjoyable \t 0.957 \t 1.987 \t 1\n",
      "beautifully \t 0.606 \t -0.163 \t 1\n",
      "wasted \t 0.508 \t 0.650 \t 0\n",
      "funniest \t 0.279 \t 0.070 \t 1\n",
      "5/10 \t 0.101 \t 0.432 \t 1\n",
      "wonderfully \t 0.028 \t 0.000 \t 1\n",
      "badly \t 0.000 \t 0.410 \t 0\n",
      "6/10 \t 0.000 \t 0.000 \t 1\n",
      "perfectly \t -0.068 \t -0.417 \t 1\n",
      "poorly \t -0.541 \t -0.725 \t 0\n",
      "bland \t -0.732 \t -1.504 \t 0\n",
      "sadly \t -0.790 \t -1.325 \t 0\n",
      "mst3k \t -0.824 \t -1.257 \t 0\n",
      "funny \t -0.831 \t -1.765 \t 0\n",
      "pathetic \t -0.840 \t -1.112 \t 0\n",
      "mediocre \t -0.847 \t -1.463 \t 0\n",
      "weak \t -0.943 \t -2.023 \t 0\n",
      "disappointed \t -0.981 \t -1.601 \t 0\n",
      "unfunny \t -1.020 \t -0.075 \t 0\n",
      "ridiculous \t -1.039 \t -1.619 \t 0\n",
      "unfortunately \t -1.065 \t -2.253 \t 0\n",
      "annoying \t -1.087 \t -1.623 \t 0\n",
      "terrible \t -1.159 \t -1.574 \t 0\n",
      "predictable \t -1.174 \t -2.051 \t 0\n",
      "forgettable \t -1.179 \t -1.805 \t 0\n",
      "cheap \t -1.190 \t -1.908 \t 0\n",
      "horrible \t -1.201 \t -1.754 \t 0\n",
      "dull \t -1.216 \t -1.642 \t 0\n",
      "stupid \t -1.254 \t -1.882 \t 0\n",
      "mess \t -1.255 \t -2.161 \t 0\n",
      "tedious \t -1.291 \t -1.541 \t 0\n",
      "disappointing \t -1.313 \t -1.956 \t 0\n",
      "poor \t -1.358 \t -1.928 \t 0\n",
      "lacks \t -1.401 \t -1.738 \t 0\n",
      "worse \t -1.406 \t -1.739 \t 0\n",
      "bad \t -1.412 \t -2.318 \t 0\n",
      "awful \t -1.449 \t -2.065 \t 0\n",
      "lame \t -1.468 \t -2.317 \t 0\n",
      "redeeming \t -1.476 \t -1.636 \t 0\n",
      "obnoxious \t -1.490 \t -2.323 \t 0\n",
      "boring \t -1.510 \t -2.432 \t 0\n",
      "laughable \t -1.545 \t -2.162 \t 0\n",
      "insult \t -1.595 \t -1.853 \t 0\n",
      "lousy \t -1.636 \t -2.132 \t 0\n",
      "avoid \t -1.678 \t -2.645 \t 0\n",
      "worst \t -1.681 \t -2.404 \t 0\n",
      "disappointment \t -1.742 \t -2.449 \t 0\n",
      "fails \t -1.751 \t -2.221 \t 0\n",
      "pointless \t -1.946 \t -2.035 \t 0\n",
      "dreadful \t -2.010 \t -1.999 \t 0\n",
      "waste \t -2.153 \t -2.726 \t 0\n",
      "4/10 \t -2.374 \t -2.471 \t 0\n",
      "1/10 \t -2.494 \t -2.345 \t 0\n",
      "2/10 \t -3.064 \t -2.795 \t 0\n",
      "3/10 \t -3.431 \t -3.156 \t 0\n"
     ]
    }
   ],
   "source": [
    "print_weight(lr2_y_hat_bin, lr2_y_hat_proba)"
   ]
  },
  {
   "cell_type": "code",
   "execution_count": 39,
   "metadata": {},
   "outputs": [],
   "source": [
    "# becasue LR sklearn use a regularization"
   ]
  },
  {
   "cell_type": "code",
   "execution_count": 40,
   "metadata": {},
   "outputs": [],
   "source": [
    "from IPython import display\n",
    "\n",
    "from coloredweighteddoc import ColoredWeightedDoc"
   ]
  },
  {
   "cell_type": "code",
   "execution_count": 41,
   "metadata": {},
   "outputs": [],
   "source": [
    "# review = list(['I was in Chicago last week. And I wanted to see a movie so bad. I am surprised that the movie itself is just amazing.  The plot was kinda weak, but it was great.  Christopher Nolan is just brilliant. Never fails to amaze. Even though the weather was terrible, but I enjoyed it. No regret! Overall, 9/10 . Recommended.'])\n",
    "\n",
    "review = list(['i went to the movie. the movie is terrible. acting was great, but the plot was awful. the weather is excellent. 1/10 . avoid it.'])"
   ]
  },
  {
   "cell_type": "code",
   "execution_count": 42,
   "metadata": {},
   "outputs": [
    {
     "name": "stderr",
     "output_type": "stream",
     "text": [
      "/usr/local/lib/python3.6/dist-packages/sklearn/linear_model/logistic.py:432: FutureWarning: Default solver will be changed to 'lbfgs' in 0.22. Specify a solver to silence this warning.\n",
      "  FutureWarning)\n"
     ]
    },
    {
     "data": {
      "text/plain": [
       "LogisticRegression(C=0.01, class_weight=None, dual=False, fit_intercept=True,\n",
       "                   intercept_scaling=1, l1_ratio=None, max_iter=100,\n",
       "                   multi_class='warn', n_jobs=None, penalty='l1',\n",
       "                   random_state=42, solver='warn', tol=0.0001, verbose=0,\n",
       "                   warm_start=False)"
      ]
     },
     "execution_count": 42,
     "metadata": {},
     "output_type": "execute_result"
    }
   ],
   "source": [
    "lr1 = LogisticRegression(C=0.01, random_state=42, penalty='l1')\n",
    "lr1.fit(X_train, y_train_original)"
   ]
  },
  {
   "cell_type": "code",
   "execution_count": 43,
   "metadata": {},
   "outputs": [],
   "source": [
    "review_cv = cv.transform(review)\n",
    "words = cv.get_feature_names()\n",
    "weights = lr1.coef_.flatten()"
   ]
  },
  {
   "cell_type": "code",
   "execution_count": 44,
   "metadata": {
    "scrolled": true
   },
   "outputs": [
    {
     "data": {
      "text/html": [
       "<font size = 1, color=gray> i </font><font size = 1, color=gray> went </font><font size = 1, color=gray> to </font><font size = 1, color=gray> the </font><font size = 1, color=red> movie. </font><font size = 1, color=gray> the </font><font size = 1, color=red> movie </font><font size = 1, color=blue> is </font><font size = 3, color=red> terrible. </font><font size = 1, color=red> acting </font><font size = 1, color=red> was </font><font size = 4, color=blue> great, </font><font size = 1, color=gray> but </font><font size = 1, color=gray> the </font><font size = 2, color=red> plot </font><font size = 1, color=red> was </font><font size = 5, color=red> awful. </font><font size = 1, color=gray> the </font><font size = 1, color=gray> weather </font><font size = 1, color=blue> is </font><font size = 5, color=blue> excellent. </font><font size = 1, color=gray> 1/10 </font><font size = 1, color=gray> . </font><font size = 1, color=red> avoid </font><font size = 1, color=blue> it. </font>"
      ],
      "text/plain": [
       "<coloredweighteddoc.ColoredWeightedDoc at 0x7f3b888e6ba8>"
      ]
     },
     "metadata": {},
     "output_type": "display_data"
    }
   ],
   "source": [
    "display.display(ColoredWeightedDoc(review[0], words, weights, binary = False))"
   ]
  },
  {
   "cell_type": "code",
   "execution_count": 45,
   "metadata": {},
   "outputs": [
    {
     "data": {
      "text/plain": [
       "array([0], dtype=int32)"
      ]
     },
     "execution_count": 45,
     "metadata": {},
     "output_type": "execute_result"
    }
   ],
   "source": [
    "lr1.predict(review_cv)"
   ]
  },
  {
   "cell_type": "code",
   "execution_count": 46,
   "metadata": {},
   "outputs": [
    {
     "data": {
      "text/plain": [
       "['1/10',\n",
       " '2/10',\n",
       " '3/10',\n",
       " '4/10',\n",
       " '5/10',\n",
       " '6/10',\n",
       " '7/10',\n",
       " '8/10',\n",
       " '9/10',\n",
       " '10/10',\n",
       " 'amazing',\n",
       " 'annoying',\n",
       " 'avoid',\n",
       " 'awful',\n",
       " 'bad',\n",
       " 'badly',\n",
       " 'beautiful',\n",
       " 'beautifully',\n",
       " 'best',\n",
       " 'bland',\n",
       " 'boring',\n",
       " 'brilliant',\n",
       " 'cheap',\n",
       " 'disappointed',\n",
       " 'disappointing',\n",
       " 'disappointment',\n",
       " 'dreadful',\n",
       " 'dull',\n",
       " 'enjoyable',\n",
       " 'enjoyed',\n",
       " 'excellent',\n",
       " 'fails',\n",
       " 'fantastic',\n",
       " 'fascinating',\n",
       " 'favorite',\n",
       " 'forgettable',\n",
       " 'fun',\n",
       " 'funny',\n",
       " 'funniest',\n",
       " 'gem',\n",
       " 'great',\n",
       " 'horrible',\n",
       " 'incredible',\n",
       " 'insult',\n",
       " 'lacks',\n",
       " 'lame',\n",
       " 'laughable',\n",
       " 'lousy',\n",
       " 'loved',\n",
       " 'mediocre',\n",
       " 'mess',\n",
       " 'mst3k',\n",
       " 'noir',\n",
       " 'obnoxious',\n",
       " 'pathetic',\n",
       " 'perfect',\n",
       " 'perfectly',\n",
       " 'pointless',\n",
       " 'poor',\n",
       " 'poorly',\n",
       " 'predictable',\n",
       " 'rare',\n",
       " 'recommended',\n",
       " 'redeeming',\n",
       " 'refreshing',\n",
       " 'ridiculous',\n",
       " 'sadly',\n",
       " 'solid',\n",
       " 'stupid',\n",
       " 'subtle',\n",
       " 'superb',\n",
       " 'surprisingly',\n",
       " 'tedious',\n",
       " 'terrible',\n",
       " 'unfortunately',\n",
       " 'unfunny',\n",
       " 'waste',\n",
       " 'wasted',\n",
       " 'weak',\n",
       " 'wonderful',\n",
       " 'wonderfully',\n",
       " 'worse',\n",
       " 'worst']"
      ]
     },
     "execution_count": 46,
     "metadata": {},
     "output_type": "execute_result"
    }
   ],
   "source": [
    "word_list"
   ]
  },
  {
   "cell_type": "code",
   "execution_count": 47,
   "metadata": {},
   "outputs": [
    {
     "data": {
      "text/plain": [
       "array([0.4115806])"
      ]
     },
     "execution_count": 47,
     "metadata": {},
     "output_type": "execute_result"
    }
   ],
   "source": [
    "lr1.predict_proba(review_cv)[:,1]"
   ]
  },
  {
   "cell_type": "code",
   "execution_count": 48,
   "metadata": {},
   "outputs": [
    {
     "name": "stdout",
     "output_type": "stream",
     "text": [
      "worst -1.2842515039051958\n",
      "waste -1.0065469401437892\n",
      "awful -0.8980442415704627\n",
      "bad -0.7767717048859519\n",
      "boring -0.6373151896568955\n",
      "poor -0.5645964485179006\n",
      "terrible -0.4936919105797549\n",
      "nothing -0.4303432480178849\n",
      "stupid -0.42005432604835014\n",
      "worse -0.3849472284771958\n",
      "supposed -0.3735232682664809\n",
      "no -0.33481738233288877\n",
      "dull -0.3115335092612119\n",
      "script -0.30772850884910136\n",
      "poorly -0.29333117177627327\n",
      "minute -0.29130517908433423\n",
      "unfortunately -0.2692659567405329\n",
      "horrible -0.26285445771150406\n",
      "plot -0.2602081716911528\n",
      "annoying -0.23256980612930267\n",
      "instead -0.22594661884291586\n",
      "even -0.1893470524210007\n",
      "ridiculous -0.18020222218454074\n",
      "could -0.16059086072052153\n",
      "any -0.15933860387651116\n",
      "money -0.15827458565855743\n",
      "oh -0.1543228125124743\n",
      "why -0.14837421463176279\n",
      "least -0.1476850969370449\n",
      "just -0.14082331136840898\n"
     ]
    }
   ],
   "source": [
    "indices = np.argsort(weights)\n",
    "\n",
    "for i in indices[:30]:\n",
    "    print(words[i], weights[i])"
   ]
  },
  {
   "cell_type": "code",
   "execution_count": 56,
   "metadata": {},
   "outputs": [],
   "source": [
    "ht_lr = LogisticRegression(penalty='l1', random_state=42)\n",
    "\n",
    "y_train_agreement_LR = np.copy(y_train_agreement)\n",
    "y_train_agreement_LR[y_train_agreement_LR != 0] = 1\n",
    "y_test_agreement_LR = np.copy(y_test_agreement)\n",
    "y_test_agreement_LR[y_test_agreement_LR != 0] = 1\n",
    "\n",
    "# cv_ht = CountVectorizer(binary=True, vocabulary=word_list)\n",
    "# X = cv_ht.fit_transform(list([X_test_original[2062]]))"
   ]
  },
  {
   "cell_type": "code",
   "execution_count": 57,
   "metadata": {},
   "outputs": [
    {
     "data": {
      "text/plain": [
       "LogisticRegression(C=1.0, class_weight=None, dual=False, fit_intercept=True,\n",
       "                   intercept_scaling=1, l1_ratio=None, max_iter=100,\n",
       "                   multi_class='warn', n_jobs=None, penalty='l1',\n",
       "                   random_state=42, solver='warn', tol=0.0001, verbose=0,\n",
       "                   warm_start=False)"
      ]
     },
     "execution_count": 57,
     "metadata": {},
     "output_type": "execute_result"
    }
   ],
   "source": [
    "ht_lr.fit(y_train_agreement_LR, y_train_original)"
   ]
  },
  {
   "cell_type": "code",
   "execution_count": 68,
   "metadata": {},
   "outputs": [],
   "source": [
    "# ht_ex = cv_ht.transform(review)\n",
    "\n",
    "lr1 = LogisticRegression(penalty='l1', random_state=42)\n",
    "lr1.fit(X_train, y_train_original)\n",
    "w_original = lr1.coef_[0]"
   ]
  },
  {
   "cell_type": "code",
   "execution_count": 66,
   "metadata": {},
   "outputs": [
    {
     "data": {
      "text/html": [
       "<font size = 1, color=gray> the </font><font size = 1, color=gray> odd </font><font size = 1, color=gray> mixture </font><font size = 1, color=gray> of </font><font size = 1, color=gray> comedy </font><font size = 1, color=gray> and </font><font size = 1, color=gray> horror </font><font size = 1, color=gray> sometimes </font><font size = 1, color=gray> works </font><font size = 1, color=gray> and </font><font size = 1, color=gray> sometimes </font><font size = 1, color=gray> does </font><font size = 1, color=gray> not. </font><font size = 1, color=gray> had </font><font size = 1, color=gray> the </font><font size = 1, color=gray> main </font><font size = 1, color=gray> male </font><font size = 1, color=gray> character </font><font size = 1, color=gray> been </font><font size = 1, color=gray> a </font><font size = 1, color=gray> little </font><font size = 1, color=gray> more </font><font size = 1, color=gray> interesting, </font><font size = 1, color=gray> the </font><font size = 1, color=gray> film </font><font size = 1, color=gray> would </font><font size = 1, color=gray> have </font><font size = 1, color=gray> been </font><font size = 1, color=gray> as </font><font size = 1, color=gray> well. </font><font size = 1, color=gray> a </font><font size = 1, color=gray> trio </font><font size = 1, color=gray> of </font><font size = 1, color=gray> young </font><font size = 1, color=gray> american </font><font size = 1, color=gray> visit </font><font size = 1, color=gray> paris, </font><font size = 1, color=gray> run </font><font size = 1, color=gray> into </font><font size = 1, color=gray> a </font><font size = 2, color=blue> beautiful </font><font size = 1, color=gray> werewolf, </font><font size = 1, color=gray> and </font><font size = 1, color=gray> the </font><font size = 1, color=gray> problem </font><font size = 1, color=gray> confound </font><font size = 1, color=gray> from </font><font size = 1, color=gray> there.numerous </font><font size = 1, color=gray> logic </font><font size = 1, color=gray> hole </font><font size = 1, color=gray> make </font><font size = 1, color=gray> the </font><font size = 1, color=gray> possibly </font><font size = 1, color=gray> intriguing </font><font size = 1, color=gray> story </font><font size = 1, color=gray> difficult </font><font size = 1, color=gray> to </font><font size = 1, color=gray> take. </font>"
      ],
      "text/plain": [
       "<coloredweighteddoc.ColoredWeightedDoc at 0x7f3b8883bb38>"
      ]
     },
     "metadata": {},
     "output_type": "display_data"
    },
    {
     "data": {
      "text/html": [
       "<font size = 1, color=gray> a </font><font size = 1, color=gray> bit </font><font size = 1, color=gray> too </font><font size = 1, color=gray> much </font><font size = 1, color=gray> mediterrenean </font><font size = 1, color=gray> machismo </font><font size = 1, color=gray> for </font><font size = 1, color=gray> me. </font><font size = 1, color=gray> the </font><font size = 1, color=gray> cast </font><font size = 1, color=gray> was </font><font size = 2, color=blue> beautiful, </font><font size = 1, color=gray> lovely </font><font size = 1, color=gray> to </font><font size = 1, color=gray> watch </font><font size = 1, color=gray> in </font><font size = 1, color=gray> all </font><font size = 1, color=gray> of </font><font size = 1, color=gray> the </font><font size = 1, color=gray> romantic </font><font size = 1, color=gray> scene. </font><font size = 1, color=gray> the </font><font size = 1, color=gray> locale </font><font size = 1, color=gray> was </font><font size = 2, color=blue> beautiful </font><font size = 1, color=gray> with </font><font size = 1, color=gray> azure </font><font size = 1, color=gray> sky </font><font size = 1, color=gray> and </font><font size = 1, color=gray> azure </font><font size = 1, color=gray> water. </font><font size = 1, color=gray> it </font><font size = 1, color=gray> just </font><font size = 1, color=gray> was </font><font size = 1, color=gray> not </font><font size = 1, color=gray> convincing </font><font size = 1, color=gray> to </font><font size = 1, color=gray> me </font><font size = 1, color=gray> that </font><font size = 1, color=gray> such </font><font size = 1, color=gray> an </font><font size = 1, color=gray> egomaniac </font><font size = 1, color=gray> crud </font><font size = 1, color=gray> bent </font><font size = 1, color=gray> on </font><font size = 1, color=gray> nothing </font><font size = 1, color=gray> but </font><font size = 1, color=gray> his </font><font size = 1, color=gray> building, </font><font size = 1, color=gray> could </font><font size = 1, color=gray> attract </font><font size = 1, color=gray> so </font><font size = 1, color=gray> many </font><font size = 2, color=blue> beautiful, </font><font size = 1, color=gray> vulnerable, </font><font size = 1, color=gray> woman. </font><font size = 1, color=gray> only </font><font size = 1, color=gray> in </font><font size = 1, color=gray> the </font><font size = 1, color=gray> mediterranean </font><font size = 1, color=gray> i </font><font size = 1, color=gray> guess. </font><font size = 1, color=gray> certainly </font><font size = 1, color=gray> in </font><font size = 1, color=gray> no </font><font size = 1, color=gray> world </font><font size = 1, color=gray> i </font><font size = 1, color=gray> am </font><font size = 1, color=gray> familiar </font><font size = 1, color=gray> with. </font><font size = 1, color=gray> the </font><font size = 1, color=gray> macho </font><font size = 1, color=gray> man </font><font size = 1, color=gray> were </font><font size = 1, color=gray> really </font><font size = 2, color=red> obnoxious, </font><font size = 1, color=gray> and </font><font size = 1, color=gray> i </font><font size = 1, color=gray> found </font><font size = 1, color=gray> it </font><font size = 1, color=gray> difficult </font><font size = 1, color=gray> to </font><font size = 1, color=gray> believe </font><font size = 1, color=gray> that </font><font size = 1, color=gray> the </font><font size = 1, color=gray> female </font><font size = 1, color=gray> character </font><font size = 1, color=gray> could </font><font size = 1, color=gray> have </font><font size = 1, color=gray> anything </font><font size = 1, color=gray> to </font><font size = 1, color=gray> to </font><font size = 1, color=gray> with </font><font size = 1, color=gray> them </font><font size = 1, color=gray> for </font><font size = 1, color=gray> so </font><font size = 1, color=gray> long. </font><font size = 1, color=gray> the </font><font size = 1, color=gray> screenplay, </font><font size = 1, color=gray> cinematography, </font><font size = 1, color=gray> directing, </font><font size = 1, color=gray> etc. </font><font size = 1, color=gray> was </font><font size = 1, color=gray> set </font><font size = 1, color=gray> up </font><font size = 1, color=gray> to </font><font size = 1, color=gray> deliver </font><font size = 1, color=gray> a </font><font size = 1, color=gray> class </font><font size = 1, color=gray> b </font><font size = 1, color=gray> film, </font><font size = 1, color=gray> the </font><font size = 1, color=gray> central </font><font size = 1, color=gray> effort </font><font size = 1, color=gray> being </font><font size = 1, color=gray> on </font><font size = 1, color=gray> showing </font><font size = 1, color=gray> scene </font><font size = 1, color=gray> of </font><font size = 2, color=blue> beautiful </font><font size = 1, color=gray> exposed </font><font size = 1, color=gray> female </font><font size = 1, color=gray> east. </font><font size = 1, color=gray> it </font><font size = 1, color=gray> was </font><font size = 1, color=gray> aesthetically </font><font size = 1, color=gray> nice </font><font size = 1, color=gray> for </font><font size = 1, color=gray> a </font><font size = 1, color=gray> while </font><font size = 1, color=gray> but </font><font size = 1, color=gray> it </font><font size = 1, color=gray> could </font><font size = 1, color=gray> not </font><font size = 1, color=gray> sustain </font><font size = 1, color=gray> a </font><font size = 1, color=gray> very </font><font size = 2, color=red> mediocre </font><font size = 1, color=gray> film. </font>"
      ],
      "text/plain": [
       "<coloredweighteddoc.ColoredWeightedDoc at 0x7f3b8883bb00>"
      ]
     },
     "metadata": {},
     "output_type": "display_data"
    },
    {
     "data": {
      "text/html": [
       "<font size = 1, color=gray> this </font><font size = 1, color=gray> movie </font><font size = 1, color=gray> is </font><font size = 1, color=gray> about </font><font size = 1, color=gray> the </font><font size = 1, color=gray> crew </font><font size = 1, color=gray> of </font><font size = 1, color=gray> a </font><font size = 1, color=gray> spaceship </font><font size = 1, color=gray> who </font><font size = 1, color=gray> crash </font><font size = 1, color=gray> land </font><font size = 1, color=gray> onto </font><font size = 1, color=gray> a </font><font size = 1, color=gray> strange </font><font size = 1, color=gray> ight </font><font size = 1, color=gray> planet </font><font size = 1, color=gray> with </font><font size = 1, color=gray> three </font><font size = 1, color=gray> sun. </font><font size = 1, color=gray> among </font><font size = 1, color=gray> the </font><font size = 1, color=gray> passenger </font><font size = 1, color=gray> is </font><font size = 1, color=gray> convicted </font><font size = 1, color=gray> serial </font><font size = 1, color=gray> killer, </font><font size = 1, color=gray> richard </font><font size = 1, color=gray> riddick </font><font size = 1, color=gray> (vin </font><font size = 1, color=gray> diesel), </font><font size = 1, color=gray> and </font><font size = 1, color=gray> his </font><font size = 1, color=gray> nemesis, </font><font size = 1, color=gray> johns </font><font size = 1, color=gray> (cole </font><font size = 1, color=gray> hauser). </font><font size = 1, color=gray> while </font><font size = 1, color=gray> the </font><font size = 1, color=gray> survivor </font><font size = 1, color=gray> of </font><font size = 1, color=gray> the </font><font size = 1, color=gray> wreck </font><font size = 1, color=gray> are </font><font size = 1, color=gray> getting </font><font size = 1, color=gray> their </font><font size = 1, color=gray> bearing, </font><font size = 1, color=gray> an </font><font size = 1, color=gray> eclipse </font><font size = 1, color=gray> of </font><font size = 1, color=gray> all </font><font size = 1, color=gray> three </font><font size = 1, color=gray> sun </font><font size = 1, color=gray> happens. </font><font size = 1, color=gray> shortly </font><font size = 1, color=gray> afterward, </font><font size = 1, color=gray> scary </font><font size = 1, color=gray> creature </font><font size = 1, color=gray> begin </font><font size = 1, color=gray> to </font><font size = 1, color=gray> appear </font><font size = 1, color=gray> and </font><font size = 1, color=gray> start </font><font size = 1, color=gray> to </font><font size = 1, color=gray> pick </font><font size = 1, color=gray> off </font><font size = 1, color=gray> the </font><font size = 1, color=gray> crew </font><font size = 1, color=gray> member </font><font size = 1, color=gray> one </font><font size = 1, color=gray> by </font><font size = 1, color=gray> one. </font><font size = 1, color=gray> during </font><font size = 1, color=gray> the </font><font size = 1, color=gray> eclipse, </font><font size = 1, color=gray> riddick </font><font size = 1, color=gray> comes </font><font size = 1, color=gray> into </font><font size = 1, color=gray> his </font><font size = 1, color=gray> own, </font><font size = 1, color=gray> as </font><font size = 1, color=gray> his </font><font size = 1, color=gray> eyeball </font><font size = 1, color=gray> have </font><font size = 1, color=gray> been </font><font size = 1, color=gray> surgically </font><font size = 1, color=gray> shined, </font><font size = 1, color=gray> giving </font><font size = 1, color=gray> him </font><font size = 1, color=gray> night </font><font size = 1, color=gray> vision. </font><font size = 1, color=gray> the </font><font size = 1, color=gray> crew </font><font size = 1, color=gray> have </font><font size = 1, color=gray> to </font><font size = 1, color=gray> rely </font><font size = 1, color=gray> on </font><font size = 1, color=gray> him </font><font size = 1, color=gray> to </font><font size = 1, color=gray> try </font><font size = 1, color=gray> to </font><font size = 1, color=gray> get </font><font size = 1, color=gray> them </font><font size = 1, color=gray> to </font><font size = 1, color=gray> safety.this </font><font size = 1, color=gray> is </font><font size = 1, color=gray> a </font><font size = 1, color=gray> very </font><font size = 1, color=gray> stylish </font><font size = 1, color=gray> film, </font><font size = 1, color=gray> with </font><font size = 1, color=gray> the </font><font size = 1, color=gray> colour </font><font size = 1, color=gray> of </font><font size = 1, color=gray> the </font><font size = 1, color=gray> sky </font><font size = 1, color=gray> changing </font><font size = 1, color=gray> scene </font><font size = 1, color=gray> by </font><font size = 1, color=gray> scene, </font><font size = 1, color=gray> giving </font><font size = 1, color=gray> it </font><font size = 1, color=gray> a </font><font size = 1, color=gray> very </font><font size = 1, color=gray> strange </font><font size = 1, color=gray> look. </font><font size = 1, color=gray> vin </font><font size = 1, color=gray> diesel </font><font size = 1, color=gray> is </font><font size = 1, color=gray> illiant </font><font size = 1, color=gray> as </font><font size = 1, color=gray> riddick, </font><font size = 1, color=gray> truly </font><font size = 1, color=gray> menacing </font><font size = 1, color=gray> but </font><font size = 1, color=gray> forced </font><font size = 1, color=gray> to </font><font size = 1, color=gray> help </font><font size = 1, color=gray> person </font><font size = 1, color=gray> who </font><font size = 1, color=gray> otherwise </font><font size = 1, color=gray> would </font><font size = 1, color=gray> only </font><font size = 1, color=gray> see </font><font size = 1, color=gray> him </font><font size = 1, color=gray> as </font><font size = 1, color=gray> a </font><font size = 1, color=gray> threat. </font><font size = 1, color=gray> there </font><font size = 1, color=gray> is </font><font size = 1, color=gray> also </font><font size = 1, color=gray> an </font><font size = 1, color=gray> underlying </font><font size = 1, color=gray> humour </font><font size = 1, color=gray> in </font><font size = 1, color=gray> his </font><font size = 1, color=gray> performance </font><font size = 1, color=gray> as </font><font size = 1, color=gray> well, </font><font size = 1, color=gray> which </font><font size = 1, color=gray> adds </font><font size = 1, color=gray> another </font><font size = 1, color=gray> dimension </font><font size = 1, color=gray> to </font><font size = 1, color=gray> the </font><font size = 1, color=gray> character. </font><font size = 1, color=gray> this </font><font size = 1, color=gray> is </font><font size = 1, color=gray> the </font><font size = 1, color=gray> sort </font><font size = 1, color=gray> of </font><font size = 1, color=gray> role </font><font size = 1, color=gray> that </font><font size = 1, color=gray> vin </font><font size = 1, color=gray> excel </font><font size = 1, color=gray> in, </font><font size = 1, color=gray> the </font><font size = 1, color=gray> anti-hero, </font><font size = 1, color=gray> whos </font><font size = 1, color=gray> character </font><font size = 1, color=gray> is </font><font size = 1, color=gray> not </font><font size = 1, color=gray> as </font><font size = 1, color=gray> one-dimensional </font><font size = 1, color=gray> as </font><font size = 1, color=gray> first </font><font size = 1, color=gray> appears. </font><font size = 1, color=gray> i </font><font size = 1, color=gray> can </font><font size = 1, color=gray> imagine </font><font size = 1, color=gray> no-one </font><font size = 1, color=gray> else </font><font size = 1, color=gray> in </font><font size = 1, color=gray> this </font><font size = 1, color=gray> role, </font><font size = 1, color=gray> it </font><font size = 1, color=gray> could </font><font size = 1, color=gray> have </font><font size = 1, color=gray> been </font><font size = 1, color=gray> written </font><font size = 1, color=gray> specifically </font><font size = 1, color=gray> for </font><font size = 1, color=gray> him.roll </font><font size = 1, color=gray> on </font><font size = 1, color=gray> chronicle </font><font size = 1, color=gray> of </font><font size = 1, color=gray> riddick! </font>"
      ],
      "text/plain": [
       "<coloredweighteddoc.ColoredWeightedDoc at 0x7f3b8883bb38>"
      ]
     },
     "metadata": {},
     "output_type": "display_data"
    }
   ],
   "source": [
    "w = ht_lr.coef_.flatten()\n",
    "\n",
    "our_reject_lr_correct_idx = 5324\n",
    "our_correct_lr_correct_idx = 305 # OK\n",
    "our_reject_lr_reject = 24611\n",
    "\n",
    "\n",
    "display.display(ColoredWeightedDoc(X_test_original[our_reject_lr_correct_idx], word_list, w, binary = False))\n",
    "display.display(ColoredWeightedDoc(X_test_original[our_correct_lr_correct_idx], word_list, w, binary = False))\n",
    "display.display(ColoredWeightedDoc(X_test_original[our_reject_lr_reject], word_list, w, binary = False))"
   ]
  },
  {
   "cell_type": "code",
   "execution_count": 73,
   "metadata": {},
   "outputs": [
    {
     "name": "stdout",
     "output_type": "stream",
     "text": [
      "0 0 1\n"
     ]
    }
   ],
   "source": [
    "print(y_test_original[our_reject_lr_correct_idx], y_test_original[our_correct_lr_correct_idx], y_test_original[our_reject_lr_reject])"
   ]
  },
  {
   "cell_type": "code",
   "execution_count": 70,
   "metadata": {},
   "outputs": [
    {
     "data": {
      "text/html": [
       "<font size = 1, color=blue> the </font><font size = 1, color=gray> odd </font><font size = 1, color=red> mixture </font><font size = 1, color=red> of </font><font size = 1, color=blue> comedy </font><font size = 1, color=blue> and </font><font size = 1, color=red> horror </font><font size = 1, color=blue> sometimes </font><font size = 1, color=blue> works </font><font size = 1, color=blue> and </font><font size = 1, color=blue> sometimes </font><font size = 1, color=red> does </font><font size = 1, color=red> not. </font><font size = 1, color=red> had </font><font size = 1, color=blue> the </font><font size = 1, color=red> main </font><font size = 1, color=blue> male </font><font size = 1, color=blue> character </font><font size = 1, color=red> been </font><font size = 1, color=gray> a </font><font size = 1, color=blue> little </font><font size = 1, color=blue> more </font><font size = 1, color=red> interesting, </font><font size = 1, color=blue> the </font><font size = 1, color=blue> film </font><font size = 1, color=red> would </font><font size = 1, color=red> have </font><font size = 1, color=red> been </font><font size = 1, color=blue> as </font><font size = 1, color=blue> well. </font><font size = 1, color=gray> a </font><font size = 1, color=gray> trio </font><font size = 1, color=red> of </font><font size = 1, color=blue> young </font><font size = 1, color=blue> american </font><font size = 1, color=gray> visit </font><font size = 1, color=blue> paris, </font><font size = 1, color=red> run </font><font size = 1, color=blue> into </font><font size = 1, color=gray> a </font><font size = 1, color=blue> beautiful </font><font size = 1, color=gray> werewolf, </font><font size = 1, color=blue> and </font><font size = 1, color=blue> the </font><font size = 1, color=red> problem </font><font size = 1, color=gray> confound </font><font size = 1, color=red> from </font><font size = 1, color=red> there.numerous </font><font size = 1, color=red> logic </font><font size = 1, color=blue> hole </font><font size = 1, color=red> make </font><font size = 1, color=blue> the </font><font size = 1, color=gray> possibly </font><font size = 1, color=blue> intriguing </font><font size = 1, color=blue> story </font><font size = 1, color=red> difficult </font><font size = 1, color=red> to </font><font size = 1, color=blue> take. </font>"
      ],
      "text/plain": [
       "<coloredweighteddoc.ColoredWeightedDoc at 0x7f3b8883beb8>"
      ]
     },
     "metadata": {},
     "output_type": "display_data"
    },
    {
     "data": {
      "text/html": [
       "<font size = 1, color=gray> a </font><font size = 1, color=blue> bit </font><font size = 1, color=red> too </font><font size = 1, color=red> much </font><font size = 1, color=gray> mediterrenean </font><font size = 1, color=gray> machismo </font><font size = 1, color=blue> for </font><font size = 1, color=blue> me. </font><font size = 1, color=blue> the </font><font size = 1, color=blue> cast </font><font size = 1, color=red> was </font><font size = 1, color=blue> beautiful, </font><font size = 1, color=blue> lovely </font><font size = 1, color=red> to </font><font size = 1, color=blue> watch </font><font size = 1, color=blue> in </font><font size = 1, color=blue> all </font><font size = 1, color=red> of </font><font size = 1, color=blue> the </font><font size = 1, color=blue> romantic </font><font size = 1, color=red> scene. </font><font size = 1, color=blue> the </font><font size = 1, color=gray> locale </font><font size = 1, color=red> was </font><font size = 1, color=blue> beautiful </font><font size = 1, color=blue> with </font><font size = 1, color=gray> azure </font><font size = 1, color=blue> sky </font><font size = 1, color=blue> and </font><font size = 1, color=gray> azure </font><font size = 1, color=red> water. </font><font size = 1, color=blue> it </font><font size = 1, color=red> just </font><font size = 1, color=red> was </font><font size = 1, color=red> not </font><font size = 1, color=gray> convincing </font><font size = 1, color=red> to </font><font size = 1, color=blue> me </font><font size = 1, color=blue> that </font><font size = 1, color=red> such </font><font size = 1, color=red> an </font><font size = 1, color=gray> egomaniac </font><font size = 1, color=gray> crud </font><font size = 1, color=gray> bent </font><font size = 1, color=red> on </font><font size = 1, color=red> nothing </font><font size = 1, color=red> but </font><font size = 1, color=blue> his </font><font size = 1, color=blue> building, </font><font size = 1, color=red> could </font><font size = 1, color=gray> attract </font><font size = 1, color=red> so </font><font size = 1, color=blue> many </font><font size = 1, color=blue> beautiful, </font><font size = 1, color=gray> vulnerable, </font><font size = 1, color=red> woman. </font><font size = 1, color=red> only </font><font size = 1, color=blue> in </font><font size = 1, color=blue> the </font><font size = 1, color=gray> mediterranean </font><font size = 1, color=gray> i </font><font size = 1, color=red> guess. </font><font size = 1, color=red> certainly </font><font size = 1, color=blue> in </font><font size = 1, color=red> no </font><font size = 1, color=blue> world </font><font size = 1, color=gray> i </font><font size = 1, color=red> am </font><font size = 1, color=gray> familiar </font><font size = 1, color=blue> with. </font><font size = 1, color=blue> the </font><font size = 1, color=gray> macho </font><font size = 1, color=blue> man </font><font size = 1, color=red> were </font><font size = 1, color=blue> really </font><font size = 2, color=red> obnoxious, </font><font size = 1, color=blue> and </font><font size = 1, color=gray> i </font><font size = 1, color=red> found </font><font size = 1, color=blue> it </font><font size = 1, color=red> difficult </font><font size = 1, color=red> to </font><font size = 1, color=red> believe </font><font size = 1, color=blue> that </font><font size = 1, color=blue> the </font><font size = 1, color=gray> female </font><font size = 1, color=blue> character </font><font size = 1, color=red> could </font><font size = 1, color=red> have </font><font size = 1, color=red> anything </font><font size = 1, color=red> to </font><font size = 1, color=red> to </font><font size = 1, color=blue> with </font><font size = 1, color=red> them </font><font size = 1, color=blue> for </font><font size = 1, color=red> so </font><font size = 1, color=red> long. </font><font size = 1, color=blue> the </font><font size = 1, color=gray> screenplay, </font><font size = 1, color=red> cinematography, </font><font size = 1, color=red> directing, </font><font size = 1, color=blue> etc. </font><font size = 1, color=red> was </font><font size = 1, color=blue> set </font><font size = 1, color=blue> up </font><font size = 1, color=red> to </font><font size = 1, color=red> deliver </font><font size = 1, color=gray> a </font><font size = 1, color=red> class </font><font size = 1, color=gray> b </font><font size = 1, color=blue> film, </font><font size = 1, color=blue> the </font><font size = 1, color=gray> central </font><font size = 1, color=red> effort </font><font size = 1, color=red> being </font><font size = 1, color=red> on </font><font size = 1, color=blue> showing </font><font size = 1, color=red> scene </font><font size = 1, color=red> of </font><font size = 1, color=blue> beautiful </font><font size = 1, color=red> exposed </font><font size = 1, color=gray> female </font><font size = 1, color=gray> east. </font><font size = 1, color=blue> it </font><font size = 1, color=red> was </font><font size = 1, color=gray> aesthetically </font><font size = 1, color=blue> nice </font><font size = 1, color=blue> for </font><font size = 1, color=gray> a </font><font size = 1, color=blue> while </font><font size = 1, color=red> but </font><font size = 1, color=blue> it </font><font size = 1, color=red> could </font><font size = 1, color=red> not </font><font size = 1, color=gray> sustain </font><font size = 1, color=gray> a </font><font size = 1, color=blue> very </font><font size = 1, color=red> mediocre </font><font size = 1, color=blue> film. </font>"
      ],
      "text/plain": [
       "<coloredweighteddoc.ColoredWeightedDoc at 0x7f3b8883bb00>"
      ]
     },
     "metadata": {},
     "output_type": "display_data"
    },
    {
     "data": {
      "text/html": [
       "<font size = 1, color=red> this </font><font size = 1, color=red> movie </font><font size = 1, color=blue> is </font><font size = 1, color=blue> about </font><font size = 1, color=blue> the </font><font size = 1, color=blue> crew </font><font size = 1, color=red> of </font><font size = 1, color=gray> a </font><font size = 1, color=gray> spaceship </font><font size = 1, color=blue> who </font><font size = 1, color=gray> crash </font><font size = 1, color=red> land </font><font size = 1, color=gray> onto </font><font size = 1, color=gray> a </font><font size = 1, color=blue> strange </font><font size = 1, color=red> ight </font><font size = 1, color=gray> planet </font><font size = 1, color=blue> with </font><font size = 1, color=red> three </font><font size = 1, color=gray> sun. </font><font size = 1, color=blue> among </font><font size = 1, color=blue> the </font><font size = 1, color=gray> passenger </font><font size = 1, color=blue> is </font><font size = 1, color=gray> convicted </font><font size = 1, color=gray> serial </font><font size = 1, color=blue> killer, </font><font size = 1, color=gray> richard </font><font size = 1, color=gray> riddick </font><font size = 1, color=gray> (vin </font><font size = 1, color=gray> diesel), </font><font size = 1, color=blue> and </font><font size = 1, color=blue> his </font><font size = 1, color=gray> nemesis, </font><font size = 1, color=gray> johns </font><font size = 1, color=gray> (cole </font><font size = 1, color=gray> hauser). </font><font size = 1, color=blue> while </font><font size = 1, color=blue> the </font><font size = 1, color=red> survivor </font><font size = 1, color=red> of </font><font size = 1, color=blue> the </font><font size = 1, color=gray> wreck </font><font size = 1, color=red> are </font><font size = 1, color=gray> getting </font><font size = 1, color=red> their </font><font size = 1, color=gray> bearing, </font><font size = 1, color=red> an </font><font size = 1, color=gray> eclipse </font><font size = 1, color=red> of </font><font size = 1, color=blue> all </font><font size = 1, color=red> three </font><font size = 1, color=gray> sun </font><font size = 1, color=red> happens. </font><font size = 1, color=red> shortly </font><font size = 1, color=red> afterward, </font><font size = 1, color=red> scary </font><font size = 1, color=red> creature </font><font size = 1, color=gray> begin </font><font size = 1, color=red> to </font><font size = 1, color=blue> appear </font><font size = 1, color=blue> and </font><font size = 1, color=red> start </font><font size = 1, color=red> to </font><font size = 1, color=blue> pick </font><font size = 1, color=red> off </font><font size = 1, color=blue> the </font><font size = 1, color=blue> crew </font><font size = 1, color=red> member </font><font size = 1, color=red> one </font><font size = 1, color=red> by </font><font size = 1, color=red> one. </font><font size = 1, color=red> during </font><font size = 1, color=blue> the </font><font size = 1, color=gray> eclipse, </font><font size = 1, color=gray> riddick </font><font size = 1, color=red> comes </font><font size = 1, color=blue> into </font><font size = 1, color=blue> his </font><font size = 1, color=blue> own, </font><font size = 1, color=blue> as </font><font size = 1, color=blue> his </font><font size = 1, color=gray> eyeball </font><font size = 1, color=red> have </font><font size = 1, color=red> been </font><font size = 1, color=gray> surgically </font><font size = 1, color=gray> shined, </font><font size = 1, color=red> giving </font><font size = 1, color=blue> him </font><font size = 1, color=red> night </font><font size = 1, color=gray> vision. </font><font size = 1, color=blue> the </font><font size = 1, color=blue> crew </font><font size = 1, color=red> have </font><font size = 1, color=red> to </font><font size = 1, color=gray> rely </font><font size = 1, color=red> on </font><font size = 1, color=blue> him </font><font size = 1, color=red> to </font><font size = 1, color=red> try </font><font size = 1, color=red> to </font><font size = 1, color=blue> get </font><font size = 1, color=red> them </font><font size = 1, color=red> to </font><font size = 1, color=gray> safety.this </font><font size = 1, color=blue> is </font><font size = 1, color=gray> a </font><font size = 1, color=blue> very </font><font size = 1, color=gray> stylish </font><font size = 1, color=blue> film, </font><font size = 1, color=blue> with </font><font size = 1, color=blue> the </font><font size = 1, color=blue> colour </font><font size = 1, color=red> of </font><font size = 1, color=blue> the </font><font size = 1, color=blue> sky </font><font size = 1, color=gray> changing </font><font size = 1, color=red> scene </font><font size = 1, color=red> by </font><font size = 1, color=red> scene, </font><font size = 1, color=red> giving </font><font size = 1, color=blue> it </font><font size = 1, color=gray> a </font><font size = 1, color=blue> very </font><font size = 1, color=blue> strange </font><font size = 1, color=red> look. </font><font size = 1, color=gray> vin </font><font size = 1, color=gray> diesel </font><font size = 1, color=blue> is </font><font size = 1, color=blue> illiant </font><font size = 1, color=blue> as </font><font size = 1, color=gray> riddick, </font><font size = 1, color=blue> truly </font><font size = 1, color=gray> menacing </font><font size = 1, color=red> but </font><font size = 1, color=red> forced </font><font size = 1, color=red> to </font><font size = 1, color=red> help </font><font size = 1, color=blue> person </font><font size = 1, color=blue> who </font><font size = 1, color=red> otherwise </font><font size = 1, color=red> would </font><font size = 1, color=red> only </font><font size = 1, color=blue> see </font><font size = 1, color=blue> him </font><font size = 1, color=blue> as </font><font size = 1, color=gray> a </font><font size = 1, color=blue> threat. </font><font size = 1, color=red> there </font><font size = 1, color=blue> is </font><font size = 1, color=blue> also </font><font size = 1, color=red> an </font><font size = 1, color=gray> underlying </font><font size = 1, color=blue> humour </font><font size = 1, color=blue> in </font><font size = 1, color=blue> his </font><font size = 1, color=blue> performance </font><font size = 1, color=blue> as </font><font size = 1, color=blue> well, </font><font size = 1, color=red> which </font><font size = 1, color=blue> adds </font><font size = 1, color=red> another </font><font size = 1, color=gray> dimension </font><font size = 1, color=red> to </font><font size = 1, color=blue> the </font><font size = 1, color=blue> character. </font><font size = 1, color=red> this </font><font size = 1, color=blue> is </font><font size = 1, color=blue> the </font><font size = 1, color=blue> sort </font><font size = 1, color=red> of </font><font size = 1, color=red> role </font><font size = 1, color=blue> that </font><font size = 1, color=gray> vin </font><font size = 1, color=gray> excel </font><font size = 1, color=blue> in, </font><font size = 1, color=blue> the </font><font size = 1, color=red> anti-hero, </font><font size = 1, color=gray> whos </font><font size = 1, color=blue> character </font><font size = 1, color=blue> is </font><font size = 1, color=red> not </font><font size = 1, color=blue> as </font><font size = 1, color=red> one-dimensional </font><font size = 1, color=blue> as </font><font size = 1, color=blue> first </font><font size = 1, color=red> appears. </font><font size = 1, color=gray> i </font><font size = 1, color=blue> can </font><font size = 1, color=gray> imagine </font><font size = 1, color=red> no-one </font><font size = 1, color=red> else </font><font size = 1, color=blue> in </font><font size = 1, color=red> this </font><font size = 1, color=red> role, </font><font size = 1, color=blue> it </font><font size = 1, color=red> could </font><font size = 1, color=red> have </font><font size = 1, color=red> been </font><font size = 1, color=blue> written </font><font size = 1, color=gray> specifically </font><font size = 1, color=blue> for </font><font size = 1, color=blue> him.roll </font><font size = 1, color=red> on </font><font size = 1, color=gray> chronicle </font><font size = 1, color=red> of </font><font size = 1, color=gray> riddick! </font>"
      ],
      "text/plain": [
       "<coloredweighteddoc.ColoredWeightedDoc at 0x7f3b8883beb8>"
      ]
     },
     "metadata": {},
     "output_type": "display_data"
    }
   ],
   "source": [
    "display.display(ColoredWeightedDoc(X_test_original[our_reject_lr_correct_idx], cv.get_feature_names(), w_original, binary = False))\n",
    "display.display(ColoredWeightedDoc(X_test_original[our_correct_lr_correct_idx], cv.get_feature_names(), w_original, binary = False))\n",
    "display.display(ColoredWeightedDoc(X_test_original[our_reject_lr_reject], cv.get_feature_names(), w_original, binary = False))"
   ]
  },
  {
   "cell_type": "code",
   "execution_count": 63,
   "metadata": {},
   "outputs": [
    {
     "data": {
      "text/html": [
       "<font size = 1, color=gray> although </font><font size = 1, color=gray> this </font><font size = 1, color=gray> series </font><font size = 1, color=gray> and </font><font size = 1, color=gray> the </font><font size = 1, color=gray> mini </font><font size = 1, color=gray> film </font><font size = 1, color=gray> in </font><font size = 1, color=gray> particular </font><font size = 1, color=gray> were </font><font size = 1, color=gray> very </font><font size = 1, color=gray> important </font><font size = 1, color=gray> at </font><font size = 1, color=gray> the </font><font size = 1, color=gray> time </font><font size = 1, color=gray> of </font><font size = 1, color=gray> release, </font><font size = 1, color=gray> i </font><font size = 1, color=gray> feel </font><font size = 1, color=gray> that </font><font size = 1, color=gray> the </font><font size = 1, color=gray> series </font><font size = 1, color=gray> as </font><font size = 1, color=gray> a </font><font size = 1, color=gray> whole </font><font size = 1, color=gray> was </font><font size = 1, color=gray> actually </font><font size = 1, color=gray> fairly </font><font size = 2, color=red> poorly </font><font size = 1, color=gray> written </font><font size = 1, color=gray> with </font><font size = 1, color=gray> a </font><font size = 1, color=red> weak </font><font size = 1, color=gray> cast. </font><font size = 1, color=gray> the </font><font size = 1, color=gray> issue </font><font size = 1, color=gray> at </font><font size = 1, color=gray> heart </font><font size = 1, color=gray> are </font><font size = 1, color=gray> extremely </font><font size = 1, color=gray> well </font><font size = 1, color=gray> portrayed </font><font size = 1, color=gray> yet </font><font size = 1, color=gray> it </font><font size = 1, color=gray> is </font><font size = 1, color=gray> difficult </font><font size = 1, color=gray> to </font><font size = 1, color=gray> relate </font><font size = 1, color=gray> and </font><font size = 1, color=gray> understand </font><font size = 1, color=gray> the </font><font size = 1, color=gray> problem </font><font size = 1, color=gray> within </font><font size = 1, color=gray> the </font><font size = 1, color=gray> film </font><font size = 1, color=gray> when </font><font size = 1, color=gray> the </font><font size = 1, color=gray> acting </font><font size = 1, color=gray> and </font><font size = 1, color=gray> script </font><font size = 1, color=gray> is </font><font size = 1, color=gray> not </font><font size = 1, color=gray> convincing </font><font size = 1, color=gray> enough </font><font size = 1, color=gray> (especially </font><font size = 1, color=gray> when </font><font size = 1, color=gray> looking </font><font size = 1, color=gray> at </font><font size = 1, color=gray> the </font><font size = 1, color=gray> mini </font><font size = 1, color=gray> film).i </font><font size = 1, color=gray> also </font><font size = 1, color=gray> do </font><font size = 1, color=gray> not </font><font size = 1, color=gray> believe </font><font size = 1, color=gray> that </font><font size = 1, color=gray> this </font><font size = 1, color=gray> mini </font><font size = 1, color=gray> film </font><font size = 1, color=gray> or </font><font size = 1, color=gray> series </font><font size = 1, color=gray> has </font><font size = 1, color=gray> stood </font><font size = 1, color=gray> the </font><font size = 1, color=gray> test </font><font size = 1, color=gray> of </font><font size = 1, color=gray> time </font><font size = 1, color=gray> as </font><font size = 1, color=gray> now </font><font size = 1, color=gray> many </font><font size = 1, color=gray> of </font><font size = 1, color=gray> the </font><font size = 1, color=gray> scene </font><font size = 1, color=gray> are </font><font size = 1, color=gray> quite </font><font size = 3, color=red> laughable. </font><font size = 1, color=gray> the </font><font size = 1, color=gray> issue </font><font size = 1, color=gray> are </font><font size = 1, color=gray> still </font><font size = 1, color=gray> crucial </font><font size = 1, color=gray> but </font><font size = 1, color=gray> boys </font><font size = 1, color=gray> from </font><font size = 1, color=gray> the </font><font size = 1, color=gray> blackstuff </font><font size = 1, color=gray> cannot </font><font size = 1, color=gray> fully </font><font size = 1, color=gray> aid </font><font size = 1, color=gray> the </font><font size = 1, color=gray> cause </font><font size = 1, color=gray> of </font><font size = 1, color=gray> understanding </font><font size = 1, color=gray> the </font><font size = 1, color=gray> problem </font><font size = 1, color=gray> in </font><font size = 1, color=gray> britain </font><font size = 1, color=gray> in </font><font size = 1, color=gray> the </font><font size = 1, color=gray> 1980s. </font>"
      ],
      "text/plain": [
       "<coloredweighteddoc.ColoredWeightedDoc at 0x7f3b882a6550>"
      ]
     },
     "metadata": {},
     "output_type": "display_data"
    }
   ],
   "source": []
  },
  {
   "cell_type": "code",
   "execution_count": 102,
   "metadata": {},
   "outputs": [
    {
     "name": "stdout",
     "output_type": "stream",
     "text": [
      "our_reject_lr_correct_idx ../../data/aclImdb//test/neg/441_4.txt\n",
      "Test Data loaded.\n"
     ]
    }
   ],
   "source": [
    "import glob\n",
    "path = r'../../data/aclImdb/'\n",
    "\n",
    "\n",
    "test_neg_files = glob.glob(path+\"/test/neg/*.txt\")\n",
    "test_pos_files = glob.glob(path+\"/test/pos/*.txt\")\n",
    "\n",
    "    \n",
    "for tnf in test_neg_files:\n",
    "    f = open(tnf, 'r', encoding=\"utf8\")\n",
    "    if 'the odd mixture of comedy and horror sometimes works and sometimes' in f.read().lower():\n",
    "        print('our_reject_lr_correct_idx', tnf) \n",
    "    elif 'a bit too much mediterrenean' in f.read().lower():\n",
    "        print('our_correct_lr_correct_idx', tnf)\n",
    "    elif 'this movie is about' in f.read().lower():\n",
    "        print('our_reject_lr_reject', tnf)\n",
    "    f.close()\n",
    "    \n",
    "for tpf in test_pos_files:\n",
    "    f = open(tpf, 'r', encoding=\"utf8\")\n",
    "    if 'a bit too much mediterrenean' in f.read().lower():\n",
    "        print('our_correct_lr_correct_idx', tpf)\n",
    "    elif 'this movie is about' in f.read():\n",
    "        print('our_reject_lr_reject', tpf)\n",
    "    f.close()\n",
    "    \n",
    "print(\"Test Data loaded.\")"
   ]
  },
  {
   "cell_type": "code",
   "execution_count": 92,
   "metadata": {},
   "outputs": [
    {
     "name": "stdout",
     "output_type": "stream",
     "text": [
      "5324 the odd mixture of comedy and horror sometimes works and sometimes does not. had the main male character been a little more interesting, the film would have been as well. a trio of young american visit paris, run into a beautiful werewolf, and the problem confound from there.numerous logic hole make the possibly intriguing story difficult to take.\n"
     ]
    }
   ],
   "source": [
    "for i,c in enumerate(X_test_original):\n",
    "    if 'the odd mixture of comedy and horror sometimes works and sometimes' in c:\n",
    "        print(i, c)"
   ]
  },
  {
   "cell_type": "code",
   "execution_count": 93,
   "metadata": {},
   "outputs": [
    {
     "name": "stdout",
     "output_type": "stream",
     "text": [
      "305 a bit too much mediterrenean machismo for me. the cast was beautiful, lovely to watch in all of the romantic scene. the locale was beautiful with azure sky and azure water. it just was not convincing to me that such an egomaniac crud bent on nothing but his building, could attract so many beautiful, vulnerable, woman. only in the mediterranean i guess. certainly in no world i am familiar with. the macho man were really obnoxious, and i found it difficult to believe that the female character could have anything to to with them for so long. the screenplay, cinematography, directing, etc. was set up to deliver a class b film, the central effort being on showing scene of beautiful exposed female east. it was aesthetically nice for a while but it could not sustain a very mediocre film.\n"
     ]
    }
   ],
   "source": [
    "for i,c in enumerate(X_test_original):\n",
    "    if 'it was aesthetically nice for a while but it could not sustain' in c:\n",
    "        print(i, c)"
   ]
  },
  {
   "cell_type": "code",
   "execution_count": 94,
   "metadata": {},
   "outputs": [
    {
     "name": "stdout",
     "output_type": "stream",
     "text": [
      "24611 this movie is about the crew of a spaceship who crash land onto a strange ight planet with three sun. among the passenger is convicted serial killer, richard riddick (vin diesel), and his nemesis, johns (cole hauser). while the survivor of the wreck are getting their bearing, an eclipse of all three sun happens. shortly afterward, scary creature begin to appear and start to pick off the crew member one by one. during the eclipse, riddick comes into his own, as his eyeball have been surgically shined, giving him night vision. the crew have to rely on him to try to get them to safety.this is a very stylish film, with the colour of the sky changing scene by scene, giving it a very strange look. vin diesel is illiant as riddick, truly menacing but forced to help person who otherwise would only see him as a threat. there is also an underlying humour in his performance as well, which adds another dimension to the character. this is the sort of role that vin excel in, the anti-hero, whos character is not as one-dimensional as first appears. i can imagine no-one else in this role, it could have been written specifically for him.roll on chronicle of riddick!\n"
     ]
    }
   ],
   "source": [
    "for i,c in enumerate(X_test_original):\n",
    "    if 'among the passenger is convicted serial killer' in c:\n",
    "        print(i, c)"
   ]
  },
  {
   "cell_type": "code",
   "execution_count": 80,
   "metadata": {},
   "outputs": [
    {
     "data": {
      "text/plain": [
       "82"
      ]
     },
     "execution_count": 80,
     "metadata": {},
     "output_type": "execute_result"
    }
   ],
   "source": [
    "12582 - 12500"
   ]
  },
  {
   "cell_type": "code",
   "execution_count": null,
   "metadata": {},
   "outputs": [],
   "source": []
  }
 ],
 "metadata": {
  "kernelspec": {
   "display_name": "Python 3",
   "language": "python",
   "name": "python3"
  },
  "language_info": {
   "codemirror_mode": {
    "name": "ipython",
    "version": 3
   },
   "file_extension": ".py",
   "mimetype": "text/x-python",
   "name": "python",
   "nbconvert_exporter": "python",
   "pygments_lexer": "ipython3",
   "version": "3.6.7"
  }
 },
 "nbformat": 4,
 "nbformat_minor": 2
}

{
 "cells": [
  {
   "cell_type": "code",
   "execution_count": 1,
   "metadata": {},
   "outputs": [
    {
     "name": "stderr",
     "output_type": "stream",
     "text": [
      "Using TensorFlow backend.\n"
     ]
    }
   ],
   "source": [
    "from keras.layers import Input, Dense, TimeDistributed, Embedding\n",
    "from keras.layers import Concatenate, Reshape, Lambda, Multiply, multiply, concatenate\n",
    "from keras.models import Model\n",
    "from keras import backend as K\n",
    "\n",
    "import os\n",
    "os.environ['CUDA_VISIBLE_DEVICES'] = ''\n",
    "\n",
    "import tensorflow as tf\n",
    "import numpy as np"
   ]
  },
  {
   "cell_type": "code",
   "execution_count": 2,
   "metadata": {},
   "outputs": [],
   "source": [
    "# make first model\n",
    "\n",
    "def build_base_model(input_shape):\n",
    "    input_layer = Input(shape=(input_shape,))\n",
    "    tanh_output = Dense(1, activation='tanh', name='tanh_output')(input_layer)\n",
    "    \n",
    "    model = Model(inputs=input_layer, outputs=tanh_output)\n",
    "    model.summary()\n",
    "    return model"
   ]
  },
  {
   "cell_type": "code",
   "execution_count": 3,
   "metadata": {},
   "outputs": [],
   "source": [
    "# load data\n",
    "# make sure that the first shape is the IMDB training data. \n",
    "\n",
    "def open_pickle(path):\n",
    "    import pickle\n",
    "    with open(path, 'rb') as f:\n",
    "        X = pickle.load(f)\n",
    "    return X\n",
    "\n",
    "X_train_original = open_pickle('../../data/imdb/imdb_original_preprocessed_xtrain.pickle')\n",
    "X_test_original = open_pickle('../../data/imdb/imdb_original_preprocessed_xtest.pickle')\n",
    "y_train_original = open_pickle('../../data/imdb/imdb_original_preprocessed_ytrain.pickle')\n",
    "y_test_original = open_pickle('../../data/imdb/imdb_original_preprocessed_ytest.pickle')"
   ]
  },
  {
   "cell_type": "code",
   "execution_count": 4,
   "metadata": {},
   "outputs": [],
   "source": [
    "# Count vectorizer \n",
    "\n",
    "from sklearn.feature_extraction.text import CountVectorizer\n",
    "\n",
    "token = r\"(?u)\\b[\\w\\'/]+\\b\"\n",
    "cv = CountVectorizer(min_df = 100, token_pattern=token, lowercase=True, binary=True)\n",
    "X_train = cv.fit_transform(X_train_original)\n",
    "X_test = cv.transform(X_test_original)"
   ]
  },
  {
   "cell_type": "code",
   "execution_count": 70,
   "metadata": {},
   "outputs": [
    {
     "data": {
      "text/plain": [
       "'this was an excellent show. it came on pbs back home in chicago and i remember cindy herron (from envogue) played the teen aged daughter. the show dealt with subject such as sex, peer pressure and puberty. it was about a middle class black family who had a teen aged daughter and son who moved to a middle class neighborhood from oakland or somewhere (i can not remember). i remember several episode but the one i remember most was when their cousin got her period for the first time. i was probably 7-8 when i first watched it and i was able to keep up with the program. this was a great show. i can not remember the name of the guy who played the son on the show, but i always got him confused with kevin hook.'"
      ]
     },
     "execution_count": 70,
     "metadata": {},
     "output_type": "execute_result"
    }
   ],
   "source": [
    "X_test_original[0]"
   ]
  },
  {
   "cell_type": "code",
   "execution_count": 71,
   "metadata": {},
   "outputs": [
    {
     "data": {
      "text/plain": [
       "'silent night, deadly night 5 is the very last of the series, and like part 4, it is unrelated to the first three except by title and the fact that it is a christmas-themed horror flick.except to the oblivious, there is some obvious thing going on here...mickey rooney plays a toymaker named joe petto and his creepy son\\'s name is pino. ring a bell, anyone? now, a little boy named derek heard a knock at the door one evening, and opened it to find a present on the doorstep for him. even though it said \"do not open till christmas\", he begins to open it anyway but is stopped by his dad, who scolds him and sends him to bed, and opens the gift himself. inside is a little red ball that sprouts santa arm and a head, and proceed to kill dad. oop, maybe he should have left well-enough alone. of course derek is then traumatized by the incident since he watched it from the stair, but he does not grow up to be some killer santa, he just stops talking.there is a mysterious stranger lurking around, who seems very interested in the toy that joe petto makes. we even see him buying a bunch when derek\\'s mom takes him to the store to find a gift for him to ing him out of his trauma. and what exactly is this guy doing? well, we are not sure but he does seem to be taking these toy apart to see what makes them tick. he does keep his landlord from evicting him by promising him to pay him in cash the next day and present him with a \"larry the larvae\" toy for his kid, but of course \"larry\" is not a good toy and gets out of the box in the car and of course, well, thing are not pretty.anyway, eventually what is going on with joe petto and pino is of course revealed, and as with the old story, pino is not a \"real boy\". pino is probably even more agitated and naughty because he suffers from \"kenitalium\" (a smooth plastic crotch) so that could account for his evil way. and the identity of the lurking stranger is revealed too, and there is even kind of a happy ending of sort. whee.a step up from part 4, but not much of one. again, brian yuzna is involved, and screaming mad george, so some decent special effect, but not enough to make this great. a few leftover from part 4 are hanging around too, like clint howard and neith hunter, but that does not really make any difference. anyway, i now have seeing the whole series out of my system. now if i could get some of it out of my ain. 4 out of 5.'"
      ]
     },
     "execution_count": 71,
     "metadata": {},
     "output_type": "execute_result"
    }
   ],
   "source": [
    "X_train_original[0]"
   ]
  },
  {
   "cell_type": "code",
   "execution_count": 69,
   "metadata": {},
   "outputs": [
    {
     "data": {
      "text/plain": [
       "<1x3686 sparse matrix of type '<class 'numpy.int64'>'\n",
       "\twith 224 stored elements in Compressed Sparse Row format>"
      ]
     },
     "execution_count": 69,
     "metadata": {},
     "output_type": "execute_result"
    }
   ],
   "source": [
    "X_test[10]"
   ]
  },
  {
   "cell_type": "code",
   "execution_count": 5,
   "metadata": {},
   "outputs": [],
   "source": [
    "def load_unigrams(path, X, y):\n",
    "    word_list = []\n",
    "    connotation = {}\n",
    "    \n",
    "    with open(path, 'r', encoding='utf8') as f:\n",
    "        for line in f:\n",
    "            word_list.append(line.strip())\n",
    "            \n",
    "    for word in word_list:\n",
    "        pos_count = 0\n",
    "        neg_count = 0\n",
    "        for i, doc in enumerate(X):\n",
    "            if word in doc.lower():\n",
    "                if (y[i] == 1):\n",
    "                    pos_count += 1\n",
    "                else:\n",
    "                    neg_count += 1\n",
    "                    \n",
    "        if pos_count > neg_count:\n",
    "            connotation[word] = 1\n",
    "        else:\n",
    "            connotation[word] = 0\n",
    "    \n",
    "    return word_list, connotation\n",
    "\n",
    "def generate_appearance(X_train_corpus, X_test_corpus, word_list, connotation):\n",
    "    y_train_agreement = []\n",
    "    for i in range(len(X_train_corpus)):\n",
    "        doc_agreement = []\n",
    "        for word in word_list:\n",
    "            if word in X_train_corpus[i]:\n",
    "                if connotation[word] == 1:\n",
    "                    doc_agreement.append(1)\n",
    "                else:\n",
    "                    doc_agreement.append(-1)\n",
    "            else:\n",
    "                doc_agreement.append(0)\n",
    "        y_train_agreement.append(doc_agreement)\n",
    "        \n",
    "    y_test_agreement = []\n",
    "    for i in range(len(X_test_corpus)):\n",
    "        doc_agreement = []\n",
    "        for word in word_list:\n",
    "            if word in X_test_corpus[i]:\n",
    "                if connotation[word] == 1:\n",
    "                    doc_agreement.append(1)\n",
    "                else:\n",
    "                    doc_agreement.append(-1)\n",
    "            else:\n",
    "                doc_agreement.append(0)\n",
    "        y_test_agreement.append(doc_agreement)\n",
    "        \n",
    "    return np.array(y_train_agreement), np.array(y_test_agreement)\n",
    "\n",
    "# 'imdb-unigrams.txt'"
   ]
  },
  {
   "cell_type": "code",
   "execution_count": 6,
   "metadata": {},
   "outputs": [],
   "source": [
    "word_list, connotation = load_unigrams('./imdb-unigrams.txt', X_train_original, y_train_original)"
   ]
  },
  {
   "cell_type": "code",
   "execution_count": 7,
   "metadata": {},
   "outputs": [],
   "source": [
    "y_train_agreement, y_test_agreement = generate_appearance(X_train_original, X_test_original, \n",
    "                                                          word_list, connotation)"
   ]
  },
  {
   "cell_type": "code",
   "execution_count": 54,
   "metadata": {},
   "outputs": [
    {
     "name": "stdout",
     "output_type": "stream",
     "text": [
      "_________________________________________________________________\n",
      "Layer (type)                 Output Shape              Param #   \n",
      "=================================================================\n",
      "input_16 (InputLayer)        (None, 3686)              0         \n",
      "_________________________________________________________________\n",
      "tanh_output (Dense)          (None, 1)                 3687      \n",
      "=================================================================\n",
      "Total params: 3,687\n",
      "Trainable params: 3,687\n",
      "Non-trainable params: 0\n",
      "_________________________________________________________________\n",
      "__________________________________________________________________________________________________\n",
      "Layer (type)                    Output Shape         Param #     Connected to                     \n",
      "==================================================================================================\n",
      "input_18 (InputLayer)           (None, 83)           0                                            \n",
      "__________________________________________________________________________________________________\n",
      "input_17 (InputLayer)           (None, 3686)         0                                            \n",
      "__________________________________________________________________________________________________\n",
      "lambda_6 (Lambda)               [(None, 1), (None, 1 0           input_18[0][0]                   \n",
      "__________________________________________________________________________________________________\n",
      "model_7 (Model)                 (None, 1)            3687        input_17[0][0]                   \n",
      "__________________________________________________________________________________________________\n",
      "multiply_84 (Multiply)          (None, 1)            0           lambda_6[0][0]                   \n",
      "                                                                 model_7[1][0]                    \n",
      "__________________________________________________________________________________________________\n",
      "multiply_85 (Multiply)          (None, 1)            0           lambda_6[0][1]                   \n",
      "                                                                 model_7[1][0]                    \n",
      "__________________________________________________________________________________________________\n",
      "multiply_86 (Multiply)          (None, 1)            0           lambda_6[0][2]                   \n",
      "                                                                 model_7[1][0]                    \n",
      "__________________________________________________________________________________________________\n",
      "multiply_87 (Multiply)          (None, 1)            0           lambda_6[0][3]                   \n",
      "                                                                 model_7[1][0]                    \n",
      "__________________________________________________________________________________________________\n",
      "multiply_88 (Multiply)          (None, 1)            0           lambda_6[0][4]                   \n",
      "                                                                 model_7[1][0]                    \n",
      "__________________________________________________________________________________________________\n",
      "multiply_89 (Multiply)          (None, 1)            0           lambda_6[0][5]                   \n",
      "                                                                 model_7[1][0]                    \n",
      "__________________________________________________________________________________________________\n",
      "multiply_90 (Multiply)          (None, 1)            0           lambda_6[0][6]                   \n",
      "                                                                 model_7[1][0]                    \n",
      "__________________________________________________________________________________________________\n",
      "multiply_91 (Multiply)          (None, 1)            0           lambda_6[0][7]                   \n",
      "                                                                 model_7[1][0]                    \n",
      "__________________________________________________________________________________________________\n",
      "multiply_92 (Multiply)          (None, 1)            0           lambda_6[0][8]                   \n",
      "                                                                 model_7[1][0]                    \n",
      "__________________________________________________________________________________________________\n",
      "multiply_93 (Multiply)          (None, 1)            0           lambda_6[0][9]                   \n",
      "                                                                 model_7[1][0]                    \n",
      "__________________________________________________________________________________________________\n",
      "multiply_94 (Multiply)          (None, 1)            0           lambda_6[0][10]                  \n",
      "                                                                 model_7[1][0]                    \n",
      "__________________________________________________________________________________________________\n",
      "multiply_95 (Multiply)          (None, 1)            0           lambda_6[0][11]                  \n",
      "                                                                 model_7[1][0]                    \n",
      "__________________________________________________________________________________________________\n",
      "multiply_96 (Multiply)          (None, 1)            0           lambda_6[0][12]                  \n",
      "                                                                 model_7[1][0]                    \n",
      "__________________________________________________________________________________________________\n",
      "multiply_97 (Multiply)          (None, 1)            0           lambda_6[0][13]                  \n",
      "                                                                 model_7[1][0]                    \n",
      "__________________________________________________________________________________________________\n",
      "multiply_98 (Multiply)          (None, 1)            0           lambda_6[0][14]                  \n",
      "                                                                 model_7[1][0]                    \n",
      "__________________________________________________________________________________________________\n",
      "multiply_99 (Multiply)          (None, 1)            0           lambda_6[0][15]                  \n",
      "                                                                 model_7[1][0]                    \n",
      "__________________________________________________________________________________________________\n",
      "multiply_100 (Multiply)         (None, 1)            0           lambda_6[0][16]                  \n",
      "                                                                 model_7[1][0]                    \n",
      "__________________________________________________________________________________________________\n",
      "multiply_101 (Multiply)         (None, 1)            0           lambda_6[0][17]                  \n",
      "                                                                 model_7[1][0]                    \n",
      "__________________________________________________________________________________________________\n",
      "multiply_102 (Multiply)         (None, 1)            0           lambda_6[0][18]                  \n",
      "                                                                 model_7[1][0]                    \n",
      "__________________________________________________________________________________________________\n",
      "multiply_103 (Multiply)         (None, 1)            0           lambda_6[0][19]                  \n",
      "                                                                 model_7[1][0]                    \n",
      "__________________________________________________________________________________________________\n",
      "multiply_104 (Multiply)         (None, 1)            0           lambda_6[0][20]                  \n",
      "                                                                 model_7[1][0]                    \n",
      "__________________________________________________________________________________________________\n",
      "multiply_105 (Multiply)         (None, 1)            0           lambda_6[0][21]                  \n",
      "                                                                 model_7[1][0]                    \n",
      "__________________________________________________________________________________________________\n",
      "multiply_106 (Multiply)         (None, 1)            0           lambda_6[0][22]                  \n",
      "                                                                 model_7[1][0]                    \n",
      "__________________________________________________________________________________________________\n",
      "multiply_107 (Multiply)         (None, 1)            0           lambda_6[0][23]                  \n",
      "                                                                 model_7[1][0]                    \n",
      "__________________________________________________________________________________________________\n",
      "multiply_108 (Multiply)         (None, 1)            0           lambda_6[0][24]                  \n",
      "                                                                 model_7[1][0]                    \n",
      "__________________________________________________________________________________________________\n",
      "multiply_109 (Multiply)         (None, 1)            0           lambda_6[0][25]                  \n",
      "                                                                 model_7[1][0]                    \n",
      "__________________________________________________________________________________________________\n",
      "multiply_110 (Multiply)         (None, 1)            0           lambda_6[0][26]                  \n",
      "                                                                 model_7[1][0]                    \n",
      "__________________________________________________________________________________________________\n",
      "multiply_111 (Multiply)         (None, 1)            0           lambda_6[0][27]                  \n",
      "                                                                 model_7[1][0]                    \n",
      "__________________________________________________________________________________________________\n",
      "multiply_112 (Multiply)         (None, 1)            0           lambda_6[0][28]                  \n",
      "                                                                 model_7[1][0]                    \n",
      "__________________________________________________________________________________________________\n",
      "multiply_113 (Multiply)         (None, 1)            0           lambda_6[0][29]                  \n",
      "                                                                 model_7[1][0]                    \n",
      "__________________________________________________________________________________________________\n",
      "multiply_114 (Multiply)         (None, 1)            0           lambda_6[0][30]                  \n",
      "                                                                 model_7[1][0]                    \n",
      "__________________________________________________________________________________________________\n",
      "multiply_115 (Multiply)         (None, 1)            0           lambda_6[0][31]                  \n",
      "                                                                 model_7[1][0]                    \n",
      "__________________________________________________________________________________________________\n",
      "multiply_116 (Multiply)         (None, 1)            0           lambda_6[0][32]                  \n",
      "                                                                 model_7[1][0]                    \n",
      "__________________________________________________________________________________________________\n",
      "multiply_117 (Multiply)         (None, 1)            0           lambda_6[0][33]                  \n",
      "                                                                 model_7[1][0]                    \n",
      "__________________________________________________________________________________________________\n",
      "multiply_118 (Multiply)         (None, 1)            0           lambda_6[0][34]                  \n",
      "                                                                 model_7[1][0]                    \n",
      "__________________________________________________________________________________________________\n",
      "multiply_119 (Multiply)         (None, 1)            0           lambda_6[0][35]                  \n",
      "                                                                 model_7[1][0]                    \n",
      "__________________________________________________________________________________________________\n",
      "multiply_120 (Multiply)         (None, 1)            0           lambda_6[0][36]                  \n",
      "                                                                 model_7[1][0]                    \n",
      "__________________________________________________________________________________________________\n",
      "multiply_121 (Multiply)         (None, 1)            0           lambda_6[0][37]                  \n",
      "                                                                 model_7[1][0]                    \n",
      "__________________________________________________________________________________________________\n",
      "multiply_122 (Multiply)         (None, 1)            0           lambda_6[0][38]                  \n",
      "                                                                 model_7[1][0]                    \n",
      "__________________________________________________________________________________________________\n",
      "multiply_123 (Multiply)         (None, 1)            0           lambda_6[0][39]                  \n",
      "                                                                 model_7[1][0]                    \n",
      "__________________________________________________________________________________________________\n",
      "multiply_124 (Multiply)         (None, 1)            0           lambda_6[0][40]                  \n",
      "                                                                 model_7[1][0]                    \n",
      "__________________________________________________________________________________________________\n",
      "multiply_125 (Multiply)         (None, 1)            0           lambda_6[0][41]                  \n",
      "                                                                 model_7[1][0]                    \n",
      "__________________________________________________________________________________________________\n",
      "multiply_126 (Multiply)         (None, 1)            0           lambda_6[0][42]                  \n",
      "                                                                 model_7[1][0]                    \n",
      "__________________________________________________________________________________________________\n",
      "multiply_127 (Multiply)         (None, 1)            0           lambda_6[0][43]                  \n",
      "                                                                 model_7[1][0]                    \n",
      "__________________________________________________________________________________________________\n",
      "multiply_128 (Multiply)         (None, 1)            0           lambda_6[0][44]                  \n",
      "                                                                 model_7[1][0]                    \n",
      "__________________________________________________________________________________________________\n",
      "multiply_129 (Multiply)         (None, 1)            0           lambda_6[0][45]                  \n",
      "                                                                 model_7[1][0]                    \n",
      "__________________________________________________________________________________________________\n",
      "multiply_130 (Multiply)         (None, 1)            0           lambda_6[0][46]                  \n",
      "                                                                 model_7[1][0]                    \n",
      "__________________________________________________________________________________________________\n",
      "multiply_131 (Multiply)         (None, 1)            0           lambda_6[0][47]                  \n",
      "                                                                 model_7[1][0]                    \n",
      "__________________________________________________________________________________________________\n",
      "multiply_132 (Multiply)         (None, 1)            0           lambda_6[0][48]                  \n",
      "                                                                 model_7[1][0]                    \n",
      "__________________________________________________________________________________________________\n",
      "multiply_133 (Multiply)         (None, 1)            0           lambda_6[0][49]                  \n",
      "                                                                 model_7[1][0]                    \n",
      "__________________________________________________________________________________________________\n",
      "multiply_134 (Multiply)         (None, 1)            0           lambda_6[0][50]                  \n",
      "                                                                 model_7[1][0]                    \n",
      "__________________________________________________________________________________________________\n",
      "multiply_135 (Multiply)         (None, 1)            0           lambda_6[0][51]                  \n",
      "                                                                 model_7[1][0]                    \n",
      "__________________________________________________________________________________________________\n",
      "multiply_136 (Multiply)         (None, 1)            0           lambda_6[0][52]                  \n",
      "                                                                 model_7[1][0]                    \n",
      "__________________________________________________________________________________________________\n",
      "multiply_137 (Multiply)         (None, 1)            0           lambda_6[0][53]                  \n",
      "                                                                 model_7[1][0]                    \n",
      "__________________________________________________________________________________________________\n",
      "multiply_138 (Multiply)         (None, 1)            0           lambda_6[0][54]                  \n",
      "                                                                 model_7[1][0]                    \n",
      "__________________________________________________________________________________________________\n",
      "multiply_139 (Multiply)         (None, 1)            0           lambda_6[0][55]                  \n",
      "                                                                 model_7[1][0]                    \n",
      "__________________________________________________________________________________________________\n",
      "multiply_140 (Multiply)         (None, 1)            0           lambda_6[0][56]                  \n",
      "                                                                 model_7[1][0]                    \n",
      "__________________________________________________________________________________________________\n",
      "multiply_141 (Multiply)         (None, 1)            0           lambda_6[0][57]                  \n",
      "                                                                 model_7[1][0]                    \n",
      "__________________________________________________________________________________________________\n",
      "multiply_142 (Multiply)         (None, 1)            0           lambda_6[0][58]                  \n",
      "                                                                 model_7[1][0]                    \n",
      "__________________________________________________________________________________________________\n",
      "multiply_143 (Multiply)         (None, 1)            0           lambda_6[0][59]                  \n",
      "                                                                 model_7[1][0]                    \n",
      "__________________________________________________________________________________________________\n",
      "multiply_144 (Multiply)         (None, 1)            0           lambda_6[0][60]                  \n",
      "                                                                 model_7[1][0]                    \n",
      "__________________________________________________________________________________________________\n",
      "multiply_145 (Multiply)         (None, 1)            0           lambda_6[0][61]                  \n",
      "                                                                 model_7[1][0]                    \n",
      "__________________________________________________________________________________________________\n",
      "multiply_146 (Multiply)         (None, 1)            0           lambda_6[0][62]                  \n",
      "                                                                 model_7[1][0]                    \n",
      "__________________________________________________________________________________________________\n",
      "multiply_147 (Multiply)         (None, 1)            0           lambda_6[0][63]                  \n",
      "                                                                 model_7[1][0]                    \n",
      "__________________________________________________________________________________________________\n",
      "multiply_148 (Multiply)         (None, 1)            0           lambda_6[0][64]                  \n",
      "                                                                 model_7[1][0]                    \n",
      "__________________________________________________________________________________________________\n",
      "multiply_149 (Multiply)         (None, 1)            0           lambda_6[0][65]                  \n",
      "                                                                 model_7[1][0]                    \n",
      "__________________________________________________________________________________________________\n",
      "multiply_150 (Multiply)         (None, 1)            0           lambda_6[0][66]                  \n",
      "                                                                 model_7[1][0]                    \n",
      "__________________________________________________________________________________________________\n",
      "multiply_151 (Multiply)         (None, 1)            0           lambda_6[0][67]                  \n",
      "                                                                 model_7[1][0]                    \n",
      "__________________________________________________________________________________________________\n",
      "multiply_152 (Multiply)         (None, 1)            0           lambda_6[0][68]                  \n",
      "                                                                 model_7[1][0]                    \n",
      "__________________________________________________________________________________________________\n",
      "multiply_153 (Multiply)         (None, 1)            0           lambda_6[0][69]                  \n",
      "                                                                 model_7[1][0]                    \n",
      "__________________________________________________________________________________________________\n",
      "multiply_154 (Multiply)         (None, 1)            0           lambda_6[0][70]                  \n",
      "                                                                 model_7[1][0]                    \n",
      "__________________________________________________________________________________________________\n",
      "multiply_155 (Multiply)         (None, 1)            0           lambda_6[0][71]                  \n",
      "                                                                 model_7[1][0]                    \n",
      "__________________________________________________________________________________________________\n",
      "multiply_156 (Multiply)         (None, 1)            0           lambda_6[0][72]                  \n",
      "                                                                 model_7[1][0]                    \n",
      "__________________________________________________________________________________________________\n",
      "multiply_157 (Multiply)         (None, 1)            0           lambda_6[0][73]                  \n",
      "                                                                 model_7[1][0]                    \n",
      "__________________________________________________________________________________________________\n",
      "multiply_158 (Multiply)         (None, 1)            0           lambda_6[0][74]                  \n",
      "                                                                 model_7[1][0]                    \n",
      "__________________________________________________________________________________________________\n",
      "multiply_159 (Multiply)         (None, 1)            0           lambda_6[0][75]                  \n",
      "                                                                 model_7[1][0]                    \n",
      "__________________________________________________________________________________________________\n",
      "multiply_160 (Multiply)         (None, 1)            0           lambda_6[0][76]                  \n",
      "                                                                 model_7[1][0]                    \n",
      "__________________________________________________________________________________________________\n",
      "multiply_161 (Multiply)         (None, 1)            0           lambda_6[0][77]                  \n",
      "                                                                 model_7[1][0]                    \n",
      "__________________________________________________________________________________________________\n",
      "multiply_162 (Multiply)         (None, 1)            0           lambda_6[0][78]                  \n",
      "                                                                 model_7[1][0]                    \n",
      "__________________________________________________________________________________________________\n",
      "multiply_163 (Multiply)         (None, 1)            0           lambda_6[0][79]                  \n",
      "                                                                 model_7[1][0]                    \n",
      "__________________________________________________________________________________________________\n",
      "multiply_164 (Multiply)         (None, 1)            0           lambda_6[0][80]                  \n",
      "                                                                 model_7[1][0]                    \n",
      "__________________________________________________________________________________________________\n",
      "multiply_165 (Multiply)         (None, 1)            0           lambda_6[0][81]                  \n",
      "                                                                 model_7[1][0]                    \n",
      "__________________________________________________________________________________________________\n",
      "multiply_166 (Multiply)         (None, 1)            0           lambda_6[0][82]                  \n",
      "                                                                 model_7[1][0]                    \n",
      "__________________________________________________________________________________________________\n",
      "dense_85 (Dense)                (None, 1)            1           multiply_84[0][0]                \n",
      "__________________________________________________________________________________________________\n",
      "dense_86 (Dense)                (None, 1)            1           multiply_85[0][0]                \n",
      "__________________________________________________________________________________________________\n",
      "dense_87 (Dense)                (None, 1)            1           multiply_86[0][0]                \n",
      "__________________________________________________________________________________________________\n",
      "dense_88 (Dense)                (None, 1)            1           multiply_87[0][0]                \n",
      "__________________________________________________________________________________________________\n",
      "dense_89 (Dense)                (None, 1)            1           multiply_88[0][0]                \n",
      "__________________________________________________________________________________________________\n",
      "dense_90 (Dense)                (None, 1)            1           multiply_89[0][0]                \n",
      "__________________________________________________________________________________________________\n",
      "dense_91 (Dense)                (None, 1)            1           multiply_90[0][0]                \n",
      "__________________________________________________________________________________________________\n",
      "dense_92 (Dense)                (None, 1)            1           multiply_91[0][0]                \n",
      "__________________________________________________________________________________________________\n",
      "dense_93 (Dense)                (None, 1)            1           multiply_92[0][0]                \n",
      "__________________________________________________________________________________________________\n",
      "dense_94 (Dense)                (None, 1)            1           multiply_93[0][0]                \n",
      "__________________________________________________________________________________________________\n",
      "dense_95 (Dense)                (None, 1)            1           multiply_94[0][0]                \n",
      "__________________________________________________________________________________________________\n",
      "dense_96 (Dense)                (None, 1)            1           multiply_95[0][0]                \n",
      "__________________________________________________________________________________________________\n",
      "dense_97 (Dense)                (None, 1)            1           multiply_96[0][0]                \n",
      "__________________________________________________________________________________________________\n",
      "dense_98 (Dense)                (None, 1)            1           multiply_97[0][0]                \n",
      "__________________________________________________________________________________________________\n",
      "dense_99 (Dense)                (None, 1)            1           multiply_98[0][0]                \n",
      "__________________________________________________________________________________________________\n",
      "dense_100 (Dense)               (None, 1)            1           multiply_99[0][0]                \n",
      "__________________________________________________________________________________________________\n",
      "dense_101 (Dense)               (None, 1)            1           multiply_100[0][0]               \n",
      "__________________________________________________________________________________________________\n",
      "dense_102 (Dense)               (None, 1)            1           multiply_101[0][0]               \n",
      "__________________________________________________________________________________________________\n",
      "dense_103 (Dense)               (None, 1)            1           multiply_102[0][0]               \n",
      "__________________________________________________________________________________________________\n",
      "dense_104 (Dense)               (None, 1)            1           multiply_103[0][0]               \n",
      "__________________________________________________________________________________________________\n",
      "dense_105 (Dense)               (None, 1)            1           multiply_104[0][0]               \n",
      "__________________________________________________________________________________________________\n",
      "dense_106 (Dense)               (None, 1)            1           multiply_105[0][0]               \n",
      "__________________________________________________________________________________________________\n",
      "dense_107 (Dense)               (None, 1)            1           multiply_106[0][0]               \n",
      "__________________________________________________________________________________________________\n",
      "dense_108 (Dense)               (None, 1)            1           multiply_107[0][0]               \n",
      "__________________________________________________________________________________________________\n",
      "dense_109 (Dense)               (None, 1)            1           multiply_108[0][0]               \n",
      "__________________________________________________________________________________________________\n",
      "dense_110 (Dense)               (None, 1)            1           multiply_109[0][0]               \n",
      "__________________________________________________________________________________________________\n",
      "dense_111 (Dense)               (None, 1)            1           multiply_110[0][0]               \n",
      "__________________________________________________________________________________________________\n",
      "dense_112 (Dense)               (None, 1)            1           multiply_111[0][0]               \n",
      "__________________________________________________________________________________________________\n",
      "dense_113 (Dense)               (None, 1)            1           multiply_112[0][0]               \n",
      "__________________________________________________________________________________________________\n",
      "dense_114 (Dense)               (None, 1)            1           multiply_113[0][0]               \n",
      "__________________________________________________________________________________________________\n",
      "dense_115 (Dense)               (None, 1)            1           multiply_114[0][0]               \n",
      "__________________________________________________________________________________________________\n",
      "dense_116 (Dense)               (None, 1)            1           multiply_115[0][0]               \n",
      "__________________________________________________________________________________________________\n",
      "dense_117 (Dense)               (None, 1)            1           multiply_116[0][0]               \n",
      "__________________________________________________________________________________________________\n",
      "dense_118 (Dense)               (None, 1)            1           multiply_117[0][0]               \n",
      "__________________________________________________________________________________________________\n",
      "dense_119 (Dense)               (None, 1)            1           multiply_118[0][0]               \n",
      "__________________________________________________________________________________________________\n",
      "dense_120 (Dense)               (None, 1)            1           multiply_119[0][0]               \n",
      "__________________________________________________________________________________________________\n",
      "dense_121 (Dense)               (None, 1)            1           multiply_120[0][0]               \n",
      "__________________________________________________________________________________________________\n",
      "dense_122 (Dense)               (None, 1)            1           multiply_121[0][0]               \n",
      "__________________________________________________________________________________________________\n",
      "dense_123 (Dense)               (None, 1)            1           multiply_122[0][0]               \n",
      "__________________________________________________________________________________________________\n",
      "dense_124 (Dense)               (None, 1)            1           multiply_123[0][0]               \n",
      "__________________________________________________________________________________________________\n",
      "dense_125 (Dense)               (None, 1)            1           multiply_124[0][0]               \n",
      "__________________________________________________________________________________________________\n",
      "dense_126 (Dense)               (None, 1)            1           multiply_125[0][0]               \n",
      "__________________________________________________________________________________________________\n",
      "dense_127 (Dense)               (None, 1)            1           multiply_126[0][0]               \n",
      "__________________________________________________________________________________________________\n",
      "dense_128 (Dense)               (None, 1)            1           multiply_127[0][0]               \n",
      "__________________________________________________________________________________________________\n",
      "dense_129 (Dense)               (None, 1)            1           multiply_128[0][0]               \n",
      "__________________________________________________________________________________________________\n",
      "dense_130 (Dense)               (None, 1)            1           multiply_129[0][0]               \n",
      "__________________________________________________________________________________________________\n",
      "dense_131 (Dense)               (None, 1)            1           multiply_130[0][0]               \n",
      "__________________________________________________________________________________________________\n",
      "dense_132 (Dense)               (None, 1)            1           multiply_131[0][0]               \n",
      "__________________________________________________________________________________________________\n",
      "dense_133 (Dense)               (None, 1)            1           multiply_132[0][0]               \n",
      "__________________________________________________________________________________________________\n",
      "dense_134 (Dense)               (None, 1)            1           multiply_133[0][0]               \n",
      "__________________________________________________________________________________________________\n",
      "dense_135 (Dense)               (None, 1)            1           multiply_134[0][0]               \n",
      "__________________________________________________________________________________________________\n",
      "dense_136 (Dense)               (None, 1)            1           multiply_135[0][0]               \n",
      "__________________________________________________________________________________________________\n",
      "dense_137 (Dense)               (None, 1)            1           multiply_136[0][0]               \n",
      "__________________________________________________________________________________________________\n",
      "dense_138 (Dense)               (None, 1)            1           multiply_137[0][0]               \n",
      "__________________________________________________________________________________________________\n",
      "dense_139 (Dense)               (None, 1)            1           multiply_138[0][0]               \n",
      "__________________________________________________________________________________________________\n",
      "dense_140 (Dense)               (None, 1)            1           multiply_139[0][0]               \n",
      "__________________________________________________________________________________________________\n",
      "dense_141 (Dense)               (None, 1)            1           multiply_140[0][0]               \n",
      "__________________________________________________________________________________________________\n",
      "dense_142 (Dense)               (None, 1)            1           multiply_141[0][0]               \n",
      "__________________________________________________________________________________________________\n",
      "dense_143 (Dense)               (None, 1)            1           multiply_142[0][0]               \n",
      "__________________________________________________________________________________________________\n",
      "dense_144 (Dense)               (None, 1)            1           multiply_143[0][0]               \n",
      "__________________________________________________________________________________________________\n",
      "dense_145 (Dense)               (None, 1)            1           multiply_144[0][0]               \n",
      "__________________________________________________________________________________________________\n",
      "dense_146 (Dense)               (None, 1)            1           multiply_145[0][0]               \n",
      "__________________________________________________________________________________________________\n",
      "dense_147 (Dense)               (None, 1)            1           multiply_146[0][0]               \n",
      "__________________________________________________________________________________________________\n",
      "dense_148 (Dense)               (None, 1)            1           multiply_147[0][0]               \n",
      "__________________________________________________________________________________________________\n",
      "dense_149 (Dense)               (None, 1)            1           multiply_148[0][0]               \n",
      "__________________________________________________________________________________________________\n",
      "dense_150 (Dense)               (None, 1)            1           multiply_149[0][0]               \n",
      "__________________________________________________________________________________________________\n",
      "dense_151 (Dense)               (None, 1)            1           multiply_150[0][0]               \n",
      "__________________________________________________________________________________________________\n",
      "dense_152 (Dense)               (None, 1)            1           multiply_151[0][0]               \n",
      "__________________________________________________________________________________________________\n",
      "dense_153 (Dense)               (None, 1)            1           multiply_152[0][0]               \n",
      "__________________________________________________________________________________________________\n",
      "dense_154 (Dense)               (None, 1)            1           multiply_153[0][0]               \n",
      "__________________________________________________________________________________________________\n",
      "dense_155 (Dense)               (None, 1)            1           multiply_154[0][0]               \n",
      "__________________________________________________________________________________________________\n",
      "dense_156 (Dense)               (None, 1)            1           multiply_155[0][0]               \n",
      "__________________________________________________________________________________________________\n",
      "dense_157 (Dense)               (None, 1)            1           multiply_156[0][0]               \n",
      "__________________________________________________________________________________________________\n",
      "dense_158 (Dense)               (None, 1)            1           multiply_157[0][0]               \n",
      "__________________________________________________________________________________________________\n",
      "dense_159 (Dense)               (None, 1)            1           multiply_158[0][0]               \n",
      "__________________________________________________________________________________________________\n",
      "dense_160 (Dense)               (None, 1)            1           multiply_159[0][0]               \n",
      "__________________________________________________________________________________________________\n",
      "dense_161 (Dense)               (None, 1)            1           multiply_160[0][0]               \n",
      "__________________________________________________________________________________________________\n",
      "dense_162 (Dense)               (None, 1)            1           multiply_161[0][0]               \n",
      "__________________________________________________________________________________________________\n",
      "dense_163 (Dense)               (None, 1)            1           multiply_162[0][0]               \n",
      "__________________________________________________________________________________________________\n",
      "dense_164 (Dense)               (None, 1)            1           multiply_163[0][0]               \n",
      "__________________________________________________________________________________________________\n",
      "dense_165 (Dense)               (None, 1)            1           multiply_164[0][0]               \n",
      "__________________________________________________________________________________________________\n",
      "dense_166 (Dense)               (None, 1)            1           multiply_165[0][0]               \n",
      "__________________________________________________________________________________________________\n",
      "dense_167 (Dense)               (None, 1)            1           multiply_166[0][0]               \n",
      "__________________________________________________________________________________________________\n",
      "concatenate (Lambda)            (None, 83)           0           dense_85[0][0]                   \n",
      "                                                                 dense_86[0][0]                   \n",
      "                                                                 dense_87[0][0]                   \n",
      "                                                                 dense_88[0][0]                   \n",
      "                                                                 dense_89[0][0]                   \n",
      "                                                                 dense_90[0][0]                   \n",
      "                                                                 dense_91[0][0]                   \n",
      "                                                                 dense_92[0][0]                   \n",
      "                                                                 dense_93[0][0]                   \n",
      "                                                                 dense_94[0][0]                   \n",
      "                                                                 dense_95[0][0]                   \n",
      "                                                                 dense_96[0][0]                   \n",
      "                                                                 dense_97[0][0]                   \n",
      "                                                                 dense_98[0][0]                   \n",
      "                                                                 dense_99[0][0]                   \n",
      "                                                                 dense_100[0][0]                  \n",
      "                                                                 dense_101[0][0]                  \n",
      "                                                                 dense_102[0][0]                  \n",
      "                                                                 dense_103[0][0]                  \n",
      "                                                                 dense_104[0][0]                  \n",
      "                                                                 dense_105[0][0]                  \n",
      "                                                                 dense_106[0][0]                  \n",
      "                                                                 dense_107[0][0]                  \n",
      "                                                                 dense_108[0][0]                  \n",
      "                                                                 dense_109[0][0]                  \n",
      "                                                                 dense_110[0][0]                  \n",
      "                                                                 dense_111[0][0]                  \n",
      "                                                                 dense_112[0][0]                  \n",
      "                                                                 dense_113[0][0]                  \n",
      "                                                                 dense_114[0][0]                  \n",
      "                                                                 dense_115[0][0]                  \n",
      "                                                                 dense_116[0][0]                  \n",
      "                                                                 dense_117[0][0]                  \n",
      "                                                                 dense_118[0][0]                  \n",
      "                                                                 dense_119[0][0]                  \n",
      "                                                                 dense_120[0][0]                  \n",
      "                                                                 dense_121[0][0]                  \n",
      "                                                                 dense_122[0][0]                  \n",
      "                                                                 dense_123[0][0]                  \n",
      "                                                                 dense_124[0][0]                  \n",
      "                                                                 dense_125[0][0]                  \n",
      "                                                                 dense_126[0][0]                  \n",
      "                                                                 dense_127[0][0]                  \n",
      "                                                                 dense_128[0][0]                  \n",
      "                                                                 dense_129[0][0]                  \n",
      "                                                                 dense_130[0][0]                  \n",
      "                                                                 dense_131[0][0]                  \n",
      "                                                                 dense_132[0][0]                  \n",
      "                                                                 dense_133[0][0]                  \n",
      "                                                                 dense_134[0][0]                  \n",
      "                                                                 dense_135[0][0]                  \n",
      "                                                                 dense_136[0][0]                  \n",
      "                                                                 dense_137[0][0]                  \n",
      "                                                                 dense_138[0][0]                  \n",
      "                                                                 dense_139[0][0]                  \n",
      "                                                                 dense_140[0][0]                  \n",
      "                                                                 dense_141[0][0]                  \n",
      "                                                                 dense_142[0][0]                  \n",
      "                                                                 dense_143[0][0]                  \n",
      "                                                                 dense_144[0][0]                  \n",
      "                                                                 dense_145[0][0]                  \n",
      "                                                                 dense_146[0][0]                  \n",
      "                                                                 dense_147[0][0]                  \n",
      "                                                                 dense_148[0][0]                  \n",
      "                                                                 dense_149[0][0]                  \n",
      "                                                                 dense_150[0][0]                  \n",
      "                                                                 dense_151[0][0]                  \n",
      "                                                                 dense_152[0][0]                  \n",
      "                                                                 dense_153[0][0]                  \n",
      "                                                                 dense_154[0][0]                  \n",
      "                                                                 dense_155[0][0]                  \n",
      "                                                                 dense_156[0][0]                  \n",
      "                                                                 dense_157[0][0]                  \n",
      "                                                                 dense_158[0][0]                  \n",
      "                                                                 dense_159[0][0]                  \n",
      "                                                                 dense_160[0][0]                  \n",
      "                                                                 dense_161[0][0]                  \n",
      "                                                                 dense_162[0][0]                  \n",
      "                                                                 dense_163[0][0]                  \n",
      "                                                                 dense_164[0][0]                  \n",
      "                                                                 dense_165[0][0]                  \n",
      "                                                                 dense_166[0][0]                  \n",
      "                                                                 dense_167[0][0]                  \n",
      "__________________________________________________________________________________________________\n",
      "dense_168 (Dense)               (None, 1)            84          concatenate[0][0]                \n",
      "==================================================================================================\n",
      "Total params: 3,854\n",
      "Trainable params: 3,854\n",
      "Non-trainable params: 0\n",
      "__________________________________________________________________________________________________\n"
     ]
    }
   ],
   "source": [
    "# build the combined model\n",
    "# Combined model\n",
    "human_terms_len = len(word_list)\n",
    "\n",
    "base_model = build_base_model(X_train.shape[1])\n",
    "\n",
    "combined_input_layer = Input(shape=(X_train.shape[1],))\n",
    "\n",
    "# build the hard coded weight for human terms\n",
    "ht_input_layer = Input(shape=(human_terms_len,))\n",
    "\n",
    "# split = Lambda( lambda x: tf.split(x,num_or_size_splits=human_terms_len,axis=1))(ht_input_layer)\n",
    "split = Lambda(layer_split)(ht_input_layer)\n",
    "\n",
    "\n",
    "# get the document prediction\n",
    "label_layer = base_model(combined_input_layer)\n",
    "\n",
    "# stack the multiply layer\n",
    "dense_layer = []\n",
    "for i in range(human_terms_len):\n",
    "    dense_layer.append(Dense(1, activation='relu',use_bias=False, kernel_initializer='ones')(Multiply()([split[i], label_layer])))\n",
    "\n",
    "# concat all the result   \n",
    "# concat = Lambda( lambda x: tf.concat(x, axis=1), name='concatenate')(dense_layer)\n",
    "concat = Lambda(layer_concat, name='concatenate')(dense_layer)\n",
    "\n",
    "\n",
    "# pass it to sigmoid layer\n",
    "output_layer = Dense(1, activation='sigmoid')(concat)\n",
    "\n",
    "combined_model = Model(inputs=[combined_input_layer, ht_input_layer], outputs=output_layer)\n",
    "combined_model.summary()"
   ]
  },
  {
   "cell_type": "code",
   "execution_count": 53,
   "metadata": {},
   "outputs": [],
   "source": [
    "def layer_split(x):\n",
    "    return tf.split(x,num_or_size_splits=human_terms_len,axis=1)\n",
    "\n",
    "def layer_concat(x):\n",
    "    return tf.concat(x, axis=1)"
   ]
  },
  {
   "cell_type": "code",
   "execution_count": 55,
   "metadata": {},
   "outputs": [],
   "source": [
    "base_model.compile(loss='mse',\n",
    "                  optimizer='adam',\n",
    "                  metrics=['acc'])\n",
    "\n",
    "combined_model.compile(loss='mse',\n",
    "                      optimizer='adam',\n",
    "                      metrics=['acc'])"
   ]
  },
  {
   "cell_type": "code",
   "execution_count": 56,
   "metadata": {},
   "outputs": [],
   "source": [
    "y_train_tanh = y_train_original\n",
    "y_train_tanh[y_train_tanh == 0] = -1"
   ]
  },
  {
   "cell_type": "code",
   "execution_count": 57,
   "metadata": {},
   "outputs": [
    {
     "data": {
      "text/plain": [
       "(25000, 83)"
      ]
     },
     "execution_count": 57,
     "metadata": {},
     "output_type": "execute_result"
    }
   ],
   "source": [
    "y_train_agreement.shape"
   ]
  },
  {
   "cell_type": "code",
   "execution_count": 58,
   "metadata": {},
   "outputs": [
    {
     "name": "stdout",
     "output_type": "stream",
     "text": [
      "Train on 16667 samples, validate on 8333 samples\n",
      "Epoch 1/1\n",
      "16667/16667 [==============================] - 43s 3ms/step - loss: 0.4185 - acc: 0.6714 - val_loss: 0.4260 - val_acc: 0.7540\n"
     ]
    }
   ],
   "source": [
    "base_model_history = base_model.fit(X_train[:16667], y_train_tanh[:16667], \n",
    "                                    validation_data=(X_train[16667:], y_train_tanh[16667:]),\n",
    "                                    batch_size=1, epochs=1)"
   ]
  },
  {
   "cell_type": "code",
   "execution_count": 59,
   "metadata": {},
   "outputs": [
    {
     "name": "stdout",
     "output_type": "stream",
     "text": [
      "Train on 16667 samples, validate on 8333 samples\n",
      "Epoch 1/1\n",
      "16667/16667 [==============================] - 124s 7ms/step - loss: 0.7543 - acc: 0.3197 - val_loss: 0.7294 - val_acc: 0.3109\n"
     ]
    }
   ],
   "source": [
    "combined_model_history = combined_model.fit([X_train[:16667],y_train_agreement[:16667]], y_train_original[:16667], \n",
    "                                            validation_data=([X_train[16667:], y_train_agreement[16667:]], y_train_original[16667:]),\n",
    "                                            batch_size=1, epochs=1)"
   ]
  },
  {
   "cell_type": "code",
   "execution_count": 60,
   "metadata": {},
   "outputs": [
    {
     "name": "stdout",
     "output_type": "stream",
     "text": [
      "25000/25000 [==============================] - 2s 89us/step\n"
     ]
    },
    {
     "data": {
      "text/plain": [
       "[0.1549614046549797, 0.79296]"
      ]
     },
     "execution_count": 60,
     "metadata": {},
     "output_type": "execute_result"
    }
   ],
   "source": [
    "score = combined_model.evaluate([X_test, y_test_agreement], y_test_original)\n",
    "score"
   ]
  },
  {
   "cell_type": "code",
   "execution_count": 61,
   "metadata": {},
   "outputs": [],
   "source": [
    "predict = combined_model.predict([X_test, y_test_agreement])"
   ]
  },
  {
   "cell_type": "code",
   "execution_count": 62,
   "metadata": {},
   "outputs": [
    {
     "data": {
      "text/plain": [
       "(25000,)"
      ]
     },
     "execution_count": 62,
     "metadata": {},
     "output_type": "execute_result"
    }
   ],
   "source": [
    "predict = predict.flatten()\n",
    "predict.shape"
   ]
  },
  {
   "cell_type": "code",
   "execution_count": 63,
   "metadata": {},
   "outputs": [
    {
     "data": {
      "text/plain": [
       "array([1, 1, 0, ..., 0, 0, 0])"
      ]
     },
     "execution_count": 63,
     "metadata": {},
     "output_type": "execute_result"
    }
   ],
   "source": [
    "predict_class = (predict > 0.5).astype('int32')\n",
    "predict_class"
   ]
  },
  {
   "cell_type": "code",
   "execution_count": 64,
   "metadata": {},
   "outputs": [
    {
     "data": {
      "text/plain": [
       "0.79296"
      ]
     },
     "execution_count": 64,
     "metadata": {},
     "output_type": "execute_result"
    }
   ],
   "source": [
    "np.sum(y_test_original == predict_class)/len(predict_class)"
   ]
  },
  {
   "cell_type": "code",
   "execution_count": 65,
   "metadata": {},
   "outputs": [
    {
     "data": {
      "text/plain": [
       "12500"
      ]
     },
     "execution_count": 65,
     "metadata": {},
     "output_type": "execute_result"
    }
   ],
   "source": [
    "np.sum(y_test_original==0)"
   ]
  },
  {
   "cell_type": "code",
   "execution_count": null,
   "metadata": {},
   "outputs": [],
   "source": []
  },
  {
   "cell_type": "code",
   "execution_count": 66,
   "metadata": {},
   "outputs": [
    {
     "name": "stdout",
     "output_type": "stream",
     "text": [
      "25000/25000 [==============================] - 2s 90us/step\n"
     ]
    },
    {
     "data": {
      "text/plain": [
       "[0.6920640222930908, 0.33228]"
      ]
     },
     "execution_count": 66,
     "metadata": {},
     "output_type": "execute_result"
    }
   ],
   "source": [
    "score = combined_model.evaluate([X_train, y_train_agreement], y_train_original)\n",
    "score"
   ]
  },
  {
   "cell_type": "code",
   "execution_count": 14,
   "metadata": {},
   "outputs": [],
   "source": [
    "# independent weight here\n",
    "# independent_weight_base_model_history\n",
    "# independent_weight_combined_model_history"
   ]
  },
  {
   "cell_type": "code",
   "execution_count": 15,
   "metadata": {},
   "outputs": [],
   "source": [
    "# var name\n",
    "# shared_weight_base_model_history\n",
    "# shared_weight_combined_model_history"
   ]
  },
  {
   "cell_type": "code",
   "execution_count": 16,
   "metadata": {},
   "outputs": [],
   "source": [
    "net_weight = base_model.get_weights()"
   ]
  },
  {
   "cell_type": "code",
   "execution_count": 17,
   "metadata": {},
   "outputs": [
    {
     "data": {
      "text/plain": [
       "2"
      ]
     },
     "execution_count": 17,
     "metadata": {},
     "output_type": "execute_result"
    }
   ],
   "source": [
    "len(net_weight)"
   ]
  },
  {
   "cell_type": "code",
   "execution_count": 18,
   "metadata": {},
   "outputs": [],
   "source": [
    "weight = net_weight[0].flatten()"
   ]
  },
  {
   "cell_type": "code",
   "execution_count": 19,
   "metadata": {},
   "outputs": [
    {
     "data": {
      "text/plain": [
       "(1,)"
      ]
     },
     "execution_count": 19,
     "metadata": {},
     "output_type": "execute_result"
    }
   ],
   "source": [
    "net_weight[1].shape"
   ]
  },
  {
   "cell_type": "code",
   "execution_count": 20,
   "metadata": {},
   "outputs": [],
   "source": [
    "words = cv.get_feature_names()"
   ]
  },
  {
   "cell_type": "code",
   "execution_count": 21,
   "metadata": {},
   "outputs": [],
   "source": [
    "indices = np.argsort(weight)"
   ]
  },
  {
   "cell_type": "code",
   "execution_count": 22,
   "metadata": {},
   "outputs": [
    {
     "name": "stdout",
     "output_type": "stream",
     "text": [
      "worst \t -2.925\n",
      "incoherent \t -2.741\n",
      "dull \t -2.722\n",
      "mst3k \t -2.567\n",
      "fails \t -2.489\n",
      "waste \t -2.471\n",
      "behave \t -2.466\n",
      "unwatchable \t -2.460\n",
      "poorly \t -2.448\n",
      "unfunny \t -2.359\n"
     ]
    }
   ],
   "source": [
    "for i in indices[:10]:\n",
    "    print('%s \\t %.3f' %(words[i], weight[i]))"
   ]
  },
  {
   "cell_type": "code",
   "execution_count": 23,
   "metadata": {},
   "outputs": [
    {
     "name": "stdout",
     "output_type": "stream",
     "text": [
      "rare \t 2.948\n",
      "refreshing \t 2.938\n",
      "excellent \t 2.669\n",
      "glad \t 2.406\n",
      "captures \t 2.381\n",
      "unforgettable \t 2.350\n",
      "strength \t 2.313\n",
      "touching \t 2.281\n",
      "complaint \t 2.270\n",
      "flawless \t 2.255\n"
     ]
    }
   ],
   "source": [
    "pos_indices = indices[::-1]\n",
    "for i in pos_indices[:10]:\n",
    "    print('%s \\t %.3f' %(words[i], weight[i]))"
   ]
  },
  {
   "cell_type": "code",
   "execution_count": 24,
   "metadata": {},
   "outputs": [],
   "source": [
    "combined_net_weight = combined_model.get_weights()"
   ]
  },
  {
   "cell_type": "code",
   "execution_count": 25,
   "metadata": {},
   "outputs": [
    {
     "data": {
      "text/plain": [
       "87"
      ]
     },
     "execution_count": 25,
     "metadata": {},
     "output_type": "execute_result"
    }
   ],
   "source": [
    "len(combined_net_weight)"
   ]
  },
  {
   "cell_type": "code",
   "execution_count": 26,
   "metadata": {},
   "outputs": [
    {
     "name": "stdout",
     "output_type": "stream",
     "text": [
      "0 (3641, 1)\n",
      "1 (1,)\n",
      "[3.627777]\n",
      "[3.8900218]\n",
      "[4.153823]\n",
      "[4.5703483]\n",
      "[1.4888272]\n",
      "[1.1577784]\n",
      "[4.179051]\n",
      "[3.9351318]\n",
      "[3.7010958]\n",
      "[3.7599983]\n",
      "[3.0573008]\n",
      "[3.7975197]\n",
      "[4.0738215]\n",
      "[4.2703304]\n",
      "[3.3386655]\n",
      "[2.47348]\n",
      "[2.8444138]\n",
      "[2.2478364]\n",
      "[2.773281]\n",
      "[3.8707283]\n",
      "[3.868085]\n",
      "[3.770223]\n",
      "[3.7256012]\n",
      "[3.7170255]\n",
      "[3.8314774]\n",
      "[4.361408]\n",
      "[4.174931]\n",
      "[4.292776]\n",
      "[2.7837505]\n",
      "[2.9280767]\n",
      "[2.880346]\n",
      "[4.1962867]\n",
      "[3.1430523]\n",
      "[3.478287]\n",
      "[3.2203453]\n",
      "[3.5235784]\n",
      "[2.4974473]\n",
      "[3.1943052]\n",
      "[2.7004623]\n",
      "[2.7403023]\n",
      "[2.6789212]\n",
      "[4.0552034]\n",
      "[3.5390275]\n",
      "[4.463016]\n",
      "[4.190392]\n",
      "[3.9007244]\n",
      "[3.863277]\n",
      "[3.561584]\n",
      "[2.7166073]\n",
      "[4.000068]\n",
      "[3.4171407]\n",
      "[3.1526122]\n",
      "[3.6230867]\n",
      "[3.6077058]\n",
      "[3.7694995]\n",
      "[2.9206834]\n",
      "[2.1293828]\n",
      "[4.48624]\n",
      "[3.8510976]\n",
      "[2.9109056]\n",
      "[3.4334617]\n",
      "[3.208707]\n",
      "[3.3748553]\n",
      "[3.6008465]\n",
      "[3.6978815]\n",
      "[4.1673093]\n",
      "[3.6438437]\n",
      "[2.9172628]\n",
      "[3.9650507]\n",
      "[3.1554806]\n",
      "[3.3657262]\n",
      "[3.3937044]\n",
      "[4.0483174]\n",
      "[4.424462]\n",
      "[3.6251955]\n",
      "[3.2002373]\n",
      "[4.7132535]\n",
      "[2.5550203]\n",
      "[3.83853]\n",
      "[3.3442917]\n",
      "[1.7070978]\n",
      "[3.7956536]\n",
      "[4.2303305]\n",
      "85 (83, 1)\n",
      "86 (1,)\n"
     ]
    }
   ],
   "source": [
    "ht_weight = []\n",
    "for i in range(len(combined_net_weight)):\n",
    "    if i>1 and i < 85:\n",
    "        print(combined_net_weight[i].flatten())\n",
    "        ht_weight.append(combined_net_weight[i].flatten())\n",
    "    else:\n",
    "        print(i, combined_net_weight[i].shape)\n",
    "ht_weight = np.asarray(ht_weight)"
   ]
  },
  {
   "cell_type": "code",
   "execution_count": 27,
   "metadata": {},
   "outputs": [],
   "source": [
    "sigmoid_weight = combined_net_weight[85].flatten()"
   ]
  },
  {
   "cell_type": "code",
   "execution_count": 28,
   "metadata": {},
   "outputs": [],
   "source": [
    "ht_weight = ht_weight.flatten()"
   ]
  },
  {
   "cell_type": "code",
   "execution_count": 29,
   "metadata": {},
   "outputs": [
    {
     "name": "stdout",
     "output_type": "stream",
     "text": [
      "human terms \t dense_relu weight \t sigmoid weight \t\t pos/neg?\n",
      "6/10 \t 1.158 \t 0.288 \t\t 1.0\n",
      "5/10 \t 1.489 \t 0.637 \t\t 1.0\n",
      "wonderfully \t 1.707 \t 0.903 \t\t 1.0\n",
      "perfectly \t 2.129 \t 1.267 \t\t 1.0\n",
      "beautifully \t 2.248 \t 1.447 \t\t 1.0\n",
      "badly \t 2.473 \t -1.309 \t\t 0.0\n",
      "fun \t 2.497 \t 1.625 \t\t 1.0\n",
      "wasted \t 2.555 \t -1.624 \t\t 0.0\n",
      "great \t 2.679 \t 1.746 \t\t 1.0\n",
      "funniest \t 2.700 \t 1.779 \t\t 1.0\n",
      "loved \t 2.717 \t 1.729 \t\t 1.0\n",
      "gem \t 2.740 \t 1.636 \t\t 1.0\n",
      "best \t 2.773 \t 1.582 \t\t 1.0\n",
      "enjoyable \t 2.784 \t 1.942 \t\t 1.0\n",
      "beautiful \t 2.844 \t 1.966 \t\t 1.0\n",
      "excellent \t 2.880 \t 1.972 \t\t 1.0\n",
      "poorly \t 2.911 \t -1.919 \t\t 0.0\n",
      "solid \t 2.917 \t 1.983 \t\t 1.0\n",
      "perfect \t 2.921 \t 1.878 \t\t 1.0\n",
      "enjoyed \t 2.928 \t 1.964 \t\t 1.0\n",
      "amazing \t 3.057 \t 1.910 \t\t 1.0\n",
      "fantastic \t 3.143 \t 2.006 \t\t 1.0\n",
      "mst3k \t 3.153 \t -2.150 \t\t 0.0\n",
      "subtle \t 3.155 \t 2.149 \t\t 1.0\n",
      "funny \t 3.194 \t -2.109 \t\t 0.0\n",
      "unfunny \t 3.200 \t -2.404 \t\t 0.0\n",
      "rare \t 3.209 \t 2.297 \t\t 1.0\n",
      "favorite \t 3.220 \t 2.317 \t\t 1.0\n",
      "bad \t 3.339 \t -2.237 \t\t 0.0\n",
      "wonderful \t 3.344 \t 2.164 \t\t 1.0\n",
      "superb \t 3.366 \t 2.334 \t\t 1.0\n",
      "recommended \t 3.375 \t 2.227 \t\t 1.0\n",
      "surprisingly \t 3.394 \t 2.345 \t\t 1.0\n",
      "mess \t 3.417 \t -2.272 \t\t 0.0\n",
      "predictable \t 3.433 \t -2.399 \t\t 0.0\n",
      "fascinating \t 3.478 \t 2.353 \t\t 1.0\n",
      "forgettable \t 3.524 \t -2.488 \t\t 0.0\n",
      "incredible \t 3.539 \t 2.541 \t\t 1.0\n",
      "lousy \t 3.562 \t -2.766 \t\t 0.0\n",
      "redeeming \t 3.601 \t -2.763 \t\t 0.0\n",
      "obnoxious \t 3.608 \t -2.822 \t\t 0.0\n",
      "noir \t 3.623 \t 2.506 \t\t 1.0\n",
      "unfortunately \t 3.625 \t -2.766 \t\t 0.0\n",
      "1/10 \t 3.628 \t -2.735 \t\t 0.0\n",
      "sadly \t 3.644 \t -2.714 \t\t 0.0\n",
      "refreshing \t 3.698 \t 2.716 \t\t 1.0\n",
      "9/10 \t 3.701 \t 2.672 \t\t 1.0\n",
      "disappointed \t 3.717 \t -2.544 \t\t 0.0\n",
      "cheap \t 3.726 \t -2.626 \t\t 0.0\n",
      "10/10 \t 3.760 \t 2.962 \t\t 1.0\n",
      "pathetic \t 3.769 \t -2.850 \t\t 0.0\n",
      "brilliant \t 3.770 \t 2.883 \t\t 1.0\n",
      "worse \t 3.796 \t -2.920 \t\t 0.0\n",
      "annoying \t 3.798 \t -2.663 \t\t 0.0\n",
      "disappointing \t 3.831 \t -2.912 \t\t 0.0\n",
      "weak \t 3.839 \t -2.890 \t\t 0.0\n",
      "poor \t 3.851 \t -2.722 \t\t 0.0\n",
      "laughable \t 3.863 \t -3.017 \t\t 0.0\n",
      "boring \t 3.868 \t -2.807 \t\t 0.0\n",
      "bland \t 3.871 \t -2.783 \t\t 0.0\n",
      "2/10 \t 3.890 \t -3.034 \t\t 0.0\n",
      "lame \t 3.901 \t -2.789 \t\t 0.0\n",
      "8/10 \t 3.935 \t 3.000 \t\t 1.0\n",
      "stupid \t 3.965 \t -3.112 \t\t 0.0\n",
      "mediocre \t 4.000 \t -3.198 \t\t 0.0\n",
      "tedious \t 4.048 \t -2.926 \t\t 0.0\n",
      "horrible \t 4.055 \t -3.055 \t\t 0.0\n",
      "avoid \t 4.074 \t -2.951 \t\t 0.0\n",
      "3/10 \t 4.154 \t -3.022 \t\t 0.0\n",
      "ridiculous \t 4.167 \t -3.296 \t\t 0.0\n",
      "dreadful \t 4.175 \t -3.209 \t\t 0.0\n",
      "7/10 \t 4.179 \t 3.286 \t\t 1.0\n",
      "lacks \t 4.190 \t -3.190 \t\t 0.0\n",
      "fails \t 4.196 \t -3.132 \t\t 0.0\n",
      "worst \t 4.230 \t -3.235 \t\t 0.0\n",
      "awful \t 4.270 \t -3.242 \t\t 0.0\n",
      "dull \t 4.293 \t -3.300 \t\t 0.0\n",
      "disappointment \t 4.361 \t -3.174 \t\t 0.0\n",
      "terrible \t 4.424 \t -3.248 \t\t 0.0\n",
      "insult \t 4.463 \t -3.362 \t\t 0.0\n",
      "pointless \t 4.486 \t -3.447 \t\t 0.0\n",
      "4/10 \t 4.570 \t -3.474 \t\t 0.0\n",
      "waste \t 4.713 \t -3.331 \t\t 0.0\n"
     ]
    }
   ],
   "source": [
    "human_term_indices = np.argsort(ht_weight)\n",
    "\n",
    "print('human terms \\t dense_relu weight \\t sigmoid weight \\t\\t pos/neg?')\n",
    "for i in human_term_indices:\n",
    "    print('%s \\t %.3f \\t %.3f \\t\\t %.1f' %(word_list[i], ht_weight[i], sigmoid_weight[i], connotation[word_list[i]]))"
   ]
  },
  {
   "cell_type": "code",
   "execution_count": 30,
   "metadata": {},
   "outputs": [
    {
     "data": {
      "text/plain": [
       "83"
      ]
     },
     "execution_count": 30,
     "metadata": {},
     "output_type": "execute_result"
    }
   ],
   "source": [
    "len(connotation)"
   ]
  },
  {
   "cell_type": "code",
   "execution_count": 20,
   "metadata": {},
   "outputs": [],
   "source": [
    "# Print report on the word transparency\n",
    "index = [9, 19]\n",
    "def report():\n",
    "    for i in index:\n",
    "        print()\n",
    "        bm = base_model.predict(X_test[i])\n",
    "        \n",
    "        cm = combined_model.predict([X_test[i], \n",
    "                                np.reshape(y_test_agreement[i], (1,y_test_agreement.shape[1]))])\n",
    "        \n",
    "#         document_output = 'multiply'\n",
    "#         document_predict = Model(inputs=combined_model.input,\n",
    "#                                      outputs=combined_model.get_layer(document_output).output)\n",
    "#         doc_output = document_predict.predict([np.reshape(data[i], (1,5)), \n",
    "#                                       ht_1_input[i], \n",
    "#                                       ht_2_input[i], \n",
    "#                                       ht_3_input[i], \n",
    "#                                       ht_4_input[i]])\n",
    "        \n",
    "        layer_name = 'concatenate'\n",
    "        concat_after_relu = Model(inputs=combined_model.input,\n",
    "                                     outputs=combined_model.get_layer(layer_name).output)\n",
    "        concat_output = concat_after_relu.predict([X_test[i], \n",
    "                                np.reshape(y_test_agreement[i], (1,y_test_agreement.shape[1]))])\n",
    "        \n",
    "        print(X_test_original[i], '\\n\\n actual label : ', y_test_original[i], '\\n predict from base model : ', bm.flatten(), '\\n predict label : ', cm.flatten())\n",
    "    \n",
    "        for i,output in enumerate(concat_output.flatten()):\n",
    "            if output != 0:\n",
    "                print(word_list[i], output)"
   ]
  },
  {
   "cell_type": "code",
   "execution_count": 21,
   "metadata": {},
   "outputs": [
    {
     "name": "stdout",
     "output_type": "stream",
     "text": [
      "\n",
      "hilarious, clean, light-hearted, and quote-worthy. what else can you ask for in a film? this is my all-time, number one favorite movie. ever since i was a little girl, i have dreamed of owning a blue van with flame and an observation bubble.the cliché character in ridiculous situation are what make this film such great fun. the wonderful comedic chemistry between stephen furst (harold) and andy tennant (melio) make up most of my favorite part of the movie. and who did not love the hopeless awkwardness of flynch? do not forget the airport antic of leon's crony, dressed up as hari krishna: dancing, chanting and playing the tambourine--unbeatable! the clue are genius, the location are classic, and the plot is timeless.a word to the wise, if you did not watch this film when you were little, it probably will not win a place in your heart today. but nevertheless give it a chance, you may find that \"it does not matter what you say, it does not matter what you do, you have gotta play.\" \n",
      "\n",
      " actual label :  1 \n",
      " predict from base model :  [0.99998087] \n",
      " predict label :  [1.]\n",
      "favorite 3.3393843\n",
      "fun 2.948564\n",
      "great 2.5259075\n",
      "wonderful 2.8062205\n",
      "\n",
      "set just before the second world war, this is a touching and understated romantic story that is loosely based on a real event.it concern a german rocket scientist gerhart zucher (ulrich thomsen) working in britain in the advent of the second world war. fearing hitler may recall him to germany to assist him preparing for war, zucher and his slippery assistant heinz (eddie marsan) are evacuated by the british authority to a remote scottish island. they are given the task of building a rocket post box that will enable the islander to communicate with the mainland.mocked and bullied by the islander, they set up home with local girl catherine mackay (the stunning shauna macdonald), with whom thomsen begins an affair but complication arise when germany comes calling...the central romance between zucher and catherine is subtle and sincerely played and the supporting cast is a colourful bunch with an array of respected scottish character actor including gary lewis and clive russell.fine cinematography and a illiant central theme song sung in the local dialect round out this movie.intelligent but undemanding, it is good for a quiet evening in. \n",
      "\n",
      " actual label :  1 \n",
      " predict from base model :  [0.99999523] \n",
      " predict label :  [0.98618156]\n",
      "subtle 3.070125\n"
     ]
    }
   ],
   "source": [
    "report()"
   ]
  },
  {
   "cell_type": "code",
   "execution_count": 22,
   "metadata": {},
   "outputs": [
    {
     "name": "stdout",
     "output_type": "stream",
     "text": [
      "\n",
      "hilarious, clean, light-hearted, and quote-worthy. what else can you ask for in a film? this is my all-time, number one favorite movie. ever since i was a little girl, i have dreamed of owning a blue van with flame and an observation bubble.the cliché character in ridiculous situation are what make this film such great fun. the wonderful comedic chemistry between stephen furst (harold) and andy tennant (melio) make up most of my favorite part of the movie. and who did not love the hopeless awkwardness of flynch? do not forget the airport antic of leon's crony, dressed up as hari krishna: dancing, chanting and playing the tambourine--unbeatable! the clue are genius, the location are classic, and the plot is timeless.a word to the wise, if you did not watch this film when you were little, it probably will not win a place in your heart today. but nevertheless give it a chance, you may find that \"it does not matter what you say, it does not matter what you do, you have gotta play.\" \n",
      "\n",
      " actual label :  1 \n",
      " predict from base model :  [0.99998087] \n",
      " predict label :  [1.]\n",
      "favorite 3.3393843\n",
      "fun 2.948564\n",
      "great 2.5259075\n",
      "wonderful 2.8062205\n",
      "\n",
      "set just before the second world war, this is a touching and understated romantic story that is loosely based on a real event.it concern a german rocket scientist gerhart zucher (ulrich thomsen) working in britain in the advent of the second world war. fearing hitler may recall him to germany to assist him preparing for war, zucher and his slippery assistant heinz (eddie marsan) are evacuated by the british authority to a remote scottish island. they are given the task of building a rocket post box that will enable the islander to communicate with the mainland.mocked and bullied by the islander, they set up home with local girl catherine mackay (the stunning shauna macdonald), with whom thomsen begins an affair but complication arise when germany comes calling...the central romance between zucher and catherine is subtle and sincerely played and the supporting cast is a colourful bunch with an array of respected scottish character actor including gary lewis and clive russell.fine cinematography and a illiant central theme song sung in the local dialect round out this movie.intelligent but undemanding, it is good for a quiet evening in. \n",
      "\n",
      " actual label :  1 \n",
      " predict from base model :  [0.99999523] \n",
      " predict label :  [0.98618156]\n",
      "subtle 3.070125\n"
     ]
    }
   ],
   "source": [
    "report()"
   ]
  },
  {
   "cell_type": "code",
   "execution_count": 14,
   "metadata": {},
   "outputs": [
    {
     "name": "stdout",
     "output_type": "stream",
     "text": [
      "25000/25000 [==============================] - 2s 88us/step\n"
     ]
    }
   ],
   "source": [
    "score = combined_model.evaluate([X_test, y_test_agreement], y_test_original)"
   ]
  },
  {
   "cell_type": "code",
   "execution_count": 15,
   "metadata": {},
   "outputs": [
    {
     "data": {
      "text/plain": [
       "[0.16272140228033066, 0.78232]"
      ]
     },
     "execution_count": 15,
     "metadata": {},
     "output_type": "execute_result"
    }
   ],
   "source": [
    "score"
   ]
  },
  {
   "cell_type": "code",
   "execution_count": null,
   "metadata": {},
   "outputs": [],
   "source": []
  },
  {
   "cell_type": "markdown",
   "metadata": {},
   "source": [
    "### Let's see the weight when the trainable is false"
   ]
  },
  {
   "cell_type": "code",
   "execution_count": 36,
   "metadata": {},
   "outputs": [],
   "source": [
    "def build_combined_model():\n",
    "    # build the combined model\n",
    "    # Combined model\n",
    "    human_terms_len = len(word_list)\n",
    "\n",
    "    base_model = build_base_model(X_train.shape[1])\n",
    "\n",
    "    combined_input_layer = Input(shape=(X_train.shape[1],))\n",
    "\n",
    "    # build the hard coded weight for human terms\n",
    "    ht_input_layer = Input(shape=(human_terms_len,))\n",
    "\n",
    "    split = Lambda( lambda x: tf.split(x,num_or_size_splits=human_terms_len,axis=1))(ht_input_layer)\n",
    "\n",
    "    # get the document prediction\n",
    "    label_layer = base_model(combined_input_layer)\n",
    "\n",
    "    # stack the multiply layer\n",
    "    dense_layer = []\n",
    "    for i in range(human_terms_len):\n",
    "        dense_layer.append(Dense(1, activation='relu',use_bias=False, kernel_initializer='ones', trainable=True)(Multiply()([split[i], label_layer])))\n",
    "\n",
    "    # concat all the result   \n",
    "    concat = Lambda( lambda x: tf.concat(x, axis=1), name='concatenate')(dense_layer)\n",
    "\n",
    "    # pass it to sigmoid layer\n",
    "    output_layer = Dense(1, activation='sigmoid')(concat)\n",
    "\n",
    "    combined_model = Model(inputs=[combined_input_layer, ht_input_layer], outputs=output_layer)\n",
    "    combined_model.summary()\n",
    "    \n",
    "    return base_model, combined_model"
   ]
  },
  {
   "cell_type": "code",
   "execution_count": 37,
   "metadata": {},
   "outputs": [
    {
     "name": "stdout",
     "output_type": "stream",
     "text": [
      "_________________________________________________________________\n",
      "Layer (type)                 Output Shape              Param #   \n",
      "=================================================================\n",
      "input_4 (InputLayer)         (None, 3641)              0         \n",
      "_________________________________________________________________\n",
      "tanh_output (Dense)          (None, 1)                 3642      \n",
      "=================================================================\n",
      "Total params: 3,642\n",
      "Trainable params: 3,642\n",
      "Non-trainable params: 0\n",
      "_________________________________________________________________\n",
      "__________________________________________________________________________________________________\n",
      "Layer (type)                    Output Shape         Param #     Connected to                     \n",
      "==================================================================================================\n",
      "input_6 (InputLayer)            (None, 83)           0                                            \n",
      "__________________________________________________________________________________________________\n",
      "input_5 (InputLayer)            (None, 3641)         0                                            \n",
      "__________________________________________________________________________________________________\n",
      "lambda_2 (Lambda)               [(None, 1), (None, 1 0           input_6[0][0]                    \n",
      "__________________________________________________________________________________________________\n",
      "model_7 (Model)                 (None, 1)            3642        input_5[0][0]                    \n",
      "__________________________________________________________________________________________________\n",
      "multiply_84 (Multiply)          (None, 1)            0           lambda_2[0][0]                   \n",
      "                                                                 model_7[1][0]                    \n",
      "__________________________________________________________________________________________________\n",
      "multiply_85 (Multiply)          (None, 1)            0           lambda_2[0][1]                   \n",
      "                                                                 model_7[1][0]                    \n",
      "__________________________________________________________________________________________________\n",
      "multiply_86 (Multiply)          (None, 1)            0           lambda_2[0][2]                   \n",
      "                                                                 model_7[1][0]                    \n",
      "__________________________________________________________________________________________________\n",
      "multiply_87 (Multiply)          (None, 1)            0           lambda_2[0][3]                   \n",
      "                                                                 model_7[1][0]                    \n",
      "__________________________________________________________________________________________________\n",
      "multiply_88 (Multiply)          (None, 1)            0           lambda_2[0][4]                   \n",
      "                                                                 model_7[1][0]                    \n",
      "__________________________________________________________________________________________________\n",
      "multiply_89 (Multiply)          (None, 1)            0           lambda_2[0][5]                   \n",
      "                                                                 model_7[1][0]                    \n",
      "__________________________________________________________________________________________________\n",
      "multiply_90 (Multiply)          (None, 1)            0           lambda_2[0][6]                   \n",
      "                                                                 model_7[1][0]                    \n",
      "__________________________________________________________________________________________________\n",
      "multiply_91 (Multiply)          (None, 1)            0           lambda_2[0][7]                   \n",
      "                                                                 model_7[1][0]                    \n",
      "__________________________________________________________________________________________________\n",
      "multiply_92 (Multiply)          (None, 1)            0           lambda_2[0][8]                   \n",
      "                                                                 model_7[1][0]                    \n",
      "__________________________________________________________________________________________________\n",
      "multiply_93 (Multiply)          (None, 1)            0           lambda_2[0][9]                   \n",
      "                                                                 model_7[1][0]                    \n",
      "__________________________________________________________________________________________________\n",
      "multiply_94 (Multiply)          (None, 1)            0           lambda_2[0][10]                  \n",
      "                                                                 model_7[1][0]                    \n",
      "__________________________________________________________________________________________________\n",
      "multiply_95 (Multiply)          (None, 1)            0           lambda_2[0][11]                  \n",
      "                                                                 model_7[1][0]                    \n",
      "__________________________________________________________________________________________________\n",
      "multiply_96 (Multiply)          (None, 1)            0           lambda_2[0][12]                  \n",
      "                                                                 model_7[1][0]                    \n",
      "__________________________________________________________________________________________________\n",
      "multiply_97 (Multiply)          (None, 1)            0           lambda_2[0][13]                  \n",
      "                                                                 model_7[1][0]                    \n",
      "__________________________________________________________________________________________________\n",
      "multiply_98 (Multiply)          (None, 1)            0           lambda_2[0][14]                  \n",
      "                                                                 model_7[1][0]                    \n",
      "__________________________________________________________________________________________________\n",
      "multiply_99 (Multiply)          (None, 1)            0           lambda_2[0][15]                  \n",
      "                                                                 model_7[1][0]                    \n",
      "__________________________________________________________________________________________________\n",
      "multiply_100 (Multiply)         (None, 1)            0           lambda_2[0][16]                  \n",
      "                                                                 model_7[1][0]                    \n",
      "__________________________________________________________________________________________________\n",
      "multiply_101 (Multiply)         (None, 1)            0           lambda_2[0][17]                  \n",
      "                                                                 model_7[1][0]                    \n",
      "__________________________________________________________________________________________________\n",
      "multiply_102 (Multiply)         (None, 1)            0           lambda_2[0][18]                  \n",
      "                                                                 model_7[1][0]                    \n",
      "__________________________________________________________________________________________________\n",
      "multiply_103 (Multiply)         (None, 1)            0           lambda_2[0][19]                  \n",
      "                                                                 model_7[1][0]                    \n",
      "__________________________________________________________________________________________________\n",
      "multiply_104 (Multiply)         (None, 1)            0           lambda_2[0][20]                  \n",
      "                                                                 model_7[1][0]                    \n",
      "__________________________________________________________________________________________________\n",
      "multiply_105 (Multiply)         (None, 1)            0           lambda_2[0][21]                  \n",
      "                                                                 model_7[1][0]                    \n",
      "__________________________________________________________________________________________________\n",
      "multiply_106 (Multiply)         (None, 1)            0           lambda_2[0][22]                  \n",
      "                                                                 model_7[1][0]                    \n",
      "__________________________________________________________________________________________________\n",
      "multiply_107 (Multiply)         (None, 1)            0           lambda_2[0][23]                  \n",
      "                                                                 model_7[1][0]                    \n",
      "__________________________________________________________________________________________________\n",
      "multiply_108 (Multiply)         (None, 1)            0           lambda_2[0][24]                  \n",
      "                                                                 model_7[1][0]                    \n",
      "__________________________________________________________________________________________________\n",
      "multiply_109 (Multiply)         (None, 1)            0           lambda_2[0][25]                  \n",
      "                                                                 model_7[1][0]                    \n",
      "__________________________________________________________________________________________________\n",
      "multiply_110 (Multiply)         (None, 1)            0           lambda_2[0][26]                  \n",
      "                                                                 model_7[1][0]                    \n",
      "__________________________________________________________________________________________________\n",
      "multiply_111 (Multiply)         (None, 1)            0           lambda_2[0][27]                  \n",
      "                                                                 model_7[1][0]                    \n",
      "__________________________________________________________________________________________________\n",
      "multiply_112 (Multiply)         (None, 1)            0           lambda_2[0][28]                  \n",
      "                                                                 model_7[1][0]                    \n",
      "__________________________________________________________________________________________________\n",
      "multiply_113 (Multiply)         (None, 1)            0           lambda_2[0][29]                  \n",
      "                                                                 model_7[1][0]                    \n",
      "__________________________________________________________________________________________________\n",
      "multiply_114 (Multiply)         (None, 1)            0           lambda_2[0][30]                  \n",
      "                                                                 model_7[1][0]                    \n",
      "__________________________________________________________________________________________________\n",
      "multiply_115 (Multiply)         (None, 1)            0           lambda_2[0][31]                  \n",
      "                                                                 model_7[1][0]                    \n",
      "__________________________________________________________________________________________________\n",
      "multiply_116 (Multiply)         (None, 1)            0           lambda_2[0][32]                  \n",
      "                                                                 model_7[1][0]                    \n",
      "__________________________________________________________________________________________________\n",
      "multiply_117 (Multiply)         (None, 1)            0           lambda_2[0][33]                  \n",
      "                                                                 model_7[1][0]                    \n",
      "__________________________________________________________________________________________________\n",
      "multiply_118 (Multiply)         (None, 1)            0           lambda_2[0][34]                  \n",
      "                                                                 model_7[1][0]                    \n",
      "__________________________________________________________________________________________________\n",
      "multiply_119 (Multiply)         (None, 1)            0           lambda_2[0][35]                  \n",
      "                                                                 model_7[1][0]                    \n",
      "__________________________________________________________________________________________________\n",
      "multiply_120 (Multiply)         (None, 1)            0           lambda_2[0][36]                  \n",
      "                                                                 model_7[1][0]                    \n",
      "__________________________________________________________________________________________________\n",
      "multiply_121 (Multiply)         (None, 1)            0           lambda_2[0][37]                  \n",
      "                                                                 model_7[1][0]                    \n",
      "__________________________________________________________________________________________________\n",
      "multiply_122 (Multiply)         (None, 1)            0           lambda_2[0][38]                  \n",
      "                                                                 model_7[1][0]                    \n",
      "__________________________________________________________________________________________________\n",
      "multiply_123 (Multiply)         (None, 1)            0           lambda_2[0][39]                  \n",
      "                                                                 model_7[1][0]                    \n",
      "__________________________________________________________________________________________________\n",
      "multiply_124 (Multiply)         (None, 1)            0           lambda_2[0][40]                  \n",
      "                                                                 model_7[1][0]                    \n",
      "__________________________________________________________________________________________________\n",
      "multiply_125 (Multiply)         (None, 1)            0           lambda_2[0][41]                  \n",
      "                                                                 model_7[1][0]                    \n",
      "__________________________________________________________________________________________________\n",
      "multiply_126 (Multiply)         (None, 1)            0           lambda_2[0][42]                  \n",
      "                                                                 model_7[1][0]                    \n",
      "__________________________________________________________________________________________________\n",
      "multiply_127 (Multiply)         (None, 1)            0           lambda_2[0][43]                  \n",
      "                                                                 model_7[1][0]                    \n",
      "__________________________________________________________________________________________________\n",
      "multiply_128 (Multiply)         (None, 1)            0           lambda_2[0][44]                  \n",
      "                                                                 model_7[1][0]                    \n",
      "__________________________________________________________________________________________________\n",
      "multiply_129 (Multiply)         (None, 1)            0           lambda_2[0][45]                  \n",
      "                                                                 model_7[1][0]                    \n",
      "__________________________________________________________________________________________________\n",
      "multiply_130 (Multiply)         (None, 1)            0           lambda_2[0][46]                  \n",
      "                                                                 model_7[1][0]                    \n",
      "__________________________________________________________________________________________________\n",
      "multiply_131 (Multiply)         (None, 1)            0           lambda_2[0][47]                  \n",
      "                                                                 model_7[1][0]                    \n",
      "__________________________________________________________________________________________________\n",
      "multiply_132 (Multiply)         (None, 1)            0           lambda_2[0][48]                  \n",
      "                                                                 model_7[1][0]                    \n",
      "__________________________________________________________________________________________________\n",
      "multiply_133 (Multiply)         (None, 1)            0           lambda_2[0][49]                  \n",
      "                                                                 model_7[1][0]                    \n",
      "__________________________________________________________________________________________________\n",
      "multiply_134 (Multiply)         (None, 1)            0           lambda_2[0][50]                  \n",
      "                                                                 model_7[1][0]                    \n",
      "__________________________________________________________________________________________________\n",
      "multiply_135 (Multiply)         (None, 1)            0           lambda_2[0][51]                  \n",
      "                                                                 model_7[1][0]                    \n",
      "__________________________________________________________________________________________________\n",
      "multiply_136 (Multiply)         (None, 1)            0           lambda_2[0][52]                  \n",
      "                                                                 model_7[1][0]                    \n",
      "__________________________________________________________________________________________________\n",
      "multiply_137 (Multiply)         (None, 1)            0           lambda_2[0][53]                  \n",
      "                                                                 model_7[1][0]                    \n",
      "__________________________________________________________________________________________________\n",
      "multiply_138 (Multiply)         (None, 1)            0           lambda_2[0][54]                  \n",
      "                                                                 model_7[1][0]                    \n",
      "__________________________________________________________________________________________________\n",
      "multiply_139 (Multiply)         (None, 1)            0           lambda_2[0][55]                  \n",
      "                                                                 model_7[1][0]                    \n",
      "__________________________________________________________________________________________________\n",
      "multiply_140 (Multiply)         (None, 1)            0           lambda_2[0][56]                  \n",
      "                                                                 model_7[1][0]                    \n",
      "__________________________________________________________________________________________________\n",
      "multiply_141 (Multiply)         (None, 1)            0           lambda_2[0][57]                  \n",
      "                                                                 model_7[1][0]                    \n",
      "__________________________________________________________________________________________________\n",
      "multiply_142 (Multiply)         (None, 1)            0           lambda_2[0][58]                  \n",
      "                                                                 model_7[1][0]                    \n",
      "__________________________________________________________________________________________________\n",
      "multiply_143 (Multiply)         (None, 1)            0           lambda_2[0][59]                  \n",
      "                                                                 model_7[1][0]                    \n",
      "__________________________________________________________________________________________________\n",
      "multiply_144 (Multiply)         (None, 1)            0           lambda_2[0][60]                  \n",
      "                                                                 model_7[1][0]                    \n",
      "__________________________________________________________________________________________________\n",
      "multiply_145 (Multiply)         (None, 1)            0           lambda_2[0][61]                  \n",
      "                                                                 model_7[1][0]                    \n",
      "__________________________________________________________________________________________________\n",
      "multiply_146 (Multiply)         (None, 1)            0           lambda_2[0][62]                  \n",
      "                                                                 model_7[1][0]                    \n",
      "__________________________________________________________________________________________________\n",
      "multiply_147 (Multiply)         (None, 1)            0           lambda_2[0][63]                  \n",
      "                                                                 model_7[1][0]                    \n",
      "__________________________________________________________________________________________________\n",
      "multiply_148 (Multiply)         (None, 1)            0           lambda_2[0][64]                  \n",
      "                                                                 model_7[1][0]                    \n",
      "__________________________________________________________________________________________________\n",
      "multiply_149 (Multiply)         (None, 1)            0           lambda_2[0][65]                  \n",
      "                                                                 model_7[1][0]                    \n",
      "__________________________________________________________________________________________________\n",
      "multiply_150 (Multiply)         (None, 1)            0           lambda_2[0][66]                  \n",
      "                                                                 model_7[1][0]                    \n",
      "__________________________________________________________________________________________________\n",
      "multiply_151 (Multiply)         (None, 1)            0           lambda_2[0][67]                  \n",
      "                                                                 model_7[1][0]                    \n",
      "__________________________________________________________________________________________________\n",
      "multiply_152 (Multiply)         (None, 1)            0           lambda_2[0][68]                  \n",
      "                                                                 model_7[1][0]                    \n",
      "__________________________________________________________________________________________________\n",
      "multiply_153 (Multiply)         (None, 1)            0           lambda_2[0][69]                  \n",
      "                                                                 model_7[1][0]                    \n",
      "__________________________________________________________________________________________________\n",
      "multiply_154 (Multiply)         (None, 1)            0           lambda_2[0][70]                  \n",
      "                                                                 model_7[1][0]                    \n",
      "__________________________________________________________________________________________________\n",
      "multiply_155 (Multiply)         (None, 1)            0           lambda_2[0][71]                  \n",
      "                                                                 model_7[1][0]                    \n",
      "__________________________________________________________________________________________________\n",
      "multiply_156 (Multiply)         (None, 1)            0           lambda_2[0][72]                  \n",
      "                                                                 model_7[1][0]                    \n",
      "__________________________________________________________________________________________________\n",
      "multiply_157 (Multiply)         (None, 1)            0           lambda_2[0][73]                  \n",
      "                                                                 model_7[1][0]                    \n",
      "__________________________________________________________________________________________________\n",
      "multiply_158 (Multiply)         (None, 1)            0           lambda_2[0][74]                  \n",
      "                                                                 model_7[1][0]                    \n",
      "__________________________________________________________________________________________________\n",
      "multiply_159 (Multiply)         (None, 1)            0           lambda_2[0][75]                  \n",
      "                                                                 model_7[1][0]                    \n",
      "__________________________________________________________________________________________________\n",
      "multiply_160 (Multiply)         (None, 1)            0           lambda_2[0][76]                  \n",
      "                                                                 model_7[1][0]                    \n",
      "__________________________________________________________________________________________________\n",
      "multiply_161 (Multiply)         (None, 1)            0           lambda_2[0][77]                  \n",
      "                                                                 model_7[1][0]                    \n",
      "__________________________________________________________________________________________________\n",
      "multiply_162 (Multiply)         (None, 1)            0           lambda_2[0][78]                  \n",
      "                                                                 model_7[1][0]                    \n",
      "__________________________________________________________________________________________________\n",
      "multiply_163 (Multiply)         (None, 1)            0           lambda_2[0][79]                  \n",
      "                                                                 model_7[1][0]                    \n",
      "__________________________________________________________________________________________________\n",
      "multiply_164 (Multiply)         (None, 1)            0           lambda_2[0][80]                  \n",
      "                                                                 model_7[1][0]                    \n",
      "__________________________________________________________________________________________________\n",
      "multiply_165 (Multiply)         (None, 1)            0           lambda_2[0][81]                  \n",
      "                                                                 model_7[1][0]                    \n",
      "__________________________________________________________________________________________________\n",
      "multiply_166 (Multiply)         (None, 1)            0           lambda_2[0][82]                  \n",
      "                                                                 model_7[1][0]                    \n",
      "__________________________________________________________________________________________________\n",
      "dense_85 (Dense)                (None, 1)            1           multiply_84[0][0]                \n",
      "__________________________________________________________________________________________________\n",
      "dense_86 (Dense)                (None, 1)            1           multiply_85[0][0]                \n",
      "__________________________________________________________________________________________________\n",
      "dense_87 (Dense)                (None, 1)            1           multiply_86[0][0]                \n",
      "__________________________________________________________________________________________________\n",
      "dense_88 (Dense)                (None, 1)            1           multiply_87[0][0]                \n",
      "__________________________________________________________________________________________________\n",
      "dense_89 (Dense)                (None, 1)            1           multiply_88[0][0]                \n",
      "__________________________________________________________________________________________________\n",
      "dense_90 (Dense)                (None, 1)            1           multiply_89[0][0]                \n",
      "__________________________________________________________________________________________________\n",
      "dense_91 (Dense)                (None, 1)            1           multiply_90[0][0]                \n",
      "__________________________________________________________________________________________________\n",
      "dense_92 (Dense)                (None, 1)            1           multiply_91[0][0]                \n",
      "__________________________________________________________________________________________________\n",
      "dense_93 (Dense)                (None, 1)            1           multiply_92[0][0]                \n",
      "__________________________________________________________________________________________________\n",
      "dense_94 (Dense)                (None, 1)            1           multiply_93[0][0]                \n",
      "__________________________________________________________________________________________________\n",
      "dense_95 (Dense)                (None, 1)            1           multiply_94[0][0]                \n",
      "__________________________________________________________________________________________________\n",
      "dense_96 (Dense)                (None, 1)            1           multiply_95[0][0]                \n",
      "__________________________________________________________________________________________________\n",
      "dense_97 (Dense)                (None, 1)            1           multiply_96[0][0]                \n",
      "__________________________________________________________________________________________________\n",
      "dense_98 (Dense)                (None, 1)            1           multiply_97[0][0]                \n",
      "__________________________________________________________________________________________________\n",
      "dense_99 (Dense)                (None, 1)            1           multiply_98[0][0]                \n",
      "__________________________________________________________________________________________________\n",
      "dense_100 (Dense)               (None, 1)            1           multiply_99[0][0]                \n",
      "__________________________________________________________________________________________________\n",
      "dense_101 (Dense)               (None, 1)            1           multiply_100[0][0]               \n",
      "__________________________________________________________________________________________________\n",
      "dense_102 (Dense)               (None, 1)            1           multiply_101[0][0]               \n",
      "__________________________________________________________________________________________________\n",
      "dense_103 (Dense)               (None, 1)            1           multiply_102[0][0]               \n",
      "__________________________________________________________________________________________________\n",
      "dense_104 (Dense)               (None, 1)            1           multiply_103[0][0]               \n",
      "__________________________________________________________________________________________________\n",
      "dense_105 (Dense)               (None, 1)            1           multiply_104[0][0]               \n",
      "__________________________________________________________________________________________________\n",
      "dense_106 (Dense)               (None, 1)            1           multiply_105[0][0]               \n",
      "__________________________________________________________________________________________________\n",
      "dense_107 (Dense)               (None, 1)            1           multiply_106[0][0]               \n",
      "__________________________________________________________________________________________________\n",
      "dense_108 (Dense)               (None, 1)            1           multiply_107[0][0]               \n",
      "__________________________________________________________________________________________________\n",
      "dense_109 (Dense)               (None, 1)            1           multiply_108[0][0]               \n",
      "__________________________________________________________________________________________________\n",
      "dense_110 (Dense)               (None, 1)            1           multiply_109[0][0]               \n",
      "__________________________________________________________________________________________________\n",
      "dense_111 (Dense)               (None, 1)            1           multiply_110[0][0]               \n",
      "__________________________________________________________________________________________________\n",
      "dense_112 (Dense)               (None, 1)            1           multiply_111[0][0]               \n",
      "__________________________________________________________________________________________________\n",
      "dense_113 (Dense)               (None, 1)            1           multiply_112[0][0]               \n",
      "__________________________________________________________________________________________________\n",
      "dense_114 (Dense)               (None, 1)            1           multiply_113[0][0]               \n",
      "__________________________________________________________________________________________________\n",
      "dense_115 (Dense)               (None, 1)            1           multiply_114[0][0]               \n",
      "__________________________________________________________________________________________________\n",
      "dense_116 (Dense)               (None, 1)            1           multiply_115[0][0]               \n",
      "__________________________________________________________________________________________________\n",
      "dense_117 (Dense)               (None, 1)            1           multiply_116[0][0]               \n",
      "__________________________________________________________________________________________________\n",
      "dense_118 (Dense)               (None, 1)            1           multiply_117[0][0]               \n",
      "__________________________________________________________________________________________________\n",
      "dense_119 (Dense)               (None, 1)            1           multiply_118[0][0]               \n",
      "__________________________________________________________________________________________________\n",
      "dense_120 (Dense)               (None, 1)            1           multiply_119[0][0]               \n",
      "__________________________________________________________________________________________________\n",
      "dense_121 (Dense)               (None, 1)            1           multiply_120[0][0]               \n",
      "__________________________________________________________________________________________________\n",
      "dense_122 (Dense)               (None, 1)            1           multiply_121[0][0]               \n",
      "__________________________________________________________________________________________________\n",
      "dense_123 (Dense)               (None, 1)            1           multiply_122[0][0]               \n",
      "__________________________________________________________________________________________________\n",
      "dense_124 (Dense)               (None, 1)            1           multiply_123[0][0]               \n",
      "__________________________________________________________________________________________________\n",
      "dense_125 (Dense)               (None, 1)            1           multiply_124[0][0]               \n",
      "__________________________________________________________________________________________________\n",
      "dense_126 (Dense)               (None, 1)            1           multiply_125[0][0]               \n",
      "__________________________________________________________________________________________________\n",
      "dense_127 (Dense)               (None, 1)            1           multiply_126[0][0]               \n",
      "__________________________________________________________________________________________________\n",
      "dense_128 (Dense)               (None, 1)            1           multiply_127[0][0]               \n",
      "__________________________________________________________________________________________________\n",
      "dense_129 (Dense)               (None, 1)            1           multiply_128[0][0]               \n",
      "__________________________________________________________________________________________________\n",
      "dense_130 (Dense)               (None, 1)            1           multiply_129[0][0]               \n",
      "__________________________________________________________________________________________________\n",
      "dense_131 (Dense)               (None, 1)            1           multiply_130[0][0]               \n",
      "__________________________________________________________________________________________________\n",
      "dense_132 (Dense)               (None, 1)            1           multiply_131[0][0]               \n",
      "__________________________________________________________________________________________________\n",
      "dense_133 (Dense)               (None, 1)            1           multiply_132[0][0]               \n",
      "__________________________________________________________________________________________________\n",
      "dense_134 (Dense)               (None, 1)            1           multiply_133[0][0]               \n",
      "__________________________________________________________________________________________________\n",
      "dense_135 (Dense)               (None, 1)            1           multiply_134[0][0]               \n",
      "__________________________________________________________________________________________________\n",
      "dense_136 (Dense)               (None, 1)            1           multiply_135[0][0]               \n",
      "__________________________________________________________________________________________________\n",
      "dense_137 (Dense)               (None, 1)            1           multiply_136[0][0]               \n",
      "__________________________________________________________________________________________________\n",
      "dense_138 (Dense)               (None, 1)            1           multiply_137[0][0]               \n",
      "__________________________________________________________________________________________________\n",
      "dense_139 (Dense)               (None, 1)            1           multiply_138[0][0]               \n",
      "__________________________________________________________________________________________________\n",
      "dense_140 (Dense)               (None, 1)            1           multiply_139[0][0]               \n",
      "__________________________________________________________________________________________________\n",
      "dense_141 (Dense)               (None, 1)            1           multiply_140[0][0]               \n",
      "__________________________________________________________________________________________________\n",
      "dense_142 (Dense)               (None, 1)            1           multiply_141[0][0]               \n",
      "__________________________________________________________________________________________________\n",
      "dense_143 (Dense)               (None, 1)            1           multiply_142[0][0]               \n",
      "__________________________________________________________________________________________________\n",
      "dense_144 (Dense)               (None, 1)            1           multiply_143[0][0]               \n",
      "__________________________________________________________________________________________________\n",
      "dense_145 (Dense)               (None, 1)            1           multiply_144[0][0]               \n",
      "__________________________________________________________________________________________________\n",
      "dense_146 (Dense)               (None, 1)            1           multiply_145[0][0]               \n",
      "__________________________________________________________________________________________________\n",
      "dense_147 (Dense)               (None, 1)            1           multiply_146[0][0]               \n",
      "__________________________________________________________________________________________________\n",
      "dense_148 (Dense)               (None, 1)            1           multiply_147[0][0]               \n",
      "__________________________________________________________________________________________________\n",
      "dense_149 (Dense)               (None, 1)            1           multiply_148[0][0]               \n",
      "__________________________________________________________________________________________________\n",
      "dense_150 (Dense)               (None, 1)            1           multiply_149[0][0]               \n",
      "__________________________________________________________________________________________________\n",
      "dense_151 (Dense)               (None, 1)            1           multiply_150[0][0]               \n",
      "__________________________________________________________________________________________________\n",
      "dense_152 (Dense)               (None, 1)            1           multiply_151[0][0]               \n",
      "__________________________________________________________________________________________________\n",
      "dense_153 (Dense)               (None, 1)            1           multiply_152[0][0]               \n",
      "__________________________________________________________________________________________________\n",
      "dense_154 (Dense)               (None, 1)            1           multiply_153[0][0]               \n",
      "__________________________________________________________________________________________________\n",
      "dense_155 (Dense)               (None, 1)            1           multiply_154[0][0]               \n",
      "__________________________________________________________________________________________________\n",
      "dense_156 (Dense)               (None, 1)            1           multiply_155[0][0]               \n",
      "__________________________________________________________________________________________________\n",
      "dense_157 (Dense)               (None, 1)            1           multiply_156[0][0]               \n",
      "__________________________________________________________________________________________________\n",
      "dense_158 (Dense)               (None, 1)            1           multiply_157[0][0]               \n",
      "__________________________________________________________________________________________________\n",
      "dense_159 (Dense)               (None, 1)            1           multiply_158[0][0]               \n",
      "__________________________________________________________________________________________________\n",
      "dense_160 (Dense)               (None, 1)            1           multiply_159[0][0]               \n",
      "__________________________________________________________________________________________________\n",
      "dense_161 (Dense)               (None, 1)            1           multiply_160[0][0]               \n",
      "__________________________________________________________________________________________________\n",
      "dense_162 (Dense)               (None, 1)            1           multiply_161[0][0]               \n",
      "__________________________________________________________________________________________________\n",
      "dense_163 (Dense)               (None, 1)            1           multiply_162[0][0]               \n",
      "__________________________________________________________________________________________________\n",
      "dense_164 (Dense)               (None, 1)            1           multiply_163[0][0]               \n",
      "__________________________________________________________________________________________________\n",
      "dense_165 (Dense)               (None, 1)            1           multiply_164[0][0]               \n",
      "__________________________________________________________________________________________________\n",
      "dense_166 (Dense)               (None, 1)            1           multiply_165[0][0]               \n",
      "__________________________________________________________________________________________________\n",
      "dense_167 (Dense)               (None, 1)            1           multiply_166[0][0]               \n",
      "__________________________________________________________________________________________________\n",
      "concatenate (Lambda)            (None, 83)           0           dense_85[0][0]                   \n",
      "                                                                 dense_86[0][0]                   \n",
      "                                                                 dense_87[0][0]                   \n",
      "                                                                 dense_88[0][0]                   \n",
      "                                                                 dense_89[0][0]                   \n",
      "                                                                 dense_90[0][0]                   \n",
      "                                                                 dense_91[0][0]                   \n",
      "                                                                 dense_92[0][0]                   \n",
      "                                                                 dense_93[0][0]                   \n",
      "                                                                 dense_94[0][0]                   \n",
      "                                                                 dense_95[0][0]                   \n",
      "                                                                 dense_96[0][0]                   \n",
      "                                                                 dense_97[0][0]                   \n",
      "                                                                 dense_98[0][0]                   \n",
      "                                                                 dense_99[0][0]                   \n",
      "                                                                 dense_100[0][0]                  \n",
      "                                                                 dense_101[0][0]                  \n",
      "                                                                 dense_102[0][0]                  \n",
      "                                                                 dense_103[0][0]                  \n",
      "                                                                 dense_104[0][0]                  \n",
      "                                                                 dense_105[0][0]                  \n",
      "                                                                 dense_106[0][0]                  \n",
      "                                                                 dense_107[0][0]                  \n",
      "                                                                 dense_108[0][0]                  \n",
      "                                                                 dense_109[0][0]                  \n",
      "                                                                 dense_110[0][0]                  \n",
      "                                                                 dense_111[0][0]                  \n",
      "                                                                 dense_112[0][0]                  \n",
      "                                                                 dense_113[0][0]                  \n",
      "                                                                 dense_114[0][0]                  \n",
      "                                                                 dense_115[0][0]                  \n",
      "                                                                 dense_116[0][0]                  \n",
      "                                                                 dense_117[0][0]                  \n",
      "                                                                 dense_118[0][0]                  \n",
      "                                                                 dense_119[0][0]                  \n",
      "                                                                 dense_120[0][0]                  \n",
      "                                                                 dense_121[0][0]                  \n",
      "                                                                 dense_122[0][0]                  \n",
      "                                                                 dense_123[0][0]                  \n",
      "                                                                 dense_124[0][0]                  \n",
      "                                                                 dense_125[0][0]                  \n",
      "                                                                 dense_126[0][0]                  \n",
      "                                                                 dense_127[0][0]                  \n",
      "                                                                 dense_128[0][0]                  \n",
      "                                                                 dense_129[0][0]                  \n",
      "                                                                 dense_130[0][0]                  \n",
      "                                                                 dense_131[0][0]                  \n",
      "                                                                 dense_132[0][0]                  \n",
      "                                                                 dense_133[0][0]                  \n",
      "                                                                 dense_134[0][0]                  \n",
      "                                                                 dense_135[0][0]                  \n",
      "                                                                 dense_136[0][0]                  \n",
      "                                                                 dense_137[0][0]                  \n",
      "                                                                 dense_138[0][0]                  \n",
      "                                                                 dense_139[0][0]                  \n",
      "                                                                 dense_140[0][0]                  \n",
      "                                                                 dense_141[0][0]                  \n",
      "                                                                 dense_142[0][0]                  \n",
      "                                                                 dense_143[0][0]                  \n",
      "                                                                 dense_144[0][0]                  \n",
      "                                                                 dense_145[0][0]                  \n",
      "                                                                 dense_146[0][0]                  \n",
      "                                                                 dense_147[0][0]                  \n",
      "                                                                 dense_148[0][0]                  \n",
      "                                                                 dense_149[0][0]                  \n",
      "                                                                 dense_150[0][0]                  \n",
      "                                                                 dense_151[0][0]                  \n",
      "                                                                 dense_152[0][0]                  \n",
      "                                                                 dense_153[0][0]                  \n",
      "                                                                 dense_154[0][0]                  \n",
      "                                                                 dense_155[0][0]                  \n",
      "                                                                 dense_156[0][0]                  \n",
      "                                                                 dense_157[0][0]                  \n",
      "                                                                 dense_158[0][0]                  \n",
      "                                                                 dense_159[0][0]                  \n",
      "                                                                 dense_160[0][0]                  \n",
      "                                                                 dense_161[0][0]                  \n",
      "                                                                 dense_162[0][0]                  \n",
      "                                                                 dense_163[0][0]                  \n",
      "                                                                 dense_164[0][0]                  \n",
      "                                                                 dense_165[0][0]                  \n",
      "                                                                 dense_166[0][0]                  \n",
      "                                                                 dense_167[0][0]                  \n",
      "__________________________________________________________________________________________________\n",
      "dense_168 (Dense)               (None, 1)            84          concatenate[0][0]                \n",
      "==================================================================================================\n",
      "Total params: 3,809\n",
      "Trainable params: 3,809\n",
      "Non-trainable params: 0\n",
      "__________________________________________________________________________________________________\n"
     ]
    }
   ],
   "source": [
    "# base_model, combined_model = build_combined_model()"
   ]
  },
  {
   "cell_type": "code",
   "execution_count": 38,
   "metadata": {},
   "outputs": [],
   "source": [
    "# base_model.compile(loss='mse',\n",
    "#                   optimizer='Adagrad',\n",
    "#                   metrics=['acc'])\n",
    "\n",
    "# combined_model.compile(loss='mse',\n",
    "#                       optimizer='Adagrad',\n",
    "#                       metrics=['acc'])\n",
    "\n",
    "# base_model_history_train_false = base_model.fit(X_train[:16667], y_train_tanh[:16667], \n",
    "#                                     validation_data=(X_train[16667:], y_train_tanh[16667:]),\n",
    "#                                     batch_size=1, epochs=50)\n",
    "\n",
    "# combined_model_history_train_false = combined_model.fit([X_train[:16667],y_train_agreement[:16667]], y_train_original[:16667], batch_size=1, epochs=50)"
   ]
  },
  {
   "cell_type": "code",
   "execution_count": 41,
   "metadata": {},
   "outputs": [],
   "source": [
    "# base_model_history_trainfalse = base_model_history\n",
    "# combined_model_history_trainfalse = combined_model_history"
   ]
  },
  {
   "cell_type": "code",
   "execution_count": 42,
   "metadata": {},
   "outputs": [],
   "source": [
    "net_weights = combined_model.get_weights()"
   ]
  },
  {
   "cell_type": "code",
   "execution_count": 43,
   "metadata": {},
   "outputs": [],
   "source": [
    "# Evaluate model"
   ]
  },
  {
   "cell_type": "markdown",
   "metadata": {},
   "source": [
    "### Generate color weighted"
   ]
  },
  {
   "cell_type": "code",
   "execution_count": 19,
   "metadata": {},
   "outputs": [],
   "source": [
    "import re\n",
    "\n",
    "class ColoredWeightedDoc(object):\n",
    "    def __init__(self, doc, human_terms, ht_weights, token_pattern=r\"(?u)\\b\\w\\w+\\b\", binary = False):\n",
    "        self.doc = doc\n",
    "        self.human_terms = human_terms\n",
    "        self.ht_weights = ht_weights\n",
    "        self.binary = binary\n",
    "        self.tokenizer = re.compile(token_pattern)\n",
    "#         self.abs_ranges = np.linspace(0, max([abs(coefs.min()), abs(coefs.max())]), 8)\n",
    "    def _repr_html_(self):\n",
    "        html_rep = \"\"\n",
    "        tokens = self.doc.split(\" \") \n",
    "        if self.binary:\n",
    "            seen_tokens = set()       \n",
    "        for token in tokens:\n",
    "            vocab_tokens = self.tokenizer.findall(token.lower())\n",
    "            if len(vocab_tokens) > 0:\n",
    "                vocab_token = vocab_tokens[0]\n",
    "                try:\n",
    "                    vocab_index = self.human_terms.index(vocab_token)\n",
    "                    \n",
    "                    if not self.binary or vocab_index not in seen_tokens:\n",
    "                        \n",
    "                        if self.ht_weights[vocab_index] == 0: # human-terms which has been washed out (opposing)\n",
    "                            html_rep = html_rep + \"<font size = 2, color=lightgreen> \" + token + \" </font>\"\n",
    "                        \n",
    "                        elif self.ht_weights[vocab_index] != 0: # human-terms transparency\n",
    "                            html_rep = html_rep + \"<font size = 3, color=blue> \" + token + \" </font>\"\n",
    "                        \n",
    "                        else: # neutral word\n",
    "                            html_rep = html_rep + \"<font size = 1, color=gainsboro> \" + token + \" </font>\"\n",
    "                        \n",
    "                        if self.binary:    \n",
    "                            seen_tokens.add(vocab_index)\n",
    "                    \n",
    "                    else: # if binary and this is a token we have seen before\n",
    "                        html_rep = html_rep + \"<font size = 1, color=gainsboro> \" + token + \" </font>\"\n",
    "                except: # this token does not exist in the vocabulary\n",
    "                    html_rep = html_rep + \"<font size = 1, color=gainsboro> \" + token + \" </font>\"\n",
    "            else:\n",
    "                html_rep = html_rep + \"<font size = 1, color=gainsboro> \" + token + \" </font>\"\n",
    "        return html_rep"
   ]
  },
  {
   "cell_type": "code",
   "execution_count": 20,
   "metadata": {},
   "outputs": [
    {
     "name": "stdout",
     "output_type": "stream",
     "text": [
      "actual label :  0 \n",
      "predict from base model :  [-1.] \n",
      "predict label :  [0.]\n",
      "\n",
      "awful 4.363293\n",
      "boring 3.6333165\n",
      "horrible 4.4387865\n",
      "pathetic 3.9187655\n",
      "ridiculous 3.9718459\n",
      "stupid 3.8435516\n",
      "waste 4.471544\n"
     ]
    },
    {
     "data": {
      "text/html": [
       "<font size = 1, color=gainsboro> this </font><font size = 1, color=gainsboro> movie </font><font size = 1, color=gainsboro> was </font><font size = 3, color=blue> awful, </font><font size = 1, color=gainsboro> plain </font><font size = 1, color=gainsboro> and </font><font size = 1, color=gainsboro> simple. </font><font size = 1, color=gainsboro> it </font><font size = 1, color=gainsboro> will </font><font size = 1, color=gainsboro> probably </font><font size = 1, color=gainsboro> be </font><font size = 1, color=gainsboro> revered </font><font size = 1, color=gainsboro> by </font><font size = 1, color=gainsboro> those </font><font size = 1, color=gainsboro> who </font><font size = 1, color=gainsboro> only </font><font size = 1, color=gainsboro> see </font><font size = 1, color=gainsboro> \"film\" </font><font size = 1, color=gainsboro> and </font><font size = 1, color=gainsboro> not </font><font size = 1, color=gainsboro> \"movie\" </font><font size = 1, color=gainsboro> and </font><font size = 1, color=gainsboro> will </font><font size = 1, color=gainsboro> therefore </font><font size = 1, color=gainsboro> feel </font><font size = 1, color=gainsboro> sorry </font><font size = 1, color=gainsboro> for </font><font size = 1, color=gainsboro> me </font><font size = 1, color=gainsboro> for </font><font size = 1, color=gainsboro> having </font><font size = 1, color=gainsboro> such </font><font size = 1, color=gainsboro> a </font><font size = 1, color=gainsboro> limited </font><font size = 1, color=gainsboro> understanding </font><font size = 1, color=gainsboro> of </font><font size = 1, color=gainsboro> the </font><font size = 1, color=gainsboro> theatrical </font><font size = 1, color=gainsboro> illiance </font><font size = 1, color=gainsboro> of </font><font size = 1, color=gainsboro> this </font><font size = 1, color=gainsboro> film, </font><font size = 1, color=gainsboro> but </font><font size = 1, color=gainsboro> i </font><font size = 1, color=gainsboro> am </font><font size = 1, color=gainsboro> secure </font><font size = 1, color=gainsboro> enough </font><font size = 1, color=gainsboro> in </font><font size = 1, color=gainsboro> my </font><font size = 1, color=gainsboro> intellect </font><font size = 1, color=gainsboro> to </font><font size = 1, color=gainsboro> say </font><font size = 1, color=gainsboro> that </font><font size = 1, color=gainsboro> this </font><font size = 3, color=blue> boring, </font><font size = 1, color=gainsboro> self-aggrandizing </font><font size = 1, color=gainsboro> and </font><font size = 1, color=gainsboro> painfully </font><font size = 1, color=gainsboro> drawn-out </font><font size = 1, color=gainsboro> movie </font><font size = 1, color=gainsboro> was </font><font size = 1, color=gainsboro> a </font><font size = 3, color=blue> waste </font><font size = 1, color=gainsboro> of </font><font size = 1, color=gainsboro> two </font><font size = 1, color=gainsboro> hour </font><font size = 1, color=gainsboro> and </font><font size = 1, color=gainsboro> nine </font><font size = 1, color=gainsboro> dollar.i </font><font size = 1, color=gainsboro> was </font><font size = 1, color=gainsboro> suckered </font><font size = 1, color=gainsboro> into </font><font size = 1, color=gainsboro> seeing </font><font size = 1, color=gainsboro> this </font><font size = 1, color=gainsboro> by </font><font size = 1, color=gainsboro> the </font><font size = 1, color=gainsboro> inexplicable </font><font size = 1, color=gainsboro> good </font><font size = 1, color=gainsboro> review </font><font size = 1, color=gainsboro> it </font><font size = 1, color=gainsboro> had </font><font size = 1, color=gainsboro> been </font><font size = 1, color=gainsboro> receiving </font><font size = 1, color=gainsboro> and </font><font size = 1, color=gainsboro> came </font><font size = 1, color=gainsboro> out </font><font size = 1, color=gainsboro> of </font><font size = 1, color=gainsboro> the </font><font size = 1, color=gainsboro> theater </font><font size = 1, color=gainsboro> thinking </font><font size = 1, color=gainsboro> that </font><font size = 1, color=gainsboro> those </font><font size = 1, color=gainsboro> review </font><font size = 1, color=gainsboro> had </font><font size = 1, color=gainsboro> to </font><font size = 1, color=gainsboro> have </font><font size = 1, color=gainsboro> been </font><font size = 1, color=gainsboro> written </font><font size = 1, color=gainsboro> by </font><font size = 1, color=gainsboro> over-excited </font><font size = 1, color=gainsboro> film </font><font size = 1, color=gainsboro> student </font><font size = 1, color=gainsboro> and </font><font size = 1, color=gainsboro> the </font><font size = 1, color=gainsboro> aforementioned </font><font size = 1, color=gainsboro> group </font><font size = 1, color=gainsboro> of </font><font size = 1, color=gainsboro> individual </font><font size = 1, color=gainsboro> who </font><font size = 1, color=gainsboro> shun </font><font size = 1, color=gainsboro> regular </font><font size = 1, color=gainsboro> movie, </font><font size = 1, color=gainsboro> perhaps </font><font size = 1, color=gainsboro> for </font><font size = 1, color=gainsboro> fear </font><font size = 1, color=gainsboro> that </font><font size = 1, color=gainsboro> they </font><font size = 1, color=gainsboro> may </font><font size = 1, color=gainsboro> actually </font><font size = 1, color=gainsboro> enjoy </font><font size = 1, color=gainsboro> one </font><font size = 1, color=gainsboro> someday.the </font><font size = 1, color=gainsboro> storyline </font><font size = 1, color=gainsboro> is </font><font size = 1, color=gainsboro> quite </font><font size = 1, color=gainsboro> a </font><font size = 1, color=gainsboro> promising </font><font size = 1, color=gainsboro> one </font><font size = 1, color=gainsboro> - </font><font size = 1, color=gainsboro> a </font><font size = 1, color=gainsboro> man </font><font size = 1, color=gainsboro> is </font><font size = 1, color=gainsboro> imprisoned </font><font size = 1, color=gainsboro> for </font><font size = 1, color=gainsboro> 15 </font><font size = 1, color=gainsboro> year, </font><font size = 1, color=gainsboro> never </font><font size = 1, color=gainsboro> knowing </font><font size = 1, color=gainsboro> his </font><font size = 1, color=gainsboro> captor </font><font size = 1, color=gainsboro> nor </font><font size = 1, color=gainsboro> his </font><font size = 1, color=gainsboro> crime. </font><font size = 1, color=gainsboro> he </font><font size = 1, color=gainsboro> is </font><font size = 1, color=gainsboro> then </font><font size = 1, color=gainsboro> auptly </font><font size = 1, color=gainsboro> released </font><font size = 1, color=gainsboro> and </font><font size = 1, color=gainsboro> given </font><font size = 1, color=gainsboro> just </font><font size = 1, color=gainsboro> five </font><font size = 1, color=gainsboro> day </font><font size = 1, color=gainsboro> to </font><font size = 1, color=gainsboro> discover </font><font size = 1, color=gainsboro> the </font><font size = 1, color=gainsboro> identity </font><font size = 1, color=gainsboro> and </font><font size = 1, color=gainsboro> reason </font><font size = 1, color=gainsboro> of </font><font size = 1, color=gainsboro> the </font><font size = 1, color=gainsboro> man </font><font size = 1, color=gainsboro> who </font><font size = 1, color=gainsboro> imprisoned </font><font size = 1, color=gainsboro> him. </font><font size = 1, color=gainsboro> however, </font><font size = 1, color=gainsboro> the </font><font size = 2, color=lightgreen> great </font><font size = 1, color=gainsboro> concept </font><font size = 1, color=gainsboro> soon </font><font size = 1, color=gainsboro> disintegrates </font><font size = 1, color=gainsboro> into </font><font size = 1, color=gainsboro> a </font><font size = 3, color=blue> pathetic </font><font size = 1, color=gainsboro> joke </font><font size = 1, color=gainsboro> as </font><font size = 1, color=gainsboro> oh </font><font size = 1, color=gainsboro> dae-su </font><font size = 1, color=gainsboro> run </font><font size = 1, color=gainsboro> around </font><font size = 1, color=gainsboro> beating </font><font size = 1, color=gainsboro> person </font><font size = 1, color=gainsboro> up, </font><font size = 1, color=gainsboro> trying </font><font size = 1, color=gainsboro> to </font><font size = 1, color=gainsboro> have </font><font size = 1, color=gainsboro> sex </font><font size = 1, color=gainsboro> with </font><font size = 1, color=gainsboro> a </font><font size = 1, color=gainsboro> young </font><font size = 1, color=gainsboro> girl </font><font size = 1, color=gainsboro> who </font><font size = 1, color=gainsboro> is </font><font size = 1, color=gainsboro> attempting </font><font size = 1, color=gainsboro> to </font><font size = 1, color=gainsboro> use </font><font size = 1, color=gainsboro> the </font><font size = 1, color=gainsboro> toilet </font><font size = 1, color=gainsboro> and </font><font size = 1, color=gainsboro> eating </font><font size = 1, color=gainsboro> a </font><font size = 1, color=gainsboro> live, </font><font size = 1, color=gainsboro> writhing </font><font size = 1, color=gainsboro> squid </font><font size = 1, color=gainsboro> (presumably </font><font size = 1, color=gainsboro> for </font><font size = 1, color=gainsboro> dramatic </font><font size = 1, color=gainsboro> effect, </font><font size = 1, color=gainsboro> as </font><font size = 1, color=gainsboro> there </font><font size = 1, color=gainsboro> is </font><font size = 1, color=gainsboro> absolutely </font><font size = 1, color=gainsboro> no </font><font size = 1, color=gainsboro> other </font><font size = 1, color=gainsboro> reason </font><font size = 1, color=gainsboro> for </font><font size = 1, color=gainsboro> it). </font><font size = 1, color=gainsboro> all </font><font size = 1, color=gainsboro> the </font><font size = 1, color=gainsboro> while </font><font size = 1, color=gainsboro> he </font><font size = 1, color=gainsboro> is </font><font size = 1, color=gainsboro> trying </font><font size = 1, color=gainsboro> to </font><font size = 1, color=gainsboro> figure </font><font size = 1, color=gainsboro> out </font><font size = 1, color=gainsboro> this </font><font size = 3, color=blue> horrible </font><font size = 1, color=gainsboro> thing </font><font size = 1, color=gainsboro> he </font><font size = 1, color=gainsboro> did </font><font size = 1, color=gainsboro> to </font><font size = 1, color=gainsboro> earn </font><font size = 1, color=gainsboro> himself </font><font size = 1, color=gainsboro> fifteen </font><font size = 1, color=gainsboro> year </font><font size = 1, color=gainsboro> in </font><font size = 1, color=gainsboro> jail, </font><font size = 1, color=gainsboro> and </font><font size = 1, color=gainsboro> when </font><font size = 1, color=gainsboro> he </font><font size = 1, color=gainsboro> finally </font><font size = 1, color=gainsboro> finds </font><font size = 1, color=gainsboro> out </font><font size = 1, color=gainsboro> it </font><font size = 1, color=gainsboro> is </font><font size = 1, color=gainsboro> both </font><font size = 3, color=blue> ridiculous </font><font size = 1, color=gainsboro> and </font><font size = 1, color=gainsboro> a </font><font size = 1, color=gainsboro> major </font><font size = 1, color=gainsboro> letdown. </font><font size = 1, color=gainsboro> his </font><font size = 1, color=gainsboro> nemesis, </font><font size = 1, color=gainsboro> a </font><font size = 1, color=gainsboro> man </font><font size = 1, color=gainsboro> who </font><font size = 1, color=gainsboro> supposedly </font><font size = 1, color=gainsboro> went </font><font size = 1, color=gainsboro> to </font><font size = 1, color=gainsboro> school </font><font size = 1, color=gainsboro> with </font><font size = 1, color=gainsboro> him </font><font size = 1, color=gainsboro> when </font><font size = 1, color=gainsboro> he </font><font size = 1, color=gainsboro> was </font><font size = 1, color=gainsboro> a </font><font size = 1, color=gainsboro> young </font><font size = 1, color=gainsboro> man, </font><font size = 1, color=gainsboro> looks </font><font size = 1, color=gainsboro> like </font><font size = 1, color=gainsboro> a </font><font size = 1, color=gainsboro> banana </font><font size = 1, color=gainsboro> republic </font><font size = 1, color=gainsboro> model </font><font size = 1, color=gainsboro> twenty </font><font size = 1, color=gainsboro> year </font><font size = 1, color=gainsboro> younger </font><font size = 1, color=gainsboro> than </font><font size = 1, color=gainsboro> him. </font><font size = 1, color=gainsboro> hey, </font><font size = 1, color=gainsboro> i </font><font size = 1, color=gainsboro> know </font><font size = 1, color=gainsboro> prison </font><font size = 1, color=gainsboro> has </font><font size = 1, color=gainsboro> been </font><font size = 1, color=gainsboro> hard </font><font size = 1, color=gainsboro> on </font><font size = 1, color=gainsboro> oh </font><font size = 1, color=gainsboro> dae-su, </font><font size = 1, color=gainsboro> but </font><font size = 1, color=gainsboro> is </font><font size = 1, color=gainsboro> it </font><font size = 1, color=gainsboro> too </font><font size = 1, color=gainsboro> much </font><font size = 1, color=gainsboro> to </font><font size = 1, color=gainsboro> ask </font><font size = 1, color=gainsboro> to </font><font size = 1, color=gainsboro> find </font><font size = 1, color=gainsboro> an </font><font size = 1, color=gainsboro> actor </font><font size = 1, color=gainsboro> that </font><font size = 1, color=gainsboro> looks </font><font size = 1, color=gainsboro> a </font><font size = 1, color=gainsboro> bit </font><font size = 1, color=gainsboro> closer </font><font size = 1, color=gainsboro> to </font><font size = 1, color=gainsboro> his </font><font size = 1, color=gainsboro> age? </font><font size = 1, color=gainsboro> of </font><font size = 1, color=gainsboro> all </font><font size = 1, color=gainsboro> the </font><font size = 1, color=gainsboro> thing </font><font size = 1, color=gainsboro> wrong </font><font size = 1, color=gainsboro> with </font><font size = 1, color=gainsboro> this </font><font size = 1, color=gainsboro> movie, </font><font size = 1, color=gainsboro> this </font><font size = 1, color=gainsboro> one </font><font size = 1, color=gainsboro> seems </font><font size = 1, color=gainsboro> like </font><font size = 1, color=gainsboro> the </font><font size = 1, color=gainsboro> easiest </font><font size = 1, color=gainsboro> one </font><font size = 1, color=gainsboro> to </font><font size = 1, color=gainsboro> fix.and </font><font size = 1, color=gainsboro> the </font><font size = 1, color=gainsboro> big </font><font size = 1, color=gainsboro> secret </font><font size = 1, color=gainsboro> - </font><font size = 1, color=gainsboro> the </font><font size = 1, color=gainsboro> one </font><font size = 1, color=gainsboro> that </font><font size = 1, color=gainsboro> kept </font><font size = 1, color=gainsboro> me </font><font size = 1, color=gainsboro> in </font><font size = 1, color=gainsboro> my </font><font size = 1, color=gainsboro> seat </font><font size = 1, color=gainsboro> for </font><font size = 1, color=gainsboro> 90 </font><font size = 1, color=gainsboro> minute </font><font size = 1, color=gainsboro> when </font><font size = 1, color=gainsboro> i </font><font size = 1, color=gainsboro> could </font><font size = 1, color=gainsboro> have </font><font size = 1, color=gainsboro> been </font><font size = 1, color=gainsboro> out </font><font size = 1, color=gainsboro> doing </font><font size = 1, color=gainsboro> something </font><font size = 1, color=gainsboro> productive </font><font size = 1, color=gainsboro> - </font><font size = 1, color=gainsboro> is </font><font size = 1, color=gainsboro> some </font><font size = 1, color=gainsboro> joke </font><font size = 1, color=gainsboro> of </font><font size = 1, color=gainsboro> a </font><font size = 1, color=gainsboro> plot </font><font size = 1, color=gainsboro> line </font><font size = 1, color=gainsboro> involving </font><font size = 1, color=gainsboro> incest </font><font size = 1, color=gainsboro> and </font><font size = 1, color=gainsboro> a </font><font size = 1, color=gainsboro> rumor </font><font size = 1, color=gainsboro> started </font><font size = 1, color=gainsboro> in </font><font size = 1, color=gainsboro> high </font><font size = 1, color=gainsboro> school. </font><font size = 1, color=gainsboro> come </font><font size = 1, color=gainsboro> on! </font><font size = 1, color=gainsboro> throw </font><font size = 1, color=gainsboro> us </font><font size = 1, color=gainsboro> a </font><font size = 1, color=gainsboro> bone </font><font size = 1, color=gainsboro> here </font><font size = 1, color=gainsboro> - </font><font size = 1, color=gainsboro> was </font><font size = 1, color=gainsboro> that </font><font size = 1, color=gainsboro> really </font><font size = 1, color=gainsboro> the </font><font size = 2, color=lightgreen> best </font><font size = 1, color=gainsboro> they </font><font size = 1, color=gainsboro> could </font><font size = 1, color=gainsboro> do? </font><font size = 1, color=gainsboro> i </font><font size = 1, color=gainsboro> sat </font><font size = 1, color=gainsboro> through </font><font size = 3, color=blue> stupid </font><font size = 1, color=gainsboro> dialogue, </font><font size = 1, color=gainsboro> over-acting, </font><font size = 1, color=gainsboro> gloomy </font><font size = 1, color=gainsboro> set </font><font size = 1, color=gainsboro> and </font><font size = 1, color=gainsboro> gratuitous </font><font size = 1, color=gainsboro> violence </font><font size = 1, color=gainsboro> for </font><font size = 1, color=gainsboro> this? </font><font size = 1, color=gainsboro> (by </font><font size = 1, color=gainsboro> the </font><font size = 1, color=gainsboro> way </font><font size = 1, color=gainsboro> - </font><font size = 1, color=gainsboro> i </font><font size = 1, color=gainsboro> am </font><font size = 1, color=gainsboro> not </font><font size = 1, color=gainsboro> at </font><font size = 1, color=gainsboro> all </font><font size = 1, color=gainsboro> against </font><font size = 1, color=gainsboro> violence </font><font size = 1, color=gainsboro> in </font><font size = 1, color=gainsboro> a </font><font size = 1, color=gainsboro> film </font><font size = 1, color=gainsboro> if </font><font size = 1, color=gainsboro> it </font><font size = 1, color=gainsboro> seems </font><font size = 1, color=gainsboro> to </font><font size = 1, color=gainsboro> fit </font><font size = 1, color=gainsboro> the </font><font size = 1, color=gainsboro> story, </font><font size = 1, color=gainsboro> but </font><font size = 1, color=gainsboro> in </font><font size = 1, color=gainsboro> this </font><font size = 1, color=gainsboro> case </font><font size = 1, color=gainsboro> it </font><font size = 1, color=gainsboro> seems </font><font size = 1, color=gainsboro> i </font><font size = 1, color=gainsboro> was </font><font size = 1, color=gainsboro> forced </font><font size = 1, color=gainsboro> to </font><font size = 1, color=gainsboro> watch </font><font size = 1, color=gainsboro> our </font><font size = 1, color=gainsboro> hero </font><font size = 1, color=gainsboro> knock </font><font size = 1, color=gainsboro> out </font><font size = 1, color=gainsboro> someone's </font><font size = 1, color=gainsboro> front </font><font size = 1, color=gainsboro> tooth </font><font size = 1, color=gainsboro> and </font><font size = 1, color=gainsboro> cut </font><font size = 1, color=gainsboro> off </font><font size = 1, color=gainsboro> his </font><font size = 1, color=gainsboro> own </font><font size = 1, color=gainsboro> tongue </font><font size = 1, color=gainsboro> with </font><font size = 1, color=gainsboro> a </font><font size = 1, color=gainsboro> pair </font><font size = 1, color=gainsboro> of </font><font size = 1, color=gainsboro> scissors </font><font size = 1, color=gainsboro> in </font><font size = 1, color=gainsboro> order </font><font size = 1, color=gainsboro> to </font><font size = 1, color=gainsboro> distract </font><font size = 1, color=gainsboro> me </font><font size = 1, color=gainsboro> from </font><font size = 1, color=gainsboro> figuring </font><font size = 1, color=gainsboro> out </font><font size = 1, color=gainsboro> i </font><font size = 1, color=gainsboro> was </font><font size = 1, color=gainsboro> wasting </font><font size = 1, color=gainsboro> my </font><font size = 1, color=gainsboro> afternoon </font><font size = 1, color=gainsboro> watching </font><font size = 1, color=gainsboro> a </font><font size = 1, color=gainsboro> pretentious </font><font size = 1, color=gainsboro> piece </font><font size = 1, color=gainsboro> of </font><font size = 1, color=gainsboro> garbage).take </font><font size = 1, color=gainsboro> my </font><font size = 1, color=gainsboro> advice </font><font size = 1, color=gainsboro> - </font><font size = 1, color=gainsboro> do </font><font size = 1, color=gainsboro> something </font><font size = 1, color=gainsboro> else </font><font size = 1, color=gainsboro> with </font><font size = 1, color=gainsboro> your </font><font size = 1, color=gainsboro> time </font><font size = 1, color=gainsboro> and </font><font size = 1, color=gainsboro> money. </font><font size = 1, color=gainsboro> or </font><font size = 1, color=gainsboro> take </font><font size = 1, color=gainsboro> your </font><font size = 1, color=gainsboro> nine </font><font size = 1, color=gainsboro> dollar </font><font size = 1, color=gainsboro> and </font><font size = 1, color=gainsboro> go </font><font size = 1, color=gainsboro> see </font><font size = 1, color=gainsboro> a </font><font size = 1, color=gainsboro> lowly </font><font size = 1, color=gainsboro> \"movie\" </font><font size = 1, color=gainsboro> - </font><font size = 1, color=gainsboro> one </font><font size = 1, color=gainsboro> that </font><font size = 1, color=gainsboro> you </font><font size = 1, color=gainsboro> might </font><font size = 1, color=gainsboro> actually </font><font size = 1, color=gainsboro> enjoy. </font>"
      ],
      "text/plain": [
       "<__main__.ColoredWeightedDoc at 0x1d14226ae48>"
      ]
     },
     "metadata": {},
     "output_type": "display_data"
    }
   ],
   "source": [
    "from IPython import display\n",
    "idx = 1001\n",
    "# idx = 9002\n",
    "bm = base_model.predict(X_test[idx])\n",
    "        \n",
    "cm = combined_model.predict([X_test[idx], \n",
    "                             np.reshape(y_test_agreement[idx], (1,y_test_agreement.shape[1]))])\n",
    "        \n",
    "layer_name = 'concatenate'\n",
    "concat_after_relu = Model(inputs=combined_model.input,\n",
    "                          outputs=combined_model.get_layer(layer_name).output)\n",
    "concat_output = concat_after_relu.predict([X_test[idx], np.reshape(y_test_agreement[idx], (1,y_test_agreement.shape[1]))])\n",
    "        \n",
    "print('actual label : ', y_test_original[idx], '\\npredict from base model : ', bm.flatten(), '\\npredict label : ', cm.flatten())\n",
    "print()\n",
    "for i,output in enumerate(concat_output.flatten()):\n",
    "    if output != 0:\n",
    "        print(word_list[i], output)\n",
    "\n",
    "\n",
    "ht_weight = concat_output.flatten()\n",
    "display.display(ColoredWeightedDoc(X_test_original[idx], word_list, ht_weight, binary = False))"
   ]
  },
  {
   "cell_type": "code",
   "execution_count": 21,
   "metadata": {},
   "outputs": [
    {
     "data": {
      "text/plain": [
       "array([1231, 1232, 1234, 1235, 1236, 1237, 1238, 1239, 1240, 1241],\n",
       "      dtype=int64)"
      ]
     },
     "execution_count": 21,
     "metadata": {},
     "output_type": "execute_result"
    }
   ],
   "source": [
    "np.where(np.sum(y_test_agreement, axis=1)!=0)[0][1000:1010]"
   ]
  },
  {
   "cell_type": "code",
   "execution_count": 22,
   "metadata": {},
   "outputs": [
    {
     "name": "stdout",
     "output_type": "stream",
     "text": [
      "25000/25000 [==============================] - 2s 60us/step\n"
     ]
    },
    {
     "data": {
      "text/plain": [
       "[0.17322103708982467, 0.8082]"
      ]
     },
     "execution_count": 22,
     "metadata": {},
     "output_type": "execute_result"
    }
   ],
   "source": [
    "score = combined_model.evaluate([X_test, y_test_agreement], y_test_original)\n",
    "score"
   ]
  },
  {
   "cell_type": "code",
   "execution_count": 23,
   "metadata": {},
   "outputs": [],
   "source": [
    "concat_all = concat_after_relu.predict([X_test, y_test_agreement])"
   ]
  },
  {
   "cell_type": "code",
   "execution_count": 24,
   "metadata": {},
   "outputs": [
    {
     "data": {
      "text/plain": [
       "(25000, 83)"
      ]
     },
     "execution_count": 24,
     "metadata": {},
     "output_type": "execute_result"
    }
   ],
   "source": [
    "concat_all.shape"
   ]
  },
  {
   "cell_type": "code",
   "execution_count": 25,
   "metadata": {},
   "outputs": [
    {
     "data": {
      "text/plain": [
       "21567"
      ]
     },
     "execution_count": 25,
     "metadata": {},
     "output_type": "execute_result"
    }
   ],
   "source": [
    "indices = np.where(np.sum(concat_all, axis=1)!=0)\n",
    "indices = indices[0]\n",
    "len(indices)"
   ]
  },
  {
   "cell_type": "code",
   "execution_count": 26,
   "metadata": {},
   "outputs": [
    {
     "name": "stdout",
     "output_type": "stream",
     "text": [
      "21567/21567 [==============================] - 1s 59us/step\n"
     ]
    }
   ],
   "source": [
    "not_zero_predict = combined_model.evaluate([X_test[indices], y_test_agreement[indices]], y_test_original[indices])"
   ]
  },
  {
   "cell_type": "code",
   "execution_count": 27,
   "metadata": {},
   "outputs": [
    {
     "data": {
      "text/plain": [
       "[0.12119727466684344, 0.8748551026700396]"
      ]
     },
     "execution_count": 27,
     "metadata": {},
     "output_type": "execute_result"
    }
   ],
   "source": [
    "not_zero_predict"
   ]
  },
  {
   "cell_type": "code",
   "execution_count": 29,
   "metadata": {},
   "outputs": [
    {
     "data": {
      "text/plain": [
       "0.13732"
      ]
     },
     "execution_count": 29,
     "metadata": {},
     "output_type": "execute_result"
    }
   ],
   "source": [
    "(X_test.shape[0] - len(indices))/X_test.shape[0]"
   ]
  },
  {
   "cell_type": "code",
   "execution_count": 37,
   "metadata": {},
   "outputs": [
    {
     "data": {
      "text/plain": [
       "['loss', 'acc']"
      ]
     },
     "execution_count": 37,
     "metadata": {},
     "output_type": "execute_result"
    }
   ],
   "source": [
    "combined_model.metrics_names"
   ]
  },
  {
   "cell_type": "code",
   "execution_count": 30,
   "metadata": {},
   "outputs": [],
   "source": [
    "combined_model.save_weights('imdb_human_term_weight.hdf5')"
   ]
  },
  {
   "cell_type": "markdown",
   "metadata": {},
   "source": [
    "# Get cases"
   ]
  },
  {
   "cell_type": "code",
   "execution_count": 118,
   "metadata": {},
   "outputs": [
    {
     "name": "stdout",
     "output_type": "stream",
     "text": [
      "actual label :  1 \n",
      "predict from base model :  [0.9990606] \n",
      "predict label :  [1.]\n",
      "\n",
      "7/10 3.6766682\n",
      "amazing 3.7045205\n",
      "beautiful 3.1186619\n",
      "fun 3.3016078\n",
      "loved 3.1563363\n",
      "wonderful 3.3778563\n"
     ]
    },
    {
     "data": {
      "text/html": [
       "<font size = 1, color=gainsboro> the </font><font size = 1, color=gainsboro> 1978 </font><font size = 1, color=gainsboro> adaptation </font><font size = 1, color=gainsboro> had </font><font size = 1, color=gainsboro> all </font><font size = 1, color=gainsboro> the </font><font size = 1, color=gainsboro> ingredient </font><font size = 1, color=gainsboro> of </font><font size = 1, color=gainsboro> a </font><font size = 1, color=gainsboro> potentially </font><font size = 3, color=blue> wonderful </font><font size = 1, color=gainsboro> film. </font><font size = 1, color=gainsboro> it </font><font size = 1, color=gainsboro> is </font><font size = 1, color=gainsboro> based </font><font size = 1, color=gainsboro> on </font><font size = 1, color=gainsboro> an </font><font size = 1, color=gainsboro> absolutely </font><font size = 1, color=gainsboro> charming </font><font size = 1, color=gainsboro> book </font><font size = 1, color=gainsboro> by </font><font size = 1, color=gainsboro> charle </font><font size = 1, color=gainsboro> kingsley. </font><font size = 1, color=gainsboro> it </font><font size = 1, color=gainsboro> has </font><font size = 1, color=gainsboro> a </font><font size = 1, color=gainsboro> truly </font><font size = 1, color=gainsboro> talented </font><font size = 1, color=gainsboro> cast </font><font size = 1, color=gainsboro> from </font><font size = 1, color=gainsboro> the </font><font size = 1, color=gainsboro> like </font><font size = 1, color=gainsboro> of </font><font size = 1, color=gainsboro> jame </font><font size = 1, color=gainsboro> mason, </font><font size = 1, color=gainsboro> bernard </font><font size = 1, color=gainsboro> cribbon </font><font size = 1, color=gainsboro> and </font><font size = 1, color=gainsboro> david </font><font size = 1, color=gainsboro> tomblinson, </font><font size = 1, color=gainsboro> not </font><font size = 1, color=gainsboro> to </font><font size = 1, color=gainsboro> mention </font><font size = 1, color=gainsboro> the </font><font size = 1, color=gainsboro> vocal </font><font size = 1, color=gainsboro> talent </font><font size = 1, color=gainsboro> of </font><font size = 1, color=gainsboro> david </font><font size = 1, color=gainsboro> jason </font><font size = 1, color=gainsboro> and </font><font size = 1, color=gainsboro> jon </font><font size = 1, color=gainsboro> pertwee. </font><font size = 1, color=gainsboro> there </font><font size = 1, color=gainsboro> is </font><font size = 1, color=gainsboro> also </font><font size = 1, color=gainsboro> lionel </font><font size = 1, color=gainsboro> jeffry, </font><font size = 1, color=gainsboro> the </font><font size = 1, color=gainsboro> director </font><font size = 1, color=gainsboro> of </font><font size = 3, color=blue> wonderful </font><font size = 1, color=gainsboro> classic </font><font size = 1, color=gainsboro> such </font><font size = 1, color=gainsboro> as </font><font size = 1, color=gainsboro> the </font><font size = 1, color=gainsboro> railway </font><font size = 1, color=gainsboro> child </font><font size = 1, color=gainsboro> and </font><font size = 1, color=gainsboro> the </font><font size = 3, color=blue> amazing </font><font size = 1, color=gainsboro> mr </font><font size = 1, color=gainsboro> blunden, </font><font size = 1, color=gainsboro> and </font><font size = 1, color=gainsboro> while </font><font size = 1, color=gainsboro> the </font><font size = 1, color=gainsboro> film </font><font size = 1, color=gainsboro> is </font><font size = 1, color=gainsboro> good </font><font size = 1, color=gainsboro> on </font><font size = 1, color=gainsboro> the </font><font size = 1, color=gainsboro> most </font><font size = 1, color=gainsboro> part, </font><font size = 1, color=gainsboro> it </font><font size = 1, color=gainsboro> was </font><font size = 1, color=gainsboro> also </font><font size = 1, color=gainsboro> a </font><font size = 1, color=gainsboro> little </font><font size = 2, color=lightgreen> disappointing. </font><font size = 1, color=gainsboro> i </font><font size = 1, color=gainsboro> had </font><font size = 1, color=gainsboro> no </font><font size = 1, color=gainsboro> problem </font><font size = 1, color=gainsboro> with </font><font size = 1, color=gainsboro> the </font><font size = 1, color=gainsboro> performance, </font><font size = 1, color=gainsboro> particularly </font><font size = 1, color=gainsboro> those </font><font size = 1, color=gainsboro> of </font><font size = 1, color=gainsboro> mason </font><font size = 1, color=gainsboro> and </font><font size = 1, color=gainsboro> tomblinson </font><font size = 1, color=gainsboro> as </font><font size = 1, color=gainsboro> grime </font><font size = 1, color=gainsboro> and </font><font size = 1, color=gainsboro> sir </font><font size = 1, color=gainsboro> john </font><font size = 1, color=gainsboro> harriet </font><font size = 1, color=gainsboro> respectively, </font><font size = 1, color=gainsboro> and </font><font size = 1, color=gainsboro> tommy </font><font size = 1, color=gainsboro> pender </font><font size = 1, color=gainsboro> and </font><font size = 1, color=gainsboro> samantha </font><font size = 1, color=gainsboro> gate </font><font size = 1, color=gainsboro> are </font><font size = 1, color=gainsboro> believable </font><font size = 1, color=gainsboro> as </font><font size = 1, color=gainsboro> tom </font><font size = 1, color=gainsboro> and </font><font size = 1, color=gainsboro> ellie. </font><font size = 1, color=gainsboro> the </font><font size = 1, color=gainsboro> voice </font><font size = 1, color=gainsboro> cast </font><font size = 1, color=gainsboro> is </font><font size = 1, color=gainsboro> also </font><font size = 1, color=gainsboro> commendable, </font><font size = 1, color=gainsboro> especially </font><font size = 1, color=gainsboro> jon </font><font size = 1, color=gainsboro> pertwee, </font><font size = 1, color=gainsboro> voicing </font><font size = 1, color=gainsboro> charming </font><font size = 1, color=gainsboro> character </font><font size = 1, color=gainsboro> in </font><font size = 1, color=gainsboro> their </font><font size = 1, color=gainsboro> own </font><font size = 1, color=gainsboro> right. </font><font size = 1, color=gainsboro> i </font><font size = 1, color=gainsboro> also </font><font size = 1, color=gainsboro> liked </font><font size = 1, color=gainsboro> the </font><font size = 1, color=gainsboro> incidental </font><font size = 1, color=gainsboro> music </font><font size = 1, color=gainsboro> it </font><font size = 1, color=gainsboro> is </font><font size = 1, color=gainsboro> so </font><font size = 1, color=gainsboro> haunting </font><font size = 1, color=gainsboro> and </font><font size = 3, color=blue> beautiful, </font><font size = 1, color=gainsboro> and </font><font size = 1, color=gainsboro> the </font><font size = 1, color=gainsboro> script </font><font size = 1, color=gainsboro> was </font><font size = 1, color=gainsboro> fairly </font><font size = 1, color=gainsboro> faithful </font><font size = 1, color=gainsboro> and </font><font size = 1, color=gainsboro> in </font><font size = 1, color=gainsboro> general </font><font size = 1, color=gainsboro> well-written, </font><font size = 1, color=gainsboro> particularly </font><font size = 1, color=gainsboro> at </font><font size = 1, color=gainsboro> the </font><font size = 1, color=gainsboro> beginning. </font><font size = 1, color=gainsboro> the </font><font size = 1, color=gainsboro> character, </font><font size = 1, color=gainsboro> especially </font><font size = 1, color=gainsboro> the </font><font size = 1, color=gainsboro> water </font><font size = 1, color=gainsboro> baby </font><font size = 1, color=gainsboro> are </font><font size = 1, color=gainsboro> very </font><font size = 1, color=gainsboro> charming, </font><font size = 1, color=gainsboro> and </font><font size = 1, color=gainsboro> the </font><font size = 1, color=gainsboro> villain </font><font size = 1, color=gainsboro> are </font><font size = 1, color=gainsboro> sinister </font><font size = 1, color=gainsboro> and </font><font size = 2, color=lightgreen> funny </font><font size = 1, color=gainsboro> at </font><font size = 1, color=gainsboro> the </font><font size = 1, color=gainsboro> same </font><font size = 1, color=gainsboro> time, </font><font size = 1, color=gainsboro> i </font><font size = 3, color=blue> loved </font><font size = 1, color=gainsboro> the </font><font size = 1, color=gainsboro> part </font><font size = 1, color=gainsboro> when </font><font size = 1, color=gainsboro> tom </font><font size = 1, color=gainsboro> and </font><font size = 1, color=gainsboro> his </font><font size = 1, color=gainsboro> friend </font><font size = 1, color=gainsboro> help </font><font size = 1, color=gainsboro> the </font><font size = 1, color=gainsboro> water </font><font size = 1, color=gainsboro> baby </font><font size = 1, color=gainsboro> escape, </font><font size = 1, color=gainsboro> seeing </font><font size = 1, color=gainsboro> the </font><font size = 1, color=gainsboro> shark </font><font size = 1, color=gainsboro> chasing </font><font size = 1, color=gainsboro> the </font><font size = 1, color=gainsboro> electric </font><font size = 1, color=gainsboro> eel </font><font size = 1, color=gainsboro> with </font><font size = 1, color=gainsboro> an </font><font size = 1, color=gainsboro> axe </font><font size = 1, color=gainsboro> was </font><font size = 1, color=gainsboro> very </font><font size = 2, color=lightgreen> funny. </font><font size = 1, color=gainsboro> however, </font><font size = 1, color=gainsboro> i </font><font size = 1, color=gainsboro> will </font><font size = 1, color=gainsboro> say </font><font size = 1, color=gainsboro> the </font><font size = 1, color=gainsboro> film </font><font size = 1, color=gainsboro> does </font><font size = 1, color=gainsboro> look </font><font size = 1, color=gainsboro> dated, </font><font size = 1, color=gainsboro> especially </font><font size = 1, color=gainsboro> the </font><font size = 1, color=gainsboro> animation </font><font size = 1, color=gainsboro> sequence, </font><font size = 1, color=gainsboro> the </font><font size = 1, color=gainsboro> live </font><font size = 1, color=gainsboro> action </font><font size = 1, color=gainsboro> part </font><font size = 1, color=gainsboro> were </font><font size = 1, color=gainsboro> not </font><font size = 1, color=gainsboro> so </font><font size = 2, color=lightgreen> bad, </font><font size = 1, color=gainsboro> if </font><font size = 1, color=gainsboro> you </font><font size = 1, color=gainsboro> forgive </font><font size = 1, color=gainsboro> the </font><font size = 1, color=gainsboro> rather </font><font size = 1, color=gainsboro> dark </font><font size = 1, color=gainsboro> camera-work. </font><font size = 1, color=gainsboro> the </font><font size = 1, color=gainsboro> character </font><font size = 1, color=gainsboro> animation </font><font size = 1, color=gainsboro> was </font><font size = 1, color=gainsboro> rather </font><font size = 1, color=gainsboro> flat, </font><font size = 1, color=gainsboro> and </font><font size = 1, color=gainsboro> the </font><font size = 1, color=gainsboro> background </font><font size = 1, color=gainsboro> sometimes </font><font size = 1, color=gainsboro> were </font><font size = 1, color=gainsboro> a </font><font size = 1, color=gainsboro> little </font><font size = 2, color=lightgreen> dull, </font><font size = 1, color=gainsboro> though </font><font size = 1, color=gainsboro> there </font><font size = 1, color=gainsboro> were </font><font size = 1, color=gainsboro> some </font><font size = 1, color=gainsboro> nice </font><font size = 1, color=gainsboro> moment, </font><font size = 1, color=gainsboro> like </font><font size = 1, color=gainsboro> the </font><font size = 1, color=gainsboro> scene </font><font size = 1, color=gainsboro> with </font><font size = 1, color=gainsboro> the </font><font size = 1, color=gainsboro> krakon </font><font size = 1, color=gainsboro> and </font><font size = 1, color=gainsboro> of </font><font size = 1, color=gainsboro> course </font><font size = 1, color=gainsboro> the </font><font size = 1, color=gainsboro> first </font><font size = 1, color=gainsboro> meeting </font><font size = 1, color=gainsboro> with </font><font size = 1, color=gainsboro> the </font><font size = 1, color=gainsboro> water </font><font size = 1, color=gainsboro> baby. </font><font size = 1, color=gainsboro> i </font><font size = 1, color=gainsboro> also </font><font size = 1, color=gainsboro> had </font><font size = 1, color=gainsboro> mixed </font><font size = 1, color=gainsboro> feeling </font><font size = 1, color=gainsboro> about </font><font size = 1, color=gainsboro> the </font><font size = 1, color=gainsboro> song, </font><font size = 1, color=gainsboro> the </font><font size = 1, color=gainsboro> water </font><font size = 1, color=gainsboro> baby's </font><font size = 1, color=gainsboro> song </font><font size = 1, color=gainsboro> was </font><font size = 3, color=blue> beautiful, </font><font size = 1, color=gainsboro> but </font><font size = 1, color=gainsboro> i </font><font size = 1, color=gainsboro> found </font><font size = 1, color=gainsboro> the </font><font size = 1, color=gainsboro> first </font><font size = 1, color=gainsboro> song </font><font size = 2, color=lightgreen> forgettable, </font><font size = 1, color=gainsboro> when </font><font size = 1, color=gainsboro> tom </font><font size = 1, color=gainsboro> ends </font><font size = 1, color=gainsboro> up </font><font size = 1, color=gainsboro> underwater. </font><font size = 1, color=gainsboro> hi-cockallorum </font><font size = 1, color=gainsboro> is </font><font size = 1, color=gainsboro> an </font><font size = 1, color=gainsboro> example </font><font size = 1, color=gainsboro> of </font><font size = 1, color=gainsboro> a </font><font size = 1, color=gainsboro> song, </font><font size = 1, color=gainsboro> that </font><font size = 1, color=gainsboro> is </font><font size = 1, color=gainsboro> like </font><font size = 1, color=gainsboro> marmite, </font><font size = 1, color=gainsboro> you </font><font size = 1, color=gainsboro> either </font><font size = 1, color=gainsboro> love </font><font size = 1, color=gainsboro> it </font><font size = 1, color=gainsboro> or </font><font size = 1, color=gainsboro> hate </font><font size = 1, color=gainsboro> it. </font><font size = 1, color=gainsboro> i </font><font size = 1, color=gainsboro> personally </font><font size = 1, color=gainsboro> do </font><font size = 1, color=gainsboro> not </font><font size = 1, color=gainsboro> know </font><font size = 1, color=gainsboro> what </font><font size = 1, color=gainsboro> to </font><font size = 1, color=gainsboro> make </font><font size = 1, color=gainsboro> of </font><font size = 1, color=gainsboro> this </font><font size = 1, color=gainsboro> song, </font><font size = 1, color=gainsboro> it </font><font size = 1, color=gainsboro> was </font><font size = 3, color=blue> fun </font><font size = 1, color=gainsboro> to </font><font size = 1, color=gainsboro> listen </font><font size = 1, color=gainsboro> to </font><font size = 1, color=gainsboro> at </font><font size = 1, color=gainsboro> first, </font><font size = 1, color=gainsboro> but </font><font size = 1, color=gainsboro> once </font><font size = 1, color=gainsboro> it </font><font size = 1, color=gainsboro> is </font><font size = 1, color=gainsboro> in </font><font size = 1, color=gainsboro> your </font><font size = 1, color=gainsboro> head, </font><font size = 1, color=gainsboro> it </font><font size = 1, color=gainsboro> is </font><font size = 1, color=gainsboro> perhaps </font><font size = 2, color=lightgreen> annoying. </font><font size = 1, color=gainsboro> as </font><font size = 1, color=gainsboro> much </font><font size = 1, color=gainsboro> as </font><font size = 1, color=gainsboro> i </font><font size = 1, color=gainsboro> like </font><font size = 1, color=gainsboro> lionel </font><font size = 1, color=gainsboro> jeffry </font><font size = 1, color=gainsboro> and </font><font size = 1, color=gainsboro> his </font><font size = 1, color=gainsboro> film, </font><font size = 1, color=gainsboro> his </font><font size = 1, color=gainsboro> direction </font><font size = 1, color=gainsboro> just </font><font size = 1, color=gainsboro> lacked </font><font size = 1, color=gainsboro> the </font><font size = 1, color=gainsboro> wonder </font><font size = 1, color=gainsboro> and </font><font size = 1, color=gainsboro> the </font><font size = 1, color=gainsboro> magic </font><font size = 1, color=gainsboro> it </font><font size = 1, color=gainsboro> usually </font><font size = 1, color=gainsboro> does. </font><font size = 1, color=gainsboro> all </font><font size = 1, color=gainsboro> in </font><font size = 1, color=gainsboro> all, </font><font size = 1, color=gainsboro> certainly </font><font size = 1, color=gainsboro> not </font><font size = 1, color=gainsboro> a </font><font size = 2, color=lightgreen> terrible </font><font size = 1, color=gainsboro> film, </font><font size = 1, color=gainsboro> but </font><font size = 1, color=gainsboro> could </font><font size = 1, color=gainsboro> have </font><font size = 1, color=gainsboro> been </font><font size = 1, color=gainsboro> better </font><font size = 1, color=gainsboro> artistically. </font><font size = 1, color=gainsboro> 7/10 </font><font size = 1, color=gainsboro> bethany </font><font size = 1, color=gainsboro> cox. </font>"
      ],
      "text/plain": [
       "<__main__.ColoredWeightedDoc at 0x1d14220dc50>"
      ]
     },
     "metadata": {},
     "output_type": "display_data"
    }
   ],
   "source": [
    "from IPython import display\n",
    "idx = 7079\n",
    "# idx = 9002\n",
    "bm = base_model.predict(X_test[idx])\n",
    "        \n",
    "cm = combined_model.predict([X_test[idx], \n",
    "                             np.reshape(y_test_agreement[idx], (1,y_test_agreement.shape[1]))])\n",
    "        \n",
    "layer_name = 'concatenate'\n",
    "concat_after_relu = Model(inputs=combined_model.input,\n",
    "                          outputs=combined_model.get_layer(layer_name).output)\n",
    "concat_output = concat_after_relu.predict([X_test[idx], np.reshape(y_test_agreement[idx], (1,y_test_agreement.shape[1]))])\n",
    "        \n",
    "print('actual label : ', y_test_original[idx], '\\npredict from base model : ', bm.flatten(), '\\npredict label : ', cm.flatten())\n",
    "print()\n",
    "for i,output in enumerate(concat_output.flatten()):\n",
    "    if output != 0:\n",
    "        print(word_list[i], output)\n",
    "\n",
    "\n",
    "ht_weight = concat_output.flatten()\n",
    "display.display(ColoredWeightedDoc(X_test_original[idx], word_list, ht_weight, binary = False))"
   ]
  },
  {
   "cell_type": "code",
   "execution_count": 119,
   "metadata": {},
   "outputs": [
    {
     "name": "stdout",
     "output_type": "stream",
     "text": [
      "actual label :  1 \n",
      "predict from base model :  [0.9999331] \n",
      "predict label :  [1.]\n",
      "\n",
      "best 3.400367\n",
      "fascinating 3.7045162\n",
      "favorite 3.4731314\n",
      "great 3.0944543\n",
      "subtle 3.3368397\n",
      "wonderful 3.3808064\n",
      "wonderfully 1.2528424\n"
     ]
    },
    {
     "data": {
      "text/html": [
       "<font size = 1, color=gainsboro> i </font><font size = 1, color=gainsboro> am </font><font size = 1, color=gainsboro> fifteen </font><font size = 1, color=gainsboro> year </font><font size = 1, color=gainsboro> old </font><font size = 1, color=gainsboro> and </font><font size = 1, color=gainsboro> have </font><font size = 1, color=gainsboro> seen </font><font size = 1, color=gainsboro> thirty-three </font><font size = 1, color=gainsboro> of </font><font size = 1, color=gainsboro> sinatra's </font><font size = 1, color=gainsboro> film </font><font size = 1, color=gainsboro> (not </font><font size = 1, color=gainsboro> counting </font><font size = 1, color=gainsboro> video </font><font size = 1, color=gainsboro> of </font><font size = 1, color=gainsboro> tv </font><font size = 1, color=gainsboro> show </font><font size = 1, color=gainsboro> and </font><font size = 1, color=gainsboro> documentary) </font><font size = 1, color=gainsboro> and </font><font size = 1, color=gainsboro> have </font><font size = 1, color=gainsboro> been </font><font size = 1, color=gainsboro> unimpressed </font><font size = 1, color=gainsboro> by </font><font size = 1, color=gainsboro> only </font><font size = 1, color=gainsboro> two </font><font size = 1, color=gainsboro> of </font><font size = 1, color=gainsboro> them. </font><font size = 1, color=gainsboro> ''till </font><font size = 1, color=gainsboro> the </font><font size = 1, color=gainsboro> cloud </font><font size = 1, color=gainsboro> roll </font><font size = 1, color=gainsboro> by,\" </font><font size = 1, color=gainsboro> and </font><font size = 1, color=gainsboro> \"the </font><font size = 1, color=gainsboro> miracle </font><font size = 1, color=gainsboro> of </font><font size = 1, color=gainsboro> the </font><font size = 1, color=gainsboro> bell\" </font><font size = 1, color=gainsboro> do </font><font size = 1, color=gainsboro> not </font><font size = 1, color=gainsboro> really </font><font size = 1, color=gainsboro> count, </font><font size = 1, color=gainsboro> however, </font><font size = 1, color=gainsboro> considering </font><font size = 1, color=gainsboro> that </font><font size = 1, color=gainsboro> in </font><font size = 1, color=gainsboro> the </font><font size = 1, color=gainsboro> first </font><font size = 1, color=gainsboro> all </font><font size = 1, color=gainsboro> he </font><font size = 1, color=gainsboro> does </font><font size = 1, color=gainsboro> is </font><font size = 1, color=gainsboro> sing </font><font size = 1, color=gainsboro> a </font><font size = 1, color=gainsboro> magnificent </font><font size = 1, color=gainsboro> \"ol' </font><font size = 1, color=gainsboro> man </font><font size = 1, color=gainsboro> river,\" </font><font size = 1, color=gainsboro> and </font><font size = 1, color=gainsboro> in </font><font size = 1, color=gainsboro> the </font><font size = 1, color=gainsboro> latter </font><font size = 1, color=gainsboro> he </font><font size = 1, color=gainsboro> is </font><font size = 1, color=gainsboro> not </font><font size = 1, color=gainsboro> half </font><font size = 2, color=lightgreen> bad-only </font><font size = 1, color=gainsboro> the </font><font size = 1, color=gainsboro> picture </font><font size = 1, color=gainsboro> is </font><font size = 2, color=lightgreen> pathetic. </font><font size = 1, color=gainsboro> my </font><font size = 3, color=blue> favorite </font><font size = 1, color=gainsboro> record, </font><font size = 1, color=gainsboro> radio </font><font size = 1, color=gainsboro> show, </font><font size = 1, color=gainsboro> tv </font><font size = 1, color=gainsboro> show, </font><font size = 1, color=gainsboro> and </font><font size = 1, color=gainsboro> movie </font><font size = 1, color=gainsboro> concerning </font><font size = 1, color=gainsboro> sinatra </font><font size = 1, color=gainsboro> change </font><font size = 1, color=gainsboro> virtually </font><font size = 1, color=gainsboro> every </font><font size = 1, color=gainsboro> day-everything </font><font size = 1, color=gainsboro> taking </font><font size = 1, color=gainsboro> on </font><font size = 1, color=gainsboro> a </font><font size = 1, color=gainsboro> different </font><font size = 1, color=gainsboro> connotation </font><font size = 1, color=gainsboro> at </font><font size = 1, color=gainsboro> each </font><font size = 1, color=gainsboro> viewing </font><font size = 1, color=gainsboro> and </font><font size = 1, color=gainsboro> occasionally </font><font size = 1, color=gainsboro> seeming </font><font size = 1, color=gainsboro> the </font><font size = 3, color=blue> best </font><font size = 1, color=gainsboro> thing </font><font size = 1, color=gainsboro> he </font><font size = 1, color=gainsboro> ever </font><font size = 1, color=gainsboro> did </font><font size = 1, color=gainsboro> and </font><font size = 1, color=gainsboro> occasionally </font><font size = 1, color=gainsboro> the </font><font size = 2, color=lightgreen> worst </font><font size = 1, color=gainsboro> until </font><font size = 1, color=gainsboro> the </font><font size = 1, color=gainsboro> cycle </font><font size = 1, color=gainsboro> comes </font><font size = 1, color=gainsboro> around </font><font size = 1, color=gainsboro> again, </font><font size = 1, color=gainsboro> but </font><font size = 1, color=gainsboro> there </font><font size = 1, color=gainsboro> are </font><font size = 1, color=gainsboro> a </font><font size = 1, color=gainsboro> couple </font><font size = 1, color=gainsboro> thing </font><font size = 1, color=gainsboro> that </font><font size = 1, color=gainsboro> are </font><font size = 1, color=gainsboro> beyond </font><font size = 1, color=gainsboro> comparison. </font><font size = 1, color=gainsboro> when </font><font size = 1, color=gainsboro> it </font><font size = 1, color=gainsboro> comes </font><font size = 1, color=gainsboro> to </font><font size = 1, color=gainsboro> movie, </font><font size = 1, color=gainsboro> \"the </font><font size = 1, color=gainsboro> man </font><font size = 1, color=gainsboro> with </font><font size = 1, color=gainsboro> the </font><font size = 1, color=gainsboro> golden </font><font size = 1, color=gainsboro> arm\" </font><font size = 1, color=gainsboro> head </font><font size = 1, color=gainsboro> that </font><font size = 1, color=gainsboro> list. </font><font size = 1, color=gainsboro> everybody </font><font size = 1, color=gainsboro> who </font><font size = 1, color=gainsboro> know </font><font size = 1, color=gainsboro> anything </font><font size = 1, color=gainsboro> about </font><font size = 1, color=gainsboro> sinatra </font><font size = 1, color=gainsboro> know </font><font size = 1, color=gainsboro> he </font><font size = 1, color=gainsboro> thought </font><font size = 1, color=gainsboro> this </font><font size = 1, color=gainsboro> was </font><font size = 1, color=gainsboro> his </font><font size = 3, color=blue> best-ever </font><font size = 1, color=gainsboro> performance; </font><font size = 1, color=gainsboro> he </font><font size = 1, color=gainsboro> was </font><font size = 1, color=gainsboro> oscar-nominated; </font><font size = 1, color=gainsboro> it </font><font size = 1, color=gainsboro> was </font><font size = 1, color=gainsboro> the </font><font size = 1, color=gainsboro> first </font><font size = 1, color=gainsboro> serious </font><font size = 1, color=gainsboro> look </font><font size = 1, color=gainsboro> at </font><font size = 1, color=gainsboro> drug </font><font size = 1, color=gainsboro> addiction; </font><font size = 1, color=gainsboro> etc.,etc. </font><font size = 1, color=gainsboro> the </font><font size = 1, color=gainsboro> jazz </font><font size = 1, color=gainsboro> score </font><font size = 1, color=gainsboro> is </font><font size = 1, color=gainsboro> unforgettable, </font><font size = 1, color=gainsboro> kim </font><font size = 1, color=gainsboro> novak's </font><font size = 1, color=gainsboro> likable </font><font size = 1, color=gainsboro> despite </font><font size = 1, color=gainsboro> a </font><font size = 1, color=gainsboro> ludicrous </font><font size = 1, color=gainsboro> accent, </font><font size = 1, color=gainsboro> eleanor </font><font size = 1, color=gainsboro> parker </font><font size = 1, color=gainsboro> is </font><font size = 2, color=lightgreen> annoying </font><font size = 1, color=gainsboro> and </font><font size = 1, color=gainsboro> waaaay </font><font size = 1, color=gainsboro> too </font><font size = 1, color=gainsboro> dramatic, </font><font size = 1, color=gainsboro> the </font><font size = 1, color=gainsboro> turtle-like </font><font size = 1, color=gainsboro> arnold </font><font size = 1, color=gainsboro> stang </font><font size = 1, color=gainsboro> is </font><font size = 1, color=gainsboro> amusing </font><font size = 1, color=gainsboro> the </font><font size = 1, color=gainsboro> first </font><font size = 1, color=gainsboro> time </font><font size = 1, color=gainsboro> but </font><font size = 1, color=gainsboro> more </font><font size = 1, color=gainsboro> embarrassing </font><font size = 1, color=gainsboro> every </font><font size = 1, color=gainsboro> time </font><font size = 1, color=gainsboro> out, </font><font size = 1, color=gainsboro> and </font><font size = 1, color=gainsboro> darren </font><font size = 1, color=gainsboro> mcgavin </font><font size = 1, color=gainsboro> makes </font><font size = 1, color=gainsboro> a </font><font size = 3, color=blue> wonderfully </font><font size = 1, color=gainsboro> slimy </font><font size = 1, color=gainsboro> drug </font><font size = 1, color=gainsboro> dealer, </font><font size = 1, color=gainsboro> the </font><font size = 1, color=gainsboro> set </font><font size = 1, color=gainsboro> are </font><font size = 1, color=gainsboro> unconvincing </font><font size = 1, color=gainsboro> - </font><font size = 1, color=gainsboro> at </font><font size = 1, color=gainsboro> first </font><font size = 1, color=gainsboro> glance </font><font size = 1, color=gainsboro> it </font><font size = 1, color=gainsboro> seems </font><font size = 1, color=gainsboro> a </font><font size = 1, color=gainsboro> peculiar </font><font size = 1, color=gainsboro> mixed </font><font size = 1, color=gainsboro> bag </font><font size = 1, color=gainsboro> tossed </font><font size = 1, color=gainsboro> together </font><font size = 1, color=gainsboro> by </font><font size = 1, color=gainsboro> the </font><font size = 3, color=blue> great </font><font size = 1, color=gainsboro> otto </font><font size = 1, color=gainsboro> preminger </font><font size = 1, color=gainsboro> with </font><font size = 1, color=gainsboro> an </font><font size = 1, color=gainsboro> off-center </font><font size = 1, color=gainsboro> charm. </font><font size = 1, color=gainsboro> then </font><font size = 1, color=gainsboro> you </font><font size = 1, color=gainsboro> come </font><font size = 1, color=gainsboro> to </font><font size = 1, color=gainsboro> sinatra. </font><font size = 1, color=gainsboro> like </font><font size = 1, color=gainsboro> everything </font><font size = 1, color=gainsboro> else </font><font size = 1, color=gainsboro> in </font><font size = 1, color=gainsboro> his </font><font size = 1, color=gainsboro> life </font><font size = 1, color=gainsboro> - </font><font size = 1, color=gainsboro> other </font><font size = 1, color=gainsboro> than </font><font size = 1, color=gainsboro> music </font><font size = 1, color=gainsboro> - </font><font size = 1, color=gainsboro> report </font><font size = 1, color=gainsboro> of </font><font size = 1, color=gainsboro> his </font><font size = 1, color=gainsboro> acting </font><font size = 1, color=gainsboro> are </font><font size = 1, color=gainsboro> alway </font><font size = 1, color=gainsboro> divided </font><font size = 1, color=gainsboro> in </font><font size = 1, color=gainsboro> half. </font><font size = 1, color=gainsboro> director </font><font size = 1, color=gainsboro> like </font><font size = 1, color=gainsboro> fred </font><font size = 1, color=gainsboro> zinnemann, </font><font size = 1, color=gainsboro> frank </font><font size = 1, color=gainsboro> capra, </font><font size = 1, color=gainsboro> billy </font><font size = 1, color=gainsboro> wilder, </font><font size = 1, color=gainsboro> stanley </font><font size = 1, color=gainsboro> kramer, </font><font size = 1, color=gainsboro> martin </font><font size = 1, color=gainsboro> scorsese, </font><font size = 1, color=gainsboro> peter </font><font size = 1, color=gainsboro> bogdanovich, </font><font size = 1, color=gainsboro> and </font><font size = 1, color=gainsboro> otto </font><font size = 1, color=gainsboro> preminger, </font><font size = 1, color=gainsboro> all </font><font size = 1, color=gainsboro> agreed </font><font size = 1, color=gainsboro> that </font><font size = 1, color=gainsboro> had </font><font size = 1, color=gainsboro> sinatra </font><font size = 1, color=gainsboro> worked </font><font size = 1, color=gainsboro> as </font><font size = 1, color=gainsboro> hard </font><font size = 1, color=gainsboro> on </font><font size = 1, color=gainsboro> his </font><font size = 1, color=gainsboro> film </font><font size = 1, color=gainsboro> as </font><font size = 1, color=gainsboro> he </font><font size = 1, color=gainsboro> did </font><font size = 1, color=gainsboro> on </font><font size = 1, color=gainsboro> singing, </font><font size = 1, color=gainsboro> he </font><font size = 1, color=gainsboro> had </font><font size = 1, color=gainsboro> have </font><font size = 1, color=gainsboro> been </font><font size = 1, color=gainsboro> among </font><font size = 1, color=gainsboro> the </font><font size = 1, color=gainsboro> greatest </font><font size = 1, color=gainsboro> actor </font><font size = 1, color=gainsboro> in </font><font size = 1, color=gainsboro> the </font><font size = 1, color=gainsboro> world </font><font size = 1, color=gainsboro> - </font><font size = 1, color=gainsboro> if </font><font size = 1, color=gainsboro> not </font><font size = 1, color=gainsboro> the </font><font size = 1, color=gainsboro> greatest. </font><font size = 1, color=gainsboro> humphrey </font><font size = 1, color=gainsboro> bogart </font><font size = 1, color=gainsboro> even </font><font size = 1, color=gainsboro> said,\"this </font><font size = 1, color=gainsboro> guy </font><font size = 1, color=gainsboro> has </font><font size = 1, color=gainsboro> the </font><font size = 1, color=gainsboro> most </font><font size = 1, color=gainsboro> natural </font><font size = 1, color=gainsboro> acting </font><font size = 1, color=gainsboro> talent </font><font size = 1, color=gainsboro> i </font><font size = 1, color=gainsboro> have </font><font size = 1, color=gainsboro> ever </font><font size = 1, color=gainsboro> seen.\" </font><font size = 1, color=gainsboro> not </font><font size = 2, color=lightgreen> bad </font><font size = 1, color=gainsboro> for </font><font size = 1, color=gainsboro> a </font><font size = 1, color=gainsboro> man </font><font size = 1, color=gainsboro> who </font><font size = 1, color=gainsboro> never </font><font size = 1, color=gainsboro> took </font><font size = 1, color=gainsboro> an </font><font size = 1, color=gainsboro> acting </font><font size = 1, color=gainsboro> lesson </font><font size = 1, color=gainsboro> in </font><font size = 1, color=gainsboro> his </font><font size = 1, color=gainsboro> life, </font><font size = 1, color=gainsboro> was </font><font size = 1, color=gainsboro> at </font><font size = 1, color=gainsboro> the </font><font size = 1, color=gainsboro> same </font><font size = 1, color=gainsboro> time </font><font size = 1, color=gainsboro> producing </font><font size = 1, color=gainsboro> the </font><font size = 1, color=gainsboro> discography </font><font size = 1, color=gainsboro> that </font><font size = 1, color=gainsboro> would </font><font size = 1, color=gainsboro> make </font><font size = 1, color=gainsboro> him </font><font size = 1, color=gainsboro> \"the </font><font size = 1, color=gainsboro> greatest </font><font size = 1, color=gainsboro> singer </font><font size = 1, color=gainsboro> of </font><font size = 1, color=gainsboro> the </font><font size = 1, color=gainsboro> 20th </font><font size = 1, color=gainsboro> century,\" </font><font size = 1, color=gainsboro> and </font><font size = 1, color=gainsboro> did </font><font size = 1, color=gainsboro> almost </font><font size = 1, color=gainsboro> all </font><font size = 1, color=gainsboro> his </font><font size = 1, color=gainsboro> scene </font><font size = 1, color=gainsboro> in </font><font size = 1, color=gainsboro> one </font><font size = 1, color=gainsboro> take. </font><font size = 1, color=gainsboro> in </font><font size = 1, color=gainsboro> direct </font><font size = 1, color=gainsboro> conflict </font><font size = 1, color=gainsboro> with </font><font size = 1, color=gainsboro> all </font><font size = 1, color=gainsboro> of </font><font size = 1, color=gainsboro> this </font><font size = 1, color=gainsboro> are </font><font size = 1, color=gainsboro> those </font><font size = 1, color=gainsboro> other </font><font size = 1, color=gainsboro> review </font><font size = 1, color=gainsboro> and </font><font size = 1, color=gainsboro> biography </font><font size = 1, color=gainsboro> that </font><font size = 1, color=gainsboro> sniff </font><font size = 1, color=gainsboro> haughtily </font><font size = 1, color=gainsboro> about </font><font size = 1, color=gainsboro> what </font><font size = 1, color=gainsboro> a </font><font size = 2, color=lightgreen> lousy </font><font size = 1, color=gainsboro> actor </font><font size = 1, color=gainsboro> was </font><font size = 1, color=gainsboro> this </font><font size = 1, color=gainsboro> mr.sinatra, </font><font size = 1, color=gainsboro> and </font><font size = 1, color=gainsboro> how </font><font size = 1, color=gainsboro> many </font><font size = 2, color=lightgreen> \"bad\" </font><font size = 1, color=gainsboro> movie </font><font size = 1, color=gainsboro> he </font><font size = 1, color=gainsboro> made. </font><font size = 1, color=gainsboro> the </font><font size = 1, color=gainsboro> question </font><font size = 1, color=gainsboro> will </font><font size = 1, color=gainsboro> never </font><font size = 1, color=gainsboro> be </font><font size = 1, color=gainsboro> answered </font><font size = 1, color=gainsboro> to </font><font size = 1, color=gainsboro> everyone's </font><font size = 1, color=gainsboro> satisfaction </font><font size = 1, color=gainsboro> because </font><font size = 1, color=gainsboro> controversy </font><font size = 1, color=gainsboro> was </font><font size = 1, color=gainsboro> among </font><font size = 1, color=gainsboro> sinatra's </font><font size = 1, color=gainsboro> greatest </font><font size = 1, color=gainsboro> asset, </font><font size = 1, color=gainsboro> and </font><font size = 1, color=gainsboro> both </font><font size = 1, color=gainsboro> argument </font><font size = 1, color=gainsboro> were </font><font size = 1, color=gainsboro> in </font><font size = 1, color=gainsboro> a </font><font size = 1, color=gainsboro> sense </font><font size = 1, color=gainsboro> playing </font><font size = 1, color=gainsboro> into </font><font size = 1, color=gainsboro> his </font><font size = 1, color=gainsboro> hand. </font><font size = 1, color=gainsboro> in </font><font size = 1, color=gainsboro> any </font><font size = 1, color=gainsboro> case, </font><font size = 1, color=gainsboro> at </font><font size = 1, color=gainsboro> this </font><font size = 1, color=gainsboro> time, </font><font size = 1, color=gainsboro> in </font><font size = 1, color=gainsboro> this </font><font size = 1, color=gainsboro> role, </font><font size = 1, color=gainsboro> sinatra </font><font size = 1, color=gainsboro> is </font><font size = 1, color=gainsboro> magnificent. </font><font size = 1, color=gainsboro> a </font><font size = 1, color=gainsboro> reviewer </font><font size = 1, color=gainsboro> said </font><font size = 1, color=gainsboro> in </font><font size = 1, color=gainsboro> the </font><font size = 1, color=gainsboro> late </font><font size = 1, color=gainsboro> fifty,\"sinatra </font><font size = 1, color=gainsboro> may </font><font size = 1, color=gainsboro> not </font><font size = 1, color=gainsboro> be </font><font size = 1, color=gainsboro> the </font><font size = 1, color=gainsboro> greatest </font><font size = 1, color=gainsboro> actor </font><font size = 1, color=gainsboro> in </font><font size = 1, color=gainsboro> the </font><font size = 1, color=gainsboro> world, </font><font size = 1, color=gainsboro> but </font><font size = 1, color=gainsboro> there </font><font size = 1, color=gainsboro> is </font><font size = 1, color=gainsboro> none </font><font size = 1, color=gainsboro> more </font><font size = 3, color=blue> fascinating </font><font size = 1, color=gainsboro> to </font><font size = 1, color=gainsboro> watch.\" </font><font size = 1, color=gainsboro> no </font><font size = 1, color=gainsboro> matter </font><font size = 1, color=gainsboro> what </font><font size = 1, color=gainsboro> sinatra </font><font size = 1, color=gainsboro> is </font><font size = 1, color=gainsboro> doing </font><font size = 1, color=gainsboro> in </font><font size = 1, color=gainsboro> a </font><font size = 1, color=gainsboro> film, </font><font size = 1, color=gainsboro> it </font><font size = 1, color=gainsboro> is </font><font size = 1, color=gainsboro> hard </font><font size = 1, color=gainsboro> to </font><font size = 1, color=gainsboro> take </font><font size = 1, color=gainsboro> your </font><font size = 1, color=gainsboro> eye </font><font size = 1, color=gainsboro> off </font><font size = 1, color=gainsboro> him. </font><font size = 1, color=gainsboro> this, </font><font size = 1, color=gainsboro> of </font><font size = 1, color=gainsboro> course, </font><font size = 1, color=gainsboro> is </font><font size = 1, color=gainsboro> a </font><font size = 1, color=gainsboro> \"charisma,\" </font><font size = 1, color=gainsboro> that </font><font size = 1, color=gainsboro> i </font><font size = 1, color=gainsboro> have </font><font size = 1, color=gainsboro> only </font><font size = 1, color=gainsboro> seen </font><font size = 1, color=gainsboro> in </font><font size = 1, color=gainsboro> a </font><font size = 1, color=gainsboro> handful </font><font size = 1, color=gainsboro> of </font><font size = 1, color=gainsboro> other </font><font size = 1, color=gainsboro> people-orson </font><font size = 1, color=gainsboro> welle, </font><font size = 1, color=gainsboro> richard </font><font size = 1, color=gainsboro> burton, </font><font size = 1, color=gainsboro> marlon </font><font size = 1, color=gainsboro> brando, </font><font size = 1, color=gainsboro> montgomery </font><font size = 1, color=gainsboro> clift-perhaps </font><font size = 1, color=gainsboro> jame </font><font size = 1, color=gainsboro> cagney. </font><font size = 1, color=gainsboro> there </font><font size = 1, color=gainsboro> is </font><font size = 1, color=gainsboro> no </font><font size = 1, color=gainsboro> real </font><font size = 1, color=gainsboro> definition </font><font size = 1, color=gainsboro> for </font><font size = 1, color=gainsboro> it </font><font size = 1, color=gainsboro> and </font><font size = 1, color=gainsboro> it </font><font size = 1, color=gainsboro> often </font><font size = 1, color=gainsboro> makes </font><font size = 1, color=gainsboro> it </font><font size = 1, color=gainsboro> hard </font><font size = 1, color=gainsboro> to </font><font size = 1, color=gainsboro> figure </font><font size = 1, color=gainsboro> out </font><font size = 1, color=gainsboro> whether </font><font size = 1, color=gainsboro> you </font><font size = 1, color=gainsboro> are </font><font size = 1, color=gainsboro> really </font><font size = 1, color=gainsboro> enjoying </font><font size = 1, color=gainsboro> a </font><font size = 1, color=gainsboro> performance </font><font size = 1, color=gainsboro> or </font><font size = 1, color=gainsboro> just </font><font size = 1, color=gainsboro> spellbound, </font><font size = 1, color=gainsboro> but </font><font size = 1, color=gainsboro> that </font><font size = 1, color=gainsboro> quality </font><font size = 1, color=gainsboro> on </font><font size = 1, color=gainsboro> display </font><font size = 1, color=gainsboro> here </font><font size = 1, color=gainsboro> is </font><font size = 1, color=gainsboro> what </font><font size = 1, color=gainsboro> makes </font><font size = 1, color=gainsboro> the </font><font size = 1, color=gainsboro> movie. </font><font size = 1, color=gainsboro> sinatra </font><font size = 1, color=gainsboro> is </font><font size = 1, color=gainsboro> downright </font><font size = 1, color=gainsboro> riveting, </font><font size = 1, color=gainsboro> real, </font><font size = 1, color=gainsboro> intense </font><font size = 1, color=gainsboro> - </font><font size = 1, color=gainsboro> transcending </font><font size = 1, color=gainsboro> decade </font><font size = 1, color=gainsboro> and </font><font size = 1, color=gainsboro> thousand </font><font size = 1, color=gainsboro> of </font><font size = 1, color=gainsboro> paper-doll </font><font size = 1, color=gainsboro> pop </font><font size = 1, color=gainsboro> star </font><font size = 1, color=gainsboro> with </font><font size = 1, color=gainsboro> something </font><font size = 1, color=gainsboro> called </font><font size = 1, color=gainsboro> quality. </font><font size = 1, color=gainsboro> like </font><font size = 1, color=gainsboro> it </font><font size = 1, color=gainsboro> or </font><font size = 1, color=gainsboro> not, </font><font size = 1, color=gainsboro> this </font><font size = 1, color=gainsboro> is </font><font size = 1, color=gainsboro> a </font><font size = 1, color=gainsboro> one-man </font><font size = 1, color=gainsboro> show </font><font size = 1, color=gainsboro> with </font><font size = 1, color=gainsboro> a </font><font size = 1, color=gainsboro> few </font><font size = 1, color=gainsboro> character </font><font size = 1, color=gainsboro> actor </font><font size = 1, color=gainsboro> hanging </font><font size = 1, color=gainsboro> around </font><font size = 1, color=gainsboro> in </font><font size = 1, color=gainsboro> the </font><font size = 1, color=gainsboro> background. </font><font size = 1, color=gainsboro> he </font><font size = 1, color=gainsboro> covers </font><font size = 1, color=gainsboro> every </font><font size = 1, color=gainsboro> emotion </font><font size = 1, color=gainsboro> with </font><font size = 1, color=gainsboro> remarkable </font><font size = 1, color=gainsboro> subtlety, </font><font size = 1, color=gainsboro> from </font><font size = 1, color=gainsboro> sweet, </font><font size = 1, color=gainsboro> lonely </font><font size = 1, color=gainsboro> tenderness </font><font size = 1, color=gainsboro> with </font><font size = 1, color=gainsboro> kim </font><font size = 1, color=gainsboro> novak </font><font size = 1, color=gainsboro> to </font><font size = 1, color=gainsboro> the </font><font size = 1, color=gainsboro> terrifying </font><font size = 1, color=gainsboro> shock </font><font size = 1, color=gainsboro> of </font><font size = 1, color=gainsboro> frank </font><font size = 1, color=gainsboro> sinatra </font><font size = 1, color=gainsboro> (frank </font><font size = 1, color=gainsboro> sinatra!) </font><font size = 1, color=gainsboro> whimpering </font><font size = 1, color=gainsboro> and </font><font size = 1, color=gainsboro> screaming </font><font size = 1, color=gainsboro> in </font><font size = 1, color=gainsboro> the </font><font size = 1, color=gainsboro> agony </font><font size = 1, color=gainsboro> of </font><font size = 1, color=gainsboro> \"cold </font><font size = 1, color=gainsboro> turkey.\" </font><font size = 1, color=gainsboro> sinatra </font><font size = 1, color=gainsboro> was </font><font size = 1, color=gainsboro> right </font><font size = 1, color=gainsboro> - </font><font size = 1, color=gainsboro> this </font><font size = 1, color=gainsboro> is </font><font size = 1, color=gainsboro> his </font><font size = 3, color=blue> best </font><font size = 1, color=gainsboro> performance. </font><font size = 1, color=gainsboro> no </font><font size = 1, color=gainsboro> question. </font><font size = 1, color=gainsboro> i </font><font size = 1, color=gainsboro> was </font><font size = 1, color=gainsboro> eight </font><font size = 1, color=gainsboro> when </font><font size = 1, color=gainsboro> frank </font><font size = 1, color=gainsboro> sinatra </font><font size = 1, color=gainsboro> died. </font><font size = 1, color=gainsboro> i </font><font size = 1, color=gainsboro> was </font><font size = 1, color=gainsboro> not </font><font size = 1, color=gainsboro> around </font><font size = 1, color=gainsboro> for </font><font size = 1, color=gainsboro> all </font><font size = 1, color=gainsboro> the </font><font size = 1, color=gainsboro> year </font><font size = 1, color=gainsboro> of </font><font size = 1, color=gainsboro> bobby-soxer </font><font size = 1, color=gainsboro> and </font><font size = 1, color=gainsboro> ''anchor </font><font size = 1, color=gainsboro> aweigh,'' </font><font size = 1, color=gainsboro> mr. </font><font size = 1, color=gainsboro> ava </font><font size = 1, color=gainsboro> gardner </font><font size = 1, color=gainsboro> and </font><font size = 1, color=gainsboro> ''from </font><font size = 1, color=gainsboro> here </font><font size = 1, color=gainsboro> to </font><font size = 1, color=gainsboro> eternity,\" </font><font size = 1, color=gainsboro> albums </font><font size = 1, color=gainsboro> with </font><font size = 1, color=gainsboro> lamp </font><font size = 1, color=gainsboro> post </font><font size = 1, color=gainsboro> and </font><font size = 1, color=gainsboro> ''swingin' </font><font size = 1, color=gainsboro> lover,\" </font><font size = 1, color=gainsboro> kennedy, </font><font size = 1, color=gainsboro> vegas, </font><font size = 1, color=gainsboro> ring-a- </font><font size = 1, color=gainsboro> ding </font><font size = 1, color=gainsboro> ding. </font><font size = 1, color=gainsboro> basie </font><font size = 1, color=gainsboro> and </font><font size = 1, color=gainsboro> mia </font><font size = 1, color=gainsboro> and </font><font size = 1, color=gainsboro> reagan </font><font size = 1, color=gainsboro> and </font><font size = 1, color=gainsboro> concert </font><font size = 1, color=gainsboro> from </font><font size = 1, color=gainsboro> madison </font><font size = 1, color=gainsboro> square </font><font size = 1, color=gainsboro> garden </font><font size = 1, color=gainsboro> to </font><font size = 1, color=gainsboro> south </font><font size = 1, color=gainsboro> africa </font><font size = 1, color=gainsboro> to </font><font size = 1, color=gainsboro> the </font><font size = 1, color=gainsboro> white </font><font size = 1, color=gainsboro> house </font><font size = 1, color=gainsboro> to </font><font size = 1, color=gainsboro> the </font><font size = 1, color=gainsboro> sand. </font><font size = 1, color=gainsboro> i </font><font size = 1, color=gainsboro> can </font><font size = 1, color=gainsboro> not </font><font size = 1, color=gainsboro> say </font><font size = 1, color=gainsboro> i </font><font size = 1, color=gainsboro> like </font><font size = 1, color=gainsboro> sinatra </font><font size = 1, color=gainsboro> because </font><font size = 1, color=gainsboro> i </font><font size = 1, color=gainsboro> heard </font><font size = 1, color=gainsboro> him </font><font size = 1, color=gainsboro> at </font><font size = 1, color=gainsboro> the </font><font size = 1, color=gainsboro> paramount </font><font size = 1, color=gainsboro> or </font><font size = 1, color=gainsboro> because </font><font size = 1, color=gainsboro> i </font><font size = 1, color=gainsboro> hear </font><font size = 1, color=gainsboro> \"september </font><font size = 1, color=gainsboro> of </font><font size = 1, color=gainsboro> my </font><font size = 1, color=gainsboro> year\" </font><font size = 1, color=gainsboro> autobiographically-the </font><font size = 1, color=gainsboro> usual </font><font size = 1, color=gainsboro> excuse. </font><font size = 1, color=gainsboro> and </font><font size = 1, color=gainsboro> my </font><font size = 1, color=gainsboro> excuse? </font><font size = 1, color=gainsboro> when </font><font size = 1, color=gainsboro> i </font><font size = 1, color=gainsboro> was </font><font size = 1, color=gainsboro> eleven </font><font size = 1, color=gainsboro> i </font><font size = 1, color=gainsboro> watched </font><font size = 1, color=gainsboro> a </font><font size = 1, color=gainsboro> movie </font><font size = 1, color=gainsboro> called </font><font size = 1, color=gainsboro> \"on </font><font size = 1, color=gainsboro> the </font><font size = 1, color=gainsboro> town\"... </font>"
      ],
      "text/plain": [
       "<__main__.ColoredWeightedDoc at 0x1d142224550>"
      ]
     },
     "metadata": {},
     "output_type": "display_data"
    }
   ],
   "source": [
    "from IPython import display\n",
    "idx = 11050\n",
    "# idx = 9002\n",
    "bm = base_model.predict(X_test[idx])\n",
    "        \n",
    "cm = combined_model.predict([X_test[idx], \n",
    "                             np.reshape(y_test_agreement[idx], (1,y_test_agreement.shape[1]))])\n",
    "        \n",
    "layer_name = 'concatenate'\n",
    "concat_after_relu = Model(inputs=combined_model.input,\n",
    "                          outputs=combined_model.get_layer(layer_name).output)\n",
    "concat_output = concat_after_relu.predict([X_test[idx], np.reshape(y_test_agreement[idx], (1,y_test_agreement.shape[1]))])\n",
    "        \n",
    "print('actual label : ', y_test_original[idx], '\\npredict from base model : ', bm.flatten(), '\\npredict label : ', cm.flatten())\n",
    "print()\n",
    "for i,output in enumerate(concat_output.flatten()):\n",
    "    if output != 0:\n",
    "        print(word_list[i], output)\n",
    "\n",
    "\n",
    "ht_weight = concat_output.flatten()\n",
    "display.display(ColoredWeightedDoc(X_test_original[idx], word_list, ht_weight, binary = False))"
   ]
  },
  {
   "cell_type": "code",
   "execution_count": 125,
   "metadata": {},
   "outputs": [
    {
     "name": "stdout",
     "output_type": "stream",
     "text": [
      "actual label :  1 \n",
      "predict from base model :  [-1.] \n",
      "predict label :  [8.4540716e-36]\n",
      "\n",
      "avoid 4.1246505 0\n",
      "bad 3.54954 0\n",
      "boring 3.6333165 0\n",
      "dull 4.256631 0\n",
      "funny 3.3598797 0\n",
      "pointless 4.2227383 0\n",
      "worst 4.2214837 0\n"
     ]
    },
    {
     "data": {
      "text/html": [
       "<font size = 1, color=gainsboro> 10 </font><font size = 1, color=gainsboro> respected </font><font size = 1, color=gainsboro> director </font><font size = 1, color=gainsboro> each </font><font size = 1, color=gainsboro> shot </font><font size = 1, color=gainsboro> a </font><font size = 1, color=gainsboro> short </font><font size = 1, color=gainsboro> film </font><font size = 1, color=gainsboro> with </font><font size = 1, color=gainsboro> operatic </font><font size = 1, color=gainsboro> aria </font><font size = 1, color=gainsboro> as </font><font size = 1, color=gainsboro> the </font><font size = 1, color=gainsboro> inspiration </font><font size = 1, color=gainsboro> (and </font><font size = 1, color=gainsboro> music). </font><font size = 1, color=gainsboro> i </font><font size = 1, color=gainsboro> will </font><font size = 1, color=gainsboro> do </font><font size = 1, color=gainsboro> each </font><font size = 1, color=gainsboro> one </font><font size = 1, color=gainsboro> separately:nicola </font><font size = 1, color=gainsboro> roeg </font><font size = 1, color=gainsboro> (dir)--giuseppe </font><font size = 1, color=gainsboro> verdi </font><font size = 1, color=gainsboro> (music). </font><font size = 1, color=gainsboro> a </font><font size = 1, color=gainsboro> story </font><font size = 1, color=gainsboro> about </font><font size = 1, color=gainsboro> an </font><font size = 1, color=gainsboro> assassination </font><font size = 1, color=gainsboro> attempt </font><font size = 1, color=gainsboro> in </font><font size = 1, color=gainsboro> 1931 </font><font size = 1, color=gainsboro> vienna. </font><font size = 1, color=gainsboro> there </font><font size = 1, color=gainsboro> isa </font><font size = 1, color=gainsboro> russell </font><font size = 1, color=gainsboro> (roegs </font><font size = 1, color=gainsboro> wife) </font><font size = 1, color=gainsboro> plays </font><font size = 1, color=gainsboro> a </font><font size = 1, color=gainsboro> man! </font><font size = 1, color=gainsboro> not </font><font size = 3, color=blue> bad--very </font><font size = 2, color=lightgreen> beautiful </font><font size = 1, color=gainsboro> and </font><font size = 1, color=gainsboro> exotic. </font><font size = 1, color=gainsboro> russell </font><font size = 1, color=gainsboro> is </font><font size = 2, color=lightgreen> great.charle </font><font size = 1, color=gainsboro> sturridge--verdi. </font><font size = 1, color=gainsboro> no </font><font size = 1, color=gainsboro> story </font><font size = 1, color=gainsboro> but </font><font size = 1, color=gainsboro> there </font><font size = 1, color=gainsboro> is </font><font size = 1, color=gainsboro> some </font><font size = 1, color=gainsboro> haunting </font><font size = 1, color=gainsboro> black </font><font size = 1, color=gainsboro> and </font><font size = 1, color=gainsboro> white </font><font size = 1, color=gainsboro> imagery </font><font size = 1, color=gainsboro> that </font><font size = 1, color=gainsboro> fits </font><font size = 2, color=lightgreen> perfectly </font><font size = 1, color=gainsboro> with </font><font size = 1, color=gainsboro> the </font><font size = 1, color=gainsboro> music.jean-luc </font><font size = 1, color=gainsboro> godard--jean </font><font size = 1, color=gainsboro> baptiste </font><font size = 1, color=gainsboro> lully. </font><font size = 1, color=gainsboro> horrendous. </font><font size = 3, color=blue> pointless, </font><font size = 3, color=blue> boring, </font><font size = 1, color=gainsboro> no </font><font size = 1, color=gainsboro> plot, </font><font size = 1, color=gainsboro> no </font><font size = 1, color=gainsboro> nothing. </font><font size = 1, color=gainsboro> filled </font><font size = 1, color=gainsboro> with </font><font size = 1, color=gainsboro> gratuitous </font><font size = 1, color=gainsboro> female </font><font size = 1, color=gainsboro> nudity. </font><font size = 1, color=gainsboro> the </font><font size = 3, color=blue> worst!julien </font><font size = 1, color=gainsboro> temple--verdi. </font><font size = 1, color=gainsboro> buck </font><font size = 1, color=gainsboro> henry, </font><font size = 1, color=gainsboro> beverly </font><font size = 1, color=gainsboro> d'angelo </font><font size = 1, color=gainsboro> and </font><font size = 1, color=gainsboro> anita </font><font size = 1, color=gainsboro> morris </font><font size = 1, color=gainsboro> star </font><font size = 1, color=gainsboro> in </font><font size = 1, color=gainsboro> this </font><font size = 3, color=blue> funny, </font><font size = 1, color=gainsboro> if </font><font size = 1, color=gainsboro> obvious, </font><font size = 1, color=gainsboro> story </font><font size = 1, color=gainsboro> about </font><font size = 1, color=gainsboro> a </font><font size = 1, color=gainsboro> cheating </font><font size = 1, color=gainsboro> couple. </font><font size = 1, color=gainsboro> pretty </font><font size = 1, color=gainsboro> good.bruce </font><font size = 1, color=gainsboro> beresford--erich </font><font size = 1, color=gainsboro> korngold. </font><font size = 1, color=gainsboro> short, </font><font size = 1, color=gainsboro> lush </font><font size = 1, color=gainsboro> and </font><font size = 1, color=gainsboro> romantic. </font><font size = 1, color=gainsboro> very </font><font size = 1, color=gainsboro> good.robert </font><font size = 1, color=gainsboro> altman--jean-philippe </font><font size = 1, color=gainsboro> rameau. </font><font size = 3, color=blue> dull. </font><font size = 1, color=gainsboro> a </font><font size = 1, color=gainsboro> yawner.fran </font><font size = 1, color=gainsboro> roddam--richard </font><font size = 1, color=gainsboro> wagner. </font><font size = 1, color=gainsboro> this </font><font size = 1, color=gainsboro> has </font><font size = 1, color=gainsboro> bridget </font><font size = 1, color=gainsboro> fonda </font><font size = 1, color=gainsboro> in </font><font size = 1, color=gainsboro> her </font><font size = 1, color=gainsboro> film </font><font size = 1, color=gainsboro> debut. </font><font size = 2, color=lightgreen> beautifully </font><font size = 1, color=gainsboro> done </font><font size = 1, color=gainsboro> love </font><font size = 1, color=gainsboro> story </font><font size = 1, color=gainsboro> with </font><font size = 1, color=gainsboro> a </font><font size = 1, color=gainsboro> fairly </font><font size = 1, color=gainsboro> explicit </font><font size = 1, color=gainsboro> sex </font><font size = 1, color=gainsboro> scene. </font><font size = 1, color=gainsboro> ken </font><font size = 1, color=gainsboro> russell--giacomo </font><font size = 1, color=gainsboro> puccini. </font><font size = 1, color=gainsboro> really </font><font size = 1, color=gainsboro> strange </font><font size = 1, color=gainsboro> but </font><font size = 1, color=gainsboro> ok.derek </font><font size = 1, color=gainsboro> jarman--gustave </font><font size = 1, color=gainsboro> chapentier. </font><font size = 1, color=gainsboro> lyrical </font><font size = 1, color=gainsboro> look </font><font size = 1, color=gainsboro> at </font><font size = 1, color=gainsboro> youth </font><font size = 1, color=gainsboro> and </font><font size = 1, color=gainsboro> old </font><font size = 1, color=gainsboro> age. </font><font size = 1, color=gainsboro> very </font><font size = 1, color=gainsboro> sweet. </font><font size = 1, color=gainsboro> the </font><font size = 1, color=gainsboro> last </font><font size = 1, color=gainsboro> is </font><font size = 1, color=gainsboro> by </font><font size = 1, color=gainsboro> bill </font><font size = 1, color=gainsboro> bryden </font><font size = 1, color=gainsboro> doing </font><font size = 1, color=gainsboro> \"i </font><font size = 1, color=gainsboro> pagliacci\". </font><font size = 1, color=gainsboro> he </font><font size = 1, color=gainsboro> has </font><font size = 1, color=gainsboro> john </font><font size = 1, color=gainsboro> hurt </font><font size = 1, color=gainsboro> (!) </font><font size = 1, color=gainsboro> dressed </font><font size = 1, color=gainsboro> as </font><font size = 1, color=gainsboro> a </font><font size = 1, color=gainsboro> clown </font><font size = 1, color=gainsboro> lip-syncing </font><font size = 1, color=gainsboro> to </font><font size = 1, color=gainsboro> caruso </font><font size = 1, color=gainsboro> (!!!).when </font><font size = 1, color=gainsboro> this </font><font size = 1, color=gainsboro> came </font><font size = 1, color=gainsboro> out </font><font size = 1, color=gainsboro> it </font><font size = 1, color=gainsboro> almost </font><font size = 1, color=gainsboro> got </font><font size = 1, color=gainsboro> an </font><font size = 1, color=gainsboro> x </font><font size = 1, color=gainsboro> rating </font><font size = 1, color=gainsboro> (for </font><font size = 1, color=gainsboro> the </font><font size = 1, color=gainsboro> abundant </font><font size = 1, color=gainsboro> nudity </font><font size = 1, color=gainsboro> and </font><font size = 1, color=gainsboro> the </font><font size = 1, color=gainsboro> sex </font><font size = 1, color=gainsboro> scene). </font><font size = 1, color=gainsboro> it </font><font size = 1, color=gainsboro> was </font><font size = 1, color=gainsboro> given </font><font size = 1, color=gainsboro> an </font><font size = 1, color=gainsboro> r </font><font size = 1, color=gainsboro> with </font><font size = 1, color=gainsboro> a </font><font size = 1, color=gainsboro> strict </font><font size = 1, color=gainsboro> warning </font><font size = 1, color=gainsboro> attached </font><font size = 1, color=gainsboro> saying </font><font size = 1, color=gainsboro> the </font><font size = 1, color=gainsboro> r </font><font size = 1, color=gainsboro> rating </font><font size = 1, color=gainsboro> would </font><font size = 1, color=gainsboro> be </font><font size = 1, color=gainsboro> heavily </font><font size = 1, color=gainsboro> enforced. </font><font size = 1, color=gainsboro> after </font><font size = 1, color=gainsboro> the </font><font size = 1, color=gainsboro> film </font><font size = 1, color=gainsboro> bombed </font><font size = 1, color=gainsboro> that </font><font size = 1, color=gainsboro> warning </font><font size = 1, color=gainsboro> disappeared.the </font><font size = 1, color=gainsboro> idea </font><font size = 1, color=gainsboro> is </font><font size = 1, color=gainsboro> not </font><font size = 3, color=blue> bad </font><font size = 1, color=gainsboro> and </font><font size = 1, color=gainsboro> 6 </font><font size = 1, color=gainsboro> out </font><font size = 1, color=gainsboro> of </font><font size = 1, color=gainsboro> the </font><font size = 1, color=gainsboro> 10 </font><font size = 1, color=gainsboro> segment </font><font size = 1, color=gainsboro> were </font><font size = 1, color=gainsboro> worthwhile. </font><font size = 1, color=gainsboro> worth </font><font size = 1, color=gainsboro> seeing </font><font size = 1, color=gainsboro> even </font><font size = 1, color=gainsboro> if </font><font size = 1, color=gainsboro> you </font><font size = 1, color=gainsboro> do </font><font size = 1, color=gainsboro> not </font><font size = 1, color=gainsboro> like </font><font size = 1, color=gainsboro> opera. </font><font size = 1, color=gainsboro> just </font><font size = 3, color=blue> avoid </font><font size = 1, color=gainsboro> the </font><font size = 1, color=gainsboro> godard </font><font size = 1, color=gainsboro> segment. </font><font size = 1, color=gainsboro> i </font><font size = 1, color=gainsboro> am </font><font size = 1, color=gainsboro> giving </font><font size = 1, color=gainsboro> it </font><font size = 1, color=gainsboro> an </font><font size = 1, color=gainsboro> 8. </font>"
      ],
      "text/plain": [
       "<__main__.ColoredWeightedDoc at 0x1d14222d908>"
      ]
     },
     "metadata": {},
     "output_type": "display_data"
    }
   ],
   "source": [
    "from IPython import display\n",
    "idx = 21625\n",
    "# idx = 9002\n",
    "bm = base_model.predict(X_test[idx])\n",
    "        \n",
    "cm = combined_model.predict([X_test[idx], \n",
    "                             np.reshape(y_test_agreement[idx], (1,y_test_agreement.shape[1]))])\n",
    "        \n",
    "layer_name = 'concatenate'\n",
    "concat_after_relu = Model(inputs=combined_model.input,\n",
    "                          outputs=combined_model.get_layer(layer_name).output)\n",
    "concat_output = concat_after_relu.predict([X_test[idx], np.reshape(y_test_agreement[idx], (1,y_test_agreement.shape[1]))])\n",
    "        \n",
    "print('actual label : ', y_test_original[idx], '\\npredict from base model : ', bm.flatten(), '\\npredict label : ', cm.flatten())\n",
    "print()\n",
    "for i,output in enumerate(concat_output.flatten()):\n",
    "    if output != 0:\n",
    "        print(word_list[i], output, connotation[word_list[i]])\n",
    "\n",
    "\n",
    "ht_weight = concat_output.flatten()\n",
    "display.display(ColoredWeightedDoc(X_test_original[idx], word_list, ht_weight, binary = False))"
   ]
  },
  {
   "cell_type": "code",
   "execution_count": 124,
   "metadata": {},
   "outputs": [
    {
     "name": "stdout",
     "output_type": "stream",
     "text": [
      "actual label :  0 \n",
      "predict from base model :  [0.99637777] \n",
      "predict label :  [1.]\n",
      "\n",
      "8/10 3.6608827\n",
      "amazing 3.6945724\n",
      "beautiful 3.1102872\n",
      "best 3.3882768\n",
      "fun 3.2927418\n",
      "solid 3.2650845\n",
      "wonderful 3.3687856\n"
     ]
    },
    {
     "data": {
      "text/html": [
       "<font size = 1, color=gainsboro> the </font><font size = 1, color=gainsboro> following </font><font size = 1, color=gainsboro> \"review\" </font><font size = 1, color=gainsboro> is </font><font size = 1, color=gainsboro> one </font><font size = 1, color=gainsboro> from </font><font size = 1, color=gainsboro> the </font><font size = 1, color=gainsboro> wrong </font><font size = 1, color=gainsboro> side </font><font size = 1, color=gainsboro> of </font><font size = 1, color=gainsboro> the </font><font size = 1, color=gainsboro> track, </font><font size = 1, color=gainsboro> meaning </font><font size = 1, color=gainsboro> two </font><font size = 1, color=gainsboro> thing: </font><font size = 1, color=gainsboro> you </font><font size = 1, color=gainsboro> will </font><font size = 1, color=gainsboro> hear </font><font size = 1, color=gainsboro> nothing </font><font size = 1, color=gainsboro> but </font><font size = 1, color=gainsboro> praise </font><font size = 1, color=gainsboro> coming </font><font size = 1, color=gainsboro> from </font><font size = 1, color=gainsboro> me </font><font size = 1, color=gainsboro> and </font><font size = 1, color=gainsboro> do </font><font size = 1, color=gainsboro> not </font><font size = 1, color=gainsboro> be </font><font size = 1, color=gainsboro> fooled </font><font size = 1, color=gainsboro> by </font><font size = 1, color=gainsboro> my </font><font size = 1, color=gainsboro> rating. </font><font size = 1, color=gainsboro> i </font><font size = 1, color=gainsboro> also </font><font size = 1, color=gainsboro> could </font><font size = 1, color=gainsboro> tell </font><font size = 1, color=gainsboro> you </font><font size = 1, color=gainsboro> that </font><font size = 1, color=gainsboro> this </font><font size = 1, color=gainsboro> review </font><font size = 1, color=gainsboro> contains </font><font size = 1, color=gainsboro> no </font><font size = 1, color=gainsboro> spoiler, </font><font size = 1, color=gainsboro> but </font><font size = 1, color=gainsboro> technically... </font><font size = 1, color=gainsboro> that </font><font size = 1, color=gainsboro> is </font><font size = 1, color=gainsboro> a </font><font size = 1, color=gainsboro> lie.well,... </font><font size = 1, color=gainsboro> screw </font><font size = 1, color=gainsboro> the </font><font size = 1, color=gainsboro> review. </font><font size = 1, color=gainsboro> i </font><font size = 1, color=gainsboro> am </font><font size = 1, color=gainsboro> just </font><font size = 1, color=gainsboro> going </font><font size = 1, color=gainsboro> to </font><font size = 1, color=gainsboro> ramble </font><font size = 1, color=gainsboro> a </font><font size = 1, color=gainsboro> bit. </font><font size = 1, color=gainsboro> it </font><font size = 1, color=gainsboro> has </font><font size = 1, color=gainsboro> been </font><font size = 1, color=gainsboro> a </font><font size = 1, color=gainsboro> while </font><font size = 1, color=gainsboro> since </font><font size = 1, color=gainsboro> i </font><font size = 1, color=gainsboro> had </font><font size = 1, color=gainsboro> so </font><font size = 1, color=gainsboro> much </font><font size = 3, color=blue> fun </font><font size = 1, color=gainsboro> with </font><font size = 1, color=gainsboro> such </font><font size = 1, color=gainsboro> a </font><font size = 2, color=lightgreen> bad </font><font size = 1, color=gainsboro> film. </font><font size = 1, color=gainsboro> and </font><font size = 1, color=gainsboro> if </font><font size = 1, color=gainsboro> you </font><font size = 1, color=gainsboro> cannot </font><font size = 1, color=gainsboro> enjoy </font><font size = 1, color=gainsboro> this </font><font size = 1, color=gainsboro> piece </font><font size = 1, color=gainsboro> of </font><font size = 1, color=gainsboro> utter </font><font size = 1, color=gainsboro> drivel, </font><font size = 1, color=gainsboro> then </font><font size = 1, color=gainsboro> you </font><font size = 1, color=gainsboro> simply </font><font size = 1, color=gainsboro> have </font><font size = 1, color=gainsboro> no </font><font size = 1, color=gainsboro> sense </font><font size = 1, color=gainsboro> of </font><font size = 1, color=gainsboro> humor. </font><font size = 1, color=gainsboro> first </font><font size = 1, color=gainsboro> off, </font><font size = 1, color=gainsboro> this </font><font size = 1, color=gainsboro> movie </font><font size = 1, color=gainsboro> was </font><font size = 1, color=gainsboro> meant </font><font size = 1, color=gainsboro> to </font><font size = 1, color=gainsboro> be </font><font size = 1, color=gainsboro> taken </font><font size = 1, color=gainsboro> seriously, </font><font size = 1, color=gainsboro> and </font><font size = 1, color=gainsboro> that </font><font size = 1, color=gainsboro> is </font><font size = 1, color=gainsboro> the </font><font size = 1, color=gainsboro> main </font><font size = 1, color=gainsboro> aspect </font><font size = 1, color=gainsboro> were </font><font size = 1, color=gainsboro> the </font><font size = 3, color=blue> fun </font><font size = 1, color=gainsboro> is </font><font size = 1, color=gainsboro> coming </font><font size = 1, color=gainsboro> from. </font><font size = 1, color=gainsboro> the </font><font size = 1, color=gainsboro> story? </font><font size = 1, color=gainsboro> a </font><font size = 1, color=gainsboro> doctor's </font><font size = 1, color=gainsboro> son </font><font size = 1, color=gainsboro> is </font><font size = 1, color=gainsboro> terminally </font><font size = 1, color=gainsboro> ill. </font><font size = 1, color=gainsboro> daddy-doctor </font><font size = 1, color=gainsboro> decide </font><font size = 1, color=gainsboro> that </font><font size = 1, color=gainsboro> a </font><font size = 1, color=gainsboro> hart-transplant </font><font size = 1, color=gainsboro> must </font><font size = 1, color=gainsboro> be </font><font size = 1, color=gainsboro> the </font><font size = 1, color=gainsboro> only </font><font size = 1, color=gainsboro> way </font><font size = 1, color=gainsboro> of </font><font size = 1, color=gainsboro> saving </font><font size = 1, color=gainsboro> his </font><font size = 1, color=gainsboro> son. </font><font size = 1, color=gainsboro> so, </font><font size = 1, color=gainsboro> in </font><font size = 1, color=gainsboro> true </font><font size = 1, color=gainsboro> mad-doctor-style, </font><font size = 1, color=gainsboro> he </font><font size = 1, color=gainsboro> decide </font><font size = 1, color=gainsboro> that </font><font size = 1, color=gainsboro> the </font><font size = 1, color=gainsboro> heart </font><font size = 1, color=gainsboro> of </font><font size = 1, color=gainsboro> a </font><font size = 1, color=gainsboro> gorilla </font><font size = 1, color=gainsboro> will </font><font size = 1, color=gainsboro> do </font><font size = 1, color=gainsboro> the </font><font size = 1, color=gainsboro> trick. </font><font size = 1, color=gainsboro> of </font><font size = 1, color=gainsboro> course, </font><font size = 1, color=gainsboro> the </font><font size = 1, color=gainsboro> gorilla-heart </font><font size = 1, color=gainsboro> is </font><font size = 1, color=gainsboro> \"much </font><font size = 1, color=gainsboro> too </font><font size = 1, color=gainsboro> potent </font><font size = 1, color=gainsboro> for </font><font size = 1, color=gainsboro> a </font><font size = 1, color=gainsboro> human\", </font><font size = 1, color=gainsboro> so </font><font size = 1, color=gainsboro> sonny-boy </font><font size = 1, color=gainsboro> transform </font><font size = 1, color=gainsboro> into </font><font size = 1, color=gainsboro> this </font><font size = 1, color=gainsboro> hideous </font><font size = 1, color=gainsboro> ape-man </font><font size = 1, color=gainsboro> that </font><font size = 1, color=gainsboro> immediately </font><font size = 1, color=gainsboro> eaks </font><font size = 1, color=gainsboro> free </font><font size = 1, color=gainsboro> and </font><font size = 1, color=gainsboro> goes </font><font size = 1, color=gainsboro> on </font><font size = 1, color=gainsboro> a </font><font size = 1, color=gainsboro> killing </font><font size = 1, color=gainsboro> and </font><font size = 1, color=gainsboro> raping </font><font size = 1, color=gainsboro> spree </font><font size = 1, color=gainsboro> (because </font><font size = 1, color=gainsboro> that </font><font size = 1, color=gainsboro> is </font><font size = 1, color=gainsboro> simply </font><font size = 1, color=gainsboro> what </font><font size = 1, color=gainsboro> any </font><font size = 1, color=gainsboro> horny </font><font size = 1, color=gainsboro> beast </font><font size = 1, color=gainsboro> would </font><font size = 1, color=gainsboro> do, </font><font size = 1, color=gainsboro> is </font><font size = 1, color=gainsboro> not </font><font size = 1, color=gainsboro> it?). </font><font size = 1, color=gainsboro> the </font><font size = 1, color=gainsboro> make-up </font><font size = 1, color=gainsboro> of </font><font size = 1, color=gainsboro> our </font><font size = 1, color=gainsboro> ape-man </font><font size = 1, color=gainsboro> is </font><font size = 1, color=gainsboro> hilarious. </font><font size = 1, color=gainsboro> there </font><font size = 1, color=gainsboro> is </font><font size = 1, color=gainsboro> simply </font><font size = 1, color=gainsboro> no </font><font size = 1, color=gainsboro> other </font><font size = 1, color=gainsboro> way </font><font size = 1, color=gainsboro> of </font><font size = 1, color=gainsboro> putting </font><font size = 1, color=gainsboro> it: </font><font size = 1, color=gainsboro> the </font><font size = 1, color=gainsboro> guy' </font><font size = 1, color=gainsboro> face </font><font size = 1, color=gainsboro> looks </font><font size = 1, color=gainsboro> like </font><font size = 1, color=gainsboro> a </font><font size = 1, color=gainsboro> turd! </font><font size = 1, color=gainsboro> i </font><font size = 1, color=gainsboro> am </font><font size = 1, color=gainsboro> talking </font><font size = 1, color=gainsboro> human </font><font size = 1, color=gainsboro> excremant </font><font size = 1, color=gainsboro> here, </font><font size = 1, color=gainsboro> the </font><font size = 3, color=blue> solid </font><font size = 1, color=gainsboro> own </font><font size = 1, color=gainsboro> kind! </font><font size = 3, color=blue> beautiful! </font><font size = 1, color=gainsboro> the </font><font size = 1, color=gainsboro> gore </font><font size = 1, color=gainsboro> in </font><font size = 1, color=gainsboro> this </font><font size = 1, color=gainsboro> flick </font><font size = 1, color=gainsboro> is </font><font size = 3, color=blue> wonderful </font><font size = 1, color=gainsboro> too: </font><font size = 1, color=gainsboro> aside </font><font size = 1, color=gainsboro> from </font><font size = 1, color=gainsboro> real </font><font size = 1, color=gainsboro> footage </font><font size = 1, color=gainsboro> of </font><font size = 1, color=gainsboro> an </font><font size = 1, color=gainsboro> open-heart </font><font size = 1, color=gainsboro> surgery, </font><font size = 1, color=gainsboro> we </font><font size = 1, color=gainsboro> also </font><font size = 1, color=gainsboro> have </font><font size = 1, color=gainsboro> incredibly </font><font size = 1, color=gainsboro> fake </font><font size = 1, color=gainsboro> (but </font><font size = 1, color=gainsboro> quite </font><font size = 1, color=gainsboro> nasty) </font><font size = 1, color=gainsboro> looking </font><font size = 1, color=gainsboro> blood </font><font size = 1, color=gainsboro> and </font><font size = 1, color=gainsboro> gore </font><font size = 1, color=gainsboro> effect: </font><font size = 1, color=gainsboro> a </font><font size = 1, color=gainsboro> decapitation, </font><font size = 1, color=gainsboro> an </font><font size = 1, color=gainsboro> eye-gouging, </font><font size = 1, color=gainsboro> a </font><font size = 1, color=gainsboro> throat-ripping, </font><font size = 1, color=gainsboro> the </font><font size = 1, color=gainsboro> scalping </font><font size = 1, color=gainsboro> of </font><font size = 1, color=gainsboro> someone's </font><font size = 1, color=gainsboro> skull,... </font><font size = 1, color=gainsboro> it </font><font size = 1, color=gainsboro> is </font><font size = 1, color=gainsboro> hilarious, </font><font size = 1, color=gainsboro> and </font><font size = 1, color=gainsboro> indeed </font><font size = 1, color=gainsboro> it </font><font size = 1, color=gainsboro> is </font><font size = 1, color=gainsboro> quite </font><font size = 1, color=gainsboro> incomprehensible </font><font size = 1, color=gainsboro> why </font><font size = 1, color=gainsboro> night </font><font size = 1, color=gainsboro> of </font><font size = 1, color=gainsboro> the </font><font size = 1, color=gainsboro> bloody </font><font size = 1, color=gainsboro> apes </font><font size = 1, color=gainsboro> ever </font><font size = 1, color=gainsboro> made </font><font size = 1, color=gainsboro> it </font><font size = 1, color=gainsboro> to </font><font size = 1, color=gainsboro> the </font><font size = 1, color=gainsboro> notorious </font><font size = 1, color=gainsboro> uk </font><font size = 1, color=gainsboro> video-nasty </font><font size = 1, color=gainsboro> list, </font><font size = 1, color=gainsboro> because </font><font size = 1, color=gainsboro> all </font><font size = 1, color=gainsboro> of </font><font size = 1, color=gainsboro> the </font><font size = 1, color=gainsboro> nasty </font><font size = 1, color=gainsboro> thing </font><font size = 1, color=gainsboro> portrayed </font><font size = 1, color=gainsboro> in </font><font size = 1, color=gainsboro> this </font><font size = 1, color=gainsboro> film </font><font size = 1, color=gainsboro> are </font><font size = 1, color=gainsboro> simply </font><font size = 1, color=gainsboro> too </font><font size = 2, color=lightgreen> ridiculous </font><font size = 1, color=gainsboro> to </font><font size = 1, color=gainsboro> be </font><font size = 1, color=gainsboro> taken </font><font size = 1, color=gainsboro> seriously. </font><font size = 1, color=gainsboro> oh, </font><font size = 1, color=gainsboro> and </font><font size = 1, color=gainsboro> there </font><font size = 1, color=gainsboro> is </font><font size = 1, color=gainsboro> only </font><font size = 1, color=gainsboro> one </font><font size = 1, color=gainsboro> bloody </font><font size = 1, color=gainsboro> ape </font><font size = 1, color=gainsboro> running </font><font size = 1, color=gainsboro> around </font><font size = 1, color=gainsboro> in </font><font size = 1, color=gainsboro> it </font><font size = 1, color=gainsboro> too, </font><font size = 1, color=gainsboro> by </font><font size = 1, color=gainsboro> the </font><font size = 1, color=gainsboro> way. </font><font size = 1, color=gainsboro> so, </font><font size = 1, color=gainsboro> needless </font><font size = 1, color=gainsboro> to </font><font size = 1, color=gainsboro> say </font><font size = 1, color=gainsboro> that </font><font size = 1, color=gainsboro> la </font><font size = 1, color=gainsboro> horripilante </font><font size = 1, color=gainsboro> bestia </font><font size = 1, color=gainsboro> humana </font><font size = 1, color=gainsboro> is </font><font size = 1, color=gainsboro> a </font><font size = 1, color=gainsboro> much </font><font size = 1, color=gainsboro> more </font><font size = 1, color=gainsboro> accurate </font><font size = 1, color=gainsboro> title </font><font size = 1, color=gainsboro> for </font><font size = 1, color=gainsboro> this </font><font size = 1, color=gainsboro> terrifying </font><font size = 1, color=gainsboro> and </font><font size = 1, color=gainsboro> convincing </font><font size = 1, color=gainsboro> tale </font><font size = 1, color=gainsboro> of </font><font size = 1, color=gainsboro> science </font><font size = 1, color=gainsboro> gone </font><font size = 1, color=gainsboro> horribly </font><font size = 1, color=gainsboro> wrong.when </font><font size = 1, color=gainsboro> not </font><font size = 1, color=gainsboro> trying </font><font size = 1, color=gainsboro> to </font><font size = 1, color=gainsboro> shock </font><font size = 1, color=gainsboro> with </font><font size = 2, color=lightgreen> poorly </font><font size = 1, color=gainsboro> staged </font><font size = 1, color=gainsboro> act </font><font size = 1, color=gainsboro> of </font><font size = 1, color=gainsboro> bloody </font><font size = 1, color=gainsboro> violence </font><font size = 1, color=gainsboro> or </font><font size = 1, color=gainsboro> random </font><font size = 1, color=gainsboro> portrayal </font><font size = 1, color=gainsboro> of </font><font size = 1, color=gainsboro> female </font><font size = 1, color=gainsboro> nudity, </font><font size = 1, color=gainsboro> this </font><font size = 1, color=gainsboro> movie </font><font size = 1, color=gainsboro> manages </font><font size = 1, color=gainsboro> to </font><font size = 1, color=gainsboro> be </font><font size = 1, color=gainsboro> highly </font><font size = 1, color=gainsboro> entertaining </font><font size = 1, color=gainsboro> with </font><font size = 1, color=gainsboro> ingredient </font><font size = 1, color=gainsboro> like </font><font size = 1, color=gainsboro> nonsensical </font><font size = 1, color=gainsboro> dialogue, </font><font size = 2, color=lightgreen> cheap </font><font size = 1, color=gainsboro> cardboard </font><font size = 1, color=gainsboro> set, </font><font size = 1, color=gainsboro> plot </font><font size = 1, color=gainsboro> stupidity </font><font size = 1, color=gainsboro> and </font><font size = 1, color=gainsboro> incredibly </font><font size = 2, color=lightgreen> bad </font><font size = 1, color=gainsboro> acting. </font><font size = 1, color=gainsboro> just </font><font size = 1, color=gainsboro> a </font><font size = 1, color=gainsboro> few </font><font size = 1, color=gainsboro> random </font><font size = 1, color=gainsboro> example, </font><font size = 1, color=gainsboro> maybe? </font><font size = 1, color=gainsboro> about </font><font size = 1, color=gainsboro> the </font><font size = 1, color=gainsboro> set: </font><font size = 1, color=gainsboro> one </font><font size = 1, color=gainsboro> can </font><font size = 1, color=gainsboro> clearly </font><font size = 1, color=gainsboro> see </font><font size = 1, color=gainsboro> that </font><font size = 1, color=gainsboro> the </font><font size = 1, color=gainsboro> set-designer </font><font size = 1, color=gainsboro> just </font><font size = 1, color=gainsboro> used </font><font size = 1, color=gainsboro> the </font><font size = 1, color=gainsboro> same </font><font size = 1, color=gainsboro> wall, </font><font size = 1, color=gainsboro> door, </font><font size = 1, color=gainsboro> window </font><font size = 1, color=gainsboro> (etc.) </font><font size = 1, color=gainsboro> over </font><font size = 1, color=gainsboro> and </font><font size = 1, color=gainsboro> over </font><font size = 1, color=gainsboro> again </font><font size = 1, color=gainsboro> to </font><font size = 1, color=gainsboro> be </font><font size = 1, color=gainsboro> build </font><font size = 1, color=gainsboro> various </font><font size = 1, color=gainsboro> different </font><font size = 1, color=gainsboro> interior </font><font size = 1, color=gainsboro> set </font><font size = 1, color=gainsboro> (e.g.: </font><font size = 1, color=gainsboro> one </font><font size = 1, color=gainsboro> side </font><font size = 1, color=gainsboro> of </font><font size = 1, color=gainsboro> the </font><font size = 1, color=gainsboro> hospital </font><font size = 1, color=gainsboro> room </font><font size = 1, color=gainsboro> - </font><font size = 1, color=gainsboro> the </font><font size = 1, color=gainsboro> window </font><font size = 1, color=gainsboro> side </font><font size = 1, color=gainsboro> - </font><font size = 1, color=gainsboro> where </font><font size = 1, color=gainsboro> the </font><font size = 1, color=gainsboro> unconscious </font><font size = 1, color=gainsboro> wrestling </font><font size = 1, color=gainsboro> girl </font><font size = 1, color=gainsboro> lies, </font><font size = 1, color=gainsboro> looks </font><font size = 1, color=gainsboro> suspiciously </font><font size = 1, color=gainsboro> similar </font><font size = 1, color=gainsboro> like </font><font size = 1, color=gainsboro> the </font><font size = 1, color=gainsboro> window </font><font size = 1, color=gainsboro> side </font><font size = 1, color=gainsboro> of </font><font size = 1, color=gainsboro> the </font><font size = 1, color=gainsboro> basemant-laboratory </font><font size = 1, color=gainsboro> from </font><font size = 1, color=gainsboro> where </font><font size = 1, color=gainsboro> ape-man </font><font size = 1, color=gainsboro> escape; </font><font size = 1, color=gainsboro> the </font><font size = 1, color=gainsboro> set-designer </font><font size = 1, color=gainsboro> also </font><font size = 1, color=gainsboro> took </font><font size = 1, color=gainsboro> one </font><font size = 1, color=gainsboro> of </font><font size = 1, color=gainsboro> the </font><font size = 1, color=gainsboro> side-window </font><font size = 1, color=gainsboro> from </font><font size = 1, color=gainsboro> the </font><font size = 1, color=gainsboro> laboratory, </font><font size = 1, color=gainsboro> made </font><font size = 1, color=gainsboro> it </font><font size = 1, color=gainsboro> a </font><font size = 1, color=gainsboro> bit </font><font size = 1, color=gainsboro> larger </font><font size = 1, color=gainsboro> and </font><font size = 1, color=gainsboro> just </font><font size = 1, color=gainsboro> placed </font><font size = 1, color=gainsboro> it </font><font size = 1, color=gainsboro> in </font><font size = 1, color=gainsboro> the </font><font size = 1, color=gainsboro> conference-room </font><font size = 1, color=gainsboro> of </font><font size = 1, color=gainsboro> the </font><font size = 1, color=gainsboro> hospital; </font><font size = 1, color=gainsboro> all </font><font size = 1, color=gainsboro> the </font><font size = 1, color=gainsboro> wall </font><font size = 1, color=gainsboro> in </font><font size = 1, color=gainsboro> any </font><font size = 1, color=gainsboro> building </font><font size = 1, color=gainsboro> are </font><font size = 1, color=gainsboro> the </font><font size = 1, color=gainsboro> same </font><font size = 1, color=gainsboro> grey-one;...). </font><font size = 1, color=gainsboro> then </font><font size = 1, color=gainsboro> there </font><font size = 1, color=gainsboro> is </font><font size = 1, color=gainsboro> the </font><font size = 1, color=gainsboro> setting </font><font size = 1, color=gainsboro> of </font><font size = 1, color=gainsboro> the </font><font size = 1, color=gainsboro> park. </font><font size = 1, color=gainsboro> clearly </font><font size = 1, color=gainsboro> shot </font><font size = 1, color=gainsboro> in </font><font size = 1, color=gainsboro> a </font><font size = 1, color=gainsboro> studio, </font><font size = 1, color=gainsboro> you </font><font size = 1, color=gainsboro> can </font><font size = 1, color=gainsboro> see </font><font size = 1, color=gainsboro> (on </font><font size = 1, color=gainsboro> several </font><font size = 1, color=gainsboro> occasion) </font><font size = 1, color=gainsboro> that </font><font size = 1, color=gainsboro> the </font><font size = 1, color=gainsboro> grass </font><font size = 1, color=gainsboro> is </font><font size = 1, color=gainsboro> loose. </font><font size = 1, color=gainsboro> whenever </font><font size = 1, color=gainsboro> there </font><font size = 1, color=gainsboro> is </font><font size = 1, color=gainsboro> some </font><font size = 1, color=gainsboro> struggling/fighting/raping </font><font size = 1, color=gainsboro> going </font><font size = 1, color=gainsboro> on, </font><font size = 1, color=gainsboro> the </font><font size = 1, color=gainsboro> grass </font><font size = 1, color=gainsboro> just </font><font size = 1, color=gainsboro> shift </font><font size = 1, color=gainsboro> and </font><font size = 1, color=gainsboro> shuffle </font><font size = 1, color=gainsboro> and </font><font size = 1, color=gainsboro> you </font><font size = 1, color=gainsboro> can </font><font size = 1, color=gainsboro> see </font><font size = 1, color=gainsboro> the </font><font size = 1, color=gainsboro> grey </font><font size = 1, color=gainsboro> concrete </font><font size = 1, color=gainsboro> from </font><font size = 1, color=gainsboro> the </font><font size = 1, color=gainsboro> studio-floor </font><font size = 1, color=gainsboro> beneath </font><font size = 1, color=gainsboro> it.just </font><font size = 1, color=gainsboro> a </font><font size = 1, color=gainsboro> few </font><font size = 1, color=gainsboro> random </font><font size = 1, color=gainsboro> line </font><font size = 1, color=gainsboro> that </font><font size = 1, color=gainsboro> come </font><font size = 1, color=gainsboro> out </font><font size = 1, color=gainsboro> the </font><font size = 1, color=gainsboro> actor' </font><font size = 1, color=gainsboro> mouth: </font><font size = 1, color=gainsboro> -- </font><font size = 1, color=gainsboro> in </font><font size = 1, color=gainsboro> the </font><font size = 1, color=gainsboro> conference-room </font><font size = 1, color=gainsboro> where </font><font size = 1, color=gainsboro> all </font><font size = 1, color=gainsboro> the </font><font size = 1, color=gainsboro> doctor </font><font size = 1, color=gainsboro> are </font><font size = 1, color=gainsboro> debating </font><font size = 1, color=gainsboro> the </font><font size = 1, color=gainsboro> disappearance </font><font size = 1, color=gainsboro> of </font><font size = 1, color=gainsboro> unconscious </font><font size = 1, color=gainsboro> wrestling </font><font size = 1, color=gainsboro> girl </font><font size = 1, color=gainsboro> (a </font><font size = 1, color=gainsboro> disappearance </font><font size = 1, color=gainsboro> that </font><font size = 1, color=gainsboro> would </font><font size = 1, color=gainsboro> of </font><font size = 1, color=gainsboro> course </font><font size = 1, color=gainsboro> mean </font><font size = 2, color=lightgreen> bad </font><font size = 1, color=gainsboro> publicity </font><font size = 1, color=gainsboro> for </font><font size = 1, color=gainsboro> the </font><font size = 1, color=gainsboro> hospital), </font><font size = 1, color=gainsboro> daddy-doctor </font><font size = 1, color=gainsboro> intelligently </font><font size = 1, color=gainsboro> utters </font><font size = 1, color=gainsboro> \"we </font><font size = 1, color=gainsboro> find </font><font size = 1, color=gainsboro> ourselves </font><font size = 1, color=gainsboro> in </font><font size = 1, color=gainsboro> a </font><font size = 1, color=gainsboro> situation </font><font size = 1, color=gainsboro> that </font><font size = 1, color=gainsboro> is </font><font size = 1, color=gainsboro> difficult\".-- </font><font size = 1, color=gainsboro> during </font><font size = 1, color=gainsboro> that </font><font size = 1, color=gainsboro> same </font><font size = 1, color=gainsboro> debate </font><font size = 1, color=gainsboro> a </font><font size = 1, color=gainsboro> colleague-doctor </font><font size = 1, color=gainsboro> cleverly </font><font size = 1, color=gainsboro> remark </font><font size = 1, color=gainsboro> \"a </font><font size = 1, color=gainsboro> sleepwalker! </font><font size = 1, color=gainsboro> any </font><font size = 1, color=gainsboro> sleepwalker </font><font size = 1, color=gainsboro> gets </font><font size = 1, color=gainsboro> up.\", </font><font size = 1, color=gainsboro> hereby </font><font size = 1, color=gainsboro> providing </font><font size = 1, color=gainsboro> a </font><font size = 3, color=blue> solid </font><font size = 1, color=gainsboro> excuse </font><font size = 1, color=gainsboro> for </font><font size = 1, color=gainsboro> the </font><font size = 1, color=gainsboro> disappearance </font><font size = 1, color=gainsboro> of </font><font size = 1, color=gainsboro> unconscious </font><font size = 1, color=gainsboro> wrestling </font><font size = 1, color=gainsboro> girl.-- </font><font size = 1, color=gainsboro> after </font><font size = 1, color=gainsboro> our </font><font size = 1, color=gainsboro> investigating </font><font size = 1, color=gainsboro> detective, </font><font size = 1, color=gainsboro> through </font><font size = 1, color=gainsboro> the </font><font size = 3, color=blue> amazing </font><font size = 1, color=gainsboro> process </font><font size = 1, color=gainsboro> of </font><font size = 1, color=gainsboro> his </font><font size = 1, color=gainsboro> own </font><font size = 1, color=gainsboro> logical </font><font size = 1, color=gainsboro> deduction, </font><font size = 1, color=gainsboro> conclude </font><font size = 1, color=gainsboro> and </font><font size = 1, color=gainsboro> tells </font><font size = 1, color=gainsboro> his </font><font size = 1, color=gainsboro> superior </font><font size = 1, color=gainsboro> that </font><font size = 1, color=gainsboro> the </font><font size = 1, color=gainsboro> murderer </font><font size = 1, color=gainsboro> must </font><font size = 1, color=gainsboro> be </font><font size = 1, color=gainsboro> a </font><font size = 1, color=gainsboro> half </font><font size = 1, color=gainsboro> man/half </font><font size = 1, color=gainsboro> beast, </font><font size = 1, color=gainsboro> his </font><font size = 1, color=gainsboro> superior </font><font size = 1, color=gainsboro> answer </font><font size = 1, color=gainsboro> that </font><font size = 1, color=gainsboro> it </font><font size = 1, color=gainsboro> is </font><font size = 1, color=gainsboro> absurd, </font><font size = 1, color=gainsboro> adding </font><font size = 1, color=gainsboro> the </font><font size = 1, color=gainsboro> line </font><font size = 1, color=gainsboro> \"it </font><font size = 1, color=gainsboro> is </font><font size = 1, color=gainsboro> more </font><font size = 1, color=gainsboro> probable </font><font size = 1, color=gainsboro> that </font><font size = 1, color=gainsboro> of </font><font size = 1, color=gainsboro> late, </font><font size = 1, color=gainsboro> more </font><font size = 1, color=gainsboro> and </font><font size = 1, color=gainsboro> more, </font><font size = 1, color=gainsboro> you </font><font size = 1, color=gainsboro> are </font><font size = 1, color=gainsboro> watching </font><font size = 1, color=gainsboro> on </font><font size = 1, color=gainsboro> your </font><font size = 1, color=gainsboro> television </font><font size = 1, color=gainsboro> many </font><font size = 1, color=gainsboro> of </font><font size = 1, color=gainsboro> those </font><font size = 1, color=gainsboro> picture </font><font size = 1, color=gainsboro> of </font><font size = 1, color=gainsboro> terror\"... </font><font size = 1, color=gainsboro> truly </font><font size = 1, color=gainsboro> one </font><font size = 1, color=gainsboro> of </font><font size = 1, color=gainsboro> the </font><font size = 3, color=blue> best </font><font size = 1, color=gainsboro> line </font><font size = 1, color=gainsboro> of </font><font size = 1, color=gainsboro> the </font><font size = 1, color=gainsboro> movie.other </font><font size = 1, color=gainsboro> source </font><font size = 1, color=gainsboro> of </font><font size = 1, color=gainsboro> laughter: </font><font size = 1, color=gainsboro> -- </font><font size = 1, color=gainsboro> the </font><font size = 1, color=gainsboro> two </font><font size = 1, color=gainsboro> scene </font><font size = 1, color=gainsboro> were </font><font size = 1, color=gainsboro> daddy-doctor </font><font size = 1, color=gainsboro> and </font><font size = 1, color=gainsboro> his </font><font size = 1, color=gainsboro> igor-like </font><font size = 1, color=gainsboro> assistant </font><font size = 1, color=gainsboro> kidnap </font><font size = 1, color=gainsboro> the </font><font size = 1, color=gainsboro> gorilla </font><font size = 1, color=gainsboro> from </font><font size = 1, color=gainsboro> the </font><font size = 1, color=gainsboro> zoo </font><font size = 1, color=gainsboro> and </font><font size = 1, color=gainsboro> unconscious </font><font size = 1, color=gainsboro> wrestling </font><font size = 1, color=gainsboro> girl </font><font size = 1, color=gainsboro> from </font><font size = 1, color=gainsboro> the </font><font size = 1, color=gainsboro> hospital </font><font size = 1, color=gainsboro> - </font><font size = 1, color=gainsboro> these </font><font size = 1, color=gainsboro> well </font><font size = 1, color=gainsboro> thought-out </font><font size = 1, color=gainsboro> act </font><font size = 1, color=gainsboro> of </font><font size = 1, color=gainsboro> abduction </font><font size = 1, color=gainsboro> are </font><font size = 1, color=gainsboro> like </font><font size = 1, color=gainsboro> taking </font><font size = 1, color=gainsboro> candy </font><font size = 1, color=gainsboro> from </font><font size = 1, color=gainsboro> a </font><font size = 1, color=gainsboro> baby.-- </font><font size = 1, color=gainsboro> daddy-doctor </font><font size = 1, color=gainsboro> speak </font><font size = 1, color=gainsboro> to </font><font size = 1, color=gainsboro> god </font><font size = 1, color=gainsboro> a </font><font size = 1, color=gainsboro> lot, </font><font size = 1, color=gainsboro> does </font><font size = 1, color=gainsboro> not </font><font size = 1, color=gainsboro> he?-- </font><font size = 1, color=gainsboro> sonny-boy </font><font size = 1, color=gainsboro> calling </font><font size = 1, color=gainsboro> daddy-doctor </font><font size = 1, color=gainsboro> \"papa\" </font><font size = 1, color=gainsboro> on </font><font size = 1, color=gainsboro> more </font><font size = 1, color=gainsboro> than </font><font size = 1, color=gainsboro> one </font><font size = 1, color=gainsboro> occasion.-- </font><font size = 1, color=gainsboro> an </font><font size = 1, color=gainsboro> old </font><font size = 1, color=gainsboro> lady </font><font size = 1, color=gainsboro> screaming </font><font size = 1, color=gainsboro> \"aaargh!!! </font><font size = 1, color=gainsboro> a </font><font size = 1, color=gainsboro> dead </font><font size = 1, color=gainsboro> man! </font><font size = 1, color=gainsboro> a </font><font size = 1, color=gainsboro> dead </font><font size = 1, color=gainsboro> man! </font><font size = 1, color=gainsboro> a </font><font size = 1, color=gainsboro> dead </font><font size = 1, color=gainsboro> man!! </font><font size = 1, color=gainsboro> a </font><font size = 1, color=gainsboro> dead </font><font size = 1, color=gainsboro> man!!!\".-- </font><font size = 1, color=gainsboro> the </font><font size = 1, color=gainsboro> plot </font><font size = 1, color=gainsboro> periodically </font><font size = 1, color=gainsboro> stops </font><font size = 1, color=gainsboro> to </font><font size = 1, color=gainsboro> wallow </font><font size = 1, color=gainsboro> in </font><font size = 1, color=gainsboro> scene </font><font size = 1, color=gainsboro> of </font><font size = 1, color=gainsboro> woman </font><font size = 1, color=gainsboro> wrestling, </font><font size = 1, color=gainsboro> only </font><font size = 1, color=gainsboro> to </font><font size = 1, color=gainsboro> go </font><font size = 1, color=gainsboro> on </font><font size = 1, color=gainsboro> again </font><font size = 1, color=gainsboro> and </font><font size = 1, color=gainsboro> do </font><font size = 1, color=gainsboro> nothing </font><font size = 1, color=gainsboro> with </font><font size = 1, color=gainsboro> that </font><font size = 1, color=gainsboro> concept. </font><font size = 1, color=gainsboro> sure, </font><font size = 1, color=gainsboro> daddy-doctor </font><font size = 1, color=gainsboro> replace </font><font size = 1, color=gainsboro> sonny-boy's </font><font size = 1, color=gainsboro> gorilla-heart </font><font size = 1, color=gainsboro> a </font><font size = 1, color=gainsboro> second </font><font size = 1, color=gainsboro> time </font><font size = 1, color=gainsboro> with </font><font size = 1, color=gainsboro> that </font><font size = 1, color=gainsboro> of </font><font size = 1, color=gainsboro> unconscious </font><font size = 1, color=gainsboro> wrestling </font><font size = 1, color=gainsboro> girl, </font><font size = 1, color=gainsboro> but </font><font size = 1, color=gainsboro> do </font><font size = 1, color=gainsboro> you </font><font size = 1, color=gainsboro> think </font><font size = 1, color=gainsboro> something </font><font size = 1, color=gainsboro> spectacular </font><font size = 1, color=gainsboro> happen </font><font size = 1, color=gainsboro> after </font><font size = 1, color=gainsboro> that? </font><font size = 1, color=gainsboro> like </font><font size = 1, color=gainsboro> ape-turd-man </font><font size = 1, color=gainsboro> growing </font><font size = 1, color=gainsboro> east </font><font size = 1, color=gainsboro> or </font><font size = 1, color=gainsboro> something, </font><font size = 1, color=gainsboro> trying </font><font size = 1, color=gainsboro> to </font><font size = 1, color=gainsboro> rape </font><font size = 1, color=gainsboro> man </font><font size = 1, color=gainsboro> this </font><font size = 1, color=gainsboro> time? </font><font size = 1, color=gainsboro> our </font><font size = 1, color=gainsboro> leading </font><font size = 1, color=gainsboro> living </font><font size = 1, color=gainsboro> wrestling </font><font size = 1, color=gainsboro> beauty </font><font size = 1, color=gainsboro> (norma </font><font size = 1, color=gainsboro> lazareno) </font><font size = 1, color=gainsboro> does </font><font size = 1, color=gainsboro> not </font><font size = 1, color=gainsboro> even </font><font size = 1, color=gainsboro> go </font><font size = 1, color=gainsboro> into </font><font size = 1, color=gainsboro> a </font><font size = 1, color=gainsboro> climactic </font><font size = 1, color=gainsboro> wrestling </font><font size = 1, color=gainsboro> contest </font><font size = 1, color=gainsboro> with </font><font size = 1, color=gainsboro> ape-turd-man </font><font size = 1, color=gainsboro> near </font><font size = 1, color=gainsboro> the </font><font size = 1, color=gainsboro> movie's </font><font size = 1, color=gainsboro> finale... </font><font size = 1, color=gainsboro> but </font><font size = 1, color=gainsboro> ape-turd-man </font><font size = 1, color=gainsboro> does </font><font size = 1, color=gainsboro> start </font><font size = 1, color=gainsboro> to </font><font size = 1, color=gainsboro> show </font><font size = 1, color=gainsboro> some </font><font size = 1, color=gainsboro> motherly </font><font size = 1, color=gainsboro> love </font><font size = 1, color=gainsboro> near </font><font size = 1, color=gainsboro> the </font><font size = 1, color=gainsboro> end... </font><font size = 1, color=gainsboro> almost </font><font size = 1, color=gainsboro> (and </font><font size = 1, color=gainsboro> i </font><font size = 1, color=gainsboro> say </font><font size = 1, color=gainsboro> \"almost\") </font><font size = 1, color=gainsboro> in </font><font size = 1, color=gainsboro> true </font><font size = 1, color=gainsboro> king </font><font size = 1, color=gainsboro> kong-style </font><font size = 1, color=gainsboro> (i.e. </font><font size = 1, color=gainsboro> the </font><font size = 1, color=gainsboro> top </font><font size = 1, color=gainsboro> of </font><font size = 1, color=gainsboro> a </font><font size = 1, color=gainsboro> building </font><font size = 1, color=gainsboro> and </font><font size = 1, color=gainsboro> person </font><font size = 1, color=gainsboro> on </font><font size = 1, color=gainsboro> the </font><font size = 1, color=gainsboro> ground </font><font size = 1, color=gainsboro> pointing </font><font size = 1, color=gainsboro> and </font><font size = 1, color=gainsboro> screaming).okay, </font><font size = 1, color=gainsboro> i </font><font size = 1, color=gainsboro> think </font><font size = 1, color=gainsboro> that </font><font size = 1, color=gainsboro> is </font><font size = 1, color=gainsboro> enough </font><font size = 1, color=gainsboro> now. </font><font size = 1, color=gainsboro> i </font><font size = 1, color=gainsboro> chipped </font><font size = 1, color=gainsboro> in </font><font size = 1, color=gainsboro> more </font><font size = 1, color=gainsboro> than </font><font size = 1, color=gainsboro> my </font><font size = 1, color=gainsboro> two </font><font size = 1, color=gainsboro> cent </font><font size = 1, color=gainsboro> here. </font><font size = 1, color=gainsboro> vomitron's </font><font size = 1, color=gainsboro> rational </font><font size = 1, color=gainsboro> rating </font><font size = 1, color=gainsboro> for </font><font size = 1, color=gainsboro> this </font><font size = 1, color=gainsboro> sleazy </font><font size = 1, color=gainsboro> piece </font><font size = 1, color=gainsboro> of </font><font size = 1, color=gainsboro> hilarious </font><font size = 1, color=gainsboro> dreck: </font><font size = 1, color=gainsboro> 2/10. </font><font size = 1, color=gainsboro> vomitron's </font><font size = 1, color=gainsboro> rating </font><font size = 1, color=gainsboro> from </font><font size = 1, color=gainsboro> the </font><font size = 1, color=gainsboro> wrong </font><font size = 1, color=gainsboro> side </font><font size = 1, color=gainsboro> of </font><font size = 1, color=gainsboro> the </font><font size = 1, color=gainsboro> track: </font><font size = 1, color=gainsboro> 8/10. </font><font size = 1, color=gainsboro> go </font><font size = 1, color=gainsboro> see </font><font size = 1, color=gainsboro> this </font><font size = 1, color=gainsboro> film, </font><font size = 1, color=gainsboro> person. </font><font size = 1, color=gainsboro> it </font><font size = 1, color=gainsboro> is </font><font size = 1, color=gainsboro> well </font><font size = 1, color=gainsboro> worth </font><font size = 1, color=gainsboro> it! </font>"
      ],
      "text/plain": [
       "<__main__.ColoredWeightedDoc at 0x1d14222d438>"
      ]
     },
     "metadata": {},
     "output_type": "display_data"
    }
   ],
   "source": [
    "from IPython import display\n",
    "idx = 2494\n",
    "# idx = 9002\n",
    "bm = base_model.predict(X_test[idx])\n",
    "        \n",
    "cm = combined_model.predict([X_test[idx], \n",
    "                             np.reshape(y_test_agreement[idx], (1,y_test_agreement.shape[1]))])\n",
    "        \n",
    "layer_name = 'concatenate'\n",
    "concat_after_relu = Model(inputs=combined_model.input,\n",
    "                          outputs=combined_model.get_layer(layer_name).output)\n",
    "concat_output = concat_after_relu.predict([X_test[idx], np.reshape(y_test_agreement[idx], (1,y_test_agreement.shape[1]))])\n",
    "        \n",
    "print('actual label : ', y_test_original[idx], '\\npredict from base model : ', bm.flatten(), '\\npredict label : ', cm.flatten())\n",
    "print()\n",
    "for i,output in enumerate(concat_output.flatten()):\n",
    "    if output != 0:\n",
    "        print(word_list[i], output)\n",
    "\n",
    "\n",
    "ht_weight = concat_output.flatten()\n",
    "display.display(ColoredWeightedDoc(X_test_original[idx], word_list, ht_weight, binary = False))"
   ]
  },
  {
   "cell_type": "code",
   "execution_count": 69,
   "metadata": {},
   "outputs": [
    {
     "data": {
      "text/plain": [
       "array([0, 0, 0, 0, 0, 0, 0, 0, 0, 0, 0, 0, 0, 0, 0, 0, 0, 0, 0, 0, 0, 0,\n",
       "       0, 0, 0, 0, 0, 0, 0, 0, 0, 0, 0, 0, 1, 0, 0, 0, 0, 0, 0, 0, 0, 0,\n",
       "       0, 0, 0, 0, 0, 0, 0, 0, 0, 0, 0, 0, 0, 0, 0, 0, 0, 0, 0, 0, 0, 0,\n",
       "       0, 0, 0, 0, 0, 0, 0, 0, 0, 0, 0, 0, 0, 0, 0, 0, 0])"
      ]
     },
     "execution_count": 69,
     "metadata": {},
     "output_type": "execute_result"
    }
   ],
   "source": [
    "y_test_agreement[14689]"
   ]
  },
  {
   "cell_type": "code",
   "execution_count": 83,
   "metadata": {},
   "outputs": [],
   "source": [
    "positive = np.sum(y_test_agreement==1, axis=1)"
   ]
  },
  {
   "cell_type": "code",
   "execution_count": 84,
   "metadata": {},
   "outputs": [],
   "source": [
    "negative = np.sum(y_test_agreement==-1, axis=1)"
   ]
  },
  {
   "cell_type": "code",
   "execution_count": 85,
   "metadata": {},
   "outputs": [
    {
     "data": {
      "text/plain": [
       "21728"
      ]
     },
     "execution_count": 85,
     "metadata": {},
     "output_type": "execute_result"
    }
   ],
   "source": [
    "np.argmax(positive)"
   ]
  },
  {
   "cell_type": "code",
   "execution_count": 36,
   "metadata": {},
   "outputs": [
    {
     "data": {
      "text/plain": [
       "17"
      ]
     },
     "execution_count": 36,
     "metadata": {},
     "output_type": "execute_result"
    }
   ],
   "source": [
    "np.max(negative)"
   ]
  },
  {
   "cell_type": "code",
   "execution_count": 43,
   "metadata": {},
   "outputs": [
    {
     "data": {
      "text/plain": [
       "'the movie has a distinct (albeit utish and rough) humanity for all its borderline depravity - the zippy/lyrical score point up the comic side of their misadventure, and even when they are at their most thuggish (like terrorizing the woman on the train), a semi-pitiful vulnerability lurk never far away (dewaere suck on her east like a baby). blier cut away from the scene where depardieu may be about to rape dewaere, so we are never sure how explicitly to read the manifestly homoerotic aspect of their relationship - either way, that incident is the start of their relative humanization (so the movie could certainly be read as pro-gay, although it could likely be read as pro-anything you want). the movie has many objectionable scene and point of sexual politic and is probably best taken as a general cartoon on the foible of both sex, making a mockery of the whole notion of sensitivity and honesty, and hitting numerous point of possible profundity on the basis that if you fire off enough shot, some of them are bound to hit.'"
      ]
     },
     "execution_count": 43,
     "metadata": {},
     "output_type": "execute_result"
    }
   ],
   "source": [
    "X_train_original[np.argmax(negative)]"
   ]
  },
  {
   "cell_type": "code",
   "execution_count": 59,
   "metadata": {},
   "outputs": [
    {
     "data": {
      "text/plain": [
       "4378"
      ]
     },
     "execution_count": 59,
     "metadata": {},
     "output_type": "execute_result"
    }
   ],
   "source": [
    "np.argmax(negative)"
   ]
  },
  {
   "cell_type": "code",
   "execution_count": 60,
   "metadata": {},
   "outputs": [
    {
     "data": {
      "text/plain": [
       "21728"
      ]
     },
     "execution_count": 60,
     "metadata": {},
     "output_type": "execute_result"
    }
   ],
   "source": [
    "np.argmax(positive)"
   ]
  },
  {
   "cell_type": "code",
   "execution_count": 87,
   "metadata": {},
   "outputs": [
    {
     "data": {
      "text/plain": [
       "(25000, 2)"
      ]
     },
     "execution_count": 87,
     "metadata": {},
     "output_type": "execute_result"
    }
   ],
   "source": [
    "positive = positive.reshape(25000, 1)\n",
    "negative = negative.reshape(25000, 1)\n",
    "\n",
    "stack = np.hstack([positive, negative])\n",
    "stack.shape"
   ]
  },
  {
   "cell_type": "code",
   "execution_count": 90,
   "metadata": {},
   "outputs": [],
   "source": [
    "new = np.absolute(stack[:,0] - stack[:,1])"
   ]
  },
  {
   "cell_type": "code",
   "execution_count": 122,
   "metadata": {},
   "outputs": [],
   "source": [
    "ind = []\n",
    "for i in range(new.shape[0]):\n",
    "    if new[i] <= 1 and (stack[i,0] >6  or stack[i,1] >6):\n",
    "        ind.append(i)"
   ]
  },
  {
   "cell_type": "code",
   "execution_count": 123,
   "metadata": {},
   "outputs": [
    {
     "data": {
      "text/plain": [
       "[2494, 7079, 11050, 12559, 20031, 21625, 21874, 23852]"
      ]
     },
     "execution_count": 123,
     "metadata": {},
     "output_type": "execute_result"
    }
   ],
   "source": [
    "ind"
   ]
  },
  {
   "cell_type": "code",
   "execution_count": 111,
   "metadata": {},
   "outputs": [],
   "source": [
    "stack_balance = []\n",
    "for i in ind:\n",
    "    stack_balance.append(stack[i])"
   ]
  },
  {
   "cell_type": "code",
   "execution_count": 112,
   "metadata": {},
   "outputs": [
    {
     "data": {
      "text/plain": [
       "[]"
      ]
     },
     "execution_count": 112,
     "metadata": {},
     "output_type": "execute_result"
    }
   ],
   "source": [
    "stack_balance"
   ]
  },
  {
   "cell_type": "code",
   "execution_count": 102,
   "metadata": {},
   "outputs": [
    {
     "data": {
      "text/plain": [
       "510"
      ]
     },
     "execution_count": 102,
     "metadata": {},
     "output_type": "execute_result"
    }
   ],
   "source": [
    "np.argmax(stack_balance)"
   ]
  },
  {
   "cell_type": "code",
   "execution_count": 103,
   "metadata": {},
   "outputs": [
    {
     "data": {
      "text/plain": [
       "array([4, 4])"
      ]
     },
     "execution_count": 103,
     "metadata": {},
     "output_type": "execute_result"
    }
   ],
   "source": [
    "stack_balance[510]"
   ]
  },
  {
   "cell_type": "code",
   "execution_count": 80,
   "metadata": {},
   "outputs": [
    {
     "data": {
      "text/plain": [
       "4378"
      ]
     },
     "execution_count": 80,
     "metadata": {},
     "output_type": "execute_result"
    }
   ],
   "source": [
    "np.argmax(np.sum(stack, axis=1))"
   ]
  },
  {
   "cell_type": "markdown",
   "metadata": {},
   "source": []
  },
  {
   "cell_type": "code",
   "execution_count": null,
   "metadata": {},
   "outputs": [],
   "source": []
  }
 ],
 "metadata": {
  "kernelspec": {
   "display_name": "Python 3",
   "language": "python",
   "name": "python3"
  },
  "language_info": {
   "codemirror_mode": {
    "name": "ipython",
    "version": 3
   },
   "file_extension": ".py",
   "mimetype": "text/x-python",
   "name": "python",
   "nbconvert_exporter": "python",
   "pygments_lexer": "ipython3",
   "version": "3.6.6"
  }
 },
 "nbformat": 4,
 "nbformat_minor": 2
}

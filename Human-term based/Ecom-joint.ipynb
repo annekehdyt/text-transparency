{
 "cells": [
  {
   "cell_type": "code",
   "execution_count": 1,
   "metadata": {},
   "outputs": [
    {
     "name": "stderr",
     "output_type": "stream",
     "text": [
      "Using TensorFlow backend.\n"
     ]
    }
   ],
   "source": [
    "import numpy as np\n",
    "from numpy.random import seed\n",
    "import tensorflow as tf\n",
    "\n",
    "from tensorflow import set_random_seed\n",
    "seed(42)\n",
    "set_random_seed(42)\n",
    "\n",
    "from keras.layers import Input, Dense, TimeDistributed, Embedding\n",
    "from keras.layers import Concatenate, Reshape, Lambda, Multiply, multiply, concatenate\n",
    "from keras.models import Model\n",
    "from keras import backend as K\n",
    "\n",
    "import matplotlib.pyplot as plt\n",
    "from matplotlib import style\n",
    "\n",
    "from dataset_load import *\n",
    "\n",
    "style.use('seaborn-whitegrid')\n",
    "\n",
    "def open_pickle(path):\n",
    "    import pickle\n",
    "    with open(path, 'rb') as f:\n",
    "        X = pickle.load(f)\n",
    "    return X\n",
    "\n",
    "def load_unigrams(path, X, y):\n",
    "    word_list = []\n",
    "    connotation = {}\n",
    "    \n",
    "    with open(path, 'r', encoding='utf8') as f:\n",
    "        for line in f:\n",
    "            word_list.append(line.strip())\n",
    "            \n",
    "    for word in word_list:\n",
    "        pos_count = 0\n",
    "        neg_count = 0\n",
    "        for i, doc in enumerate(X):\n",
    "            if word in doc.lower():\n",
    "                \n",
    "                if (y[i] == 1):\n",
    "                    pos_count += 1\n",
    "                else:\n",
    "                    neg_count += 1\n",
    "                    \n",
    "        if pos_count > neg_count:\n",
    "            connotation[word] = 1\n",
    "        else:\n",
    "            connotation[word] = 0\n",
    "    \n",
    "    return word_list, connotation\n",
    "\n",
    "def generate_appearance(X_train_corpus, X_test_corpus, word_list, connotation):\n",
    "    y_train_agreement = []\n",
    "    for i in range(len(X_train_corpus)):\n",
    "        doc_agreement = []\n",
    "        for word in word_list:\n",
    "            if word in X_train_corpus[i]:\n",
    "                if connotation[word] == 1:\n",
    "                    doc_agreement.append(1)\n",
    "                else:\n",
    "                    doc_agreement.append(-1)\n",
    "            else:\n",
    "                doc_agreement.append(0)\n",
    "        y_train_agreement.append(doc_agreement)\n",
    "        \n",
    "    y_test_agreement = []\n",
    "    for i in range(len(X_test_corpus)):\n",
    "        doc_agreement = []\n",
    "        for word in word_list:\n",
    "            if word in X_test_corpus[i]:\n",
    "                if connotation[word] == 1:\n",
    "                    doc_agreement.append(1)\n",
    "                else:\n",
    "                    doc_agreement.append(-1)\n",
    "            else:\n",
    "                doc_agreement.append(0)\n",
    "        y_test_agreement.append(doc_agreement)\n",
    "        \n",
    "    return np.array(y_train_agreement), np.array(y_test_agreement)\n",
    "\n",
    "# 'imdb-unigrams.txt'\n",
    "import pandas as pd\n",
    "\n",
    "path = r'../../data/womens-ecommerce-clothing-reviews/Womens-Clothing-E-Commerce-Reviews.csv'\n",
    "\n",
    "df = pd.read_csv(path)\n",
    "\n",
    "X = list(df['Review Text'])\n",
    "y = list(df['Rating'])\n",
    "y_label = np.asarray(y)\n"
   ]
  },
  {
   "cell_type": "code",
   "execution_count": 2,
   "metadata": {},
   "outputs": [
    {
     "name": "stdout",
     "output_type": "stream",
     "text": [
      "1 842\n",
      "2 1565\n",
      "3 2871\n",
      "4 5077\n",
      "5 13131\n"
     ]
    }
   ],
   "source": [
    "y_label.shape\n",
    "for i in range(1,6):\n",
    "    print(i, np.sum(y_label==i))"
   ]
  },
  {
   "cell_type": "code",
   "execution_count": 3,
   "metadata": {},
   "outputs": [],
   "source": [
    "y_label[y_label<3] = 0\n",
    "y_label[y_label>3] = 1\n",
    "\n",
    "neutral_indices = np.where(y_label==3)[0]\n",
    "y_label = np.delete(y_label, neutral_indices)\n"
   ]
  },
  {
   "cell_type": "code",
   "execution_count": 4,
   "metadata": {},
   "outputs": [],
   "source": [
    "X = np.delete(X, neutral_indices)"
   ]
  },
  {
   "cell_type": "code",
   "execution_count": 5,
   "metadata": {},
   "outputs": [
    {
     "name": "stdout",
     "output_type": "stream",
     "text": [
      "2407\n",
      "18208\n"
     ]
    }
   ],
   "source": [
    "print(np.sum(y_label==0))\n",
    "print(np.sum(y_label==1))"
   ]
  },
  {
   "cell_type": "code",
   "execution_count": 6,
   "metadata": {},
   "outputs": [
    {
     "data": {
      "text/plain": [
       "20615"
      ]
     },
     "execution_count": 6,
     "metadata": {},
     "output_type": "execute_result"
    }
   ],
   "source": [
    "len(X)"
   ]
  },
  {
   "cell_type": "code",
   "execution_count": 7,
   "metadata": {},
   "outputs": [
    {
     "name": "stdout",
     "output_type": "stream",
     "text": [
      "(75, 2)\n",
      "corpus update start\n",
      "corpus update end\n",
      "\n",
      "(75, 2)\n",
      "corpus update start\n",
      "corpus update end\n",
      "\n"
     ]
    }
   ],
   "source": [
    "from sklearn.feature_extraction.text import CountVectorizer\n",
    "from sklearn.model_selection import train_test_split, ShuffleSplit\n",
    "\n",
    "# split\n",
    "X_train_split, X_test_split, y_train, y_test = train_test_split(X, y_label, test_size=0.33, random_state=42)\n",
    "\n",
    "# preprocessing\n",
    "X_train_corpus_update = update_corpus_contraction(X_train_split)\n",
    "X_test_corpus_update = update_corpus_contraction(X_test_split)\n",
    "\n",
    "# Count vectorizer \n",
    "\n",
    "# count vectorizer\n",
    "token = r\"(?u)\\b[\\w\\'/]+\\b\"\n",
    "cv = CountVectorizer(lowercase=True, max_df=1.0, min_df=100, binary=True, token_pattern=token)\n",
    "cv.set_params(ngram_range=(1,1))\n",
    "\n",
    "cv.fit(X_train_split)\n",
    "\n",
    "X_train = cv.transform(X_train_corpus_update)\n",
    "X_test = cv.transform(X_test_corpus_update)\n",
    "\n",
    "words = cv.get_feature_names()\n",
    "\n",
    "\n",
    "# word_list, connotation = load_unigrams('./amazon-video-unigrams.txt', X_train_corpus_update, y_train)\n",
    "# y_train_agreement, y_test_agreement = generate_appearance(X_train_corpus_update, X_test_corpus_update, \n",
    "#                                                           word_list, connotation)\n"
   ]
  },
  {
   "cell_type": "code",
   "execution_count": 8,
   "metadata": {},
   "outputs": [],
   "source": [
    "word_list, connotation = load_unigrams('./ecom-unigrams.txt', X_train_corpus_update, y_train)\n",
    "y_train_agreement, y_test_agreement = generate_appearance(X_train_corpus_update, X_test_corpus_update, \n",
    "                                                          word_list, connotation)"
   ]
  },
  {
   "cell_type": "code",
   "execution_count": 9,
   "metadata": {},
   "outputs": [
    {
     "data": {
      "text/plain": [
       "52"
      ]
     },
     "execution_count": 9,
     "metadata": {},
     "output_type": "execute_result"
    }
   ],
   "source": [
    "len(word_list)"
   ]
  },
  {
   "cell_type": "code",
   "execution_count": 10,
   "metadata": {},
   "outputs": [
    {
     "data": {
      "text/plain": [
       "(6803, 720)"
      ]
     },
     "execution_count": 10,
     "metadata": {},
     "output_type": "execute_result"
    }
   ],
   "source": [
    "X_test.shape"
   ]
  },
  {
   "cell_type": "code",
   "execution_count": 11,
   "metadata": {},
   "outputs": [
    {
     "name": "stdout",
     "output_type": "stream",
     "text": [
      "0.9477266145380828\n",
      "0.927237983242687\n"
     ]
    }
   ],
   "source": [
    "from sklearn.linear_model import LogisticRegression\n",
    "\n",
    "clf = LogisticRegression(random_state=42)\n",
    "\n",
    "clf.fit(X_train, y_train)\n",
    "\n",
    "print(clf.score(X_train, y_train))\n",
    "print(clf.score(X_test, y_test))"
   ]
  },
  {
   "cell_type": "code",
   "execution_count": 12,
   "metadata": {},
   "outputs": [],
   "source": [
    "\n",
    "def history_plot(history, model_name):\n",
    "    plt.plot(history.history['acc'])\n",
    "    plt.plot(history.history['val_acc'])\n",
    "        \n",
    "    title = model_name + 'accuracy'\n",
    "    plt.title(title)\n",
    "    plt.xlabel('epoch')\n",
    "    plt.legend(['tr_acc', 'val_acc'], loc='upper left')\n",
    "    plt.show()\n",
    "    plt.clf()\n",
    "\n",
    "    plt.plot(history.history['loss'], 'm--')\n",
    "    plt.plot(history.history['val_loss'], 'y--')\n",
    "\n",
    "    title = model_name + 'loss'\n",
    "    plt.title(title)\n",
    "    plt.xlabel('epoch')\n",
    "    plt.legend(['tr_loss', 'val_loss'], loc='upper left')\n",
    "    plt.show()\n",
    "    plt.clf()"
   ]
  },
  {
   "cell_type": "markdown",
   "metadata": {},
   "source": [
    "### Test the custom loss"
   ]
  },
  {
   "cell_type": "code",
   "execution_count": 13,
   "metadata": {},
   "outputs": [],
   "source": [
    "# # https://stackoverflow.com/questions/48951109/keras-custom-binary-cross-entropy-loss-function-get-nan-as-output-for-loss\n",
    "\n",
    "# def custom_cross_entropy(y_true, y_pred):\n",
    "#     t_loss = K.max(y_pred,0)-y_pred * y_true + K.log(1+K.exp((-1)*K.abs(y_pred)))\n",
    "#     return K.mean(t_loss)\n",
    "\n",
    "# from keras.initializers import Constant, glorot_uniform\n",
    "\n",
    "# input_layer = Input(shape=(X_train.shape[1],))\n",
    "# tanh_output = Dense(1, activation='sigmoid', kernel_initializer=glorot_uniform(seed=42))(input_layer)\n",
    "# model = Model(inputs=input_layer, outputs=tanh_output)\n",
    "\n",
    "# model.compile(loss=custom_cross_entropy,\n",
    "#              metrics=['acc'],\n",
    "#              optimizer='adam')\n",
    "\n",
    "# model.fit(X_train[:16667], y_train_original[:16667], \n",
    "#          validation_data=([X_train[16667:], y_train_original[16667:]]),\n",
    "#          batch_size=1, epochs=1)"
   ]
  },
  {
   "cell_type": "code",
   "execution_count": 14,
   "metadata": {},
   "outputs": [],
   "source": [
    "# model.evaluate(X_test, y_test_original)"
   ]
  },
  {
   "cell_type": "code",
   "execution_count": 15,
   "metadata": {},
   "outputs": [],
   "source": [
    "# model.evaluate(X_train, y_train_original)"
   ]
  },
  {
   "cell_type": "markdown",
   "metadata": {},
   "source": [
    "### 1st model"
   ]
  },
  {
   "cell_type": "code",
   "execution_count": 16,
   "metadata": {},
   "outputs": [],
   "source": [
    "from keras.initializers import Constant, glorot_uniform\n",
    "\n",
    "input_layer = Input(shape=(X_train.shape[1],))\n",
    "tanh_output = Dense(1, activation='sigmoid', kernel_initializer=glorot_uniform(seed=42))(input_layer)\n",
    "model = Model(inputs=input_layer, outputs=tanh_output)\n",
    "\n",
    "model.compile(loss='binary_crossentropy',\n",
    "             metrics=['acc'],\n",
    "             optimizer='adam')\n",
    "\n",
    "# base_history = model.fit(X_train[:16667], y_train_original[:16667], \n",
    "#                  validation_data=([X_train[16667:], y_train_original[16667:]]),\n",
    "#                  batch_size=1, epochs=1)"
   ]
  },
  {
   "cell_type": "code",
   "execution_count": 17,
   "metadata": {},
   "outputs": [],
   "source": [
    "# model.evaluate(X_test, y_test_original)"
   ]
  },
  {
   "cell_type": "code",
   "execution_count": 18,
   "metadata": {},
   "outputs": [],
   "source": [
    "# model.evaluate(X_train, y_train_original)"
   ]
  },
  {
   "cell_type": "code",
   "execution_count": 19,
   "metadata": {},
   "outputs": [],
   "source": [
    "# model.trainable=True"
   ]
  },
  {
   "cell_type": "markdown",
   "metadata": {},
   "source": [
    "### 2nd model"
   ]
  },
  {
   "cell_type": "code",
   "execution_count": 20,
   "metadata": {},
   "outputs": [
    {
     "name": "stdout",
     "output_type": "stream",
     "text": [
      "Train on 9254 samples, validate on 4558 samples\n",
      "Epoch 1/50\n",
      "9254/9254 [==============================] - 63s 7ms/step - loss: 0.3597 - acc: 0.8834 - val_loss: 0.3136 - val_acc: 0.8872\n",
      "Epoch 2/50\n",
      "9254/9254 [==============================] - 60s 6ms/step - loss: 0.2997 - acc: 0.8932 - val_loss: 0.3003 - val_acc: 0.8916\n",
      "Epoch 3/50\n",
      "9254/9254 [==============================] - 60s 6ms/step - loss: 0.2883 - acc: 0.8949 - val_loss: 0.2992 - val_acc: 0.8885\n",
      "Epoch 4/50\n",
      "9254/9254 [==============================] - 47s 5ms/step - loss: 0.2796 - acc: 0.8936 - val_loss: 0.2996 - val_acc: 0.8888\n",
      "Epoch 5/50\n",
      "9254/9254 [==============================] - 47s 5ms/step - loss: 0.2719 - acc: 0.8946 - val_loss: 0.2997 - val_acc: 0.8870\n",
      "Epoch 6/50\n",
      "9254/9254 [==============================] - 48s 5ms/step - loss: 0.2632 - acc: 0.8994 - val_loss: 0.3020 - val_acc: 0.8875\n",
      "Epoch 7/50\n",
      "9254/9254 [==============================] - 43s 5ms/step - loss: 0.2569 - acc: 0.9013 - val_loss: 0.3038 - val_acc: 0.8868\n",
      "Epoch 8/50\n",
      "9254/9254 [==============================] - 49s 5ms/step - loss: 0.2509 - acc: 0.9036 - val_loss: 0.3092 - val_acc: 0.8857\n",
      "Epoch 9/50\n",
      "9254/9254 [==============================] - 48s 5ms/step - loss: 0.2460 - acc: 0.9057 - val_loss: 0.3113 - val_acc: 0.8850\n",
      "Epoch 10/50\n",
      "9254/9254 [==============================] - 49s 5ms/step - loss: 0.2410 - acc: 0.9081 - val_loss: 0.3161 - val_acc: 0.8870\n",
      "Epoch 11/50\n",
      "9254/9254 [==============================] - 41s 4ms/step - loss: 0.2371 - acc: 0.9105 - val_loss: 0.3213 - val_acc: 0.8877\n",
      "Epoch 12/50\n",
      "9254/9254 [==============================] - 51s 6ms/step - loss: 0.2344 - acc: 0.9128 - val_loss: 0.3243 - val_acc: 0.8846\n",
      "Epoch 13/50\n",
      "9254/9254 [==============================] - 50s 5ms/step - loss: 0.2314 - acc: 0.9140 - val_loss: 0.3278 - val_acc: 0.8855\n",
      "Epoch 14/50\n",
      "9254/9254 [==============================] - 44s 5ms/step - loss: 0.2294 - acc: 0.9153 - val_loss: 0.3308 - val_acc: 0.8881\n",
      "Epoch 15/50\n",
      "9254/9254 [==============================] - 52s 6ms/step - loss: 0.2279 - acc: 0.9159 - val_loss: 0.3347 - val_acc: 0.8872\n",
      "Epoch 16/50\n",
      "9254/9254 [==============================] - 52s 6ms/step - loss: 0.2266 - acc: 0.9171 - val_loss: 0.3358 - val_acc: 0.8879\n",
      "Epoch 17/50\n",
      "9254/9254 [==============================] - 54s 6ms/step - loss: 0.2252 - acc: 0.9191 - val_loss: 0.3386 - val_acc: 0.8879\n",
      "Epoch 18/50\n",
      "9254/9254 [==============================] - 52s 6ms/step - loss: 0.2236 - acc: 0.9200 - val_loss: 0.3412 - val_acc: 0.8875\n",
      "Epoch 19/50\n",
      "9254/9254 [==============================] - 52s 6ms/step - loss: 0.2228 - acc: 0.9208 - val_loss: 0.3423 - val_acc: 0.8888\n",
      "Epoch 20/50\n",
      "9254/9254 [==============================] - 51s 6ms/step - loss: 0.2215 - acc: 0.9210 - val_loss: 0.3444 - val_acc: 0.8899\n",
      "Epoch 21/50\n",
      "9254/9254 [==============================] - 52s 6ms/step - loss: 0.2204 - acc: 0.9208 - val_loss: 0.3467 - val_acc: 0.8894\n",
      "Epoch 22/50\n",
      "9254/9254 [==============================] - 51s 6ms/step - loss: 0.2202 - acc: 0.9222 - val_loss: 0.3504 - val_acc: 0.8885\n",
      "Epoch 23/50\n",
      "9254/9254 [==============================] - 76s 8ms/step - loss: 0.2185 - acc: 0.9227 - val_loss: 0.3529 - val_acc: 0.8885\n",
      "Epoch 24/50\n",
      "9254/9254 [==============================] - 91s 10ms/step - loss: 0.2183 - acc: 0.9231 - val_loss: 0.3557 - val_acc: 0.8881\n",
      "Epoch 25/50\n",
      "9254/9254 [==============================] - 57s 6ms/step - loss: 0.2165 - acc: 0.9234 - val_loss: 0.3581 - val_acc: 0.8885\n",
      "Epoch 26/50\n",
      "9254/9254 [==============================] - 48s 5ms/step - loss: 0.2178 - acc: 0.9234 - val_loss: 0.3615 - val_acc: 0.8888\n",
      "Epoch 27/50\n",
      "9254/9254 [==============================] - 48s 5ms/step - loss: 0.2156 - acc: 0.9244 - val_loss: 0.3635 - val_acc: 0.8888\n",
      "Epoch 28/50\n",
      "9254/9254 [==============================] - 48s 5ms/step - loss: 0.2153 - acc: 0.9247 - val_loss: 0.3669 - val_acc: 0.8892\n",
      "Epoch 29/50\n",
      "9254/9254 [==============================] - 48s 5ms/step - loss: 0.2147 - acc: 0.9246 - val_loss: 0.3724 - val_acc: 0.8872\n",
      "Epoch 30/50\n",
      "9254/9254 [==============================] - 48s 5ms/step - loss: 0.2140 - acc: 0.9248 - val_loss: 0.3718 - val_acc: 0.8879\n",
      "Epoch 31/50\n",
      "9254/9254 [==============================] - 47s 5ms/step - loss: 0.2133 - acc: 0.9255 - val_loss: 0.3781 - val_acc: 0.8879\n",
      "Epoch 32/50\n",
      "9254/9254 [==============================] - 47s 5ms/step - loss: 0.2121 - acc: 0.9252 - val_loss: 0.3804 - val_acc: 0.8872\n",
      "Epoch 33/50\n",
      "9254/9254 [==============================] - 47s 5ms/step - loss: 0.2129 - acc: 0.9253 - val_loss: 0.3823 - val_acc: 0.8881\n",
      "Epoch 34/50\n",
      "9254/9254 [==============================] - 48s 5ms/step - loss: 0.2113 - acc: 0.9262 - val_loss: 0.3862 - val_acc: 0.8881\n",
      "Epoch 35/50\n",
      "9254/9254 [==============================] - 48s 5ms/step - loss: 0.2117 - acc: 0.9258 - val_loss: 0.3893 - val_acc: 0.8877\n",
      "Epoch 36/50\n",
      "9254/9254 [==============================] - 47s 5ms/step - loss: 0.2119 - acc: 0.9260 - val_loss: 0.3933 - val_acc: 0.8875\n",
      "Epoch 37/50\n",
      "9254/9254 [==============================] - 47s 5ms/step - loss: 0.2105 - acc: 0.9262 - val_loss: 0.3954 - val_acc: 0.8877\n",
      "Epoch 38/50\n",
      "9254/9254 [==============================] - 47s 5ms/step - loss: 0.2100 - acc: 0.9272 - val_loss: 0.3964 - val_acc: 0.8866\n",
      "Epoch 39/50\n",
      "9254/9254 [==============================] - 47s 5ms/step - loss: 0.2093 - acc: 0.9271 - val_loss: 0.4060 - val_acc: 0.8864\n",
      "Epoch 40/50\n",
      "9254/9254 [==============================] - 47s 5ms/step - loss: 0.2098 - acc: 0.9273 - val_loss: 0.4082 - val_acc: 0.8850\n",
      "Epoch 41/50\n",
      "9254/9254 [==============================] - 48s 5ms/step - loss: 0.2099 - acc: 0.9272 - val_loss: 0.4129 - val_acc: 0.8850\n",
      "Epoch 42/50\n",
      "9254/9254 [==============================] - 49s 5ms/step - loss: 0.2084 - acc: 0.9280 - val_loss: 0.4123 - val_acc: 0.8855\n",
      "Epoch 43/50\n",
      "9254/9254 [==============================] - 48s 5ms/step - loss: 0.2103 - acc: 0.9274 - val_loss: 0.4066 - val_acc: 0.8859\n",
      "Epoch 44/50\n",
      "9254/9254 [==============================] - 48s 5ms/step - loss: 0.2085 - acc: 0.9287 - val_loss: 0.4171 - val_acc: 0.8855\n",
      "Epoch 45/50\n",
      "9254/9254 [==============================] - 48s 5ms/step - loss: 0.2087 - acc: 0.9278 - val_loss: 0.4149 - val_acc: 0.8857\n",
      "Epoch 46/50\n",
      "9254/9254 [==============================] - 48s 5ms/step - loss: 0.2089 - acc: 0.9281 - val_loss: 0.4193 - val_acc: 0.8853\n",
      "Epoch 47/50\n",
      "9254/9254 [==============================] - 49s 5ms/step - loss: 0.2081 - acc: 0.9280 - val_loss: 0.4143 - val_acc: 0.8859\n",
      "Epoch 48/50\n",
      "9254/9254 [==============================] - 48s 5ms/step - loss: 0.2087 - acc: 0.9278 - val_loss: 0.4252 - val_acc: 0.8857\n",
      "Epoch 49/50\n",
      "9254/9254 [==============================] - 48s 5ms/step - loss: 0.2076 - acc: 0.9286 - val_loss: 0.4232 - val_acc: 0.8857\n",
      "Epoch 50/50\n",
      "9254/9254 [==============================] - 48s 5ms/step - loss: 0.2083 - acc: 0.9279 - val_loss: 0.4286 - val_acc: 0.8850\n"
     ]
    }
   ],
   "source": [
    "def layer_split(x):\n",
    "    return tf.split(x,num_or_size_splits=human_terms_len,axis=1)\n",
    "\n",
    "def layer_concat(x):\n",
    "    return tf.concat(x, axis=1)\n",
    "\n",
    "# build the combined model\n",
    "# Combined model\n",
    "human_terms_len = len(word_list)\n",
    "\n",
    "# base_model = build_base_model(X_train.shape[1])\n",
    "\n",
    "combined_input_layer = Input(shape=(X_train.shape[1],))\n",
    "\n",
    "# build the hard coded weight for human terms\n",
    "ht_input_layer = Input(shape=(human_terms_len,))\n",
    "\n",
    "# split = Lambda( lambda x: tf.split(x,num_or_size_splits=human_terms_len,axis=1))(ht_input_layer)\n",
    "split = Lambda(layer_split)(ht_input_layer)\n",
    "\n",
    "# get the document prediction\n",
    "label_layer = model(combined_input_layer)\n",
    "tanh_norm = Lambda(lambda x: (x*2)-1)(label_layer)\n",
    "# tanh_norm = Lambda(lambda x: tf.scalar_mul(2,x)-1)(label_layer)\n",
    "\n",
    "# do normalize of bipolar sigmoid\n",
    "\n",
    "\n",
    "# stack the multiply layer\n",
    "dense_layer = []\n",
    "for i in range(human_terms_len):\n",
    "    dense_layer.append(Dense(1, activation='relu', use_bias=False)(Multiply()([split[i], tanh_norm])))\n",
    "\n",
    "# concat all the result   \n",
    "# concat = Lambda( lambda x: tf.concat(x, axis=1), name='concatenate')(dense_layer)\n",
    "concat = Lambda(layer_concat, name='concatenate')(dense_layer)\n",
    "\n",
    "\n",
    "# pass it to sigmoid layer\n",
    "output_layer = Dense(1, activation='sigmoid')(concat)\n",
    "\n",
    "combined_model = Model(inputs=[combined_input_layer, ht_input_layer], outputs=output_layer)\n",
    "# combined_model.summary()\n",
    "\n",
    "\n",
    "combined_model.compile(loss='binary_crossentropy',\n",
    "                      optimizer='adam',\n",
    "                      metrics=['acc'])\n",
    "\n",
    "# y_train_tanh = y_train_original\n",
    "# y_train_tanh[y_train_tanh == 0] = -1\n",
    "\n",
    "# y_test_tanh = y_test_original\n",
    "# y_test_tanh[y_test_tanh == 0] = -1\n",
    "\n",
    "# base_model_history = base_model.fit(X_train[:16667], y_train_original[:16667], \n",
    "#                                     validation_data=(X_train[16667:], y_train_original[16667:]),\n",
    "#                                     batch_size=1, epochs=1)\n",
    "\n",
    "combined_model_history = combined_model.fit([X_train,y_train_agreement], y_train, \n",
    "                                            validation_split=0.33, shuffle=False,\n",
    "                                            batch_size=1, epochs=50)"
   ]
  },
  {
   "cell_type": "code",
   "execution_count": 21,
   "metadata": {},
   "outputs": [],
   "source": [
    "def accuracy_reject(combined_model, X, y_agreement, y):\n",
    "    human_terms_relu_model = Model(inputs=combined_model.input,\n",
    "                                    outputs=combined_model.get_layer('concatenate').output)\n",
    "    predict_relu = human_terms_relu_model.predict([X, y_agreement])\n",
    "    accept_indices = np.where(np.sum(predict_relu, axis=1)!=0)\n",
    "    accept_indices = accept_indices[0]\n",
    "    total_reject = X.shape[0] - len(accept_indices)\n",
    "    rejection_rate = total_reject/X.shape[0]\n",
    "\n",
    "    test_eval = combined_model.evaluate([X[accept_indices], y_agreement[accept_indices]], y[accept_indices])\n",
    "    \n",
    "    return test_eval, rejection_rate, total_reject"
   ]
  },
  {
   "cell_type": "code",
   "execution_count": 22,
   "metadata": {},
   "outputs": [
    {
     "name": "stdout",
     "output_type": "stream",
     "text": [
      "6803/6803 [==============================] - 0s 71us/step\n",
      "13812/13812 [==============================] - 1s 67us/step\n",
      "4528/4528 [==============================] - 0s 63us/step\n",
      "9161/9161 [==============================] - 1s 61us/step\n"
     ]
    }
   ],
   "source": [
    "test_ev = combined_model.evaluate([X_test, y_test_agreement], y_test)\n",
    "train_ev = combined_model.evaluate([X_train, y_train_agreement], y_train)\n",
    "\n",
    "def accuracy_reject(combined_model, X, y_agreement, y):\n",
    "    human_terms_relu_model = Model(inputs=combined_model.input,\n",
    "                                    outputs=combined_model.get_layer('concatenate').output)\n",
    "    predict_relu = human_terms_relu_model.predict([X, y_agreement])\n",
    "    accept_indices = np.where(np.sum(predict_relu, axis=1)!=0)\n",
    "    accept_indices = accept_indices[0]\n",
    "    total_reject = X.shape[0] - len(accept_indices)\n",
    "    rejection_rate = total_reject/X.shape[0]\n",
    "\n",
    "    test_eval = combined_model.evaluate([X[accept_indices], y_agreement[accept_indices]], y[accept_indices])\n",
    "    \n",
    "    return test_eval, rejection_rate, total_reject\n",
    "\n",
    "test_ev_reject = accuracy_reject(combined_model, X_test, y_test_agreement, y_test)\n",
    "train_ev_reject = accuracy_reject(combined_model, X_train, y_train_agreement, y_train)"
   ]
  },
  {
   "cell_type": "code",
   "execution_count": 23,
   "metadata": {},
   "outputs": [
    {
     "name": "stdout",
     "output_type": "stream",
     "text": [
      "0.281803 \t 0.913553\n",
      "0.398366 \t 0.889167\n",
      "0.220948 \t 0.939635 \t 0.336736 \t 4651\n",
      "0.380212 \t 0.911219 \t 0.334411 \t 2275\n"
     ]
    }
   ],
   "source": [
    "print('%f \\t %f' %(train_ev[0], train_ev[1]))\n",
    "print('%f \\t %f' %(test_ev[0], test_ev[1]))\n",
    "print('%f \\t %f \\t %f \\t %d' %(train_ev_reject[0][0], train_ev_reject[0][1], train_ev_reject[1], train_ev_reject[2]))\n",
    "print('%f \\t %f \\t %f \\t %d' %(test_ev_reject[0][0], test_ev_reject[0][1], test_ev_reject[1], test_ev_reject[2]))"
   ]
  },
  {
   "cell_type": "code",
   "execution_count": 24,
   "metadata": {},
   "outputs": [],
   "source": [
    "# history_plot(base_history,'RDclf')"
   ]
  },
  {
   "cell_type": "code",
   "execution_count": 25,
   "metadata": {},
   "outputs": [
    {
     "data": {
      "image/png": "[encoded data removed]",
      "text/plain": [
       "<Figure size 432x288 with 1 Axes>"
      ]
     },
     "metadata": {},
     "output_type": "display_data"
    },
    {
     "data": {
      "image/png": "[encoded data removed]",
      "text/plain": [
       "<Figure size 432x288 with 1 Axes>"
      ]
     },
     "metadata": {},
     "output_type": "display_data"
    },
    {
     "data": {
      "text/plain": [
       "<Figure size 432x288 with 0 Axes>"
      ]
     },
     "metadata": {},
     "output_type": "display_data"
    }
   ],
   "source": [
    "history_plot(combined_model_history,'TTclf')"
   ]
  },
  {
   "cell_type": "code",
   "execution_count": 26,
   "metadata": {},
   "outputs": [],
   "source": [
    "# combined_model.save('./figure/amazon-joint-50.h5')"
   ]
  }
 ],
 "metadata": {
  "kernelspec": {
   "display_name": "Python 3",
   "language": "python",
   "name": "python3"
  },
  "language_info": {
   "codemirror_mode": {
    "name": "ipython",
    "version": 3
   },
   "file_extension": ".py",
   "mimetype": "text/x-python",
   "name": "python",
   "nbconvert_exporter": "python",
   "pygments_lexer": "ipython3",
   "version": "3.6.6"
  }
 },
 "nbformat": 4,
 "nbformat_minor": 2
}

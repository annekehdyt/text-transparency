{
 "cells": [
  {
   "cell_type": "code",
   "execution_count": 24,
   "metadata": {},
   "outputs": [],
   "source": [
    "from keras.layers import Input, Dense, TimeDistributed, Embedding\n",
    "from keras.layers import Concatenate, Reshape, Lambda, Multiply, multiply, concatenate\n",
    "from keras.models import Model\n",
    "from keras import backend as K\n",
    "\n",
    "import os\n",
    "# os.environ['CUDA_VISIBLE_DEVICES'] = ''\n",
    "\n",
    "import tensorflow as tf\n",
    "import numpy as np\n",
    "\n",
    "from dataset_load import *\n",
    "from human_terms_network import *"
   ]
  },
  {
   "cell_type": "markdown",
   "metadata": {},
   "source": [
    "### Load"
   ]
  },
  {
   "cell_type": "code",
   "execution_count": 2,
   "metadata": {},
   "outputs": [],
   "source": [
    "path = r\"..\\..\\data\\reviews_Amazon_Instant_Video_5.json.gz\"\n",
    "\n",
    "X, y = extract_review_amazon(path, 'reviewText')"
   ]
  },
  {
   "cell_type": "code",
   "execution_count": 3,
   "metadata": {},
   "outputs": [],
   "source": [
    "y_label = np.asarray(y)\n",
    "\n",
    "neutral_indices = np.where(y_label == 3)[0]\n",
    "y_label[y_label<3] = 0\n",
    "y_label[y_label>3] = 1\n",
    "\n",
    "X_discarded = np.delete(X,neutral_indices)\n",
    "y_discarded = np.delete(y_label, neutral_indices)"
   ]
  },
  {
   "cell_type": "code",
   "execution_count": 4,
   "metadata": {},
   "outputs": [
    {
     "data": {
      "text/plain": [
       "array([0., 1., 0., 1., 1., 1., 1., 1., 1., 1., 0., 1., 1., 1., 1., 1., 1.,\n",
       "       1., 1., 0., 0., 1., 1., 1., 1., 1., 0., 1., 1., 1., 1., 1., 1., 1.,\n",
       "       1., 1., 1., 1., 1., 1., 1., 1., 0., 1., 1., 1., 1., 0., 1., 1., 1.,\n",
       "       1., 1., 1., 1., 1., 1., 1., 1., 1., 1., 1., 1., 1., 1., 1., 1., 1.,\n",
       "       1., 1., 1., 1., 1., 1., 1., 1., 1., 1., 1., 1., 1., 1., 1., 1., 1.,\n",
       "       1., 1., 1., 1., 1., 1., 1., 1., 1., 1., 1., 0., 1., 1., 1.])"
      ]
     },
     "execution_count": 4,
     "metadata": {},
     "output_type": "execute_result"
    }
   ],
   "source": [
    "y_discarded[:100]"
   ]
  },
  {
   "cell_type": "code",
   "execution_count": 5,
   "metadata": {},
   "outputs": [
    {
     "data": {
      "text/plain": [
       "array([\"I had big expectations because I love English TV, in particular Investigative and detective stuff but this guy is really boring. It didn't appeal to me at all.\",\n",
       "       'I highly recommend this series. It is a must for anyone who is yearning to watch \"grown up\" television. Complex characters and plots to keep one totally involved. Thank you Amazin Prime.'],\n",
       "      dtype='<U18152')"
      ]
     },
     "execution_count": 5,
     "metadata": {},
     "output_type": "execute_result"
    }
   ],
   "source": [
    "X_discarded[:2]"
   ]
  },
  {
   "cell_type": "code",
   "execution_count": 6,
   "metadata": {},
   "outputs": [
    {
     "name": "stdout",
     "output_type": "stream",
     "text": [
      "(75, 2)\n",
      "corpus update start\n",
      "corpus update end\n",
      "\n",
      "(75, 2)\n",
      "corpus update start\n",
      "corpus update end\n",
      "\n"
     ]
    }
   ],
   "source": [
    "from sklearn.feature_extraction.text import CountVectorizer\n",
    "from sklearn.model_selection import train_test_split, ShuffleSplit\n",
    "\n",
    "# split\n",
    "X_train_split, X_test_split, y_train, y_test = train_test_split(X_discarded, y_discarded, test_size=0.33, random_state=42)\n",
    "\n",
    "# preprocessing\n",
    "X_train_corpus_update = update_corpus_contraction(X_train_split)\n",
    "X_test_corpus_update = update_corpus_contraction(X_test_split)"
   ]
  },
  {
   "cell_type": "code",
   "execution_count": 7,
   "metadata": {},
   "outputs": [],
   "source": [
    "# count vectorizer\n",
    "token = r\"(?u)\\b[\\w\\'/]+\\b\"\n",
    "cv = CountVectorizer(lowercase=True, max_df=1.0, min_df=100, binary=True, token_pattern=token)\n",
    "cv.set_params(ngram_range=(1,1))\n",
    "\n",
    "cv.fit(X_train_split)\n",
    "\n",
    "X_train = cv.transform(X_train_corpus_update)\n",
    "X_test = cv.transform(X_test_corpus_update)\n",
    "\n",
    "words = cv.get_feature_names()"
   ]
  },
  {
   "cell_type": "code",
   "execution_count": 8,
   "metadata": {},
   "outputs": [
    {
     "name": "stdout",
     "output_type": "stream",
     "text": [
      "+ :  19630\n",
      "- :  2439\n",
      "+ :  9706\n",
      "- :  1164\n"
     ]
    }
   ],
   "source": [
    "print('+ : ', np.sum(y_train==1))\n",
    "print('- : ', np.sum(y_train==0))\n",
    "\n",
    "print('+ : ', np.sum(y_test==1))\n",
    "print('- : ', np.sum(y_test==0))\n",
    "\n"
   ]
  },
  {
   "cell_type": "code",
   "execution_count": 9,
   "metadata": {},
   "outputs": [
    {
     "name": "stdout",
     "output_type": "stream",
     "text": [
      "0.9499297657347411\n",
      "0.9271389144434222\n"
     ]
    }
   ],
   "source": [
    "from sklearn.linear_model import LogisticRegression\n",
    "\n",
    "clf = LogisticRegression(random_state=42)\n",
    "\n",
    "clf.fit(X_train, y_train)\n",
    "\n",
    "print(clf.score(X_train, y_train))\n",
    "print(clf.score(X_test, y_test))"
   ]
  },
  {
   "cell_type": "code",
   "execution_count": 17,
   "metadata": {},
   "outputs": [
    {
     "name": "stdout",
     "output_type": "stream",
     "text": [
      "hooked\n",
      "unexpected\n",
      "hilarious\n",
      "control\n",
      "solving\n",
      "refreshing\n",
      "enjoyed\n",
      "intense\n",
      "incredible\n",
      "develop\n",
      "glad\n",
      "awesome\n",
      "intelligent\n",
      "loves\n",
      "lee\n",
      "paced\n",
      "perfectly\n",
      "area\n",
      "ending\n",
      "renewed\n",
      "favorite\n",
      "growing\n",
      "great\n",
      "twists\n",
      "thank\n",
      "journey\n",
      "today\n",
      "whether\n",
      "love\n",
      "informative\n",
      "holds\n",
      "dramatic\n",
      "edge\n",
      "amazing\n",
      "questions\n",
      "truth\n",
      "earlier\n",
      "favorites\n",
      "working\n",
      "illiant\n",
      "personalities\n",
      "powerful\n",
      "highly\n",
      "disappoint\n",
      "fantastic\n",
      "tale\n",
      "share\n",
      "perfect\n",
      "wow\n",
      "pleasure\n",
      "\n",
      "waste\n",
      "boring\n",
      "terrible\n",
      "worst\n",
      "pass\n",
      "horrible\n",
      "poor\n",
      "taste\n",
      "dull\n",
      "dumb\n",
      "unfortunately\n",
      "sadly\n",
      "awful\n",
      "flat\n",
      "fell\n",
      "stupid\n",
      "falls\n",
      "nothing\n",
      "boyfriend\n",
      "worse\n",
      "avoid\n",
      "tried\n",
      "instead\n",
      "necessary\n",
      "attempt\n",
      "audience\n",
      "value\n",
      "moral\n",
      "concept\n",
      "tired\n",
      "shots\n",
      "slowly\n",
      "directed\n",
      "care\n",
      "alien\n",
      "supposed\n",
      "sick\n",
      "none\n",
      "predictable\n",
      "used\n",
      "emotional\n",
      "save\n",
      "co\n",
      "apparently\n",
      "unless\n",
      "premise\n",
      "equally\n",
      "ridiculous\n",
      "beyond\n",
      "finish\n"
     ]
    }
   ],
   "source": [
    "weight = clf.coef_.flatten()\n",
    "indices = np.argsort(weight)[::-1]\n",
    "\n",
    "for i in indices[:50]:\n",
    "    print(\"%s\" %(words[i]))\n",
    "\n",
    "reversed_indices = indices[::-1]\n",
    "print()\n",
    "for i in reversed_indices[:50]:\n",
    "    print(\"%s\" %(words[i]))"
   ]
  },
  {
   "cell_type": "code",
   "execution_count": 10,
   "metadata": {},
   "outputs": [],
   "source": [
    "word_list, connotation = load_unigrams('./amazon-video-unigrams.txt', X_train_corpus_update, y_train)"
   ]
  },
  {
   "cell_type": "code",
   "execution_count": 11,
   "metadata": {},
   "outputs": [],
   "source": [
    "y_train_agreement, y_test_agreement = generate_appearance(X_train_corpus_update, X_test_corpus_update, \n",
    "                                                          word_list, connotation)"
   ]
  },
  {
   "cell_type": "code",
   "execution_count": 12,
   "metadata": {},
   "outputs": [
    {
     "data": {
      "text/plain": [
       "(22069, 30)"
      ]
     },
     "execution_count": 12,
     "metadata": {},
     "output_type": "execute_result"
    }
   ],
   "source": [
    "y_train_agreement.shape"
   ]
  },
  {
   "cell_type": "code",
   "execution_count": 13,
   "metadata": {},
   "outputs": [
    {
     "data": {
      "text/plain": [
       "30"
      ]
     },
     "execution_count": 13,
     "metadata": {},
     "output_type": "execute_result"
    }
   ],
   "source": [
    "len(word_list)"
   ]
  },
  {
   "cell_type": "code",
   "execution_count": 19,
   "metadata": {},
   "outputs": [
    {
     "name": "stdout",
     "output_type": "stream",
     "text": [
      "_________________________________________________________________\n",
      "Layer (type)                 Output Shape              Param #   \n",
      "=================================================================\n",
      "input_4 (InputLayer)         (None, 1499)              0         \n",
      "_________________________________________________________________\n",
      "tanh_output (Dense)          (None, 1)                 1500      \n",
      "=================================================================\n",
      "Total params: 1,500\n",
      "Trainable params: 1,500\n",
      "Non-trainable params: 0\n",
      "_________________________________________________________________\n",
      "__________________________________________________________________________________________________\n",
      "Layer (type)                    Output Shape         Param #     Connected to                     \n",
      "==================================================================================================\n",
      "input_6 (InputLayer)            (None, 30)           0                                            \n",
      "__________________________________________________________________________________________________\n",
      "input_5 (InputLayer)            (None, 1499)         0                                            \n",
      "__________________________________________________________________________________________________\n",
      "lambda_2 (Lambda)               [(None, 1), (None, 1 0           input_6[0][0]                    \n",
      "__________________________________________________________________________________________________\n",
      "model_3 (Model)                 (None, 1)            1500        input_5[0][0]                    \n",
      "__________________________________________________________________________________________________\n",
      "multiply_31 (Multiply)          (None, 1)            0           lambda_2[0][0]                   \n",
      "                                                                 model_3[1][0]                    \n",
      "__________________________________________________________________________________________________\n",
      "multiply_32 (Multiply)          (None, 1)            0           lambda_2[0][1]                   \n",
      "                                                                 model_3[1][0]                    \n",
      "__________________________________________________________________________________________________\n",
      "multiply_33 (Multiply)          (None, 1)            0           lambda_2[0][2]                   \n",
      "                                                                 model_3[1][0]                    \n",
      "__________________________________________________________________________________________________\n",
      "multiply_34 (Multiply)          (None, 1)            0           lambda_2[0][3]                   \n",
      "                                                                 model_3[1][0]                    \n",
      "__________________________________________________________________________________________________\n",
      "multiply_35 (Multiply)          (None, 1)            0           lambda_2[0][4]                   \n",
      "                                                                 model_3[1][0]                    \n",
      "__________________________________________________________________________________________________\n",
      "multiply_36 (Multiply)          (None, 1)            0           lambda_2[0][5]                   \n",
      "                                                                 model_3[1][0]                    \n",
      "__________________________________________________________________________________________________\n",
      "multiply_37 (Multiply)          (None, 1)            0           lambda_2[0][6]                   \n",
      "                                                                 model_3[1][0]                    \n",
      "__________________________________________________________________________________________________\n",
      "multiply_38 (Multiply)          (None, 1)            0           lambda_2[0][7]                   \n",
      "                                                                 model_3[1][0]                    \n",
      "__________________________________________________________________________________________________\n",
      "multiply_39 (Multiply)          (None, 1)            0           lambda_2[0][8]                   \n",
      "                                                                 model_3[1][0]                    \n",
      "__________________________________________________________________________________________________\n",
      "multiply_40 (Multiply)          (None, 1)            0           lambda_2[0][9]                   \n",
      "                                                                 model_3[1][0]                    \n",
      "__________________________________________________________________________________________________\n",
      "multiply_41 (Multiply)          (None, 1)            0           lambda_2[0][10]                  \n",
      "                                                                 model_3[1][0]                    \n",
      "__________________________________________________________________________________________________\n",
      "multiply_42 (Multiply)          (None, 1)            0           lambda_2[0][11]                  \n",
      "                                                                 model_3[1][0]                    \n",
      "__________________________________________________________________________________________________\n",
      "multiply_43 (Multiply)          (None, 1)            0           lambda_2[0][12]                  \n",
      "                                                                 model_3[1][0]                    \n",
      "__________________________________________________________________________________________________\n",
      "multiply_44 (Multiply)          (None, 1)            0           lambda_2[0][13]                  \n",
      "                                                                 model_3[1][0]                    \n",
      "__________________________________________________________________________________________________\n",
      "multiply_45 (Multiply)          (None, 1)            0           lambda_2[0][14]                  \n",
      "                                                                 model_3[1][0]                    \n",
      "__________________________________________________________________________________________________\n",
      "multiply_46 (Multiply)          (None, 1)            0           lambda_2[0][15]                  \n",
      "                                                                 model_3[1][0]                    \n",
      "__________________________________________________________________________________________________\n",
      "multiply_47 (Multiply)          (None, 1)            0           lambda_2[0][16]                  \n",
      "                                                                 model_3[1][0]                    \n",
      "__________________________________________________________________________________________________\n",
      "multiply_48 (Multiply)          (None, 1)            0           lambda_2[0][17]                  \n",
      "                                                                 model_3[1][0]                    \n",
      "__________________________________________________________________________________________________\n",
      "multiply_49 (Multiply)          (None, 1)            0           lambda_2[0][18]                  \n",
      "                                                                 model_3[1][0]                    \n",
      "__________________________________________________________________________________________________\n",
      "multiply_50 (Multiply)          (None, 1)            0           lambda_2[0][19]                  \n",
      "                                                                 model_3[1][0]                    \n",
      "__________________________________________________________________________________________________\n",
      "multiply_51 (Multiply)          (None, 1)            0           lambda_2[0][20]                  \n",
      "                                                                 model_3[1][0]                    \n",
      "__________________________________________________________________________________________________\n",
      "multiply_52 (Multiply)          (None, 1)            0           lambda_2[0][21]                  \n",
      "                                                                 model_3[1][0]                    \n",
      "__________________________________________________________________________________________________\n",
      "multiply_53 (Multiply)          (None, 1)            0           lambda_2[0][22]                  \n",
      "                                                                 model_3[1][0]                    \n",
      "__________________________________________________________________________________________________\n",
      "multiply_54 (Multiply)          (None, 1)            0           lambda_2[0][23]                  \n",
      "                                                                 model_3[1][0]                    \n",
      "__________________________________________________________________________________________________\n",
      "multiply_55 (Multiply)          (None, 1)            0           lambda_2[0][24]                  \n",
      "                                                                 model_3[1][0]                    \n",
      "__________________________________________________________________________________________________\n",
      "multiply_56 (Multiply)          (None, 1)            0           lambda_2[0][25]                  \n",
      "                                                                 model_3[1][0]                    \n",
      "__________________________________________________________________________________________________\n",
      "multiply_57 (Multiply)          (None, 1)            0           lambda_2[0][26]                  \n",
      "                                                                 model_3[1][0]                    \n",
      "__________________________________________________________________________________________________\n",
      "multiply_58 (Multiply)          (None, 1)            0           lambda_2[0][27]                  \n",
      "                                                                 model_3[1][0]                    \n",
      "__________________________________________________________________________________________________\n",
      "multiply_59 (Multiply)          (None, 1)            0           lambda_2[0][28]                  \n",
      "                                                                 model_3[1][0]                    \n",
      "__________________________________________________________________________________________________\n",
      "multiply_60 (Multiply)          (None, 1)            0           lambda_2[0][29]                  \n",
      "                                                                 model_3[1][0]                    \n",
      "__________________________________________________________________________________________________\n",
      "dense_32 (Dense)                (None, 1)            1           multiply_31[0][0]                \n",
      "__________________________________________________________________________________________________\n",
      "dense_33 (Dense)                (None, 1)            1           multiply_32[0][0]                \n",
      "__________________________________________________________________________________________________\n",
      "dense_34 (Dense)                (None, 1)            1           multiply_33[0][0]                \n",
      "__________________________________________________________________________________________________\n",
      "dense_35 (Dense)                (None, 1)            1           multiply_34[0][0]                \n",
      "__________________________________________________________________________________________________\n",
      "dense_36 (Dense)                (None, 1)            1           multiply_35[0][0]                \n",
      "__________________________________________________________________________________________________\n",
      "dense_37 (Dense)                (None, 1)            1           multiply_36[0][0]                \n",
      "__________________________________________________________________________________________________\n",
      "dense_38 (Dense)                (None, 1)            1           multiply_37[0][0]                \n",
      "__________________________________________________________________________________________________\n",
      "dense_39 (Dense)                (None, 1)            1           multiply_38[0][0]                \n",
      "__________________________________________________________________________________________________\n",
      "dense_40 (Dense)                (None, 1)            1           multiply_39[0][0]                \n",
      "__________________________________________________________________________________________________\n",
      "dense_41 (Dense)                (None, 1)            1           multiply_40[0][0]                \n",
      "__________________________________________________________________________________________________\n",
      "dense_42 (Dense)                (None, 1)            1           multiply_41[0][0]                \n",
      "__________________________________________________________________________________________________\n",
      "dense_43 (Dense)                (None, 1)            1           multiply_42[0][0]                \n",
      "__________________________________________________________________________________________________\n",
      "dense_44 (Dense)                (None, 1)            1           multiply_43[0][0]                \n",
      "__________________________________________________________________________________________________\n",
      "dense_45 (Dense)                (None, 1)            1           multiply_44[0][0]                \n",
      "__________________________________________________________________________________________________\n",
      "dense_46 (Dense)                (None, 1)            1           multiply_45[0][0]                \n",
      "__________________________________________________________________________________________________\n",
      "dense_47 (Dense)                (None, 1)            1           multiply_46[0][0]                \n",
      "__________________________________________________________________________________________________\n",
      "dense_48 (Dense)                (None, 1)            1           multiply_47[0][0]                \n",
      "__________________________________________________________________________________________________\n",
      "dense_49 (Dense)                (None, 1)            1           multiply_48[0][0]                \n",
      "__________________________________________________________________________________________________\n",
      "dense_50 (Dense)                (None, 1)            1           multiply_49[0][0]                \n",
      "__________________________________________________________________________________________________\n",
      "dense_51 (Dense)                (None, 1)            1           multiply_50[0][0]                \n",
      "__________________________________________________________________________________________________\n",
      "dense_52 (Dense)                (None, 1)            1           multiply_51[0][0]                \n",
      "__________________________________________________________________________________________________\n",
      "dense_53 (Dense)                (None, 1)            1           multiply_52[0][0]                \n",
      "__________________________________________________________________________________________________\n",
      "dense_54 (Dense)                (None, 1)            1           multiply_53[0][0]                \n",
      "__________________________________________________________________________________________________\n",
      "dense_55 (Dense)                (None, 1)            1           multiply_54[0][0]                \n",
      "__________________________________________________________________________________________________\n",
      "dense_56 (Dense)                (None, 1)            1           multiply_55[0][0]                \n",
      "__________________________________________________________________________________________________\n",
      "dense_57 (Dense)                (None, 1)            1           multiply_56[0][0]                \n",
      "__________________________________________________________________________________________________\n",
      "dense_58 (Dense)                (None, 1)            1           multiply_57[0][0]                \n",
      "__________________________________________________________________________________________________\n",
      "dense_59 (Dense)                (None, 1)            1           multiply_58[0][0]                \n",
      "__________________________________________________________________________________________________\n",
      "dense_60 (Dense)                (None, 1)            1           multiply_59[0][0]                \n",
      "__________________________________________________________________________________________________\n",
      "dense_61 (Dense)                (None, 1)            1           multiply_60[0][0]                \n",
      "__________________________________________________________________________________________________\n",
      "concatenate (Lambda)            (None, 30)           0           dense_32[0][0]                   \n",
      "                                                                 dense_33[0][0]                   \n",
      "                                                                 dense_34[0][0]                   \n",
      "                                                                 dense_35[0][0]                   \n",
      "                                                                 dense_36[0][0]                   \n",
      "                                                                 dense_37[0][0]                   \n",
      "                                                                 dense_38[0][0]                   \n",
      "                                                                 dense_39[0][0]                   \n",
      "                                                                 dense_40[0][0]                   \n",
      "                                                                 dense_41[0][0]                   \n",
      "                                                                 dense_42[0][0]                   \n",
      "                                                                 dense_43[0][0]                   \n",
      "                                                                 dense_44[0][0]                   \n",
      "                                                                 dense_45[0][0]                   \n",
      "                                                                 dense_46[0][0]                   \n",
      "                                                                 dense_47[0][0]                   \n",
      "                                                                 dense_48[0][0]                   \n",
      "                                                                 dense_49[0][0]                   \n",
      "                                                                 dense_50[0][0]                   \n",
      "                                                                 dense_51[0][0]                   \n",
      "                                                                 dense_52[0][0]                   \n",
      "                                                                 dense_53[0][0]                   \n",
      "                                                                 dense_54[0][0]                   \n",
      "                                                                 dense_55[0][0]                   \n",
      "                                                                 dense_56[0][0]                   \n",
      "                                                                 dense_57[0][0]                   \n",
      "                                                                 dense_58[0][0]                   \n",
      "                                                                 dense_59[0][0]                   \n",
      "                                                                 dense_60[0][0]                   \n",
      "                                                                 dense_61[0][0]                   \n",
      "__________________________________________________________________________________________________\n",
      "dense_62 (Dense)                (None, 1)            31          concatenate[0][0]                \n",
      "==================================================================================================\n",
      "Total params: 1,561\n",
      "Trainable params: 1,561\n",
      "Non-trainable params: 0\n",
      "__________________________________________________________________________________________________\n"
     ]
    }
   ],
   "source": [
    "htm = Human_Terms_Network(input_shape=X_train.shape[1], human_terms_shape=len(word_list))\n",
    "\n",
    "# Plan\n",
    "# Set the data\n",
    "# including the y_agreement"
   ]
  },
  {
   "cell_type": "code",
   "execution_count": 15,
   "metadata": {},
   "outputs": [],
   "source": [
    "y_tanh_train = y_train\n",
    "y_tanh_test = y_test\n",
    "\n",
    "y_tanh_train[y_tanh_train==0] = -1\n",
    "y_tanh_test[y_tanh_test==0] = -1"
   ]
  },
  {
   "cell_type": "code",
   "execution_count": 16,
   "metadata": {},
   "outputs": [
    {
     "data": {
      "text/plain": [
       "(10870,)"
      ]
     },
     "execution_count": 16,
     "metadata": {},
     "output_type": "execute_result"
    }
   ],
   "source": [
    "y_test.shape"
   ]
  },
  {
   "cell_type": "code",
   "execution_count": 20,
   "metadata": {},
   "outputs": [],
   "source": [
    "htm.set_data(X_train[:1000], X_test[:1000], y_train_agreement[:1000], y_test_agreement[:1000], y_train[:1000], y_test[:1000])"
   ]
  },
  {
   "cell_type": "code",
   "execution_count": 21,
   "metadata": {},
   "outputs": [
    {
     "data": {
      "image/png": "[encoded data removed]",
      "text/plain": [
       "<Figure size 432x288 with 1 Axes>"
      ]
     },
     "metadata": {},
     "output_type": "display_data"
    },
    {
     "data": {
      "image/png": "[encoded data removed]",
      "text/plain": [
       "<Figure size 432x288 with 1 Axes>"
      ]
     },
     "metadata": {},
     "output_type": "display_data"
    },
    {
     "data": {
      "text/plain": [
       "<Figure size 432x288 with 0 Axes>"
      ]
     },
     "metadata": {},
     "output_type": "display_data"
    }
   ],
   "source": [
    "htm.train(epochs=10)"
   ]
  },
  {
   "cell_type": "code",
   "execution_count": null,
   "metadata": {},
   "outputs": [],
   "source": [
    "htm.base_history.history['acc']"
   ]
  },
  {
   "cell_type": "code",
   "execution_count": null,
   "metadata": {},
   "outputs": [],
   "source": []
  },
  {
   "cell_type": "code",
   "execution_count": 82,
   "metadata": {},
   "outputs": [],
   "source": [
    "# Print report on the word transparency\n",
    "index = [9, 19]\n",
    "def report():\n",
    "    for i in index:\n",
    "        print()\n",
    "        bm = htm.base_combined.predict(X_test[i])\n",
    "        \n",
    "        cm = htm.combined.predict([X_test[i], \n",
    "                                np.reshape(y_test_agreement[i], (1,y_test_agreement.shape[1]))])\n",
    "        \n",
    "#         document_output = 'multiply'\n",
    "#         document_predict = Model(inputs=combined_model.input,\n",
    "#                                      outputs=combined_model.get_layer(document_output).output)\n",
    "#         doc_output = document_predict.predict([np.reshape(data[i], (1,5)), \n",
    "#                                       ht_1_input[i], \n",
    "#                                       ht_2_input[i], \n",
    "#                                       ht_3_input[i], \n",
    "#                                       ht_4_input[i]])\n",
    "        \n",
    "        layer_name = 'concatenate'\n",
    "        concat_after_relu = Model(inputs=htm.combined.input,\n",
    "                                     outputs=htm.combined.get_layer(layer_name).output)\n",
    "        concat_output = concat_after_relu.predict([X_test[i], \n",
    "                                np.reshape(y_test_agreement[i], (1,y_test_agreement.shape[1]))])\n",
    "        \n",
    "        print(X_test_corpus_update[i], '\\n\\n actual label : ', y_test[i], '\\n predict from base model : ', bm.flatten(), '\\n predict label : ', cm.flatten())\n",
    "    \n",
    "        for i,output in enumerate(concat_output.flatten()):\n",
    "            if output != 0:\n",
    "                print(word_list[i], output)"
   ]
  },
  {
   "cell_type": "code",
   "execution_count": 83,
   "metadata": {},
   "outputs": [
    {
     "name": "stdout",
     "output_type": "stream",
     "text": [
      "\n",
      "love this program.  the actors are great and the story line is good.  i was glad to see season 4 coming. \n",
      "\n",
      " actual label :  1.0 \n",
      " predict from base model :  [0.9865903] \n",
      " predict label :  [0.998204]\n",
      "glad 1.2505562\n",
      "love 2.3989544\n",
      "great 2.2678626\n",
      "\n",
      "in a few simple words... i loved it. it was fresh and entertaining. my only critique is that 30 minutes seems a little short for a seemingly deep story driven show. print it... and make more i say. \n",
      "\n",
      " actual label :  1.0 \n",
      " predict from base model :  [0.5381236] \n",
      " predict label :  [0.9508625]\n",
      "love 1.3084803\n",
      "entertaining 1.012051\n"
     ]
    }
   ],
   "source": [
    "report()"
   ]
  },
  {
   "cell_type": "markdown",
   "metadata": {},
   "source": [
    "## See the colorweighted"
   ]
  },
  {
   "cell_type": "code",
   "execution_count": 28,
   "metadata": {},
   "outputs": [],
   "source": [
    "import re\n",
    "from coloredweighteddoc import ColoredWeightedDoc"
   ]
  },
  {
   "cell_type": "code",
   "execution_count": 34,
   "metadata": {},
   "outputs": [
    {
     "name": "stdout",
     "output_type": "stream",
     "text": [
      "actual label :  1.0 \n",
      "predict from base model :  [0.9998344] \n",
      "predict label :  [0.5949186]\n",
      "\n",
      "hilarious 0.8240383\n",
      "informative 0.98478794\n"
     ]
    },
    {
     "data": {
      "text/html": [
       "<font size = 1, color=gainsboro> arrow </font><font size = 1, color=gainsboro> - </font><font size = 1, color=gainsboro> the </font><font size = 1, color=gainsboro> first </font><font size = 1, color=gainsboro> season </font><font size = 1, color=gainsboro>  </font><font size = 1, color=gainsboro> [548 </font><font size = 1, color=gainsboro> 2014-06-20]summary:oliver </font><font size = 1, color=gainsboro> queen </font><font size = 1, color=gainsboro> - </font><font size = 1, color=gainsboro> rich </font><font size = 1, color=gainsboro> playboy </font><font size = 1, color=gainsboro> - </font><font size = 1, color=gainsboro> is </font><font size = 1, color=gainsboro> ship </font><font size = 1, color=gainsboro> wrecked </font><font size = 1, color=gainsboro> then </font><font size = 1, color=gainsboro> marooned </font><font size = 1, color=gainsboro> for </font><font size = 1, color=gainsboro> five </font><font size = 1, color=gainsboro> years </font><font size = 1, color=gainsboro> on </font><font size = 1, color=gainsboro> a </font><font size = 1, color=gainsboro> remote </font><font size = 1, color=gainsboro> island. </font><font size = 1, color=gainsboro> he </font><font size = 1, color=gainsboro> returns </font><font size = 1, color=gainsboro> home </font><font size = 1, color=gainsboro> with </font><font size = 1, color=gainsboro> a </font><font size = 1, color=gainsboro> crime </font><font size = 1, color=gainsboro> fighting </font><font size = 1, color=gainsboro> agenda </font><font size = 1, color=gainsboro> using </font><font size = 1, color=gainsboro> the </font><font size = 1, color=gainsboro> disguise </font><font size = 1, color=gainsboro> of </font><font size = 1, color=gainsboro> a </font><font size = 1, color=gainsboro> hooded </font><font size = 1, color=gainsboro> archer. </font><font size = 1, color=gainsboro> his </font><font size = 1, color=gainsboro> purpose </font><font size = 1, color=gainsboro> is </font><font size = 1, color=gainsboro> not </font><font size = 1, color=gainsboro> clearly </font><font size = 1, color=gainsboro> defined, </font><font size = 1, color=gainsboro> something </font><font size = 1, color=gainsboro> about </font><font size = 1, color=gainsboro> inging </font><font size = 1, color=gainsboro> to </font><font size = 1, color=gainsboro> justice </font><font size = 1, color=gainsboro> individuals </font><font size = 1, color=gainsboro> on </font><font size = 1, color=gainsboro> a </font><font size = 1, color=gainsboro> list </font><font size = 1, color=gainsboro> of </font><font size = 1, color=gainsboro> urban </font><font size = 1, color=gainsboro> exploiters </font><font size = 1, color=gainsboro> from </font><font size = 1, color=gainsboro> a </font><font size = 1, color=gainsboro> notebook </font><font size = 1, color=gainsboro> handed </font><font size = 1, color=gainsboro> to </font><font size = 1, color=gainsboro> him </font><font size = 1, color=gainsboro> by </font><font size = 1, color=gainsboro> his </font><font size = 1, color=gainsboro> father </font><font size = 1, color=gainsboro> - </font><font size = 1, color=gainsboro> just </font><font size = 1, color=gainsboro> before </font><font size = 1, color=gainsboro> he </font><font size = 1, color=gainsboro> blew </font><font size = 1, color=gainsboro> his </font><font size = 1, color=gainsboro> ains </font><font size = 1, color=gainsboro> out. </font><font size = 1, color=gainsboro> needless </font><font size = 1, color=gainsboro> to </font><font size = 1, color=gainsboro> say </font><font size = 1, color=gainsboro> oliver </font><font size = 1, color=gainsboro> gets </font><font size = 1, color=gainsboro> some </font><font size = 1, color=gainsboro> push </font><font size = 1, color=gainsboro> back </font><font size = 1, color=gainsboro> from </font><font size = 1, color=gainsboro> the </font><font size = 1, color=gainsboro> local </font><font size = 1, color=gainsboro> authorities, </font><font size = 1, color=gainsboro> the </font><font size = 1, color=gainsboro> underworld </font><font size = 1, color=gainsboro> bosses, </font><font size = 1, color=gainsboro> his </font><font size = 1, color=gainsboro> mother </font><font size = 1, color=gainsboro> and </font><font size = 1, color=gainsboro> his </font><font size = 1, color=gainsboro> pals.the </font><font size = 1, color=gainsboro> creative </font><font size = 1, color=gainsboro> team </font><font size = 1, color=gainsboro> for </font><font size = 1, color=gainsboro> \"arrow\" </font><font size = 1, color=gainsboro> had </font><font size = 1, color=gainsboro> to </font><font size = 1, color=gainsboro> somehow </font><font size = 1, color=gainsboro> integrate </font><font size = 1, color=gainsboro> a </font><font size = 1, color=gainsboro> comic </font><font size = 1, color=gainsboro> hero </font><font size = 1, color=gainsboro> - </font><font size = 1, color=gainsboro> the </font><font size = 1, color=gainsboro> green </font><font size = 1, color=gainsboro> arrow </font><font size = 1, color=gainsboro> - </font><font size = 1, color=gainsboro> and </font><font size = 1, color=gainsboro> a </font><font size = 1, color=gainsboro> contemporary </font><font size = 1, color=gainsboro> action </font><font size = 1, color=gainsboro> tv </font><font size = 1, color=gainsboro> series </font><font size = 1, color=gainsboro> utilizing, </font><font size = 1, color=gainsboro> of </font><font size = 1, color=gainsboro> course, </font><font size = 1, color=gainsboro> real </font><font size = 1, color=gainsboro> actors. </font><font size = 1, color=gainsboro> how </font><font size = 1, color=gainsboro> well </font><font size = 1, color=gainsboro> this </font><font size = 1, color=gainsboro> concept </font><font size = 1, color=gainsboro> has </font><font size = 1, color=gainsboro> been </font><font size = 1, color=gainsboro> successful </font><font size = 1, color=gainsboro> is </font><font size = 1, color=gainsboro> a </font><font size = 1, color=gainsboro> judgment </font><font size = 1, color=gainsboro> left </font><font size = 1, color=gainsboro> to </font><font size = 1, color=gainsboro> the </font><font size = 1, color=gainsboro> individual </font><font size = 1, color=gainsboro> viewers, </font><font size = 1, color=gainsboro> but </font><font size = 1, color=gainsboro> as </font><font size = 1, color=gainsboro> of </font><font size = 1, color=gainsboro> the </font><font size = 1, color=gainsboro> date </font><font size = 1, color=gainsboro> of </font><font size = 1, color=gainsboro> these </font><font size = 1, color=gainsboro> comments </font><font size = 1, color=gainsboro> the </font><font size = 1, color=gainsboro> show </font><font size = 1, color=gainsboro> has </font><font size = 1, color=gainsboro> been </font><font size = 1, color=gainsboro> renewed </font><font size = 1, color=gainsboro> for </font><font size = 1, color=gainsboro> a </font><font size = 1, color=gainsboro> third </font><font size = 1, color=gainsboro> season. </font><font size = 1, color=gainsboro> as </font><font size = 1, color=gainsboro> they </font><font size = 1, color=gainsboro> say </font><font size = 1, color=gainsboro> vox </font><font size = 1, color=gainsboro> populi </font><font size = 1, color=gainsboro> vox </font><font size = 1, color=gainsboro> dei.content:the </font><font size = 1, color=gainsboro> season </font><font size = 1, color=gainsboro> one </font><font size = 1, color=gainsboro> package </font><font size = 1, color=gainsboro> consists </font><font size = 1, color=gainsboro> of </font><font size = 1, color=gainsboro> 5 </font><font size = 1, color=gainsboro> disks </font><font size = 1, color=gainsboro> and </font><font size = 1, color=gainsboro> 20 </font><font size = 1, color=gainsboro> episodes </font><font size = 1, color=gainsboro> originally </font><font size = 1, color=gainsboro> show </font><font size = 1, color=gainsboro> on </font><font size = 1, color=gainsboro> the </font><font size = 1, color=gainsboro> cw </font><font size = 1, color=gainsboro> network </font><font size = 1, color=gainsboro> during </font><font size = 1, color=gainsboro> the </font><font size = 1, color=gainsboro> period </font><font size = 1, color=gainsboro> october </font><font size = 1, color=gainsboro> 2012 </font><font size = 1, color=gainsboro> through </font><font size = 1, color=gainsboro> may </font><font size = 1, color=gainsboro> 2013. </font><font size = 1, color=gainsboro> also </font><font size = 1, color=gainsboro> included </font><font size = 1, color=gainsboro> are </font><font size = 1, color=gainsboro> several </font><font size = 1, color=gainsboro> special </font><font size = 1, color=gainsboro> features </font><font size = 1, color=gainsboro> on </font><font size = 1, color=gainsboro> disk </font><font size = 1, color=gainsboro> 5 </font><font size = 1, color=gainsboro> that </font><font size = 1, color=gainsboro> i </font><font size = 1, color=gainsboro> founding </font><font size = 1, color=gainsboro> modestly </font><font size = 1, color=gainsboro> interesting.positive </font><font size = 1, color=gainsboro> comments: </font><font size = 1, color=gainsboro> many </font><font size = 1, color=gainsboro> episodes </font><font size = 1, color=gainsboro> include </font><font size = 1, color=gainsboro> deleted </font><font size = 1, color=gainsboro> scenes, </font><font size = 1, color=gainsboro> which </font><font size = 1, color=gainsboro> are </font><font size = 1, color=gainsboro> not </font><font size = 1, color=gainsboro> to </font><font size = 1, color=gainsboro> be </font><font size = 1, color=gainsboro> missed. </font><font size = 1, color=gainsboro> some </font><font size = 1, color=gainsboro> are </font><font size = 1, color=gainsboro> quite </font><font size = 1, color=gainsboro> lengthy </font><font size = 1, color=gainsboro> and </font><font size = 1, color=gainsboro> are </font><font size = 1, color=gainsboro> interesting </font><font size = 1, color=gainsboro> and </font><font size = 3, color=blue> informative </font><font size = 1, color=gainsboro> concerning </font><font size = 1, color=gainsboro> that </font><font size = 1, color=gainsboro> particular </font><font size = 1, color=gainsboro> episode. </font><font size = 1, color=gainsboro> the </font><font size = 1, color=gainsboro> deleted </font><font size = 1, color=gainsboro> scenes </font><font size = 1, color=gainsboro> are </font><font size = 1, color=gainsboro> identified </font><font size = 1, color=gainsboro> with </font><font size = 1, color=gainsboro> an </font><font size = 1, color=gainsboro> icon </font><font size = 1, color=gainsboro> next </font><font size = 1, color=gainsboro> to </font><font size = 1, color=gainsboro> the </font><font size = 1, color=gainsboro> episode </font><font size = 1, color=gainsboro> titles </font><font size = 1, color=gainsboro> - </font><font size = 1, color=gainsboro> a </font><font size = 1, color=gainsboro> helpful </font><font size = 1, color=gainsboro> viewers </font><font size = 1, color=gainsboro> aid. </font><font size = 1, color=gainsboro> season </font><font size = 1, color=gainsboro> one </font><font size = 1, color=gainsboro> developed </font><font size = 1, color=gainsboro> a </font><font size = 1, color=gainsboro> few </font><font size = 1, color=gainsboro> reoccurring </font><font size = 1, color=gainsboro> themes </font><font size = 1, color=gainsboro> which </font><font size = 1, color=gainsboro> added </font><font size = 1, color=gainsboro> to </font><font size = 1, color=gainsboro> the </font><font size = 1, color=gainsboro> interest </font><font size = 1, color=gainsboro> of </font><font size = 1, color=gainsboro> the </font><font size = 1, color=gainsboro> show </font><font size = 1, color=gainsboro> as </font><font size = 1, color=gainsboro> the </font><font size = 1, color=gainsboro> episodes </font><font size = 1, color=gainsboro> were </font><font size = 1, color=gainsboro> viewed. </font><font size = 1, color=gainsboro> each </font><font size = 1, color=gainsboro> episode </font><font size = 1, color=gainsboro> tackles </font><font size = 1, color=gainsboro> two </font><font size = 1, color=gainsboro> plot </font><font size = 1, color=gainsboro> lines: </font><font size = 1, color=gainsboro> one </font><font size = 1, color=gainsboro> detailing </font><font size = 1, color=gainsboro> oliver's </font><font size = 1, color=gainsboro> misadventures </font><font size = 1, color=gainsboro> on </font><font size = 1, color=gainsboro> the </font><font size = 1, color=gainsboro> island </font><font size = 1, color=gainsboro> during </font><font size = 1, color=gainsboro> his </font><font size = 1, color=gainsboro> 5-year </font><font size = 1, color=gainsboro> involuntary </font><font size = 1, color=gainsboro> vacation </font><font size = 1, color=gainsboro> and </font><font size = 1, color=gainsboro> that </font><font size = 1, color=gainsboro> episodes </font><font size = 1, color=gainsboro> justice </font><font size = 1, color=gainsboro> seeking </font><font size = 1, color=gainsboro> adventures. </font><font size = 1, color=gainsboro> the </font><font size = 1, color=gainsboro> action </font><font size = 1, color=gainsboro> sequences </font><font size = 1, color=gainsboro> are </font><font size = 1, color=gainsboro> quite </font><font size = 1, color=gainsboro> intensely </font><font size = 1, color=gainsboro> interesting. </font><font size = 1, color=gainsboro> one </font><font size = 1, color=gainsboro> of </font><font size = 1, color=gainsboro> the </font><font size = 1, color=gainsboro> season </font><font size = 1, color=gainsboro> 1 </font><font size = 1, color=gainsboro> features </font><font size = 1, color=gainsboro> informs </font><font size = 1, color=gainsboro> us </font><font size = 1, color=gainsboro> the </font><font size = 1, color=gainsboro> olive </font><font size = 1, color=gainsboro> has </font><font size = 1, color=gainsboro> no </font><font size = 1, color=gainsboro> \"super-hero\" </font><font size = 1, color=gainsboro> talents </font><font size = 1, color=gainsboro> but </font><font size = 1, color=gainsboro> damned </font><font size = 1, color=gainsboro> if </font><font size = 1, color=gainsboro> i </font><font size = 1, color=gainsboro> could </font><font size = 1, color=gainsboro> tell </font><font size = 1, color=gainsboro> how </font><font size = 1, color=gainsboro> a </font><font size = 1, color=gainsboro> human </font><font size = 1, color=gainsboro> being </font><font size = 1, color=gainsboro> could </font><font size = 1, color=gainsboro> survive </font><font size = 1, color=gainsboro> some </font><font size = 1, color=gainsboro> of </font><font size = 1, color=gainsboro> the </font><font size = 1, color=gainsboro> jams </font><font size = 1, color=gainsboro> he </font><font size = 1, color=gainsboro> falls </font><font size = 1, color=gainsboro> into. </font><font size = 1, color=gainsboro> i </font><font size = 1, color=gainsboro> watched </font><font size = 1, color=gainsboro> the </font><font size = 1, color=gainsboro> dvd </font><font size = 1, color=gainsboro> in </font><font size = 1, color=gainsboro> sequence </font><font size = 1, color=gainsboro> and </font><font size = 1, color=gainsboro> with </font><font size = 1, color=gainsboro> the </font><font size = 1, color=gainsboro> deleted </font><font size = 1, color=gainsboro> scenes </font><font size = 1, color=gainsboro> and </font><font size = 1, color=gainsboro> the </font><font size = 1, color=gainsboro> few </font><font size = 1, color=gainsboro> extras </font><font size = 1, color=gainsboro> \"special </font><font size = 1, color=gainsboro> feature' </font><font size = 1, color=gainsboro> found </font><font size = 1, color=gainsboro> it </font><font size = 1, color=gainsboro> was </font><font size = 1, color=gainsboro> worth </font><font size = 1, color=gainsboro> the </font><font size = 1, color=gainsboro> purchase </font><font size = 1, color=gainsboro> price.the </font><font size = 1, color=gainsboro> cast: </font><font size = 1, color=gainsboro> steven </font><font size = 1, color=gainsboro> amell </font><font size = 1, color=gainsboro> as </font><font size = 1, color=gainsboro> oliver </font><font size = 1, color=gainsboro> queen </font><font size = 1, color=gainsboro> is </font><font size = 1, color=gainsboro> more </font><font size = 1, color=gainsboro> that </font><font size = 1, color=gainsboro> adequate </font><font size = 1, color=gainsboro> for </font><font size = 1, color=gainsboro> the </font><font size = 1, color=gainsboro> demanding </font><font size = 1, color=gainsboro> emotional </font><font size = 1, color=gainsboro> and </font><font size = 1, color=gainsboro> physical </font><font size = 1, color=gainsboro> role </font><font size = 1, color=gainsboro> he </font><font size = 1, color=gainsboro> is </font><font size = 1, color=gainsboro> cast </font><font size = 1, color=gainsboro> in. </font><font size = 1, color=gainsboro> david </font><font size = 1, color=gainsboro> ramsey </font><font size = 1, color=gainsboro> as </font><font size = 1, color=gainsboro> john </font><font size = 1, color=gainsboro> diggle </font><font size = 1, color=gainsboro> oliver's </font><font size = 1, color=gainsboro> sidekick </font><font size = 1, color=gainsboro> is </font><font size = 1, color=gainsboro> a </font><font size = 1, color=gainsboro> plus.negative </font><font size = 1, color=gainsboro> comments: </font><font size = 1, color=gainsboro> each </font><font size = 1, color=gainsboro> episode </font><font size = 1, color=gainsboro> uses </font><font size = 1, color=gainsboro> the </font><font size = 1, color=gainsboro> identical </font><font size = 1, color=gainsboro> \"canned\" </font><font size = 1, color=gainsboro> introduction </font><font size = 1, color=gainsboro> - </font><font size = 1, color=gainsboro> i </font><font size = 1, color=gainsboro> wish </font><font size = 1, color=gainsboro> there </font><font size = 1, color=gainsboro> was </font><font size = 1, color=gainsboro> a </font><font size = 1, color=gainsboro> way </font><font size = 1, color=gainsboro> to </font><font size = 1, color=gainsboro> skip </font><font size = 1, color=gainsboro> over </font><font size = 1, color=gainsboro> this </font><font size = 1, color=gainsboro> redundant </font><font size = 1, color=gainsboro> intro. </font><font size = 1, color=gainsboro> there </font><font size = 1, color=gainsboro> are </font><font size = 1, color=gainsboro> a </font><font size = 1, color=gainsboro> number </font><font size = 1, color=gainsboro> of </font><font size = 1, color=gainsboro> important </font><font size = 1, color=gainsboro> plot </font><font size = 1, color=gainsboro> events </font><font size = 1, color=gainsboro> placed </font><font size = 1, color=gainsboro> in </font><font size = 1, color=gainsboro> motion </font><font size = 1, color=gainsboro> in </font><font size = 1, color=gainsboro> season </font><font size = 1, color=gainsboro> 1. </font><font size = 1, color=gainsboro> if </font><font size = 1, color=gainsboro> you </font><font size = 1, color=gainsboro> miss </font><font size = 1, color=gainsboro> several </font><font size = 1, color=gainsboro> shows </font><font size = 1, color=gainsboro> you </font><font size = 1, color=gainsboro> may </font><font size = 1, color=gainsboro> by </font><font size = 1, color=gainsboro> scratching </font><font size = 1, color=gainsboro> your </font><font size = 1, color=gainsboro> noggin </font><font size = 1, color=gainsboro> asking </font><font size = 1, color=gainsboro> what </font><font size = 1, color=gainsboro> is </font><font size = 1, color=gainsboro> this </font><font size = 1, color=gainsboro> all </font><font size = 1, color=gainsboro> about. </font><font size = 1, color=gainsboro> not </font><font size = 1, color=gainsboro> the </font><font size = 1, color=gainsboro> show </font><font size = 1, color=gainsboro> you </font><font size = 1, color=gainsboro> can </font><font size = 1, color=gainsboro> skip </font><font size = 1, color=gainsboro> and </font><font size = 1, color=gainsboro> come </font><font size = 1, color=gainsboro> back </font><font size = 1, color=gainsboro> too. </font><font size = 1, color=gainsboro> i </font><font size = 1, color=gainsboro> found </font><font size = 1, color=gainsboro> it </font><font size = 3, color=blue> hilarious </font><font size = 1, color=gainsboro> that </font><font size = 1, color=gainsboro> all </font><font size = 1, color=gainsboro> the </font><font size = 1, color=gainsboro> young </font><font size = 1, color=gainsboro> ladies </font><font size = 1, color=gainsboro> and </font><font size = 1, color=gainsboro> men </font><font size = 1, color=gainsboro> in </font><font size = 1, color=gainsboro> this </font><font size = 1, color=gainsboro> show </font><font size = 1, color=gainsboro> were </font><font size = 1, color=gainsboro> just </font><font size = 1, color=gainsboro> knockout </font><font size = 1, color=gainsboro> beautiful </font><font size = 1, color=gainsboro> and </font><font size = 1, color=gainsboro> handsome </font><font size = 1, color=gainsboro> - </font><font size = 1, color=gainsboro> and, </font><font size = 1, color=gainsboro> oh </font><font size = 1, color=gainsboro> yes, </font><font size = 1, color=gainsboro> dressed </font><font size = 1, color=gainsboro> to </font><font size = 1, color=gainsboro> the </font><font size = 1, color=gainsboro> nines </font><font size = 1, color=gainsboro> - </font><font size = 1, color=gainsboro> just </font><font size = 1, color=gainsboro> unbelievable.recommendations:to </font><font size = 1, color=gainsboro> be </font><font size = 1, color=gainsboro> honest </font><font size = 1, color=gainsboro> this </font><font size = 1, color=gainsboro> show </font><font size = 1, color=gainsboro> is </font><font size = 1, color=gainsboro> mindless </font><font size = 1, color=gainsboro> viewing </font><font size = 1, color=gainsboro> candy. </font><font size = 1, color=gainsboro> i </font><font size = 1, color=gainsboro> found </font><font size = 1, color=gainsboro> it </font><font size = 1, color=gainsboro> entertaining </font><font size = 1, color=gainsboro> but </font><font size = 1, color=gainsboro> refrained </font><font size = 1, color=gainsboro> from </font><font size = 1, color=gainsboro> trying </font><font size = 1, color=gainsboro> to </font><font size = 1, color=gainsboro> look </font><font size = 1, color=gainsboro> for </font><font size = 1, color=gainsboro> any </font><font size = 1, color=gainsboro> kind </font><font size = 1, color=gainsboro> of </font><font size = 1, color=gainsboro> plot </font><font size = 1, color=gainsboro> logic </font><font size = 1, color=gainsboro> to </font><font size = 1, color=gainsboro> the </font><font size = 1, color=gainsboro> drama. </font><font size = 1, color=gainsboro> just </font><font size = 1, color=gainsboro> enjoy </font><font size = 1, color=gainsboro> the </font><font size = 1, color=gainsboro> nice </font><font size = 1, color=gainsboro> looking </font><font size = 1, color=gainsboro> people, </font><font size = 1, color=gainsboro> convoluted </font><font size = 1, color=gainsboro> story </font><font size = 1, color=gainsboro> line </font><font size = 1, color=gainsboro> and </font><font size = 1, color=gainsboro> wild </font><font size = 1, color=gainsboro> action </font><font size = 1, color=gainsboro> sequences. </font>"
      ],
      "text/plain": [
       "<coloredweighteddoc.ColoredWeightedDoc at 0x1746ff91a20>"
      ]
     },
     "metadata": {},
     "output_type": "display_data"
    }
   ],
   "source": [
    "from IPython import display\n",
    "idx = 96\n",
    "# idx = 9002\n",
    "# bm = htm.base_combined.predict(X_test[idx])\n",
    "        \n",
    "# cm = htm.combined.predict([X_test[idx], \n",
    "#                              np.reshape(y_test_agreement[idx], (1,y_test_agreement.shape[1]))])\n",
    "        \n",
    "layer_name = 'concatenate'\n",
    "concat_after_relu = Model(inputs=htm.combined.input,\n",
    "                          outputs=htm.combined.get_layer(layer_name).output)\n",
    "concat_output = concat_after_relu.predict([X_test[idx], np.reshape(y_test_agreement[idx], (1,y_test_agreement.shape[1]))])\n",
    "        \n",
    "print('actual label : ', y_test[idx], '\\npredict from base model : ', bm.flatten(), '\\npredict label : ', cm.flatten())\n",
    "print()\n",
    "for i,output in enumerate(concat_output.flatten()):\n",
    "    if output != 0:\n",
    "        print(word_list[i], output)\n",
    "\n",
    "\n",
    "ht_weight = concat_output.flatten()\n",
    "display.display(ColoredWeightedDoc(X_test_corpus_update[idx], word_list, ht_weight, binary = False))"
   ]
  },
  {
   "cell_type": "code",
   "execution_count": 33,
   "metadata": {},
   "outputs": [
    {
     "data": {
      "text/plain": [
       "(array([0], dtype=int64),)"
      ]
     },
     "execution_count": 33,
     "metadata": {},
     "output_type": "execute_result"
    }
   ],
   "source": [
    "np.where(np.sum(ht_weight)==0)"
   ]
  },
  {
   "cell_type": "code",
   "execution_count": 88,
   "metadata": {},
   "outputs": [
    {
     "data": {
      "text/plain": [
       "['hooked',\n",
       " 'paced',\n",
       " 'glad',\n",
       " 'battle',\n",
       " 'perfect',\n",
       " 'intense',\n",
       " 'love',\n",
       " 'enjoyed',\n",
       " 'suspenseful',\n",
       " 'effective',\n",
       " 'favorites',\n",
       " 'amazing',\n",
       " 'disappoint',\n",
       " 'outstanding',\n",
       " 'laughed',\n",
       " 'great',\n",
       " 'excellent',\n",
       " 'entertaining',\n",
       " 'hilarious',\n",
       " 'satisfying',\n",
       " 'waste',\n",
       " 'poorly',\n",
       " 'terrible',\n",
       " 'boring',\n",
       " 'worst',\n",
       " 'barely',\n",
       " 'sadly',\n",
       " 'paid',\n",
       " 'none',\n",
       " 'awful',\n",
       " 'boyfriend',\n",
       " 'equally',\n",
       " 'poor',\n",
       " 'horrible',\n",
       " 'unbelievable',\n",
       " 'dumb',\n",
       " 'emotional',\n",
       " 'disappointing',\n",
       " 'purpose',\n",
       " 'stupid',\n",
       " 'lame',\n",
       " 'worthy',\n",
       " 'worse']"
      ]
     },
     "execution_count": 88,
     "metadata": {},
     "output_type": "execute_result"
    }
   ],
   "source": [
    "word_list"
   ]
  },
  {
   "cell_type": "code",
   "execution_count": 87,
   "metadata": {},
   "outputs": [
    {
     "data": {
      "text/plain": [
       "43"
      ]
     },
     "execution_count": 87,
     "metadata": {},
     "output_type": "execute_result"
    }
   ],
   "source": [
    "len(word_list)"
   ]
  },
  {
   "cell_type": "code",
   "execution_count": null,
   "metadata": {},
   "outputs": [],
   "source": []
  }
 ],
 "metadata": {
  "kernelspec": {
   "display_name": "Python 3",
   "language": "python",
   "name": "python3"
  },
  "language_info": {
   "codemirror_mode": {
    "name": "ipython",
    "version": 3
   },
   "file_extension": ".py",
   "mimetype": "text/x-python",
   "name": "python",
   "nbconvert_exporter": "python",
   "pygments_lexer": "ipython3",
   "version": "3.6.6"
  }
 },
 "nbformat": 4,
 "nbformat_minor": 2
}

{
 "cells": [
  {
   "cell_type": "code",
   "execution_count": 1,
   "metadata": {},
   "outputs": [
    {
     "name": "stderr",
     "output_type": "stream",
     "text": [
      "Using TensorFlow backend.\n"
     ]
    }
   ],
   "source": [
    "from keras.layers import Input, Dense, TimeDistributed, Embedding\n",
    "from keras.layers import Concatenate, Reshape, Lambda, Multiply, multiply, concatenate\n",
    "from keras.models import Model\n",
    "from keras import backend as K\n",
    "\n",
    "import os\n",
    "os.environ['CUDA_VISIBLE_DEVICES'] = ''\n",
    "\n",
    "import tensorflow as tf\n",
    "import numpy as np\n",
    "\n",
    "from dataset_load import *\n",
    "from human_terms_network import *"
   ]
  },
  {
   "cell_type": "markdown",
   "metadata": {},
   "source": [
    "### Load"
   ]
  },
  {
   "cell_type": "code",
   "execution_count": 44,
   "metadata": {},
   "outputs": [],
   "source": [
    "path = r\"..\\..\\data\\reviews_Amazon_Instant_Video_5.json.gz\"\n",
    "\n",
    "X, y = extract_review_amazon(path, 'reviewText')"
   ]
  },
  {
   "cell_type": "code",
   "execution_count": 60,
   "metadata": {},
   "outputs": [],
   "source": [
    "y_label = np.asarray(y)\n",
    "\n",
    "neutral_indices = np.where(y_label == 3)[0]\n",
    "y_label[y_label<3] = 0\n",
    "y_label[y_label>3] = 1\n",
    "\n",
    "X_discarded = np.delete(X,neutral_indices)\n",
    "y_discarded = np.delete(y_label, neutral_indices)"
   ]
  },
  {
   "cell_type": "code",
   "execution_count": 61,
   "metadata": {},
   "outputs": [
    {
     "data": {
      "text/plain": [
       "array([0., 1., 0., 1., 1., 1., 1., 1., 1., 1., 0., 1., 1., 1., 1., 1., 1.,\n",
       "       1., 1., 0., 0., 1., 1., 1., 1., 1., 0., 1., 1., 1., 1., 1., 1., 1.,\n",
       "       1., 1., 1., 1., 1., 1., 1., 1., 0., 1., 1., 1., 1., 0., 1., 1., 1.,\n",
       "       1., 1., 1., 1., 1., 1., 1., 1., 1., 1., 1., 1., 1., 1., 1., 1., 1.,\n",
       "       1., 1., 1., 1., 1., 1., 1., 1., 1., 1., 1., 1., 1., 1., 1., 1., 1.,\n",
       "       1., 1., 1., 1., 1., 1., 1., 1., 1., 1., 1., 0., 1., 1., 1.])"
      ]
     },
     "execution_count": 61,
     "metadata": {},
     "output_type": "execute_result"
    }
   ],
   "source": [
    "y_discarded[:100]"
   ]
  },
  {
   "cell_type": "code",
   "execution_count": 63,
   "metadata": {},
   "outputs": [
    {
     "data": {
      "text/plain": [
       "array([\"I had big expectations because I love English TV, in particular Investigative and detective stuff but this guy is really boring. It didn't appeal to me at all.\",\n",
       "       'I highly recommend this series. It is a must for anyone who is yearning to watch \"grown up\" television. Complex characters and plots to keep one totally involved. Thank you Amazin Prime.'],\n",
       "      dtype='<U18152')"
      ]
     },
     "execution_count": 63,
     "metadata": {},
     "output_type": "execute_result"
    }
   ],
   "source": [
    "X_discarded[:2]"
   ]
  },
  {
   "cell_type": "code",
   "execution_count": 62,
   "metadata": {},
   "outputs": [
    {
     "name": "stdout",
     "output_type": "stream",
     "text": [
      "(75, 2)\n",
      "corpus update start\n",
      "corpus update end\n",
      "\n",
      "(75, 2)\n",
      "corpus update start\n",
      "corpus update end\n",
      "\n"
     ]
    }
   ],
   "source": [
    "from sklearn.feature_extraction.text import CountVectorizer\n",
    "from sklearn.model_selection import train_test_split, ShuffleSplit\n",
    "\n",
    "# split\n",
    "X_train_split, X_test_split, y_train, y_test = train_test_split(X_discarded, y_discarded, test_size=0.33, random_state=42)\n",
    "\n",
    "# preprocessing\n",
    "X_train_corpus_update = update_corpus_contraction(X_train_split)\n",
    "X_test_corpus_update = update_corpus_contraction(X_test_split)"
   ]
  },
  {
   "cell_type": "code",
   "execution_count": 64,
   "metadata": {},
   "outputs": [
    {
     "data": {
      "text/plain": [
       "(24874, 1730)"
      ]
     },
     "execution_count": 64,
     "metadata": {},
     "output_type": "execute_result"
    }
   ],
   "source": [
    "X_train.shape"
   ]
  },
  {
   "cell_type": "code",
   "execution_count": 65,
   "metadata": {},
   "outputs": [
    {
     "data": {
      "text/plain": [
       "(12252, 1730)"
      ]
     },
     "execution_count": 65,
     "metadata": {},
     "output_type": "execute_result"
    }
   ],
   "source": [
    "X_test.shape"
   ]
  },
  {
   "cell_type": "code",
   "execution_count": 70,
   "metadata": {},
   "outputs": [
    {
     "name": "stdout",
     "output_type": "stream",
     "text": [
      "+ :  19630\n",
      "- :  2439\n",
      "+ :  9706\n",
      "- :  1164\n"
     ]
    }
   ],
   "source": [
    "print('+ : ', np.sum(y_train==1))\n",
    "print('- : ', np.sum(y_train==0))\n",
    "\n",
    "print('+ : ', np.sum(y_test==1))\n",
    "print('- : ', np.sum(y_test==0))\n",
    "\n"
   ]
  },
  {
   "cell_type": "code",
   "execution_count": 71,
   "metadata": {},
   "outputs": [],
   "source": [
    "# count vectorizer\n",
    "token = r\"(?u)\\b[\\w\\'/]+\\b\"\n",
    "cv = CountVectorizer(lowercase=True, max_df=1.0, min_df=100, binary=True, token_pattern=token)\n",
    "cv.set_params(ngram_range=(1,1))\n",
    "\n",
    "cv.fit(X_train_split)\n",
    "\n",
    "X_train = cv.transform(X_train_corpus_update)\n",
    "X_test = cv.transform(X_test_corpus_update)\n",
    "\n",
    "words = cv.get_feature_names()"
   ]
  },
  {
   "cell_type": "code",
   "execution_count": 72,
   "metadata": {},
   "outputs": [
    {
     "name": "stdout",
     "output_type": "stream",
     "text": [
      "0.9499297657347411\n",
      "0.9271389144434222\n"
     ]
    }
   ],
   "source": [
    "from sklearn.linear_model import LogisticRegression\n",
    "\n",
    "clf = LogisticRegression(random_state=42)\n",
    "\n",
    "clf.fit(X_train, y_train)\n",
    "\n",
    "print(clf.score(X_train, y_train))\n",
    "print(clf.score(X_test, y_test))"
   ]
  },
  {
   "cell_type": "code",
   "execution_count": 73,
   "metadata": {},
   "outputs": [
    {
     "name": "stdout",
     "output_type": "stream",
     "text": [
      "hooked\n",
      "unexpected\n",
      "hilarious\n",
      "control\n",
      "solving\n",
      "refreshing\n",
      "enjoyed\n",
      "intense\n",
      "incredible\n",
      "develop\n",
      "glad\n",
      "awesome\n",
      "intelligent\n",
      "loves\n",
      "lee\n",
      "paced\n",
      "perfectly\n",
      "area\n",
      "ending\n",
      "renewed\n",
      "favorite\n",
      "growing\n",
      "great\n",
      "twists\n",
      "thank\n",
      "journey\n",
      "today\n",
      "whether\n",
      "love\n",
      "informative\n",
      "holds\n",
      "dramatic\n",
      "edge\n",
      "amazing\n",
      "questions\n",
      "truth\n",
      "earlier\n",
      "favorites\n",
      "working\n",
      "illiant\n",
      "personalities\n",
      "powerful\n",
      "highly\n",
      "disappoint\n",
      "fantastic\n",
      "tale\n",
      "share\n",
      "perfect\n",
      "wow\n",
      "pleasure\n",
      "\n",
      "waste\n",
      "boring\n",
      "terrible\n",
      "worst\n",
      "pass\n",
      "horrible\n",
      "poor\n",
      "taste\n",
      "dull\n",
      "dumb\n",
      "unfortunately\n",
      "sadly\n",
      "awful\n",
      "flat\n",
      "fell\n",
      "stupid\n",
      "falls\n",
      "nothing\n",
      "boyfriend\n",
      "worse\n",
      "avoid\n",
      "tried\n",
      "instead\n",
      "necessary\n",
      "attempt\n",
      "audience\n",
      "value\n",
      "moral\n",
      "concept\n",
      "tired\n",
      "shots\n",
      "slowly\n",
      "directed\n",
      "care\n",
      "alien\n",
      "supposed\n",
      "sick\n",
      "none\n",
      "predictable\n",
      "used\n",
      "emotional\n",
      "save\n",
      "co\n",
      "apparently\n",
      "unless\n",
      "premise\n",
      "equally\n",
      "ridiculous\n",
      "beyond\n",
      "finish\n"
     ]
    }
   ],
   "source": [
    "weight = clf.coef_.flatten()\n",
    "indices = np.argsort(weight)[::-1]\n",
    "\n",
    "for i in indices[:50]:\n",
    "    print(\"%s\" %(words[i]))\n",
    "\n",
    "reversed_indices = indices[::-1]\n",
    "print()\n",
    "for i in reversed_indices[:50]:\n",
    "    print(\"%s\" %(words[i]))"
   ]
  },
  {
   "cell_type": "code",
   "execution_count": 74,
   "metadata": {},
   "outputs": [],
   "source": [
    "word_list, connotation = load_unigrams('./amazon-video-unigrams.txt', X_train_corpus_update, y_train)"
   ]
  },
  {
   "cell_type": "code",
   "execution_count": 75,
   "metadata": {},
   "outputs": [],
   "source": [
    "y_train_agreement, y_test_agreement = generate_appearance(X_train_corpus_update, X_test_corpus_update, \n",
    "                                                          word_list, connotation)"
   ]
  },
  {
   "cell_type": "code",
   "execution_count": 76,
   "metadata": {},
   "outputs": [
    {
     "data": {
      "text/plain": [
       "(22069, 43)"
      ]
     },
     "execution_count": 76,
     "metadata": {},
     "output_type": "execute_result"
    }
   ],
   "source": [
    "y_train_agreement.shape"
   ]
  },
  {
   "cell_type": "code",
   "execution_count": 77,
   "metadata": {},
   "outputs": [
    {
     "name": "stdout",
     "output_type": "stream",
     "text": [
      "_________________________________________________________________\n",
      "Layer (type)                 Output Shape              Param #   \n",
      "=================================================================\n",
      "input_7 (InputLayer)         (None, 1499)              0         \n",
      "_________________________________________________________________\n",
      "tanh_output (Dense)          (None, 1)                 1500      \n",
      "=================================================================\n",
      "Total params: 1,500\n",
      "Trainable params: 1,500\n",
      "Non-trainable params: 0\n",
      "_________________________________________________________________\n",
      "__________________________________________________________________________________________________\n",
      "Layer (type)                    Output Shape         Param #     Connected to                     \n",
      "==================================================================================================\n",
      "input_9 (InputLayer)            (None, 43)           0                                            \n",
      "__________________________________________________________________________________________________\n",
      "input_8 (InputLayer)            (None, 1499)         0                                            \n",
      "__________________________________________________________________________________________________\n",
      "lambda_3 (Lambda)               [(None, 1), (None, 1 0           input_9[0][0]                    \n",
      "__________________________________________________________________________________________________\n",
      "model_12 (Model)                (None, 1)            1500        input_8[0][0]                    \n",
      "__________________________________________________________________________________________________\n",
      "multiply_94 (Multiply)          (None, 1)            0           lambda_3[0][0]                   \n",
      "                                                                 model_12[1][0]                   \n",
      "__________________________________________________________________________________________________\n",
      "multiply_95 (Multiply)          (None, 1)            0           lambda_3[0][1]                   \n",
      "                                                                 model_12[1][0]                   \n",
      "__________________________________________________________________________________________________\n",
      "multiply_96 (Multiply)          (None, 1)            0           lambda_3[0][2]                   \n",
      "                                                                 model_12[1][0]                   \n",
      "__________________________________________________________________________________________________\n",
      "multiply_97 (Multiply)          (None, 1)            0           lambda_3[0][3]                   \n",
      "                                                                 model_12[1][0]                   \n",
      "__________________________________________________________________________________________________\n",
      "multiply_98 (Multiply)          (None, 1)            0           lambda_3[0][4]                   \n",
      "                                                                 model_12[1][0]                   \n",
      "__________________________________________________________________________________________________\n",
      "multiply_99 (Multiply)          (None, 1)            0           lambda_3[0][5]                   \n",
      "                                                                 model_12[1][0]                   \n",
      "__________________________________________________________________________________________________\n",
      "multiply_100 (Multiply)         (None, 1)            0           lambda_3[0][6]                   \n",
      "                                                                 model_12[1][0]                   \n",
      "__________________________________________________________________________________________________\n",
      "multiply_101 (Multiply)         (None, 1)            0           lambda_3[0][7]                   \n",
      "                                                                 model_12[1][0]                   \n",
      "__________________________________________________________________________________________________\n",
      "multiply_102 (Multiply)         (None, 1)            0           lambda_3[0][8]                   \n",
      "                                                                 model_12[1][0]                   \n",
      "__________________________________________________________________________________________________\n",
      "multiply_103 (Multiply)         (None, 1)            0           lambda_3[0][9]                   \n",
      "                                                                 model_12[1][0]                   \n",
      "__________________________________________________________________________________________________\n",
      "multiply_104 (Multiply)         (None, 1)            0           lambda_3[0][10]                  \n",
      "                                                                 model_12[1][0]                   \n",
      "__________________________________________________________________________________________________\n",
      "multiply_105 (Multiply)         (None, 1)            0           lambda_3[0][11]                  \n",
      "                                                                 model_12[1][0]                   \n",
      "__________________________________________________________________________________________________\n",
      "multiply_106 (Multiply)         (None, 1)            0           lambda_3[0][12]                  \n",
      "                                                                 model_12[1][0]                   \n",
      "__________________________________________________________________________________________________\n",
      "multiply_107 (Multiply)         (None, 1)            0           lambda_3[0][13]                  \n",
      "                                                                 model_12[1][0]                   \n",
      "__________________________________________________________________________________________________\n",
      "multiply_108 (Multiply)         (None, 1)            0           lambda_3[0][14]                  \n",
      "                                                                 model_12[1][0]                   \n",
      "__________________________________________________________________________________________________\n",
      "multiply_109 (Multiply)         (None, 1)            0           lambda_3[0][15]                  \n",
      "                                                                 model_12[1][0]                   \n",
      "__________________________________________________________________________________________________\n",
      "multiply_110 (Multiply)         (None, 1)            0           lambda_3[0][16]                  \n",
      "                                                                 model_12[1][0]                   \n",
      "__________________________________________________________________________________________________\n",
      "multiply_111 (Multiply)         (None, 1)            0           lambda_3[0][17]                  \n",
      "                                                                 model_12[1][0]                   \n",
      "__________________________________________________________________________________________________\n",
      "multiply_112 (Multiply)         (None, 1)            0           lambda_3[0][18]                  \n",
      "                                                                 model_12[1][0]                   \n",
      "__________________________________________________________________________________________________\n",
      "multiply_113 (Multiply)         (None, 1)            0           lambda_3[0][19]                  \n",
      "                                                                 model_12[1][0]                   \n",
      "__________________________________________________________________________________________________\n",
      "multiply_114 (Multiply)         (None, 1)            0           lambda_3[0][20]                  \n",
      "                                                                 model_12[1][0]                   \n",
      "__________________________________________________________________________________________________\n",
      "multiply_115 (Multiply)         (None, 1)            0           lambda_3[0][21]                  \n",
      "                                                                 model_12[1][0]                   \n",
      "__________________________________________________________________________________________________\n",
      "multiply_116 (Multiply)         (None, 1)            0           lambda_3[0][22]                  \n",
      "                                                                 model_12[1][0]                   \n",
      "__________________________________________________________________________________________________\n",
      "multiply_117 (Multiply)         (None, 1)            0           lambda_3[0][23]                  \n",
      "                                                                 model_12[1][0]                   \n",
      "__________________________________________________________________________________________________\n",
      "multiply_118 (Multiply)         (None, 1)            0           lambda_3[0][24]                  \n",
      "                                                                 model_12[1][0]                   \n",
      "__________________________________________________________________________________________________\n",
      "multiply_119 (Multiply)         (None, 1)            0           lambda_3[0][25]                  \n",
      "                                                                 model_12[1][0]                   \n",
      "__________________________________________________________________________________________________\n",
      "multiply_120 (Multiply)         (None, 1)            0           lambda_3[0][26]                  \n",
      "                                                                 model_12[1][0]                   \n",
      "__________________________________________________________________________________________________\n",
      "multiply_121 (Multiply)         (None, 1)            0           lambda_3[0][27]                  \n",
      "                                                                 model_12[1][0]                   \n",
      "__________________________________________________________________________________________________\n",
      "multiply_122 (Multiply)         (None, 1)            0           lambda_3[0][28]                  \n",
      "                                                                 model_12[1][0]                   \n",
      "__________________________________________________________________________________________________\n",
      "multiply_123 (Multiply)         (None, 1)            0           lambda_3[0][29]                  \n",
      "                                                                 model_12[1][0]                   \n",
      "__________________________________________________________________________________________________\n",
      "multiply_124 (Multiply)         (None, 1)            0           lambda_3[0][30]                  \n",
      "                                                                 model_12[1][0]                   \n",
      "__________________________________________________________________________________________________\n",
      "multiply_125 (Multiply)         (None, 1)            0           lambda_3[0][31]                  \n",
      "                                                                 model_12[1][0]                   \n",
      "__________________________________________________________________________________________________\n",
      "multiply_126 (Multiply)         (None, 1)            0           lambda_3[0][32]                  \n",
      "                                                                 model_12[1][0]                   \n",
      "__________________________________________________________________________________________________\n",
      "multiply_127 (Multiply)         (None, 1)            0           lambda_3[0][33]                  \n",
      "                                                                 model_12[1][0]                   \n",
      "__________________________________________________________________________________________________\n",
      "multiply_128 (Multiply)         (None, 1)            0           lambda_3[0][34]                  \n",
      "                                                                 model_12[1][0]                   \n",
      "__________________________________________________________________________________________________\n",
      "multiply_129 (Multiply)         (None, 1)            0           lambda_3[0][35]                  \n",
      "                                                                 model_12[1][0]                   \n",
      "__________________________________________________________________________________________________\n",
      "multiply_130 (Multiply)         (None, 1)            0           lambda_3[0][36]                  \n",
      "                                                                 model_12[1][0]                   \n",
      "__________________________________________________________________________________________________\n",
      "multiply_131 (Multiply)         (None, 1)            0           lambda_3[0][37]                  \n",
      "                                                                 model_12[1][0]                   \n",
      "__________________________________________________________________________________________________\n",
      "multiply_132 (Multiply)         (None, 1)            0           lambda_3[0][38]                  \n",
      "                                                                 model_12[1][0]                   \n",
      "__________________________________________________________________________________________________\n",
      "multiply_133 (Multiply)         (None, 1)            0           lambda_3[0][39]                  \n",
      "                                                                 model_12[1][0]                   \n",
      "__________________________________________________________________________________________________\n",
      "multiply_134 (Multiply)         (None, 1)            0           lambda_3[0][40]                  \n",
      "                                                                 model_12[1][0]                   \n",
      "__________________________________________________________________________________________________\n",
      "multiply_135 (Multiply)         (None, 1)            0           lambda_3[0][41]                  \n",
      "                                                                 model_12[1][0]                   \n",
      "__________________________________________________________________________________________________\n",
      "multiply_136 (Multiply)         (None, 1)            0           lambda_3[0][42]                  \n",
      "                                                                 model_12[1][0]                   \n",
      "__________________________________________________________________________________________________\n",
      "dense_96 (Dense)                (None, 1)            1           multiply_94[0][0]                \n",
      "__________________________________________________________________________________________________\n",
      "dense_97 (Dense)                (None, 1)            1           multiply_95[0][0]                \n",
      "__________________________________________________________________________________________________\n",
      "dense_98 (Dense)                (None, 1)            1           multiply_96[0][0]                \n",
      "__________________________________________________________________________________________________\n",
      "dense_99 (Dense)                (None, 1)            1           multiply_97[0][0]                \n",
      "__________________________________________________________________________________________________\n",
      "dense_100 (Dense)               (None, 1)            1           multiply_98[0][0]                \n",
      "__________________________________________________________________________________________________\n",
      "dense_101 (Dense)               (None, 1)            1           multiply_99[0][0]                \n",
      "__________________________________________________________________________________________________\n",
      "dense_102 (Dense)               (None, 1)            1           multiply_100[0][0]               \n",
      "__________________________________________________________________________________________________\n",
      "dense_103 (Dense)               (None, 1)            1           multiply_101[0][0]               \n",
      "__________________________________________________________________________________________________\n",
      "dense_104 (Dense)               (None, 1)            1           multiply_102[0][0]               \n",
      "__________________________________________________________________________________________________\n",
      "dense_105 (Dense)               (None, 1)            1           multiply_103[0][0]               \n",
      "__________________________________________________________________________________________________\n",
      "dense_106 (Dense)               (None, 1)            1           multiply_104[0][0]               \n",
      "__________________________________________________________________________________________________\n",
      "dense_107 (Dense)               (None, 1)            1           multiply_105[0][0]               \n",
      "__________________________________________________________________________________________________\n",
      "dense_108 (Dense)               (None, 1)            1           multiply_106[0][0]               \n",
      "__________________________________________________________________________________________________\n",
      "dense_109 (Dense)               (None, 1)            1           multiply_107[0][0]               \n",
      "__________________________________________________________________________________________________\n",
      "dense_110 (Dense)               (None, 1)            1           multiply_108[0][0]               \n",
      "__________________________________________________________________________________________________\n",
      "dense_111 (Dense)               (None, 1)            1           multiply_109[0][0]               \n",
      "__________________________________________________________________________________________________\n",
      "dense_112 (Dense)               (None, 1)            1           multiply_110[0][0]               \n",
      "__________________________________________________________________________________________________\n",
      "dense_113 (Dense)               (None, 1)            1           multiply_111[0][0]               \n",
      "__________________________________________________________________________________________________\n",
      "dense_114 (Dense)               (None, 1)            1           multiply_112[0][0]               \n",
      "__________________________________________________________________________________________________\n",
      "dense_115 (Dense)               (None, 1)            1           multiply_113[0][0]               \n",
      "__________________________________________________________________________________________________\n",
      "dense_116 (Dense)               (None, 1)            1           multiply_114[0][0]               \n",
      "__________________________________________________________________________________________________\n",
      "dense_117 (Dense)               (None, 1)            1           multiply_115[0][0]               \n",
      "__________________________________________________________________________________________________\n",
      "dense_118 (Dense)               (None, 1)            1           multiply_116[0][0]               \n",
      "__________________________________________________________________________________________________\n",
      "dense_119 (Dense)               (None, 1)            1           multiply_117[0][0]               \n",
      "__________________________________________________________________________________________________\n",
      "dense_120 (Dense)               (None, 1)            1           multiply_118[0][0]               \n",
      "__________________________________________________________________________________________________\n",
      "dense_121 (Dense)               (None, 1)            1           multiply_119[0][0]               \n",
      "__________________________________________________________________________________________________\n",
      "dense_122 (Dense)               (None, 1)            1           multiply_120[0][0]               \n",
      "__________________________________________________________________________________________________\n",
      "dense_123 (Dense)               (None, 1)            1           multiply_121[0][0]               \n",
      "__________________________________________________________________________________________________\n",
      "dense_124 (Dense)               (None, 1)            1           multiply_122[0][0]               \n",
      "__________________________________________________________________________________________________\n",
      "dense_125 (Dense)               (None, 1)            1           multiply_123[0][0]               \n",
      "__________________________________________________________________________________________________\n",
      "dense_126 (Dense)               (None, 1)            1           multiply_124[0][0]               \n",
      "__________________________________________________________________________________________________\n",
      "dense_127 (Dense)               (None, 1)            1           multiply_125[0][0]               \n",
      "__________________________________________________________________________________________________\n",
      "dense_128 (Dense)               (None, 1)            1           multiply_126[0][0]               \n",
      "__________________________________________________________________________________________________\n",
      "dense_129 (Dense)               (None, 1)            1           multiply_127[0][0]               \n",
      "__________________________________________________________________________________________________\n",
      "dense_130 (Dense)               (None, 1)            1           multiply_128[0][0]               \n",
      "__________________________________________________________________________________________________\n",
      "dense_131 (Dense)               (None, 1)            1           multiply_129[0][0]               \n",
      "__________________________________________________________________________________________________\n",
      "dense_132 (Dense)               (None, 1)            1           multiply_130[0][0]               \n",
      "__________________________________________________________________________________________________\n",
      "dense_133 (Dense)               (None, 1)            1           multiply_131[0][0]               \n",
      "__________________________________________________________________________________________________\n",
      "dense_134 (Dense)               (None, 1)            1           multiply_132[0][0]               \n",
      "__________________________________________________________________________________________________\n",
      "dense_135 (Dense)               (None, 1)            1           multiply_133[0][0]               \n",
      "__________________________________________________________________________________________________\n",
      "dense_136 (Dense)               (None, 1)            1           multiply_134[0][0]               \n",
      "__________________________________________________________________________________________________\n",
      "dense_137 (Dense)               (None, 1)            1           multiply_135[0][0]               \n",
      "__________________________________________________________________________________________________\n",
      "dense_138 (Dense)               (None, 1)            1           multiply_136[0][0]               \n",
      "__________________________________________________________________________________________________\n",
      "concatenate (Lambda)            (None, 43)           0           dense_96[0][0]                   \n",
      "                                                                 dense_97[0][0]                   \n",
      "                                                                 dense_98[0][0]                   \n",
      "                                                                 dense_99[0][0]                   \n",
      "                                                                 dense_100[0][0]                  \n",
      "                                                                 dense_101[0][0]                  \n",
      "                                                                 dense_102[0][0]                  \n",
      "                                                                 dense_103[0][0]                  \n",
      "                                                                 dense_104[0][0]                  \n",
      "                                                                 dense_105[0][0]                  \n",
      "                                                                 dense_106[0][0]                  \n",
      "                                                                 dense_107[0][0]                  \n",
      "                                                                 dense_108[0][0]                  \n",
      "                                                                 dense_109[0][0]                  \n",
      "                                                                 dense_110[0][0]                  \n",
      "                                                                 dense_111[0][0]                  \n",
      "                                                                 dense_112[0][0]                  \n",
      "                                                                 dense_113[0][0]                  \n",
      "                                                                 dense_114[0][0]                  \n",
      "                                                                 dense_115[0][0]                  \n",
      "                                                                 dense_116[0][0]                  \n",
      "                                                                 dense_117[0][0]                  \n",
      "                                                                 dense_118[0][0]                  \n",
      "                                                                 dense_119[0][0]                  \n",
      "                                                                 dense_120[0][0]                  \n",
      "                                                                 dense_121[0][0]                  \n",
      "                                                                 dense_122[0][0]                  \n",
      "                                                                 dense_123[0][0]                  \n",
      "                                                                 dense_124[0][0]                  \n",
      "                                                                 dense_125[0][0]                  \n",
      "                                                                 dense_126[0][0]                  \n",
      "                                                                 dense_127[0][0]                  \n",
      "                                                                 dense_128[0][0]                  \n",
      "                                                                 dense_129[0][0]                  \n",
      "                                                                 dense_130[0][0]                  \n",
      "                                                                 dense_131[0][0]                  \n",
      "                                                                 dense_132[0][0]                  \n",
      "                                                                 dense_133[0][0]                  \n",
      "                                                                 dense_134[0][0]                  \n",
      "                                                                 dense_135[0][0]                  \n",
      "                                                                 dense_136[0][0]                  \n",
      "                                                                 dense_137[0][0]                  \n",
      "                                                                 dense_138[0][0]                  \n",
      "__________________________________________________________________________________________________\n",
      "dense_139 (Dense)               (None, 1)            44          concatenate[0][0]                \n",
      "==================================================================================================\n",
      "Total params: 1,587\n",
      "Trainable params: 1,587\n",
      "Non-trainable params: 0\n",
      "__________________________________________________________________________________________________\n"
     ]
    }
   ],
   "source": [
    "htm = Human_Terms_Network(input_shape=X_train.shape[1], human_terms_shape=len(word_list))\n",
    "\n",
    "# Plan\n",
    "# Set the data\n",
    "# including the y_agreement"
   ]
  },
  {
   "cell_type": "code",
   "execution_count": 78,
   "metadata": {},
   "outputs": [],
   "source": [
    "y_tanh_train = y_train\n",
    "y_tanh_test = y_test\n",
    "\n",
    "y_tanh_train[y_tanh_train==0] = -1\n",
    "y_tanh_test[y_tanh_test==0] = -1"
   ]
  },
  {
   "cell_type": "code",
   "execution_count": 80,
   "metadata": {},
   "outputs": [
    {
     "name": "stdout",
     "output_type": "stream",
     "text": [
      "Train on 22069 samples, validate on 10870 samples\n",
      "Epoch 1/10\n",
      "22069/22069 [==============================] - 66s 3ms/step - loss: 0.2466 - mean_absolute_error: 0.3190 - acc: 0.8277 - val_loss: 0.2481 - val_mean_absolute_error: 0.3185 - val_acc: 0.8206\n",
      "Epoch 2/10\n",
      "22069/22069 [==============================] - 66s 3ms/step - loss: 0.2298 - mean_absolute_error: 0.3020 - acc: 0.8340 - val_loss: 0.2394 - val_mean_absolute_error: 0.3009 - val_acc: 0.8332\n",
      "Epoch 3/10\n",
      "22069/22069 [==============================] - 64s 3ms/step - loss: 0.2204 - mean_absolute_error: 0.2906 - acc: 0.8393 - val_loss: 0.2344 - val_mean_absolute_error: 0.2963 - val_acc: 0.8344\n",
      "Epoch 4/10\n",
      "22069/22069 [==============================] - 65s 3ms/step - loss: 0.2138 - mean_absolute_error: 0.2826 - acc: 0.8434 - val_loss: 0.2308 - val_mean_absolute_error: 0.2906 - val_acc: 0.8375\n",
      "Epoch 5/10\n",
      "22069/22069 [==============================] - 65s 3ms/step - loss: 0.2088 - mean_absolute_error: 0.2767 - acc: 0.8466 - val_loss: 0.2280 - val_mean_absolute_error: 0.2828 - val_acc: 0.8421\n",
      "Epoch 6/10\n",
      "22069/22069 [==============================] - 66s 3ms/step - loss: 0.2049 - mean_absolute_error: 0.2713 - acc: 0.8492 - val_loss: 0.2262 - val_mean_absolute_error: 0.2834 - val_acc: 0.8394\n",
      "Epoch 7/10\n",
      "22069/22069 [==============================] - 66s 3ms/step - loss: 0.2016 - mean_absolute_error: 0.2674 - acc: 0.8505 - val_loss: 0.2247 - val_mean_absolute_error: 0.2816 - val_acc: 0.8391\n",
      "Epoch 8/10\n",
      "22069/22069 [==============================] - 65s 3ms/step - loss: 0.1989 - mean_absolute_error: 0.2639 - acc: 0.8527 - val_loss: 0.2228 - val_mean_absolute_error: 0.2740 - val_acc: 0.8442\n",
      "Epoch 9/10\n",
      "22069/22069 [==============================] - 65s 3ms/step - loss: 0.1965 - mean_absolute_error: 0.2604 - acc: 0.8547 - val_loss: 0.2217 - val_mean_absolute_error: 0.2721 - val_acc: 0.8442\n",
      "Epoch 10/10\n",
      "22069/22069 [==============================] - 65s 3ms/step - loss: 0.1944 - mean_absolute_error: 0.2574 - acc: 0.8559 - val_loss: 0.2206 - val_mean_absolute_error: 0.2692 - val_acc: 0.8461\n"
     ]
    },
    {
     "data": {
      "text/plain": [
       "<keras.callbacks.History at 0x1faad1b8550>"
      ]
     },
     "execution_count": 80,
     "metadata": {},
     "output_type": "execute_result"
    }
   ],
   "source": [
    "htm.base_combined.fit(X_train, y_tanh_train, validation_data=(X_test, y_tanh_test), epochs=10, batch_size=1)"
   ]
  },
  {
   "cell_type": "code",
   "execution_count": 81,
   "metadata": {},
   "outputs": [
    {
     "name": "stdout",
     "output_type": "stream",
     "text": [
      "Train on 22069 samples, validate on 10870 samples\n",
      "Epoch 1/10\n",
      "22069/22069 [==============================] - 103s 5ms/step - loss: 0.3749 - mean_absolute_error: 0.4454 - acc: 0.8865 - val_loss: 0.3508 - val_mean_absolute_error: 0.4022 - val_acc: 0.8920\n",
      "Epoch 2/10\n",
      "22069/22069 [==============================] - 102s 5ms/step - loss: 0.3506 - mean_absolute_error: 0.3898 - acc: 0.8886 - val_loss: 0.3418 - val_mean_absolute_error: 0.3794 - val_acc: 0.8906\n",
      "Epoch 3/10\n",
      "22069/22069 [==============================] - 102s 5ms/step - loss: 0.3424 - mean_absolute_error: 0.3752 - acc: 0.8870 - val_loss: 0.3360 - val_mean_absolute_error: 0.3692 - val_acc: 0.8889\n",
      "Epoch 4/10\n",
      "22069/22069 [==============================] - 102s 5ms/step - loss: 0.3365 - mean_absolute_error: 0.3660 - acc: 0.8862 - val_loss: 0.3318 - val_mean_absolute_error: 0.3628 - val_acc: 0.8870\n",
      "Epoch 5/10\n",
      "22069/22069 [==============================] - 102s 5ms/step - loss: 0.3319 - mean_absolute_error: 0.3600 - acc: 0.8851 - val_loss: 0.3282 - val_mean_absolute_error: 0.3582 - val_acc: 0.8861\n",
      "Epoch 6/10\n",
      "22069/22069 [==============================] - 103s 5ms/step - loss: 0.3281 - mean_absolute_error: 0.3551 - acc: 0.8845 - val_loss: 0.3257 - val_mean_absolute_error: 0.3535 - val_acc: 0.8854\n",
      "Epoch 7/10\n",
      "22069/22069 [==============================] - 102s 5ms/step - loss: 0.3249 - mean_absolute_error: 0.3514 - acc: 0.8840 - val_loss: 0.3232 - val_mean_absolute_error: 0.3504 - val_acc: 0.8841\n",
      "Epoch 8/10\n",
      "22069/22069 [==============================] - 102s 5ms/step - loss: 0.3222 - mean_absolute_error: 0.3480 - acc: 0.8835 - val_loss: 0.3209 - val_mean_absolute_error: 0.3482 - val_acc: 0.8832\n",
      "Epoch 9/10\n",
      "22069/22069 [==============================] - 102s 5ms/step - loss: 0.3199 - mean_absolute_error: 0.3454 - acc: 0.8833 - val_loss: 0.3194 - val_mean_absolute_error: 0.3451 - val_acc: 0.8831\n",
      "Epoch 10/10\n",
      "22069/22069 [==============================] - 102s 5ms/step - loss: 0.3178 - mean_absolute_error: 0.3423 - acc: 0.8831 - val_loss: 0.3177 - val_mean_absolute_error: 0.3433 - val_acc: 0.8830\n"
     ]
    },
    {
     "data": {
      "text/plain": [
       "<keras.callbacks.History at 0x1faaf01bfd0>"
      ]
     },
     "execution_count": 81,
     "metadata": {},
     "output_type": "execute_result"
    }
   ],
   "source": [
    "htm.combined.fit([X_train, y_train_agreement], y_train, validation_data=([X_test, y_test_agreement], y_test),\n",
    "                epochs=10, batch_size=1)"
   ]
  },
  {
   "cell_type": "code",
   "execution_count": 82,
   "metadata": {},
   "outputs": [],
   "source": [
    "# Print report on the word transparency\n",
    "index = [9, 19]\n",
    "def report():\n",
    "    for i in index:\n",
    "        print()\n",
    "        bm = htm.base_combined.predict(X_test[i])\n",
    "        \n",
    "        cm = htm.combined.predict([X_test[i], \n",
    "                                np.reshape(y_test_agreement[i], (1,y_test_agreement.shape[1]))])\n",
    "        \n",
    "#         document_output = 'multiply'\n",
    "#         document_predict = Model(inputs=combined_model.input,\n",
    "#                                      outputs=combined_model.get_layer(document_output).output)\n",
    "#         doc_output = document_predict.predict([np.reshape(data[i], (1,5)), \n",
    "#                                       ht_1_input[i], \n",
    "#                                       ht_2_input[i], \n",
    "#                                       ht_3_input[i], \n",
    "#                                       ht_4_input[i]])\n",
    "        \n",
    "        layer_name = 'concatenate'\n",
    "        concat_after_relu = Model(inputs=htm.combined.input,\n",
    "                                     outputs=htm.combined.get_layer(layer_name).output)\n",
    "        concat_output = concat_after_relu.predict([X_test[i], \n",
    "                                np.reshape(y_test_agreement[i], (1,y_test_agreement.shape[1]))])\n",
    "        \n",
    "        print(X_test_corpus_update[i], '\\n\\n actual label : ', y_test[i], '\\n predict from base model : ', bm.flatten(), '\\n predict label : ', cm.flatten())\n",
    "    \n",
    "        for i,output in enumerate(concat_output.flatten()):\n",
    "            if output != 0:\n",
    "                print(word_list[i], output)"
   ]
  },
  {
   "cell_type": "code",
   "execution_count": 83,
   "metadata": {},
   "outputs": [
    {
     "name": "stdout",
     "output_type": "stream",
     "text": [
      "\n",
      "love this program.  the actors are great and the story line is good.  i was glad to see season 4 coming. \n",
      "\n",
      " actual label :  1.0 \n",
      " predict from base model :  [0.9865903] \n",
      " predict label :  [0.998204]\n",
      "glad 1.2505562\n",
      "love 2.3989544\n",
      "great 2.2678626\n",
      "\n",
      "in a few simple words... i loved it. it was fresh and entertaining. my only critique is that 30 minutes seems a little short for a seemingly deep story driven show. print it... and make more i say. \n",
      "\n",
      " actual label :  1.0 \n",
      " predict from base model :  [0.5381236] \n",
      " predict label :  [0.9508625]\n",
      "love 1.3084803\n",
      "entertaining 1.012051\n"
     ]
    }
   ],
   "source": [
    "report()"
   ]
  },
  {
   "cell_type": "markdown",
   "metadata": {},
   "source": [
    "## See the colorweighted"
   ]
  },
  {
   "cell_type": "code",
   "execution_count": 89,
   "metadata": {},
   "outputs": [],
   "source": [
    "import re\n",
    "from coloredweighteddoc import ColoredWeightedDoc"
   ]
  },
  {
   "cell_type": "code",
   "execution_count": 90,
   "metadata": {},
   "outputs": [
    {
     "name": "stdout",
     "output_type": "stream",
     "text": [
      "actual label :  1.0 \n",
      "predict from base model :  [0.92732227] \n",
      "predict label :  [0.9585747]\n",
      "\n",
      "love 2.2548404\n"
     ]
    },
    {
     "data": {
      "text/html": [
       "<font size = 3, color=blue> love </font><font size = 1, color=gainsboro> this </font><font size = 1, color=gainsboro> show! </font><font size = 1, color=gainsboro>  </font><font size = 1, color=gainsboro> hate </font><font size = 1, color=gainsboro> waiting </font><font size = 1, color=gainsboro> from </font><font size = 1, color=gainsboro> week-to-week </font><font size = 1, color=gainsboro> to </font><font size = 1, color=gainsboro> see </font><font size = 1, color=gainsboro> what </font><font size = 1, color=gainsboro> is </font><font size = 1, color=gainsboro> going </font><font size = 1, color=gainsboro> to </font><font size = 1, color=gainsboro> happen </font><font size = 1, color=gainsboro> next. </font><font size = 1, color=gainsboro>  </font><font size = 1, color=gainsboro> just </font><font size = 1, color=gainsboro> when </font><font size = 1, color=gainsboro> you </font><font size = 1, color=gainsboro> think </font><font size = 1, color=gainsboro> things </font><font size = 1, color=gainsboro> are </font><font size = 1, color=gainsboro> going </font><font size = 1, color=gainsboro> in </font><font size = 1, color=gainsboro> one </font><font size = 1, color=gainsboro> direction, </font><font size = 1, color=gainsboro> the </font><font size = 1, color=gainsboro> show </font><font size = 1, color=gainsboro> takes </font><font size = 1, color=gainsboro> it </font><font size = 1, color=gainsboro> in </font><font size = 1, color=gainsboro> another </font><font size = 1, color=gainsboro> direction. </font>"
      ],
      "text/plain": [
       "<coloredweighteddoc.ColoredWeightedDoc at 0x1fab011acc0>"
      ]
     },
     "metadata": {},
     "output_type": "display_data"
    }
   ],
   "source": [
    "from IPython import display\n",
    "idx = 1002\n",
    "# idx = 9002\n",
    "bm = htm.base_combined.predict(X_test[idx])\n",
    "        \n",
    "cm = htm.combined.predict([X_test[idx], \n",
    "                             np.reshape(y_test_agreement[idx], (1,y_test_agreement.shape[1]))])\n",
    "        \n",
    "layer_name = 'concatenate'\n",
    "concat_after_relu = Model(inputs=htm.combined.input,\n",
    "                          outputs=htm.combined.get_layer(layer_name).output)\n",
    "concat_output = concat_after_relu.predict([X_test[idx], np.reshape(y_test_agreement[idx], (1,y_test_agreement.shape[1]))])\n",
    "        \n",
    "print('actual label : ', y_test[idx], '\\npredict from base model : ', bm.flatten(), '\\npredict label : ', cm.flatten())\n",
    "print()\n",
    "for i,output in enumerate(concat_output.flatten()):\n",
    "    if output != 0:\n",
    "        print(word_list[i], output)\n",
    "\n",
    "\n",
    "ht_weight = concat_output.flatten()\n",
    "display.display(ColoredWeightedDoc(X_test_corpus_update[idx], word_list, ht_weight, binary = False))"
   ]
  },
  {
   "cell_type": "code",
   "execution_count": 88,
   "metadata": {},
   "outputs": [
    {
     "data": {
      "text/plain": [
       "['hooked',\n",
       " 'paced',\n",
       " 'glad',\n",
       " 'battle',\n",
       " 'perfect',\n",
       " 'intense',\n",
       " 'love',\n",
       " 'enjoyed',\n",
       " 'suspenseful',\n",
       " 'effective',\n",
       " 'favorites',\n",
       " 'amazing',\n",
       " 'disappoint',\n",
       " 'outstanding',\n",
       " 'laughed',\n",
       " 'great',\n",
       " 'excellent',\n",
       " 'entertaining',\n",
       " 'hilarious',\n",
       " 'satisfying',\n",
       " 'waste',\n",
       " 'poorly',\n",
       " 'terrible',\n",
       " 'boring',\n",
       " 'worst',\n",
       " 'barely',\n",
       " 'sadly',\n",
       " 'paid',\n",
       " 'none',\n",
       " 'awful',\n",
       " 'boyfriend',\n",
       " 'equally',\n",
       " 'poor',\n",
       " 'horrible',\n",
       " 'unbelievable',\n",
       " 'dumb',\n",
       " 'emotional',\n",
       " 'disappointing',\n",
       " 'purpose',\n",
       " 'stupid',\n",
       " 'lame',\n",
       " 'worthy',\n",
       " 'worse']"
      ]
     },
     "execution_count": 88,
     "metadata": {},
     "output_type": "execute_result"
    }
   ],
   "source": [
    "word_list"
   ]
  },
  {
   "cell_type": "code",
   "execution_count": 87,
   "metadata": {},
   "outputs": [
    {
     "data": {
      "text/plain": [
       "43"
      ]
     },
     "execution_count": 87,
     "metadata": {},
     "output_type": "execute_result"
    }
   ],
   "source": [
    "len(word_list)"
   ]
  },
  {
   "cell_type": "code",
   "execution_count": null,
   "metadata": {},
   "outputs": [],
   "source": []
  }
 ],
 "metadata": {
  "kernelspec": {
   "display_name": "Python 3",
   "language": "python",
   "name": "python3"
  },
  "language_info": {
   "codemirror_mode": {
    "name": "ipython",
    "version": 3
   },
   "file_extension": ".py",
   "mimetype": "text/x-python",
   "name": "python",
   "nbconvert_exporter": "python",
   "pygments_lexer": "ipython3",
   "version": "3.6.6"
  }
 },
 "nbformat": 4,
 "nbformat_minor": 2
}
